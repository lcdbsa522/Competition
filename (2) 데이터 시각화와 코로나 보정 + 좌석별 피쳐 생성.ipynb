{
 "cells": [
  {
   "cell_type": "code",
   "execution_count": 16,
   "id": "4c16c4ee",
   "metadata": {
    "scrolled": true
   },
   "outputs": [],
   "source": [
    "import pandas as pd\n",
    "import numpy as np\n",
    "import matplotlib.pyplot as plt\n",
    "import seaborn as sns\n",
    "import re\n",
    "\n",
    "sns.set_theme(style='whitegrid', font_scale=1.5)\n",
    "sns.set_palette('rocket', n_colors=10)\n",
    "plt.rc('font', family='malgun gothic')\n",
    "plt.rc('axes', unicode_minus=False)"
   ]
  },
  {
   "cell_type": "code",
   "execution_count": 17,
   "id": "f4e93f78",
   "metadata": {},
   "outputs": [],
   "source": [
    "import warnings\n",
    "pd.options.display.max_columns = None\n",
    "warnings.simplefilter(action='ignore')"
   ]
  },
  {
   "cell_type": "markdown",
   "id": "90c7a412",
   "metadata": {},
   "source": [
    "### 장르별 콘서트홀 데이터 불러오기"
   ]
  },
  {
   "cell_type": "code",
   "execution_count": 18,
   "id": "105348b5",
   "metadata": {},
   "outputs": [],
   "source": [
    "symp = pd.read_csv('콘서트홀_교향곡.csv')\n",
    "clas = pd.read_csv('콘서트홀_클래식.csv')\n",
    "chor = pd.read_csv('콘서트홀_합창.csv')\n",
    "solo = pd.read_csv('콘서트홀_독주.csv')\n",
    "voca = pd.read_csv('콘서트홀_성악.csv')\n",
    "cham = pd.read_csv('콘서트홀_실내악.csv')\n",
    "oper = pd.read_csv('콘서트홀_오페라.csv')\n",
    "conc = pd.read_csv('콘서트홀_콘서트.csv')\n",
    "comp = pd.read_csv('콘서트홀_복합장르.csv')\n",
    "etc = pd.read_csv('콘서트홀_기타.csv')\n",
    "jazz = pd.read_csv('콘서트홀_재즈.csv')\n",
    "cros = pd.read_csv('콘서트홀_크로스오버.csv')"
   ]
  },
  {
   "cell_type": "code",
   "execution_count": 19,
   "id": "45256cc2",
   "metadata": {},
   "outputs": [],
   "source": [
    "conlist = [symp, clas, chor, solo, voca, cham, oper, conc, comp, etc, jazz, cros]"
   ]
  },
  {
   "cell_type": "markdown",
   "id": "d5de049c",
   "metadata": {},
   "source": [
    "* * *"
   ]
  },
  {
   "cell_type": "code",
   "execution_count": 20,
   "id": "36a18c5e",
   "metadata": {},
   "outputs": [],
   "source": [
    "# 장르별로 카운트 다시\n",
    "for c in conlist:\n",
    "    c['seat_member_count'] = c.groupby('seat')['member_yn'].transform('sum')\n",
    "    c['seat_paid_member_count'] = c.groupby('seat')['paid_member'].transform('sum')\n",
    "    c['seat_pre_date_gap'] = c.groupby('seat')['pre_date_gap'].transform('median')"
   ]
  },
  {
   "cell_type": "markdown",
   "id": "60e49ee9",
   "metadata": {},
   "source": [
    "# [코로나 기간 보정]\n",
    "## 좌석 count 변수 보정\n",
    "**▶ 기간 : 2020.03.22 ~ 2022.01.01**\n",
    "- 코로나 기간 동안 실행된 거리두기 정책으로 인해 한 칸 내지 두 칸 띄어앉기 기간 有\n",
    "- 그러나 클러스터링에 활용되는 좌석 예매 횟수는 상대적인 수치이므로, **별도의 코로나 기간 보정 없이 제외하는 것**이 낫다고 판단.\n",
    "- 코로나 기간의 예매 내역은 **좌석 예매 횟수 count에 반영하지 않도록** 처리 (예매 내역 자체는 보존)"
   ]
  },
  {
   "cell_type": "code",
   "execution_count": 21,
   "id": "e2a172d9",
   "metadata": {},
   "outputs": [],
   "source": [
    "def corona_count(data):\n",
    "    # 코로나 기간에 해당되지 않는 데이터는 1, 코로나 기간은 0으로 설정하는 열 생성\n",
    "    data['for_count'] = ((data['play_date'] <= '2020-03-22') | (data['play_date'] >= '2022-01-01')).astype(int)\n",
    "    data['seat_count_covid'] = data.groupby('seat')['for_count'].transform('sum')\n",
    "    data.drop(columns=['for_count'], inplace=True)"
   ]
  },
  {
   "cell_type": "code",
   "execution_count": 22,
   "id": "71c5ef71",
   "metadata": {},
   "outputs": [],
   "source": [
    "for c in conlist:\n",
    "    corona_count(c) # 코로나 기간 보정한 count 열\n",
    "    c['seat_count'] = c['seat'].map(c['seat'].value_counts()) # 코로나 기간 보정 없는 count"
   ]
  },
  {
   "cell_type": "markdown",
   "id": "eaab5c1d",
   "metadata": {},
   "source": [
    "## 코로나 기간 공연별 예매율 변수 보정\n",
    "- 거리두기 정책으로 인해 공연당 관람 가능 좌석이 줄어들어 전체적인 예매율이 낮게 형성됨\n",
    "- **전체 기간의 평균 예매율**을 기준으로 코로나 기간의 예매율을 전반적으로 보정 처리 "
   ]
  },
  {
   "cell_type": "code",
   "execution_count": 23,
   "id": "48d1cbbf",
   "metadata": {},
   "outputs": [],
   "source": [
    "# 코로나 기간의 띄어앉기 정책으로 인한 예매율 보정\n",
    "\n",
    "for c in conlist:\n",
    "    corona = c.sort_values('play_date')\n",
    "    corona = c.drop_duplicates(subset='code', keep='first')\n",
    "    corona.loc[(corona['play_date'] >= '2020-03-22') & (corona['play_date'] <= '2022-01-01'), 'advance_rate'] += (corona['advance_rate'].mean() - corona[(corona['play_date'] >= '2020-03-22') & (corona['play_date'] <= '2022-01-01')]['advance_rate'].mean())\n",
    "    c['advance_rate'] = c['code'].map(corona.set_index('code')['advance_rate'])"
   ]
  },
  {
   "cell_type": "markdown",
   "id": "7f9b8ef4",
   "metadata": {},
   "source": [
    "* * *"
   ]
  },
  {
   "cell_type": "markdown",
   "id": "eeeaa9f5",
   "metadata": {},
   "source": [
    "## 좌석별 - 초대권 빈도, 할인율, 유료멤버십 비율 "
   ]
  },
  {
   "cell_type": "code",
   "execution_count": 25,
   "id": "ad051b3d",
   "metadata": {},
   "outputs": [],
   "source": [
    "# 초대권 빈도 수 / 결측치인 좌석은 0\n",
    "for c in conlist:\n",
    "    invitations = c['discount_type'] == '초대권'\n",
    "    c['초대권빈도'] = c[invitations].groupby('seat')['discount_type'].transform('count')\n",
    "    c['초대권빈도'].fillna(0, inplace=True)"
   ]
  },
  {
   "cell_type": "code",
   "execution_count": 26,
   "id": "3a1c92ec",
   "metadata": {},
   "outputs": [],
   "source": [
    "# 좌석별 할인율 평균\n",
    "for c in conlist:\n",
    "    c['discount_percentage'].fillna(0, inplace=True)\n",
    "    c['discount_percentage'] = c['discount_percentage'].astype(int)\n",
    "    c['seat_discount_percentage'] = c.groupby('seat')['discount_percentage'].transform('mean')"
   ]
  },
  {
   "cell_type": "code",
   "execution_count": 27,
   "id": "f7dc3569",
   "metadata": {},
   "outputs": [],
   "source": [
    "# 좌석별 유료멤버의 비율, 기존 유료멤버십 카운트 열 삭제 - 대체적으로 1층 C블록 가운데 쯤이 높은거 확인\n",
    "for c in conlist:\n",
    "    c['seat_count'] = c.groupby('seat')['seat'].transform('count')\n",
    "    c['seat_paid_member_rate'] = c['seat_paid_member_count'] / (c['seat_count_covid']+c['seat_count'])\n",
    "    c.drop('seat_paid_member_count', axis=1, inplace=True)"
   ]
  },
  {
   "cell_type": "code",
   "execution_count": null,
   "id": "cf1fd8cd",
   "metadata": {},
   "outputs": [],
   "source": []
  },
  {
   "cell_type": "markdown",
   "id": "2a52bfb8",
   "metadata": {},
   "source": [
    "# [데이터 시각화]\n",
    "## 좌석 분포 시각화"
   ]
  },
  {
   "cell_type": "code",
   "execution_count": 9,
   "id": "bb82db7d",
   "metadata": {},
   "outputs": [],
   "source": [
    "cnt = 0\n",
    "block_mapping = {'A': 1, 'B': 2, 'C': 3, 'D': 4, 'E': 5, 'F': 6, 'G': 7, 'N': 8, 'M': 9}"
   ]
  },
  {
   "cell_type": "code",
   "execution_count": null,
   "id": "7f924026",
   "metadata": {
    "collapsed": true
   },
   "outputs": [
    {
     "name": "stdout",
     "output_type": "stream",
     "text": [
      "1번째 완료!\n"
     ]
    },
    {
     "ename": "KeyboardInterrupt",
     "evalue": "",
     "output_type": "error",
     "traceback": [
      "\u001b[1;31m---------------------------------------------------------------------------\u001b[0m",
      "\u001b[1;31mKeyboardInterrupt\u001b[0m                         Traceback (most recent call last)",
      "Input \u001b[1;32mIn [10]\u001b[0m, in \u001b[0;36m<cell line: 1>\u001b[1;34m()\u001b[0m\n\u001b[0;32m     23\u001b[0m heatmap_data \u001b[38;5;241m=\u001b[39m block_df\u001b[38;5;241m.\u001b[39mpivot(index\u001b[38;5;241m=\u001b[39m\u001b[38;5;124m'\u001b[39m\u001b[38;5;124m열\u001b[39m\u001b[38;5;124m'\u001b[39m, columns\u001b[38;5;241m=\u001b[39m\u001b[38;5;124m'\u001b[39m\u001b[38;5;124m번호\u001b[39m\u001b[38;5;124m'\u001b[39m, values\u001b[38;5;241m=\u001b[39m\u001b[38;5;124m'\u001b[39m\u001b[38;5;124mseat_count_covid\u001b[39m\u001b[38;5;124m'\u001b[39m)\u001b[38;5;241m.\u001b[39msort_values(by\u001b[38;5;241m=\u001b[39m\u001b[38;5;124m'\u001b[39m\u001b[38;5;124m열\u001b[39m\u001b[38;5;124m'\u001b[39m, ascending\u001b[38;5;241m=\u001b[39m\u001b[38;5;28;01mFalse\u001b[39;00m)\n\u001b[0;32m     24\u001b[0m heatmap_data \u001b[38;5;241m=\u001b[39m heatmap_data[\u001b[38;5;28msorted\u001b[39m(heatmap_data\u001b[38;5;241m.\u001b[39mcolumns, key\u001b[38;5;241m=\u001b[39m\u001b[38;5;28mint\u001b[39m)]\n\u001b[1;32m---> 25\u001b[0m \u001b[43msns\u001b[49m\u001b[38;5;241;43m.\u001b[39;49m\u001b[43mheatmap\u001b[49m\u001b[43m(\u001b[49m\u001b[43mheatmap_data\u001b[49m\u001b[43m,\u001b[49m\u001b[43m \u001b[49m\u001b[43mcmap\u001b[49m\u001b[38;5;241;43m=\u001b[39;49m\u001b[38;5;124;43m\"\u001b[39;49m\u001b[38;5;124;43mBlues\u001b[39;49m\u001b[38;5;124;43m\"\u001b[39;49m\u001b[43m,\u001b[49m\u001b[43m \u001b[49m\u001b[43mcbar\u001b[49m\u001b[38;5;241;43m=\u001b[39;49m\u001b[38;5;28;43;01mFalse\u001b[39;49;00m\u001b[43m,\u001b[49m\u001b[43m \u001b[49m\u001b[43mannot\u001b[49m\u001b[38;5;241;43m=\u001b[39;49m\u001b[38;5;28;43;01mTrue\u001b[39;49;00m\u001b[43m,\u001b[49m\u001b[43m \u001b[49m\u001b[43mfmt\u001b[49m\u001b[38;5;241;43m=\u001b[39;49m\u001b[38;5;124;43m'\u001b[39;49m\u001b[38;5;124;43mg\u001b[39;49m\u001b[38;5;124;43m'\u001b[39;49m\u001b[43m,\u001b[49m\u001b[43m \u001b[49m\u001b[43mvmin\u001b[49m\u001b[38;5;241;43m=\u001b[39;49m\u001b[43mvmin\u001b[49m\u001b[43m,\u001b[49m\u001b[43m \u001b[49m\u001b[43mvmax\u001b[49m\u001b[38;5;241;43m=\u001b[39;49m\u001b[43mvmax\u001b[49m\u001b[43m,\u001b[49m\u001b[43m \u001b[49m\u001b[43max\u001b[49m\u001b[38;5;241;43m=\u001b[39;49m\u001b[43max\u001b[49m\u001b[43m)\u001b[49m\n\u001b[0;32m     27\u001b[0m ax\u001b[38;5;241m.\u001b[39mset_aspect(\u001b[38;5;241m1\u001b[39m)\n\u001b[0;32m     29\u001b[0m plt\u001b[38;5;241m.\u001b[39mtitle(\u001b[38;5;124mf\u001b[39m\u001b[38;5;124m'\u001b[39m\u001b[38;5;124mFloor: \u001b[39m\u001b[38;5;132;01m{\u001b[39;00mfloor\u001b[38;5;132;01m}\u001b[39;00m\u001b[38;5;124m, Block: \u001b[39m\u001b[38;5;132;01m{\u001b[39;00mblock\u001b[38;5;132;01m}\u001b[39;00m\u001b[38;5;124m'\u001b[39m)\n",
      "File \u001b[1;32m~\\anaconda3\\lib\\site-packages\\seaborn\\matrix.py:459\u001b[0m, in \u001b[0;36mheatmap\u001b[1;34m(data, vmin, vmax, cmap, center, robust, annot, fmt, annot_kws, linewidths, linecolor, cbar, cbar_kws, cbar_ax, square, xticklabels, yticklabels, mask, ax, **kwargs)\u001b[0m\n\u001b[0;32m    457\u001b[0m \u001b[38;5;28;01mif\u001b[39;00m square:\n\u001b[0;32m    458\u001b[0m     ax\u001b[38;5;241m.\u001b[39mset_aspect(\u001b[38;5;124m\"\u001b[39m\u001b[38;5;124mequal\u001b[39m\u001b[38;5;124m\"\u001b[39m)\n\u001b[1;32m--> 459\u001b[0m \u001b[43mplotter\u001b[49m\u001b[38;5;241;43m.\u001b[39;49m\u001b[43mplot\u001b[49m\u001b[43m(\u001b[49m\u001b[43max\u001b[49m\u001b[43m,\u001b[49m\u001b[43m \u001b[49m\u001b[43mcbar_ax\u001b[49m\u001b[43m,\u001b[49m\u001b[43m \u001b[49m\u001b[43mkwargs\u001b[49m\u001b[43m)\u001b[49m\n\u001b[0;32m    460\u001b[0m \u001b[38;5;28;01mreturn\u001b[39;00m ax\n",
      "File \u001b[1;32m~\\anaconda3\\lib\\site-packages\\seaborn\\matrix.py:340\u001b[0m, in \u001b[0;36m_HeatMapper.plot\u001b[1;34m(self, ax, cax, kws)\u001b[0m\n\u001b[0;32m    337\u001b[0m plt\u001b[38;5;241m.\u001b[39msetp(ytl, va\u001b[38;5;241m=\u001b[39m\u001b[38;5;124m\"\u001b[39m\u001b[38;5;124mcenter\u001b[39m\u001b[38;5;124m\"\u001b[39m)  \u001b[38;5;66;03m# GH2484\u001b[39;00m\n\u001b[0;32m    339\u001b[0m \u001b[38;5;66;03m# Possibly rotate them if they overlap\u001b[39;00m\n\u001b[1;32m--> 340\u001b[0m \u001b[43m_draw_figure\u001b[49m\u001b[43m(\u001b[49m\u001b[43max\u001b[49m\u001b[38;5;241;43m.\u001b[39;49m\u001b[43mfigure\u001b[49m\u001b[43m)\u001b[49m\n\u001b[0;32m    342\u001b[0m \u001b[38;5;28;01mif\u001b[39;00m axis_ticklabels_overlap(xtl):\n\u001b[0;32m    343\u001b[0m     plt\u001b[38;5;241m.\u001b[39msetp(xtl, rotation\u001b[38;5;241m=\u001b[39m\u001b[38;5;124m\"\u001b[39m\u001b[38;5;124mvertical\u001b[39m\u001b[38;5;124m\"\u001b[39m)\n",
      "File \u001b[1;32m~\\anaconda3\\lib\\site-packages\\seaborn\\utils.py:80\u001b[0m, in \u001b[0;36m_draw_figure\u001b[1;34m(fig)\u001b[0m\n\u001b[0;32m     78\u001b[0m \u001b[38;5;250m\u001b[39m\u001b[38;5;124;03m\"\"\"Force draw of a matplotlib figure, accounting for back-compat.\"\"\"\u001b[39;00m\n\u001b[0;32m     79\u001b[0m \u001b[38;5;66;03m# See https://github.com/matplotlib/matplotlib/issues/19197 for context\u001b[39;00m\n\u001b[1;32m---> 80\u001b[0m \u001b[43mfig\u001b[49m\u001b[38;5;241;43m.\u001b[39;49m\u001b[43mcanvas\u001b[49m\u001b[38;5;241;43m.\u001b[39;49m\u001b[43mdraw\u001b[49m\u001b[43m(\u001b[49m\u001b[43m)\u001b[49m\n\u001b[0;32m     81\u001b[0m \u001b[38;5;28;01mif\u001b[39;00m fig\u001b[38;5;241m.\u001b[39mstale:\n\u001b[0;32m     82\u001b[0m     \u001b[38;5;28;01mtry\u001b[39;00m:\n",
      "File \u001b[1;32m~\\anaconda3\\lib\\site-packages\\matplotlib\\backends\\backend_agg.py:400\u001b[0m, in \u001b[0;36mFigureCanvasAgg.draw\u001b[1;34m(self)\u001b[0m\n\u001b[0;32m    396\u001b[0m \u001b[38;5;66;03m# Acquire a lock on the shared font cache.\u001b[39;00m\n\u001b[0;32m    397\u001b[0m \u001b[38;5;28;01mwith\u001b[39;00m RendererAgg\u001b[38;5;241m.\u001b[39mlock, \\\n\u001b[0;32m    398\u001b[0m      (\u001b[38;5;28mself\u001b[39m\u001b[38;5;241m.\u001b[39mtoolbar\u001b[38;5;241m.\u001b[39m_wait_cursor_for_draw_cm() \u001b[38;5;28;01mif\u001b[39;00m \u001b[38;5;28mself\u001b[39m\u001b[38;5;241m.\u001b[39mtoolbar\n\u001b[0;32m    399\u001b[0m       \u001b[38;5;28;01melse\u001b[39;00m nullcontext()):\n\u001b[1;32m--> 400\u001b[0m     \u001b[38;5;28;43mself\u001b[39;49m\u001b[38;5;241;43m.\u001b[39;49m\u001b[43mfigure\u001b[49m\u001b[38;5;241;43m.\u001b[39;49m\u001b[43mdraw\u001b[49m\u001b[43m(\u001b[49m\u001b[38;5;28;43mself\u001b[39;49m\u001b[38;5;241;43m.\u001b[39;49m\u001b[43mrenderer\u001b[49m\u001b[43m)\u001b[49m\n\u001b[0;32m    401\u001b[0m     \u001b[38;5;66;03m# A GUI class may be need to update a window using this draw, so\u001b[39;00m\n\u001b[0;32m    402\u001b[0m     \u001b[38;5;66;03m# don't forget to call the superclass.\u001b[39;00m\n\u001b[0;32m    403\u001b[0m     \u001b[38;5;28msuper\u001b[39m()\u001b[38;5;241m.\u001b[39mdraw()\n",
      "File \u001b[1;32m~\\anaconda3\\lib\\site-packages\\matplotlib\\artist.py:95\u001b[0m, in \u001b[0;36m_finalize_rasterization.<locals>.draw_wrapper\u001b[1;34m(artist, renderer, *args, **kwargs)\u001b[0m\n\u001b[0;32m     93\u001b[0m \u001b[38;5;129m@wraps\u001b[39m(draw)\n\u001b[0;32m     94\u001b[0m \u001b[38;5;28;01mdef\u001b[39;00m \u001b[38;5;21mdraw_wrapper\u001b[39m(artist, renderer, \u001b[38;5;241m*\u001b[39margs, \u001b[38;5;241m*\u001b[39m\u001b[38;5;241m*\u001b[39mkwargs):\n\u001b[1;32m---> 95\u001b[0m     result \u001b[38;5;241m=\u001b[39m draw(artist, renderer, \u001b[38;5;241m*\u001b[39margs, \u001b[38;5;241m*\u001b[39m\u001b[38;5;241m*\u001b[39mkwargs)\n\u001b[0;32m     96\u001b[0m     \u001b[38;5;28;01mif\u001b[39;00m renderer\u001b[38;5;241m.\u001b[39m_rasterizing:\n\u001b[0;32m     97\u001b[0m         renderer\u001b[38;5;241m.\u001b[39mstop_rasterizing()\n",
      "File \u001b[1;32m~\\anaconda3\\lib\\site-packages\\matplotlib\\artist.py:72\u001b[0m, in \u001b[0;36mallow_rasterization.<locals>.draw_wrapper\u001b[1;34m(artist, renderer)\u001b[0m\n\u001b[0;32m     69\u001b[0m     \u001b[38;5;28;01mif\u001b[39;00m artist\u001b[38;5;241m.\u001b[39mget_agg_filter() \u001b[38;5;129;01mis\u001b[39;00m \u001b[38;5;129;01mnot\u001b[39;00m \u001b[38;5;28;01mNone\u001b[39;00m:\n\u001b[0;32m     70\u001b[0m         renderer\u001b[38;5;241m.\u001b[39mstart_filter()\n\u001b[1;32m---> 72\u001b[0m     \u001b[38;5;28;01mreturn\u001b[39;00m \u001b[43mdraw\u001b[49m\u001b[43m(\u001b[49m\u001b[43martist\u001b[49m\u001b[43m,\u001b[49m\u001b[43m \u001b[49m\u001b[43mrenderer\u001b[49m\u001b[43m)\u001b[49m\n\u001b[0;32m     73\u001b[0m \u001b[38;5;28;01mfinally\u001b[39;00m:\n\u001b[0;32m     74\u001b[0m     \u001b[38;5;28;01mif\u001b[39;00m artist\u001b[38;5;241m.\u001b[39mget_agg_filter() \u001b[38;5;129;01mis\u001b[39;00m \u001b[38;5;129;01mnot\u001b[39;00m \u001b[38;5;28;01mNone\u001b[39;00m:\n",
      "File \u001b[1;32m~\\anaconda3\\lib\\site-packages\\matplotlib\\figure.py:3175\u001b[0m, in \u001b[0;36mFigure.draw\u001b[1;34m(self, renderer)\u001b[0m\n\u001b[0;32m   3172\u001b[0m         \u001b[38;5;66;03m# ValueError can occur when resizing a window.\u001b[39;00m\n\u001b[0;32m   3174\u001b[0m \u001b[38;5;28mself\u001b[39m\u001b[38;5;241m.\u001b[39mpatch\u001b[38;5;241m.\u001b[39mdraw(renderer)\n\u001b[1;32m-> 3175\u001b[0m \u001b[43mmimage\u001b[49m\u001b[38;5;241;43m.\u001b[39;49m\u001b[43m_draw_list_compositing_images\u001b[49m\u001b[43m(\u001b[49m\n\u001b[0;32m   3176\u001b[0m \u001b[43m    \u001b[49m\u001b[43mrenderer\u001b[49m\u001b[43m,\u001b[49m\u001b[43m \u001b[49m\u001b[38;5;28;43mself\u001b[39;49m\u001b[43m,\u001b[49m\u001b[43m \u001b[49m\u001b[43martists\u001b[49m\u001b[43m,\u001b[49m\u001b[43m \u001b[49m\u001b[38;5;28;43mself\u001b[39;49m\u001b[38;5;241;43m.\u001b[39;49m\u001b[43msuppressComposite\u001b[49m\u001b[43m)\u001b[49m\n\u001b[0;32m   3178\u001b[0m \u001b[38;5;28;01mfor\u001b[39;00m sfig \u001b[38;5;129;01min\u001b[39;00m \u001b[38;5;28mself\u001b[39m\u001b[38;5;241m.\u001b[39msubfigs:\n\u001b[0;32m   3179\u001b[0m     sfig\u001b[38;5;241m.\u001b[39mdraw(renderer)\n",
      "File \u001b[1;32m~\\anaconda3\\lib\\site-packages\\matplotlib\\image.py:131\u001b[0m, in \u001b[0;36m_draw_list_compositing_images\u001b[1;34m(renderer, parent, artists, suppress_composite)\u001b[0m\n\u001b[0;32m    129\u001b[0m \u001b[38;5;28;01mif\u001b[39;00m not_composite \u001b[38;5;129;01mor\u001b[39;00m \u001b[38;5;129;01mnot\u001b[39;00m has_images:\n\u001b[0;32m    130\u001b[0m     \u001b[38;5;28;01mfor\u001b[39;00m a \u001b[38;5;129;01min\u001b[39;00m artists:\n\u001b[1;32m--> 131\u001b[0m         \u001b[43ma\u001b[49m\u001b[38;5;241;43m.\u001b[39;49m\u001b[43mdraw\u001b[49m\u001b[43m(\u001b[49m\u001b[43mrenderer\u001b[49m\u001b[43m)\u001b[49m\n\u001b[0;32m    132\u001b[0m \u001b[38;5;28;01melse\u001b[39;00m:\n\u001b[0;32m    133\u001b[0m     \u001b[38;5;66;03m# Composite any adjacent images together\u001b[39;00m\n\u001b[0;32m    134\u001b[0m     image_group \u001b[38;5;241m=\u001b[39m []\n",
      "File \u001b[1;32m~\\anaconda3\\lib\\site-packages\\matplotlib\\artist.py:72\u001b[0m, in \u001b[0;36mallow_rasterization.<locals>.draw_wrapper\u001b[1;34m(artist, renderer)\u001b[0m\n\u001b[0;32m     69\u001b[0m     \u001b[38;5;28;01mif\u001b[39;00m artist\u001b[38;5;241m.\u001b[39mget_agg_filter() \u001b[38;5;129;01mis\u001b[39;00m \u001b[38;5;129;01mnot\u001b[39;00m \u001b[38;5;28;01mNone\u001b[39;00m:\n\u001b[0;32m     70\u001b[0m         renderer\u001b[38;5;241m.\u001b[39mstart_filter()\n\u001b[1;32m---> 72\u001b[0m     \u001b[38;5;28;01mreturn\u001b[39;00m \u001b[43mdraw\u001b[49m\u001b[43m(\u001b[49m\u001b[43martist\u001b[49m\u001b[43m,\u001b[49m\u001b[43m \u001b[49m\u001b[43mrenderer\u001b[49m\u001b[43m)\u001b[49m\n\u001b[0;32m     73\u001b[0m \u001b[38;5;28;01mfinally\u001b[39;00m:\n\u001b[0;32m     74\u001b[0m     \u001b[38;5;28;01mif\u001b[39;00m artist\u001b[38;5;241m.\u001b[39mget_agg_filter() \u001b[38;5;129;01mis\u001b[39;00m \u001b[38;5;129;01mnot\u001b[39;00m \u001b[38;5;28;01mNone\u001b[39;00m:\n",
      "File \u001b[1;32m~\\anaconda3\\lib\\site-packages\\matplotlib\\axes\\_base.py:3064\u001b[0m, in \u001b[0;36m_AxesBase.draw\u001b[1;34m(self, renderer)\u001b[0m\n\u001b[0;32m   3061\u001b[0m \u001b[38;5;28;01mif\u001b[39;00m artists_rasterized:\n\u001b[0;32m   3062\u001b[0m     _draw_rasterized(\u001b[38;5;28mself\u001b[39m\u001b[38;5;241m.\u001b[39mfigure, artists_rasterized, renderer)\n\u001b[1;32m-> 3064\u001b[0m \u001b[43mmimage\u001b[49m\u001b[38;5;241;43m.\u001b[39;49m\u001b[43m_draw_list_compositing_images\u001b[49m\u001b[43m(\u001b[49m\n\u001b[0;32m   3065\u001b[0m \u001b[43m    \u001b[49m\u001b[43mrenderer\u001b[49m\u001b[43m,\u001b[49m\u001b[43m \u001b[49m\u001b[38;5;28;43mself\u001b[39;49m\u001b[43m,\u001b[49m\u001b[43m \u001b[49m\u001b[43martists\u001b[49m\u001b[43m,\u001b[49m\u001b[43m \u001b[49m\u001b[38;5;28;43mself\u001b[39;49m\u001b[38;5;241;43m.\u001b[39;49m\u001b[43mfigure\u001b[49m\u001b[38;5;241;43m.\u001b[39;49m\u001b[43msuppressComposite\u001b[49m\u001b[43m)\u001b[49m\n\u001b[0;32m   3067\u001b[0m renderer\u001b[38;5;241m.\u001b[39mclose_group(\u001b[38;5;124m'\u001b[39m\u001b[38;5;124maxes\u001b[39m\u001b[38;5;124m'\u001b[39m)\n\u001b[0;32m   3068\u001b[0m \u001b[38;5;28mself\u001b[39m\u001b[38;5;241m.\u001b[39mstale \u001b[38;5;241m=\u001b[39m \u001b[38;5;28;01mFalse\u001b[39;00m\n",
      "File \u001b[1;32m~\\anaconda3\\lib\\site-packages\\matplotlib\\image.py:131\u001b[0m, in \u001b[0;36m_draw_list_compositing_images\u001b[1;34m(renderer, parent, artists, suppress_composite)\u001b[0m\n\u001b[0;32m    129\u001b[0m \u001b[38;5;28;01mif\u001b[39;00m not_composite \u001b[38;5;129;01mor\u001b[39;00m \u001b[38;5;129;01mnot\u001b[39;00m has_images:\n\u001b[0;32m    130\u001b[0m     \u001b[38;5;28;01mfor\u001b[39;00m a \u001b[38;5;129;01min\u001b[39;00m artists:\n\u001b[1;32m--> 131\u001b[0m         \u001b[43ma\u001b[49m\u001b[38;5;241;43m.\u001b[39;49m\u001b[43mdraw\u001b[49m\u001b[43m(\u001b[49m\u001b[43mrenderer\u001b[49m\u001b[43m)\u001b[49m\n\u001b[0;32m    132\u001b[0m \u001b[38;5;28;01melse\u001b[39;00m:\n\u001b[0;32m    133\u001b[0m     \u001b[38;5;66;03m# Composite any adjacent images together\u001b[39;00m\n\u001b[0;32m    134\u001b[0m     image_group \u001b[38;5;241m=\u001b[39m []\n",
      "File \u001b[1;32m~\\anaconda3\\lib\\site-packages\\matplotlib\\artist.py:72\u001b[0m, in \u001b[0;36mallow_rasterization.<locals>.draw_wrapper\u001b[1;34m(artist, renderer)\u001b[0m\n\u001b[0;32m     69\u001b[0m     \u001b[38;5;28;01mif\u001b[39;00m artist\u001b[38;5;241m.\u001b[39mget_agg_filter() \u001b[38;5;129;01mis\u001b[39;00m \u001b[38;5;129;01mnot\u001b[39;00m \u001b[38;5;28;01mNone\u001b[39;00m:\n\u001b[0;32m     70\u001b[0m         renderer\u001b[38;5;241m.\u001b[39mstart_filter()\n\u001b[1;32m---> 72\u001b[0m     \u001b[38;5;28;01mreturn\u001b[39;00m \u001b[43mdraw\u001b[49m\u001b[43m(\u001b[49m\u001b[43martist\u001b[49m\u001b[43m,\u001b[49m\u001b[43m \u001b[49m\u001b[43mrenderer\u001b[49m\u001b[43m)\u001b[49m\n\u001b[0;32m     73\u001b[0m \u001b[38;5;28;01mfinally\u001b[39;00m:\n\u001b[0;32m     74\u001b[0m     \u001b[38;5;28;01mif\u001b[39;00m artist\u001b[38;5;241m.\u001b[39mget_agg_filter() \u001b[38;5;129;01mis\u001b[39;00m \u001b[38;5;129;01mnot\u001b[39;00m \u001b[38;5;28;01mNone\u001b[39;00m:\n",
      "File \u001b[1;32m~\\anaconda3\\lib\\site-packages\\matplotlib\\text.py:800\u001b[0m, in \u001b[0;36mText.draw\u001b[1;34m(self, renderer)\u001b[0m\n\u001b[0;32m    796\u001b[0m             textrenderer\u001b[38;5;241m.\u001b[39mdraw_tex(gc, x, y, clean_line,\n\u001b[0;32m    797\u001b[0m                                   \u001b[38;5;28mself\u001b[39m\u001b[38;5;241m.\u001b[39m_fontproperties, angle,\n\u001b[0;32m    798\u001b[0m                                   mtext\u001b[38;5;241m=\u001b[39mmtext)\n\u001b[0;32m    799\u001b[0m         \u001b[38;5;28;01melse\u001b[39;00m:\n\u001b[1;32m--> 800\u001b[0m             \u001b[43mtextrenderer\u001b[49m\u001b[38;5;241;43m.\u001b[39;49m\u001b[43mdraw_text\u001b[49m\u001b[43m(\u001b[49m\u001b[43mgc\u001b[49m\u001b[43m,\u001b[49m\u001b[43m \u001b[49m\u001b[43mx\u001b[49m\u001b[43m,\u001b[49m\u001b[43m \u001b[49m\u001b[43my\u001b[49m\u001b[43m,\u001b[49m\u001b[43m \u001b[49m\u001b[43mclean_line\u001b[49m\u001b[43m,\u001b[49m\n\u001b[0;32m    801\u001b[0m \u001b[43m                                   \u001b[49m\u001b[38;5;28;43mself\u001b[39;49m\u001b[38;5;241;43m.\u001b[39;49m\u001b[43m_fontproperties\u001b[49m\u001b[43m,\u001b[49m\u001b[43m \u001b[49m\u001b[43mangle\u001b[49m\u001b[43m,\u001b[49m\n\u001b[0;32m    802\u001b[0m \u001b[43m                                   \u001b[49m\u001b[43mismath\u001b[49m\u001b[38;5;241;43m=\u001b[39;49m\u001b[43mismath\u001b[49m\u001b[43m,\u001b[49m\u001b[43m \u001b[49m\u001b[43mmtext\u001b[49m\u001b[38;5;241;43m=\u001b[39;49m\u001b[43mmtext\u001b[49m\u001b[43m)\u001b[49m\n\u001b[0;32m    804\u001b[0m gc\u001b[38;5;241m.\u001b[39mrestore()\n\u001b[0;32m    805\u001b[0m renderer\u001b[38;5;241m.\u001b[39mclose_group(\u001b[38;5;124m'\u001b[39m\u001b[38;5;124mtext\u001b[39m\u001b[38;5;124m'\u001b[39m)\n",
      "File \u001b[1;32m~\\anaconda3\\lib\\site-packages\\matplotlib\\backends\\backend_agg.py:207\u001b[0m, in \u001b[0;36mRendererAgg.draw_text\u001b[1;34m(self, gc, x, y, s, prop, angle, ismath, mtext)\u001b[0m\n\u001b[0;32m    204\u001b[0m font \u001b[38;5;241m=\u001b[39m \u001b[38;5;28mself\u001b[39m\u001b[38;5;241m.\u001b[39m_prepare_font(prop)\n\u001b[0;32m    205\u001b[0m \u001b[38;5;66;03m# We pass '0' for angle here, since it will be rotated (in raster\u001b[39;00m\n\u001b[0;32m    206\u001b[0m \u001b[38;5;66;03m# space) in the following call to draw_text_image).\u001b[39;00m\n\u001b[1;32m--> 207\u001b[0m \u001b[43mfont\u001b[49m\u001b[38;5;241;43m.\u001b[39;49m\u001b[43mset_text\u001b[49m\u001b[43m(\u001b[49m\u001b[43ms\u001b[49m\u001b[43m,\u001b[49m\u001b[43m \u001b[49m\u001b[38;5;241;43m0\u001b[39;49m\u001b[43m,\u001b[49m\u001b[43m \u001b[49m\u001b[43mflags\u001b[49m\u001b[38;5;241;43m=\u001b[39;49m\u001b[43mget_hinting_flag\u001b[49m\u001b[43m(\u001b[49m\u001b[43m)\u001b[49m\u001b[43m)\u001b[49m\n\u001b[0;32m    208\u001b[0m font\u001b[38;5;241m.\u001b[39mdraw_glyphs_to_bitmap(\n\u001b[0;32m    209\u001b[0m     antialiased\u001b[38;5;241m=\u001b[39mmpl\u001b[38;5;241m.\u001b[39mrcParams[\u001b[38;5;124m'\u001b[39m\u001b[38;5;124mtext.antialiased\u001b[39m\u001b[38;5;124m'\u001b[39m])\n\u001b[0;32m    210\u001b[0m d \u001b[38;5;241m=\u001b[39m font\u001b[38;5;241m.\u001b[39mget_descent() \u001b[38;5;241m/\u001b[39m \u001b[38;5;241m64.0\u001b[39m\n",
      "\u001b[1;31mKeyboardInterrupt\u001b[0m: "
     ]
    }
   ],
   "source": [
    "for c in conlist:\n",
    "    cnt += 1\n",
    "    plt.figure(figsize=(120,80))\n",
    "    \n",
    "    seat_c = c[~(c['seat'].str.contains('합창석') | c['seat'].str.contains('BOX'))]\n",
    "    \n",
    "    seat_viz = seat_c[['seat', '층', '블록', '열', '번호', 'seat_count_covid', 'seat_count']].drop_duplicates()\n",
    "    seat_viz = seat_viz.sort_values(by=['층', '블록', '열', '번호']).reset_index(drop=True)\n",
    "    \n",
    "    vmin = seat_viz['seat_count_covid'].quantile(0.05)\n",
    "    vmax = seat_viz['seat_count_covid'].quantile(0.95)\n",
    "    \n",
    "    seat_viz['블록'] = seat_viz['블록'].map(block_mapping)\n",
    "    \n",
    "    for floor in seat_viz['층'].unique():\n",
    "        current_floor_df = seat_viz[seat_viz['층'] == floor]\n",
    "\n",
    "        for block in current_floor_df['블록'].unique():\n",
    "            block_df = current_floor_df[current_floor_df['블록'] == block]\n",
    "\n",
    "            ax = plt.subplot(3, 9, (int(floor)-1)*9 + int(block))\n",
    "\n",
    "            heatmap_data = block_df.pivot(index='열', columns='번호', values='seat_count_covid').sort_values(by='열', ascending=False)\n",
    "            heatmap_data = heatmap_data[sorted(heatmap_data.columns, key=int)]\n",
    "            sns.heatmap(heatmap_data, cmap=\"Blues\", cbar=False, annot=True, fmt='g', vmin=vmin, vmax=vmax, ax=ax)\n",
    "\n",
    "            ax.set_aspect(1)\n",
    "\n",
    "            plt.title(f'Floor: {floor}, Block: {block}')\n",
    "            plt.gca().invert_yaxis()  # y축 뒤집기\n",
    "\n",
    "    plt.tight_layout()\n",
    "    plt.savefig(f'{cnt}_viz.pdf', dpi=30)\n",
    "    plt.savefig(f'{cnt}_viz.png', dpi=30)\n",
    "    \n",
    "    print(f'{cnt}번째 완료!')"
   ]
  },
  {
   "cell_type": "markdown",
   "id": "1bea8711",
   "metadata": {},
   "source": [
    "## 예매율 시각화"
   ]
  },
  {
   "cell_type": "markdown",
   "id": "78b799ac",
   "metadata": {},
   "source": [
    "그 외 기타 EDA ..."
   ]
  },
  {
   "cell_type": "markdown",
   "id": "b1b6bad4",
   "metadata": {},
   "source": [
    "* * *"
   ]
  },
  {
   "cell_type": "markdown",
   "id": "d587d527",
   "metadata": {},
   "source": [
    "### 데이터 내보내기"
   ]
  },
  {
   "cell_type": "code",
   "execution_count": null,
   "id": "6fdc50dc",
   "metadata": {},
   "outputs": [],
   "source": [
    "symp.to_csv(\"콘서트홀_교향곡.csv\", index=False)\n",
    "clas.to_csv(\"콘서트홀_클래식.csv\", index=False)\n",
    "chor.to_csv(\"콘서트홀_합창.csv\", index=False)\n",
    "solo.to_csv(\"콘서트홀_독주.csv\", index=False)\n",
    "voca.to_csv(\"콘서트홀_성악.csv\", index=False)\n",
    "cham.to_csv(\"콘서트홀_실내악.csv\", index=False) # 여기서부턴 좀 합쳐보든가 하자...\n",
    "oper.to_csv(\"콘서트홀_오페라.csv\", index=False)\n",
    "conc.to_csv(\"콘서트홀_콘서트.csv\", index=False)\n",
    "comp.to_csv(\"콘서트홀_복합장르.csv\", index=False) # 여기서부턴 버려도 될듯...\n",
    "etc.to_csv(\"콘서트홀_기타.csv\", index=False)\n",
    "jazz.to_csv(\"콘서트홀_재즈.csv\", index=False)\n",
    "cros.to_csv(\"콘서트홀_크로스오버.csv\", index=False)"
   ]
  },
  {
   "cell_type": "code",
   "execution_count": null,
   "id": "dbf0a624",
   "metadata": {},
   "outputs": [],
   "source": []
  }
 ],
 "metadata": {
  "kernelspec": {
   "display_name": "Python 3 (ipykernel)",
   "language": "python",
   "name": "python3"
  },
  "language_info": {
   "codemirror_mode": {
    "name": "ipython",
    "version": 3
   },
   "file_extension": ".py",
   "mimetype": "text/x-python",
   "name": "python",
   "nbconvert_exporter": "python",
   "pygments_lexer": "ipython3",
   "version": "3.9.13"
  }
 },
 "nbformat": 4,
 "nbformat_minor": 5
}

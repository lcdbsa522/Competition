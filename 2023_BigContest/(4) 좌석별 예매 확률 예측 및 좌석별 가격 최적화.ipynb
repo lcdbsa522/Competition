{
 "cells": [
  {
   "cell_type": "code",
   "execution_count": 1,
   "id": "405a8128",
   "metadata": {},
   "outputs": [
    {
     "data": {
      "text/html": [
       "<style>.container { width:80% !important; }</style>"
      ],
      "text/plain": [
       "<IPython.core.display.HTML object>"
      ]
     },
     "metadata": {},
     "output_type": "display_data"
    }
   ],
   "source": [
    "# Module Import\n",
    "import pandas as pd\n",
    "import numpy as np\n",
    "import matplotlib.pyplot as plt\n",
    "import seaborn as sns\n",
    "import datetime\n",
    "import re\n",
    "%matplotlib inline\n",
    "\n",
    "# Print Controll Setting\n",
    "import warnings\n",
    "warnings.simplefilter(action='ignore')\n",
    "pd.options.display.max_columns = None\n",
    "\n",
    "# Visualization Setting\n",
    "sns.set_theme(style='whitegrid', font_scale=1.5)\n",
    "sns.set_palette('rocket', n_colors=10)\n",
    "plt.rc('font', family='malgun gothic')\n",
    "plt.rc('axes', unicode_minus=False)\n",
    "\n",
    "from IPython.core.display import display, HTML\n",
    "display(HTML(\"<style>.container { width:80% !important; }</style>\"))"
   ]
  },
  {
   "cell_type": "code",
   "execution_count": 2,
   "id": "8b2ae036",
   "metadata": {},
   "outputs": [],
   "source": [
    "import lightgbm as lgb\n",
    "from lightgbm import LGBMClassifier\n",
    "from catboost import CatBoostClassifier\n",
    "import xgboost as xgb\n",
    "from xgboost import XGBClassifier\n",
    "\n",
    "import optuna\n",
    "\n",
    "from imblearn.over_sampling import SMOTE\n",
    "\n",
    "from sklearn.preprocessing import LabelEncoder\n",
    "from sklearn.preprocessing import StandardScaler\n",
    "\n",
    "from sklearn.metrics import f1_score\n",
    "from sklearn.metrics import roc_auc_score\n",
    "from sklearn.metrics import cohen_kappa_score\n",
    "\n",
    "from sklearn.model_selection import GroupShuffleSplit\n",
    "\n",
    "from scipy.optimize import minimize"
   ]
  },
  {
   "cell_type": "markdown",
   "id": "0d27695b",
   "metadata": {},
   "source": [
    "### 데이터 불러오기"
   ]
  },
  {
   "cell_type": "code",
   "execution_count": 10,
   "id": "fd58e7b1",
   "metadata": {},
   "outputs": [],
   "source": [
    "df_concert = pd.read_csv('data/cluster_retouch.csv')"
   ]
  },
  {
   "cell_type": "code",
   "execution_count": 11,
   "id": "0ab27d07",
   "metadata": {},
   "outputs": [],
   "source": [
    "df_concert['seat_floor'] = df_concert['seat_floor'].astype('str')"
   ]
  },
  {
   "cell_type": "code",
   "execution_count": 12,
   "id": "3933ec73",
   "metadata": {},
   "outputs": [],
   "source": [
    "sum_prices = df_concert.groupby('unique_perform_code')['price'].sum()\n",
    "\n",
    "codes_with_zero_prices = sum_prices[sum_prices == 0].index\n",
    "\n",
    "df_concert = df_concert[~df_concert['unique_perform_code'].isin(codes_with_zero_prices)]"
   ]
  },
  {
   "cell_type": "code",
   "execution_count": 13,
   "id": "167a2a94",
   "metadata": {},
   "outputs": [],
   "source": [
    "df_price_mean = df_concert[df_concert['price'] != 0].groupby('unique_perform_code')['price'].agg({('perform_price_mean','mean')}).reset_index();df_price_mean\n",
    "df_concert = pd.merge(df_concert, df_price_mean, on='unique_perform_code', how='left')"
   ]
  },
  {
   "cell_type": "code",
   "execution_count": 14,
   "id": "4c95e2ac",
   "metadata": {},
   "outputs": [],
   "source": [
    "df_concert = df_concert[['reservation_yn','unique_perform_code','play_holiday','play_weekday','play_month','new_cluster','genre','seat_floor','seat_block',\n",
    "                         'play_st_time','price','running_time','intermission','seat_row','seat_num','play_year','from_stage','acoustic_value','from_exit','cosine_sim','perform_price_mean']]"
   ]
  },
  {
   "cell_type": "markdown",
   "id": "01bc14dc",
   "metadata": {},
   "source": [
    "* * *"
   ]
  },
  {
   "cell_type": "markdown",
   "id": "39759a87",
   "metadata": {},
   "source": [
    "# 좌석별 예매 확률 예측\n",
    "- **catboost, LGBM, XGBoost** 중 가장 성능 좋은 모델로 사용\n",
    "- train 데이터, test 데이터, new 데이터로 공연별 분리"
   ]
  },
  {
   "cell_type": "markdown",
   "id": "89b091df",
   "metadata": {},
   "source": [
    "### train_test 분리\n",
    "- 학습 데이터 분리할 때 공연 단위로 train/validation/test 나눌 수 있도록 GroupShuffleSplit 사용)"
   ]
  },
  {
   "cell_type": "code",
   "execution_count": 15,
   "id": "ed42a62d",
   "metadata": {},
   "outputs": [],
   "source": [
    "# train 데이터와 test 데이터(성능 확인용) 분리\n",
    "train_test_idx = next(GroupShuffleSplit(n_splits=1, train_size=0.99, random_state=42).split(df_concert, df_concert['reservation_yn'], groups=df_concert['unique_perform_code']))\n",
    "\n",
    "X_train, y_train = df_concert.iloc[train_test_idx[0],1:], df_concert.iloc[train_test_idx[0],0]\n",
    "X_test, y_test = df_concert.iloc[train_test_idx[1],1:], df_concert.iloc[train_test_idx[1],0]"
   ]
  },
  {
   "cell_type": "code",
   "execution_count": 16,
   "id": "18030ecd",
   "metadata": {},
   "outputs": [],
   "source": [
    "# 범주형 스케일링\n",
    "for column in ['genre','seat_floor','seat_block']:\n",
    "    le = LabelEncoder()\n",
    "    \n",
    "    X_train[column] = le.fit_transform(X_train[column])\n",
    "    X_test[column] = le.transform(X_test[column])"
   ]
  },
  {
   "cell_type": "code",
   "execution_count": 17,
   "id": "8b31b8e5",
   "metadata": {},
   "outputs": [],
   "source": [
    "smote = SMOTE(random_state=0)\n",
    "X_resampled, y_train_resampled = smote.fit_resample(X_train, y_train)\n",
    "\n",
    "X_train_resampled = pd.DataFrame(X_resampled, columns=X_train.columns)"
   ]
  },
  {
   "cell_type": "markdown",
   "id": "a83181af",
   "metadata": {},
   "source": [
    "### 데이터 스케일링"
   ]
  },
  {
   "cell_type": "code",
   "execution_count": 18,
   "id": "51ba1ca5",
   "metadata": {},
   "outputs": [],
   "source": [
    "# Oversampled 데이터 분리\n",
    "X_train_resampled_numeric = X_train_resampled[['play_st_time','price','running_time','intermission','seat_row','seat_num','play_year',\n",
    "                                         'from_stage','acoustic_value','from_exit','cosine_sim','perform_price_mean']]\n",
    "\n",
    "X_train_resampled = X_train_resampled[['unique_perform_code','play_holiday','play_weekday','play_month','new_cluster','genre','seat_floor','seat_block']]\n",
    "\n",
    "# test 데이터 분리\n",
    "X_test_numeric = X_test[['play_st_time','price','running_time','intermission','seat_row','seat_num','play_year',\n",
    "                     'from_stage','acoustic_value','from_exit','cosine_sim','perform_price_mean']]\n",
    "\n",
    "X_test = X_test[['unique_perform_code','play_holiday','play_weekday','play_month','new_cluster','genre','seat_floor','seat_block']]"
   ]
  },
  {
   "cell_type": "code",
   "execution_count": 19,
   "id": "0d9ff161",
   "metadata": {},
   "outputs": [],
   "source": [
    "# 수치형 스케일링\n",
    "scaler = StandardScaler()\n",
    "\n",
    "X_train_resampled_numeric_scaled = scaler.fit_transform(X_train_resampled_numeric)\n",
    "X_test_numeric_scaled = scaler.transform(X_test_numeric)\n",
    "\n",
    "# 원래의 인덱스를 유지하여 스케일링된 데이터프레임 생성\n",
    "X_train_resampled_numeric = pd.DataFrame(X_train_resampled_numeric_scaled, columns=X_train_resampled_numeric.columns, index=X_train_resampled_numeric.index)\n",
    "X_test_numeric = pd.DataFrame(X_test_numeric_scaled, columns=X_test_numeric.columns, index=X_test_numeric.index)\n",
    "\n",
    "# 데이터프레임 합치기 (인덱스 재설정 방지)\n",
    "X_train_resampled = pd.concat([X_train_resampled, X_train_resampled_numeric], axis=1, ignore_index=False)\n",
    "X_test = pd.concat([X_test, X_test_numeric], axis=1, ignore_index=False)"
   ]
  },
  {
   "cell_type": "markdown",
   "id": "83a75208",
   "metadata": {},
   "source": [
    "### train_val split"
   ]
  },
  {
   "cell_type": "code",
   "execution_count": 20,
   "id": "f97b54bd",
   "metadata": {},
   "outputs": [],
   "source": [
    "# train 데이터와 validation 데이터 분리\n",
    "train_idx, val_idx = next(GroupShuffleSplit(n_splits=1, train_size=0.7, random_state=42).split(X_train_resampled, y_train_resampled, groups=X_train_resampled['unique_perform_code']))\n",
    "\n",
    "X_train, y_train = X_train_resampled.iloc[train_idx].iloc[:,1:], y_train_resampled[train_idx]\n",
    "X_val, y_val = X_train_resampled.iloc[val_idx].iloc[:,1:], y_train_resampled[val_idx]"
   ]
  },
  {
   "cell_type": "markdown",
   "id": "14339c23",
   "metadata": {},
   "source": [
    "## 모델 학습 및 파라미터 최적화"
   ]
  },
  {
   "cell_type": "markdown",
   "id": "1f36d180",
   "metadata": {},
   "source": [
    "### optuna 최적화\n",
    "- predict_proba로 예매 확률을 예측해야 하므로 평가 지표 ROC-AUC 사용"
   ]
  },
  {
   "cell_type": "code",
   "execution_count": 21,
   "id": "7d4006d9",
   "metadata": {
    "scrolled": true
   },
   "outputs": [
    {
     "name": "stderr",
     "output_type": "stream",
     "text": [
      "[I 2023-09-27 04:45:12,244] A new study created in memory with name: no-name-925cd337-9d3a-4b10-ab77-e0d28555930a\n",
      "[I 2023-09-27 04:45:16,829] Trial 0 finished with value: 0.9640692988979008 and parameters: {'lambda_l1': 0.10999047641248189, 'lambda_l2': 2.098044720033773, 'num_leaves': 109, 'feature_fraction': 0.9650908577246595, 'bagging_fraction': 0.8730635777492739, 'bagging_freq': 4, 'min_child_samples': 61}. Best is trial 0 with value: 0.9640692988979008.\n",
      "[I 2023-09-27 04:45:20,677] Trial 1 finished with value: 0.9596055924986805 and parameters: {'lambda_l1': 8.146595753185291, 'lambda_l2': 0.0017153393986747523, 'num_leaves': 69, 'feature_fraction': 0.8115816803656398, 'bagging_fraction': 0.8160418231518063, 'bagging_freq': 2, 'min_child_samples': 62}. Best is trial 0 with value: 0.9640692988979008.\n",
      "[I 2023-09-27 04:45:22,986] Trial 2 finished with value: 0.9443341958251346 and parameters: {'lambda_l1': 0.030960494413515414, 'lambda_l2': 0.00022363938051336952, 'num_leaves': 27, 'feature_fraction': 0.7325205164430755, 'bagging_fraction': 0.5459092508287154, 'bagging_freq': 4, 'min_child_samples': 95}. Best is trial 0 with value: 0.9640692988979008.\n",
      "[I 2023-09-27 04:45:25,406] Trial 3 finished with value: 0.9429737408259306 and parameters: {'lambda_l1': 3.8779322046212915e-07, 'lambda_l2': 0.5336877198950472, 'num_leaves': 27, 'feature_fraction': 0.9669385591789148, 'bagging_fraction': 0.685401696663525, 'bagging_freq': 6, 'min_child_samples': 18}. Best is trial 0 with value: 0.9640692988979008.\n",
      "[I 2023-09-27 04:45:30,385] Trial 4 finished with value: 0.9672616810648273 and parameters: {'lambda_l1': 3.891981990521075e-08, 'lambda_l2': 3.317635152408326, 'num_leaves': 134, 'feature_fraction': 0.6538087552556393, 'bagging_fraction': 0.5955180746938129, 'bagging_freq': 4, 'min_child_samples': 57}. Best is trial 4 with value: 0.9672616810648273.\n",
      "[I 2023-09-27 04:45:33,826] Trial 5 finished with value: 0.9562946432525145 and parameters: {'lambda_l1': 0.8850393405277859, 'lambda_l2': 0.0005857390751674666, 'num_leaves': 62, 'feature_fraction': 0.9473416180791646, 'bagging_fraction': 0.7074792182726471, 'bagging_freq': 2, 'min_child_samples': 51}. Best is trial 4 with value: 0.9672616810648273.\n",
      "[I 2023-09-27 04:45:42,078] Trial 6 finished with value: 0.9712988397696136 and parameters: {'lambda_l1': 0.026183255060277234, 'lambda_l2': 3.19587782339145e-08, 'num_leaves': 255, 'feature_fraction': 0.46932986907299645, 'bagging_fraction': 0.9369587175214779, 'bagging_freq': 7, 'min_child_samples': 9}. Best is trial 6 with value: 0.9712988397696136.\n",
      "[I 2023-09-27 04:45:47,029] Trial 7 finished with value: 0.9669548986716269 and parameters: {'lambda_l1': 0.4774582797966986, 'lambda_l2': 3.096105896277053e-08, 'num_leaves': 121, 'feature_fraction': 0.7805088742788366, 'bagging_fraction': 0.9417786145005519, 'bagging_freq': 5, 'min_child_samples': 90}. Best is trial 6 with value: 0.9712988397696136.\n",
      "[I 2023-09-27 04:45:53,688] Trial 8 finished with value: 0.9700080552204573 and parameters: {'lambda_l1': 7.542390895935612e-05, 'lambda_l2': 0.6856037000069273, 'num_leaves': 211, 'feature_fraction': 0.6353915473054002, 'bagging_fraction': 0.4356326436180389, 'bagging_freq': 1, 'min_child_samples': 82}. Best is trial 6 with value: 0.9712988397696136.\n",
      "[I 2023-09-27 04:46:01,801] Trial 9 finished with value: 0.9720139286978107 and parameters: {'lambda_l1': 0.2985346411280534, 'lambda_l2': 0.36862003622646433, 'num_leaves': 248, 'feature_fraction': 0.47244798077355593, 'bagging_fraction': 0.9463575373549656, 'bagging_freq': 7, 'min_child_samples': 74}. Best is trial 9 with value: 0.9720139286978107.\n",
      "[I 2023-09-27 04:46:08,574] Trial 10 finished with value: 0.9706303858841605 and parameters: {'lambda_l1': 0.0011802853771704452, 'lambda_l2': 0.02897068010081263, 'num_leaves': 190, 'feature_fraction': 0.4026349842703381, 'bagging_fraction': 0.9836082850085188, 'bagging_freq': 7, 'min_child_samples': 36}. Best is trial 9 with value: 0.9720139286978107.\n",
      "[I 2023-09-27 04:46:16,803] Trial 11 finished with value: 0.9716881808958392 and parameters: {'lambda_l1': 0.005825568115725595, 'lambda_l2': 1.0133934585630992e-08, 'num_leaves': 255, 'feature_fraction': 0.436559999091012, 'bagging_fraction': 0.9983658498278339, 'bagging_freq': 7, 'min_child_samples': 13}. Best is trial 9 with value: 0.9720139286978107.\n",
      "[I 2023-09-27 04:46:25,151] Trial 12 finished with value: 0.9715182300308394 and parameters: {'lambda_l1': 0.0024943057046753207, 'lambda_l2': 2.3199885998798674e-06, 'num_leaves': 256, 'feature_fraction': 0.4852596169378188, 'bagging_fraction': 0.9865250618498252, 'bagging_freq': 6, 'min_child_samples': 75}. Best is trial 9 with value: 0.9720139286978107.\n",
      "[I 2023-09-27 04:46:32,317] Trial 13 finished with value: 0.9710369545270179 and parameters: {'lambda_l1': 3.9876528574082957e-05, 'lambda_l2': 6.110327309373461e-06, 'num_leaves': 208, 'feature_fraction': 0.5512992096863539, 'bagging_fraction': 0.8478141993908835, 'bagging_freq': 6, 'min_child_samples': 34}. Best is trial 9 with value: 0.9720139286978107.\n",
      "[I 2023-09-27 04:46:38,718] Trial 14 finished with value: 0.97034792961555 and parameters: {'lambda_l1': 0.006278117364940285, 'lambda_l2': 0.049611249162181174, 'num_leaves': 172, 'feature_fraction': 0.41780369358705005, 'bagging_fraction': 0.898749589432827, 'bagging_freq': 7, 'min_child_samples': 37}. Best is trial 9 with value: 0.9720139286978107.\n",
      "[I 2023-09-27 04:46:46,532] Trial 15 finished with value: 0.9710343414036091 and parameters: {'lambda_l1': 6.472936102023943, 'lambda_l2': 1.0271014539127631e-08, 'num_leaves': 226, 'feature_fraction': 0.5490491543441277, 'bagging_fraction': 0.9876770371102908, 'bagging_freq': 5, 'min_child_samples': 73}. Best is trial 9 with value: 0.9720139286978107.\n",
      "[I 2023-09-27 04:46:52,436] Trial 16 finished with value: 0.9694587869122264 and parameters: {'lambda_l1': 0.00024935724679891064, 'lambda_l2': 8.387227610741054e-07, 'num_leaves': 157, 'feature_fraction': 0.5217460606210438, 'bagging_fraction': 0.7964995237353032, 'bagging_freq': 5, 'min_child_samples': 18}. Best is trial 9 with value: 0.9720139286978107.\n",
      "[I 2023-09-27 04:47:00,079] Trial 17 finished with value: 0.9716570056628838 and parameters: {'lambda_l1': 0.09348024496812377, 'lambda_l2': 8.709784438811299e-05, 'num_leaves': 232, 'feature_fraction': 0.5890582661836459, 'bagging_fraction': 0.9016193589933035, 'bagging_freq': 7, 'min_child_samples': 44}. Best is trial 9 with value: 0.9720139286978107.\n",
      "[I 2023-09-27 04:47:06,737] Trial 18 finished with value: 0.9694791321281393 and parameters: {'lambda_l1': 0.006289017255977966, 'lambda_l2': 8.489460551920079, 'num_leaves': 186, 'feature_fraction': 0.46510312736365544, 'bagging_fraction': 0.7725894091627994, 'bagging_freq': 3, 'min_child_samples': 24}. Best is trial 9 with value: 0.9720139286978107.\n",
      "[I 2023-09-27 04:47:14,463] Trial 19 finished with value: 0.9715296477255284 and parameters: {'lambda_l1': 0.37871843233923436, 'lambda_l2': 0.005826841648441159, 'num_leaves': 235, 'feature_fraction': 0.43912901949879474, 'bagging_fraction': 0.9247837982909823, 'bagging_freq': 6, 'min_child_samples': 70}. Best is trial 9 with value: 0.9720139286978107.\n",
      "[I 2023-09-27 04:47:20,382] Trial 20 finished with value: 0.9681316672207282 and parameters: {'lambda_l1': 1.2216458328637824e-05, 'lambda_l2': 2.832576291704574e-05, 'num_leaves': 152, 'feature_fraction': 0.5116170894781822, 'bagging_fraction': 0.8549995829683631, 'bagging_freq': 7, 'min_child_samples': 6}. Best is trial 9 with value: 0.9720139286978107.\n",
      "[I 2023-09-27 04:47:27,932] Trial 21 finished with value: 0.9705669591977052 and parameters: {'lambda_l1': 0.04336817863069463, 'lambda_l2': 2.832556495377114e-07, 'num_leaves': 223, 'feature_fraction': 0.592802196794385, 'bagging_fraction': 0.9991881386468577, 'bagging_freq': 7, 'min_child_samples': 48}. Best is trial 9 with value: 0.9720139286978107.\n",
      "[I 2023-09-27 04:47:35,812] Trial 22 finished with value: 0.9710237100446035 and parameters: {'lambda_l1': 0.1874262040787309, 'lambda_l2': 4.9085600927391854e-05, 'num_leaves': 243, 'feature_fraction': 0.571426650931699, 'bagging_fraction': 0.9038694779014556, 'bagging_freq': 6, 'min_child_samples': 44}. Best is trial 9 with value: 0.9720139286978107.\n"
     ]
    },
    {
     "name": "stderr",
     "output_type": "stream",
     "text": [
      "[I 2023-09-27 04:47:42,671] Trial 23 finished with value: 0.9709483717609995 and parameters: {'lambda_l1': 0.016752588979191504, 'lambda_l2': 2.1669257322766205e-07, 'num_leaves': 196, 'feature_fraction': 0.49463984933472216, 'bagging_fraction': 0.9439692057397939, 'bagging_freq': 7, 'min_child_samples': 26}. Best is trial 9 with value: 0.9720139286978107.\n",
      "[I 2023-09-27 04:47:50,347] Trial 24 finished with value: 0.971665451932042 and parameters: {'lambda_l1': 1.2147124862903036, 'lambda_l2': 1.3466193956501311e-05, 'num_leaves': 232, 'feature_fraction': 0.43827968143334195, 'bagging_fraction': 0.8801368394727768, 'bagging_freq': 6, 'min_child_samples': 86}. Best is trial 9 with value: 0.9720139286978107.\n",
      "[I 2023-09-27 04:47:58,509] Trial 25 finished with value: 0.9716557368523774 and parameters: {'lambda_l1': 1.7972551289439014, 'lambda_l2': 6.085579060835341e-06, 'num_leaves': 255, 'feature_fraction': 0.40678483412088656, 'bagging_fraction': 0.87183525024704, 'bagging_freq': 5, 'min_child_samples': 85}. Best is trial 9 with value: 0.9720139286978107.\n",
      "[I 2023-09-27 04:48:05,835] Trial 26 finished with value: 0.9707131885858024 and parameters: {'lambda_l1': 1.4709234439414138, 'lambda_l2': 1.3098641390249296e-05, 'num_leaves': 215, 'feature_fraction': 0.479521508112653, 'bagging_fraction': 0.9648028173357804, 'bagging_freq': 6, 'min_child_samples': 99}. Best is trial 9 with value: 0.9720139286978107.\n",
      "[I 2023-09-27 04:48:12,163] Trial 27 finished with value: 0.9707694082274544 and parameters: {'lambda_l1': 0.13093169216844366, 'lambda_l2': 0.00018310629707975676, 'num_leaves': 174, 'feature_fraction': 0.444903148015152, 'bagging_fraction': 0.9344620098568787, 'bagging_freq': 6, 'min_child_samples': 82}. Best is trial 9 with value: 0.9720139286978107.\n",
      "[I 2023-09-27 04:48:20,080] Trial 28 finished with value: 0.971826036408857 and parameters: {'lambda_l1': 3.017707654409617, 'lambda_l2': 0.0007403852364773746, 'num_leaves': 237, 'feature_fraction': 0.4026806481463997, 'bagging_fraction': 0.9600468066880947, 'bagging_freq': 5, 'min_child_samples': 66}. Best is trial 9 with value: 0.9720139286978107.\n",
      "[I 2023-09-27 04:48:24,133] Trial 29 finished with value: 0.9615243085105794 and parameters: {'lambda_l1': 0.15535173162139784, 'lambda_l2': 0.001177998275741385, 'num_leaves': 74, 'feature_fraction': 0.5182191264888487, 'bagging_fraction': 0.9463902298701049, 'bagging_freq': 3, 'min_child_samples': 63}. Best is trial 9 with value: 0.9720139286978107.\n",
      "[I 2023-09-27 04:48:31,267] Trial 30 finished with value: 0.9704148925956201 and parameters: {'lambda_l1': 7.991622691534162, 'lambda_l2': 0.005271501571765657, 'num_leaves': 207, 'feature_fraction': 0.44484238523679337, 'bagging_fraction': 0.8376159738819066, 'bagging_freq': 5, 'min_child_samples': 67}. Best is trial 9 with value: 0.9720139286978107.\n",
      "[I 2023-09-27 04:48:39,071] Trial 31 finished with value: 0.9719449801772858 and parameters: {'lambda_l1': 1.8985670604528833, 'lambda_l2': 5.2888097102349584e-05, 'num_leaves': 239, 'feature_fraction': 0.400280319989305, 'bagging_fraction': 0.8699113836049511, 'bagging_freq': 6, 'min_child_samples': 77}. Best is trial 9 with value: 0.9720139286978107.\n",
      "[I 2023-09-27 04:48:47,036] Trial 32 finished with value: 0.9717030795286706 and parameters: {'lambda_l1': 3.222499703776352, 'lambda_l2': 0.00022510742445683223, 'num_leaves': 240, 'feature_fraction': 0.4018892470136659, 'bagging_fraction': 0.9949264905712031, 'bagging_freq': 5, 'min_child_samples': 77}. Best is trial 9 with value: 0.9720139286978107.\n",
      "[I 2023-09-27 04:48:54,980] Trial 33 finished with value: 0.9718846917370024 and parameters: {'lambda_l1': 4.570898026498567, 'lambda_l2': 0.0001419484918945912, 'num_leaves': 241, 'feature_fraction': 0.4134469776247545, 'bagging_fraction': 0.8941034195093516, 'bagging_freq': 4, 'min_child_samples': 77}. Best is trial 9 with value: 0.9720139286978107.\n",
      "[I 2023-09-27 04:48:59,475] Trial 34 finished with value: 0.96358490897453 and parameters: {'lambda_l1': 8.532033015607329, 'lambda_l2': 0.0004681069217602868, 'num_leaves': 98, 'feature_fraction': 0.40399632685731646, 'bagging_fraction': 0.813908832607779, 'bagging_freq': 4, 'min_child_samples': 60}. Best is trial 9 with value: 0.9720139286978107.\n",
      "[I 2023-09-27 04:49:06,538] Trial 35 finished with value: 0.9700008958288993 and parameters: {'lambda_l1': 2.1052292732029256, 'lambda_l2': 6.141407623066611e-05, 'num_leaves': 200, 'feature_fraction': 0.4676357264384492, 'bagging_fraction': 0.8856002855662002, 'bagging_freq': 4, 'min_child_samples': 66}. Best is trial 9 with value: 0.9720139286978107.\n",
      "[I 2023-09-27 04:49:07,989] Trial 36 finished with value: 0.8577890727770294 and parameters: {'lambda_l1': 0.5441030581889127, 'lambda_l2': 0.0001434196492721937, 'num_leaves': 3, 'feature_fraction': 0.5110712067389518, 'bagging_fraction': 0.913892632844995, 'bagging_freq': 3, 'min_child_samples': 78}. Best is trial 9 with value: 0.9720139286978107.\n",
      "[I 2023-09-27 04:49:15,668] Trial 37 finished with value: 0.9714712878132201 and parameters: {'lambda_l1': 3.1397856304427196, 'lambda_l2': 0.00143936081307855, 'num_leaves': 221, 'feature_fraction': 0.46185866686918986, 'bagging_fraction': 0.8580781590089379, 'bagging_freq': 4, 'min_child_samples': 91}. Best is trial 9 with value: 0.9720139286978107.\n",
      "[I 2023-09-27 04:49:23,633] Trial 38 finished with value: 0.9724835106323645 and parameters: {'lambda_l1': 0.5072048025689918, 'lambda_l2': 0.13047808224839746, 'num_leaves': 243, 'feature_fraction': 0.4305062669355617, 'bagging_fraction': 0.7769622199276807, 'bagging_freq': 4, 'min_child_samples': 54}. Best is trial 38 with value: 0.9724835106323645.\n",
      "[I 2023-09-27 04:49:31,720] Trial 39 finished with value: 0.9717308617820036 and parameters: {'lambda_l1': 0.44280387083501804, 'lambda_l2': 0.22178689108552183, 'num_leaves': 244, 'feature_fraction': 0.43292682226535895, 'bagging_fraction': 0.7720491324366745, 'bagging_freq': 3, 'min_child_samples': 56}. Best is trial 38 with value: 0.9724835106323645.\n",
      "[I 2023-09-27 04:49:38,298] Trial 40 finished with value: 0.9693997213204945 and parameters: {'lambda_l1': 0.06619480021769611, 'lambda_l2': 1.4173122055755996, 'num_leaves': 181, 'feature_fraction': 0.49202681752540406, 'bagging_fraction': 0.7186742892155762, 'bagging_freq': 4, 'min_child_samples': 56}. Best is trial 38 with value: 0.9724835106323645.\n",
      "[I 2023-09-27 04:49:45,780] Trial 41 finished with value: 0.9711836271702886 and parameters: {'lambda_l1': 0.893816892052124, 'lambda_l2': 0.06660877723636865, 'num_leaves': 219, 'feature_fraction': 0.401670601911352, 'bagging_fraction': 0.8280032181889709, 'bagging_freq': 5, 'min_child_samples': 71}. Best is trial 38 with value: 0.9724835106323645.\n",
      "[I 2023-09-27 04:49:53,979] Trial 42 finished with value: 0.9717254153817643 and parameters: {'lambda_l1': 3.6705650432595363, 'lambda_l2': 0.2411637081681986, 'num_leaves': 240, 'feature_fraction': 0.4581262032576313, 'bagging_fraction': 0.9632414394323388, 'bagging_freq': 4, 'min_child_samples': 61}. Best is trial 38 with value: 0.9724835106323645.\n",
      "[I 2023-09-27 04:50:02,155] Trial 43 finished with value: 0.9721874500707696 and parameters: {'lambda_l1': 0.2997956003187059, 'lambda_l2': 0.006648454604446704, 'num_leaves': 246, 'feature_fraction': 0.430019117518175, 'bagging_fraction': 0.8784806726732612, 'bagging_freq': 2, 'min_child_samples': 80}. Best is trial 38 with value: 0.9724835106323645.\n",
      "[I 2023-09-27 04:50:09,702] Trial 44 finished with value: 0.9728223842521704 and parameters: {'lambda_l1': 0.26695418766971, 'lambda_l2': 0.004636011640181229, 'num_leaves': 249, 'feature_fraction': 0.4334686266501061, 'bagging_fraction': 0.8789305762393483, 'bagging_freq': 1, 'min_child_samples': 92}. Best is trial 44 with value: 0.9728223842521704.\n",
      "[I 2023-09-27 04:50:16,513] Trial 45 finished with value: 0.9721727252180099 and parameters: {'lambda_l1': 0.23465054099270216, 'lambda_l2': 0.008357994990487932, 'num_leaves': 252, 'feature_fraction': 0.7003079342164675, 'bagging_fraction': 0.8702224717367923, 'bagging_freq': 1, 'min_child_samples': 94}. Best is trial 44 with value: 0.9728223842521704.\n",
      "[I 2023-09-27 04:50:23,467] Trial 46 finished with value: 0.9721726150555918 and parameters: {'lambda_l1': 0.25398817081884784, 'lambda_l2': 0.017385094363712564, 'num_leaves': 256, 'feature_fraction': 0.7139901538735567, 'bagging_fraction': 0.8307440294835912, 'bagging_freq': 1, 'min_child_samples': 93}. Best is trial 44 with value: 0.9728223842521704.\n"
     ]
    },
    {
     "name": "stderr",
     "output_type": "stream",
     "text": [
      "[I 2023-09-27 04:50:30,284] Trial 47 finished with value: 0.9718123575048322 and parameters: {'lambda_l1': 0.01859801380469218, 'lambda_l2': 0.010499023429478132, 'num_leaves': 254, 'feature_fraction': 0.6969633475543099, 'bagging_fraction': 0.8324477075767394, 'bagging_freq': 1, 'min_child_samples': 99}. Best is trial 44 with value: 0.9728223842521704.\n",
      "[I 2023-09-27 04:50:36,241] Trial 48 finished with value: 0.9695135273377247 and parameters: {'lambda_l1': 0.051166102232625146, 'lambda_l2': 0.00319694101533669, 'num_leaves': 207, 'feature_fraction': 0.7323619537814765, 'bagging_fraction': 0.7973165401194682, 'bagging_freq': 1, 'min_child_samples': 94}. Best is trial 44 with value: 0.9728223842521704.\n",
      "[I 2023-09-27 04:50:43,661] Trial 49 finished with value: 0.9718893346715307 and parameters: {'lambda_l1': 0.24328777632979096, 'lambda_l2': 0.016087678588628692, 'num_leaves': 221, 'feature_fraction': 0.6307719528739647, 'bagging_fraction': 0.8448856487633765, 'bagging_freq': 2, 'min_child_samples': 90}. Best is trial 44 with value: 0.9728223842521704.\n"
     ]
    },
    {
     "name": "stdout",
     "output_type": "stream",
     "text": [
      "LGBM Best trial: score 0.9728223842521704, params {'lambda_l1': 0.26695418766971, 'lambda_l2': 0.004636011640181229, 'num_leaves': 249, 'feature_fraction': 0.4334686266501061, 'bagging_fraction': 0.8789305762393483, 'bagging_freq': 1, 'min_child_samples': 92}\n"
     ]
    }
   ],
   "source": [
    "def lgbm_objective(trial, data=X_train, target=y_train):\n",
    "    lgbm_params = {\n",
    "        'objective': 'binary',\n",
    "        'metric': 'binary_logloss',\n",
    "        'verbosity': -1,\n",
    "        'boosting_type': 'gbdt',\n",
    "        'class_weight': 'balanced',  # 클래스 불균형 해결을 위한 설정\n",
    "        'lambda_l1': trial.suggest_loguniform('lambda_l1', 1e-8, 10.0),\n",
    "        'lambda_l2': trial.suggest_loguniform('lambda_l2', 1e-8, 10.0),\n",
    "        'num_leaves': trial.suggest_int('num_leaves', 2, 256),\n",
    "        'feature_fraction': trial.suggest_uniform('feature_fraction', 0.4, 1.0),\n",
    "        'bagging_fraction': trial.suggest_uniform('bagging_fraction', 0.4, 1.0),\n",
    "        'bagging_freq': trial.suggest_int('bagging_freq', 1, 7),\n",
    "        'min_child_samples': trial.suggest_int('min_child_samples', 5, 100),\n",
    "    }\n",
    "    model = lgb.train(lgbm_params, lgb.Dataset(data, label=target))\n",
    "    preds_proba = model.predict(X_val)\n",
    "    return roc_auc_score(y_val, preds_proba)\n",
    "\n",
    "lgbm_study = optuna.create_study(direction='maximize')\n",
    "lgbm_study.optimize(lgbm_objective, n_trials=50)\n",
    "print(f\"LGBM Best trial: score {lgbm_study.best_value}, params {lgbm_study.best_params}\")"
   ]
  },
  {
   "cell_type": "code",
   "execution_count": 22,
   "id": "4a4c33e5",
   "metadata": {},
   "outputs": [],
   "source": [
    "X_train_all = pd.concat([X_train, X_val], axis=0)\n",
    "y_train_all = pd.concat([y_train, y_val], axis=0)"
   ]
  },
  {
   "cell_type": "code",
   "execution_count": 23,
   "id": "b6d16d14",
   "metadata": {},
   "outputs": [
    {
     "name": "stdout",
     "output_type": "stream",
     "text": [
      "[LightGBM] [Info] Auto-choosing row-wise multi-threading, the overhead of testing was 0.004597 seconds.\n",
      "You can set `force_row_wise=true` to remove the overhead.\n",
      "And if memory is not enough, you can set `force_col_wise=true`.\n",
      "[LightGBM] [Info] Total Bins 1999\n",
      "[LightGBM] [Info] Number of data points in the train set: 907062, number of used features: 19\n",
      "[LightGBM] [Info] Start training from score 0.510898\n",
      "[LightGBM] [Info] Auto-choosing row-wise multi-threading, the overhead of testing was 0.005637 seconds.\n",
      "You can set `force_row_wise=true` to remove the overhead.\n",
      "And if memory is not enough, you can set `force_col_wise=true`.\n",
      "[LightGBM] [Info] Total Bins 2009\n",
      "[LightGBM] [Info] Number of data points in the train set: 1325876, number of used features: 19\n",
      "[LightGBM] [Info] Start training from score 0.500000\n"
     ]
    }
   ],
   "source": [
    "best_params = lgbm_study.best_params\n",
    "best_model_val = lgb.train(best_params, lgb.Dataset(X_train, label=y_train))\n",
    "best_model = lgb.train(best_params, lgb.Dataset(X_train_all, label=y_train_all))"
   ]
  },
  {
   "cell_type": "code",
   "execution_count": 24,
   "id": "2b9e976d",
   "metadata": {},
   "outputs": [
    {
     "name": "stdout",
     "output_type": "stream",
     "text": [
      "Optimal LGBM Parameters: {'lambda_l1': 0.26695418766971, 'lambda_l2': 0.004636011640181229, 'num_leaves': 249, 'feature_fraction': 0.4334686266501061, 'bagging_fraction': 0.8789305762393483, 'bagging_freq': 1, 'min_child_samples': 92}\n",
      "-------------------------------------------------\n",
      "ROC-AUC for the best model: 0.970\n",
      "f1-score for the best model: 0.901\n",
      "Cohen's Kappa for the best model: 0.805\n"
     ]
    }
   ],
   "source": [
    "y_pred = best_model_val.predict(X_val)\n",
    "y_pred_class = [1 if proba >= 0.5 else 0 for proba in y_pred]\n",
    "\n",
    "roc_auc = roc_auc_score(y_val, y_pred)\n",
    "kappa = cohen_kappa_score(y_val, y_pred_class)\n",
    "f1 = f1_score(y_val, y_pred_class)\n",
    "\n",
    "print(f\"Optimal LGBM Parameters: {best_params}\")\n",
    "print('-------------------------------------------------')\n",
    "print(f\"ROC-AUC for the best model: {roc_auc:.3f}\")\n",
    "print(f\"f1-score for the best model: {f1:.3f}\")\n",
    "print(f\"Cohen's Kappa for the best model: {kappa:.3f}\")"
   ]
  },
  {
   "cell_type": "code",
   "execution_count": 25,
   "id": "4b4d6cff",
   "metadata": {
    "scrolled": true
   },
   "outputs": [
    {
     "name": "stdout",
     "output_type": "stream",
     "text": [
      "Optimal LGBM Parameters: {'lambda_l1': 0.26695418766971, 'lambda_l2': 0.004636011640181229, 'num_leaves': 249, 'feature_fraction': 0.4334686266501061, 'bagging_fraction': 0.8789305762393483, 'bagging_freq': 1, 'min_child_samples': 92}\n",
      "-------------------------------------------------\n",
      "ROC-AUC for the best model: 0.763\n",
      "f1-score for the best model: 0.940\n",
      "Cohen's Kappa for the best model: 0.107\n"
     ]
    }
   ],
   "source": [
    "predict_prob = best_model.predict(X_test.iloc[:,1:])\n",
    "predict = [1 if proba >= 0.5 else 0 for proba in predict_prob]\n",
    "\n",
    "roc_auc = roc_auc_score(y_test, predict_prob)\n",
    "kappa = cohen_kappa_score(y_test, predict)\n",
    "f1 = f1_score(y_test, predict)\n",
    "\n",
    "print(f\"Optimal LGBM Parameters: {best_params}\")\n",
    "print('-------------------------------------------------')\n",
    "print(f\"ROC-AUC for the best model: {roc_auc:.3f}\")\n",
    "print(f\"f1-score for the best model: {f1:.3f}\")\n",
    "print(f\"Cohen's Kappa for the best model: {kappa:.3f}\")"
   ]
  },
  {
   "cell_type": "code",
   "execution_count": 26,
   "id": "39afa669",
   "metadata": {
    "collapsed": true
   },
   "outputs": [
    {
     "name": "stderr",
     "output_type": "stream",
     "text": [
      "[I 2023-09-27 04:50:57,915] A new study created in memory with name: no-name-ed262128-2ce7-4f0d-9013-66855f8d306e\n",
      "[I 2023-09-27 04:51:03,782] Trial 0 finished with value: 0.9690817314668378 and parameters: {'lambda_l1': 2.4753609047150124e-08, 'lambda_l2': 0.18188247070532412, 'num_leaves': 170, 'feature_fraction': 0.6473748290100486, 'bagging_fraction': 0.6897020667759703, 'bagging_freq': 4, 'min_child_samples': 100}. Best is trial 0 with value: 0.9690817314668378.\n",
      "[I 2023-09-27 04:51:10,929] Trial 1 finished with value: 0.9704930025953755 and parameters: {'lambda_l1': 0.3070898445691894, 'lambda_l2': 0.17339779857379928, 'num_leaves': 205, 'feature_fraction': 0.5656338754388232, 'bagging_fraction': 0.8659946700001578, 'bagging_freq': 5, 'min_child_samples': 91}. Best is trial 1 with value: 0.9704930025953755.\n",
      "[I 2023-09-27 04:51:12,932] Trial 2 finished with value: 0.9312016260857686 and parameters: {'lambda_l1': 3.5491080565472807e-06, 'lambda_l2': 0.003913039726175166, 'num_leaves': 14, 'feature_fraction': 0.6250945520079921, 'bagging_fraction': 0.8222122392379712, 'bagging_freq': 7, 'min_child_samples': 21}. Best is trial 1 with value: 0.9704930025953755.\n",
      "[I 2023-09-27 04:51:18,252] Trial 3 finished with value: 0.9688864905789448 and parameters: {'lambda_l1': 2.9088855541158157e-08, 'lambda_l2': 1.0704127285230546e-07, 'num_leaves': 141, 'feature_fraction': 0.7900423526228151, 'bagging_fraction': 0.93160933051432, 'bagging_freq': 7, 'min_child_samples': 100}. Best is trial 1 with value: 0.9704930025953755.\n",
      "[I 2023-09-27 04:51:25,466] Trial 4 finished with value: 0.9705229702013916 and parameters: {'lambda_l1': 0.04889660805537465, 'lambda_l2': 0.5436179927627848, 'num_leaves': 227, 'feature_fraction': 0.514207337134453, 'bagging_fraction': 0.4084440605145292, 'bagging_freq': 3, 'min_child_samples': 69}. Best is trial 4 with value: 0.9705229702013916.\n",
      "[I 2023-09-27 04:51:32,201] Trial 5 finished with value: 0.970625162619956 and parameters: {'lambda_l1': 5.765488472881189e-08, 'lambda_l2': 8.444369171577441e-08, 'num_leaves': 205, 'feature_fraction': 0.4659905520195632, 'bagging_fraction': 0.4581474839227765, 'bagging_freq': 6, 'min_child_samples': 87}. Best is trial 5 with value: 0.970625162619956.\n",
      "[I 2023-09-27 04:51:39,221] Trial 6 finished with value: 0.9705050080248495 and parameters: {'lambda_l1': 8.613549665518698e-05, 'lambda_l2': 5.005123784915722e-05, 'num_leaves': 236, 'feature_fraction': 0.7408344114164511, 'bagging_fraction': 0.7783262015137238, 'bagging_freq': 5, 'min_child_samples': 90}. Best is trial 5 with value: 0.970625162619956.\n",
      "[I 2023-09-27 04:51:44,823] Trial 7 finished with value: 0.9642044574315113 and parameters: {'lambda_l1': 6.008761704961549e-06, 'lambda_l2': 0.00029141580268316104, 'num_leaves': 182, 'feature_fraction': 0.9955403740120362, 'bagging_fraction': 0.4300399375321111, 'bagging_freq': 5, 'min_child_samples': 66}. Best is trial 5 with value: 0.970625162619956.\n",
      "[I 2023-09-27 04:51:49,549] Trial 8 finished with value: 0.9649447807071553 and parameters: {'lambda_l1': 1.4426726816842489e-08, 'lambda_l2': 0.011204656745800722, 'num_leaves': 118, 'feature_fraction': 0.8818482209205172, 'bagging_fraction': 0.813687772941664, 'bagging_freq': 3, 'min_child_samples': 46}. Best is trial 5 with value: 0.970625162619956.\n",
      "[I 2023-09-27 04:51:50,927] Trial 9 finished with value: 0.8892926029372944 and parameters: {'lambda_l1': 7.102773152633689e-08, 'lambda_l2': 0.03285862015422584, 'num_leaves': 6, 'feature_fraction': 0.7021778154891312, 'bagging_fraction': 0.47729247970731453, 'bagging_freq': 6, 'min_child_samples': 79}. Best is trial 5 with value: 0.970625162619956.\n",
      "[I 2023-09-27 04:51:54,273] Trial 10 finished with value: 0.9605320256376387 and parameters: {'lambda_l1': 0.0013924521114779369, 'lambda_l2': 1.878076093235455e-08, 'num_leaves': 70, 'feature_fraction': 0.43788312753038894, 'bagging_fraction': 0.5756744766586429, 'bagging_freq': 1, 'min_child_samples': 46}. Best is trial 5 with value: 0.970625162619956.\n",
      "[I 2023-09-27 04:52:02,149] Trial 11 finished with value: 0.972031955669053 and parameters: {'lambda_l1': 0.054368568765732254, 'lambda_l2': 1.310690523638302, 'num_leaves': 256, 'feature_fraction': 0.4150101203318143, 'bagging_fraction': 0.4209033588470981, 'bagging_freq': 2, 'min_child_samples': 65}. Best is trial 11 with value: 0.972031955669053.\n",
      "[I 2023-09-27 04:52:09,948] Trial 12 finished with value: 0.9712920846192775 and parameters: {'lambda_l1': 4.555335608704104, 'lambda_l2': 2.6568481692599337, 'num_leaves': 256, 'feature_fraction': 0.4118167437296154, 'bagging_fraction': 0.5356703446778563, 'bagging_freq': 1, 'min_child_samples': 60}. Best is trial 11 with value: 0.972031955669053.\n",
      "[I 2023-09-27 04:52:17,717] Trial 13 finished with value: 0.9714294014106443 and parameters: {'lambda_l1': 4.452877434739989, 'lambda_l2': 7.491336829645609, 'num_leaves': 255, 'feature_fraction': 0.4018554648023074, 'bagging_fraction': 0.5564627997242422, 'bagging_freq': 1, 'min_child_samples': 27}. Best is trial 11 with value: 0.972031955669053.\n",
      "[I 2023-09-27 04:52:25,761] Trial 14 finished with value: 0.9702099302400135 and parameters: {'lambda_l1': 8.985853408984513, 'lambda_l2': 7.199863103310259, 'num_leaves': 254, 'feature_fraction': 0.4091445070991346, 'bagging_fraction': 0.5944608857252864, 'bagging_freq': 2, 'min_child_samples': 25}. Best is trial 11 with value: 0.972031955669053.\n",
      "[I 2023-09-27 04:52:30,464] Trial 15 finished with value: 0.9642240048041104 and parameters: {'lambda_l1': 0.05298663266388102, 'lambda_l2': 7.746779861002344, 'num_leaves': 101, 'feature_fraction': 0.5175034258975957, 'bagging_fraction': 0.6458728657947572, 'bagging_freq': 2, 'min_child_samples': 10}. Best is trial 11 with value: 0.972031955669053.\n",
      "[W 2023-09-27 04:52:32,760] Trial 16 failed with parameters: {'lambda_l1': 1.0462703173446988, 'lambda_l2': 0.9633264673449987, 'num_leaves': 165, 'feature_fraction': 0.49850925313279343, 'bagging_fraction': 0.5154866887192738, 'bagging_freq': 2, 'min_child_samples': 32} because of the following error: KeyboardInterrupt().\n",
      "Traceback (most recent call last):\n",
      "  File \"C:\\Users\\Lee_HJ\\anaconda3\\envs\\BigContest\\lib\\site-packages\\optuna\\study\\_optimize.py\", line 200, in _run_trial\n",
      "    value_or_values = func(trial)\n",
      "  File \"C:\\Users\\Lee_HJ\\AppData\\Local\\Temp\\ipykernel_5296\\3267613775.py\", line 15, in lgbm_objective\n",
      "    model = lgb.train(lgbm_params, lgb.Dataset(data, label=target))\n",
      "  File \"C:\\Users\\Lee_HJ\\anaconda3\\envs\\BigContest\\lib\\site-packages\\lightgbm\\engine.py\", line 276, in train\n",
      "    booster.update(fobj=fobj)\n",
      "  File \"C:\\Users\\Lee_HJ\\anaconda3\\envs\\BigContest\\lib\\site-packages\\lightgbm\\basic.py\", line 3658, in update\n",
      "    _safe_call(_LIB.LGBM_BoosterUpdateOneIter(\n",
      "KeyboardInterrupt\n",
      "[W 2023-09-27 04:52:32,765] Trial 16 failed with value None.\n"
     ]
    },
    {
     "ename": "KeyboardInterrupt",
     "evalue": "",
     "output_type": "error",
     "traceback": [
      "\u001b[1;31m---------------------------------------------------------------------------\u001b[0m",
      "\u001b[1;31mKeyboardInterrupt\u001b[0m                         Traceback (most recent call last)",
      "Cell \u001b[1;32mIn[26], line 20\u001b[0m\n\u001b[0;32m     17\u001b[0m     \u001b[38;5;28;01mreturn\u001b[39;00m roc_auc_score(y_val, preds_proba)\n\u001b[0;32m     19\u001b[0m lgbm_study \u001b[38;5;241m=\u001b[39m optuna\u001b[38;5;241m.\u001b[39mcreate_study(direction\u001b[38;5;241m=\u001b[39m\u001b[38;5;124m'\u001b[39m\u001b[38;5;124mmaximize\u001b[39m\u001b[38;5;124m'\u001b[39m)\n\u001b[1;32m---> 20\u001b[0m \u001b[43mlgbm_study\u001b[49m\u001b[38;5;241;43m.\u001b[39;49m\u001b[43moptimize\u001b[49m\u001b[43m(\u001b[49m\u001b[43mlgbm_objective\u001b[49m\u001b[43m,\u001b[49m\u001b[43m \u001b[49m\u001b[43mn_trials\u001b[49m\u001b[38;5;241;43m=\u001b[39;49m\u001b[38;5;241;43m100\u001b[39;49m\u001b[43m)\u001b[49m\n\u001b[0;32m     21\u001b[0m \u001b[38;5;28mprint\u001b[39m(\u001b[38;5;124mf\u001b[39m\u001b[38;5;124m\"\u001b[39m\u001b[38;5;124mLGBM Best trial: score \u001b[39m\u001b[38;5;132;01m{\u001b[39;00mlgbm_study\u001b[38;5;241m.\u001b[39mbest_value\u001b[38;5;132;01m}\u001b[39;00m\u001b[38;5;124m, params \u001b[39m\u001b[38;5;132;01m{\u001b[39;00mlgbm_study\u001b[38;5;241m.\u001b[39mbest_params\u001b[38;5;132;01m}\u001b[39;00m\u001b[38;5;124m\"\u001b[39m)\n",
      "File \u001b[1;32m~\\anaconda3\\envs\\BigContest\\lib\\site-packages\\optuna\\study\\study.py:442\u001b[0m, in \u001b[0;36mStudy.optimize\u001b[1;34m(self, func, n_trials, timeout, n_jobs, catch, callbacks, gc_after_trial, show_progress_bar)\u001b[0m\n\u001b[0;32m    339\u001b[0m \u001b[38;5;28;01mdef\u001b[39;00m \u001b[38;5;21moptimize\u001b[39m(\n\u001b[0;32m    340\u001b[0m     \u001b[38;5;28mself\u001b[39m,\n\u001b[0;32m    341\u001b[0m     func: ObjectiveFuncType,\n\u001b[1;32m   (...)\u001b[0m\n\u001b[0;32m    348\u001b[0m     show_progress_bar: \u001b[38;5;28mbool\u001b[39m \u001b[38;5;241m=\u001b[39m \u001b[38;5;28;01mFalse\u001b[39;00m,\n\u001b[0;32m    349\u001b[0m ) \u001b[38;5;241m-\u001b[39m\u001b[38;5;241m>\u001b[39m \u001b[38;5;28;01mNone\u001b[39;00m:\n\u001b[0;32m    350\u001b[0m \u001b[38;5;250m    \u001b[39m\u001b[38;5;124;03m\"\"\"Optimize an objective function.\u001b[39;00m\n\u001b[0;32m    351\u001b[0m \n\u001b[0;32m    352\u001b[0m \u001b[38;5;124;03m    Optimization is done by choosing a suitable set of hyperparameter values from a given\u001b[39;00m\n\u001b[1;32m   (...)\u001b[0m\n\u001b[0;32m    440\u001b[0m \u001b[38;5;124;03m            If nested invocation of this method occurs.\u001b[39;00m\n\u001b[0;32m    441\u001b[0m \u001b[38;5;124;03m    \"\"\"\u001b[39;00m\n\u001b[1;32m--> 442\u001b[0m     \u001b[43m_optimize\u001b[49m\u001b[43m(\u001b[49m\n\u001b[0;32m    443\u001b[0m \u001b[43m        \u001b[49m\u001b[43mstudy\u001b[49m\u001b[38;5;241;43m=\u001b[39;49m\u001b[38;5;28;43mself\u001b[39;49m\u001b[43m,\u001b[49m\n\u001b[0;32m    444\u001b[0m \u001b[43m        \u001b[49m\u001b[43mfunc\u001b[49m\u001b[38;5;241;43m=\u001b[39;49m\u001b[43mfunc\u001b[49m\u001b[43m,\u001b[49m\n\u001b[0;32m    445\u001b[0m \u001b[43m        \u001b[49m\u001b[43mn_trials\u001b[49m\u001b[38;5;241;43m=\u001b[39;49m\u001b[43mn_trials\u001b[49m\u001b[43m,\u001b[49m\n\u001b[0;32m    446\u001b[0m \u001b[43m        \u001b[49m\u001b[43mtimeout\u001b[49m\u001b[38;5;241;43m=\u001b[39;49m\u001b[43mtimeout\u001b[49m\u001b[43m,\u001b[49m\n\u001b[0;32m    447\u001b[0m \u001b[43m        \u001b[49m\u001b[43mn_jobs\u001b[49m\u001b[38;5;241;43m=\u001b[39;49m\u001b[43mn_jobs\u001b[49m\u001b[43m,\u001b[49m\n\u001b[0;32m    448\u001b[0m \u001b[43m        \u001b[49m\u001b[43mcatch\u001b[49m\u001b[38;5;241;43m=\u001b[39;49m\u001b[38;5;28;43mtuple\u001b[39;49m\u001b[43m(\u001b[49m\u001b[43mcatch\u001b[49m\u001b[43m)\u001b[49m\u001b[43m \u001b[49m\u001b[38;5;28;43;01mif\u001b[39;49;00m\u001b[43m \u001b[49m\u001b[38;5;28;43misinstance\u001b[39;49m\u001b[43m(\u001b[49m\u001b[43mcatch\u001b[49m\u001b[43m,\u001b[49m\u001b[43m \u001b[49m\u001b[43mIterable\u001b[49m\u001b[43m)\u001b[49m\u001b[43m \u001b[49m\u001b[38;5;28;43;01melse\u001b[39;49;00m\u001b[43m \u001b[49m\u001b[43m(\u001b[49m\u001b[43mcatch\u001b[49m\u001b[43m,\u001b[49m\u001b[43m)\u001b[49m\u001b[43m,\u001b[49m\n\u001b[0;32m    449\u001b[0m \u001b[43m        \u001b[49m\u001b[43mcallbacks\u001b[49m\u001b[38;5;241;43m=\u001b[39;49m\u001b[43mcallbacks\u001b[49m\u001b[43m,\u001b[49m\n\u001b[0;32m    450\u001b[0m \u001b[43m        \u001b[49m\u001b[43mgc_after_trial\u001b[49m\u001b[38;5;241;43m=\u001b[39;49m\u001b[43mgc_after_trial\u001b[49m\u001b[43m,\u001b[49m\n\u001b[0;32m    451\u001b[0m \u001b[43m        \u001b[49m\u001b[43mshow_progress_bar\u001b[49m\u001b[38;5;241;43m=\u001b[39;49m\u001b[43mshow_progress_bar\u001b[49m\u001b[43m,\u001b[49m\n\u001b[0;32m    452\u001b[0m \u001b[43m    \u001b[49m\u001b[43m)\u001b[49m\n",
      "File \u001b[1;32m~\\anaconda3\\envs\\BigContest\\lib\\site-packages\\optuna\\study\\_optimize.py:66\u001b[0m, in \u001b[0;36m_optimize\u001b[1;34m(study, func, n_trials, timeout, n_jobs, catch, callbacks, gc_after_trial, show_progress_bar)\u001b[0m\n\u001b[0;32m     64\u001b[0m \u001b[38;5;28;01mtry\u001b[39;00m:\n\u001b[0;32m     65\u001b[0m     \u001b[38;5;28;01mif\u001b[39;00m n_jobs \u001b[38;5;241m==\u001b[39m \u001b[38;5;241m1\u001b[39m:\n\u001b[1;32m---> 66\u001b[0m         \u001b[43m_optimize_sequential\u001b[49m\u001b[43m(\u001b[49m\n\u001b[0;32m     67\u001b[0m \u001b[43m            \u001b[49m\u001b[43mstudy\u001b[49m\u001b[43m,\u001b[49m\n\u001b[0;32m     68\u001b[0m \u001b[43m            \u001b[49m\u001b[43mfunc\u001b[49m\u001b[43m,\u001b[49m\n\u001b[0;32m     69\u001b[0m \u001b[43m            \u001b[49m\u001b[43mn_trials\u001b[49m\u001b[43m,\u001b[49m\n\u001b[0;32m     70\u001b[0m \u001b[43m            \u001b[49m\u001b[43mtimeout\u001b[49m\u001b[43m,\u001b[49m\n\u001b[0;32m     71\u001b[0m \u001b[43m            \u001b[49m\u001b[43mcatch\u001b[49m\u001b[43m,\u001b[49m\n\u001b[0;32m     72\u001b[0m \u001b[43m            \u001b[49m\u001b[43mcallbacks\u001b[49m\u001b[43m,\u001b[49m\n\u001b[0;32m     73\u001b[0m \u001b[43m            \u001b[49m\u001b[43mgc_after_trial\u001b[49m\u001b[43m,\u001b[49m\n\u001b[0;32m     74\u001b[0m \u001b[43m            \u001b[49m\u001b[43mreseed_sampler_rng\u001b[49m\u001b[38;5;241;43m=\u001b[39;49m\u001b[38;5;28;43;01mFalse\u001b[39;49;00m\u001b[43m,\u001b[49m\n\u001b[0;32m     75\u001b[0m \u001b[43m            \u001b[49m\u001b[43mtime_start\u001b[49m\u001b[38;5;241;43m=\u001b[39;49m\u001b[38;5;28;43;01mNone\u001b[39;49;00m\u001b[43m,\u001b[49m\n\u001b[0;32m     76\u001b[0m \u001b[43m            \u001b[49m\u001b[43mprogress_bar\u001b[49m\u001b[38;5;241;43m=\u001b[39;49m\u001b[43mprogress_bar\u001b[49m\u001b[43m,\u001b[49m\n\u001b[0;32m     77\u001b[0m \u001b[43m        \u001b[49m\u001b[43m)\u001b[49m\n\u001b[0;32m     78\u001b[0m     \u001b[38;5;28;01melse\u001b[39;00m:\n\u001b[0;32m     79\u001b[0m         \u001b[38;5;28;01mif\u001b[39;00m n_jobs \u001b[38;5;241m==\u001b[39m \u001b[38;5;241m-\u001b[39m\u001b[38;5;241m1\u001b[39m:\n",
      "File \u001b[1;32m~\\anaconda3\\envs\\BigContest\\lib\\site-packages\\optuna\\study\\_optimize.py:163\u001b[0m, in \u001b[0;36m_optimize_sequential\u001b[1;34m(study, func, n_trials, timeout, catch, callbacks, gc_after_trial, reseed_sampler_rng, time_start, progress_bar)\u001b[0m\n\u001b[0;32m    160\u001b[0m         \u001b[38;5;28;01mbreak\u001b[39;00m\n\u001b[0;32m    162\u001b[0m \u001b[38;5;28;01mtry\u001b[39;00m:\n\u001b[1;32m--> 163\u001b[0m     frozen_trial \u001b[38;5;241m=\u001b[39m \u001b[43m_run_trial\u001b[49m\u001b[43m(\u001b[49m\u001b[43mstudy\u001b[49m\u001b[43m,\u001b[49m\u001b[43m \u001b[49m\u001b[43mfunc\u001b[49m\u001b[43m,\u001b[49m\u001b[43m \u001b[49m\u001b[43mcatch\u001b[49m\u001b[43m)\u001b[49m\n\u001b[0;32m    164\u001b[0m \u001b[38;5;28;01mfinally\u001b[39;00m:\n\u001b[0;32m    165\u001b[0m     \u001b[38;5;66;03m# The following line mitigates memory problems that can be occurred in some\u001b[39;00m\n\u001b[0;32m    166\u001b[0m     \u001b[38;5;66;03m# environments (e.g., services that use computing containers such as GitHub Actions).\u001b[39;00m\n\u001b[0;32m    167\u001b[0m     \u001b[38;5;66;03m# Please refer to the following PR for further details:\u001b[39;00m\n\u001b[0;32m    168\u001b[0m     \u001b[38;5;66;03m# https://github.com/optuna/optuna/pull/325.\u001b[39;00m\n\u001b[0;32m    169\u001b[0m     \u001b[38;5;28;01mif\u001b[39;00m gc_after_trial:\n",
      "File \u001b[1;32m~\\anaconda3\\envs\\BigContest\\lib\\site-packages\\optuna\\study\\_optimize.py:251\u001b[0m, in \u001b[0;36m_run_trial\u001b[1;34m(study, func, catch)\u001b[0m\n\u001b[0;32m    244\u001b[0m         \u001b[38;5;28;01massert\u001b[39;00m \u001b[38;5;28;01mFalse\u001b[39;00m, \u001b[38;5;124m\"\u001b[39m\u001b[38;5;124mShould not reach.\u001b[39m\u001b[38;5;124m\"\u001b[39m\n\u001b[0;32m    246\u001b[0m \u001b[38;5;28;01mif\u001b[39;00m (\n\u001b[0;32m    247\u001b[0m     frozen_trial\u001b[38;5;241m.\u001b[39mstate \u001b[38;5;241m==\u001b[39m TrialState\u001b[38;5;241m.\u001b[39mFAIL\n\u001b[0;32m    248\u001b[0m     \u001b[38;5;129;01mand\u001b[39;00m func_err \u001b[38;5;129;01mis\u001b[39;00m \u001b[38;5;129;01mnot\u001b[39;00m \u001b[38;5;28;01mNone\u001b[39;00m\n\u001b[0;32m    249\u001b[0m     \u001b[38;5;129;01mand\u001b[39;00m \u001b[38;5;129;01mnot\u001b[39;00m \u001b[38;5;28misinstance\u001b[39m(func_err, catch)\n\u001b[0;32m    250\u001b[0m ):\n\u001b[1;32m--> 251\u001b[0m     \u001b[38;5;28;01mraise\u001b[39;00m func_err\n\u001b[0;32m    252\u001b[0m \u001b[38;5;28;01mreturn\u001b[39;00m frozen_trial\n",
      "File \u001b[1;32m~\\anaconda3\\envs\\BigContest\\lib\\site-packages\\optuna\\study\\_optimize.py:200\u001b[0m, in \u001b[0;36m_run_trial\u001b[1;34m(study, func, catch)\u001b[0m\n\u001b[0;32m    198\u001b[0m \u001b[38;5;28;01mwith\u001b[39;00m get_heartbeat_thread(trial\u001b[38;5;241m.\u001b[39m_trial_id, study\u001b[38;5;241m.\u001b[39m_storage):\n\u001b[0;32m    199\u001b[0m     \u001b[38;5;28;01mtry\u001b[39;00m:\n\u001b[1;32m--> 200\u001b[0m         value_or_values \u001b[38;5;241m=\u001b[39m \u001b[43mfunc\u001b[49m\u001b[43m(\u001b[49m\u001b[43mtrial\u001b[49m\u001b[43m)\u001b[49m\n\u001b[0;32m    201\u001b[0m     \u001b[38;5;28;01mexcept\u001b[39;00m exceptions\u001b[38;5;241m.\u001b[39mTrialPruned \u001b[38;5;28;01mas\u001b[39;00m e:\n\u001b[0;32m    202\u001b[0m         \u001b[38;5;66;03m# TODO(mamu): Handle multi-objective cases.\u001b[39;00m\n\u001b[0;32m    203\u001b[0m         state \u001b[38;5;241m=\u001b[39m TrialState\u001b[38;5;241m.\u001b[39mPRUNED\n",
      "Cell \u001b[1;32mIn[26], line 15\u001b[0m, in \u001b[0;36mlgbm_objective\u001b[1;34m(trial, data, target)\u001b[0m\n\u001b[0;32m      1\u001b[0m \u001b[38;5;28;01mdef\u001b[39;00m \u001b[38;5;21mlgbm_objective\u001b[39m(trial, data\u001b[38;5;241m=\u001b[39mX_train, target\u001b[38;5;241m=\u001b[39my_train):\n\u001b[0;32m      2\u001b[0m     lgbm_params \u001b[38;5;241m=\u001b[39m {\n\u001b[0;32m      3\u001b[0m         \u001b[38;5;124m'\u001b[39m\u001b[38;5;124mobjective\u001b[39m\u001b[38;5;124m'\u001b[39m: \u001b[38;5;124m'\u001b[39m\u001b[38;5;124mbinary\u001b[39m\u001b[38;5;124m'\u001b[39m,\n\u001b[0;32m      4\u001b[0m         \u001b[38;5;124m'\u001b[39m\u001b[38;5;124mmetric\u001b[39m\u001b[38;5;124m'\u001b[39m: \u001b[38;5;124m'\u001b[39m\u001b[38;5;124mbinary_logloss\u001b[39m\u001b[38;5;124m'\u001b[39m,\n\u001b[1;32m   (...)\u001b[0m\n\u001b[0;32m     13\u001b[0m         \u001b[38;5;124m'\u001b[39m\u001b[38;5;124mmin_child_samples\u001b[39m\u001b[38;5;124m'\u001b[39m: trial\u001b[38;5;241m.\u001b[39msuggest_int(\u001b[38;5;124m'\u001b[39m\u001b[38;5;124mmin_child_samples\u001b[39m\u001b[38;5;124m'\u001b[39m, \u001b[38;5;241m5\u001b[39m, \u001b[38;5;241m100\u001b[39m),\n\u001b[0;32m     14\u001b[0m     }\n\u001b[1;32m---> 15\u001b[0m     model \u001b[38;5;241m=\u001b[39m \u001b[43mlgb\u001b[49m\u001b[38;5;241;43m.\u001b[39;49m\u001b[43mtrain\u001b[49m\u001b[43m(\u001b[49m\u001b[43mlgbm_params\u001b[49m\u001b[43m,\u001b[49m\u001b[43m \u001b[49m\u001b[43mlgb\u001b[49m\u001b[38;5;241;43m.\u001b[39;49m\u001b[43mDataset\u001b[49m\u001b[43m(\u001b[49m\u001b[43mdata\u001b[49m\u001b[43m,\u001b[49m\u001b[43m \u001b[49m\u001b[43mlabel\u001b[49m\u001b[38;5;241;43m=\u001b[39;49m\u001b[43mtarget\u001b[49m\u001b[43m)\u001b[49m\u001b[43m)\u001b[49m\n\u001b[0;32m     16\u001b[0m     preds_proba \u001b[38;5;241m=\u001b[39m model\u001b[38;5;241m.\u001b[39mpredict(X_val)\n\u001b[0;32m     17\u001b[0m     \u001b[38;5;28;01mreturn\u001b[39;00m roc_auc_score(y_val, preds_proba)\n",
      "File \u001b[1;32m~\\anaconda3\\envs\\BigContest\\lib\\site-packages\\lightgbm\\engine.py:276\u001b[0m, in \u001b[0;36mtrain\u001b[1;34m(params, train_set, num_boost_round, valid_sets, valid_names, feval, init_model, feature_name, categorical_feature, keep_training_booster, callbacks)\u001b[0m\n\u001b[0;32m    268\u001b[0m \u001b[38;5;28;01mfor\u001b[39;00m cb \u001b[38;5;129;01min\u001b[39;00m callbacks_before_iter:\n\u001b[0;32m    269\u001b[0m     cb(callback\u001b[38;5;241m.\u001b[39mCallbackEnv(model\u001b[38;5;241m=\u001b[39mbooster,\n\u001b[0;32m    270\u001b[0m                             params\u001b[38;5;241m=\u001b[39mparams,\n\u001b[0;32m    271\u001b[0m                             iteration\u001b[38;5;241m=\u001b[39mi,\n\u001b[0;32m    272\u001b[0m                             begin_iteration\u001b[38;5;241m=\u001b[39minit_iteration,\n\u001b[0;32m    273\u001b[0m                             end_iteration\u001b[38;5;241m=\u001b[39minit_iteration \u001b[38;5;241m+\u001b[39m num_boost_round,\n\u001b[0;32m    274\u001b[0m                             evaluation_result_list\u001b[38;5;241m=\u001b[39m\u001b[38;5;28;01mNone\u001b[39;00m))\n\u001b[1;32m--> 276\u001b[0m \u001b[43mbooster\u001b[49m\u001b[38;5;241;43m.\u001b[39;49m\u001b[43mupdate\u001b[49m\u001b[43m(\u001b[49m\u001b[43mfobj\u001b[49m\u001b[38;5;241;43m=\u001b[39;49m\u001b[43mfobj\u001b[49m\u001b[43m)\u001b[49m\n\u001b[0;32m    278\u001b[0m evaluation_result_list: List[_LGBM_BoosterEvalMethodResultType] \u001b[38;5;241m=\u001b[39m []\n\u001b[0;32m    279\u001b[0m \u001b[38;5;66;03m# check evaluation result.\u001b[39;00m\n",
      "File \u001b[1;32m~\\anaconda3\\envs\\BigContest\\lib\\site-packages\\lightgbm\\basic.py:3658\u001b[0m, in \u001b[0;36mBooster.update\u001b[1;34m(self, train_set, fobj)\u001b[0m\n\u001b[0;32m   3656\u001b[0m \u001b[38;5;28;01mif\u001b[39;00m \u001b[38;5;28mself\u001b[39m\u001b[38;5;241m.\u001b[39m__set_objective_to_none:\n\u001b[0;32m   3657\u001b[0m     \u001b[38;5;28;01mraise\u001b[39;00m LightGBMError(\u001b[38;5;124m'\u001b[39m\u001b[38;5;124mCannot update due to null objective function.\u001b[39m\u001b[38;5;124m'\u001b[39m)\n\u001b[1;32m-> 3658\u001b[0m _safe_call(\u001b[43m_LIB\u001b[49m\u001b[38;5;241;43m.\u001b[39;49m\u001b[43mLGBM_BoosterUpdateOneIter\u001b[49m\u001b[43m(\u001b[49m\n\u001b[0;32m   3659\u001b[0m \u001b[43m    \u001b[49m\u001b[38;5;28;43mself\u001b[39;49m\u001b[38;5;241;43m.\u001b[39;49m\u001b[43m_handle\u001b[49m\u001b[43m,\u001b[49m\n\u001b[0;32m   3660\u001b[0m \u001b[43m    \u001b[49m\u001b[43mctypes\u001b[49m\u001b[38;5;241;43m.\u001b[39;49m\u001b[43mbyref\u001b[49m\u001b[43m(\u001b[49m\u001b[43mis_finished\u001b[49m\u001b[43m)\u001b[49m\u001b[43m)\u001b[49m)\n\u001b[0;32m   3661\u001b[0m \u001b[38;5;28mself\u001b[39m\u001b[38;5;241m.\u001b[39m__is_predicted_cur_iter \u001b[38;5;241m=\u001b[39m [\u001b[38;5;28;01mFalse\u001b[39;00m \u001b[38;5;28;01mfor\u001b[39;00m _ \u001b[38;5;129;01min\u001b[39;00m \u001b[38;5;28mrange\u001b[39m(\u001b[38;5;28mself\u001b[39m\u001b[38;5;241m.\u001b[39m__num_dataset)]\n\u001b[0;32m   3662\u001b[0m \u001b[38;5;28;01mreturn\u001b[39;00m is_finished\u001b[38;5;241m.\u001b[39mvalue \u001b[38;5;241m==\u001b[39m \u001b[38;5;241m1\u001b[39m\n",
      "\u001b[1;31mKeyboardInterrupt\u001b[0m: "
     ]
    }
   ],
   "source": [
    "def lgbm_objective(trial, data=X_train, target=y_train):\n",
    "    lgbm_params = {\n",
    "        'objective': 'binary',\n",
    "        'metric': 'binary_logloss',\n",
    "        'verbosity': -1,\n",
    "        'boosting_type': 'gbdt',\n",
    "        'lambda_l1': trial.suggest_loguniform('lambda_l1', 1e-8, 10.0),\n",
    "        'lambda_l2': trial.suggest_loguniform('lambda_l2', 1e-8, 10.0),\n",
    "        'num_leaves': trial.suggest_int('num_leaves', 2, 256),\n",
    "        'feature_fraction': trial.suggest_uniform('feature_fraction', 0.4, 1.0),\n",
    "        'bagging_fraction': trial.suggest_uniform('bagging_fraction', 0.4, 1.0),\n",
    "        'bagging_freq': trial.suggest_int('bagging_freq', 1, 7),\n",
    "        'min_child_samples': trial.suggest_int('min_child_samples', 5, 100),\n",
    "    }\n",
    "    model = lgb.train(lgbm_params, lgb.Dataset(data, label=target))\n",
    "    preds_proba = model.predict(X_val)\n",
    "    return roc_auc_score(y_val, preds_proba)\n",
    "\n",
    "lgbm_study = optuna.create_study(direction='maximize')\n",
    "lgbm_study.optimize(lgbm_objective, n_trials=100)\n",
    "print(f\"LGBM Best trial: score {lgbm_study.best_value}, params {lgbm_study.best_params}\")"
   ]
  },
  {
   "cell_type": "markdown",
   "id": "27a7a88b",
   "metadata": {},
   "source": [
    "* * *"
   ]
  },
  {
   "cell_type": "markdown",
   "id": "d1b94c45",
   "metadata": {},
   "source": [
    "# 예매 확률 기반 좌석별 가격 최적화\n",
    "- 기준 가격 기준 +150%, -50%의 가격을 각각 탐색의 상한과 하한으로 지정\n",
    "- 기준 가격이란? 주최측에서 희망하는 판매 가격, 예컨대 총 비용을 좌석 수로 나눈 수익분기점 금액.\n",
    "- 1000원 단위의 그리드 서치 형식으로 최적화 수행\n",
    "- 단, 모델 학습 때와 달리 모든 좌석에 대해 가격을 예측해야 하므로 예매 내역에 없는 좌석은 임의로 내역 생성"
   ]
  },
  {
   "cell_type": "code",
   "execution_count": 27,
   "id": "a2fe8a08",
   "metadata": {},
   "outputs": [],
   "source": [
    "opt_test = df_concert[df_concert['unique_perform_code'].isin(X_test['unique_perform_code'].unique())]"
   ]
  },
  {
   "cell_type": "code",
   "execution_count": 28,
   "id": "96c98dee",
   "metadata": {},
   "outputs": [
    {
     "data": {
      "text/html": [
       "<div>\n",
       "<style scoped>\n",
       "    .dataframe tbody tr th:only-of-type {\n",
       "        vertical-align: middle;\n",
       "    }\n",
       "\n",
       "    .dataframe tbody tr th {\n",
       "        vertical-align: top;\n",
       "    }\n",
       "\n",
       "    .dataframe thead th {\n",
       "        text-align: right;\n",
       "    }\n",
       "</style>\n",
       "<table border=\"1\" class=\"dataframe\">\n",
       "  <thead>\n",
       "    <tr style=\"text-align: right;\">\n",
       "      <th></th>\n",
       "      <th>unique_perform_code</th>\n",
       "      <th>play_holiday</th>\n",
       "    </tr>\n",
       "  </thead>\n",
       "  <tbody>\n",
       "    <tr>\n",
       "      <th>0</th>\n",
       "      <td>93</td>\n",
       "      <td>922</td>\n",
       "    </tr>\n",
       "    <tr>\n",
       "      <th>1</th>\n",
       "      <td>211</td>\n",
       "      <td>59</td>\n",
       "    </tr>\n",
       "    <tr>\n",
       "      <th>2</th>\n",
       "      <td>252</td>\n",
       "      <td>542</td>\n",
       "    </tr>\n",
       "    <tr>\n",
       "      <th>3</th>\n",
       "      <td>480</td>\n",
       "      <td>1214</td>\n",
       "    </tr>\n",
       "    <tr>\n",
       "      <th>4</th>\n",
       "      <td>502</td>\n",
       "      <td>1245</td>\n",
       "    </tr>\n",
       "    <tr>\n",
       "      <th>5</th>\n",
       "      <td>676</td>\n",
       "      <td>1209</td>\n",
       "    </tr>\n",
       "    <tr>\n",
       "      <th>6</th>\n",
       "      <td>722</td>\n",
       "      <td>1908</td>\n",
       "    </tr>\n",
       "  </tbody>\n",
       "</table>\n",
       "</div>"
      ],
      "text/plain": [
       "   unique_perform_code  play_holiday\n",
       "0                   93           922\n",
       "1                  211            59\n",
       "2                  252           542\n",
       "3                  480          1214\n",
       "4                  502          1245\n",
       "5                  676          1209\n",
       "6                  722          1908"
      ]
     },
     "execution_count": 28,
     "metadata": {},
     "output_type": "execute_result"
    }
   ],
   "source": [
    "opt_test.groupby('unique_perform_code')['play_holiday'].count().reset_index()"
   ]
  },
  {
   "cell_type": "code",
   "execution_count": 105,
   "id": "9795f124",
   "metadata": {},
   "outputs": [],
   "source": [
    "optExample_origin = opt_test[opt_test['unique_perform_code'] == 93]\n",
    "optExample_scaled = X_test[X_test['unique_perform_code']==93].iloc[:,1:]"
   ]
  },
  {
   "cell_type": "code",
   "execution_count": 106,
   "id": "d212309b",
   "metadata": {},
   "outputs": [],
   "source": [
    "# 평균 가격에 따른 상한, 하한 가격 설정\n",
    "price_mean = optExample_origin['perform_price_mean'].mean()\n",
    "lower_bound = 0.5 * price_mean\n",
    "upper_bound = 5.0 * price_mean"
   ]
  },
  {
   "cell_type": "code",
   "execution_count": 107,
   "id": "d8c68b9d",
   "metadata": {},
   "outputs": [
    {
     "data": {
      "text/plain": [
       "72330.31674208147"
      ]
     },
     "execution_count": 107,
     "metadata": {},
     "output_type": "execute_result"
    }
   ],
   "source": [
    "price_mean*5.0"
   ]
  },
  {
   "cell_type": "code",
   "execution_count": 108,
   "id": "77dae12e",
   "metadata": {},
   "outputs": [],
   "source": [
    "results = []"
   ]
  },
  {
   "cell_type": "code",
   "execution_count": 109,
   "id": "b0279142",
   "metadata": {},
   "outputs": [],
   "source": [
    "# 각 좌석별로 그리드 서치 수행\n",
    "for idx, row in optExample_scaled.iterrows():\n",
    "    best_revenue = 0\n",
    "    best_price_for_row = price_mean\n",
    "    best_seat_rate_for_row = 0\n",
    "    \n",
    "    # 상한, 하한 가격 범위 내에서 1000원 단위로 그리드 서치\n",
    "    for price in np.arange(lower_bound, upper_bound + 1, 1000):\n",
    "        row['price'] = price\n",
    "        # 현재 가격에서의 예매 확률 계산\n",
    "        seat_rate = best_model.predict([row])\n",
    "        # 기대 매출 계산\n",
    "        expected_revenue = seat_rate * price\n",
    "        \n",
    "        # 기대 매출이 이전보다 높을 경우 정보 갱신\n",
    "        if expected_revenue > best_revenue:\n",
    "            best_revenue = expected_revenue\n",
    "            best_price_for_row = price\n",
    "            best_seat_rate_for_row = seat_rate\n",
    "    \n",
    "    # 좌석 정보 문자열로 합치기\n",
    "    seat_str = f\"{row['seat_floor']}층, {row['seat_block']}블록, {row['seat_row']}열, {row['seat_num']}번\"\n",
    "    \n",
    "    # 각 좌석별 최적의 정보를 딕셔너리 형태로 저장\n",
    "    result = {\n",
    "        'genre': row['genre'],\n",
    "        'cluster': row['new_cluster'],\n",
    "        'seat': seat_str,\n",
    "        'price': best_price_for_row,\n",
    "        'best_expected_revenue': best_revenue,\n",
    "        'best_seat_rate': best_seat_rate_for_row\n",
    "    }\n",
    "    \n",
    "    results.append(result)\n",
    "\n",
    "optimizedPrice = pd.DataFrame(results)"
   ]
  },
  {
   "cell_type": "markdown",
   "id": "9f4ebe04",
   "metadata": {},
   "source": [
    "## 군집별 평균 기대 매출 추정"
   ]
  },
  {
   "cell_type": "code",
   "execution_count": 110,
   "id": "3529161c",
   "metadata": {},
   "outputs": [],
   "source": [
    "optimizedPrice = optimizedPrice.groupby(['genre', 'cluster']).agg({\n",
    "    'price': 'mean',\n",
    "    'best_expected_revenue': 'mean',\n",
    "    'best_seat_rate': 'mean'\n",
    "}).reset_index()"
   ]
  },
  {
   "cell_type": "code",
   "execution_count": 111,
   "id": "b5b72a93",
   "metadata": {},
   "outputs": [
    {
     "data": {
      "text/html": [
       "<div>\n",
       "<style scoped>\n",
       "    .dataframe tbody tr th:only-of-type {\n",
       "        vertical-align: middle;\n",
       "    }\n",
       "\n",
       "    .dataframe tbody tr th {\n",
       "        vertical-align: top;\n",
       "    }\n",
       "\n",
       "    .dataframe thead th {\n",
       "        text-align: right;\n",
       "    }\n",
       "</style>\n",
       "<table border=\"1\" class=\"dataframe\">\n",
       "  <thead>\n",
       "    <tr style=\"text-align: right;\">\n",
       "      <th></th>\n",
       "      <th>genre</th>\n",
       "      <th>cluster</th>\n",
       "      <th>price</th>\n",
       "      <th>best_expected_revenue</th>\n",
       "      <th>best_seat_rate</th>\n",
       "    </tr>\n",
       "  </thead>\n",
       "  <tbody>\n",
       "    <tr>\n",
       "      <th>0</th>\n",
       "      <td>0.0</td>\n",
       "      <td>0.0</td>\n",
       "      <td>72233.031674</td>\n",
       "      <td>[56860.17402415031]</td>\n",
       "      <td>[0.7871769010140138]</td>\n",
       "    </tr>\n",
       "    <tr>\n",
       "      <th>1</th>\n",
       "      <td>0.0</td>\n",
       "      <td>1.0</td>\n",
       "      <td>72233.031674</td>\n",
       "      <td>[60423.686133272895]</td>\n",
       "      <td>[0.8365104541894508]</td>\n",
       "    </tr>\n",
       "    <tr>\n",
       "      <th>2</th>\n",
       "      <td>0.0</td>\n",
       "      <td>2.0</td>\n",
       "      <td>72233.031674</td>\n",
       "      <td>[49909.86475462138]</td>\n",
       "      <td>[0.6909562508705057]</td>\n",
       "    </tr>\n",
       "    <tr>\n",
       "      <th>3</th>\n",
       "      <td>0.0</td>\n",
       "      <td>3.0</td>\n",
       "      <td>72233.031674</td>\n",
       "      <td>[53446.2371044369]</td>\n",
       "      <td>[0.7399140789977475]</td>\n",
       "    </tr>\n",
       "    <tr>\n",
       "      <th>4</th>\n",
       "      <td>0.0</td>\n",
       "      <td>4.0</td>\n",
       "      <td>72233.031674</td>\n",
       "      <td>[50342.6705778702]</td>\n",
       "      <td>[0.696948050096113]</td>\n",
       "    </tr>\n",
       "    <tr>\n",
       "      <th>5</th>\n",
       "      <td>0.0</td>\n",
       "      <td>5.0</td>\n",
       "      <td>72233.031674</td>\n",
       "      <td>[59331.91171163766]</td>\n",
       "      <td>[0.8213958397764846]</td>\n",
       "    </tr>\n",
       "    <tr>\n",
       "      <th>6</th>\n",
       "      <td>0.0</td>\n",
       "      <td>6.0</td>\n",
       "      <td>72233.031674</td>\n",
       "      <td>[65280.27676992166]</td>\n",
       "      <td>[0.9037454922888261]</td>\n",
       "    </tr>\n",
       "  </tbody>\n",
       "</table>\n",
       "</div>"
      ],
      "text/plain": [
       "   genre  cluster         price best_expected_revenue        best_seat_rate\n",
       "0    0.0      0.0  72233.031674   [56860.17402415031]  [0.7871769010140138]\n",
       "1    0.0      1.0  72233.031674  [60423.686133272895]  [0.8365104541894508]\n",
       "2    0.0      2.0  72233.031674   [49909.86475462138]  [0.6909562508705057]\n",
       "3    0.0      3.0  72233.031674    [53446.2371044369]  [0.7399140789977475]\n",
       "4    0.0      4.0  72233.031674    [50342.6705778702]   [0.696948050096113]\n",
       "5    0.0      5.0  72233.031674   [59331.91171163766]  [0.8213958397764846]\n",
       "6    0.0      6.0  72233.031674   [65280.27676992166]  [0.9037454922888261]"
      ]
     },
     "execution_count": 111,
     "metadata": {},
     "output_type": "execute_result"
    }
   ],
   "source": [
    "optimizedPrice"
   ]
  },
  {
   "cell_type": "markdown",
   "id": "62482f3c",
   "metadata": {},
   "source": [
    "### 군집별 기대 매출 시각화 (파이그래프)"
   ]
  },
  {
   "cell_type": "code",
   "execution_count": 61,
   "id": "f9029f77",
   "metadata": {},
   "outputs": [
    {
     "data": {
      "text/plain": [
       "1648150.0"
      ]
     },
     "execution_count": 61,
     "metadata": {},
     "output_type": "execute_result"
    }
   ],
   "source": [
    "1.648150e+06"
   ]
  },
  {
   "cell_type": "code",
   "execution_count": 60,
   "id": "1822b03c",
   "metadata": {},
   "outputs": [
    {
     "data": {
      "text/plain": [
       "1646512.0"
      ]
     },
     "execution_count": 60,
     "metadata": {},
     "output_type": "execute_result"
    }
   ],
   "source": [
    "1.646512e+06"
   ]
  },
  {
   "cell_type": "markdown",
   "id": "e256a2c1",
   "metadata": {},
   "source": [
    "### 기존 총 매출과의 비교"
   ]
  },
  {
   "cell_type": "code",
   "execution_count": null,
   "id": "e1669ebd",
   "metadata": {},
   "outputs": [],
   "source": [
    "price_mean * sum(y_test[['unique_perform_code'] == ]['reservation'] == 1)/2489"
   ]
  }
 ],
 "metadata": {
  "kernelspec": {
   "display_name": "BigContest",
   "language": "python",
   "name": "bigcontest"
  },
  "language_info": {
   "codemirror_mode": {
    "name": "ipython",
    "version": 3
   },
   "file_extension": ".py",
   "mimetype": "text/x-python",
   "name": "python",
   "nbconvert_exporter": "python",
   "pygments_lexer": "ipython3",
   "version": "3.8.17"
  }
 },
 "nbformat": 4,
 "nbformat_minor": 5
}

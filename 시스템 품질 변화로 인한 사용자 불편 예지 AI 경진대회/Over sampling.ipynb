{
 "cells": [
  {
   "cell_type": "markdown",
   "metadata": {},
   "source": [
    "## import"
   ]
  },
  {
   "cell_type": "code",
   "execution_count": 1,
   "metadata": {},
   "outputs": [],
   "source": [
    "import pandas as pd \n",
    "import numpy as np\n",
    "from sklearn.model_selection import train_test_split\n",
    "from sklearn.metrics import classification_report\n",
    "import numpy as np\n",
    "import matplotlib.pylab as plt\n",
    "%matplotlib inline\n",
    "from collections import Counter\n",
    "from sklearn.svm import SVC\n",
    "from imblearn.over_sampling import *\n",
    "from imblearn.under_sampling import *\n",
    "from imblearn.combine import *\n",
    "from sklearn.model_selection import cross_val_score\n",
    "from sklearn.metrics import accuracy_score\n",
    "from sklearn.metrics import roc_auc_score\n",
    "from sklearn.metrics import f1_score\n",
    "from sklearn.ensemble import RandomForestClassifier"
   ]
  },
  {
   "cell_type": "markdown",
   "metadata": {},
   "source": [
    "## Data Load"
   ]
  },
  {
   "cell_type": "code",
   "execution_count": 2,
   "metadata": {},
   "outputs": [],
   "source": [
    "train_numeric = pd.read_csv('train_numeric_out_log_scaling.csv')\n",
    "test_numeric = pd.read_csv('test_numeric_out_log_scaling.csv')\n",
    "train_sparse = pd.read_csv('train_part_pca.csv')\n",
    "test_sparse = pd.read_csv('test_part_pca.csv')\n",
    "train_prob = pd.read_csv('prob_train.csv')\n",
    "test_prob = pd.read_csv('prob_test.csv')\n",
    "train_share = pd.read_csv('train_share_fillna.csv')\n",
    "test_share = pd.read_csv('test_share_fillna.csv')"
   ]
  },
  {
   "cell_type": "code",
   "execution_count": 3,
   "metadata": {},
   "outputs": [],
   "source": [
    "train_x = pd.concat([train_numeric, train_sparse], axis = 1)\n",
    "train_x = pd.concat([train_x, train_prob], axis = 1)\n",
    "X_train = pd.concat([train_x, train_share], axis = 1)\n",
    "test_x = pd.concat([test_numeric, test_sparse], axis = 1)\n",
    "test_x = pd.concat([test_x, test_prob], axis = 1)\n",
    "X_test = pd.concat([test_x, test_share], axis = 1)"
   ]
  },
  {
   "cell_type": "code",
   "execution_count": 4,
   "metadata": {},
   "outputs": [],
   "source": [
    "y_train = np.array(pd.read_csv('train_y.csv').drop(['user_id'],axis=1).ploblem)\n",
    "test_id = pd.read_csv('test_x.csv').user_id"
   ]
  },
  {
   "cell_type": "code",
   "execution_count": null,
   "metadata": {},
   "outputs": [],
   "source": [
    "features = pd.concat([X_train,X_test])"
   ]
  },
  {
   "cell_type": "code",
   "execution_count": null,
   "metadata": {},
   "outputs": [],
   "source": [
    "X_train = pd.read_csv()\n",
    "X_test = pd.read_csv()\n",
    "y_train = pd.read_csv()\n",
    "features = pd.read_csv()"
   ]
  },
  {
   "cell_type": "markdown",
   "metadata": {},
   "source": [
    "## Over Sampling"
   ]
  },
  {
   "cell_type": "code",
   "execution_count": 14,
   "metadata": {},
   "outputs": [],
   "source": [
    "from lightgbm import LGBMClassifier"
   ]
  },
  {
   "cell_type": "code",
   "execution_count": 5,
   "metadata": {},
   "outputs": [
    {
     "data": {
      "text/plain": [
       "((11250, 837), (3750, 837))"
      ]
     },
     "execution_count": 5,
     "metadata": {},
     "output_type": "execute_result"
    }
   ],
   "source": [
    "X_train, X_test, y_train, y_test = train_test_split(X_train, y_train, random_state=0)\n",
    "X_train.shape, X_test.shape"
   ]
  },
  {
   "cell_type": "code",
   "execution_count": 9,
   "metadata": {},
   "outputs": [],
   "source": [
    "X_train = np.array(X_train)"
   ]
  },
  {
   "cell_type": "code",
   "execution_count": 10,
   "metadata": {},
   "outputs": [
    {
     "data": {
      "text/plain": [
       "(14174, 837)"
      ]
     },
     "execution_count": 10,
     "metadata": {},
     "output_type": "execute_result"
    }
   ],
   "source": [
    "# SMOTE + Tomek 방법으로 합성데이터 추가\n",
    "sm = SMOTETomek(random_state=0)\n",
    "X_resampled, y_resampled = sm.fit_sample(X_train, y_train)\n",
    "X_resampled.shape"
   ]
  },
  {
   "cell_type": "code",
   "execution_count": 15,
   "metadata": {},
   "outputs": [
    {
     "data": {
      "text/plain": [
       "(0.8016, 0.7431991363982727, 0.6574585635359117)"
      ]
     },
     "execution_count": 15,
     "metadata": {},
     "output_type": "execute_result"
    }
   ],
   "source": [
    "# 원래 데이터를 사용했을 때의 모델성능\n",
    "y_pred = LGBMClassifier(random_state=0).fit(X_train, y_train).predict(X_test)\n",
    "accuracy_score(y_test, y_pred), roc_auc_score(y_test, y_pred), f1_score(y_test, y_pred)"
   ]
  },
  {
   "cell_type": "code",
   "execution_count": 16,
   "metadata": {},
   "outputs": [
    {
     "data": {
      "text/plain": [
       "(0.7973333333333333, 0.7395891541783085, 0.652014652014652)"
      ]
     },
     "execution_count": 16,
     "metadata": {},
     "output_type": "execute_result"
    }
   ],
   "source": [
    "# 합성 데이터를 추가했을 때의 모델성능\n",
    "y_pred = LGBMClassifier(random_state=0).fit(X_resampled, y_resampled).predict(X_test)\n",
    "accuracy_score(y_test, y_pred), roc_auc_score(y_test, y_pred), f1_score(y_test, y_pred)"
   ]
  },
  {
   "cell_type": "code",
   "execution_count": 26,
   "metadata": {},
   "outputs": [
    {
     "data": {
      "text/plain": [
       "(18802, 837)"
      ]
     },
     "execution_count": 26,
     "metadata": {},
     "output_type": "execute_result"
    }
   ],
   "source": [
    "X_train = np.array(pd.concat([train_x, train_share], axis = 1))\n",
    "y_train = np.array(pd.read_csv('train_y.csv').drop(['user_id'],axis=1).ploblem)\n",
    "sm = SMOTETomek(random_state=0)\n",
    "X_resampled, y_resampled = sm.fit_sample(X_train, y_train)\n",
    "X_resampled.shape"
   ]
  },
  {
   "cell_type": "markdown",
   "metadata": {},
   "source": [
    "## Make csv"
   ]
  },
  {
   "cell_type": "code",
   "execution_count": 27,
   "metadata": {},
   "outputs": [],
   "source": [
    "pd.DataFrame(X_resampled).to_csv('oversampling_x_ver02.csv', index = False, encoding = 'UTF-8')\n",
    "pd.DataFrame(y_resampled).to_csv('oversampling_y_ver02.csv', index = False, encoding = 'UTF-8')"
   ]
  }
 ],
 "metadata": {
  "kernelspec": {
   "display_name": "Python 3 (ipykernel)",
   "language": "python",
   "name": "python3"
  },
  "language_info": {
   "codemirror_mode": {
    "name": "ipython",
    "version": 3
   },
   "file_extension": ".py",
   "mimetype": "text/x-python",
   "name": "python",
   "nbconvert_exporter": "python",
   "pygments_lexer": "ipython3",
   "version": "3.9.12"
  }
 },
 "nbformat": 4,
 "nbformat_minor": 4
}

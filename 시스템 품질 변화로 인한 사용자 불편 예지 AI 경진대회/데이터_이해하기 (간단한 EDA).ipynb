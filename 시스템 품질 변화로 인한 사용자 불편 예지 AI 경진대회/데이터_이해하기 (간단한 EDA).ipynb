{
 "cells": [
  {
   "cell_type": "markdown",
   "metadata": {},
   "source": [
    "# 시스템 품질 변화로 인한 사용자 불편 예지 AI 경진대회 - EDA #1\n",
    "\n",
    "* https://dacon.io/competitions/official/235687/overview/"
   ]
  },
  {
   "cell_type": "markdown",
   "metadata": {},
   "source": [
    "# 1. Library Import"
   ]
  },
  {
   "cell_type": "code",
   "execution_count": 2,
   "metadata": {},
   "outputs": [],
   "source": [
    "import pandas as pd\n",
    "import numpy as np\n",
    "import datetime as dt\n",
    "import matplotlib.pyplot as plt\n",
    "import seaborn as sns\n",
    "\n",
    "from tqdm import tqdm\n",
    "import gc\n",
    "import random\n",
    "import lightgbm as lgb\n",
    "import re\n",
    "from sklearn.metrics import *\n",
    "from sklearn.model_selection import KFold\n",
    "import warnings\n",
    "warnings.filterwarnings(action='ignore')\n",
    "\n",
    "PATH = '../input/'"
   ]
  },
  {
   "cell_type": "code",
   "execution_count": 3,
   "metadata": {},
   "outputs": [
    {
     "name": "stdout",
     "output_type": "stream",
     "text": [
      "../input/.DS_Store\n",
      "../input/test_quality_data.csv\n",
      "../input/test_err_data.csv\n",
      "../input/data.zip\n",
      "../input/train_problem_data.csv\n",
      "../input/train_quality_data.csv\n",
      "../input/train_err_data.csv\n",
      "../input/sample_submission.csv\n"
     ]
    }
   ],
   "source": [
    "import os\n",
    "for dirname, _, filenames in os.walk(PATH):\n",
    "    for filename in filenames:\n",
    "        print(os.path.join(dirname, filename))"
   ]
  },
  {
   "cell_type": "markdown",
   "metadata": {},
   "source": [
    "## Load Dataset\n",
    "\n",
    "주최 측에서 제공한 데이터를 확인 & Load 합니다."
   ]
  },
  {
   "cell_type": "code",
   "execution_count": 4,
   "metadata": {
    "scrolled": true
   },
   "outputs": [],
   "source": [
    "train_err  = pd.read_csv(PATH+'train_err_data.csv')\n",
    "train_quality  = pd.read_csv(PATH+'train_quality_data.csv')\n",
    "train_problem  = pd.read_csv(PATH+'train_problem_data.csv')\n",
    "\n",
    "test_err  = pd.read_csv(PATH+'test_err_data.csv')\n",
    "test_quality  = pd.read_csv(PATH+'test_quality_data.csv')"
   ]
  },
  {
   "cell_type": "markdown",
   "metadata": {},
   "source": [
    "## 데이터 이해하기\n",
    "\n",
    "1. 데이터의 사이즈는? 모델 학습에 적합한 형태인가?\n",
    "2. Train/Test는 어떻게 분리되어 있는가?\n",
    "3. Missing Value는?\n",
    "4. Target Variable의 분포는?\n",
    "5. 간단히 데이터 살펴보기\n",
    "6. 데이터의 특이한/주목해야할 부분은?"
   ]
  },
  {
   "cell_type": "markdown",
   "metadata": {},
   "source": [
    "### 1. 데이터의 사이즈는?"
   ]
  },
  {
   "cell_type": "code",
   "execution_count": 5,
   "metadata": {},
   "outputs": [
    {
     "name": "stdout",
     "output_type": "stream",
     "text": [
      "-- Size -- \n",
      "train_err : (16554663, 6)\n",
      "test_err  : (16532648, 6)\n",
      "-- Size -- \n",
      "train_quality : (828624, 16)\n",
      "test_quality  : (747972, 16)\n"
     ]
    }
   ],
   "source": [
    "# train_err\n",
    "print(\"-- Size -- \")\n",
    "print(f\"train_err : {train_err.shape}\")\n",
    "print(f\"test_err  : {test_err.shape}\")\n",
    "\n",
    "# train_quality\n",
    "print(\"-- Size -- \")\n",
    "print(f\"train_quality : {train_quality.shape}\")\n",
    "print(f\"test_quality  : {test_quality.shape}\")"
   ]
  },
  {
   "cell_type": "code",
   "execution_count": 6,
   "metadata": {},
   "outputs": [
    {
     "name": "stdout",
     "output_type": "stream",
     "text": [
      "Index([], dtype='object')\n",
      "Index([], dtype='object')\n"
     ]
    }
   ],
   "source": [
    "# Train-set에만 있는 칼럼은?\n",
    "print(train_err.columns.difference( test_err.columns ))\n",
    "\n",
    "# Train-set에만 있는 칼럼은?\n",
    "print(train_quality.columns.difference( test_quality.columns ))"
   ]
  },
  {
   "cell_type": "markdown",
   "metadata": {},
   "source": [
    "### 2. Train/Test는 어떻게 분리되어 있는가?"
   ]
  },
  {
   "cell_type": "code",
   "execution_count": 9,
   "metadata": {},
   "outputs": [
    {
     "data": {
      "text/html": [
       "<div>\n",
       "<style scoped>\n",
       "    .dataframe tbody tr th:only-of-type {\n",
       "        vertical-align: middle;\n",
       "    }\n",
       "\n",
       "    .dataframe tbody tr th {\n",
       "        vertical-align: top;\n",
       "    }\n",
       "\n",
       "    .dataframe thead th {\n",
       "        text-align: right;\n",
       "    }\n",
       "</style>\n",
       "<table border=\"1\" class=\"dataframe\">\n",
       "  <thead>\n",
       "    <tr style=\"text-align: right;\">\n",
       "      <th></th>\n",
       "      <th>user_id</th>\n",
       "      <th>time</th>\n",
       "      <th>model_nm</th>\n",
       "      <th>fwver</th>\n",
       "      <th>errtype</th>\n",
       "      <th>errcode</th>\n",
       "    </tr>\n",
       "  </thead>\n",
       "  <tbody>\n",
       "    <tr>\n",
       "      <th>0</th>\n",
       "      <td>10000</td>\n",
       "      <td>20201101025616</td>\n",
       "      <td>model_3</td>\n",
       "      <td>05.15.2138</td>\n",
       "      <td>15</td>\n",
       "      <td>1</td>\n",
       "    </tr>\n",
       "    <tr>\n",
       "      <th>1</th>\n",
       "      <td>10000</td>\n",
       "      <td>20201101030309</td>\n",
       "      <td>model_3</td>\n",
       "      <td>05.15.2138</td>\n",
       "      <td>12</td>\n",
       "      <td>1</td>\n",
       "    </tr>\n",
       "  </tbody>\n",
       "</table>\n",
       "</div>"
      ],
      "text/plain": [
       "   user_id            time model_nm       fwver  errtype errcode\n",
       "0    10000  20201101025616  model_3  05.15.2138       15       1\n",
       "1    10000  20201101030309  model_3  05.15.2138       12       1"
      ]
     },
     "metadata": {},
     "output_type": "display_data"
    },
    {
     "data": {
      "text/html": [
       "<div>\n",
       "<style scoped>\n",
       "    .dataframe tbody tr th:only-of-type {\n",
       "        vertical-align: middle;\n",
       "    }\n",
       "\n",
       "    .dataframe tbody tr th {\n",
       "        vertical-align: top;\n",
       "    }\n",
       "\n",
       "    .dataframe thead th {\n",
       "        text-align: right;\n",
       "    }\n",
       "</style>\n",
       "<table border=\"1\" class=\"dataframe\">\n",
       "  <thead>\n",
       "    <tr style=\"text-align: right;\">\n",
       "      <th></th>\n",
       "      <th>user_id</th>\n",
       "      <th>time</th>\n",
       "      <th>model_nm</th>\n",
       "      <th>fwver</th>\n",
       "      <th>errtype</th>\n",
       "      <th>errcode</th>\n",
       "    </tr>\n",
       "  </thead>\n",
       "  <tbody>\n",
       "    <tr>\n",
       "      <th>16554661</th>\n",
       "      <td>24999</td>\n",
       "      <td>20201130172631</td>\n",
       "      <td>model_3</td>\n",
       "      <td>05.15.2138</td>\n",
       "      <td>4</td>\n",
       "      <td>0</td>\n",
       "    </tr>\n",
       "    <tr>\n",
       "      <th>16554662</th>\n",
       "      <td>24999</td>\n",
       "      <td>20201130210625</td>\n",
       "      <td>model_3</td>\n",
       "      <td>05.15.2138</td>\n",
       "      <td>15</td>\n",
       "      <td>1</td>\n",
       "    </tr>\n",
       "  </tbody>\n",
       "</table>\n",
       "</div>"
      ],
      "text/plain": [
       "          user_id            time model_nm       fwver  errtype errcode\n",
       "16554661    24999  20201130172631  model_3  05.15.2138        4       0\n",
       "16554662    24999  20201130210625  model_3  05.15.2138       15       1"
      ]
     },
     "metadata": {},
     "output_type": "display_data"
    },
    {
     "data": {
      "text/html": [
       "<div>\n",
       "<style scoped>\n",
       "    .dataframe tbody tr th:only-of-type {\n",
       "        vertical-align: middle;\n",
       "    }\n",
       "\n",
       "    .dataframe tbody tr th {\n",
       "        vertical-align: top;\n",
       "    }\n",
       "\n",
       "    .dataframe thead th {\n",
       "        text-align: right;\n",
       "    }\n",
       "</style>\n",
       "<table border=\"1\" class=\"dataframe\">\n",
       "  <thead>\n",
       "    <tr style=\"text-align: right;\">\n",
       "      <th></th>\n",
       "      <th>user_id</th>\n",
       "      <th>time</th>\n",
       "      <th>model_nm</th>\n",
       "      <th>fwver</th>\n",
       "      <th>errtype</th>\n",
       "      <th>errcode</th>\n",
       "    </tr>\n",
       "  </thead>\n",
       "  <tbody>\n",
       "    <tr>\n",
       "      <th>0</th>\n",
       "      <td>30000</td>\n",
       "      <td>20201101030227</td>\n",
       "      <td>model_1</td>\n",
       "      <td>04.16.3553</td>\n",
       "      <td>31</td>\n",
       "      <td>1</td>\n",
       "    </tr>\n",
       "    <tr>\n",
       "      <th>1</th>\n",
       "      <td>30000</td>\n",
       "      <td>20201101030227</td>\n",
       "      <td>model_1</td>\n",
       "      <td>04.16.3553</td>\n",
       "      <td>33</td>\n",
       "      <td>2</td>\n",
       "    </tr>\n",
       "  </tbody>\n",
       "</table>\n",
       "</div>"
      ],
      "text/plain": [
       "   user_id            time model_nm       fwver  errtype errcode\n",
       "0    30000  20201101030227  model_1  04.16.3553       31       1\n",
       "1    30000  20201101030227  model_1  04.16.3553       33       2"
      ]
     },
     "metadata": {},
     "output_type": "display_data"
    },
    {
     "data": {
      "text/html": [
       "<div>\n",
       "<style scoped>\n",
       "    .dataframe tbody tr th:only-of-type {\n",
       "        vertical-align: middle;\n",
       "    }\n",
       "\n",
       "    .dataframe tbody tr th {\n",
       "        vertical-align: top;\n",
       "    }\n",
       "\n",
       "    .dataframe thead th {\n",
       "        text-align: right;\n",
       "    }\n",
       "</style>\n",
       "<table border=\"1\" class=\"dataframe\">\n",
       "  <thead>\n",
       "    <tr style=\"text-align: right;\">\n",
       "      <th></th>\n",
       "      <th>user_id</th>\n",
       "      <th>time</th>\n",
       "      <th>model_nm</th>\n",
       "      <th>fwver</th>\n",
       "      <th>errtype</th>\n",
       "      <th>errcode</th>\n",
       "    </tr>\n",
       "  </thead>\n",
       "  <tbody>\n",
       "    <tr>\n",
       "      <th>16532646</th>\n",
       "      <td>44998</td>\n",
       "      <td>20201130212259</td>\n",
       "      <td>model_1</td>\n",
       "      <td>04.16.3553</td>\n",
       "      <td>16</td>\n",
       "      <td>1</td>\n",
       "    </tr>\n",
       "    <tr>\n",
       "      <th>16532647</th>\n",
       "      <td>44998</td>\n",
       "      <td>20201130212316</td>\n",
       "      <td>model_1</td>\n",
       "      <td>04.16.3553</td>\n",
       "      <td>31</td>\n",
       "      <td>0</td>\n",
       "    </tr>\n",
       "  </tbody>\n",
       "</table>\n",
       "</div>"
      ],
      "text/plain": [
       "          user_id            time model_nm       fwver  errtype errcode\n",
       "16532646    44998  20201130212259  model_1  04.16.3553       16       1\n",
       "16532647    44998  20201130212316  model_1  04.16.3553       31       0"
      ]
     },
     "metadata": {},
     "output_type": "display_data"
    }
   ],
   "source": [
    "# Train/Test-set은 어떻게 분리되었을까?\n",
    "display(train_err.head(2))\n",
    "display(train_err.tail(2))\n",
    "display(test_err.head(2))\n",
    "display(test_err.tail(2))"
   ]
  },
  {
   "cell_type": "markdown",
   "metadata": {},
   "source": [
    "### id에 차이가 있는가?"
   ]
  },
  {
   "cell_type": "code",
   "execution_count": 10,
   "metadata": {
    "scrolled": true
   },
   "outputs": [
    {
     "data": {
      "text/plain": [
       "'train_err'"
      ]
     },
     "metadata": {},
     "output_type": "display_data"
    },
    {
     "data": {
      "text/plain": [
       "min    10000\n",
       "max    24999\n",
       "Name: user_id, dtype: int64"
      ]
     },
     "metadata": {},
     "output_type": "display_data"
    },
    {
     "name": "stdout",
     "output_type": "stream",
     "text": [
      "Size : 16554663\n",
      "================================================================================\n"
     ]
    },
    {
     "data": {
      "text/plain": [
       "'test_err'"
      ]
     },
     "metadata": {},
     "output_type": "display_data"
    },
    {
     "data": {
      "text/plain": [
       "min    30000\n",
       "max    44998\n",
       "Name: user_id, dtype: int64"
      ]
     },
     "metadata": {},
     "output_type": "display_data"
    },
    {
     "name": "stdout",
     "output_type": "stream",
     "text": [
      "Size : 16532648\n"
     ]
    }
   ],
   "source": [
    "# train_err / test_err의 user_id는?\n",
    "display(\"train_err\", train_err['user_id'].agg(['min','max']) )\n",
    "print(f'Size : {len(train_err)}')\n",
    "\n",
    "print('='* 80)\n",
    "\n",
    "display(\"test_err\",  test_err['user_id'].agg(['min','max']) )\n",
    "print(f'Size : {len(test_err)}')"
   ]
  },
  {
   "cell_type": "code",
   "execution_count": 11,
   "metadata": {},
   "outputs": [
    {
     "data": {
      "text/plain": [
       "'train_quality'"
      ]
     },
     "metadata": {},
     "output_type": "display_data"
    },
    {
     "data": {
      "text/plain": [
       "min    10000\n",
       "max    24997\n",
       "Name: user_id, dtype: int64"
      ]
     },
     "metadata": {},
     "output_type": "display_data"
    },
    {
     "name": "stdout",
     "output_type": "stream",
     "text": [
      "Size : 828624\n",
      "================================================================================\n"
     ]
    },
    {
     "data": {
      "text/plain": [
       "'test_quality'"
      ]
     },
     "metadata": {},
     "output_type": "display_data"
    },
    {
     "data": {
      "text/plain": [
       "min    30000\n",
       "max    44997\n",
       "Name: user_id, dtype: int64"
      ]
     },
     "metadata": {},
     "output_type": "display_data"
    },
    {
     "name": "stdout",
     "output_type": "stream",
     "text": [
      "Size : 747972\n"
     ]
    }
   ],
   "source": [
    "# train_quality / test_quality 의 user_id는?\n",
    "display(\"train_quality\", train_quality['user_id'].agg(['min','max']) )\n",
    "print(f'Size : {len(train_quality)}')\n",
    "\n",
    "print('='* 80)\n",
    "display(\"test_quality\",  test_quality['user_id'].agg(['min','max']) )\n",
    "print(f'Size : {len(test_quality)}')"
   ]
  },
  {
   "cell_type": "markdown",
   "metadata": {},
   "source": [
    "### time 에 차이가 있는가?"
   ]
  },
  {
   "cell_type": "code",
   "execution_count": 12,
   "metadata": {},
   "outputs": [
    {
     "data": {
      "text/plain": [
       "'train_err'"
      ]
     },
     "metadata": {},
     "output_type": "display_data"
    },
    {
     "data": {
      "text/plain": [
       "min    20201031235959\n",
       "max    20201202185152\n",
       "Name: time, dtype: int64"
      ]
     },
     "metadata": {},
     "output_type": "display_data"
    },
    {
     "name": "stdout",
     "output_type": "stream",
     "text": [
      "Size : 16554663\n",
      "================================================================================\n"
     ]
    },
    {
     "data": {
      "text/plain": [
       "'test_err'"
      ]
     },
     "metadata": {},
     "output_type": "display_data"
    },
    {
     "data": {
      "text/plain": [
       "min    20201031235959\n",
       "max    20201214120118\n",
       "Name: time, dtype: int64"
      ]
     },
     "metadata": {},
     "output_type": "display_data"
    },
    {
     "name": "stdout",
     "output_type": "stream",
     "text": [
      "Size : 16532648\n"
     ]
    }
   ],
   "source": [
    "# train_err / test_err 의 time는?\n",
    "display(\"train_err\",  train_err['time'].agg(['min','max']) )\n",
    "print(f'Size : {len(train_err)}')\n",
    "\n",
    "print('='* 80)\n",
    "\n",
    "display(\"test_err\",  test_err['time'].agg(['min','max']) )\n",
    "print(f'Size : {len(test_err)}')"
   ]
  },
  {
   "cell_type": "code",
   "execution_count": 14,
   "metadata": {},
   "outputs": [
    {
     "data": {
      "text/plain": [
       "'train_quality'"
      ]
     },
     "metadata": {},
     "output_type": "display_data"
    },
    {
     "data": {
      "text/plain": [
       "min    20201031235000\n",
       "max    20201130234000\n",
       "Name: time, dtype: int64"
      ]
     },
     "metadata": {},
     "output_type": "display_data"
    },
    {
     "name": "stdout",
     "output_type": "stream",
     "text": [
      "Size : 828624\n",
      "================================================================================\n"
     ]
    },
    {
     "data": {
      "text/plain": [
       "'test_quality'"
      ]
     },
     "metadata": {},
     "output_type": "display_data"
    },
    {
     "data": {
      "text/plain": [
       "min    20201031235000\n",
       "max    20201130234000\n",
       "Name: time, dtype: int64"
      ]
     },
     "metadata": {},
     "output_type": "display_data"
    },
    {
     "name": "stdout",
     "output_type": "stream",
     "text": [
      "Size : 747972\n"
     ]
    }
   ],
   "source": [
    "# train_quality / test_quality 의 date는?\n",
    "display(\"train_quality\",  train_quality['time'].agg(['min','max']) )\n",
    "print(f'Size : {len(train_quality)}')\n",
    "\n",
    "print('='* 80)\n",
    "\n",
    "display(\"test_quality\",  test_quality['time'].agg(['min','max']) )\n",
    "print(f'Size : {len(test_quality)}')"
   ]
  },
  {
   "cell_type": "code",
   "execution_count": 59,
   "metadata": {},
   "outputs": [],
   "source": [
    "#%%time\n",
    "#train_err['datetime'] = train_err.time.apply(pd.to_datetime)\n",
    "#test_err['datetime'] = test_err.time.apply(pd.to_datetime)\n",
    "\n",
    "#train_quality['datetime'] = train_quality.time.apply(pd.to_datetime)\n",
    "#test_quality['datetime'] = test_quality.time.apply(pd.to_datetime)"
   ]
  },
  {
   "cell_type": "code",
   "execution_count": 21,
   "metadata": {},
   "outputs": [
    {
     "data": {
      "image/png": "[encoded data removed]",
      "text/plain": [
       "<Figure size 864x576 with 1 Axes>"
      ]
     },
     "metadata": {
      "needs_background": "light"
     },
     "output_type": "display_data"
    }
   ],
   "source": [
    "# train_err / test_err - time\n",
    "# Figure을 정의\n",
    "plt.figure(figsize = (12,8))\n",
    "\n",
    "# Train/Test-set 각각에서 특정 date가 몇 번 등장했는지 시각화 시킴\n",
    "train_err['time'].value_counts().sort_index().plot(color='b', lw=2, label='train')\n",
    "test_err['time'].value_counts().sort_index().plot(color='r',  lw=2, label='test')\n",
    "\n",
    "plt.legend()\n",
    "plt.xlabel(\"time\")\n",
    "plt.ylabel(\"# of rows\")\n",
    "plt.title(\"Distribution of date in Train/Test-ERR\");"
   ]
  },
  {
   "cell_type": "code",
   "execution_count": 20,
   "metadata": {},
   "outputs": [
    {
     "data": {
      "image/png": "[encoded data removed]",
      "text/plain": [
       "<Figure size 864x576 with 1 Axes>"
      ]
     },
     "metadata": {
      "needs_background": "light"
     },
     "output_type": "display_data"
    }
   ],
   "source": [
    "# train_quality / test_quality - time\n",
    "# Figure을 정의\n",
    "plt.figure(figsize = (12,8))\n",
    "\n",
    "# Train/Test-set 각각에서 특정 date가 몇 번 등장했는지 시각화 시킴\n",
    "train_quality['time'].value_counts().sort_index().plot(color='b', lw=2, label='train')\n",
    "test_quality['time'].value_counts().sort_index().plot(color='r',  lw=2, label='test')\n",
    "\n",
    "plt.legend()\n",
    "plt.xlabel(\"time\")\n",
    "plt.ylabel(\"# of rows\")\n",
    "plt.title(\"Distribution of date in Train/Test-Quality\");"
   ]
  },
  {
   "cell_type": "markdown",
   "metadata": {},
   "source": [
    "### 피쳐 별로 train / test 비교"
   ]
  },
  {
   "cell_type": "markdown",
   "metadata": {},
   "source": [
    "#### user_id"
   ]
  },
  {
   "cell_type": "code",
   "execution_count": 55,
   "metadata": {
    "scrolled": true
   },
   "outputs": [
    {
     "name": "stdout",
     "output_type": "stream",
     "text": [
      "Train-set에 있는 고유한 user_id 개수 : 15000\n",
      "Test-set에 있는 고유한 user_id 개수 : 14998\n",
      "================================================================================\n",
      "Train/Test-set에 공통으로 포함되어 있는 user_id 개수 : 0\n",
      "================================================================================\n",
      "Train-set에만 있는 user_id 총 15000개 입니다.\n",
      "================================================================================\n",
      "Test-set에만 있는 user_id 총 14998개 입니다.\n"
     ]
    }
   ],
   "source": [
    "# Train/Test-set의 고유한 user_id 구함.\n",
    "train_err_errtype_set = set(train_err['user_id'])\n",
    "test_err_errtype_set  = set(test_err['user_id'])\n",
    "\n",
    "\n",
    "# Train/Test-set 고유한 user_id 개수를 구함.\n",
    "print(f\"Train-set에 있는 고유한 user_id 개수 : { len(train_err_errtype_set) }\")\n",
    "print(f\"Test-set에 있는 고유한 user_id 개수 : { len(test_err_errtype_set) }\")\n",
    "\n",
    "# Train/Test-set 모두에 포함되어있는 user_id 구함.\n",
    "print('='* 80)\n",
    "common_errtype = train_err_errtype_set.intersection(test_err_errtype_set)\n",
    "print(f\"Train/Test-set에 공통으로 포함되어 있는 user_id 개수 : {len(common_errtype)}\")\n",
    "\n",
    "# Train-set에만 있는 user_id 구함.\n",
    "print('='* 80)\n",
    "only_train_err_errtype = train_err_errtype_set.difference(test_err_errtype_set)\n",
    "print(f\"Train-set에만 있는 user_id 총 { len(only_train_err_errtype) }개 입니다.\")\n",
    "#print(f\"Train-set에만 있는 user_id : { sorted(only_train_err_errtype ) }\")\n",
    "\n",
    "# Test-set에만 있는 user_id 구함.\n",
    "print('='* 80)\n",
    "only_test_err_errtype = test_err_errtype_set.difference(train_err_errtype_set)\n",
    "print(f\"Test-set에만 있는 user_id 총 { len(only_test_err_errtype) }개 입니다.\")\n",
    "#print(f\"Test-set에만 있는 user_id : { sorted( only_test_err_errtype ) }\")"
   ]
  },
  {
   "cell_type": "markdown",
   "metadata": {},
   "source": [
    "#### model_nm"
   ]
  },
  {
   "cell_type": "code",
   "execution_count": 52,
   "metadata": {},
   "outputs": [
    {
     "name": "stdout",
     "output_type": "stream",
     "text": [
      "Train-set에 있는 고유한 model_nm 개수 : 9\n",
      "Test-set에 있는 고유한 model_nm 개수 : 9\n",
      "================================================================================\n",
      "Train/Test-set에 공통으로 포함되어 있는 model_nm 개수 : 9\n",
      "================================================================================\n",
      "Train-set에만 있는 model_nm 총 0개 입니다.\n",
      "Train-set에만 있는 model_nm : []\n",
      "================================================================================\n",
      "Test-set에만 있는 model_nm 총 0개 입니다.\n",
      "Test-set에만 있는 model_nm : []\n"
     ]
    }
   ],
   "source": [
    "# Train/Test-set의 고유한 model_nm 구함.\n",
    "train_err_errtype_set = set(train_err['model_nm'])\n",
    "test_err_errtype_set  = set(test_err['model_nm'])\n",
    "\n",
    "\n",
    "# Train/Test-set 고유한 model_nm 개수를 구함.\n",
    "print(f\"Train-set에 있는 고유한 model_nm 개수 : { len(train_err_errtype_set) }\")\n",
    "print(f\"Test-set에 있는 고유한 model_nm 개수 : { len(test_err_errtype_set) }\")\n",
    "\n",
    "# Train/Test-set 모두에 포함되어있는 model_nm 구함.\n",
    "print('='* 80)\n",
    "common_errtype = train_err_errtype_set.intersection(test_err_errtype_set)\n",
    "print(f\"Train/Test-set에 공통으로 포함되어 있는 model_nm 개수 : {len(common_errtype)}\")\n",
    "\n",
    "# Train-set에만 있는 model_nm 구함.\n",
    "print('='* 80)\n",
    "only_train_err_errtype = train_err_errtype_set.difference(test_err_errtype_set)\n",
    "print(f\"Train-set에만 있는 model_nm 총 { len(only_train_err_errtype) }개 입니다.\")\n",
    "print(f\"Train-set에만 있는 model_nm : { sorted(only_train_err_errtype ) }\")\n",
    "\n",
    "# Test-set에만 있는 model_nm 구함.\n",
    "print('='* 80)\n",
    "only_test_err_errtype = test_err_errtype_set.difference(train_err_errtype_set)\n",
    "print(f\"Test-set에만 있는 model_nm 총 { len(only_test_err_errtype) }개 입니다.\")\n",
    "print(f\"Test-set에만 있는 model_nm : { sorted( only_test_err_errtype ) }\")"
   ]
  },
  {
   "cell_type": "markdown",
   "metadata": {},
   "source": [
    "#### fwver"
   ]
  },
  {
   "cell_type": "code",
   "execution_count": 51,
   "metadata": {},
   "outputs": [
    {
     "name": "stdout",
     "output_type": "stream",
     "text": [
      "Train-set에 있는 고유한 fwver 개수 : 37\n",
      "Test-set에 있는 고유한 fwver 개수 : 40\n",
      "================================================================================\n",
      "Train/Test-set에 공통으로 포함되어 있는 fwver 개수 : 31\n",
      "================================================================================\n",
      "Train-set에만 있는 fwver 총 6개 입니다.\n",
      "Train-set에만 있는 fwver : ['04.16.2641', '04.16.3345', '04.22.1442', '04.33.1095', '05.15.2090', '05.15.2122']\n",
      "================================================================================\n",
      "Test-set에만 있는 fwver 총 9개 입니다.\n",
      "Test-set에만 있는 fwver : ['04.22.1170', '04.22.1448', '04.22.1478', '04.22.1608', '04.22.1772', '04.73.2569', '04.73.2577', '10.22.1770', '10.22.1780']\n"
     ]
    }
   ],
   "source": [
    "# Train/Test-set의 고유한 fwver 구함.\n",
    "train_err_errtype_set = set(train_err['fwver'])\n",
    "test_err_errtype_set  = set(test_err['fwver'])\n",
    "\n",
    "\n",
    "# Train/Test-set 고유한 errtype의 개수를 구함.\n",
    "print(f\"Train-set에 있는 고유한 fwver 개수 : { len(train_err_errtype_set) }\")\n",
    "print(f\"Test-set에 있는 고유한 fwver 개수 : { len(test_err_errtype_set) }\")\n",
    "\n",
    "# Train/Test-set 모두에 포함되어있는 errtype를 구함.\n",
    "print('='* 80)\n",
    "common_errtype = train_err_errtype_set.intersection(test_err_errtype_set)\n",
    "print(f\"Train/Test-set에 공통으로 포함되어 있는 fwver 개수 : {len(common_errtype)}\")\n",
    "\n",
    "# Train-set에만 있는 errtype를 구함.\n",
    "print('='* 80)\n",
    "only_train_err_errtype = train_err_errtype_set.difference(test_err_errtype_set)\n",
    "print(f\"Train-set에만 있는 fwver 총 { len(only_train_err_errtype) }개 입니다.\")\n",
    "print(f\"Train-set에만 있는 fwver : { sorted(only_train_err_errtype ) }\")\n",
    "\n",
    "# Test-set에만 있는 errtype를 구함.\n",
    "print('='* 80)\n",
    "only_test_err_errtype = test_err_errtype_set.difference(train_err_errtype_set)\n",
    "print(f\"Test-set에만 있는 fwver 총 { len(only_test_err_errtype) }개 입니다.\")\n",
    "print(f\"Test-set에만 있는 fwver : { sorted( only_test_err_errtype ) }\")"
   ]
  },
  {
   "cell_type": "markdown",
   "metadata": {},
   "source": [
    "#### errtype"
   ]
  },
  {
   "cell_type": "code",
   "execution_count": 50,
   "metadata": {},
   "outputs": [
    {
     "name": "stdout",
     "output_type": "stream",
     "text": [
      "Train-set에 있는 고유한 errtype의 개수 : 41\n",
      "Test-set에 있는 고유한 errtype의 개수 : 41\n",
      "================================================================================\n",
      "Train/Test-set에 공통으로 포함되어 있는 errtype 개수 : 41\n",
      "================================================================================\n",
      "Train-set에만 있는 errtype는 총 0개 입니다.\n",
      "Train-set에만 있는 errtype는 : []\n",
      "================================================================================\n",
      "Test-set에만 있는 errtype는 총 0개 입니다.\n",
      "Test-set에만 있는 errtype는 : []\n"
     ]
    }
   ],
   "source": [
    "# Train/Test-set의 고유한 errtype 구함.\n",
    "train_err_errtype_set = set(train_err['errtype'])\n",
    "test_err_errtype_set  = set(test_err['errtype'])\n",
    "\n",
    "\n",
    "# Train/Test-set 고유한 errtype의 개수를 구함.\n",
    "print(f\"Train-set에 있는 고유한 errtype의 개수 : { len(train_err_errtype_set) }\")\n",
    "print(f\"Test-set에 있는 고유한 errtype의 개수 : { len(test_err_errtype_set) }\")\n",
    "\n",
    "# Train/Test-set 모두에 포함되어있는 errtype를 구함.\n",
    "print('='* 80)\n",
    "common_errtype = train_err_errtype_set.intersection(test_err_errtype_set)\n",
    "print(f\"Train/Test-set에 공통으로 포함되어 있는 errtype 개수 : {len(common_errtype)}\")\n",
    "\n",
    "# Train-set에만 있는 errtype를 구함.\n",
    "print('='* 80)\n",
    "only_train_err_errtype = train_err_errtype_set.difference(test_err_errtype_set)\n",
    "print(f\"Train-set에만 있는 errtype는 총 { len(only_train_err_errtype) }개 입니다.\")\n",
    "print(f\"Train-set에만 있는 errtype는 : { sorted(only_train_err_errtype ) }\")\n",
    "\n",
    "# Test-set에만 있는 errtype를 구함.\n",
    "print('='* 80)\n",
    "only_test_err_errtype = test_err_errtype_set.difference(train_err_errtype_set)\n",
    "print(f\"Test-set에만 있는 errtype는 총 { len(only_test_err_errtype) }개 입니다.\")\n",
    "print(f\"Test-set에만 있는 errtype는 : { sorted( only_test_err_errtype ) }\")"
   ]
  },
  {
   "cell_type": "markdown",
   "metadata": {},
   "source": [
    "#### errcode"
   ]
  },
  {
   "cell_type": "code",
   "execution_count": 57,
   "metadata": {},
   "outputs": [
    {
     "name": "stdout",
     "output_type": "stream",
     "text": [
      "Train-set에 있는 고유한 errcode 개수 : 2806\n",
      "Test-set에 있는 고유한 errcode 개수 : 2956\n",
      "================================================================================\n",
      "Train/Test-set에 공통으로 포함되어 있는 errcode 개수 : 1408\n",
      "================================================================================\n",
      "Train-set에만 있는 errcode 총 1398개 입니다.\n",
      "================================================================================\n",
      "Test-set에만 있는 errcode 총 1548개 입니다.\n"
     ]
    }
   ],
   "source": [
    "# Train/Test-set의 고유한 errcode 구함.\n",
    "train_err_errtype_set = set(train_err['errcode'])\n",
    "test_err_errtype_set  = set(test_err['errcode'])\n",
    "\n",
    "\n",
    "# Train/Test-set 고유한 errcode 개수를 구함.\n",
    "print(f\"Train-set에 있는 고유한 errcode 개수 : { len(train_err_errtype_set) }\")\n",
    "print(f\"Test-set에 있는 고유한 errcode 개수 : { len(test_err_errtype_set) }\")\n",
    "\n",
    "# Train/Test-set 모두에 포함되어있는 errcode 구함.\n",
    "print('='* 80)\n",
    "common_errtype = train_err_errtype_set.intersection(test_err_errtype_set)\n",
    "print(f\"Train/Test-set에 공통으로 포함되어 있는 errcode 개수 : {len(common_errtype)}\")\n",
    "\n",
    "# Train-set에만 있는 errcode 구함.\n",
    "print('='* 80)\n",
    "only_train_err_errtype = train_err_errtype_set.difference(test_err_errtype_set)\n",
    "print(f\"Train-set에만 있는 errcode 총 { len(only_train_err_errtype) }개 입니다.\")\n",
    "#print(f\"Train-set에만 있는 errcode : { sorted(only_train_err_errtype ) }\")\n",
    "\n",
    "# Test-set에만 있는 errcode 구함.\n",
    "print('='* 80)\n",
    "only_test_err_errtype = test_err_errtype_set.difference(train_err_errtype_set)\n",
    "print(f\"Test-set에만 있는 errcode 총 { len(only_test_err_errtype) }개 입니다.\")\n",
    "#print(f\"Test-set에만 있는 errcode : { sorted( only_test_err_errtype ) }\")"
   ]
  },
  {
   "cell_type": "markdown",
   "metadata": {},
   "source": [
    "### 3. Missing Value는 존재하는가?\n"
   ]
  },
  {
   "cell_type": "code",
   "execution_count": 29,
   "metadata": {},
   "outputs": [
    {
     "data": {
      "text/plain": [
       "<AxesSubplot:>"
      ]
     },
     "execution_count": 29,
     "metadata": {},
     "output_type": "execute_result"
    },
    {
     "data": {
      "image/png": "[encoded data removed]",
      "text/plain": [
       "<Figure size 1800x720 with 2 Axes>"
      ]
     },
     "metadata": {
      "needs_background": "light"
     },
     "output_type": "display_data"
    }
   ],
   "source": [
    "import missingno as msno\n",
    "\n",
    "# Missing Values\n",
    "msno.matrix(train_err)"
   ]
  },
  {
   "cell_type": "code",
   "execution_count": 33,
   "metadata": {},
   "outputs": [
    {
     "data": {
      "text/plain": [
       "<AxesSubplot:>"
      ]
     },
     "execution_count": 33,
     "metadata": {},
     "output_type": "execute_result"
    },
    {
     "data": {
      "image/png": "[encoded data removed]",
      "text/plain": [
       "<Figure size 1800x720 with 2 Axes>"
      ]
     },
     "metadata": {
      "needs_background": "light"
     },
     "output_type": "display_data"
    }
   ],
   "source": [
    "import missingno as msno\n",
    "\n",
    "# Missing Values\n",
    "msno.matrix(test_err)"
   ]
  },
  {
   "cell_type": "code",
   "execution_count": 30,
   "metadata": {},
   "outputs": [
    {
     "data": {
      "text/plain": [
       "<AxesSubplot:>"
      ]
     },
     "execution_count": 30,
     "metadata": {},
     "output_type": "execute_result"
    },
    {
     "data": {
      "image/png": "[encoded data removed]",
      "text/plain": [
       "<Figure size 1800x720 with 2 Axes>"
      ]
     },
     "metadata": {
      "needs_background": "light"
     },
     "output_type": "display_data"
    }
   ],
   "source": [
    "import missingno as msno\n",
    "\n",
    "# Missing Values\n",
    "msno.matrix(train_quality)"
   ]
  },
  {
   "cell_type": "code",
   "execution_count": 34,
   "metadata": {},
   "outputs": [
    {
     "data": {
      "text/plain": [
       "<AxesSubplot:>"
      ]
     },
     "execution_count": 34,
     "metadata": {},
     "output_type": "execute_result"
    },
    {
     "data": {
      "image/png": "[encoded data removed]",
      "text/plain": [
       "<Figure size 1800x720 with 2 Axes>"
      ]
     },
     "metadata": {
      "needs_background": "light"
     },
     "output_type": "display_data"
    }
   ],
   "source": [
    "import missingno as msno\n",
    "\n",
    "# Missing Values\n",
    "msno.matrix(test_quality)"
   ]
  },
  {
   "cell_type": "code",
   "execution_count": 31,
   "metadata": {},
   "outputs": [
    {
     "name": "stdout",
     "output_type": "stream",
     "text": [
      "Train-set\n"
     ]
    },
    {
     "data": {
      "text/plain": [
       "user_id     0\n",
       "time        0\n",
       "model_nm    0\n",
       "fwver       0\n",
       "errtype     0\n",
       "errcode     1\n",
       "dtype: int64"
      ]
     },
     "metadata": {},
     "output_type": "display_data"
    },
    {
     "name": "stdout",
     "output_type": "stream",
     "text": [
      "================================================================================\n",
      "Test-set\n"
     ]
    },
    {
     "data": {
      "text/plain": [
       "user_id     0\n",
       "time        0\n",
       "model_nm    0\n",
       "fwver       0\n",
       "errtype     0\n",
       "errcode     4\n",
       "dtype: int64"
      ]
     },
     "metadata": {},
     "output_type": "display_data"
    }
   ],
   "source": [
    "# Missing Value 확인\n",
    "print(\"Train-set\")\n",
    "display( train_err.isnull().sum() )\n",
    "\n",
    "print('=' * 80)\n",
    "\n",
    "print(\"Test-set\")\n",
    "display( test_err.isnull().sum() )\n"
   ]
  },
  {
   "cell_type": "code",
   "execution_count": 32,
   "metadata": {},
   "outputs": [
    {
     "name": "stdout",
     "output_type": "stream",
     "text": [
      "Train-set\n"
     ]
    },
    {
     "data": {
      "text/plain": [
       "time               0\n",
       "user_id            0\n",
       "fwver          40080\n",
       "quality_0     144432\n",
       "quality_1          0\n",
       "quality_2      40113\n",
       "quality_3          0\n",
       "quality_4          0\n",
       "quality_5         20\n",
       "quality_6          0\n",
       "quality_7          0\n",
       "quality_8          0\n",
       "quality_9          0\n",
       "quality_10         0\n",
       "quality_11         0\n",
       "quality_12         0\n",
       "dtype: int64"
      ]
     },
     "metadata": {},
     "output_type": "display_data"
    },
    {
     "name": "stdout",
     "output_type": "stream",
     "text": [
      "================================================================================\n",
      "Test-set\n"
     ]
    },
    {
     "data": {
      "text/plain": [
       "time               0\n",
       "user_id            0\n",
       "fwver          22764\n",
       "quality_0     106584\n",
       "quality_1         11\n",
       "quality_2      21115\n",
       "quality_3          0\n",
       "quality_4          0\n",
       "quality_5         44\n",
       "quality_6          0\n",
       "quality_7          0\n",
       "quality_8          0\n",
       "quality_9          0\n",
       "quality_10         0\n",
       "quality_11         0\n",
       "quality_12         0\n",
       "dtype: int64"
      ]
     },
     "metadata": {},
     "output_type": "display_data"
    }
   ],
   "source": [
    "# Missing Value 확인\n",
    "print(\"Train-set\")\n",
    "display( train_quality.isnull().sum() )\n",
    "\n",
    "print('=' * 80)\n",
    "\n",
    "print(\"Test-set\")\n",
    "display( test_quality.isnull().sum() )\n"
   ]
  },
  {
   "cell_type": "markdown",
   "metadata": {},
   "source": [
    "### 4. Target Variable의 분포는?"
   ]
  },
  {
   "cell_type": "code",
   "execution_count": 35,
   "metadata": {},
   "outputs": [
    {
     "data": {
      "text/html": [
       "<div>\n",
       "<style scoped>\n",
       "    .dataframe tbody tr th:only-of-type {\n",
       "        vertical-align: middle;\n",
       "    }\n",
       "\n",
       "    .dataframe tbody tr th {\n",
       "        vertical-align: top;\n",
       "    }\n",
       "\n",
       "    .dataframe thead th {\n",
       "        text-align: right;\n",
       "    }\n",
       "</style>\n",
       "<table border=\"1\" class=\"dataframe\">\n",
       "  <thead>\n",
       "    <tr style=\"text-align: right;\">\n",
       "      <th></th>\n",
       "      <th>user_id</th>\n",
       "      <th>time</th>\n",
       "    </tr>\n",
       "  </thead>\n",
       "  <tbody>\n",
       "    <tr>\n",
       "      <th>0</th>\n",
       "      <td>19224</td>\n",
       "      <td>20201102200000</td>\n",
       "    </tr>\n",
       "    <tr>\n",
       "      <th>1</th>\n",
       "      <td>23664</td>\n",
       "      <td>20201116140000</td>\n",
       "    </tr>\n",
       "    <tr>\n",
       "      <th>2</th>\n",
       "      <td>15166</td>\n",
       "      <td>20201114130000</td>\n",
       "    </tr>\n",
       "    <tr>\n",
       "      <th>3</th>\n",
       "      <td>12590</td>\n",
       "      <td>20201108210000</td>\n",
       "    </tr>\n",
       "    <tr>\n",
       "      <th>4</th>\n",
       "      <td>15932</td>\n",
       "      <td>20201103210000</td>\n",
       "    </tr>\n",
       "  </tbody>\n",
       "</table>\n",
       "</div>"
      ],
      "text/plain": [
       "   user_id            time\n",
       "0    19224  20201102200000\n",
       "1    23664  20201116140000\n",
       "2    15166  20201114130000\n",
       "3    12590  20201108210000\n",
       "4    15932  20201103210000"
      ]
     },
     "execution_count": 35,
     "metadata": {},
     "output_type": "execute_result"
    }
   ],
   "source": [
    "train_problem.head()"
   ]
  },
  {
   "cell_type": "code",
   "execution_count": 37,
   "metadata": {},
   "outputs": [
    {
     "data": {
      "text/plain": [
       "20201101000000     1\n",
       "20201101010000     3\n",
       "20201101020000     3\n",
       "20201101090000     1\n",
       "20201101110000     3\n",
       "                  ..\n",
       "20201130190000    35\n",
       "20201130200000    11\n",
       "20201130210000     5\n",
       "20201130220000    10\n",
       "20201130230000     2\n",
       "Name: time, Length: 488, dtype: int64"
      ]
     },
     "execution_count": 37,
     "metadata": {},
     "output_type": "execute_result"
    }
   ],
   "source": [
    "# Target Variable의 분포를 살펴보자\n",
    "target_col = 'time'\n",
    "\n",
    "train_problem[target_col].value_counts().sort_index()"
   ]
  },
  {
   "cell_type": "code",
   "execution_count": 40,
   "metadata": {},
   "outputs": [
    {
     "data": {
      "text/plain": [
       "<AxesSubplot:xlabel='time', ylabel='Density'>"
      ]
     },
     "execution_count": 40,
     "metadata": {},
     "output_type": "execute_result"
    },
    {
     "data": {
      "image/png": "[encoded data removed]",
      "text/plain": [
       "<Figure size 432x288 with 1 Axes>"
      ]
     },
     "metadata": {
      "needs_background": "light"
     },
     "output_type": "display_data"
    }
   ],
   "source": [
    "# Dist-plot을 그려보도록 한다.\n",
    "sns.distplot( train_problem[target_col] )"
   ]
  },
  {
   "cell_type": "code",
   "execution_count": 41,
   "metadata": {},
   "outputs": [
    {
     "data": {
      "text/plain": [
       "<AxesSubplot:xlabel='time', ylabel='Density'>"
      ]
     },
     "execution_count": 41,
     "metadata": {},
     "output_type": "execute_result"
    },
    {
     "data": {
      "image/png": "[encoded data removed]",
      "text/plain": [
       "<Figure size 432x288 with 1 Axes>"
      ]
     },
     "metadata": {
      "needs_background": "light"
     },
     "output_type": "display_data"
    }
   ],
   "source": [
    "# log1p transformation을 적용해봐도 정규분포에 근사한 모양을 보이지 않는다.\n",
    "sns.distplot( np.log1p( train_problem[target_col] ) )"
   ]
  },
  {
   "cell_type": "markdown",
   "metadata": {},
   "source": [
    "### 5. 간단히 데이터 살펴보기"
   ]
  },
  {
   "cell_type": "code",
   "execution_count": 27,
   "metadata": {},
   "outputs": [
    {
     "data": {
      "text/html": [
       "<div>\n",
       "<style scoped>\n",
       "    .dataframe tbody tr th:only-of-type {\n",
       "        vertical-align: middle;\n",
       "    }\n",
       "\n",
       "    .dataframe tbody tr th {\n",
       "        vertical-align: top;\n",
       "    }\n",
       "\n",
       "    .dataframe thead th {\n",
       "        text-align: right;\n",
       "    }\n",
       "</style>\n",
       "<table border=\"1\" class=\"dataframe\">\n",
       "  <thead>\n",
       "    <tr style=\"text-align: right;\">\n",
       "      <th></th>\n",
       "      <th>user_id</th>\n",
       "      <th>time</th>\n",
       "      <th>errtype</th>\n",
       "    </tr>\n",
       "  </thead>\n",
       "  <tbody>\n",
       "    <tr>\n",
       "      <th>count</th>\n",
       "      <td>1.655466e+07</td>\n",
       "      <td>1.655466e+07</td>\n",
       "      <td>1.655466e+07</td>\n",
       "    </tr>\n",
       "    <tr>\n",
       "      <th>mean</th>\n",
       "      <td>1.758495e+04</td>\n",
       "      <td>2.020112e+13</td>\n",
       "      <td>2.128030e+01</td>\n",
       "    </tr>\n",
       "    <tr>\n",
       "      <th>std</th>\n",
       "      <td>4.341885e+03</td>\n",
       "      <td>8.664375e+06</td>\n",
       "      <td>9.943175e+00</td>\n",
       "    </tr>\n",
       "    <tr>\n",
       "      <th>min</th>\n",
       "      <td>1.000000e+04</td>\n",
       "      <td>2.020103e+13</td>\n",
       "      <td>1.000000e+00</td>\n",
       "    </tr>\n",
       "    <tr>\n",
       "      <th>25%</th>\n",
       "      <td>1.392500e+04</td>\n",
       "      <td>2.020111e+13</td>\n",
       "      <td>1.500000e+01</td>\n",
       "    </tr>\n",
       "    <tr>\n",
       "      <th>50%</th>\n",
       "      <td>1.748500e+04</td>\n",
       "      <td>2.020112e+13</td>\n",
       "      <td>2.300000e+01</td>\n",
       "    </tr>\n",
       "    <tr>\n",
       "      <th>75%</th>\n",
       "      <td>2.122700e+04</td>\n",
       "      <td>2.020112e+13</td>\n",
       "      <td>3.100000e+01</td>\n",
       "    </tr>\n",
       "    <tr>\n",
       "      <th>max</th>\n",
       "      <td>2.499900e+04</td>\n",
       "      <td>2.020120e+13</td>\n",
       "      <td>4.200000e+01</td>\n",
       "    </tr>\n",
       "  </tbody>\n",
       "</table>\n",
       "</div>"
      ],
      "text/plain": [
       "            user_id          time       errtype\n",
       "count  1.655466e+07  1.655466e+07  1.655466e+07\n",
       "mean   1.758495e+04  2.020112e+13  2.128030e+01\n",
       "std    4.341885e+03  8.664375e+06  9.943175e+00\n",
       "min    1.000000e+04  2.020103e+13  1.000000e+00\n",
       "25%    1.392500e+04  2.020111e+13  1.500000e+01\n",
       "50%    1.748500e+04  2.020112e+13  2.300000e+01\n",
       "75%    2.122700e+04  2.020112e+13  3.100000e+01\n",
       "max    2.499900e+04  2.020120e+13  4.200000e+01"
      ]
     },
     "execution_count": 27,
     "metadata": {},
     "output_type": "execute_result"
    }
   ],
   "source": [
    "train_err.describe()"
   ]
  },
  {
   "cell_type": "code",
   "execution_count": 26,
   "metadata": {},
   "outputs": [
    {
     "data": {
      "text/html": [
       "<div>\n",
       "<style scoped>\n",
       "    .dataframe tbody tr th:only-of-type {\n",
       "        vertical-align: middle;\n",
       "    }\n",
       "\n",
       "    .dataframe tbody tr th {\n",
       "        vertical-align: top;\n",
       "    }\n",
       "\n",
       "    .dataframe thead th {\n",
       "        text-align: right;\n",
       "    }\n",
       "</style>\n",
       "<table border=\"1\" class=\"dataframe\">\n",
       "  <thead>\n",
       "    <tr style=\"text-align: right;\">\n",
       "      <th></th>\n",
       "      <th>time</th>\n",
       "      <th>user_id</th>\n",
       "      <th>quality_0</th>\n",
       "      <th>quality_1</th>\n",
       "      <th>quality_2</th>\n",
       "      <th>quality_3</th>\n",
       "      <th>quality_4</th>\n",
       "      <th>quality_6</th>\n",
       "      <th>quality_11</th>\n",
       "      <th>quality_12</th>\n",
       "    </tr>\n",
       "  </thead>\n",
       "  <tbody>\n",
       "    <tr>\n",
       "      <th>count</th>\n",
       "      <td>8.286240e+05</td>\n",
       "      <td>828624.000000</td>\n",
       "      <td>684192.000000</td>\n",
       "      <td>828624.000000</td>\n",
       "      <td>788511.000000</td>\n",
       "      <td>828624.0</td>\n",
       "      <td>828624.0</td>\n",
       "      <td>828624.000000</td>\n",
       "      <td>828624.000000</td>\n",
       "      <td>828624.000000</td>\n",
       "    </tr>\n",
       "    <tr>\n",
       "      <th>mean</th>\n",
       "      <td>2.020112e+13</td>\n",
       "      <td>17574.678315</td>\n",
       "      <td>4.148701</td>\n",
       "      <td>-0.171782</td>\n",
       "      <td>4.751094</td>\n",
       "      <td>0.0</td>\n",
       "      <td>0.0</td>\n",
       "      <td>2.043391</td>\n",
       "      <td>-0.181638</td>\n",
       "      <td>0.045878</td>\n",
       "    </tr>\n",
       "    <tr>\n",
       "      <th>std</th>\n",
       "      <td>8.863638e+06</td>\n",
       "      <td>4374.113554</td>\n",
       "      <td>479.315029</td>\n",
       "      <td>0.692386</td>\n",
       "      <td>586.252469</td>\n",
       "      <td>0.0</td>\n",
       "      <td>0.0</td>\n",
       "      <td>32.695380</td>\n",
       "      <td>0.397767</td>\n",
       "      <td>0.302452</td>\n",
       "    </tr>\n",
       "    <tr>\n",
       "      <th>min</th>\n",
       "      <td>2.020103e+13</td>\n",
       "      <td>10000.000000</td>\n",
       "      <td>-1.000000</td>\n",
       "      <td>-1.000000</td>\n",
       "      <td>-1.000000</td>\n",
       "      <td>0.0</td>\n",
       "      <td>0.0</td>\n",
       "      <td>-1.000000</td>\n",
       "      <td>-1.000000</td>\n",
       "      <td>0.000000</td>\n",
       "    </tr>\n",
       "    <tr>\n",
       "      <th>25%</th>\n",
       "      <td>2.020111e+13</td>\n",
       "      <td>13685.000000</td>\n",
       "      <td>0.000000</td>\n",
       "      <td>0.000000</td>\n",
       "      <td>0.000000</td>\n",
       "      <td>0.0</td>\n",
       "      <td>0.0</td>\n",
       "      <td>0.000000</td>\n",
       "      <td>0.000000</td>\n",
       "      <td>0.000000</td>\n",
       "    </tr>\n",
       "    <tr>\n",
       "      <th>50%</th>\n",
       "      <td>2.020112e+13</td>\n",
       "      <td>17597.000000</td>\n",
       "      <td>0.000000</td>\n",
       "      <td>0.000000</td>\n",
       "      <td>0.000000</td>\n",
       "      <td>0.0</td>\n",
       "      <td>0.0</td>\n",
       "      <td>0.000000</td>\n",
       "      <td>0.000000</td>\n",
       "      <td>0.000000</td>\n",
       "    </tr>\n",
       "    <tr>\n",
       "      <th>75%</th>\n",
       "      <td>2.020112e+13</td>\n",
       "      <td>21423.000000</td>\n",
       "      <td>0.000000</td>\n",
       "      <td>0.000000</td>\n",
       "      <td>0.000000</td>\n",
       "      <td>0.0</td>\n",
       "      <td>0.0</td>\n",
       "      <td>0.000000</td>\n",
       "      <td>0.000000</td>\n",
       "      <td>0.000000</td>\n",
       "    </tr>\n",
       "    <tr>\n",
       "      <th>max</th>\n",
       "      <td>2.020113e+13</td>\n",
       "      <td>24997.000000</td>\n",
       "      <td>157667.000000</td>\n",
       "      <td>171.000000</td>\n",
       "      <td>191859.000000</td>\n",
       "      <td>0.0</td>\n",
       "      <td>0.0</td>\n",
       "      <td>600.000000</td>\n",
       "      <td>14.000000</td>\n",
       "      <td>14.000000</td>\n",
       "    </tr>\n",
       "  </tbody>\n",
       "</table>\n",
       "</div>"
      ],
      "text/plain": [
       "               time        user_id      quality_0      quality_1  \\\n",
       "count  8.286240e+05  828624.000000  684192.000000  828624.000000   \n",
       "mean   2.020112e+13   17574.678315       4.148701      -0.171782   \n",
       "std    8.863638e+06    4374.113554     479.315029       0.692386   \n",
       "min    2.020103e+13   10000.000000      -1.000000      -1.000000   \n",
       "25%    2.020111e+13   13685.000000       0.000000       0.000000   \n",
       "50%    2.020112e+13   17597.000000       0.000000       0.000000   \n",
       "75%    2.020112e+13   21423.000000       0.000000       0.000000   \n",
       "max    2.020113e+13   24997.000000  157667.000000     171.000000   \n",
       "\n",
       "           quality_2  quality_3  quality_4      quality_6     quality_11  \\\n",
       "count  788511.000000   828624.0   828624.0  828624.000000  828624.000000   \n",
       "mean        4.751094        0.0        0.0       2.043391      -0.181638   \n",
       "std       586.252469        0.0        0.0      32.695380       0.397767   \n",
       "min        -1.000000        0.0        0.0      -1.000000      -1.000000   \n",
       "25%         0.000000        0.0        0.0       0.000000       0.000000   \n",
       "50%         0.000000        0.0        0.0       0.000000       0.000000   \n",
       "75%         0.000000        0.0        0.0       0.000000       0.000000   \n",
       "max    191859.000000        0.0        0.0     600.000000      14.000000   \n",
       "\n",
       "          quality_12  \n",
       "count  828624.000000  \n",
       "mean        0.045878  \n",
       "std         0.302452  \n",
       "min         0.000000  \n",
       "25%         0.000000  \n",
       "50%         0.000000  \n",
       "75%         0.000000  \n",
       "max        14.000000  "
      ]
     },
     "execution_count": 26,
     "metadata": {},
     "output_type": "execute_result"
    }
   ],
   "source": [
    "train_quality.describe()"
   ]
  },
  {
   "cell_type": "code",
   "execution_count": 43,
   "metadata": {},
   "outputs": [
    {
     "data": {
      "text/html": [
       "<div>\n",
       "<style scoped>\n",
       "    .dataframe tbody tr th:only-of-type {\n",
       "        vertical-align: middle;\n",
       "    }\n",
       "\n",
       "    .dataframe tbody tr th {\n",
       "        vertical-align: top;\n",
       "    }\n",
       "\n",
       "    .dataframe thead th {\n",
       "        text-align: right;\n",
       "    }\n",
       "</style>\n",
       "<table border=\"1\" class=\"dataframe\">\n",
       "  <thead>\n",
       "    <tr style=\"text-align: right;\">\n",
       "      <th></th>\n",
       "      <th>user_id</th>\n",
       "      <th>time</th>\n",
       "    </tr>\n",
       "  </thead>\n",
       "  <tbody>\n",
       "    <tr>\n",
       "      <th>count</th>\n",
       "      <td>5429.000000</td>\n",
       "      <td>5.429000e+03</td>\n",
       "    </tr>\n",
       "    <tr>\n",
       "      <th>mean</th>\n",
       "      <td>17567.540615</td>\n",
       "      <td>2.020112e+13</td>\n",
       "    </tr>\n",
       "    <tr>\n",
       "      <th>std</th>\n",
       "      <td>4330.245143</td>\n",
       "      <td>8.611525e+06</td>\n",
       "    </tr>\n",
       "    <tr>\n",
       "      <th>min</th>\n",
       "      <td>10001.000000</td>\n",
       "      <td>2.020110e+13</td>\n",
       "    </tr>\n",
       "    <tr>\n",
       "      <th>25%</th>\n",
       "      <td>13778.000000</td>\n",
       "      <td>2.020111e+13</td>\n",
       "    </tr>\n",
       "    <tr>\n",
       "      <th>50%</th>\n",
       "      <td>17616.000000</td>\n",
       "      <td>2.020112e+13</td>\n",
       "    </tr>\n",
       "    <tr>\n",
       "      <th>75%</th>\n",
       "      <td>21346.000000</td>\n",
       "      <td>2.020112e+13</td>\n",
       "    </tr>\n",
       "    <tr>\n",
       "      <th>max</th>\n",
       "      <td>24998.000000</td>\n",
       "      <td>2.020113e+13</td>\n",
       "    </tr>\n",
       "  </tbody>\n",
       "</table>\n",
       "</div>"
      ],
      "text/plain": [
       "            user_id          time\n",
       "count   5429.000000  5.429000e+03\n",
       "mean   17567.540615  2.020112e+13\n",
       "std     4330.245143  8.611525e+06\n",
       "min    10001.000000  2.020110e+13\n",
       "25%    13778.000000  2.020111e+13\n",
       "50%    17616.000000  2.020112e+13\n",
       "75%    21346.000000  2.020112e+13\n",
       "max    24998.000000  2.020113e+13"
      ]
     },
     "execution_count": 43,
     "metadata": {},
     "output_type": "execute_result"
    }
   ],
   "source": [
    "train_problem.describe()"
   ]
  },
  {
   "cell_type": "markdown",
   "metadata": {},
   "source": [
    "### train_err"
   ]
  },
  {
   "cell_type": "code",
   "execution_count": 28,
   "metadata": {},
   "outputs": [
    {
     "data": {
      "text/plain": [
       "<AxesSubplot:>"
      ]
     },
     "execution_count": 28,
     "metadata": {},
     "output_type": "execute_result"
    },
    {
     "data": {
      "image/png": "[encoded data removed]",
      "text/plain": [
       "<Figure size 720x504 with 2 Axes>"
      ]
     },
     "metadata": {
      "needs_background": "light"
     },
     "output_type": "display_data"
    }
   ],
   "source": [
    "# 전체 데이터에 대한 상관관계 HeatMap 시각화\n",
    "corr = train_err.corr()\n",
    "cmap = sns.color_palette(\"Blues\")\n",
    "f, ax = plt.subplots(figsize=(10, 7))\n",
    "sns.heatmap(corr, cmap=cmap)"
   ]
  },
  {
   "cell_type": "code",
   "execution_count": 35,
   "metadata": {},
   "outputs": [
    {
     "name": "stdout",
     "output_type": "stream",
     "text": [
      "<class 'pandas.core.frame.DataFrame'>\n",
      "RangeIndex: 16554663 entries, 0 to 16554662\n",
      "Data columns (total 6 columns):\n",
      " #   Column    Dtype \n",
      "---  ------    ----- \n",
      " 0   user_id   int64 \n",
      " 1   time      int64 \n",
      " 2   model_nm  object\n",
      " 3   fwver     object\n",
      " 4   errtype   int64 \n",
      " 5   errcode   object\n",
      "dtypes: int64(3), object(3)\n",
      "memory usage: 757.8+ MB\n"
     ]
    }
   ],
   "source": [
    "train_err.info()"
   ]
  },
  {
   "cell_type": "markdown",
   "metadata": {},
   "source": [
    "### train_err"
   ]
  },
  {
   "cell_type": "markdown",
   "metadata": {},
   "source": [
    "### user_id"
   ]
  },
  {
   "cell_type": "code",
   "execution_count": 31,
   "metadata": {},
   "outputs": [
    {
     "data": {
      "text/plain": [
       "Text(0.5, 1.0, 'type Values in the Training Set - train ()')"
      ]
     },
     "execution_count": 31,
     "metadata": {},
     "output_type": "execute_result"
    },
    {
     "data": {
      "image/png": "[encoded data removed]",
      "text/plain": [
       "<Figure size 1296x648 with 1 Axes>"
      ]
     },
     "metadata": {
      "needs_background": "light"
     },
     "output_type": "display_data"
    }
   ],
   "source": [
    "# user_id\n",
    "fig = plt.figure(figsize=(18,9))\n",
    "plt.subplots_adjust(hspace=.5)\n",
    "\n",
    "plt.subplot2grid((3,3), (0,0), colspan = 3)\n",
    "train_err['user_id'].value_counts()[:100].plot(kind='bar', alpha=0.7)\n",
    "plt.title('type Values in the Training Set - train ()')"
   ]
  },
  {
   "cell_type": "code",
   "execution_count": 34,
   "metadata": {
    "scrolled": true
   },
   "outputs": [
    {
     "data": {
      "text/plain": [
       "<AxesSubplot:xlabel='user_id'>"
      ]
     },
     "execution_count": 34,
     "metadata": {},
     "output_type": "execute_result"
    },
    {
     "data": {
      "image/png": "[encoded data removed]",
      "text/plain": [
       "<Figure size 720x288 with 1 Axes>"
      ]
     },
     "metadata": {
      "needs_background": "light"
     },
     "output_type": "display_data"
    }
   ],
   "source": [
    "plt.figure(figsize=(10,4))\n",
    "plt.xlim(train_err.user_id.min(), train_err.user_id.max()*1.1)\n",
    "sns.boxplot(x=train_err.user_id)"
   ]
  },
  {
   "cell_type": "markdown",
   "metadata": {},
   "source": [
    "### time"
   ]
  },
  {
   "cell_type": "code",
   "execution_count": 36,
   "metadata": {},
   "outputs": [
    {
     "data": {
      "text/plain": [
       "Text(0.5, 1.0, 'type Values in the Training Set - train ()')"
      ]
     },
     "execution_count": 36,
     "metadata": {},
     "output_type": "execute_result"
    },
    {
     "data": {
      "image/png": "[encoded data removed]",
      "text/plain": [
       "<Figure size 1296x648 with 1 Axes>"
      ]
     },
     "metadata": {
      "needs_background": "light"
     },
     "output_type": "display_data"
    }
   ],
   "source": [
    "# time\n",
    "fig = plt.figure(figsize=(18,9))\n",
    "plt.subplots_adjust(hspace=.5)\n",
    "\n",
    "plt.subplot2grid((3,3), (0,0), colspan = 3)\n",
    "train_err['time'].value_counts()[:100].plot(kind='bar', alpha=0.7)\n",
    "plt.title('type Values in the Training Set - train ()')"
   ]
  },
  {
   "cell_type": "markdown",
   "metadata": {},
   "source": [
    "### model_nm"
   ]
  },
  {
   "cell_type": "code",
   "execution_count": 38,
   "metadata": {},
   "outputs": [
    {
     "data": {
      "text/plain": [
       "Text(0.5, 1.0, 'type Values in the Training Set - train ()')"
      ]
     },
     "execution_count": 38,
     "metadata": {},
     "output_type": "execute_result"
    },
    {
     "data": {
      "image/png": "[encoded data removed]",
      "text/plain": [
       "<Figure size 1296x648 with 1 Axes>"
      ]
     },
     "metadata": {
      "needs_background": "light"
     },
     "output_type": "display_data"
    }
   ],
   "source": [
    "# model_nm\n",
    "fig = plt.figure(figsize=(18,9))\n",
    "plt.subplots_adjust(hspace=.5)\n",
    "\n",
    "plt.subplot2grid((3,3), (0,0), colspan = 3)\n",
    "train_err['model_nm'].value_counts()[:100].plot(kind='bar', alpha=0.7)\n",
    "plt.title('type Values in the Training Set - train ()')"
   ]
  },
  {
   "cell_type": "markdown",
   "metadata": {},
   "source": [
    "### fwver"
   ]
  },
  {
   "cell_type": "code",
   "execution_count": 40,
   "metadata": {},
   "outputs": [
    {
     "data": {
      "text/plain": [
       "Text(0.5, 1.0, 'type Values in the Training Set - train ()')"
      ]
     },
     "execution_count": 40,
     "metadata": {},
     "output_type": "execute_result"
    },
    {
     "data": {
      "image/png": "[encoded data removed]",
      "text/plain": [
       "<Figure size 1296x648 with 1 Axes>"
      ]
     },
     "metadata": {
      "needs_background": "light"
     },
     "output_type": "display_data"
    }
   ],
   "source": [
    "# fwver\n",
    "fig = plt.figure(figsize=(18,9))\n",
    "plt.subplots_adjust(hspace=.5)\n",
    "\n",
    "plt.subplot2grid((3,3), (0,0), colspan = 3)\n",
    "train_err['fwver'].value_counts()[:100].plot(kind='bar', alpha=0.7)\n",
    "plt.title('type Values in the Training Set - train ()')"
   ]
  },
  {
   "cell_type": "markdown",
   "metadata": {},
   "source": [
    "### errtype"
   ]
  },
  {
   "cell_type": "code",
   "execution_count": 41,
   "metadata": {},
   "outputs": [
    {
     "data": {
      "text/plain": [
       "Text(0.5, 1.0, 'type Values in the Training Set - train ()')"
      ]
     },
     "execution_count": 41,
     "metadata": {},
     "output_type": "execute_result"
    },
    {
     "data": {
      "image/png": "[encoded data removed]",
      "text/plain": [
       "<Figure size 1296x648 with 1 Axes>"
      ]
     },
     "metadata": {
      "needs_background": "light"
     },
     "output_type": "display_data"
    }
   ],
   "source": [
    "# errtype\n",
    "fig = plt.figure(figsize=(18,9))\n",
    "plt.subplots_adjust(hspace=.5)\n",
    "\n",
    "plt.subplot2grid((3,3), (0,0), colspan = 3)\n",
    "train_err['errtype'].value_counts()[:100].plot(kind='bar', alpha=0.7)\n",
    "plt.title('type Values in the Training Set - train ()')"
   ]
  },
  {
   "cell_type": "markdown",
   "metadata": {},
   "source": [
    "### errcode"
   ]
  },
  {
   "cell_type": "code",
   "execution_count": 42,
   "metadata": {},
   "outputs": [
    {
     "data": {
      "text/plain": [
       "Text(0.5, 1.0, 'type Values in the Training Set - train ()')"
      ]
     },
     "execution_count": 42,
     "metadata": {},
     "output_type": "execute_result"
    },
    {
     "data": {
      "image/png": "[encoded data removed]",
      "text/plain": [
       "<Figure size 1296x648 with 1 Axes>"
      ]
     },
     "metadata": {
      "needs_background": "light"
     },
     "output_type": "display_data"
    }
   ],
   "source": [
    "# errcode\n",
    "fig = plt.figure(figsize=(18,9))\n",
    "plt.subplots_adjust(hspace=.5)\n",
    "\n",
    "plt.subplot2grid((3,3), (0,0), colspan = 3)\n",
    "train_err['errcode'].value_counts()[:100].plot(kind='bar', alpha=0.7)\n",
    "plt.title('type Values in the Training Set - train ()')"
   ]
  },
  {
   "cell_type": "markdown",
   "metadata": {},
   "source": [
    "## train_quality"
   ]
  },
  {
   "cell_type": "code",
   "execution_count": 44,
   "metadata": {},
   "outputs": [
    {
     "name": "stdout",
     "output_type": "stream",
     "text": [
      "<class 'pandas.core.frame.DataFrame'>\n",
      "RangeIndex: 828624 entries, 0 to 828623\n",
      "Data columns (total 16 columns):\n",
      " #   Column      Non-Null Count   Dtype  \n",
      "---  ------      --------------   -----  \n",
      " 0   time        828624 non-null  int64  \n",
      " 1   user_id     828624 non-null  int64  \n",
      " 2   fwver       788544 non-null  object \n",
      " 3   quality_0   684192 non-null  float64\n",
      " 4   quality_1   828624 non-null  int64  \n",
      " 5   quality_2   788511 non-null  float64\n",
      " 6   quality_3   828624 non-null  int64  \n",
      " 7   quality_4   828624 non-null  int64  \n",
      " 8   quality_5   828604 non-null  object \n",
      " 9   quality_6   828624 non-null  int64  \n",
      " 10  quality_7   828624 non-null  object \n",
      " 11  quality_8   828624 non-null  object \n",
      " 12  quality_9   828624 non-null  object \n",
      " 13  quality_10  828624 non-null  object \n",
      " 14  quality_11  828624 non-null  int64  \n",
      " 15  quality_12  828624 non-null  int64  \n",
      "dtypes: float64(2), int64(8), object(6)\n",
      "memory usage: 101.2+ MB\n"
     ]
    }
   ],
   "source": [
    "train_quality.info()"
   ]
  },
  {
   "cell_type": "code",
   "execution_count": 57,
   "metadata": {},
   "outputs": [
    {
     "data": {
      "text/plain": [
       "<AxesSubplot:>"
      ]
     },
     "execution_count": 57,
     "metadata": {},
     "output_type": "execute_result"
    },
    {
     "data": {
      "image/png": "[encoded data removed]",
      "text/plain": [
       "<Figure size 720x504 with 2 Axes>"
      ]
     },
     "metadata": {
      "needs_background": "light"
     },
     "output_type": "display_data"
    }
   ],
   "source": [
    "# 전체 데이터에 대한 상관관계 HeatMap 시각화\n",
    "corr = train_quality.corr()\n",
    "cmap = sns.color_palette(\"Blues\")\n",
    "f, ax = plt.subplots(figsize=(10, 7))\n",
    "sns.heatmap(corr, cmap=cmap)"
   ]
  },
  {
   "cell_type": "markdown",
   "metadata": {},
   "source": [
    "### time"
   ]
  },
  {
   "cell_type": "code",
   "execution_count": 45,
   "metadata": {},
   "outputs": [
    {
     "data": {
      "text/plain": [
       "Text(0.5, 1.0, 'type Values in the Training Set - train ()')"
      ]
     },
     "execution_count": 45,
     "metadata": {},
     "output_type": "execute_result"
    },
    {
     "data": {
      "image/png": "[encoded data removed]",
      "text/plain": [
       "<Figure size 1296x648 with 1 Axes>"
      ]
     },
     "metadata": {
      "needs_background": "light"
     },
     "output_type": "display_data"
    }
   ],
   "source": [
    "# time\n",
    "fig = plt.figure(figsize=(18,9))\n",
    "plt.subplots_adjust(hspace=.5)\n",
    "\n",
    "plt.subplot2grid((3,3), (0,0), colspan = 3)\n",
    "train_quality['time'].value_counts()[:100].plot(kind='bar', alpha=0.7)\n",
    "plt.title('type Values in the Training Set - train ()')"
   ]
  },
  {
   "cell_type": "markdown",
   "metadata": {},
   "source": [
    "### user_id"
   ]
  },
  {
   "cell_type": "code",
   "execution_count": 48,
   "metadata": {},
   "outputs": [
    {
     "data": {
      "text/plain": [
       "Text(0.5, 1.0, 'type Values in the Training Set - train ()')"
      ]
     },
     "execution_count": 48,
     "metadata": {},
     "output_type": "execute_result"
    },
    {
     "data": {
      "image/png": "[encoded data removed]",
      "text/plain": [
       "<Figure size 1296x648 with 1 Axes>"
      ]
     },
     "metadata": {
      "needs_background": "light"
     },
     "output_type": "display_data"
    }
   ],
   "source": [
    "# user_id\n",
    "fig = plt.figure(figsize=(18,9))\n",
    "plt.subplots_adjust(hspace=.5)\n",
    "\n",
    "plt.subplot2grid((3,3), (0,0), colspan = 3)\n",
    "train_quality['user_id'].value_counts()[:100].plot(kind='bar', alpha=0.7)\n",
    "plt.title('type Values in the Training Set - train ()')"
   ]
  },
  {
   "cell_type": "markdown",
   "metadata": {},
   "source": [
    "### fwver"
   ]
  },
  {
   "cell_type": "code",
   "execution_count": 47,
   "metadata": {},
   "outputs": [
    {
     "data": {
      "text/plain": [
       "Text(0.5, 1.0, 'type Values in the Training Set - train ()')"
      ]
     },
     "execution_count": 47,
     "metadata": {},
     "output_type": "execute_result"
    },
    {
     "data": {
      "image/png": "[encoded data removed]",
      "text/plain": [
       "<Figure size 1296x648 with 1 Axes>"
      ]
     },
     "metadata": {
      "needs_background": "light"
     },
     "output_type": "display_data"
    }
   ],
   "source": [
    "# fwver\n",
    "fig = plt.figure(figsize=(18,9))\n",
    "plt.subplots_adjust(hspace=.5)\n",
    "\n",
    "plt.subplot2grid((3,3), (0,0), colspan = 3)\n",
    "train_quality['fwver'].value_counts()[:100].plot(kind='bar', alpha=0.7)\n",
    "plt.title('type Values in the Training Set - train ()')"
   ]
  },
  {
   "cell_type": "markdown",
   "metadata": {},
   "source": [
    "### quality_0"
   ]
  },
  {
   "cell_type": "code",
   "execution_count": 53,
   "metadata": {},
   "outputs": [
    {
     "data": {
      "text/plain": [
       "Text(0.5, 1.0, 'type Values in the Training Set - train ()')"
      ]
     },
     "execution_count": 53,
     "metadata": {},
     "output_type": "execute_result"
    },
    {
     "data": {
      "image/png": "[encoded data removed]",
      "text/plain": [
       "<Figure size 1296x648 with 1 Axes>"
      ]
     },
     "metadata": {
      "needs_background": "light"
     },
     "output_type": "display_data"
    }
   ],
   "source": [
    "# fwver\n",
    "fig = plt.figure(figsize=(18,9))\n",
    "plt.subplots_adjust(hspace=.5)\n",
    "\n",
    "plt.subplot2grid((3,3), (0,0), colspan = 3)\n",
    "train_quality['quality_0'].value_counts()[:50].plot(kind='bar', alpha=0.7)\n",
    "plt.title('type Values in the Training Set - train ()')"
   ]
  },
  {
   "cell_type": "code",
   "execution_count": 56,
   "metadata": {},
   "outputs": [
    {
     "data": {
      "text/plain": [
       "<AxesSubplot:xlabel='quality_0'>"
      ]
     },
     "execution_count": 56,
     "metadata": {},
     "output_type": "execute_result"
    },
    {
     "data": {
      "image/png": "[encoded data removed]",
      "text/plain": [
       "<Figure size 720x288 with 1 Axes>"
      ]
     },
     "metadata": {
      "needs_background": "light"
     },
     "output_type": "display_data"
    }
   ],
   "source": [
    "plt.figure(figsize=(10,4))\n",
    "plt.xlim(train_quality.quality_0.min(), train_quality.quality_0.max()*1.1)\n",
    "sns.boxplot(x=train_quality.quality_0)"
   ]
  },
  {
   "cell_type": "markdown",
   "metadata": {},
   "source": [
    "### quality_1"
   ]
  },
  {
   "cell_type": "code",
   "execution_count": 52,
   "metadata": {},
   "outputs": [
    {
     "data": {
      "text/plain": [
       "Text(0.5, 1.0, 'type Values in the Training Set - train ()')"
      ]
     },
     "execution_count": 52,
     "metadata": {},
     "output_type": "execute_result"
    },
    {
     "data": {
      "image/png": "[encoded data removed]",
      "text/plain": [
       "<Figure size 1296x648 with 1 Axes>"
      ]
     },
     "metadata": {
      "needs_background": "light"
     },
     "output_type": "display_data"
    }
   ],
   "source": [
    "# quality_1\n",
    "fig = plt.figure(figsize=(18,9))\n",
    "plt.subplots_adjust(hspace=.5)\n",
    "\n",
    "plt.subplot2grid((3,3), (0,0), colspan = 3)\n",
    "train_quality['quality_1'].value_counts()[:50].plot(kind='bar', alpha=0.7)\n",
    "plt.title('type Values in the Training Set - train ()')"
   ]
  },
  {
   "cell_type": "code",
   "execution_count": 55,
   "metadata": {},
   "outputs": [
    {
     "data": {
      "text/plain": [
       "<AxesSubplot:xlabel='quality_1'>"
      ]
     },
     "execution_count": 55,
     "metadata": {},
     "output_type": "execute_result"
    },
    {
     "data": {
      "image/png": "[encoded data removed]",
      "text/plain": [
       "<Figure size 720x288 with 1 Axes>"
      ]
     },
     "metadata": {
      "needs_background": "light"
     },
     "output_type": "display_data"
    }
   ],
   "source": [
    "plt.figure(figsize=(10,4))\n",
    "plt.xlim(train_quality.quality_1.min(), train_quality.quality_1.max()*1.1)\n",
    "sns.boxplot(x=train_quality.quality_1)"
   ]
  },
  {
   "cell_type": "markdown",
   "metadata": {},
   "source": [
    "### quality_2"
   ]
  },
  {
   "cell_type": "code",
   "execution_count": 51,
   "metadata": {},
   "outputs": [
    {
     "data": {
      "text/plain": [
       "Text(0.5, 1.0, 'type Values in the Training Set - train ()')"
      ]
     },
     "execution_count": 51,
     "metadata": {},
     "output_type": "execute_result"
    },
    {
     "data": {
      "image/png": "[encoded data removed]",
      "text/plain": [
       "<Figure size 1296x648 with 1 Axes>"
      ]
     },
     "metadata": {
      "needs_background": "light"
     },
     "output_type": "display_data"
    }
   ],
   "source": [
    "# quality_2\n",
    "fig = plt.figure(figsize=(18,9))\n",
    "plt.subplots_adjust(hspace=.5)\n",
    "\n",
    "plt.subplot2grid((3,3), (0,0), colspan = 3)\n",
    "train_quality['quality_2'].value_counts()[:50].plot(kind='bar', alpha=0.7)\n",
    "plt.title('type Values in the Training Set - train ()')"
   ]
  },
  {
   "cell_type": "code",
   "execution_count": 54,
   "metadata": {},
   "outputs": [
    {
     "data": {
      "text/plain": [
       "<AxesSubplot:xlabel='quality_2'>"
      ]
     },
     "execution_count": 54,
     "metadata": {},
     "output_type": "execute_result"
    },
    {
     "data": {
      "image/png": "[encoded data removed]",
      "text/plain": [
       "<Figure size 720x288 with 1 Axes>"
      ]
     },
     "metadata": {
      "needs_background": "light"
     },
     "output_type": "display_data"
    }
   ],
   "source": [
    "plt.figure(figsize=(10,4))\n",
    "plt.xlim(train_quality.quality_2.min(), train_quality.quality_2.max()*1.1)\n",
    "sns.boxplot(x=train_quality.quality_2)"
   ]
  },
  {
   "cell_type": "markdown",
   "metadata": {},
   "source": [
    "### 6. 데이터의 특이한/주목해야할 부분은?"
   ]
  },
  {
   "cell_type": "code",
   "execution_count": 58,
   "metadata": {},
   "outputs": [],
   "source": [
    "# ..."
   ]
  },
  {
   "cell_type": "code",
   "execution_count": null,
   "metadata": {},
   "outputs": [],
   "source": []
  }
 ],
 "metadata": {
  "kernelspec": {
   "display_name": "Python 3",
   "language": "python",
   "name": "python3"
  },
  "language_info": {
   "codemirror_mode": {
    "name": "ipython",
    "version": 3
   },
   "file_extension": ".py",
   "mimetype": "text/x-python",
   "name": "python",
   "nbconvert_exporter": "python",
   "pygments_lexer": "ipython3",
   "version": "3.8.5"
  },
  "toc": {
   "base_numbering": 1,
   "nav_menu": {},
   "number_sections": false,
   "sideBar": true,
   "skip_h1_title": false,
   "title_cell": "Table of Contents",
   "title_sidebar": "Contents",
   "toc_cell": false,
   "toc_position": {},
   "toc_section_display": true,
   "toc_window_display": false
  }
 },
 "nbformat": 4,
 "nbformat_minor": 4
}

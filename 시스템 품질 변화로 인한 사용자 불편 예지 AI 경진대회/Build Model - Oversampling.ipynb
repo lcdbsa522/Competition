{
 "cells": [
  {
   "cell_type": "markdown",
   "metadata": {},
   "source": [
    "# Import"
   ]
  },
  {
   "cell_type": "code",
   "execution_count": 1,
   "metadata": {},
   "outputs": [],
   "source": [
    "### 기본\n",
    "import pandas as pd\n",
    "import numpy as np\n",
    "import datetime as dt\n",
    "import matplotlib.pyplot as plt\n",
    "\n",
    "### tuning\n",
    "from sklearn.metrics import *\n",
    "from sklearn.model_selection import KFold\n",
    "import warnings\n",
    "\n",
    "### model \n",
    "import lightgbm as lgb\n",
    "\n",
    "### os\n",
    "from tqdm import tqdm\n",
    "import gc\n",
    "import random\n",
    "import re\n",
    "\n",
    "warnings.filterwarnings(action='ignore')\n",
    "\n",
    "# Visualization\n",
    "import matplotlib.pylab as plt\n",
    "from matplotlib import font_manager, rc\n",
    "import seaborn as sns\n",
    "%matplotlib inline\n",
    "\n",
    "# EDA\n",
    "import klib\n",
    "\n",
    "# Preprocessing & Feature Engineering\n",
    "from sklearn.model_selection import train_test_split\n",
    "from sklearn.preprocessing import MinMaxScaler\n",
    "from sklearn.impute import SimpleImputer \n",
    "from sklearn.preprocessing import StandardScaler\n",
    "from sklearn.preprocessing import MinMaxScaler\n",
    "from sklearn.preprocessing import PowerTransformer\n",
    "from sklearn.feature_selection import SelectPercentile\n",
    "\n",
    "# Hyperparameter Optimization\n",
    "from sklearn.model_selection import GridSearchCV\n",
    "from sklearn.model_selection import RandomizedSearchCV\n",
    "\n",
    "# Modeling\n",
    "from sklearn.dummy import DummyClassifier\n",
    "from sklearn.linear_model import LogisticRegression\n",
    "from sklearn.neighbors import KNeighborsClassifier\n",
    "from sklearn.ensemble import RandomForestClassifier\n",
    "from sklearn.neural_network import MLPClassifier\n",
    "from sklearn.tree import DecisionTreeClassifier\n",
    "from sklearn.ensemble import GradientBoostingClassifier\n",
    "from sklearn.svm import SVC\n",
    "from sklearn.ensemble import VotingClassifier\n",
    "from sklearn.ensemble import StackingClassifier\n",
    "from sklearn.svm import SVC\n",
    "from sklearn.tree import DecisionTreeClassifier\n",
    "from xgboost import XGBClassifier\n",
    "from lightgbm import LGBMClassifier\n",
    "from catboost import CatBoostClassifier\n",
    "from sklearn.ensemble import ExtraTreesClassifier\n",
    "\n",
    "# Evaluation\n",
    "from sklearn.metrics import roc_auc_score\n",
    "from sklearn.model_selection import cross_val_score\n",
    "\n",
    "# Utility\n",
    "import os\n",
    "import time\n",
    "import random\n",
    "import warnings; warnings.filterwarnings(\"ignore\")\n",
    "from IPython.display import Image\n",
    "import pickle\n",
    "from tqdm import tqdm\n",
    "import platform\n",
    "from itertools import combinations\n",
    "from scipy.stats.mstats import gmean\n",
    "import time"
   ]
  },
  {
   "cell_type": "markdown",
   "metadata": {},
   "source": [
    "# Data load"
   ]
  },
  {
   "cell_type": "code",
   "execution_count": 2,
   "metadata": {},
   "outputs": [],
   "source": [
    "train_x = np.array(pd.read_csv('oversampling_x_ver02.csv'))\n",
    "train_y = np.array(pd.read_csv('oversampling_y_ver02.csv'))"
   ]
  },
  {
   "cell_type": "code",
   "execution_count": 3,
   "metadata": {},
   "outputs": [],
   "source": [
    "# train_numeric = pd.read_csv('train_numeric_out_log_scaling.csv')\n",
    "test_numeric = pd.read_csv('test_numeric_out_log_scaling.csv')\n",
    "# train_sparse = pd.read_csv('train_part_pca.csv')\n",
    "test_sparse = pd.read_csv('test_part_pca.csv')\n",
    "# train_prob = pd.read_csv('prob_train.csv')\n",
    "test_prob = pd.read_csv('prob_test.csv')\n",
    "# train_share = pd.read_csv('train_share_fillna.csv')\n",
    "test_share = pd.read_csv('test_share_fillna.csv')"
   ]
  },
  {
   "cell_type": "code",
   "execution_count": 4,
   "metadata": {},
   "outputs": [],
   "source": [
    "# train_x = pd.concat([train_numeric, train_sparse], axis = 1)\n",
    "# train_x = pd.concat([train_x, train_prob], axis = 1)\n",
    "# train_x = pd.concat([train_x, train_share], axis = 1)\n",
    "# train_x = np.array(train_x)\n",
    "test_x = pd.concat([test_numeric, test_sparse], axis = 1)\n",
    "test_x = pd.concat([test_x, test_prob], axis = 1)\n",
    "test_x = pd.concat([test_x, test_share], axis = 1)\n",
    "test_x = np.array(test_x)"
   ]
  },
  {
   "cell_type": "code",
   "execution_count": 5,
   "metadata": {},
   "outputs": [],
   "source": [
    "#train_y = np.array(pd.read_csv('train_y.csv').drop(['user_id'],axis=1).ploblem)\n",
    "test_id = pd.read_csv('test_x.csv').user_id"
   ]
  },
  {
   "cell_type": "code",
   "execution_count": 6,
   "metadata": {},
   "outputs": [],
   "source": [
    "# 학습데이터 70%, 평가데이터 30%로 데이터 분할\n",
    "X_train, X_dev, y_train, y_dev = train_test_split(train_x, train_y, test_size=0.3, random_state=0)"
   ]
  },
  {
   "cell_type": "code",
   "execution_count": 7,
   "metadata": {
    "scrolled": false
   },
   "outputs": [
    {
     "name": "stderr",
     "output_type": "stream",
     "text": [
      " 17%|█████████████                                                                 | 1/6 [1:44:57<8:44:45, 6297.07s/it]"
     ]
    },
    {
     "name": "stdout",
     "output_type": "stream",
     "text": [
      "CatBoostClassifier                                   0.929056 6297.1\n",
      "final params {'random_strength': 0.7, 'n_estimators': 250, 'l2_leaf_reg': 8, 'depth': 11}\n",
      "[LightGBM] [Warning] boosting is set=gbdt, boosting_type=gbdt will be ignored. Current value: boosting=gbdt\n",
      "[LightGBM] [Warning] feature_fraction is set=0.6, colsample_bytree=1.0 will be ignored. Current value: feature_fraction=0.6\n",
      "[LightGBM] [Warning] min_data_in_leaf is set=50, min_child_samples=15 will be ignored. Current value: min_data_in_leaf=50\n",
      "[LightGBM] [Warning] bagging_freq is set=4, subsample_freq=0 will be ignored. Current value: bagging_freq=4\n",
      "[LightGBM] [Warning] num_iterations is set=200, num_iteration=200 will be ignored. Current value: num_iterations=200\n"
     ]
    },
    {
     "name": "stderr",
     "output_type": "stream",
     "text": [
      "\r",
      " 33%|██████████████████████████                                                    | 2/6 [1:45:52<4:54:57, 4424.49s/it]"
     ]
    },
    {
     "name": "stdout",
     "output_type": "stream",
     "text": [
      "LGBMClassifier                                       0.928073 55.1\n",
      "final params {'reg_lambda': 0.4, 'num_leaves': 15, 'num_iteration': 200, 'n_estimators': 20, 'min_split_gain': 0, 'min_data_in_leaf': 50, 'min_child_samples': 15, 'max_depth': 6, 'learning_rate': 0.1, 'feature_fraction': 0.6, 'boosting': 'gbdt', 'boost_from_average': False, 'bagging_freq': 4}\n",
      "[19:33:01] WARNING: C:/Users/Administrator/workspace/xgboost-win64_release_1.3.0/src/learner.cc:541: \n",
      "Parameters: { subsamle } might not be used.\n",
      "\n",
      "  This may not be accurate due to some parameters are only used in language bindings but\n",
      "  passed down to XGBoost core.  Or some parameters are not used but slip through this\n",
      "  verification. Please open an issue if you find above cases.\n",
      "\n",
      "\n"
     ]
    },
    {
     "name": "stderr",
     "output_type": "stream",
     "text": [
      "\r",
      " 50%|███████████████████████████████████████                                       | 3/6 [1:59:01<2:46:41, 3333.87s/it]"
     ]
    },
    {
     "name": "stdout",
     "output_type": "stream",
     "text": [
      "XGBClassifier                                        0.920626 789.1\n",
      "final params {'subsamle': 1, 'scale_pos_weight': 25.1, 'reg_lambda': 3, 'reg_alpha': 0.2, 'objective': 'binary:logistic', 'n_estimators': 300, 'min_split_loss': 10, 'min_child_weight': 50, 'max_depth': 3, 'learning_rate': 0.1, 'eval_metric': 'error', 'colsample_bytree': 0.5}\n"
     ]
    },
    {
     "name": "stderr",
     "output_type": "stream",
     "text": [
      "\r",
      " 67%|████████████████████████████████████████████████████                          | 4/6 [2:00:51<1:18:53, 2366.92s/it]"
     ]
    },
    {
     "name": "stdout",
     "output_type": "stream",
     "text": [
      "KNeighborsClassifier                                 0.863726 110.7\n",
      "final params {'weights': 'distance', 'p': 2, 'n_neighbors': 5, 'metric': 'manhattan', 'leaf_size': 40, 'algorithm': 'kd_tree'}\n"
     ]
    },
    {
     "name": "stderr",
     "output_type": "stream",
     "text": [
      "\r",
      " 83%|██████████████████████████████████████████████████████████████████▋             | 5/6 [2:07:30<29:36, 1776.53s/it]"
     ]
    },
    {
     "name": "stdout",
     "output_type": "stream",
     "text": [
      "LogisticRegression                                   0.858471 399.0\n",
      "final params {'solver': 'liblinear', 'penalty': 'l1', 'max_iter': 1000, 'C': 0.4}\n"
     ]
    },
    {
     "name": "stderr",
     "output_type": "stream",
     "text": [
      "100%|███████████████████████████████████████████████████████████████████████████████| 6/6 [12:16:52<00:00, 7368.71s/it]"
     ]
    },
    {
     "name": "stdout",
     "output_type": "stream",
     "text": [
      "GradientBoostingClassifier                           0.928267 36561.3\n",
      "final params {'n_estimators': 300, 'min_samples_split': 10, 'min_samples_leaf': 3, 'min_impurity_decrease': 0.0005, 'max_features': 502, 'max_depth': 10, 'loss': 'deviance', 'learning_rate': 0.01, 'criterion': 'friedman_mse'}\n",
      "모델 수행 시간: 44212.3 초\n"
     ]
    },
    {
     "name": "stderr",
     "output_type": "stream",
     "text": [
      "\n"
     ]
    }
   ],
   "source": [
    "clfs = [\n",
    "    (\n",
    "       CatBoostClassifier(random_state=0, verbose=False),\n",
    "       {'n_estimators': range(10, 310, 10),\n",
    "        'depth': [1, 2, 3, 4, 5, 6, 7, 8, 9, 10, 11],\n",
    "        'random_strength': [0.0,0.1,0.2,0.3,0.4,0.5,0.6,0.7,0.8],\n",
    "        'l2_leaf_reg': [1,2,3,4,5,6,7,8,9,10,20,30,50,100,200]}\n",
    "    ),\n",
    "    (\n",
    "        LGBMClassifier(random_state=0),\n",
    "        {'num_iteration': [100, 200, 300],\n",
    "         'learning_rate': [1, 0.1, 0.01],\n",
    "         'max_depth':[3,4,6,8,10],\n",
    "         'min_data_in_leaf':[5,10,50,70,100],\n",
    "         'num_leaves':[15,31,35],\n",
    "         'boosting':['gbdt','rf'],\n",
    "         'n_estimators': range(10, 200, 10),\n",
    "         'min_split_gain': [0,0.1,0.2,0.3,0.4,0.5,0.6,0.7,0.8,0.9],\n",
    "         #'reg_alpha': [0.001,0.01,0.0005,0.005,0.05,0.1,0.15,0.2,0.3,0.4,0.5,0.7,1,2,3,4,5,10],\n",
    "         'reg_lambda': [0.001,0.01,0.0005,0.005,0.05,0.1,0.15,0.2,0.3,0.4,0.5,0.7,1,2,3,4,5,10],\n",
    "         'feature_fraction': [0.4, 0.5, 0.6, 0.7, 0.8, 0.9, 1.0],\n",
    "         #'bagging_fraction': [0.4, 0.5, 0.6, 0.7, 0.8, 0.9, 1.0],\n",
    "         'bagging_freq': [1, 2, 3, 4, 5, 6, 7],\n",
    "         'min_child_samples': range(5,50,5),\n",
    "         'boost_from_average' : [False]\n",
    "         }\n",
    "    ),\n",
    "    (\n",
    "        XGBClassifier(random_state=0),\n",
    "        {'learning_rate': [1, 0.1, 0.01],\n",
    "         'n_estimators': [100, 200, 300],\n",
    "         'max_depth':[3,4,6,8,10],\n",
    "         'subsamle':[0.3, 0.5, 0.7, 1],\n",
    "         'min_child_weight':[10,20,50,100],\n",
    "         'objective':['binary:logistic'],\n",
    "         'eval_metric':['error'],\n",
    "         'min_split_loss':[10,20,50,100],\n",
    "         'colsample_bytree': [0.5, 0.7, 0.9, 1],\n",
    "         'reg_alpha': [0.0001,0.001,0.01,0.0005,0.005,0.05,0.1,0.15,0.2,0.3,0.4,0.5,0.7,1,2,3,4,5,10],\n",
    "         'reg_lambda': [0.0001,0.001,0.01,0.0005,0.005,0.05,0.1,0.15,0.2,0.3,0.4,0.5,0.7,1,2,3,4,5,10],\n",
    "         'scale_pos_weight': np.arange(0.0, 50.1, 0.1)\n",
    "        }\n",
    "    ),\n",
    "    (\n",
    "        KNeighborsClassifier(),              # 사용하려는 모델\n",
    "        {'n_neighbors': [3,5,7,9,11],        # 최적화하려는 하이퍼파라미터\n",
    "         'weights': ['uniform','distance'],\n",
    "         'algorithm': ['auto','ball_tree', 'kd_tree', 'brute'],\n",
    "         'leaf_size': [10, 20, 30, 40],\n",
    "         'p': [1,2],\n",
    "         'metric': ['minkowski', 'euclidean', 'manhattan']}\n",
    "    ),\n",
    "#     (\n",
    "#         MLPClassifier(random_state=0),\n",
    "#         {'batch_size': ['auto', 32, 64, 128],\n",
    "#          'learning_rate' : ['constant', 'adaptive','invscaling'],\n",
    "#          'activation': ['tanh', 'relu'],\n",
    "#          'solver': ['sgd', 'adam'],\n",
    "#          'hidden_layer_sizes': [10,30,50,100],\n",
    "#          'alpha': [1e-07,1e-06,0.0001,0.001,0.01,0.0005,0.005,0.05,0.1,0.15,0.2,0.3,0.4,0.5,0.7,0.9]}\n",
    "#     ),\n",
    "    (\n",
    "        LogisticRegression(random_state=0),  \n",
    "        {'C': np.arange(0.1, 1.1, 0.1),      \n",
    "         'penalty': ['l1','l2'],\n",
    "         'max_iter' : [100, 300, 500, 1000],\n",
    "         'solver' : ['liblinear']}\n",
    "    ),\n",
    "#     (\n",
    "#         RandomForestClassifier(random_state=0),\n",
    "#         {'n_estimators': [100,200,300],\n",
    "#          'max_depth': [None,3,4,5,6],\n",
    "#          'max_features': (np.arange(0.5, 1.0, 0.1)*X_train.shape[1]).astype(int),\n",
    "#          'criterion': ['gini','entropy'],\n",
    "#          'min_samples_split':[2,3,4],\n",
    "#          'min_samples_leaf':[1,2,4],\n",
    "#          'min_impurity_decrease': [0,0.0001,0.001,0.01,0.0002,0.002,0.02,0.0005,0.005,0.05,0.1,0.2,0.3,0.4,0.5],\n",
    "#          'bootstrap': [True, False],\n",
    "#          'class_weight': ['balanced', 'balanced_subsample', {}]}\n",
    "#     ),\n",
    "    (\n",
    "        GradientBoostingClassifier(random_state=0),\n",
    "        {'n_estimators': [100, 200, 300],\n",
    "         'learning_rate': [1, 0.1, 0.01],\n",
    "         'criterion': ['friedman_mse', 'mse', 'mae'],\n",
    "         'loss': ['deviance', 'exponential'],\n",
    "         'min_samples_split': [2, 4, 5, 7, 9, 10],\n",
    "         'min_samples_leaf': [1, 2, 3, 4, 5],\n",
    "         'max_depth': [1, 2, 3, 4, 5, 6, 7, 8, 9, 10, 11],\n",
    "         'min_impurity_decrease': [0,0.0001,0.001,0.01,0.0002,0.002,0.02,0.0005,0.005,0.05,0.1,0.2,0.3,0.4,0.5],\n",
    "         'max_features': (np.arange(0.5, 1.0, 0.1)*X_train.shape[1]).astype(int)\n",
    "        }\n",
    "    )\n",
    "#    (\n",
    "#         DecisionTreeClassifier(random_state=0),\n",
    "#         {'criterion' :['gini','entropy'],\n",
    "#          'max_depth':[3,4,6,8,10],\n",
    "#          'min_samples_leaf':[3,5,10,50,100],\n",
    "#          'splitter':[\"best\",\"random\"]\n",
    "#         }\n",
    "#     )\n",
    "]\n",
    "\n",
    "clfs_tuned = []  # 튜닝된 모델을 저장\n",
    "start_time = time.time()\n",
    "for clf, param_grid in tqdm(clfs):\n",
    "    start = time.time()\n",
    "    rand_search = RandomizedSearchCV(clf, param_grid, n_iter=8, scoring='roc_auc', \n",
    "                                     cv=3, random_state=0, n_jobs=-1)\n",
    "    rand_search.fit(X_train, y_train)\n",
    "    clf_name = type(clf).__name__\n",
    "    clf_score = rand_search.score(X_dev, y_dev)\n",
    "    print('{:30s} {:30f} {:.1f}'.format(clf_name, clf_score, time.time() - start))\n",
    "    print('final params', rand_search.best_params_)\n",
    "    clfs_tuned.append((clf_name, rand_search, clf_score))\n",
    "    #globals()['{}_pred'.format(clf_name)] = pd.DataFrame(rand_search.best_estimator_.predict(test_x))\n",
    "print('모델 수행 시간: {0:.1f} 초'.format(time.time()- start_time))"
   ]
  },
  {
   "cell_type": "code",
   "execution_count": 8,
   "metadata": {},
   "outputs": [
    {
     "data": {
      "image/png": "[encoded data removed]",
      "text/plain": [
       "<Figure size 576x432 with 2 Axes>"
      ]
     },
     "metadata": {
      "needs_background": "light"
     },
     "output_type": "display_data"
    }
   ],
   "source": [
    "pred_results = []\n",
    "for name, clf, clf_score in clfs_tuned:\n",
    "    pred = clf.predict_proba(X_dev)[:,1]\n",
    "    name = f'{name} \\n({clf_score:.4f})'\n",
    "    pred_results.append(pd.Series(pred, name=name))\n",
    "ensemble_results = pd.concat(pred_results, axis=1)\n",
    "\n",
    "# 모형의 예측값 간의 상관관계를 보기 위해 hitmap을 도식한다.\n",
    "plt.figure(figsize = (8,6))\n",
    "g = sns.heatmap(ensemble_results.corr(), annot=True, cmap='Blues')\n",
    "g.set_title(\"Correlation between models\")\n",
    "plt.show()"
   ]
  },
  {
   "cell_type": "code",
   "execution_count": 9,
   "metadata": {},
   "outputs": [
    {
     "data": {
      "text/plain": [
       "CatBoostClassifier \\n(0.9291)            0.843013\n",
       "LGBMClassifier \\n(0.9281)                0.837232\n",
       "XGBClassifier \\n(0.9206)                 0.712647\n",
       "KNeighborsClassifier \\n(0.8637)          0.641095\n",
       "LogisticRegression \\n(0.8585)            0.758993\n",
       "GradientBoostingClassifier \\n(0.9283)    0.836595\n",
       "dtype: float64"
      ]
     },
     "execution_count": 9,
     "metadata": {},
     "output_type": "execute_result"
    }
   ],
   "source": [
    "# Mean agreement\n",
    "(ensemble_results.corr().sum()-1)/(ensemble_results.corr().shape[0]-1)"
   ]
  },
  {
   "cell_type": "code",
   "execution_count": 10,
   "metadata": {},
   "outputs": [],
   "source": [
    "# Averaging 앙상블에 사용하지 않을 모델은 주석 처리하시오.\n",
    "selected = [\n",
    "    'KNeighborsClassifier', \n",
    "#     'MLPClassifier',\n",
    "    'LogisticRegression', \n",
    "#     'RandomForestClassifier', \n",
    "    'GradientBoostingClassifier',\n",
    "#     'DecisionTreeClassifier',\n",
    "    'XGBClassifier',\n",
    "    'LGBMClassifier',\n",
    "    'CatBoostClassifier',\n",
    "]\n",
    "models_for_ensemble = [clf for clf in clfs_tuned if clf[0] in selected]"
   ]
  },
  {
   "cell_type": "code",
   "execution_count": 11,
   "metadata": {
    "scrolled": true
   },
   "outputs": [
    {
     "name": "stderr",
     "output_type": "stream",
     "text": [
      "100%|███████████████████████████████████████████████████████████████████████████████████| 3/3 [12:13<00:00, 244.60s/it]"
     ]
    },
    {
     "name": "stdout",
     "output_type": "stream",
     "text": [
      "p=2.56\n",
      "CatBoostClassifier●LGBMClassifier●KNeighborsClassifier●GradientBoostingClassifier\n",
      "0.9441394863377344\n"
     ]
    },
    {
     "name": "stderr",
     "output_type": "stream",
     "text": [
      "\n"
     ]
    }
   ],
   "source": [
    "# 아래 코드는 추후 estimator class(\"BlendingClassifier\")로 만들 예정\n",
    "\n",
    "max_score = 0\n",
    "for p in tqdm([0, 1, 2.56]):  # p==1:산술평균, p=0:기하평균, 그 외:멱평균(주의:멱평균은 과적합 가능성이 높음)    \n",
    "    for i in range(2, len(models_for_ensemble)+1):\n",
    "        for models in combinations(models_for_ensemble, i):\n",
    "            if p == 0:\n",
    "                pred_mean = gmean([clf.predict_proba(X_dev)[:,1] for name, clf, _ in models], axis=0)\n",
    "            else:\n",
    "                preds = [clf.predict_proba(X_dev)[:,1] for name, clf, _ in models]\n",
    "                pred_mean = (np.sum(np.array(preds)**p, axis=0) / len(models))**(1/p)\n",
    "            score = roc_auc_score(y_dev, pred_mean)\n",
    "            if max_score < score:\n",
    "                best_avg_ensemble = (p, models, score)\n",
    "                max_score = score\n",
    "\n",
    "p, models, score = best_avg_ensemble\n",
    "print('p={}\\n{}\\n{}'.format(p, '●'.join([clf_name for clf_name, _, _ in models]), score))"
   ]
  },
  {
   "cell_type": "code",
   "execution_count": 12,
   "metadata": {},
   "outputs": [],
   "source": [
    "# Apply the best averaging ensemble model to Unseen Data\n",
    "t = pd.Timestamp.now()\n",
    "if p == 0:\n",
    "    pred_mean = gmean([clf.predict_proba(test_x)[:,1] for name, clf, _ in models], axis=0)\n",
    "else:\n",
    "    preds = [clf.predict_proba(test_x)[:,1] for name, clf, _ in models]\n",
    "    pred_mean = (np.sum(np.array(preds)**p, axis=0) / len(models))**(1/p)\n",
    "pd.DataFrame({'user_id': test_id, 'problem': pred_mean}).to_csv(f'submission_oversampling_avg_{t.month:02}{t.day:02}_{t.hour:02}{t.minute:02}.csv', index = False)"
   ]
  },
  {
   "cell_type": "code",
   "execution_count": null,
   "metadata": {},
   "outputs": [
    {
     "name": "stdout",
     "output_type": "stream",
     "text": [
      "[LightGBM] [Warning] boosting is set=gbdt, boosting_type=gbdt will be ignored. Current value: boosting=gbdt\n",
      "[LightGBM] [Warning] feature_fraction is set=0.6, colsample_bytree=1.0 will be ignored. Current value: feature_fraction=0.6\n",
      "[LightGBM] [Warning] min_data_in_leaf is set=50, min_child_samples=15 will be ignored. Current value: min_data_in_leaf=50\n",
      "[LightGBM] [Warning] bagging_freq is set=4, subsample_freq=0 will be ignored. Current value: bagging_freq=4\n",
      "[LightGBM] [Warning] num_iterations is set=200, num_iteration=200 will be ignored. Current value: num_iterations=200\n",
      "[08:09:26] WARNING: C:/Users/Administrator/workspace/xgboost-win64_release_1.3.0/src/learner.cc:541: \n",
      "Parameters: { subsamle } might not be used.\n",
      "\n",
      "  This may not be accurate due to some parameters are only used in language bindings but\n",
      "  passed down to XGBoost core.  Or some parameters are not used but slip through this\n",
      "  verification. Please open an issue if you find above cases.\n",
      "\n",
      "\n"
     ]
    }
   ],
   "source": [
    "# 2-layer stacking\n",
    "\n",
    "# Initialize 1st level estimators\n",
    "# 사용하지 않을 모델은 주석 처리하세요.\n",
    "selected = [\n",
    "    #'KNeighborsClassifier', \n",
    "    #'MLPClassifier',\n",
    "    #'LogisticRegression', \n",
    "    #'RandomForestClassifier', \n",
    "    'GradientBoostingClassifier',\n",
    "    #'DecisionTreeClassifier',\n",
    "    'XGBClassifier',\n",
    "    'LGBMClassifier',\n",
    "    'CatBoostClassifier',  \n",
    "]\n",
    "\n",
    "estimators = [(name, clf) for name, clf, _ in clfs_tuned if name in selected]\n",
    "stk_clf = StackingClassifier(\n",
    "    estimators = estimators, final_estimator = LogisticRegression(), cv=3)\n",
    "\n",
    "stk_clf.fit(X_train, y_train)\n",
    "print(roc_auc_score(y_dev, stk_clf.predict_proba(X_dev)[:,1]))"
   ]
  },
  {
   "cell_type": "code",
   "execution_count": 19,
   "metadata": {},
   "outputs": [],
   "source": [
    "# Apply the stacking model to Unseen Data\n",
    "pd.DataFrame({'user_id': test_id, 'problem': stk_clf.predict_proba(test_x)[:,1]}).to_csv(f'submission_oversampling_stk_{t.month:02}{t.day:02}_{t.hour:02}{t.minute:02}.csv', index=False)"
   ]
  },
  {
   "cell_type": "code",
   "execution_count": 21,
   "metadata": {},
   "outputs": [],
   "source": [
    "import pickle\n",
    "import joblib"
   ]
  },
  {
   "cell_type": "code",
   "execution_count": 22,
   "metadata": {},
   "outputs": [
    {
     "data": {
      "text/plain": [
       "['numeric_part_pca_share_avg_0.8489432413625112.pkl']"
      ]
     },
     "execution_count": 22,
     "metadata": {},
     "output_type": "execute_result"
    }
   ],
   "source": [
    "joblib.dump(stk_clf,'numeric_part_pca_share_stk_0.8323636928990032.pkl')\n",
    "joblib.dump(clf,'numeric_part_pca_share_avg_0.8489432413625112.pkl')"
   ]
  },
  {
   "cell_type": "code",
   "execution_count": null,
   "metadata": {},
   "outputs": [],
   "source": [
    "x = joblib.load('0.7998183399362258.pkl')"
   ]
  },
  {
   "cell_type": "markdown",
   "metadata": {},
   "source": [
    "# Model"
   ]
  },
  {
   "cell_type": "code",
   "execution_count": 29,
   "metadata": {},
   "outputs": [],
   "source": [
    "def f_pr_auc(probas_pred, y_true):\n",
    "    labels = y_true.get_label()\n",
    "    p, r, _ = precision_recall_curve(labels, probas_pred)\n",
    "    score=auc(r,p) \n",
    "    return \"pr_auc\", score, True"
   ]
  },
  {
   "cell_type": "markdown",
   "metadata": {},
   "source": [
    "### LGBM"
   ]
  },
  {
   "cell_type": "code",
   "execution_count": 30,
   "metadata": {},
   "outputs": [],
   "source": [
    "models     = []    ### model name\n",
    "recalls    = []    \n",
    "precisions = []\n",
    "auc_scores   = []\n",
    "threshold = 0.5    ### 문턱값"
   ]
  },
  {
   "cell_type": "code",
   "execution_count": 31,
   "metadata": {},
   "outputs": [],
   "source": [
    "# 파라미터 설정\n",
    "params =      {\n",
    "                'boosting_type' : 'gbdt',\n",
    "                'objective'     : 'binary',\n",
    "                'metric'        : 'auc',\n",
    "                'seed': 1015\n",
    "                }"
   ]
  },
  {
   "cell_type": "code",
   "execution_count": 32,
   "metadata": {},
   "outputs": [
    {
     "name": "stdout",
     "output_type": "stream",
     "text": [
      "Training until validation scores don't improve for 3 rounds.\n",
      "[20]\tvalid_0's auc: 0.797673\tvalid_0's pr_auc: 0.792522\n",
      "Early stopping, best iteration is:\n",
      "[25]\tvalid_0's auc: 0.801171\tvalid_0's pr_auc: 0.797338\n",
      "==========================================================\n",
      "Training until validation scores don't improve for 3 rounds.\n",
      "Early stopping, best iteration is:\n",
      "[2]\tvalid_0's auc: 0.788479\tvalid_0's pr_auc: 0.318902\n",
      "==========================================================\n",
      "Training until validation scores don't improve for 3 rounds.\n",
      "Early stopping, best iteration is:\n",
      "[2]\tvalid_0's auc: 0.758498\tvalid_0's pr_auc: 0.358092\n",
      "==========================================================\n",
      "Training until validation scores don't improve for 3 rounds.\n",
      "Early stopping, best iteration is:\n",
      "[10]\tvalid_0's auc: 0.807468\tvalid_0's pr_auc: 0.551358\n",
      "==========================================================\n",
      "Training until validation scores don't improve for 3 rounds.\n",
      "Early stopping, best iteration is:\n",
      "[14]\tvalid_0's auc: 0.802301\tvalid_0's pr_auc: 0.974445\n",
      "==========================================================\n"
     ]
    }
   ],
   "source": [
    "k_fold = KFold(n_splits=5, shuffle=True, random_state=42)\n",
    "for train_idx, val_idx in k_fold.split(train_x):\n",
    "    \n",
    "    X = train_x[train_idx]\n",
    "    y = train_y[train_idx]\n",
    "    valid_x = train_x[val_idx]\n",
    "    valid_y = train_y[val_idx]\n",
    "\n",
    "    d_train= lgb.Dataset(X, y)\n",
    "    d_val  = lgb.Dataset(valid_x, valid_y)\n",
    "    \n",
    "    #run traning\n",
    "    model = lgb.train(\n",
    "                        params,\n",
    "                        train_set       = d_train,\n",
    "                        num_boost_round = 1000, ### 돌리는 횟수\n",
    "                        valid_sets      = d_val,\n",
    "                        feval           = f_pr_auc, ### validation 점수\n",
    "                        verbose_eval    = 20,       \n",
    "                        early_stopping_rounds = 3 ### 3번 연속 값이 유효성 점수 향상 x => stop\n",
    "                       )\n",
    "    \n",
    "    # cal valid prediction\n",
    "    valid_prob = model.predict(valid_x)\n",
    "    valid_pred = np.where(valid_prob > threshold, 1, 0)\n",
    "    \n",
    "    # cal scores\n",
    "    recall    = recall_score(    valid_y, valid_pred)\n",
    "    precision = precision_score( valid_y, valid_pred)\n",
    "    auc_score = roc_auc_score(   valid_y, valid_prob)\n",
    "\n",
    "    # append scores\n",
    "    models.append(model)\n",
    "    recalls.append(recall)\n",
    "    precisions.append(precision)\n",
    "    auc_scores.append(auc_score)\n",
    "\n",
    "    print('==========================================================')"
   ]
  },
  {
   "cell_type": "code",
   "execution_count": 39,
   "metadata": {},
   "outputs": [
    {
     "data": {
      "text/plain": [
       "[<lightgbm.basic.Booster at 0x1ca61c11b48>,\n",
       " <lightgbm.basic.Booster at 0x1ca61c11388>,\n",
       " <lightgbm.basic.Booster at 0x1ca4de72888>,\n",
       " <lightgbm.basic.Booster at 0x1ca61c11188>,\n",
       " <lightgbm.basic.Booster at 0x1ca5e04ccc8>]"
      ]
     },
     "execution_count": 39,
     "metadata": {},
     "output_type": "execute_result"
    }
   ],
   "source": [
    "models"
   ]
  },
  {
   "cell_type": "code",
   "execution_count": 20,
   "metadata": {},
   "outputs": [
    {
     "ename": "AttributeError",
     "evalue": "'tuple' object has no attribute 'predict_proba'",
     "output_type": "error",
     "traceback": [
      "\u001b[1;31m---------------------------------------------------------------------------\u001b[0m",
      "\u001b[1;31mAttributeError\u001b[0m                            Traceback (most recent call last)",
      "\u001b[1;32m<ipython-input-20-e73f05e57480>\u001b[0m in \u001b[0;36m<module>\u001b[1;34m\u001b[0m\n\u001b[0;32m      2\u001b[0m \u001b[0mpred_y_list\u001b[0m \u001b[1;33m=\u001b[0m \u001b[1;33m[\u001b[0m\u001b[1;33m]\u001b[0m\u001b[1;33m\u001b[0m\u001b[1;33m\u001b[0m\u001b[0m\n\u001b[0;32m      3\u001b[0m \u001b[1;32mfor\u001b[0m \u001b[0mmodel\u001b[0m \u001b[1;32min\u001b[0m \u001b[0mmodels\u001b[0m\u001b[1;33m:\u001b[0m\u001b[1;33m\u001b[0m\u001b[1;33m\u001b[0m\u001b[0m\n\u001b[1;32m----> 4\u001b[1;33m     \u001b[0mpred_y\u001b[0m \u001b[1;33m=\u001b[0m \u001b[0mmodel\u001b[0m\u001b[1;33m.\u001b[0m\u001b[0mpredict_proba\u001b[0m\u001b[1;33m(\u001b[0m\u001b[0mtest_x\u001b[0m\u001b[1;33m)\u001b[0m\u001b[1;33m\u001b[0m\u001b[1;33m\u001b[0m\u001b[0m\n\u001b[0m\u001b[0;32m      5\u001b[0m     \u001b[0mpred_y_list\u001b[0m\u001b[1;33m.\u001b[0m\u001b[0mappend\u001b[0m\u001b[1;33m(\u001b[0m\u001b[0mpred_y\u001b[0m\u001b[1;33m.\u001b[0m\u001b[0mreshape\u001b[0m\u001b[1;33m(\u001b[0m\u001b[1;33m-\u001b[0m\u001b[1;36m1\u001b[0m\u001b[1;33m,\u001b[0m\u001b[1;36m1\u001b[0m\u001b[1;33m)\u001b[0m\u001b[1;33m)\u001b[0m\u001b[1;33m\u001b[0m\u001b[1;33m\u001b[0m\u001b[0m\n\u001b[0;32m      6\u001b[0m \u001b[1;33m\u001b[0m\u001b[0m\n",
      "\u001b[1;31mAttributeError\u001b[0m: 'tuple' object has no attribute 'predict_proba'"
     ]
    }
   ],
   "source": [
    "# 예측\n",
    "pred_y_list = []\n",
    "for model in models:\n",
    "    pred_y = model.predict_proba(test_x)\n",
    "    pred_y_list.append(pred_y.reshape(-1,1))\n",
    "    \n",
    "pred_ensemble = np.mean(pred_y_list, axis = 0)"
   ]
  },
  {
   "cell_type": "code",
   "execution_count": 50,
   "metadata": {},
   "outputs": [
    {
     "data": {
      "text/plain": [
       "array([[0.58413718],\n",
       "       [0.26337558],\n",
       "       [0.31536181],\n",
       "       ...,\n",
       "       [0.38028413],\n",
       "       [0.6155689 ],\n",
       "       [0.33541155]])"
      ]
     },
     "execution_count": 50,
     "metadata": {},
     "output_type": "execute_result"
    }
   ],
   "source": [
    "pred_ensemble"
   ]
  },
  {
   "cell_type": "code",
   "execution_count": 17,
   "metadata": {},
   "outputs": [],
   "source": [
    "sample_submssion = pd.read_csv('sample_submission.csv')"
   ]
  },
  {
   "cell_type": "code",
   "execution_count": 18,
   "metadata": {},
   "outputs": [],
   "source": [
    "sample_submssion['problem'] = pred_ensemble.reshape(-1)"
   ]
  },
  {
   "cell_type": "code",
   "execution_count": 19,
   "metadata": {},
   "outputs": [
    {
     "data": {
      "text/html": [
       "<div>\n",
       "<style scoped>\n",
       "    .dataframe tbody tr th:only-of-type {\n",
       "        vertical-align: middle;\n",
       "    }\n",
       "\n",
       "    .dataframe tbody tr th {\n",
       "        vertical-align: top;\n",
       "    }\n",
       "\n",
       "    .dataframe thead th {\n",
       "        text-align: right;\n",
       "    }\n",
       "</style>\n",
       "<table border=\"1\" class=\"dataframe\">\n",
       "  <thead>\n",
       "    <tr style=\"text-align: right;\">\n",
       "      <th></th>\n",
       "      <th>user_id</th>\n",
       "      <th>problem</th>\n",
       "    </tr>\n",
       "  </thead>\n",
       "  <tbody>\n",
       "    <tr>\n",
       "      <th>0</th>\n",
       "      <td>30000</td>\n",
       "      <td>0.584137</td>\n",
       "    </tr>\n",
       "    <tr>\n",
       "      <th>1</th>\n",
       "      <td>30001</td>\n",
       "      <td>0.263376</td>\n",
       "    </tr>\n",
       "    <tr>\n",
       "      <th>2</th>\n",
       "      <td>30002</td>\n",
       "      <td>0.315362</td>\n",
       "    </tr>\n",
       "    <tr>\n",
       "      <th>3</th>\n",
       "      <td>30003</td>\n",
       "      <td>0.539370</td>\n",
       "    </tr>\n",
       "    <tr>\n",
       "      <th>4</th>\n",
       "      <td>30004</td>\n",
       "      <td>0.464485</td>\n",
       "    </tr>\n",
       "    <tr>\n",
       "      <th>...</th>\n",
       "      <td>...</td>\n",
       "      <td>...</td>\n",
       "    </tr>\n",
       "    <tr>\n",
       "      <th>14994</th>\n",
       "      <td>44994</td>\n",
       "      <td>0.320964</td>\n",
       "    </tr>\n",
       "    <tr>\n",
       "      <th>14995</th>\n",
       "      <td>44995</td>\n",
       "      <td>0.320746</td>\n",
       "    </tr>\n",
       "    <tr>\n",
       "      <th>14996</th>\n",
       "      <td>44996</td>\n",
       "      <td>0.380284</td>\n",
       "    </tr>\n",
       "    <tr>\n",
       "      <th>14997</th>\n",
       "      <td>44997</td>\n",
       "      <td>0.615569</td>\n",
       "    </tr>\n",
       "    <tr>\n",
       "      <th>14998</th>\n",
       "      <td>44998</td>\n",
       "      <td>0.335412</td>\n",
       "    </tr>\n",
       "  </tbody>\n",
       "</table>\n",
       "<p>14999 rows × 2 columns</p>\n",
       "</div>"
      ],
      "text/plain": [
       "       user_id   problem\n",
       "0        30000  0.584137\n",
       "1        30001  0.263376\n",
       "2        30002  0.315362\n",
       "3        30003  0.539370\n",
       "4        30004  0.464485\n",
       "...        ...       ...\n",
       "14994    44994  0.320964\n",
       "14995    44995  0.320746\n",
       "14996    44996  0.380284\n",
       "14997    44997  0.615569\n",
       "14998    44998  0.335412\n",
       "\n",
       "[14999 rows x 2 columns]"
      ]
     },
     "execution_count": 19,
     "metadata": {},
     "output_type": "execute_result"
    }
   ],
   "source": [
    "t = pd.Timestamp.now()\n",
    "sample_submssion.to_csv(f\"dacon_baseline_{t.month:02}{t.day:02}_{t.hour:02}{t.minute:02}.csv\", index = False)\n",
    "sample_submssion"
   ]
  }
 ],
 "metadata": {
  "kernelspec": {
   "display_name": "Python 3 (ipykernel)",
   "language": "python",
   "name": "python3"
  },
  "language_info": {
   "codemirror_mode": {
    "name": "ipython",
    "version": 3
   },
   "file_extension": ".py",
   "mimetype": "text/x-python",
   "name": "python",
   "nbconvert_exporter": "python",
   "pygments_lexer": "ipython3",
   "version": "3.9.12"
  }
 },
 "nbformat": 4,
 "nbformat_minor": 4
}

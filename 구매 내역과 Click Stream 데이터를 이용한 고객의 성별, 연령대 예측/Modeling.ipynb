{
 "cells": [
  {
   "cell_type": "code",
   "execution_count": 5,
   "metadata": {},
   "outputs": [],
   "source": [
    "import pandas as pd\n",
    "import numpy as np\n",
    "import matplotlib.pyplot as plt\n",
    "import seaborn as sns\n",
    "import warnings\n",
    "warnings.filterwarnings(action = 'ignore')\n",
    "%matplotlib inline\n",
    "\n",
    "# 데이터 분할\n",
    "from sklearn.model_selection import train_test_split, cross_val_score, StratifiedKFold\n",
    "\n",
    "# 모델\n",
    "from xgboost import XGBClassifier \n",
    "from lightgbm import LGBMClassifier\n",
    "from sklearn.ensemble import RandomForestClassifier\n",
    "\n",
    "# 파라미터 최적화\n",
    "from bayes_opt import BayesianOptimization\n",
    "\n",
    "# 평가지표\n",
    "from sklearn.metrics import log_loss"
   ]
  },
  {
   "cell_type": "markdown",
   "metadata": {},
   "source": [
    "# Data Loading"
   ]
  },
  {
   "cell_type": "code",
   "execution_count": 6,
   "metadata": {},
   "outputs": [],
   "source": [
    "train = pd.read_csv('train_features.csv', encoding = 'UTF-8')\n",
    "test = pd.read_csv('test_features.csv', encoding = 'UTF-8')\n",
    "target = pd.read_csv('cust_train.csv', encoding = 'UTF-8')"
   ]
  },
  {
   "cell_type": "code",
   "execution_count": 7,
   "metadata": {},
   "outputs": [],
   "source": [
    "# train_features를 train과 validation으로 분할\n",
    "X_train, X_test, y_train, y_test = train_test_split(train, target.LABEL, \n",
    "                                                    test_size = 0.2, random_state = 516, stratify = target.LABEL)"
   ]
  },
  {
   "cell_type": "code",
   "execution_count": 3,
   "metadata": {},
   "outputs": [],
   "source": [
    "kfold = StratifiedKFold(n_splits = 5, shuffle = True, random_state = 516)\n",
    "\n",
    "clfs = []\n",
    "xgb = XGBClassifier(random_state = 516); clfs.append(xgb)\n",
    "lgb = LGBMClassifier(random_state = 516); clfs.append(lgb)\n",
    "rf = RandomForestClassifier(random_state = 516); clfs.append(rf)"
   ]
  },
  {
   "cell_type": "code",
   "execution_count": 8,
   "metadata": {
    "collapsed": true
   },
   "outputs": [
    {
     "ename": "KeyboardInterrupt",
     "evalue": "",
     "output_type": "error",
     "traceback": [
      "\u001b[1;31m---------------------------------------------------------------------------\u001b[0m",
      "\u001b[1;31mKeyboardInterrupt\u001b[0m                         Traceback (most recent call last)",
      "\u001b[1;32m<ipython-input-8-50ed2ed73df9>\u001b[0m in \u001b[0;36m<module>\u001b[1;34m\u001b[0m\n\u001b[1;32m----> 1\u001b[1;33m \u001b[0mxgb\u001b[0m\u001b[1;33m.\u001b[0m\u001b[0mfit\u001b[0m\u001b[1;33m(\u001b[0m\u001b[0mX_train\u001b[0m\u001b[1;33m,\u001b[0m \u001b[0my_train\u001b[0m\u001b[1;33m)\u001b[0m\u001b[1;33m\u001b[0m\u001b[1;33m\u001b[0m\u001b[0m\n\u001b[0m",
      "\u001b[1;32m~\\Anaconda3\\lib\\site-packages\\xgboost\\sklearn.py\u001b[0m in \u001b[0;36mfit\u001b[1;34m(self, X, y, sample_weight, base_margin, eval_set, eval_metric, early_stopping_rounds, verbose, xgb_model, sample_weight_eval_set, callbacks)\u001b[0m\n\u001b[0;32m    822\u001b[0m                               \u001b[0mevals_result\u001b[0m\u001b[1;33m=\u001b[0m\u001b[0mevals_result\u001b[0m\u001b[1;33m,\u001b[0m \u001b[0mobj\u001b[0m\u001b[1;33m=\u001b[0m\u001b[0mobj\u001b[0m\u001b[1;33m,\u001b[0m \u001b[0mfeval\u001b[0m\u001b[1;33m=\u001b[0m\u001b[0mfeval\u001b[0m\u001b[1;33m,\u001b[0m\u001b[1;33m\u001b[0m\u001b[1;33m\u001b[0m\u001b[0m\n\u001b[0;32m    823\u001b[0m                               \u001b[0mverbose_eval\u001b[0m\u001b[1;33m=\u001b[0m\u001b[0mverbose\u001b[0m\u001b[1;33m,\u001b[0m \u001b[0mxgb_model\u001b[0m\u001b[1;33m=\u001b[0m\u001b[0mxgb_model\u001b[0m\u001b[1;33m,\u001b[0m\u001b[1;33m\u001b[0m\u001b[1;33m\u001b[0m\u001b[0m\n\u001b[1;32m--> 824\u001b[1;33m                               callbacks=callbacks)\n\u001b[0m\u001b[0;32m    825\u001b[0m \u001b[1;33m\u001b[0m\u001b[0m\n\u001b[0;32m    826\u001b[0m         \u001b[0mself\u001b[0m\u001b[1;33m.\u001b[0m\u001b[0mobjective\u001b[0m \u001b[1;33m=\u001b[0m \u001b[0mxgb_options\u001b[0m\u001b[1;33m[\u001b[0m\u001b[1;34m\"objective\"\u001b[0m\u001b[1;33m]\u001b[0m\u001b[1;33m\u001b[0m\u001b[1;33m\u001b[0m\u001b[0m\n",
      "\u001b[1;32m~\\Anaconda3\\lib\\site-packages\\xgboost\\training.py\u001b[0m in \u001b[0;36mtrain\u001b[1;34m(params, dtrain, num_boost_round, evals, obj, feval, maximize, early_stopping_rounds, evals_result, verbose_eval, xgb_model, callbacks)\u001b[0m\n\u001b[0;32m    210\u001b[0m                            \u001b[0mevals\u001b[0m\u001b[1;33m=\u001b[0m\u001b[0mevals\u001b[0m\u001b[1;33m,\u001b[0m\u001b[1;33m\u001b[0m\u001b[1;33m\u001b[0m\u001b[0m\n\u001b[0;32m    211\u001b[0m                            \u001b[0mobj\u001b[0m\u001b[1;33m=\u001b[0m\u001b[0mobj\u001b[0m\u001b[1;33m,\u001b[0m \u001b[0mfeval\u001b[0m\u001b[1;33m=\u001b[0m\u001b[0mfeval\u001b[0m\u001b[1;33m,\u001b[0m\u001b[1;33m\u001b[0m\u001b[1;33m\u001b[0m\u001b[0m\n\u001b[1;32m--> 212\u001b[1;33m                            xgb_model=xgb_model, callbacks=callbacks)\n\u001b[0m\u001b[0;32m    213\u001b[0m \u001b[1;33m\u001b[0m\u001b[0m\n\u001b[0;32m    214\u001b[0m \u001b[1;33m\u001b[0m\u001b[0m\n",
      "\u001b[1;32m~\\Anaconda3\\lib\\site-packages\\xgboost\\training.py\u001b[0m in \u001b[0;36m_train_internal\u001b[1;34m(params, dtrain, num_boost_round, evals, obj, feval, xgb_model, callbacks)\u001b[0m\n\u001b[0;32m     73\u001b[0m         \u001b[1;31m# Skip the first update if it is a recovery step.\u001b[0m\u001b[1;33m\u001b[0m\u001b[1;33m\u001b[0m\u001b[1;33m\u001b[0m\u001b[0m\n\u001b[0;32m     74\u001b[0m         \u001b[1;32mif\u001b[0m \u001b[0mversion\u001b[0m \u001b[1;33m%\u001b[0m \u001b[1;36m2\u001b[0m \u001b[1;33m==\u001b[0m \u001b[1;36m0\u001b[0m\u001b[1;33m:\u001b[0m\u001b[1;33m\u001b[0m\u001b[1;33m\u001b[0m\u001b[0m\n\u001b[1;32m---> 75\u001b[1;33m             \u001b[0mbst\u001b[0m\u001b[1;33m.\u001b[0m\u001b[0mupdate\u001b[0m\u001b[1;33m(\u001b[0m\u001b[0mdtrain\u001b[0m\u001b[1;33m,\u001b[0m \u001b[0mi\u001b[0m\u001b[1;33m,\u001b[0m \u001b[0mobj\u001b[0m\u001b[1;33m)\u001b[0m\u001b[1;33m\u001b[0m\u001b[1;33m\u001b[0m\u001b[0m\n\u001b[0m\u001b[0;32m     76\u001b[0m             \u001b[0mbst\u001b[0m\u001b[1;33m.\u001b[0m\u001b[0msave_rabit_checkpoint\u001b[0m\u001b[1;33m(\u001b[0m\u001b[1;33m)\u001b[0m\u001b[1;33m\u001b[0m\u001b[1;33m\u001b[0m\u001b[0m\n\u001b[0;32m     77\u001b[0m             \u001b[0mversion\u001b[0m \u001b[1;33m+=\u001b[0m \u001b[1;36m1\u001b[0m\u001b[1;33m\u001b[0m\u001b[1;33m\u001b[0m\u001b[0m\n",
      "\u001b[1;32m~\\Anaconda3\\lib\\site-packages\\xgboost\\core.py\u001b[0m in \u001b[0;36mupdate\u001b[1;34m(self, dtrain, iteration, fobj)\u001b[0m\n\u001b[0;32m   1367\u001b[0m             _check_call(_LIB.XGBoosterUpdateOneIter(self.handle,\n\u001b[0;32m   1368\u001b[0m                                                     \u001b[0mctypes\u001b[0m\u001b[1;33m.\u001b[0m\u001b[0mc_int\u001b[0m\u001b[1;33m(\u001b[0m\u001b[0miteration\u001b[0m\u001b[1;33m)\u001b[0m\u001b[1;33m,\u001b[0m\u001b[1;33m\u001b[0m\u001b[1;33m\u001b[0m\u001b[0m\n\u001b[1;32m-> 1369\u001b[1;33m                                                     dtrain.handle))\n\u001b[0m\u001b[0;32m   1370\u001b[0m         \u001b[1;32melse\u001b[0m\u001b[1;33m:\u001b[0m\u001b[1;33m\u001b[0m\u001b[1;33m\u001b[0m\u001b[0m\n\u001b[0;32m   1371\u001b[0m             \u001b[0mpred\u001b[0m \u001b[1;33m=\u001b[0m \u001b[0mself\u001b[0m\u001b[1;33m.\u001b[0m\u001b[0mpredict\u001b[0m\u001b[1;33m(\u001b[0m\u001b[0mdtrain\u001b[0m\u001b[1;33m,\u001b[0m \u001b[0moutput_margin\u001b[0m\u001b[1;33m=\u001b[0m\u001b[1;32mTrue\u001b[0m\u001b[1;33m,\u001b[0m \u001b[0mtraining\u001b[0m\u001b[1;33m=\u001b[0m\u001b[1;32mTrue\u001b[0m\u001b[1;33m)\u001b[0m\u001b[1;33m\u001b[0m\u001b[1;33m\u001b[0m\u001b[0m\n",
      "\u001b[1;31mKeyboardInterrupt\u001b[0m: "
     ]
    }
   ],
   "source": [
    "xgb.fit(X_train, y_train)"
   ]
  },
  {
   "cell_type": "code",
   "execution_count": null,
   "metadata": {},
   "outputs": [],
   "source": [
    "lgbm.fit(X_train, y_train)"
   ]
  },
  {
   "cell_type": "code",
   "execution_count": null,
   "metadata": {},
   "outputs": [],
   "source": [
    "xgb.feature_selection_"
   ]
  },
  {
   "cell_type": "code",
   "execution_count": null,
   "metadata": {},
   "outputs": [],
   "source": [
    "for name, value in zip(X_train.feature_names, xgb.feature_importances_):\n",
    "    print(f'{name} : {vlaue}')"
   ]
  },
  {
   "cell_type": "code",
   "execution_count": null,
   "metadata": {},
   "outputs": [],
   "source": [
    "sns.barplot(x = xgb.feature_importances_, y = X_train.feature_names)"
   ]
  },
  {
   "cell_type": "code",
   "execution_count": null,
   "metadata": {},
   "outputs": [],
   "source": []
  },
  {
   "cell_type": "code",
   "execution_count": null,
   "metadata": {},
   "outputs": [],
   "source": [
    "xgb_params = {'n_estimators' : (100, 500),\n",
    "              'learnig_rate' : np.arange(0.1,0.6,0.1),\n",
    "              'max_depth' : (5, 15),\n",
    "              'subsample' : (0.8, 0.95),\n",
    "              'colsample_bytree' : (0.8, 0.95)}\n",
    "\n",
    "def xgb_opt(n_estimators, learning_rate, max_depth, subsample, colsample_bytree):\n",
    "    params = {'n_estimators' : int(round(n_estimators)),\n",
    "              'learnig_rate' : learnig_rate,\n",
    "              'max_depth' : int(round(max_depth)),\n",
    "              'subsample' : subsample,\n",
    "              'colsample_bytree' : colsample_bytree}"
   ]
  },
  {
   "cell_type": "code",
   "execution_count": null,
   "metadata": {},
   "outputs": [],
   "source": [
    "lgb_params = {'n_estimators' : (100, 500),\n",
    "              'learnig_rate' : np.arange(0.1,0.6,0.1),\n",
    "              'max_depth' : (5, 15),\n",
    "              'num_leaves' : (50, 100),\n",
    "              'min_child_samples' : (20, 50),\n",
    "              'subsample' : (0.8, 0.95),\n",
    "              'colsample_bytree' : (0.8, 0.95)}\n",
    "\n",
    "def lgbm_opt(n_estimators, learning_rate, max_depth, num_leaves, min_child_samples, subsample, colsample_bytree):\n",
    "    params = {'n_estimators' : int(round(n_estimators)),\n",
    "              'learnig_rate' : learning_rate,\n",
    "              'max_depth' : int(round(max_depth)),\n",
    "              'num_leaves' : int(round(num_leaves)),\n",
    "              'min_child_samples' : int(round(min_child_samples)),\n",
    "              'subsample' : subsample,\n",
    "              'colsample_bytree' : colsample_bytree}"
   ]
  },
  {
   "cell_type": "code",
   "execution_count": null,
   "metadata": {},
   "outputs": [],
   "source": [
    "rf_params = {'n_estimators' : (100, 500),\n",
    "             'criterion' : ['gini', 'entropy'],\n",
    "             'max_features' : (0.8, 0.95),\n",
    "             'max_depth' : (5, 10),\n",
    "             'min_samples_split' : (30, 100),\n",
    "             'min_samples_leaf' : (30, 50)}\n",
    "\n",
    "def rf_opt(n_estimators, criterion, max_features, max_depth, min_samples_split, min_samples_leaf, criterion):\n",
    "    params = {'n_estimators' : int(round(n_estimators)),\n",
    "              'criterion' : criterion,\n",
    "              'max_features' : max_features,\n",
    "              'max_depth' : int(round(max_depth)),\n",
    "              'min_samples_split' : int(round(min_samples_split)),\n",
    "              'min_samples_leaf' : int(round(min_samples_leaf)),\n",
    "              'criterion' : criterion}"
   ]
  },
  {
   "cell_type": "code",
   "execution_count": null,
   "metadata": {},
   "outputs": [],
   "source": [
    "# Step6. BayesianOptimization 객체 생성\n",
    "BO_lgbm = BayesianOptimization(f = lgbm_opt, pbounds = pbounds, random_state = 516) # 최대화하려는 함수 f, 탐색범위 pbounds\n",
    "\n",
    "# Step7. 최대화\n",
    "BO_lgbm.maximize(init_points=50, n_iter=50)"
   ]
  },
  {
   "cell_type": "code",
   "execution_count": null,
   "metadata": {},
   "outputs": [],
   "source": [
    "# Step8. 함수를 최대화하는 하이퍼파라미터 저장\n",
    "max_params = BO_lgbm.max['params']\n",
    "\n",
    "# 모델의 조건에 맞게 하이퍼 파라미터 변경\n",
    "max_params['n_estimators'] = int(round(max_params['n_estimators']))\n",
    "max_params['max_depth'] = int(round(max_params['max_depth']))\n",
    "\n",
    "max_params"
   ]
  },
  {
   "cell_type": "code",
   "execution_count": null,
   "metadata": {},
   "outputs": [],
   "source": [
    "# Step9. 최대화 하이퍼파라미터로 재학습\n",
    "lgbm_clf = LGBMClassifier(**max_params)\n",
    "lgbm_clf.fit(X_train, y_train)\n",
    "score = log_loss(y_valid, lgbm_clf.predict_proba(X_valid))\n",
    "print(score)"
   ]
  },
  {
   "cell_type": "code",
   "execution_count": null,
   "metadata": {},
   "outputs": [],
   "source": []
  },
  {
   "cell_type": "code",
   "execution_count": null,
   "metadata": {},
   "outputs": [],
   "source": []
  },
  {
   "cell_type": "code",
   "execution_count": null,
   "metadata": {},
   "outputs": [],
   "source": [
    "# 모델별 교차검증 후 평균 log_loss 반환\n",
    "clf_names=[type(clf).__name__ for clf in clfs]\n",
    "for clf in clfs:\n",
    "    scores = []\n",
    "    for train_idx, val_idx in kfold.split(X_train, y_train):\n",
    "        X_tr, X_val = X_train[train_idx], X_train[val_idx]\n",
    "        y_tr, y_val = y_train[train_idx], y_train[val_idx]\n",
    "        clf.fit(X_t, y_t)\n",
    "        pred = clf.predict_proba(y_t, y_val)\n",
    "        lls = log_loss(y_val, pred)\n",
    "        scores.append(lls)\n",
    "        \n",
    "    scores = np.mean(scores)\n",
    "    name = type(clf).__name__\n",
    "    print('model : %s\\t\\t\\t\\taccuracy : %f'%(name, score))"
   ]
  },
  {
   "cell_type": "code",
   "execution_count": null,
   "metadata": {},
   "outputs": [],
   "source": []
  },
  {
   "cell_type": "code",
   "execution_count": null,
   "metadata": {},
   "outputs": [],
   "source": []
  },
  {
   "cell_type": "code",
   "execution_count": null,
   "metadata": {},
   "outputs": [],
   "source": [
    "clfs = [\n",
    "    (\n",
    "        RandomForestClassifier(random_state=0),\n",
    "        {'n_estimators': range(10, 310, 10),\n",
    "         'max_depth': range(1, 12),\n",
    "         'min_impurity_decrease': [0,0.0001,0.001,0.01,0.0002,0.002,0.02,0.0005,0.005,0.05,0.1,0.2,0.3,0.4,0.5],\n",
    "         'max_features': ['auto', 'sqrt', 'log2'],\n",
    "         'bootstrap': [True, False],\n",
    "         'criterion': ['gini', 'entropy'], \n",
    "         'class_weight': ['balanced', 'balanced_subsample', {}],\n",
    "         'min_samples_split': [2, 5, 7, 9, 10],\n",
    "         'min_samples_leaf': [2, 3, 4, 5, 6]}\n",
    "    ),\n",
    "    (\n",
    "        XGBClassifier(random_state=0),\n",
    "        {'n_estimators': range(10, 310, 10),\n",
    "         'learning_rate': np.arange(0.0, 0.501, 0.001),\n",
    "         'subsample': [0.2, 0.3, 0.5, 0.7, 0.9, 1],\n",
    "         'max_depth': [1, 2, 3, 4, 5, 6, 7, 8, 9, 10, 11],\n",
    "         'colsample_bytree': [0.5, 0.7, 0.9, 1],\n",
    "         'min_child_weight': [1, 2, 3, 4],\n",
    "         'reg_alpha': [1e-07,1e-06,0.0001,0.001,0.01,0.0005,0.005,0.05,0.1,0.15,0.2,0.3,0.4,0.5,0.7,1,2,3,4,5,10],\n",
    "         'reg_lambda': [1e-07,1e-06,0.0001,0.001,0.01,0.0005,0.005,0.05,0.1,0.15,0.2,0.3,0.4,0.5,0.7,1,2,3,4,5,10],\n",
    "         'scale_pos_weight': np.arange(0.0, 50.1, 0.1)}\n",
    "    ),\n",
    "    (\n",
    "        LGBMClassifier(random_state=0),\n",
    "        {'n_estimators': range(10, 310, 10),\n",
    "         'learning_rate': np.arange(0.0, 0.501, 0.001),\n",
    "         'num_leaves': [10,20,30,40,50,60,70,80,90,100,150,200],\n",
    "         'min_split_gain': [0,0.1,0.2,0.3,0.4,0.5,0.6,0.7,0.8,0.9],\n",
    "         'reg_alpha': [1e-07,1e-06,0.0001,0.001,0.01,0.0005,0.005,0.05,0.1,0.15,0.2,0.3,0.4,0.5,0.7,1,2,3,4,5,10],\n",
    "         'reg_lambda': [1e-07,1e-06,0.0001,0.001,0.01,0.0005,0.005,0.05,0.1,0.15,0.2,0.3,0.4,0.5,0.7,1,2,3,4,5,10],\n",
    "         'feature_fraction': [0.4, 0.5, 0.6, 0.7, 0.8, 0.9, 1.0],\n",
    "         'bagging_fraction': [0.4, 0.5, 0.6, 0.7, 0.8, 0.9, 1.0],\n",
    "         'bagging_freq': [1, 2, 3, 4, 5, 6, 7],\n",
    "         'min_child_samples': range(5,105,5)}\n",
    "    ),\n",
    "    (\n",
    "        CatBoostClassifier(random_state=0, verbose=False),\n",
    "        {'n_estimators': range(10, 310, 10),\n",
    "         'depth': [1, 2, 3, 4, 5, 6, 7, 8, 9, 10, 11],\n",
    "         'random_strength': [0.0,0.1,0.2,0.3,0.4,0.5,0.6,0.7,0.8],\n",
    "         'l2_leaf_reg': [1,2,3,4,5,6,7,8,9,10,20,30,50,100,200]}\n",
    "    ),    \n",
    "    (\n",
    "        MLPClassifier(random_state=0),\n",
    "        {'batch_size': [32, 64, 128],\n",
    "         'learning_rate' : ['constant', 'adaptive', 'invscaling'],\n",
    "         'activation': ['tanh', 'relu', 'logistic'],\n",
    "         'solver': ['sgd', 'adam'],\n",
    "         'alpha': [1e-07,1e-06,0.0001,0.001,0.01,0.0005,0.005,0.05,0.1,0.15,0.2,0.3,0.4,0.5,0.7,0.9],\n",
    "         'hidden_layer_sizes': [(32,),(64,),(128,),(32,16),(64,32,16)]}\n",
    "    ),    \n",
    "]"
   ]
  },
  {
   "cell_type": "code",
   "execution_count": null,
   "metadata": {},
   "outputs": [],
   "source": []
  }
 ],
 "metadata": {
  "kernelspec": {
   "display_name": "Python 3 (ipykernel)",
   "language": "python",
   "name": "python3"
  },
  "language_info": {
   "codemirror_mode": {
    "name": "ipython",
    "version": 3
   },
   "file_extension": ".py",
   "mimetype": "text/x-python",
   "name": "python",
   "nbconvert_exporter": "python",
   "pygments_lexer": "ipython3",
   "version": "3.9.12"
  }
 },
 "nbformat": 4,
 "nbformat_minor": 4
}

{
 "cells": [
  {
   "cell_type": "code",
   "execution_count": null,
   "metadata": {},
   "outputs": [],
   "source": [
    "import numpy as np\n",
    "import pandas as pd\n",
    "import matplotlib.pyplot as plt\n",
    "import seaborn as sns\n",
    "import warnings\n",
    "from jun_function import fmerge, kwd_len_mean, sess_dt_std\n",
    "from sklearn.ensemble import AdaBoostClassifier\n",
    "from sklearn.ensemble import GradientBoostingClassifier\n",
    "from xgboost import XGBClassifier \n",
    "from lightgbm import LGBMClassifier\n",
    "from sklearn.model_selection import train_test_split, cross_val_score, StratifiedKFold\n",
    "\n",
    "from sklearn.metrics import accuracy_score, roc_auc_score, log_loss\n",
    "warnings.filterwarnings(action='ignore')\n",
    "%matplotlib inline"
   ]
  },
  {
   "cell_type": "markdown",
   "metadata": {},
   "source": [
    "# Data Loading"
   ]
  },
  {
   "cell_type": "code",
   "execution_count": null,
   "metadata": {},
   "outputs": [],
   "source": [
    "target = pd.read_csv('cust_train.csv', encoding = 'UTF-8')\n",
    "features = pd.read_csv('features.csv', encoding = 'UTF-8') "
   ]
  },
  {
   "cell_type": "code",
   "execution_count": null,
   "metadata": {},
   "outputs": [],
   "source": [
    "features = features.iloc[:, 1:]"
   ]
  },
  {
   "cell_type": "code",
   "execution_count": null,
   "metadata": {},
   "outputs": [],
   "source": [
    "# 로그변환, 정규화, 표준화 ...\n",
    "from sklearn.preprocessing import MinMaxScaler, StandardScaler\n",
    "\n",
    "mms = MinMaxScaler()\n",
    "ss = StandardScaler()\n",
    "\n",
    "# 정규화\n",
    "features = mms.fit_transform(features)\n",
    "\n",
    "# 표준화\n",
    "features = ss.fit_transform(features)"
   ]
  },
  {
   "cell_type": "code",
   "execution_count": null,
   "metadata": {},
   "outputs": [],
   "source": [
    "# to dataframe\n",
    "features = pd.DataFrame(features, columns = [str(i) for i in range(features.shape[1])])"
   ]
  },
  {
   "cell_type": "code",
   "execution_count": null,
   "metadata": {},
   "outputs": [],
   "source": [
    "features_clnt = pd.read_csv('features.csv', encoding = 'UTF-8')"
   ]
  },
  {
   "cell_type": "code",
   "execution_count": null,
   "metadata": {},
   "outputs": [],
   "source": [
    "features = pd.concat([features, features_clnt[['CLNT_ID']]], axis=1)"
   ]
  },
  {
   "cell_type": "code",
   "execution_count": null,
   "metadata": {},
   "outputs": [],
   "source": [
    "sparse_pca = pd.read_csv('sparse_pca.csv', encoding = 'UTF-8')"
   ]
  },
  {
   "cell_type": "code",
   "execution_count": null,
   "metadata": {},
   "outputs": [],
   "source": [
    "master = features.merge(sparse_pca, on='CLNT_ID')"
   ]
  },
  {
   "cell_type": "code",
   "execution_count": null,
   "metadata": {},
   "outputs": [],
   "source": [
    "del master['CLNT_ID']"
   ]
  },
  {
   "cell_type": "code",
   "execution_count": null,
   "metadata": {},
   "outputs": [],
   "source": [
    "master_tr = master.iloc[:263104,:]\n",
    "master_te = master.iloc[263104:,:]"
   ]
  },
  {
   "cell_type": "markdown",
   "metadata": {},
   "source": [
    "# Data Split"
   ]
  },
  {
   "cell_type": "code",
   "execution_count": null,
   "metadata": {},
   "outputs": [],
   "source": [
    "data = master_tr\n",
    "data_te = master_te\n",
    "target = target['LABEL']"
   ]
  },
  {
   "cell_type": "code",
   "execution_count": null,
   "metadata": {},
   "outputs": [],
   "source": [
    "X_train, X_val, y_train, y_val = train_test_split(data, target, test_size=0.3, random_state=0)"
   ]
  },
  {
   "cell_type": "markdown",
   "metadata": {},
   "source": [
    "# Modeling"
   ]
  },
  {
   "cell_type": "code",
   "execution_count": null,
   "metadata": {},
   "outputs": [],
   "source": [
    "import lightgbm as lgbm\n",
    "from bayes_opt import BayesianOptimization\n",
    "from sklearn.metrics import roc_auc_score, make_scorer\n",
    "from sklearn.model_selection import cross_validate\n",
    "from lightgbm import LGBMClassifier\n",
    "from sklearn.model_selection import StratifiedKFold, cross_val_score, train_test_split"
   ]
  },
  {
   "cell_type": "code",
   "execution_count": null,
   "metadata": {},
   "outputs": [],
   "source": [
    "from sklearn.ensemble import RandomForestClassifier\n",
    "from xgboost import XGBClassifier\n",
    "from lightgbm import LGBMClassifier\n",
    "from sklearn.linear_model import LogisticRegression"
   ]
  },
  {
   "cell_type": "markdown",
   "metadata": {},
   "source": [
    "### LGBM_BO (6시간)"
   ]
  },
  {
   "cell_type": "code",
   "execution_count": null,
   "metadata": {
    "scrolled": true
   },
   "outputs": [],
   "source": [
    "pbounds = { 'learning_rate': (0.05, 1.5),\n",
    "            'n_estimators': (50, 500),\n",
    "            'max_depth': (3,10),   \n",
    "            'subsample': (0.8,0.95), \n",
    "            'colsample_bytree': (0.75,0.9),   \n",
    "            'num_leaves': (2,10),\n",
    "            'min_child_weight': (1, 7)}\n",
    "\n",
    "\n",
    "def lgbm_opt(learning_rate, n_estimators, max_depth, subsample, colsample_bytree, num_leaves, min_child_weight):\n",
    "\n",
    "    params = {\n",
    "        'learning_rate': learning_rate,\n",
    "        'n_estimators' : int(round(n_estimators)),\n",
    "        'max_depth' : int(round(max_depth)),\n",
    "        'subsample': subsample,\n",
    "        'colsample_bytree' : colsample_bytree,\n",
    "        'num_leaves' : int(round(num_leaves)),\n",
    "        'min_child_weight' : min_child_weight,\n",
    "        'n_jobs' : -1\n",
    "    }\n",
    "    \n",
    "    lgbm = LGBMClassifier(**params)\n",
    "    \n",
    "    skf = StratifiedKFold(n_splits=4 , shuffle=True, random_state=1)\n",
    "\n",
    "    score = cross_val_score(lgbm, X_train, y_train, scoring='neg_log_loss', cv=skf, n_jobs=-1)\n",
    "    \n",
    "    return np.mean(score)\n",
    "\n",
    "BO_lgbm = BayesianOptimization(f = lgbm_opt, pbounds = pbounds, random_state=1)  \n",
    "BO_lgbm.maximize(init_points=50, n_iter=50)\n",
    "max_params = BO_lgbm.max['params']\n",
    "\n",
    "max_params['n_estimators'] = int(round(max_params['n_estimators']))\n",
    "max_params['max_depth'] = int(round(max_params['max_depth']))\n",
    "max_params['num_leaves'] = int(round(max_params['num_leaves']))\n",
    "\n",
    "lgbm_clf = LGBMClassifier(**max_params)\n",
    "lgbm_clf.fit(X_train, y_train)\n",
    "scores = cross_val_score(lgbm_clf, X_train, y_train, scoring='neg_log_loss', cv=4, n_jobs=-1)\n",
    "\n",
    "print(scores)\n",
    "print(f'최대성능: {max(scores)}\\n평균성능: {np.mean(scores)}')"
   ]
  },
  {
   "cell_type": "code",
   "execution_count": null,
   "metadata": {},
   "outputs": [],
   "source": [
    "features_clnt_te = features_clnt.iloc[263104:,:112760]\n",
    "features_clnt_te = features_clnt_te.reset_index()"
   ]
  },
  {
   "cell_type": "code",
   "execution_count": null,
   "metadata": {},
   "outputs": [],
   "source": [
    "pred = pd.DataFrame(lgbm_clf.predict_proba(data_te))\n",
    "\n",
    "result = pd.concat([features_clnt_te.CLNT_ID, pred],axis=1)\n",
    "result.columns = ['CLNT_ID','F20','F30','F40','M20','M30','M40']\n",
    "result.CLNT_ID = result.CLNT_ID.astype(int)\n",
    "result\n",
    "\n",
    "#result.to_csv('master_632_LGBM.csv',index=False)"
   ]
  },
  {
   "cell_type": "markdown",
   "metadata": {},
   "source": [
    "### LR_BO (8시간)"
   ]
  },
  {
   "cell_type": "code",
   "execution_count": null,
   "metadata": {
    "scrolled": true
   },
   "outputs": [],
   "source": [
    "pbounds = { 'C' : (0.1, 1),\n",
    "            'max_iter' : (100, 1000)}\n",
    "\n",
    "\n",
    "def lr_opt(C, max_iter):\n",
    "\n",
    "    params = {\n",
    "        'C' : C,\n",
    "        'max_iter' : max_iter,\n",
    "        'n_jobs' : -1\n",
    "    }\n",
    "    \n",
    "    lr = LogisticRegression(**params)\n",
    "    \n",
    "    skf = StratifiedKFold(n_splits=4 , shuffle=True, random_state=1)\n",
    "\n",
    "    score = cross_val_score(lr, X_train, y_train, scoring='neg_log_loss', cv=skf, n_jobs=-1)\n",
    "    \n",
    "    return np.mean(score)\n",
    "\n",
    "BO_lr = BayesianOptimization(f = lr_opt, pbounds = pbounds, random_state=1)  \n",
    "BO_lr.maximize(init_points=50, n_iter=50)\n",
    "max_params = BO_lr.max['params']\n",
    "\n",
    "lr_clf = LogisticRegression(**max_params)\n",
    "lr_clf.fit(X_train, y_train)\n",
    "scores = cross_val_score(lr_clf, X_train, y_train, scoring='neg_log_loss', cv=4, n_jobs=-1)\n",
    "\n",
    "print(scores)\n",
    "print(f'최대성능: {max(scores)}\\n평균성능: {np.mean(scores)}')"
   ]
  },
  {
   "cell_type": "code",
   "execution_count": null,
   "metadata": {},
   "outputs": [],
   "source": [
    "features_clnt_te = features_clnt.iloc[263104:,:112760]\n",
    "features_clnt_te = features_clnt_te.reset_index()"
   ]
  },
  {
   "cell_type": "code",
   "execution_count": null,
   "metadata": {},
   "outputs": [],
   "source": [
    "pred = pd.DataFrame(lr_clf.predict_proba(data_te))\n",
    "\n",
    "result = pd.concat([features_clnt_te.CLNT_ID, pred],axis=1)\n",
    "result.columns = ['CLNT_ID','F20','F30','F40','M20','M30','M40']\n",
    "result.CLNT_ID = result.CLNT_ID.astype(int)\n",
    "result\n",
    "\n",
    "# result.to_csv('master_632_LR.csv',index=False)"
   ]
  },
  {
   "cell_type": "markdown",
   "metadata": {},
   "source": [
    "### RF_BO (iter당 한시간 반)"
   ]
  },
  {
   "cell_type": "code",
   "execution_count": null,
   "metadata": {
    "scrolled": true
   },
   "outputs": [],
   "source": [
    "pbounds = { 'n_estimators': (50,250),\n",
    "            'max_depth': (3,15), \n",
    "            'max_features': (0.7,0.95),\n",
    "            'min_samples_split':(5,50),\n",
    "            'min_samples_leaf': (5,50)}\n",
    "\n",
    "\n",
    "def rf_opt(n_estimators, max_depth, max_features, min_samples_split, min_samples_leaf):\n",
    "\n",
    "    params = {\n",
    "        'n_estimators' : int(round(n_estimators)),\n",
    "        'max_depth' : int(round(max_depth)),\n",
    "        'max_features' : max_features,\n",
    "        'min_samples_split' : int(round(min_samples_split)),\n",
    "        'min_samples_leaf' : int(round(min_samples_leaf)),\n",
    "        'n_jobs' : -1\n",
    "    }\n",
    "    \n",
    "    rf = RandomForestClassifier(**params)\n",
    "    \n",
    "    skf = StratifiedKFold(n_splits=4 , shuffle=True, random_state=1)\n",
    "\n",
    "    score = cross_val_score(rf, X_train, y_train, scoring='neg_log_loss', cv=skf, n_jobs=-1)\n",
    "    \n",
    "    return np.mean(score)\n",
    "\n",
    "BO_rf = BayesianOptimization(f = rf_opt, pbounds = pbounds, random_state=1)  \n",
    "BO_rf.maximize(init_points=10, n_iter=10)\n",
    "max_params = BO_rf.max['params']\n",
    "\n",
    "max_params['n_estimators'] = int(round(max_params['n_estimators']))\n",
    "max_params['max_depth'] = int(round(max_params['max_depth']))\n",
    "max_params['min_samples_split'] = int(round(max_params['min_samples_split']))\n",
    "max_params['min_samples_leaf'] = int(round(max_params['min_samples_leaf']))\n",
    "\n",
    "rf_clf = RandomForestClassifier(**max_params)\n",
    "rf_clf.fit(X_train, y_train)\n",
    "scores = cross_val_score(rf_clf, X_train, y_train, scoring='neg_log_loss', cv=4, n_jobs=-1)\n",
    "\n",
    "print(scores)\n",
    "print(f'최대성능: {max(scores)}\\n평균성능: {np.mean(scores)}')"
   ]
  },
  {
   "cell_type": "code",
   "execution_count": null,
   "metadata": {},
   "outputs": [],
   "source": [
    "features_clnt_te = features_clnt.iloc[263104:,:112760]\n",
    "features_clnt_te = features_clnt_te.reset_index()"
   ]
  },
  {
   "cell_type": "code",
   "execution_count": null,
   "metadata": {},
   "outputs": [],
   "source": [
    "pred = pd.DataFrame(rf_clf.predict_proba(data_te))\n",
    "\n",
    "result = pd.concat([features_clnt_te.CLNT_ID, pred],axis=1)\n",
    "result.columns = ['CLNT_ID','F20','F30','F40','M20','M30','M40']\n",
    "result.CLNT_ID = result.CLNT_ID.astype(int)\n",
    "result\n",
    "\n",
    "# result.to_csv('master_632_RF.csv',index=False)"
   ]
  },
  {
   "cell_type": "markdown",
   "metadata": {},
   "source": [
    "### XGB_BO (iter당 4시간)"
   ]
  },
  {
   "cell_type": "code",
   "execution_count": null,
   "metadata": {
    "scrolled": false
   },
   "outputs": [],
   "source": [
    "pbounds = { 'learning_rate': (0.05, 1.5),\n",
    "            'n_estimators': (50, 500),\n",
    "            'max_depth': (3,10),   \n",
    "            'subsample': (0.8,0.95), \n",
    "            'colsample_bytree': (0.75,0.9),   \n",
    "            'num_leaves': (2,10),\n",
    "            'gamma': (0, 5)}\n",
    "\n",
    "\n",
    "def xgb_opt(learning_rate, n_estimators, max_depth, subsample, colsample_bytree, num_leaves, gamma):\n",
    "\n",
    "    params = {\n",
    "        'learning_rate': learning_rate,\n",
    "        'n_estimators' : int(round(n_estimators)),\n",
    "        'max_depth' : int(round(max_depth)),\n",
    "        'subsample': subsample,\n",
    "        'colsample_bytree' : colsample_bytree,\n",
    "        'num_leaves' : int(round(num_leaves)),\n",
    "        'gamma' : gamma,\n",
    "        'n_jobs' : -1\n",
    "    }\n",
    "    \n",
    "    xgb = XGBClassifier(**params)\n",
    "    \n",
    "    skf = StratifiedKFold(n_splits=4 , shuffle=True, random_state=1)\n",
    "\n",
    "    score = cross_val_score(xgb, X_train, y_train, scoring='neg_log_loss', cv=skf, n_jobs=-1)\n",
    "    \n",
    "    return np.mean(score)\n",
    "\n",
    "BO_xgb = BayesianOptimization(f = xgb_opt, pbounds = pbounds, random_state=1)  \n",
    "BO_xgb.maximize(init_points=10, n_iter=10)\n",
    "max_params = BO_xgb.max['params']\n",
    "\n",
    "max_params['n_estimators'] = int(round(max_params['n_estimators']))\n",
    "max_params['max_depth'] = int(round(max_params['max_depth']))\n",
    "max_params['num_leaves'] = int(round(max_params['num_leaves']))\n",
    "\n",
    "xgb_clf = XGBClassifier(**max_params)\n",
    "xgb_clf.fit(X_train, y_train)\n",
    "scores = cross_val_score(xgb_clf, X_train, y_train, scoring='neg_log_loss', cv=4, n_jobs=-1)\n",
    "\n",
    "print(scores)\n",
    "print(f'최대성능: {max(scores)}\\n평균성능: {np.mean(scores)}')"
   ]
  },
  {
   "cell_type": "code",
   "execution_count": null,
   "metadata": {},
   "outputs": [],
   "source": [
    "features_clnt_te = features_clnt.iloc[263104:,:112760]\n",
    "features_clnt_te = features_clnt_te.reset_index()"
   ]
  },
  {
   "cell_type": "code",
   "execution_count": 26,
   "metadata": {
    "collapsed": true
   },
   "outputs": [
    {
     "data": {
      "text/html": [
       "<div>\n",
       "<style scoped>\n",
       "    .dataframe tbody tr th:only-of-type {\n",
       "        vertical-align: middle;\n",
       "    }\n",
       "\n",
       "    .dataframe tbody tr th {\n",
       "        vertical-align: top;\n",
       "    }\n",
       "\n",
       "    .dataframe thead th {\n",
       "        text-align: right;\n",
       "    }\n",
       "</style>\n",
       "<table border=\"1\" class=\"dataframe\">\n",
       "  <thead>\n",
       "    <tr style=\"text-align: right;\">\n",
       "      <th></th>\n",
       "      <th>0</th>\n",
       "      <th>1</th>\n",
       "      <th>2</th>\n",
       "      <th>3</th>\n",
       "      <th>4</th>\n",
       "      <th>5</th>\n",
       "    </tr>\n",
       "  </thead>\n",
       "  <tbody>\n",
       "    <tr>\n",
       "      <th>0</th>\n",
       "      <td>0.076587</td>\n",
       "      <td>0.451968</td>\n",
       "      <td>0.362109</td>\n",
       "      <td>0.018908</td>\n",
       "      <td>0.037440</td>\n",
       "      <td>0.052989</td>\n",
       "    </tr>\n",
       "    <tr>\n",
       "      <th>1</th>\n",
       "      <td>0.319942</td>\n",
       "      <td>0.411618</td>\n",
       "      <td>0.211292</td>\n",
       "      <td>0.019998</td>\n",
       "      <td>0.018489</td>\n",
       "      <td>0.018661</td>\n",
       "    </tr>\n",
       "    <tr>\n",
       "      <th>2</th>\n",
       "      <td>0.109195</td>\n",
       "      <td>0.383553</td>\n",
       "      <td>0.388692</td>\n",
       "      <td>0.020166</td>\n",
       "      <td>0.035190</td>\n",
       "      <td>0.063205</td>\n",
       "    </tr>\n",
       "    <tr>\n",
       "      <th>3</th>\n",
       "      <td>0.017052</td>\n",
       "      <td>0.602806</td>\n",
       "      <td>0.290908</td>\n",
       "      <td>0.002618</td>\n",
       "      <td>0.043847</td>\n",
       "      <td>0.042769</td>\n",
       "    </tr>\n",
       "    <tr>\n",
       "      <th>4</th>\n",
       "      <td>0.182139</td>\n",
       "      <td>0.458194</td>\n",
       "      <td>0.291561</td>\n",
       "      <td>0.018170</td>\n",
       "      <td>0.025022</td>\n",
       "      <td>0.024913</td>\n",
       "    </tr>\n",
       "    <tr>\n",
       "      <th>...</th>\n",
       "      <td>...</td>\n",
       "      <td>...</td>\n",
       "      <td>...</td>\n",
       "      <td>...</td>\n",
       "      <td>...</td>\n",
       "      <td>...</td>\n",
       "    </tr>\n",
       "    <tr>\n",
       "      <th>112755</th>\n",
       "      <td>0.124490</td>\n",
       "      <td>0.258259</td>\n",
       "      <td>0.215649</td>\n",
       "      <td>0.074573</td>\n",
       "      <td>0.166346</td>\n",
       "      <td>0.160683</td>\n",
       "    </tr>\n",
       "    <tr>\n",
       "      <th>112756</th>\n",
       "      <td>0.028136</td>\n",
       "      <td>0.100923</td>\n",
       "      <td>0.746853</td>\n",
       "      <td>0.001462</td>\n",
       "      <td>0.016375</td>\n",
       "      <td>0.106251</td>\n",
       "    </tr>\n",
       "    <tr>\n",
       "      <th>112757</th>\n",
       "      <td>0.145911</td>\n",
       "      <td>0.392282</td>\n",
       "      <td>0.343681</td>\n",
       "      <td>0.029407</td>\n",
       "      <td>0.040762</td>\n",
       "      <td>0.047957</td>\n",
       "    </tr>\n",
       "    <tr>\n",
       "      <th>112758</th>\n",
       "      <td>0.063040</td>\n",
       "      <td>0.214862</td>\n",
       "      <td>0.360594</td>\n",
       "      <td>0.101131</td>\n",
       "      <td>0.107315</td>\n",
       "      <td>0.153057</td>\n",
       "    </tr>\n",
       "    <tr>\n",
       "      <th>112759</th>\n",
       "      <td>0.197964</td>\n",
       "      <td>0.437846</td>\n",
       "      <td>0.230927</td>\n",
       "      <td>0.031307</td>\n",
       "      <td>0.057371</td>\n",
       "      <td>0.044586</td>\n",
       "    </tr>\n",
       "  </tbody>\n",
       "</table>\n",
       "<p>112760 rows × 6 columns</p>\n",
       "</div>"
      ],
      "text/plain": [
       "               0         1         2         3         4         5\n",
       "0       0.076587  0.451968  0.362109  0.018908  0.037440  0.052989\n",
       "1       0.319942  0.411618  0.211292  0.019998  0.018489  0.018661\n",
       "2       0.109195  0.383553  0.388692  0.020166  0.035190  0.063205\n",
       "3       0.017052  0.602806  0.290908  0.002618  0.043847  0.042769\n",
       "4       0.182139  0.458194  0.291561  0.018170  0.025022  0.024913\n",
       "...          ...       ...       ...       ...       ...       ...\n",
       "112755  0.124490  0.258259  0.215649  0.074573  0.166346  0.160683\n",
       "112756  0.028136  0.100923  0.746853  0.001462  0.016375  0.106251\n",
       "112757  0.145911  0.392282  0.343681  0.029407  0.040762  0.047957\n",
       "112758  0.063040  0.214862  0.360594  0.101131  0.107315  0.153057\n",
       "112759  0.197964  0.437846  0.230927  0.031307  0.057371  0.044586\n",
       "\n",
       "[112760 rows x 6 columns]"
      ]
     },
     "execution_count": 26,
     "metadata": {},
     "output_type": "execute_result"
    }
   ],
   "source": [
    "pred = pd.DataFrame(lr_clf.predict_proba(data_te))\n",
    "pred"
   ]
  },
  {
   "cell_type": "code",
   "execution_count": null,
   "metadata": {},
   "outputs": [],
   "source": [
    "pred = pd.DataFrame(xgb_clf.predict_proba(data_te))\n",
    "\n",
    "result = pd.concat([features_clnt_te.CLNT_ID, pred],axis=1)\n",
    "result.columns = ['CLNT_ID','F20','F30','F40','M20','M30','M40']\n",
    "result.CLNT_ID = result.CLNT_ID.astype(int)\n",
    "result\n",
    "\n",
    "# result.to_csv('master_632_XGB.csv',index=False)"
   ]
  },
  {
   "cell_type": "markdown",
   "metadata": {},
   "source": [
    "### CatBoost (iter당 30분)"
   ]
  },
  {
   "cell_type": "code",
   "execution_count": null,
   "metadata": {},
   "outputs": [],
   "source": [
    "from catboost import CatBoostClassifier\n",
    "\n",
    "pbounds = {\n",
    "    'learning_rate' : (0.01, 1), # 학습률. boosting에서 error에 대한 가중치 갱신을 얼만큼 할 것인가\n",
    "#    'depth' : (3, 15), # 트리의 깊이. 클수록 overfitting\n",
    "#    'iterations' : (500, 1200), # 트리의 개수. 클수록 overfitting\n",
    "    'l2_leaf_reg' : (2, 20) # 뭘까 이건\n",
    "}\n",
    "\n",
    "def cat_opt(learning_rate,l2_leaf_reg):\n",
    "    params = {\n",
    "    'learning_rate' : learning_rate,\n",
    "#    'depth' : int(round(depth)),\n",
    "#    'iterations' : int(round(iterations)),\n",
    "    'l2_leaf_reg' : int(round(l2_leaf_reg))        \n",
    "    }\n",
    "    \n",
    "    cat = CatBoostClassifier(**params)\n",
    "    skf = StratifiedKFold(n_splits=4 , shuffle=False, random_state=50)\n",
    "    score = cross_val_score(cat, X_train, y_train, scoring='neg_log_loss', cv=skf, n_jobs=-1) # cv가 아닌 일반 score를 하면 시간이 훨씬 단축됨.\n",
    "    return np.mean(score)\n",
    "    \n",
    "BO_cat = BayesianOptimization(f = cat_opt, pbounds = pbounds, random_state=1)  \n",
    "BO_cat.maximize(init_points=20, n_iter=20)\n",
    "max_params = BO_cat.max['params']\n",
    "\n",
    "#max_params['iterations'] = int(round(max_params['iterations']))\n",
    "#max_params['depth'] = int(round(max_params['depth']))\n",
    "max_params['l2_leaf_reg'] = int(round(max_params['l2_leaf_reg']))\n",
    "cat_clf = CatBoostClassifier(**max_params)\n",
    "cat_clf.fit(X_train, y_train)\n",
    "scores = cross_val_score(cat_clf, X_train, y_train, scoring='neg_log_loss', cv=4, n_jobs=-1)\n",
    "\n",
    "print(scores)\n",
    "print(f'최대성능: {max(scores)}\\n평균성능: {np.mean(scores)}')"
   ]
  },
  {
   "cell_type": "code",
   "execution_count": null,
   "metadata": {},
   "outputs": [],
   "source": [
    "features_clnt_te = features_clnt.iloc[263104:,:112760]\n",
    "\n",
    "= features_clnt_te.reset_index()"
   ]
  },
  {
   "cell_type": "code",
   "execution_count": null,
   "metadata": {},
   "outputs": [],
   "source": [
    "pred = pd.DataFrame(cat_clf.predict_proba(data_te))\n",
    "\n",
    "result = pd.concat([features_clnt_te.CLNT_ID, pred],axis=1)\n",
    "result.columns = ['CLNT_ID','F20','F30','F40','M20','M30','M40']\n",
    "result.CLNT_ID = result.CLNT_ID.astype(int)\n",
    "result\n",
    "\n",
    "# result.to_csv('master_632_catboost.csv',index=False)"
   ]
  }
 ],
 "metadata": {
  "kernelspec": {
   "display_name": "Python 3",
   "language": "python",
   "name": "python3"
  },
  "language_info": {
   "codemirror_mode": {
    "name": "ipython",
    "version": 3
   },
   "file_extension": ".py",
   "mimetype": "text/x-python",
   "name": "python",
   "nbconvert_exporter": "python",
   "pygments_lexer": "ipython3",
   "version": "3.7.3"
  }
 },
 "nbformat": 4,
 "nbformat_minor": 4
}

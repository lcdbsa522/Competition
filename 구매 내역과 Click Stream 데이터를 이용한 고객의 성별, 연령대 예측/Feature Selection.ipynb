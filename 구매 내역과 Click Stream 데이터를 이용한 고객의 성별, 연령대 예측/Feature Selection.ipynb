{
 "cells": [
  {
   "cell_type": "code",
   "execution_count": 1,
   "metadata": {},
   "outputs": [],
   "source": [
    "import pandas as pd\n",
    "import numpy as np"
   ]
  },
  {
   "cell_type": "code",
   "execution_count": 2,
   "metadata": {},
   "outputs": [],
   "source": [
    "train_features = pd.read_csv('train_features.csv', encoding = 'utf-8')\n",
    "test_features = pd.read_csv('test_features.csv', encoding = 'utf-8')"
   ]
  },
  {
   "cell_type": "code",
   "execution_count": 3,
   "metadata": {},
   "outputs": [],
   "source": [
    "fs = ['page_hr_mean','baby_pd_buy_prob','male_pd_buy_prob','sess_hr_min','search_buy_prob','1','kwd_len_mean','female_pd_amount_sum',\n",
    "       'visit_act_div','4','male_pd_amount_prob','baby_pd_amount_sum','male_pd_amount_sum','female_pd_buy_prob','2','zon_num',\n",
    "       'amount_min','best_seller_buy_prob','search_cnt_mean','makeup_brand_buy_prob','5','baby_pd_amount_prob','page_view_min',\n",
    "       'female_pd_amount_prob','weekend_visit_prob','page_view_max','24','amount_max','buy_pd_cnt_mean','77','sess_dt_amount_max_mean',\n",
    "       'sess_hr_max','51','14','40','44','search_kwd_sum','106','not_twenty_brand_amount_sum','36','150','29','20','38','98','108',\n",
    "       'vist_cycle_std','18','amount_mean','124','9','19','193','84','117','120','508','35','sess_vist_amount_sum','sess_vist_buy_num',\n",
    "       '192','search_cnt_max','baby_pd_buy_num','168','132','recent_one_month_amount_sum','sat_visit_prob','99','78','pur_pd_div_1',\n",
    "       '12','23','34','26','59','50','169','118','46','chuseok_buy_num','61','122','13','125','56','102','81','80','75','pur_pd_div_2',\n",
    "       '322','60','not_twenty_brand_amount_prob','200','43','126','96','32','67','rebuy_mean','one_pd_buy_prob','162','86',\n",
    "       'not_twenty_brand_buy_prob','184','female_brand_buy_prob','202','236','130','144','497','115','503','136','488','sep_visit_prob',\n",
    "       '128','11','amount_std','235','156','sess_hr_mean','153','226','180','177','148','119','170','28','504','174','155','63','146',\n",
    "       '161','258','123','339','187','visit_dt_cnt','17','74','441','22','344','most_search_kwd_cnt','city_num','70','65','163','131',\n",
    "       '211','348','410','298','7','54','337','182','129','511','103','139','sess_dt_amount_var','53','417','page_view_mean','285',\n",
    "       'jun_visit_prob','224','25','21','210','157','476','buy_pd_cnt_std','240','100','492','251','302','37','158','437','133','166',\n",
    "       '422','267','95','360','264','42','471','277','164','female_pd_buy_num','494','111','305','15','jul_visit_prob','110','107',\n",
    "       '368','402','225','82','470','149','442','396','45','350','173','88','176','444','432','493','154','311','pur_pd_div_3',\n",
    "       'chuseok_amount_sum','377','112','228','469','321','3','336','85','499','makeup_brand_amount_prob','116','342','145','220','104',\n",
    "       '204','194','261','332','62','198','254','72','327','282','179','458','485','312','359','0','431','412','301','394','479','137',\n",
    "       '452','438','248','71','315','73','300','491','171','411','249','79','369','292','378','416','114','421','449','269','8','230',\n",
    "       '93','97','445','404','372','413','138','makeup_brand_amount_sum','401','172','498','121','190','140','245','159','500','408',\n",
    "       '216','395','fri_visit_prob','female_brand_amount_sum','66','47','265','203','6','160','197','141','142','57','386','255',\n",
    "       'high_pd_amount_sum','268','309','90','16','335','457','256','page_view_sum','221','271','480','30','183','370','31','304','223',\n",
    "       '477','239','364','272','349','152','pd_buy_cycle','151','278','464','263','10','338','101','250','280','237','284','27','295',\n",
    "       'high_pd_amount_prob','310','296','496','462','233','not_twenty_brand_buy_num','33','64','389','94','371','333','253','448',\n",
    "       '281','429','231','209','41','426','181','481','450','229','403','380','324','405','381','214','323','rebuy_sum','501','505',\n",
    "       '382','355','367','495','463','424','454','219','334','446','127','283','486','400','316','167','92','109','326','507','434',\n",
    "       '474','318','409','207','398','287','459','510','460','143','447','page_view_std','443','375','178','484','68','418',\n",
    "       'aug_visit_prob','482','436','478','244','320','206','428','amount_cv','415','289','472','visit_trend','345','465','314',\n",
    "       'wen_visit_prob','113','506','227','373','346','196','290','262','406','352','238','455','52','340','390','509','487','105',\n",
    "       '274','222','48','385','354','435','294','apr_visit_prob','328','241','475','502','467','188','247','147','266','286','273',\n",
    "       '234','212','213','55','387','276','383','175','414','353','420','293','453','347','419','134','319','376','330','49','393',\n",
    "       '341','325','399','242','165','low_pd_amount_sum','288','466','307','sess_hr_std','351','433','365','205','135','366','456',\n",
    "       'most_buy_brand_cnt','sun_visit_prob','tue_visit_prob','218','379','427','189','275','489','299','303','buy_brand_num','191',\n",
    "       '215','270','246','186','461','384','512','357','313','amount_sum','sess_hr_sum','297','362','76','201','217',\n",
    "       'best_seller_buy_num','331','291','69','279','257','397','440','388','87','may_visit_prob','468','252','425','195','358',\n",
    "       'female_brand_buy_num','low_pd_amount_prob','430','483','high_pd_buy_prob','308','visit_sess_cnt','490','306','451','260','317',\n",
    "       '58','473','423','374']\n",
    "fs.sort()"
   ]
  },
  {
   "cell_type": "code",
   "execution_count": 9,
   "metadata": {
    "scrolled": true
   },
   "outputs": [],
   "source": [
    "train_features[fs].to_csv('features_select_train.csv', encoding = 'UTF-8', index = False)\n",
    "test_features[fs].to_csv('features_select_test.csv',encoding = 'UTF-8', index = False)"
   ]
  }
 ],
 "metadata": {
  "kernelspec": {
   "display_name": "Python 3",
   "language": "python",
   "name": "python3"
  },
  "language_info": {
   "codemirror_mode": {
    "name": "ipython",
    "version": 3
   },
   "file_extension": ".py",
   "mimetype": "text/x-python",
   "name": "python",
   "nbconvert_exporter": "python",
   "pygments_lexer": "ipython3",
   "version": "3.8.5"
  }
 },
 "nbformat": 4,
 "nbformat_minor": 4
}

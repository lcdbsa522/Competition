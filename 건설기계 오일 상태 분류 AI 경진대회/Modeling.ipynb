{
 "cells": [
  {
   "cell_type": "code",
   "execution_count": 1,
   "id": "c2ed1adc",
   "metadata": {},
   "outputs": [],
   "source": [
    "# Base & Visualization\n",
    "import pandas as pd\n",
    "import numpy as np\n",
    "import matplotlib.pyplot as plt\n",
    "import seaborn as sns\n",
    "%matplotlib inline\n",
    "\n",
    "# Preprocessing\n",
    "from sklearn.model_selection import train_test_split\n",
    "from sklearn.model_selection import StratifiedKFold, KFold\n",
    "from sklearn.model_selection import cross_val_score\n",
    "\n",
    "# Oversampling\n",
    "from imblearn.combine import  SMOTETomek\n",
    "\n",
    "# Modeling\n",
    "from catboost import CatBoostClassifier, CatBoostRegressor\n",
    "from xgboost import XGBClassifier, XGBRegressor\n",
    "from lightgbm import LGBMClassifier, LGBMRegressor\n",
    "from sklearn.ensemble import ExtraTreesClassifier, ExtraTreesRegressor\n",
    "from sklearn.linear_model import LogisticRegression\n",
    "\n",
    "# Scoring\n",
    "from sklearn.metrics import f1_score\n",
    "from sklearn.metrics import mean_squared_error\n",
    "from sklearn.metrics import classification_report\n",
    "\n",
    "# BayesianOptimizer\n",
    "from bayes_opt import BayesianOptimization\n",
    "\n",
    "# Saving Model\n",
    "import joblib"
   ]
  },
  {
   "cell_type": "markdown",
   "id": "e4373635",
   "metadata": {},
   "source": [
    "# Data Generate"
   ]
  },
  {
   "cell_type": "code",
   "execution_count": 2,
   "id": "3bb1145c",
   "metadata": {},
   "outputs": [],
   "source": [
    "# Data Load\n",
    "train = pd.read_csv('data/part/one-hot_encoding/iterative/part_one_iter_train.csv')\n",
    "label = pd.read_csv('data/raw_label.csv')\n",
    "test = pd.read_csv('data/one_hot_test.csv')\n",
    "\n",
    "train_x = np.array(train)\n",
    "train_y = np.array(label)\n",
    "test_x = np.array(test)"
   ]
  },
  {
   "cell_type": "code",
   "execution_count": 3,
   "id": "0fc44572",
   "metadata": {},
   "outputs": [],
   "source": [
    "# Data split\n",
    "x_train, x_val, y_train, y_val = train_test_split(train_x, train_y, test_size = 0.3, random_state = 17, stratify = train_y)"
   ]
  },
  {
   "cell_type": "code",
   "execution_count": 4,
   "id": "795f97a0",
   "metadata": {},
   "outputs": [
    {
     "name": "stdout",
     "output_type": "stream",
     "text": [
      "(17868, 53) (17868,)\n"
     ]
    }
   ],
   "source": [
    "# Oversampling - train\n",
    "tomek = SMOTETomek(random_state = 17, n_jobs = -1)\n",
    "tomek_x_train, tomek_y_train = tomek.fit_sample(x_train, y_train)\n",
    "print(tomek_x_train.shape, tomek_y_train.shape)"
   ]
  },
  {
   "cell_type": "code",
   "execution_count": 5,
   "id": "098e2f8f",
   "metadata": {},
   "outputs": [],
   "source": [
    "# Making tomek_s_train & x_s_val for Task2\n",
    "tomek_s_train = np.array(pd.DataFrame(tomek_x_train, columns = train.columns).loc[:,test.columns])\n",
    "x_s_val = np.array(pd.DataFrame(x_val, columns = train.columns).loc[:,test.columns])"
   ]
  },
  {
   "cell_type": "markdown",
   "id": "e6166716",
   "metadata": {},
   "source": [
    "# Generate Hyperparameters by Model"
   ]
  },
  {
   "cell_type": "code",
   "execution_count": 6,
   "id": "ad369256",
   "metadata": {},
   "outputs": [],
   "source": [
    "# Catboost\n",
    "cb_pbounds = { 'n_estimators' : (50, 500),\n",
    "               'learning_rate' : (0.001, 0.5),\n",
    "               'max_depth' : (3, 10),\n",
    "               'random_strength' : (0, 0.9),\n",
    "               'l2_leaf_reg' : (1, 50) }\n",
    "\n",
    "# XGB\n",
    "xgb_pbounds = { 'n_estimators' : (50, 500),\n",
    "                'learning_rate' : (0.001, 0.5),\n",
    "                'max_depth' : (3, 10),\n",
    "                'subsample' : (0.7, 1),\n",
    "                'colsample_bytree' : (0.7, 1),\n",
    "                'reg_alpha' : (0.01, 10),\n",
    "                'reg_lambda' : (0.01, 10),\n",
    "                'gamma' : (0.01, 10),\n",
    "                'min_child_weight' : (1, 15) }\n",
    "\n",
    "# LGBM\n",
    "lgbm_pbounds = { 'n_estimators' : (50, 500),\n",
    "                 'learning_rate' : (0.001, 0.5),\n",
    "                 'max_depth' : (3, 10),\n",
    "                 'min_child_samples' : (5,50),\n",
    "                 'subsample' : (0.7, 1),\n",
    "                 'colsample_bytree' : (0.7, 1),\n",
    "                 'reg_alpha' : (0.01, 10),\n",
    "                 'reg_lambda' : (0.01, 10),\n",
    "                 'min_child_weight' : (1, 15),\n",
    "                 'min_split_gain' : (10,100) }\n",
    "\n",
    "# ExtraTree\n",
    "et_pbounds = { 'n_estimators' : (50, 500), 'max_depth' : (3, 10),\n",
    "               'min_samples_split' : (1, 15), 'min_samples_leaf' : (2, 15) }\n",
    "\n",
    "# Logistic\n",
    "lr_pbounds = { 'max_iter' : (50, 500), 'C' : (0.01, 1) }"
   ]
  },
  {
   "cell_type": "markdown",
   "id": "8d1f680b",
   "metadata": {},
   "source": [
    "# Task1 : Making a Label predict_proba at y_train"
   ]
  },
  {
   "cell_type": "markdown",
   "id": "c5a2727d",
   "metadata": {},
   "source": [
    "### Generate Functoin for Bayesian Optimizer (Classifier)"
   ]
  },
  {
   "cell_type": "code",
   "execution_count": 10,
   "id": "811d09e7",
   "metadata": {},
   "outputs": [],
   "source": [
    "def cb_clf_opt(n_estimators, learning_rate, max_depth, random_strength, l2_leaf_reg):\n",
    "    \n",
    "    params = { 'n_estimators' : int(round(n_estimators)),\n",
    "               'learning_rate' : learning_rate,\n",
    "               'max_depth' : int(round(max_depth)),\n",
    "               'random_strength' : random_strength,\n",
    "               'l2_leaf_reg' : max_iter}\n",
    "    \n",
    "    cb = CatBoostClassifier(**params)\n",
    "    skf = StratifiedKFold(n_splits = 5, shuffle = True, random_state = 17)\n",
    "    score = cross_val_score(cb, tomek_x_train, tomek_y_train, scoring = 'f1_macro', cv = skf, n_jobs = -1)\n",
    "    \n",
    "    return np.mean(score)\n",
    "\n",
    "def xgb_clf_opt(n_estimators, learning_rate, max_depth, subsample, colsample_bytree, reg_alpha, reg_lambda, gamma, min_child_weight):\n",
    "    \n",
    "    params = { 'n_estimators' : int(round(n_estimators)),\n",
    "               'learning_rate' : learning_rate,\n",
    "               'max_depth' : int(round(max_depth)),\n",
    "               'subsample' : subsample,\n",
    "               'colsample_bytree' : colsample_bytree,\n",
    "               'reg_alpha' : reg_alpha,\n",
    "               'reg_lambda' : reg_lambda,\n",
    "               'gamma' : gamma,\n",
    "               'min_child_weight' : min_child_weight, 'n_jobs' : -1 }\n",
    "    \n",
    "    xgb = XGBClassifier(**params)\n",
    "    skf = StratifiedKFold(n_splits = 5, shuffle = True, random_state = 17)\n",
    "    score = cross_val_score(xgb, tomek_x_train, tomek_y_train, scoring = 'f1_macro', cv = skf, n_jobs = -1)\n",
    "    \n",
    "    return np.mean(score)\n",
    "\n",
    "def lgbm_clf_opt(n_estimators, learning_rate, max_depth, min_child_samples, subsample, colsample_bytree, \n",
    "                 reg_alpha, reg_lambda, min_child_weight, min_split_gain):\n",
    "    \n",
    "    params = { 'n_estimators' : int(round(n_estimators)),\n",
    "               'learning_rate' : learning_rate,\n",
    "               'max_depth' : int(round(max_depth)),\n",
    "               'min_child_samples' : int(round(min_child_samples)),\n",
    "               'subsample' : subsample,\n",
    "               'colsample_bytree' : colsample_bytree,\n",
    "               'reg_alpha' : reg_alpha,\n",
    "               'reg_lambda' : reg_lambda,\n",
    "               'min_child_weight' : min_child_weight,\n",
    "               'min_split_gain' : min_split_gain, 'n_jobs' : -1 }\n",
    "    \n",
    "    lgbm = LGBMClassifier(**params)\n",
    "    skf = StratifiedKFold(n_splits = 5, shuffle = True, random_state = 17)\n",
    "    score = cross_val_score(lgbm, tomek_x_train, tomek_y_train, scoring = 'f1_macro', cv = skf, n_jobs = -1)\n",
    "    \n",
    "    return np.mean(score)\n",
    "\n",
    "def et_clf_opt(n_estimators, max_depth, min_samples_split, min_samples_leaf):\n",
    "    \n",
    "    params = { 'n_estimators' : int(round(n_estimators)),\n",
    "               'max_depth' : int(round(max_depth)),\n",
    "               'min_samples_split' : int(round(min_samples_split)),\n",
    "               'min_samples_leaf' : int(round(min_samples_leaf)), 'n_jobs' : -1 }\n",
    "    \n",
    "    et = ExtraTreesClassifier(**params)\n",
    "    skf = StratifiedKFold(n_splits = 5, shuffle = True, random_state = 17)\n",
    "    score = cross_val_score(et, tomek_x_train, tomek_y_train, scoring = 'f1_macro', cv = skf, n_jobs = -1)\n",
    "    \n",
    "    return np.mean(score)\n",
    "\n",
    "def lr_clf_opt(n_estimators, C):\n",
    "    \n",
    "    params = { 'max_iter' : int(round(max_iter)), 'C' : C, 'n_jobs' : -1 }\n",
    "    \n",
    "    lr = LogisticRegression(**params)\n",
    "    skf = StratifiedKFold(n_splits = 5, shuffle = True, random_state = 17)\n",
    "    score = cross_val_score(lr, tomek_x_train, tomek_y_train, scoring = 'f1_macro', cv = skf, n_jobs = -1)\n",
    "    \n",
    "    return np.mean(score)"
   ]
  },
  {
   "cell_type": "markdown",
   "id": "a1afc681",
   "metadata": {},
   "source": [
    "### Generate BayesianOptimization"
   ]
  },
  {
   "cell_type": "code",
   "execution_count": 11,
   "id": "11636c25",
   "metadata": {},
   "outputs": [],
   "source": [
    "BO_cb_clf = BayesianOptimization(f = cb_clf_opt, pbounds = cb_pbounds, random_state=17)\n",
    "BO_xgb_clf = BayesianOptimization(f = xgb_clf_opt, pbounds = xgb_pbounds, random_state=17)\n",
    "BO_lgbm_clf = BayesianOptimization(f = lgbm_clf_opt, pbounds = lgbm_pbounds, random_state=17)\n",
    "BO_et_clf = BayesianOptimization(f = et_clf_opt, pbounds = et_pbounds, random_state=17)\n",
    "BO_lr_clf = BayesianOptimization(f = lr_clf_opt, pbounds = lr_pbounds, random_state=17)"
   ]
  },
  {
   "cell_type": "markdown",
   "id": "5be20f82",
   "metadata": {},
   "source": [
    "### Optimizer Maximize"
   ]
  },
  {
   "cell_type": "code",
   "execution_count": 13,
   "id": "f0ee485a",
   "metadata": {
    "collapsed": true
   },
   "outputs": [
    {
     "name": "stdout",
     "output_type": "stream",
     "text": [
      "|   iter    |  target   | l2_lea... | learni... | max_depth | n_esti... | random... |\n",
      "-------------------------------------------------------------------------------------\n",
      "| \u001b[95m2        \u001b[0m | \u001b[95m0.9739   \u001b[0m | \u001b[95m47.34    \u001b[0m | \u001b[95m0.03096  \u001b[0m | \u001b[95m9.048    \u001b[0m | \u001b[95m444.8    \u001b[0m | \u001b[95m0.04607  \u001b[0m |\n",
      "| \u001b[95m3        \u001b[0m | \u001b[95m0.9752   \u001b[0m | \u001b[95m32.97    \u001b[0m | \u001b[95m0.2763   \u001b[0m | \u001b[95m7.183    \u001b[0m | \u001b[95m267.6    \u001b[0m | \u001b[95m0.2547   \u001b[0m |\n",
      "| \u001b[0m4        \u001b[0m | \u001b[0m0.974    \u001b[0m | \u001b[0m15.59    \u001b[0m | \u001b[0m0.2812   \u001b[0m | \u001b[0m5.772    \u001b[0m | \u001b[0m404.9    \u001b[0m | \u001b[0m0.3766   \u001b[0m |\n",
      "| \u001b[0m5        \u001b[0m | \u001b[0m0.9728   \u001b[0m | \u001b[0m8.051    \u001b[0m | \u001b[0m0.0763   \u001b[0m | \u001b[0m3.387    \u001b[0m | \u001b[0m373.1    \u001b[0m | \u001b[0m0.2631   \u001b[0m |\n",
      "| \u001b[0m6        \u001b[0m | \u001b[0m0.9731   \u001b[0m | \u001b[0m10.74    \u001b[0m | \u001b[0m0.4159   \u001b[0m | \u001b[0m6.976    \u001b[0m | \u001b[0m87.05    \u001b[0m | \u001b[0m0.4905   \u001b[0m |\n",
      "| \u001b[0m7        \u001b[0m | \u001b[0m0.9728   \u001b[0m | \u001b[0m8.789    \u001b[0m | \u001b[0m0.3387   \u001b[0m | \u001b[0m3.829    \u001b[0m | \u001b[0m250.2    \u001b[0m | \u001b[0m0.7992   \u001b[0m |\n",
      "| \u001b[0m8        \u001b[0m | \u001b[0m0.9734   \u001b[0m | \u001b[0m40.07    \u001b[0m | \u001b[0m0.03492  \u001b[0m | \u001b[0m9.726    \u001b[0m | \u001b[0m346.6    \u001b[0m | \u001b[0m0.6469   \u001b[0m |\n",
      "| \u001b[0m9        \u001b[0m | \u001b[0m0.9728   \u001b[0m | \u001b[0m37.44    \u001b[0m | \u001b[0m0.444    \u001b[0m | \u001b[0m3.938    \u001b[0m | \u001b[0m399.6    \u001b[0m | \u001b[0m0.7542   \u001b[0m |\n",
      "| \u001b[0m10       \u001b[0m | \u001b[0m0.9581   \u001b[0m | \u001b[0m41.64    \u001b[0m | \u001b[0m0.01555  \u001b[0m | \u001b[0m5.733    \u001b[0m | \u001b[0m246.8    \u001b[0m | \u001b[0m0.4686   \u001b[0m |\n",
      "| \u001b[0m11       \u001b[0m | \u001b[0m0.968    \u001b[0m | \u001b[0m25.15    \u001b[0m | \u001b[0m0.06608  \u001b[0m | \u001b[0m9.891    \u001b[0m | \u001b[0m79.57    \u001b[0m | \u001b[0m0.5214   \u001b[0m |\n",
      "| \u001b[0m12       \u001b[0m | \u001b[0m0.9712   \u001b[0m | \u001b[0m29.46    \u001b[0m | \u001b[0m0.4772   \u001b[0m | \u001b[0m4.382    \u001b[0m | \u001b[0m87.5     \u001b[0m | \u001b[0m0.7955   \u001b[0m |\n",
      "| \u001b[0m13       \u001b[0m | \u001b[0m0.9746   \u001b[0m | \u001b[0m1.769    \u001b[0m | \u001b[0m0.398    \u001b[0m | \u001b[0m8.377    \u001b[0m | \u001b[0m442.4    \u001b[0m | \u001b[0m0.8245   \u001b[0m |\n",
      "| \u001b[0m14       \u001b[0m | \u001b[0m0.9742   \u001b[0m | \u001b[0m14.42    \u001b[0m | \u001b[0m0.119    \u001b[0m | \u001b[0m5.174    \u001b[0m | \u001b[0m372.0    \u001b[0m | \u001b[0m0.07446  \u001b[0m |\n",
      "| \u001b[0m15       \u001b[0m | \u001b[0m0.9745   \u001b[0m | \u001b[0m34.1     \u001b[0m | \u001b[0m0.4294   \u001b[0m | \u001b[0m7.85     \u001b[0m | \u001b[0m403.3    \u001b[0m | \u001b[0m0.318    \u001b[0m |\n",
      "| \u001b[0m16       \u001b[0m | \u001b[0m0.973    \u001b[0m | \u001b[0m11.79    \u001b[0m | \u001b[0m0.1234   \u001b[0m | \u001b[0m8.092    \u001b[0m | \u001b[0m78.86    \u001b[0m | \u001b[0m0.4084   \u001b[0m |\n",
      "| \u001b[0m17       \u001b[0m | \u001b[0m0.9742   \u001b[0m | \u001b[0m24.9     \u001b[0m | \u001b[0m0.3208   \u001b[0m | \u001b[0m3.743    \u001b[0m | \u001b[0m308.1    \u001b[0m | \u001b[0m0.8643   \u001b[0m |\n",
      "| \u001b[95m18       \u001b[0m | \u001b[95m0.976    \u001b[0m | \u001b[95m26.27    \u001b[0m | \u001b[95m0.2853   \u001b[0m | \u001b[95m9.916    \u001b[0m | \u001b[95m424.8    \u001b[0m | \u001b[95m0.4483   \u001b[0m |\n",
      "| \u001b[0m19       \u001b[0m | \u001b[0m0.9742   \u001b[0m | \u001b[0m4.927    \u001b[0m | \u001b[0m0.4357   \u001b[0m | \u001b[0m7.992    \u001b[0m | \u001b[0m379.5    \u001b[0m | \u001b[0m0.7413   \u001b[0m |\n",
      "| \u001b[0m20       \u001b[0m | \u001b[0m0.9753   \u001b[0m | \u001b[0m37.5     \u001b[0m | \u001b[0m0.2071   \u001b[0m | \u001b[0m6.603    \u001b[0m | \u001b[0m430.9    \u001b[0m | \u001b[0m0.773    \u001b[0m |\n",
      "| \u001b[0m21       \u001b[0m | \u001b[0m0.973    \u001b[0m | \u001b[0m16.21    \u001b[0m | \u001b[0m0.06057  \u001b[0m | \u001b[0m6.647    \u001b[0m | \u001b[0m252.0    \u001b[0m | \u001b[0m0.8076   \u001b[0m |\n",
      "| \u001b[0m22       \u001b[0m | \u001b[0m0.9751   \u001b[0m | \u001b[0m25.16    \u001b[0m | \u001b[0m0.2527   \u001b[0m | \u001b[0m5.556    \u001b[0m | \u001b[0m402.4    \u001b[0m | \u001b[0m0.8531   \u001b[0m |\n",
      "| \u001b[0m23       \u001b[0m | \u001b[0m0.9734   \u001b[0m | \u001b[0m7.371    \u001b[0m | \u001b[0m0.3309   \u001b[0m | \u001b[0m4.146    \u001b[0m | \u001b[0m189.0    \u001b[0m | \u001b[0m0.87     \u001b[0m |\n",
      "| \u001b[0m24       \u001b[0m | \u001b[0m0.9749   \u001b[0m | \u001b[0m24.66    \u001b[0m | \u001b[0m0.2708   \u001b[0m | \u001b[0m7.978    \u001b[0m | \u001b[0m359.3    \u001b[0m | \u001b[0m0.03327  \u001b[0m |\n",
      "| \u001b[0m25       \u001b[0m | \u001b[0m0.9745   \u001b[0m | \u001b[0m44.52    \u001b[0m | \u001b[0m0.0951   \u001b[0m | \u001b[0m8.474    \u001b[0m | \u001b[0m339.8    \u001b[0m | \u001b[0m0.4369   \u001b[0m |\n",
      "| \u001b[0m26       \u001b[0m | \u001b[0m0.9758   \u001b[0m | \u001b[0m46.52    \u001b[0m | \u001b[0m0.1357   \u001b[0m | \u001b[0m8.699    \u001b[0m | \u001b[0m362.8    \u001b[0m | \u001b[0m0.212    \u001b[0m |\n",
      "| \u001b[0m27       \u001b[0m | \u001b[0m0.9734   \u001b[0m | \u001b[0m47.71    \u001b[0m | \u001b[0m0.2931   \u001b[0m | \u001b[0m7.081    \u001b[0m | \u001b[0m120.7    \u001b[0m | \u001b[0m0.3827   \u001b[0m |\n",
      "| \u001b[0m28       \u001b[0m | \u001b[0m0.9742   \u001b[0m | \u001b[0m12.52    \u001b[0m | \u001b[0m0.3007   \u001b[0m | \u001b[0m5.524    \u001b[0m | \u001b[0m126.0    \u001b[0m | \u001b[0m0.3125   \u001b[0m |\n",
      "| \u001b[0m29       \u001b[0m | \u001b[0m0.9747   \u001b[0m | \u001b[0m11.51    \u001b[0m | \u001b[0m0.3975   \u001b[0m | \u001b[0m8.542    \u001b[0m | \u001b[0m124.0    \u001b[0m | \u001b[0m0.6753   \u001b[0m |\n",
      "| \u001b[95m30       \u001b[0m | \u001b[95m0.9764   \u001b[0m | \u001b[95m3.739    \u001b[0m | \u001b[95m0.117    \u001b[0m | \u001b[95m7.551    \u001b[0m | \u001b[95m373.2    \u001b[0m | \u001b[95m0.432    \u001b[0m |\n",
      "| \u001b[95m31       \u001b[0m | \u001b[95m0.9765   \u001b[0m | \u001b[95m17.54    \u001b[0m | \u001b[95m0.1955   \u001b[0m | \u001b[95m9.012    \u001b[0m | \u001b[95m280.1    \u001b[0m | \u001b[95m0.7872   \u001b[0m |\n",
      "| \u001b[0m32       \u001b[0m | \u001b[0m0.9729   \u001b[0m | \u001b[0m47.38    \u001b[0m | \u001b[0m0.4679   \u001b[0m | \u001b[0m6.451    \u001b[0m | \u001b[0m320.2    \u001b[0m | \u001b[0m0.1865   \u001b[0m |\n",
      "| \u001b[0m33       \u001b[0m | \u001b[0m0.9751   \u001b[0m | \u001b[0m47.85    \u001b[0m | \u001b[0m0.4934   \u001b[0m | \u001b[0m8.806    \u001b[0m | \u001b[0m292.1    \u001b[0m | \u001b[0m0.07518  \u001b[0m |\n",
      "| \u001b[0m34       \u001b[0m | \u001b[0m0.97     \u001b[0m | \u001b[0m16.38    \u001b[0m | \u001b[0m0.05395  \u001b[0m | \u001b[0m4.434    \u001b[0m | \u001b[0m196.5    \u001b[0m | \u001b[0m0.4514   \u001b[0m |\n",
      "| \u001b[0m35       \u001b[0m | \u001b[0m0.9749   \u001b[0m | \u001b[0m44.04    \u001b[0m | \u001b[0m0.1312   \u001b[0m | \u001b[0m6.711    \u001b[0m | \u001b[0m429.7    \u001b[0m | \u001b[0m0.1229   \u001b[0m |\n",
      "| \u001b[0m36       \u001b[0m | \u001b[0m0.9704   \u001b[0m | \u001b[0m20.61    \u001b[0m | \u001b[0m0.2847   \u001b[0m | \u001b[0m4.302    \u001b[0m | \u001b[0m56.17    \u001b[0m | \u001b[0m0.5335   \u001b[0m |\n",
      "| \u001b[0m37       \u001b[0m | \u001b[0m0.9738   \u001b[0m | \u001b[0m1.77     \u001b[0m | \u001b[0m0.2934   \u001b[0m | \u001b[0m5.861    \u001b[0m | \u001b[0m152.9    \u001b[0m | \u001b[0m0.1709   \u001b[0m |\n",
      "| \u001b[0m38       \u001b[0m | \u001b[0m0.9742   \u001b[0m | \u001b[0m45.75    \u001b[0m | \u001b[0m0.2955   \u001b[0m | \u001b[0m4.198    \u001b[0m | \u001b[0m371.5    \u001b[0m | \u001b[0m0.2146   \u001b[0m |\n",
      "| \u001b[0m39       \u001b[0m | \u001b[0m0.9762   \u001b[0m | \u001b[0m46.17    \u001b[0m | \u001b[0m0.3609   \u001b[0m | \u001b[0m7.738    \u001b[0m | \u001b[0m494.1    \u001b[0m | \u001b[0m0.4858   \u001b[0m |\n",
      "| \u001b[0m40       \u001b[0m | \u001b[0m0.9723   \u001b[0m | \u001b[0m25.37    \u001b[0m | \u001b[0m0.4492   \u001b[0m | \u001b[0m9.731    \u001b[0m | \u001b[0m50.99    \u001b[0m | \u001b[0m0.748    \u001b[0m |\n",
      "| \u001b[0m41       \u001b[0m | \u001b[0m0.9744   \u001b[0m | \u001b[0m28.31    \u001b[0m | \u001b[0m0.4676   \u001b[0m | \u001b[0m8.029    \u001b[0m | \u001b[0m481.1    \u001b[0m | \u001b[0m0.6832   \u001b[0m |\n",
      "| \u001b[0m42       \u001b[0m | \u001b[0m0.9745   \u001b[0m | \u001b[0m13.93    \u001b[0m | \u001b[0m0.06874  \u001b[0m | \u001b[0m9.311    \u001b[0m | \u001b[0m282.2    \u001b[0m | \u001b[0m0.7645   \u001b[0m |\n",
      "| \u001b[0m43       \u001b[0m | \u001b[0m0.9745   \u001b[0m | \u001b[0m3.71     \u001b[0m | \u001b[0m0.2155   \u001b[0m | \u001b[0m4.439    \u001b[0m | \u001b[0m441.8    \u001b[0m | \u001b[0m0.6246   \u001b[0m |\n",
      "| \u001b[0m44       \u001b[0m | \u001b[0m0.9744   \u001b[0m | \u001b[0m4.059    \u001b[0m | \u001b[0m0.3078   \u001b[0m | \u001b[0m8.875    \u001b[0m | \u001b[0m65.2     \u001b[0m | \u001b[0m0.5514   \u001b[0m |\n",
      "| \u001b[0m45       \u001b[0m | \u001b[0m0.9694   \u001b[0m | \u001b[0m46.37    \u001b[0m | \u001b[0m0.07658  \u001b[0m | \u001b[0m8.096    \u001b[0m | \u001b[0m117.9    \u001b[0m | \u001b[0m0.756    \u001b[0m |\n",
      "| \u001b[0m46       \u001b[0m | \u001b[0m0.9743   \u001b[0m | \u001b[0m9.948    \u001b[0m | \u001b[0m0.1962   \u001b[0m | \u001b[0m5.521    \u001b[0m | \u001b[0m229.1    \u001b[0m | \u001b[0m0.8912   \u001b[0m |\n",
      "| \u001b[0m47       \u001b[0m | \u001b[0m0.9758   \u001b[0m | \u001b[0m10.74    \u001b[0m | \u001b[0m0.1853   \u001b[0m | \u001b[0m8.386    \u001b[0m | \u001b[0m250.5    \u001b[0m | \u001b[0m0.5006   \u001b[0m |\n",
      "| \u001b[0m48       \u001b[0m | \u001b[0m0.9747   \u001b[0m | \u001b[0m38.43    \u001b[0m | \u001b[0m0.4999   \u001b[0m | \u001b[0m8.725    \u001b[0m | \u001b[0m247.5    \u001b[0m | \u001b[0m0.3078   \u001b[0m |\n",
      "| \u001b[0m49       \u001b[0m | \u001b[0m0.9731   \u001b[0m | \u001b[0m17.46    \u001b[0m | \u001b[0m0.4399   \u001b[0m | \u001b[0m8.261    \u001b[0m | \u001b[0m84.7     \u001b[0m | \u001b[0m0.4736   \u001b[0m |\n",
      "| \u001b[0m50       \u001b[0m | \u001b[0m0.9749   \u001b[0m | \u001b[0m33.98    \u001b[0m | \u001b[0m0.2443   \u001b[0m | \u001b[0m6.668    \u001b[0m | \u001b[0m436.5    \u001b[0m | \u001b[0m0.3021   \u001b[0m |\n",
      "| \u001b[0m51       \u001b[0m | \u001b[0m0.9749   \u001b[0m | \u001b[0m7.623    \u001b[0m | \u001b[0m0.3052   \u001b[0m | \u001b[0m7.622    \u001b[0m | \u001b[0m489.7    \u001b[0m | \u001b[0m0.74     \u001b[0m |\n",
      "| \u001b[0m52       \u001b[0m | \u001b[0m0.9734   \u001b[0m | \u001b[0m39.15    \u001b[0m | \u001b[0m0.4715   \u001b[0m | \u001b[0m5.791    \u001b[0m | \u001b[0m186.0    \u001b[0m | \u001b[0m0.624    \u001b[0m |\n",
      "| \u001b[0m53       \u001b[0m | \u001b[0m0.9742   \u001b[0m | \u001b[0m28.41    \u001b[0m | \u001b[0m0.2584   \u001b[0m | \u001b[0m4.559    \u001b[0m | \u001b[0m342.4    \u001b[0m | \u001b[0m0.6096   \u001b[0m |\n",
      "| \u001b[0m54       \u001b[0m | \u001b[0m0.9758   \u001b[0m | \u001b[0m19.93    \u001b[0m | \u001b[0m0.1314   \u001b[0m | \u001b[0m9.991    \u001b[0m | \u001b[0m169.0    \u001b[0m | \u001b[0m0.1483   \u001b[0m |\n",
      "| \u001b[0m55       \u001b[0m | \u001b[0m0.9757   \u001b[0m | \u001b[0m39.38    \u001b[0m | \u001b[0m0.2406   \u001b[0m | \u001b[0m9.673    \u001b[0m | \u001b[0m213.3    \u001b[0m | \u001b[0m0.5427   \u001b[0m |\n",
      "| \u001b[0m56       \u001b[0m | \u001b[0m0.9762   \u001b[0m | \u001b[0m1.466    \u001b[0m | \u001b[0m0.3843   \u001b[0m | \u001b[0m9.761    \u001b[0m | \u001b[0m358.6    \u001b[0m | \u001b[0m0.7536   \u001b[0m |\n",
      "| \u001b[0m57       \u001b[0m | \u001b[0m0.9737   \u001b[0m | \u001b[0m6.048    \u001b[0m | \u001b[0m0.3943   \u001b[0m | \u001b[0m6.014    \u001b[0m | \u001b[0m128.9    \u001b[0m | \u001b[0m0.8103   \u001b[0m |\n",
      "| \u001b[0m58       \u001b[0m | \u001b[0m0.9711   \u001b[0m | \u001b[0m33.49    \u001b[0m | \u001b[0m0.1087   \u001b[0m | \u001b[0m4.871    \u001b[0m | \u001b[0m119.9    \u001b[0m | \u001b[0m0.5878   \u001b[0m |\n"
     ]
    },
    {
     "name": "stdout",
     "output_type": "stream",
     "text": [
      "| \u001b[0m59       \u001b[0m | \u001b[0m0.9693   \u001b[0m | \u001b[0m35.76    \u001b[0m | \u001b[0m0.03196  \u001b[0m | \u001b[0m9.832    \u001b[0m | \u001b[0m185.8    \u001b[0m | \u001b[0m0.5912   \u001b[0m |\n",
      "| \u001b[0m60       \u001b[0m | \u001b[0m0.975    \u001b[0m | \u001b[0m39.98    \u001b[0m | \u001b[0m0.4377   \u001b[0m | \u001b[0m7.942    \u001b[0m | \u001b[0m348.5    \u001b[0m | \u001b[0m0.4312   \u001b[0m |\n",
      "| \u001b[0m61       \u001b[0m | \u001b[0m0.975    \u001b[0m | \u001b[0m18.59    \u001b[0m | \u001b[0m0.4772   \u001b[0m | \u001b[0m7.264    \u001b[0m | \u001b[0m435.6    \u001b[0m | \u001b[0m0.7924   \u001b[0m |\n",
      "| \u001b[0m62       \u001b[0m | \u001b[0m0.97     \u001b[0m | \u001b[0m9.781    \u001b[0m | \u001b[0m0.1092   \u001b[0m | \u001b[0m3.248    \u001b[0m | \u001b[0m117.7    \u001b[0m | \u001b[0m0.1038   \u001b[0m |\n",
      "| \u001b[0m63       \u001b[0m | \u001b[0m0.9736   \u001b[0m | \u001b[0m45.28    \u001b[0m | \u001b[0m0.4901   \u001b[0m | \u001b[0m6.569    \u001b[0m | \u001b[0m250.9    \u001b[0m | \u001b[0m0.6162   \u001b[0m |\n",
      "| \u001b[0m64       \u001b[0m | \u001b[0m0.9737   \u001b[0m | \u001b[0m7.079    \u001b[0m | \u001b[0m0.3497   \u001b[0m | \u001b[0m6.076    \u001b[0m | \u001b[0m345.1    \u001b[0m | \u001b[0m0.7173   \u001b[0m |\n",
      "| \u001b[0m65       \u001b[0m | \u001b[0m0.9727   \u001b[0m | \u001b[0m27.87    \u001b[0m | \u001b[0m0.1533   \u001b[0m | \u001b[0m5.304    \u001b[0m | \u001b[0m144.7    \u001b[0m | \u001b[0m0.7087   \u001b[0m |\n",
      "| \u001b[0m66       \u001b[0m | \u001b[0m0.9745   \u001b[0m | \u001b[0m20.8     \u001b[0m | \u001b[0m0.3552   \u001b[0m | \u001b[0m5.013    \u001b[0m | \u001b[0m178.8    \u001b[0m | \u001b[0m0.3      \u001b[0m |\n",
      "| \u001b[0m67       \u001b[0m | \u001b[0m0.9742   \u001b[0m | \u001b[0m25.77    \u001b[0m | \u001b[0m0.461    \u001b[0m | \u001b[0m8.052    \u001b[0m | \u001b[0m170.1    \u001b[0m | \u001b[0m0.0337   \u001b[0m |\n",
      "| \u001b[0m68       \u001b[0m | \u001b[0m0.9752   \u001b[0m | \u001b[0m22.67    \u001b[0m | \u001b[0m0.1456   \u001b[0m | \u001b[0m8.403    \u001b[0m | \u001b[0m230.3    \u001b[0m | \u001b[0m0.1676   \u001b[0m |\n",
      "| \u001b[0m69       \u001b[0m | \u001b[0m0.9742   \u001b[0m | \u001b[0m44.53    \u001b[0m | \u001b[0m0.4049   \u001b[0m | \u001b[0m5.395    \u001b[0m | \u001b[0m179.5    \u001b[0m | \u001b[0m0.5579   \u001b[0m |\n",
      "| \u001b[0m70       \u001b[0m | \u001b[0m0.9755   \u001b[0m | \u001b[0m38.79    \u001b[0m | \u001b[0m0.3514   \u001b[0m | \u001b[0m9.154    \u001b[0m | \u001b[0m314.5    \u001b[0m | \u001b[0m0.2542   \u001b[0m |\n",
      "| \u001b[0m71       \u001b[0m | \u001b[0m0.9721   \u001b[0m | \u001b[0m30.62    \u001b[0m | \u001b[0m0.3225   \u001b[0m | \u001b[0m3.516    \u001b[0m | \u001b[0m94.12    \u001b[0m | \u001b[0m0.3712   \u001b[0m |\n",
      "| \u001b[0m72       \u001b[0m | \u001b[0m0.9743   \u001b[0m | \u001b[0m17.55    \u001b[0m | \u001b[0m0.173    \u001b[0m | \u001b[0m6.453    \u001b[0m | \u001b[0m192.3    \u001b[0m | \u001b[0m0.1776   \u001b[0m |\n",
      "| \u001b[0m73       \u001b[0m | \u001b[0m0.9745   \u001b[0m | \u001b[0m22.48    \u001b[0m | \u001b[0m0.09572  \u001b[0m | \u001b[0m7.804    \u001b[0m | \u001b[0m228.2    \u001b[0m | \u001b[0m0.3291   \u001b[0m |\n",
      "| \u001b[0m74       \u001b[0m | \u001b[0m0.9682   \u001b[0m | \u001b[0m30.17    \u001b[0m | \u001b[0m0.07125  \u001b[0m | \u001b[0m7.544    \u001b[0m | \u001b[0m102.6    \u001b[0m | \u001b[0m0.7319   \u001b[0m |\n",
      "| \u001b[0m75       \u001b[0m | \u001b[0m0.9725   \u001b[0m | \u001b[0m24.21    \u001b[0m | \u001b[0m0.03798  \u001b[0m | \u001b[0m6.049    \u001b[0m | \u001b[0m273.1    \u001b[0m | \u001b[0m0.3834   \u001b[0m |\n",
      "| \u001b[0m76       \u001b[0m | \u001b[0m0.9738   \u001b[0m | \u001b[0m5.937    \u001b[0m | \u001b[0m0.4686   \u001b[0m | \u001b[0m6.17     \u001b[0m | \u001b[0m461.7    \u001b[0m | \u001b[0m0.885    \u001b[0m |\n",
      "| \u001b[0m77       \u001b[0m | \u001b[0m0.9742   \u001b[0m | \u001b[0m21.48    \u001b[0m | \u001b[0m0.4755   \u001b[0m | \u001b[0m5.763    \u001b[0m | \u001b[0m231.2    \u001b[0m | \u001b[0m0.08551  \u001b[0m |\n",
      "| \u001b[0m78       \u001b[0m | \u001b[0m0.9744   \u001b[0m | \u001b[0m41.3     \u001b[0m | \u001b[0m0.1512   \u001b[0m | \u001b[0m7.198    \u001b[0m | \u001b[0m318.2    \u001b[0m | \u001b[0m0.4352   \u001b[0m |\n",
      "| \u001b[95m79       \u001b[0m | \u001b[95m0.9767   \u001b[0m | \u001b[95m2.365    \u001b[0m | \u001b[95m0.1488   \u001b[0m | \u001b[95m9.357    \u001b[0m | \u001b[95m292.5    \u001b[0m | \u001b[95m0.1314   \u001b[0m |\n",
      "| \u001b[0m80       \u001b[0m | \u001b[0m0.9749   \u001b[0m | \u001b[0m8.428    \u001b[0m | \u001b[0m0.2032   \u001b[0m | \u001b[0m3.922    \u001b[0m | \u001b[0m413.2    \u001b[0m | \u001b[0m0.3948   \u001b[0m |\n",
      "| \u001b[0m81       \u001b[0m | \u001b[0m0.9737   \u001b[0m | \u001b[0m10.9     \u001b[0m | \u001b[0m0.1053   \u001b[0m | \u001b[0m3.224    \u001b[0m | \u001b[0m365.7    \u001b[0m | \u001b[0m0.6325   \u001b[0m |\n",
      "| \u001b[0m82       \u001b[0m | \u001b[0m0.9744   \u001b[0m | \u001b[0m38.85    \u001b[0m | \u001b[0m0.4731   \u001b[0m | \u001b[0m6.416    \u001b[0m | \u001b[0m478.1    \u001b[0m | \u001b[0m0.1992   \u001b[0m |\n",
      "| \u001b[0m83       \u001b[0m | \u001b[0m0.9404   \u001b[0m | \u001b[0m44.99    \u001b[0m | \u001b[0m0.04103  \u001b[0m | \u001b[0m3.016    \u001b[0m | \u001b[0m89.24    \u001b[0m | \u001b[0m0.4781   \u001b[0m |\n",
      "| \u001b[0m84       \u001b[0m | \u001b[0m0.9742   \u001b[0m | \u001b[0m16.29    \u001b[0m | \u001b[0m0.385    \u001b[0m | \u001b[0m5.932    \u001b[0m | \u001b[0m298.9    \u001b[0m | \u001b[0m0.4037   \u001b[0m |\n",
      "| \u001b[0m85       \u001b[0m | \u001b[0m0.9685   \u001b[0m | \u001b[0m2.919    \u001b[0m | \u001b[0m0.1311   \u001b[0m | \u001b[0m3.357    \u001b[0m | \u001b[0m96.25    \u001b[0m | \u001b[0m0.7516   \u001b[0m |\n",
      "| \u001b[0m86       \u001b[0m | \u001b[0m0.9749   \u001b[0m | \u001b[0m39.21    \u001b[0m | \u001b[0m0.3779   \u001b[0m | \u001b[0m8.962    \u001b[0m | \u001b[0m173.6    \u001b[0m | \u001b[0m0.3325   \u001b[0m |\n",
      "| \u001b[0m87       \u001b[0m | \u001b[0m0.9126   \u001b[0m | \u001b[0m45.54    \u001b[0m | \u001b[0m0.005352 \u001b[0m | \u001b[0m5.151    \u001b[0m | \u001b[0m174.0    \u001b[0m | \u001b[0m0.5435   \u001b[0m |\n",
      "| \u001b[0m88       \u001b[0m | \u001b[0m0.9751   \u001b[0m | \u001b[0m40.93    \u001b[0m | \u001b[0m0.1208   \u001b[0m | \u001b[0m9.649    \u001b[0m | \u001b[0m199.4    \u001b[0m | \u001b[0m0.4461   \u001b[0m |\n",
      "| \u001b[0m89       \u001b[0m | \u001b[0m0.9745   \u001b[0m | \u001b[0m4.892    \u001b[0m | \u001b[0m0.1602   \u001b[0m | \u001b[0m5.536    \u001b[0m | \u001b[0m358.9    \u001b[0m | \u001b[0m0.2814   \u001b[0m |\n",
      "| \u001b[0m90       \u001b[0m | \u001b[0m0.9727   \u001b[0m | \u001b[0m41.09    \u001b[0m | \u001b[0m0.1059   \u001b[0m | \u001b[0m5.868    \u001b[0m | \u001b[0m157.1    \u001b[0m | \u001b[0m0.4704   \u001b[0m |\n",
      "| \u001b[0m91       \u001b[0m | \u001b[0m0.9747   \u001b[0m | \u001b[0m46.62    \u001b[0m | \u001b[0m0.4943   \u001b[0m | \u001b[0m9.693    \u001b[0m | \u001b[0m223.0    \u001b[0m | \u001b[0m0.457    \u001b[0m |\n",
      "| \u001b[0m92       \u001b[0m | \u001b[0m0.9738   \u001b[0m | \u001b[0m25.91    \u001b[0m | \u001b[0m0.29     \u001b[0m | \u001b[0m6.176    \u001b[0m | \u001b[0m155.3    \u001b[0m | \u001b[0m0.5709   \u001b[0m |\n",
      "| \u001b[0m93       \u001b[0m | \u001b[0m0.9723   \u001b[0m | \u001b[0m7.827    \u001b[0m | \u001b[0m0.3013   \u001b[0m | \u001b[0m3.975    \u001b[0m | \u001b[0m94.85    \u001b[0m | \u001b[0m0.6305   \u001b[0m |\n",
      "| \u001b[0m94       \u001b[0m | \u001b[0m0.9718   \u001b[0m | \u001b[0m24.25    \u001b[0m | \u001b[0m0.4788   \u001b[0m | \u001b[0m6.024    \u001b[0m | \u001b[0m75.43    \u001b[0m | \u001b[0m0.01526  \u001b[0m |\n",
      "| \u001b[0m95       \u001b[0m | \u001b[0m0.9517   \u001b[0m | \u001b[0m19.88    \u001b[0m | \u001b[0m0.007839 \u001b[0m | \u001b[0m6.706    \u001b[0m | \u001b[0m299.3    \u001b[0m | \u001b[0m0.7689   \u001b[0m |\n",
      "| \u001b[0m96       \u001b[0m | \u001b[0m0.9748   \u001b[0m | \u001b[0m35.07    \u001b[0m | \u001b[0m0.328    \u001b[0m | \u001b[0m9.718    \u001b[0m | \u001b[0m120.6    \u001b[0m | \u001b[0m0.8164   \u001b[0m |\n",
      "| \u001b[0m97       \u001b[0m | \u001b[0m0.962    \u001b[0m | \u001b[0m26.83    \u001b[0m | \u001b[0m0.01342  \u001b[0m | \u001b[0m5.931    \u001b[0m | \u001b[0m336.7    \u001b[0m | \u001b[0m0.6831   \u001b[0m |\n",
      "| \u001b[0m98       \u001b[0m | \u001b[0m0.9715   \u001b[0m | \u001b[0m5.949    \u001b[0m | \u001b[0m0.4932   \u001b[0m | \u001b[0m3.396    \u001b[0m | \u001b[0m305.8    \u001b[0m | \u001b[0m0.7637   \u001b[0m |\n",
      "| \u001b[0m99       \u001b[0m | \u001b[0m0.9742   \u001b[0m | \u001b[0m38.31    \u001b[0m | \u001b[0m0.3336   \u001b[0m | \u001b[0m3.259    \u001b[0m | \u001b[0m439.1    \u001b[0m | \u001b[0m0.01943  \u001b[0m |\n",
      "| \u001b[0m100      \u001b[0m | \u001b[0m0.9742   \u001b[0m | \u001b[0m38.31    \u001b[0m | \u001b[0m0.3336   \u001b[0m | \u001b[0m3.259    \u001b[0m | \u001b[0m439.1    \u001b[0m | \u001b[0m0.01943  \u001b[0m |\n",
      "| \u001b[0m101      \u001b[0m | \u001b[0m0.9763   \u001b[0m | \u001b[0m2.958    \u001b[0m | \u001b[0m0.424    \u001b[0m | \u001b[0m8.798    \u001b[0m | \u001b[0m292.5    \u001b[0m | \u001b[0m0.792    \u001b[0m |\n",
      "| \u001b[0m102      \u001b[0m | \u001b[0m0.976    \u001b[0m | \u001b[0m2.323    \u001b[0m | \u001b[0m0.1049   \u001b[0m | \u001b[0m8.932    \u001b[0m | \u001b[0m293.3    \u001b[0m | \u001b[0m0.2416   \u001b[0m |\n",
      "| \u001b[0m103      \u001b[0m | \u001b[0m0.9759   \u001b[0m | \u001b[0m17.08    \u001b[0m | \u001b[0m0.1794   \u001b[0m | \u001b[0m9.05     \u001b[0m | \u001b[0m280.4    \u001b[0m | \u001b[0m0.7843   \u001b[0m |\n",
      "| \u001b[0m104      \u001b[0m | \u001b[0m0.9761   \u001b[0m | \u001b[0m17.72    \u001b[0m | \u001b[0m0.2541   \u001b[0m | \u001b[0m9.261    \u001b[0m | \u001b[0m279.4    \u001b[0m | \u001b[0m0.442    \u001b[0m |\n",
      "| \u001b[0m105      \u001b[0m | \u001b[0m0.9764   \u001b[0m | \u001b[0m1.454    \u001b[0m | \u001b[0m0.2452   \u001b[0m | \u001b[0m9.455    \u001b[0m | \u001b[0m291.5    \u001b[0m | \u001b[0m0.1859   \u001b[0m |\n",
      "| \u001b[0m106      \u001b[0m | \u001b[0m0.9758   \u001b[0m | \u001b[0m3.887    \u001b[0m | \u001b[0m0.1592   \u001b[0m | \u001b[0m7.643    \u001b[0m | \u001b[0m374.0    \u001b[0m | \u001b[0m0.4736   \u001b[0m |\n",
      "| \u001b[0m107      \u001b[0m | \u001b[0m0.9754   \u001b[0m | \u001b[0m18.0     \u001b[0m | \u001b[0m0.4386   \u001b[0m | \u001b[0m7.71     \u001b[0m | \u001b[0m280.4    \u001b[0m | \u001b[0m0.7963   \u001b[0m |\n",
      "| \u001b[0m108      \u001b[0m | \u001b[0m0.9755   \u001b[0m | \u001b[0m17.95    \u001b[0m | \u001b[0m0.163    \u001b[0m | \u001b[0m9.04     \u001b[0m | \u001b[0m280.0    \u001b[0m | \u001b[0m0.9      \u001b[0m |\n",
      "| \u001b[95m109      \u001b[0m | \u001b[95m0.9767   \u001b[0m | \u001b[95m1.89     \u001b[0m | \u001b[95m0.1853   \u001b[0m | \u001b[95m9.139    \u001b[0m | \u001b[95m291.0    \u001b[0m | \u001b[95m0.5569   \u001b[0m |\n",
      "| \u001b[0m110      \u001b[0m | \u001b[0m0.9736   \u001b[0m | \u001b[0m44.25    \u001b[0m | \u001b[0m0.5      \u001b[0m | \u001b[0m5.464    \u001b[0m | \u001b[0m180.8    \u001b[0m | \u001b[0m0.561    \u001b[0m |\n",
      "| \u001b[0m111      \u001b[0m | \u001b[0m0.9751   \u001b[0m | \u001b[0m4.049    \u001b[0m | \u001b[0m0.2106   \u001b[0m | \u001b[0m6.688    \u001b[0m | \u001b[0m372.4    \u001b[0m | \u001b[0m0.3376   \u001b[0m |\n",
      "| \u001b[0m112      \u001b[0m | \u001b[0m0.9727   \u001b[0m | \u001b[0m14.89    \u001b[0m | \u001b[0m0.5      \u001b[0m | \u001b[0m5.628    \u001b[0m | \u001b[0m298.7    \u001b[0m | \u001b[0m0.2604   \u001b[0m |\n",
      "| \u001b[0m113      \u001b[0m | \u001b[0m0.9751   \u001b[0m | \u001b[0m3.662    \u001b[0m | \u001b[0m0.3585   \u001b[0m | \u001b[0m9.775    \u001b[0m | \u001b[0m291.1    \u001b[0m | \u001b[0m0.2138   \u001b[0m |\n",
      "| \u001b[0m114      \u001b[0m | \u001b[0m0.9753   \u001b[0m | \u001b[0m4.076    \u001b[0m | \u001b[0m0.04412  \u001b[0m | \u001b[0m8.975    \u001b[0m | \u001b[0m372.6    \u001b[0m | \u001b[0m0.1369   \u001b[0m |\n",
      "| \u001b[0m115      \u001b[0m | \u001b[0m0.9755   \u001b[0m | \u001b[0m2.261    \u001b[0m | \u001b[0m0.3319   \u001b[0m | \u001b[0m8.783    \u001b[0m | \u001b[0m358.7    \u001b[0m | \u001b[0m0.6452   \u001b[0m |\n",
      "| \u001b[0m116      \u001b[0m | \u001b[0m0.9759   \u001b[0m | \u001b[0m1.904    \u001b[0m | \u001b[0m0.1826   \u001b[0m | \u001b[0m9.132    \u001b[0m | \u001b[0m291.1    \u001b[0m | \u001b[0m0.5604   \u001b[0m |\n"
     ]
    },
    {
     "name": "stdout",
     "output_type": "stream",
     "text": [
      "| \u001b[0m117      \u001b[0m | \u001b[0m0.9756   \u001b[0m | \u001b[0m4.435    \u001b[0m | \u001b[0m0.1745   \u001b[0m | \u001b[0m7.126    \u001b[0m | \u001b[0m372.7    \u001b[0m | \u001b[0m0.1458   \u001b[0m |\n",
      "| \u001b[0m118      \u001b[0m | \u001b[0m0.9531   \u001b[0m | \u001b[0m26.13    \u001b[0m | \u001b[0m0.00447  \u001b[0m | \u001b[0m9.288    \u001b[0m | \u001b[0m424.7    \u001b[0m | \u001b[0m0.1655   \u001b[0m |\n",
      "| \u001b[0m119      \u001b[0m | \u001b[0m0.9755   \u001b[0m | \u001b[0m4.051    \u001b[0m | \u001b[0m0.1852   \u001b[0m | \u001b[0m6.66     \u001b[0m | \u001b[0m372.8    \u001b[0m | \u001b[0m0.7373   \u001b[0m |\n",
      "| \u001b[0m120      \u001b[0m | \u001b[0m0.9752   \u001b[0m | \u001b[0m46.12    \u001b[0m | \u001b[0m0.2889   \u001b[0m | \u001b[0m8.484    \u001b[0m | \u001b[0m363.1    \u001b[0m | \u001b[0m0.1357   \u001b[0m |\n",
      "| \u001b[0m121      \u001b[0m | \u001b[0m0.9746   \u001b[0m | \u001b[0m46.07    \u001b[0m | \u001b[0m0.3548   \u001b[0m | \u001b[0m7.638    \u001b[0m | \u001b[0m494.3    \u001b[0m | \u001b[0m0.5338   \u001b[0m |\n",
      "| \u001b[95m122      \u001b[0m | \u001b[95m0.9772   \u001b[0m | \u001b[95m1.929    \u001b[0m | \u001b[95m0.2464   \u001b[0m | \u001b[95m9.697    \u001b[0m | \u001b[95m291.9    \u001b[0m | \u001b[95m0.3514   \u001b[0m |\n",
      "| \u001b[0m123      \u001b[0m | \u001b[0m0.9763   \u001b[0m | \u001b[0m4.157    \u001b[0m | \u001b[0m0.21     \u001b[0m | \u001b[0m7.541    \u001b[0m | \u001b[0m373.9    \u001b[0m | \u001b[0m0.7419   \u001b[0m |\n",
      "| \u001b[0m124      \u001b[0m | \u001b[0m0.9751   \u001b[0m | \u001b[0m2.98     \u001b[0m | \u001b[0m0.2879   \u001b[0m | \u001b[0m7.001    \u001b[0m | \u001b[0m372.8    \u001b[0m | \u001b[0m0.5096   \u001b[0m |\n",
      "| \u001b[0m125      \u001b[0m | \u001b[0m0.9737   \u001b[0m | \u001b[0m2.865    \u001b[0m | \u001b[0m0.03576  \u001b[0m | \u001b[0m8.428    \u001b[0m | \u001b[0m292.9    \u001b[0m | \u001b[0m0.8287   \u001b[0m |\n",
      "| \u001b[0m126      \u001b[0m | \u001b[0m0.9755   \u001b[0m | \u001b[0m1.004    \u001b[0m | \u001b[0m0.3062   \u001b[0m | \u001b[0m9.571    \u001b[0m | \u001b[0m291.9    \u001b[0m | \u001b[0m0.2695   \u001b[0m |\n",
      "| \u001b[0m127      \u001b[0m | \u001b[0m0.9764   \u001b[0m | \u001b[0m1.009    \u001b[0m | \u001b[0m0.1302   \u001b[0m | \u001b[0m9.188    \u001b[0m | \u001b[0m358.5    \u001b[0m | \u001b[0m0.8306   \u001b[0m |\n",
      "| \u001b[0m128      \u001b[0m | \u001b[0m0.975    \u001b[0m | \u001b[0m1.318    \u001b[0m | \u001b[0m0.4427   \u001b[0m | \u001b[0m9.433    \u001b[0m | \u001b[0m290.1    \u001b[0m | \u001b[0m0.8058   \u001b[0m |\n",
      "| \u001b[0m129      \u001b[0m | \u001b[0m0.9768   \u001b[0m | \u001b[0m2.156    \u001b[0m | \u001b[0m0.1492   \u001b[0m | \u001b[0m8.662    \u001b[0m | \u001b[0m290.0    \u001b[0m | \u001b[0m0.5376   \u001b[0m |\n",
      "| \u001b[0m130      \u001b[0m | \u001b[0m0.9583   \u001b[0m | \u001b[0m17.3     \u001b[0m | \u001b[0m0.007851 \u001b[0m | \u001b[0m9.1      \u001b[0m | \u001b[0m279.5    \u001b[0m | \u001b[0m0.3294   \u001b[0m |\n",
      "| \u001b[0m131      \u001b[0m | \u001b[0m0.9751   \u001b[0m | \u001b[0m24.77    \u001b[0m | \u001b[0m0.4361   \u001b[0m | \u001b[0m8.821    \u001b[0m | \u001b[0m340.7    \u001b[0m | \u001b[0m0.5538   \u001b[0m |\n",
      "| \u001b[0m132      \u001b[0m | \u001b[0m0.9758   \u001b[0m | \u001b[0m3.521    \u001b[0m | \u001b[0m0.06734  \u001b[0m | \u001b[0m7.891    \u001b[0m | \u001b[0m373.3    \u001b[0m | \u001b[0m0.7373   \u001b[0m |\n",
      "| \u001b[0m133      \u001b[0m | \u001b[0m0.977    \u001b[0m | \u001b[0m1.17     \u001b[0m | \u001b[0m0.1798   \u001b[0m | \u001b[0m9.703    \u001b[0m | \u001b[0m292.0    \u001b[0m | \u001b[0m0.8418   \u001b[0m |\n",
      "| \u001b[0m134      \u001b[0m | \u001b[0m0.975    \u001b[0m | \u001b[0m41.88    \u001b[0m | \u001b[0m0.1879   \u001b[0m | \u001b[0m8.423    \u001b[0m | \u001b[0m440.3    \u001b[0m | \u001b[0m0.2706   \u001b[0m |\n",
      "| \u001b[0m135      \u001b[0m | \u001b[0m0.9754   \u001b[0m | \u001b[0m1.549    \u001b[0m | \u001b[0m0.3628   \u001b[0m | \u001b[0m9.687    \u001b[0m | \u001b[0m292.8    \u001b[0m | \u001b[0m0.1098   \u001b[0m |\n",
      "| \u001b[0m136      \u001b[0m | \u001b[0m0.9755   \u001b[0m | \u001b[0m17.52    \u001b[0m | \u001b[0m0.2777   \u001b[0m | \u001b[0m9.025    \u001b[0m | \u001b[0m280.3    \u001b[0m | \u001b[0m0.8658   \u001b[0m |\n",
      "| \u001b[0m137      \u001b[0m | \u001b[0m0.9756   \u001b[0m | \u001b[0m1.316    \u001b[0m | \u001b[0m0.3404   \u001b[0m | \u001b[0m8.839    \u001b[0m | \u001b[0m291.0    \u001b[0m | \u001b[0m0.5931   \u001b[0m |\n",
      "| \u001b[0m138      \u001b[0m | \u001b[0m0.9732   \u001b[0m | \u001b[0m24.63    \u001b[0m | \u001b[0m0.3849   \u001b[0m | \u001b[0m5.293    \u001b[0m | \u001b[0m402.2    \u001b[0m | \u001b[0m0.6485   \u001b[0m |\n",
      "| \u001b[0m139      \u001b[0m | \u001b[0m0.9751   \u001b[0m | \u001b[0m3.569    \u001b[0m | \u001b[0m0.2446   \u001b[0m | \u001b[0m6.616    \u001b[0m | \u001b[0m372.7    \u001b[0m | \u001b[0m0.678    \u001b[0m |\n",
      "| \u001b[0m140      \u001b[0m | \u001b[0m0.9741   \u001b[0m | \u001b[0m10.71    \u001b[0m | \u001b[0m0.3014   \u001b[0m | \u001b[0m8.206    \u001b[0m | \u001b[0m250.1    \u001b[0m | \u001b[0m0.2072   \u001b[0m |\n",
      "| \u001b[0m141      \u001b[0m | \u001b[0m0.9753   \u001b[0m | \u001b[0m36.65    \u001b[0m | \u001b[0m0.3678   \u001b[0m | \u001b[0m9.599    \u001b[0m | \u001b[0m279.0    \u001b[0m | \u001b[0m0.7186   \u001b[0m |\n",
      "| \u001b[0m142      \u001b[0m | \u001b[0m0.9753   \u001b[0m | \u001b[0m46.51    \u001b[0m | \u001b[0m0.1935   \u001b[0m | \u001b[0m8.35     \u001b[0m | \u001b[0m362.6    \u001b[0m | \u001b[0m0.6954   \u001b[0m |\n",
      "| \u001b[0m143      \u001b[0m | \u001b[0m0.9738   \u001b[0m | \u001b[0m4.578    \u001b[0m | \u001b[0m0.3773   \u001b[0m | \u001b[0m6.887    \u001b[0m | \u001b[0m374.2    \u001b[0m | \u001b[0m0.4885   \u001b[0m |\n",
      "| \u001b[95m144      \u001b[0m | \u001b[95m0.9772   \u001b[0m | \u001b[95m1.371    \u001b[0m | \u001b[95m0.3131   \u001b[0m | \u001b[95m9.06     \u001b[0m | \u001b[95m358.4    \u001b[0m | \u001b[95m0.8527   \u001b[0m |\n",
      "| \u001b[0m145      \u001b[0m | \u001b[0m0.9739   \u001b[0m | \u001b[0m44.71    \u001b[0m | \u001b[0m0.1302   \u001b[0m | \u001b[0m6.229    \u001b[0m | \u001b[0m383.6    \u001b[0m | \u001b[0m0.3538   \u001b[0m |\n",
      "| \u001b[0m146      \u001b[0m | \u001b[0m0.9762   \u001b[0m | \u001b[0m1.143    \u001b[0m | \u001b[0m0.2003   \u001b[0m | \u001b[0m9.14     \u001b[0m | \u001b[0m289.7    \u001b[0m | \u001b[0m0.2428   \u001b[0m |\n",
      "| \u001b[0m147      \u001b[0m | \u001b[0m0.9763   \u001b[0m | \u001b[0m1.004    \u001b[0m | \u001b[0m0.2883   \u001b[0m | \u001b[0m9.929    \u001b[0m | \u001b[0m290.3    \u001b[0m | \u001b[0m0.502    \u001b[0m |\n",
      "| \u001b[0m148      \u001b[0m | \u001b[0m0.9592   \u001b[0m | \u001b[0m1.495    \u001b[0m | \u001b[0m0.004374 \u001b[0m | \u001b[0m9.848    \u001b[0m | \u001b[0m290.5    \u001b[0m | \u001b[0m0.05085  \u001b[0m |\n",
      "| \u001b[0m149      \u001b[0m | \u001b[0m0.9758   \u001b[0m | \u001b[0m45.64    \u001b[0m | \u001b[0m0.2929   \u001b[0m | \u001b[0m7.867    \u001b[0m | \u001b[0m493.9    \u001b[0m | \u001b[0m0.759    \u001b[0m |\n",
      "| \u001b[0m150      \u001b[0m | \u001b[0m0.9755   \u001b[0m | \u001b[0m1.714    \u001b[0m | \u001b[0m0.1294   \u001b[0m | \u001b[0m9.262    \u001b[0m | \u001b[0m291.9    \u001b[0m | \u001b[0m0.002713 \u001b[0m |\n",
      "| \u001b[0m151      \u001b[0m | \u001b[0m0.9753   \u001b[0m | \u001b[0m46.43    \u001b[0m | \u001b[0m0.07504  \u001b[0m | \u001b[0m8.052    \u001b[0m | \u001b[0m493.9    \u001b[0m | \u001b[0m0.1723   \u001b[0m |\n",
      "| \u001b[0m152      \u001b[0m | \u001b[0m0.9768   \u001b[0m | \u001b[0m1.03     \u001b[0m | \u001b[0m0.2844   \u001b[0m | \u001b[0m9.084    \u001b[0m | \u001b[0m290.7    \u001b[0m | \u001b[0m0.8943   \u001b[0m |\n",
      "| \u001b[0m153      \u001b[0m | \u001b[0m0.9762   \u001b[0m | \u001b[0m46.04    \u001b[0m | \u001b[0m0.3044   \u001b[0m | \u001b[0m7.604    \u001b[0m | \u001b[0m493.7    \u001b[0m | \u001b[0m0.5171   \u001b[0m |\n",
      "| \u001b[0m154      \u001b[0m | \u001b[0m0.9756   \u001b[0m | \u001b[0m1.225    \u001b[0m | \u001b[0m0.05502  \u001b[0m | \u001b[0m8.937    \u001b[0m | \u001b[0m292.6    \u001b[0m | \u001b[0m0.3496   \u001b[0m |\n",
      "| \u001b[0m155      \u001b[0m | \u001b[0m0.9664   \u001b[0m | \u001b[0m32.16    \u001b[0m | \u001b[0m0.01078  \u001b[0m | \u001b[0m9.514    \u001b[0m | \u001b[0m357.9    \u001b[0m | \u001b[0m0.1123   \u001b[0m |\n",
      "| \u001b[0m156      \u001b[0m | \u001b[0m0.9739   \u001b[0m | \u001b[0m33.32    \u001b[0m | \u001b[0m0.3724   \u001b[0m | \u001b[0m4.787    \u001b[0m | \u001b[0m302.0    \u001b[0m | \u001b[0m0.1346   \u001b[0m |\n",
      "| \u001b[0m157      \u001b[0m | \u001b[0m0.9675   \u001b[0m | \u001b[0m39.71    \u001b[0m | \u001b[0m0.07465  \u001b[0m | \u001b[0m4.947    \u001b[0m | \u001b[0m125.4    \u001b[0m | \u001b[0m0.7712   \u001b[0m |\n",
      "| \u001b[0m158      \u001b[0m | \u001b[0m0.9753   \u001b[0m | \u001b[0m32.46    \u001b[0m | \u001b[0m0.144    \u001b[0m | \u001b[0m7.753    \u001b[0m | \u001b[0m489.3    \u001b[0m | \u001b[0m0.2784   \u001b[0m |\n",
      "| \u001b[0m159      \u001b[0m | \u001b[0m0.976    \u001b[0m | \u001b[0m1.804    \u001b[0m | \u001b[0m0.3229   \u001b[0m | \u001b[0m9.51     \u001b[0m | \u001b[0m291.9    \u001b[0m | \u001b[0m0.2588   \u001b[0m |\n",
      "| \u001b[0m160      \u001b[0m | \u001b[0m0.9749   \u001b[0m | \u001b[0m3.021    \u001b[0m | \u001b[0m0.1528   \u001b[0m | \u001b[0m7.242    \u001b[0m | \u001b[0m373.3    \u001b[0m | \u001b[0m0.3656   \u001b[0m |\n",
      "| \u001b[0m161      \u001b[0m | \u001b[0m0.9743   \u001b[0m | \u001b[0m25.94    \u001b[0m | \u001b[0m0.373    \u001b[0m | \u001b[0m9.235    \u001b[0m | \u001b[0m129.8    \u001b[0m | \u001b[0m0.5406   \u001b[0m |\n",
      "| \u001b[0m162      \u001b[0m | \u001b[0m0.9758   \u001b[0m | \u001b[0m1.948    \u001b[0m | \u001b[0m0.04147  \u001b[0m | \u001b[0m9.051    \u001b[0m | \u001b[0m358.7    \u001b[0m | \u001b[0m0.08286  \u001b[0m |\n",
      "| \u001b[0m163      \u001b[0m | \u001b[0m0.9759   \u001b[0m | \u001b[0m1.725    \u001b[0m | \u001b[0m0.09583  \u001b[0m | \u001b[0m9.285    \u001b[0m | \u001b[0m358.0    \u001b[0m | \u001b[0m0.02421  \u001b[0m |\n",
      "| \u001b[0m164      \u001b[0m | \u001b[0m0.975    \u001b[0m | \u001b[0m47.98    \u001b[0m | \u001b[0m0.1007   \u001b[0m | \u001b[0m9.089    \u001b[0m | \u001b[0m291.9    \u001b[0m | \u001b[0m0.4953   \u001b[0m |\n",
      "| \u001b[0m165      \u001b[0m | \u001b[0m0.9748   \u001b[0m | \u001b[0m2.924    \u001b[0m | \u001b[0m0.03753  \u001b[0m | \u001b[0m8.591    \u001b[0m | \u001b[0m292.4    \u001b[0m | \u001b[0m0.4116   \u001b[0m |\n",
      "| \u001b[0m166      \u001b[0m | \u001b[0m0.9744   \u001b[0m | \u001b[0m1.829    \u001b[0m | \u001b[0m0.4381   \u001b[0m | \u001b[0m8.794    \u001b[0m | \u001b[0m359.1    \u001b[0m | \u001b[0m0.2696   \u001b[0m |\n",
      "| \u001b[0m167      \u001b[0m | \u001b[0m0.9749   \u001b[0m | \u001b[0m2.25     \u001b[0m | \u001b[0m0.4573   \u001b[0m | \u001b[0m9.388    \u001b[0m | \u001b[0m359.0    \u001b[0m | \u001b[0m0.8405   \u001b[0m |\n",
      "| \u001b[0m168      \u001b[0m | \u001b[0m0.9751   \u001b[0m | \u001b[0m10.92    \u001b[0m | \u001b[0m0.08283  \u001b[0m | \u001b[0m8.569    \u001b[0m | \u001b[0m250.8    \u001b[0m | \u001b[0m0.7781   \u001b[0m |\n",
      "| \u001b[0m169      \u001b[0m | \u001b[0m0.9737   \u001b[0m | \u001b[0m25.19    \u001b[0m | \u001b[0m0.3564   \u001b[0m | \u001b[0m4.173    \u001b[0m | \u001b[0m309.5    \u001b[0m | \u001b[0m0.4545   \u001b[0m |\n",
      "| \u001b[0m170      \u001b[0m | \u001b[0m0.9754   \u001b[0m | \u001b[0m4.293    \u001b[0m | \u001b[0m0.3533   \u001b[0m | \u001b[0m7.233    \u001b[0m | \u001b[0m373.8    \u001b[0m | \u001b[0m0.5742   \u001b[0m |\n",
      "| \u001b[0m171      \u001b[0m | \u001b[0m0.9754   \u001b[0m | \u001b[0m38.99    \u001b[0m | \u001b[0m0.306    \u001b[0m | \u001b[0m8.845    \u001b[0m | \u001b[0m314.9    \u001b[0m | \u001b[0m0.1409   \u001b[0m |\n",
      "| \u001b[0m172      \u001b[0m | \u001b[0m0.9754   \u001b[0m | \u001b[0m39.86    \u001b[0m | \u001b[0m0.1056   \u001b[0m | \u001b[0m7.745    \u001b[0m | \u001b[0m457.2    \u001b[0m | \u001b[0m0.1295   \u001b[0m |\n",
      "| \u001b[0m173      \u001b[0m | \u001b[0m0.9749   \u001b[0m | \u001b[0m25.29    \u001b[0m | \u001b[0m0.4033   \u001b[0m | \u001b[0m8.928    \u001b[0m | \u001b[0m340.3    \u001b[0m | \u001b[0m0.5132   \u001b[0m |\n",
      "| \u001b[0m174      \u001b[0m | \u001b[0m0.9749   \u001b[0m | \u001b[0m1.197    \u001b[0m | \u001b[0m0.4942   \u001b[0m | \u001b[0m9.132    \u001b[0m | \u001b[0m357.9    \u001b[0m | \u001b[0m0.4675   \u001b[0m |\n"
     ]
    },
    {
     "name": "stdout",
     "output_type": "stream",
     "text": [
      "| \u001b[0m175      \u001b[0m | \u001b[0m0.9736   \u001b[0m | \u001b[0m18.25    \u001b[0m | \u001b[0m0.03035  \u001b[0m | \u001b[0m9.985    \u001b[0m | \u001b[0m279.9    \u001b[0m | \u001b[0m0.4545   \u001b[0m |\n",
      "| \u001b[0m176      \u001b[0m | \u001b[0m0.971    \u001b[0m | \u001b[0m22.47    \u001b[0m | \u001b[0m0.2191   \u001b[0m | \u001b[0m3.077    \u001b[0m | \u001b[0m109.1    \u001b[0m | \u001b[0m0.5347   \u001b[0m |\n",
      "| \u001b[0m177      \u001b[0m | \u001b[0m0.9748   \u001b[0m | \u001b[0m17.78    \u001b[0m | \u001b[0m0.4574   \u001b[0m | \u001b[0m7.654    \u001b[0m | \u001b[0m281.0    \u001b[0m | \u001b[0m0.6082   \u001b[0m |\n",
      "| \u001b[0m178      \u001b[0m | \u001b[0m0.9741   \u001b[0m | \u001b[0m13.26    \u001b[0m | \u001b[0m0.4208   \u001b[0m | \u001b[0m4.439    \u001b[0m | \u001b[0m336.9    \u001b[0m | \u001b[0m0.4135   \u001b[0m |\n",
      "| \u001b[0m179      \u001b[0m | \u001b[0m0.9743   \u001b[0m | \u001b[0m2.367    \u001b[0m | \u001b[0m0.4799   \u001b[0m | \u001b[0m9.302    \u001b[0m | \u001b[0m358.2    \u001b[0m | \u001b[0m0.4284   \u001b[0m |\n",
      "| \u001b[0m180      \u001b[0m | \u001b[0m0.9734   \u001b[0m | \u001b[0m38.97    \u001b[0m | \u001b[0m0.07933  \u001b[0m | \u001b[0m9.875    \u001b[0m | \u001b[0m214.0    \u001b[0m | \u001b[0m0.7928   \u001b[0m |\n",
      "| \u001b[0m181      \u001b[0m | \u001b[0m0.9759   \u001b[0m | \u001b[0m1.962    \u001b[0m | \u001b[0m0.1515   \u001b[0m | \u001b[0m8.232    \u001b[0m | \u001b[0m289.8    \u001b[0m | \u001b[0m0.2042   \u001b[0m |\n",
      "| \u001b[0m182      \u001b[0m | \u001b[0m0.9762   \u001b[0m | \u001b[0m18.57    \u001b[0m | \u001b[0m0.2731   \u001b[0m | \u001b[0m9.166    \u001b[0m | \u001b[0m278.5    \u001b[0m | \u001b[0m0.3432   \u001b[0m |\n",
      "| \u001b[0m183      \u001b[0m | \u001b[0m0.9755   \u001b[0m | \u001b[0m46.71    \u001b[0m | \u001b[0m0.1087   \u001b[0m | \u001b[0m8.05     \u001b[0m | \u001b[0m493.8    \u001b[0m | \u001b[0m0.7028   \u001b[0m |\n",
      "| \u001b[0m184      \u001b[0m | \u001b[0m0.9746   \u001b[0m | \u001b[0m38.71    \u001b[0m | \u001b[0m0.08636  \u001b[0m | \u001b[0m8.637    \u001b[0m | \u001b[0m314.7    \u001b[0m | \u001b[0m0.07274  \u001b[0m |\n",
      "| \u001b[0m185      \u001b[0m | \u001b[0m0.9723   \u001b[0m | \u001b[0m16.99    \u001b[0m | \u001b[0m0.02579  \u001b[0m | \u001b[0m8.586    \u001b[0m | \u001b[0m280.8    \u001b[0m | \u001b[0m0.4458   \u001b[0m |\n",
      "| \u001b[0m186      \u001b[0m | \u001b[0m0.9755   \u001b[0m | \u001b[0m45.7     \u001b[0m | \u001b[0m0.3674   \u001b[0m | \u001b[0m7.876    \u001b[0m | \u001b[0m493.2    \u001b[0m | \u001b[0m0.3676   \u001b[0m |\n",
      "| \u001b[0m187      \u001b[0m | \u001b[0m0.9752   \u001b[0m | \u001b[0m2.476    \u001b[0m | \u001b[0m0.316    \u001b[0m | \u001b[0m8.218    \u001b[0m | \u001b[0m290.3    \u001b[0m | \u001b[0m0.7327   \u001b[0m |\n",
      "| \u001b[0m188      \u001b[0m | \u001b[0m0.9754   \u001b[0m | \u001b[0m46.42    \u001b[0m | \u001b[0m0.3316   \u001b[0m | \u001b[0m8.893    \u001b[0m | \u001b[0m363.5    \u001b[0m | \u001b[0m0.028    \u001b[0m |\n",
      "| \u001b[0m189      \u001b[0m | \u001b[0m0.9757   \u001b[0m | \u001b[0m2.114    \u001b[0m | \u001b[0m0.2052   \u001b[0m | \u001b[0m8.868    \u001b[0m | \u001b[0m290.4    \u001b[0m | \u001b[0m0.2005   \u001b[0m |\n",
      "| \u001b[0m190      \u001b[0m | \u001b[0m0.9755   \u001b[0m | \u001b[0m19.76    \u001b[0m | \u001b[0m0.3991   \u001b[0m | \u001b[0m9.607    \u001b[0m | \u001b[0m169.0    \u001b[0m | \u001b[0m0.4433   \u001b[0m |\n",
      "| \u001b[0m191      \u001b[0m | \u001b[0m0.9754   \u001b[0m | \u001b[0m2.184    \u001b[0m | \u001b[0m0.2735   \u001b[0m | \u001b[0m9.271    \u001b[0m | \u001b[0m292.5    \u001b[0m | \u001b[0m0.5829   \u001b[0m |\n",
      "| \u001b[0m192      \u001b[0m | \u001b[0m0.9751   \u001b[0m | \u001b[0m1.249    \u001b[0m | \u001b[0m0.2978   \u001b[0m | \u001b[0m8.269    \u001b[0m | \u001b[0m289.9    \u001b[0m | \u001b[0m0.1964   \u001b[0m |\n",
      "| \u001b[0m193      \u001b[0m | \u001b[0m0.9752   \u001b[0m | \u001b[0m46.58    \u001b[0m | \u001b[0m0.4501   \u001b[0m | \u001b[0m7.831    \u001b[0m | \u001b[0m493.7    \u001b[0m | \u001b[0m0.08902  \u001b[0m |\n",
      "| \u001b[0m194      \u001b[0m | \u001b[0m0.9751   \u001b[0m | \u001b[0m3.671    \u001b[0m | \u001b[0m0.3712   \u001b[0m | \u001b[0m8.414    \u001b[0m | \u001b[0m373.2    \u001b[0m | \u001b[0m0.6482   \u001b[0m |\n",
      "| \u001b[0m195      \u001b[0m | \u001b[0m0.9758   \u001b[0m | \u001b[0m20.45    \u001b[0m | \u001b[0m0.3183   \u001b[0m | \u001b[0m9.653    \u001b[0m | \u001b[0m168.7    \u001b[0m | \u001b[0m0.686    \u001b[0m |\n",
      "| \u001b[0m196      \u001b[0m | \u001b[0m0.9755   \u001b[0m | \u001b[0m5.022    \u001b[0m | \u001b[0m0.1017   \u001b[0m | \u001b[0m8.097    \u001b[0m | \u001b[0m372.9    \u001b[0m | \u001b[0m0.16     \u001b[0m |\n",
      "| \u001b[0m197      \u001b[0m | \u001b[0m0.976    \u001b[0m | \u001b[0m44.57    \u001b[0m | \u001b[0m0.1697   \u001b[0m | \u001b[0m8.063    \u001b[0m | \u001b[0m493.8    \u001b[0m | \u001b[0m0.4744   \u001b[0m |\n",
      "| \u001b[0m198      \u001b[0m | \u001b[0m0.975    \u001b[0m | \u001b[0m46.71    \u001b[0m | \u001b[0m0.2961   \u001b[0m | \u001b[0m8.732    \u001b[0m | \u001b[0m363.2    \u001b[0m | \u001b[0m0.5507   \u001b[0m |\n",
      "| \u001b[0m199      \u001b[0m | \u001b[0m0.9756   \u001b[0m | \u001b[0m18.67    \u001b[0m | \u001b[0m0.2441   \u001b[0m | \u001b[0m8.403    \u001b[0m | \u001b[0m279.4    \u001b[0m | \u001b[0m0.2763   \u001b[0m |\n",
      "| \u001b[0m200      \u001b[0m | \u001b[0m0.9483   \u001b[0m | \u001b[0m20.55    \u001b[0m | \u001b[0m0.009908 \u001b[0m | \u001b[0m9.205    \u001b[0m | \u001b[0m168.8    \u001b[0m | \u001b[0m0.5376   \u001b[0m |\n",
      "| \u001b[0m201      \u001b[0m | \u001b[0m0.9767   \u001b[0m | \u001b[0m1.115    \u001b[0m | \u001b[0m0.2386   \u001b[0m | \u001b[0m9.692    \u001b[0m | \u001b[0m289.4    \u001b[0m | \u001b[0m0.4628   \u001b[0m |\n",
      "| \u001b[0m202      \u001b[0m | \u001b[0m0.9748   \u001b[0m | \u001b[0m18.29    \u001b[0m | \u001b[0m0.3659   \u001b[0m | \u001b[0m8.902    \u001b[0m | \u001b[0m278.6    \u001b[0m | \u001b[0m0.4099   \u001b[0m |\n",
      "| \u001b[0m203      \u001b[0m | \u001b[0m0.975    \u001b[0m | \u001b[0m3.034    \u001b[0m | \u001b[0m0.4657   \u001b[0m | \u001b[0m6.595    \u001b[0m | \u001b[0m373.3    \u001b[0m | \u001b[0m0.5655   \u001b[0m |\n",
      "| \u001b[0m204      \u001b[0m | \u001b[0m0.9718   \u001b[0m | \u001b[0m35.42    \u001b[0m | \u001b[0m0.1217   \u001b[0m | \u001b[0m3.378    \u001b[0m | \u001b[0m230.7    \u001b[0m | \u001b[0m0.5134   \u001b[0m |\n",
      "| \u001b[0m205      \u001b[0m | \u001b[0m0.9761   \u001b[0m | \u001b[0m18.31    \u001b[0m | \u001b[0m0.3467   \u001b[0m | \u001b[0m8.708    \u001b[0m | \u001b[0m279.9    \u001b[0m | \u001b[0m0.3543   \u001b[0m |\n",
      "| \u001b[0m206      \u001b[0m | \u001b[0m0.9753   \u001b[0m | \u001b[0m39.03    \u001b[0m | \u001b[0m0.1039   \u001b[0m | \u001b[0m8.915    \u001b[0m | \u001b[0m314.3    \u001b[0m | \u001b[0m0.007035 \u001b[0m |\n",
      "| \u001b[0m207      \u001b[0m | \u001b[0m0.9751   \u001b[0m | \u001b[0m7.814    \u001b[0m | \u001b[0m0.2688   \u001b[0m | \u001b[0m9.109    \u001b[0m | \u001b[0m214.1    \u001b[0m | \u001b[0m0.4222   \u001b[0m |\n",
      "| \u001b[0m208      \u001b[0m | \u001b[0m0.9745   \u001b[0m | \u001b[0m3.365    \u001b[0m | \u001b[0m0.4018   \u001b[0m | \u001b[0m7.483    \u001b[0m | \u001b[0m372.9    \u001b[0m | \u001b[0m0.6056   \u001b[0m |\n",
      "| \u001b[0m209      \u001b[0m | \u001b[0m0.9752   \u001b[0m | \u001b[0m3.013    \u001b[0m | \u001b[0m0.03596  \u001b[0m | \u001b[0m9.896    \u001b[0m | \u001b[0m293.1    \u001b[0m | \u001b[0m0.8628   \u001b[0m |\n",
      "| \u001b[0m210      \u001b[0m | \u001b[0m0.9753   \u001b[0m | \u001b[0m45.14    \u001b[0m | \u001b[0m0.2367   \u001b[0m | \u001b[0m8.033    \u001b[0m | \u001b[0m493.7    \u001b[0m | \u001b[0m0.4524   \u001b[0m |\n",
      "| \u001b[0m211      \u001b[0m | \u001b[0m0.9744   \u001b[0m | \u001b[0m37.57    \u001b[0m | \u001b[0m0.3867   \u001b[0m | \u001b[0m5.228    \u001b[0m | \u001b[0m264.6    \u001b[0m | \u001b[0m0.01449  \u001b[0m |\n",
      "| \u001b[0m212      \u001b[0m | \u001b[0m0.9758   \u001b[0m | \u001b[0m3.459    \u001b[0m | \u001b[0m0.1322   \u001b[0m | \u001b[0m7.314    \u001b[0m | \u001b[0m373.6    \u001b[0m | \u001b[0m0.5201   \u001b[0m |\n",
      "| \u001b[0m213      \u001b[0m | \u001b[0m0.9744   \u001b[0m | \u001b[0m4.209    \u001b[0m | \u001b[0m0.4333   \u001b[0m | \u001b[0m7.683    \u001b[0m | \u001b[0m373.3    \u001b[0m | \u001b[0m0.8567   \u001b[0m |\n",
      "| \u001b[0m214      \u001b[0m | \u001b[0m0.9759   \u001b[0m | \u001b[0m1.153    \u001b[0m | \u001b[0m0.07843  \u001b[0m | \u001b[0m9.086    \u001b[0m | \u001b[0m358.2    \u001b[0m | \u001b[0m0.002101 \u001b[0m |\n",
      "| \u001b[0m215      \u001b[0m | \u001b[0m0.9749   \u001b[0m | \u001b[0m19.12    \u001b[0m | \u001b[0m0.06095  \u001b[0m | \u001b[0m9.412    \u001b[0m | \u001b[0m278.1    \u001b[0m | \u001b[0m0.3127   \u001b[0m |\n",
      "| \u001b[0m216      \u001b[0m | \u001b[0m0.9754   \u001b[0m | \u001b[0m2.232    \u001b[0m | \u001b[0m0.44     \u001b[0m | \u001b[0m8.752    \u001b[0m | \u001b[0m289.7    \u001b[0m | \u001b[0m0.2368   \u001b[0m |\n",
      "| \u001b[0m217      \u001b[0m | \u001b[0m0.9729   \u001b[0m | \u001b[0m31.01    \u001b[0m | \u001b[0m0.3495   \u001b[0m | \u001b[0m7.743    \u001b[0m | \u001b[0m85.85    \u001b[0m | \u001b[0m0.3919   \u001b[0m |\n",
      "| \u001b[0m218      \u001b[0m | \u001b[0m0.9768   \u001b[0m | \u001b[0m2.665    \u001b[0m | \u001b[0m0.1468   \u001b[0m | \u001b[0m9.805    \u001b[0m | \u001b[0m292.8    \u001b[0m | \u001b[0m0.6483   \u001b[0m |\n",
      "| \u001b[0m219      \u001b[0m | \u001b[0m0.9758   \u001b[0m | \u001b[0m19.53    \u001b[0m | \u001b[0m0.2952   \u001b[0m | \u001b[0m9.955    \u001b[0m | \u001b[0m169.1    \u001b[0m | \u001b[0m0.5678   \u001b[0m |\n",
      "| \u001b[0m220      \u001b[0m | \u001b[0m0.9757   \u001b[0m | \u001b[0m47.33    \u001b[0m | \u001b[0m0.2504   \u001b[0m | \u001b[0m9.095    \u001b[0m | \u001b[0m361.5    \u001b[0m | \u001b[0m0.2378   \u001b[0m |\n",
      "| \u001b[0m221      \u001b[0m | \u001b[0m0.9704   \u001b[0m | \u001b[0m12.44    \u001b[0m | \u001b[0m0.01858  \u001b[0m | \u001b[0m8.19     \u001b[0m | \u001b[0m297.8    \u001b[0m | \u001b[0m0.4546   \u001b[0m |\n",
      "| \u001b[0m222      \u001b[0m | \u001b[0m0.9764   \u001b[0m | \u001b[0m4.209    \u001b[0m | \u001b[0m0.1662   \u001b[0m | \u001b[0m8.612    \u001b[0m | \u001b[0m372.8    \u001b[0m | \u001b[0m0.148    \u001b[0m |\n",
      "| \u001b[0m223      \u001b[0m | \u001b[0m0.9758   \u001b[0m | \u001b[0m3.758    \u001b[0m | \u001b[0m0.1548   \u001b[0m | \u001b[0m8.307    \u001b[0m | \u001b[0m373.1    \u001b[0m | \u001b[0m0.3522   \u001b[0m |\n",
      "| \u001b[0m224      \u001b[0m | \u001b[0m0.9757   \u001b[0m | \u001b[0m19.0     \u001b[0m | \u001b[0m0.2975   \u001b[0m | \u001b[0m8.703    \u001b[0m | \u001b[0m279.0    \u001b[0m | \u001b[0m0.2361   \u001b[0m |\n",
      "| \u001b[0m225      \u001b[0m | \u001b[0m0.975    \u001b[0m | \u001b[0m4.114    \u001b[0m | \u001b[0m0.4668   \u001b[0m | \u001b[0m7.221    \u001b[0m | \u001b[0m373.2    \u001b[0m | \u001b[0m0.07997  \u001b[0m |\n",
      "| \u001b[0m226      \u001b[0m | \u001b[0m0.9754   \u001b[0m | \u001b[0m19.95    \u001b[0m | \u001b[0m0.2452   \u001b[0m | \u001b[0m9.853    \u001b[0m | \u001b[0m168.2    \u001b[0m | \u001b[0m0.1809   \u001b[0m |\n",
      "| \u001b[0m227      \u001b[0m | \u001b[0m0.9755   \u001b[0m | \u001b[0m1.121    \u001b[0m | \u001b[0m0.1197   \u001b[0m | \u001b[0m8.223    \u001b[0m | \u001b[0m290.0    \u001b[0m | \u001b[0m0.6684   \u001b[0m |\n",
      "| \u001b[95m228      \u001b[0m | \u001b[95m0.9773   \u001b[0m | \u001b[95m1.496    \u001b[0m | \u001b[95m0.2029   \u001b[0m | \u001b[95m9.285    \u001b[0m | \u001b[95m358.6    \u001b[0m | \u001b[95m0.8189   \u001b[0m |\n",
      "| \u001b[0m229      \u001b[0m | \u001b[0m0.9767   \u001b[0m | \u001b[0m3.074    \u001b[0m | \u001b[0m0.0956   \u001b[0m | \u001b[0m9.512    \u001b[0m | \u001b[0m292.2    \u001b[0m | \u001b[0m0.3364   \u001b[0m |\n",
      "| \u001b[0m230      \u001b[0m | \u001b[0m0.9741   \u001b[0m | \u001b[0m4.04     \u001b[0m | \u001b[0m0.03072  \u001b[0m | \u001b[0m7.467    \u001b[0m | \u001b[0m372.2    \u001b[0m | \u001b[0m0.02005  \u001b[0m |\n",
      "| \u001b[0m231      \u001b[0m | \u001b[0m0.9685   \u001b[0m | \u001b[0m1.399    \u001b[0m | \u001b[0m0.01169  \u001b[0m | \u001b[0m8.652    \u001b[0m | \u001b[0m290.5    \u001b[0m | \u001b[0m0.6057   \u001b[0m |\n",
      "| \u001b[0m232      \u001b[0m | \u001b[0m0.9727   \u001b[0m | \u001b[0m1.264    \u001b[0m | \u001b[0m0.1252   \u001b[0m | \u001b[0m4.584    \u001b[0m | \u001b[0m132.9    \u001b[0m | \u001b[0m0.8837   \u001b[0m |\n"
     ]
    },
    {
     "name": "stdout",
     "output_type": "stream",
     "text": [
      "| \u001b[0m233      \u001b[0m | \u001b[0m0.9739   \u001b[0m | \u001b[0m21.57    \u001b[0m | \u001b[0m0.485    \u001b[0m | \u001b[0m6.858    \u001b[0m | \u001b[0m263.1    \u001b[0m | \u001b[0m0.09545  \u001b[0m |\n",
      "| \u001b[0m234      \u001b[0m | \u001b[0m0.9766   \u001b[0m | \u001b[0m1.392    \u001b[0m | \u001b[0m0.1942   \u001b[0m | \u001b[0m8.668    \u001b[0m | \u001b[0m289.5    \u001b[0m | \u001b[0m0.08316  \u001b[0m |\n",
      "| \u001b[0m235      \u001b[0m | \u001b[0m0.9736   \u001b[0m | \u001b[0m14.7     \u001b[0m | \u001b[0m0.1374   \u001b[0m | \u001b[0m5.246    \u001b[0m | \u001b[0m133.0    \u001b[0m | \u001b[0m0.1908   \u001b[0m |\n",
      "| \u001b[0m236      \u001b[0m | \u001b[0m0.9736   \u001b[0m | \u001b[0m45.17    \u001b[0m | \u001b[0m0.3711   \u001b[0m | \u001b[0m4.168    \u001b[0m | \u001b[0m481.0    \u001b[0m | \u001b[0m0.3645   \u001b[0m |\n",
      "| \u001b[0m237      \u001b[0m | \u001b[0m0.9743   \u001b[0m | \u001b[0m48.25    \u001b[0m | \u001b[0m0.3601   \u001b[0m | \u001b[0m8.591    \u001b[0m | \u001b[0m151.1    \u001b[0m | \u001b[0m0.4667   \u001b[0m |\n",
      "| \u001b[0m238      \u001b[0m | \u001b[0m0.9766   \u001b[0m | \u001b[0m1.923    \u001b[0m | \u001b[0m0.2381   \u001b[0m | \u001b[0m8.752    \u001b[0m | \u001b[0m289.1    \u001b[0m | \u001b[0m0.7409   \u001b[0m |\n",
      "| \u001b[0m239      \u001b[0m | \u001b[0m0.9749   \u001b[0m | \u001b[0m9.467    \u001b[0m | \u001b[0m0.1918   \u001b[0m | \u001b[0m5.751    \u001b[0m | \u001b[0m393.6    \u001b[0m | \u001b[0m0.4987   \u001b[0m |\n",
      "| \u001b[0m240      \u001b[0m | \u001b[0m0.9744   \u001b[0m | \u001b[0m43.94    \u001b[0m | \u001b[0m0.4399   \u001b[0m | \u001b[0m4.718    \u001b[0m | \u001b[0m311.4    \u001b[0m | \u001b[0m0.3069   \u001b[0m |\n",
      "| \u001b[0m241      \u001b[0m | \u001b[0m0.9748   \u001b[0m | \u001b[0m2.754    \u001b[0m | \u001b[0m0.03164  \u001b[0m | \u001b[0m9.553    \u001b[0m | \u001b[0m292.7    \u001b[0m | \u001b[0m0.06394  \u001b[0m |\n",
      "| \u001b[0m242      \u001b[0m | \u001b[0m0.9751   \u001b[0m | \u001b[0m44.47    \u001b[0m | \u001b[0m0.2171   \u001b[0m | \u001b[0m7.795    \u001b[0m | \u001b[0m493.9    \u001b[0m | \u001b[0m0.06229  \u001b[0m |\n",
      "| \u001b[0m243      \u001b[0m | \u001b[0m0.9751   \u001b[0m | \u001b[0m46.53    \u001b[0m | \u001b[0m0.4943   \u001b[0m | \u001b[0m8.265    \u001b[0m | \u001b[0m494.3    \u001b[0m | \u001b[0m0.8398   \u001b[0m |\n",
      "| \u001b[0m244      \u001b[0m | \u001b[0m0.9763   \u001b[0m | \u001b[0m1.723    \u001b[0m | \u001b[0m0.3231   \u001b[0m | \u001b[0m9.725    \u001b[0m | \u001b[0m291.1    \u001b[0m | \u001b[0m0.7253   \u001b[0m |\n",
      "| \u001b[0m245      \u001b[0m | \u001b[0m0.9754   \u001b[0m | \u001b[0m39.24    \u001b[0m | \u001b[0m0.1985   \u001b[0m | \u001b[0m9.454    \u001b[0m | \u001b[0m314.8    \u001b[0m | \u001b[0m6.158e-06\u001b[0m |\n",
      "| \u001b[0m246      \u001b[0m | \u001b[0m0.9745   \u001b[0m | \u001b[0m37.31    \u001b[0m | \u001b[0m0.3929   \u001b[0m | \u001b[0m7.302    \u001b[0m | \u001b[0m431.0    \u001b[0m | \u001b[0m0.7597   \u001b[0m |\n",
      "| \u001b[0m247      \u001b[0m | \u001b[0m0.974    \u001b[0m | \u001b[0m22.88    \u001b[0m | \u001b[0m0.3526   \u001b[0m | \u001b[0m6.941    \u001b[0m | \u001b[0m104.4    \u001b[0m | \u001b[0m0.4412   \u001b[0m |\n",
      "| \u001b[0m248      \u001b[0m | \u001b[0m0.9762   \u001b[0m | \u001b[0m3.009    \u001b[0m | \u001b[0m0.1025   \u001b[0m | \u001b[0m9.308    \u001b[0m | \u001b[0m292.5    \u001b[0m | \u001b[0m0.7756   \u001b[0m |\n",
      "| \u001b[0m249      \u001b[0m | \u001b[0m0.9762   \u001b[0m | \u001b[0m1.737    \u001b[0m | \u001b[0m0.2191   \u001b[0m | \u001b[0m8.658    \u001b[0m | \u001b[0m358.7    \u001b[0m | \u001b[0m0.5806   \u001b[0m |\n",
      "=====================================================================================\n"
     ]
    }
   ],
   "source": [
    "# Catboost Maximize\n",
    "BO_cb_clf.maximize(init_points=50, n_iter=150, acq = 'poi')"
   ]
  },
  {
   "cell_type": "code",
   "execution_count": 14,
   "id": "efbb3448",
   "metadata": {},
   "outputs": [
    {
     "name": "stdout",
     "output_type": "stream",
     "text": [
      "|   iter    |  target   | colsam... |   gamma   | learni... | max_depth | min_ch... | n_esti... | reg_alpha | reg_la... | subsample |\n",
      "-------------------------------------------------------------------------------------------------------------------------------------\n",
      "| \u001b[0m1        \u001b[0m | \u001b[0m0.9708   \u001b[0m | \u001b[0m0.7884   \u001b[0m | \u001b[0m5.311    \u001b[0m | \u001b[0m0.09657  \u001b[0m | \u001b[0m3.475    \u001b[0m | \u001b[0m12.02    \u001b[0m | \u001b[0m345.4    \u001b[0m | \u001b[0m6.379    \u001b[0m | \u001b[0m5.76     \u001b[0m | \u001b[0m0.7117   \u001b[0m |\n",
      "| \u001b[0m2        \u001b[0m | \u001b[0m0.9532   \u001b[0m | \u001b[0m0.8073   \u001b[0m | \u001b[0m9.457    \u001b[0m | \u001b[0m0.03096  \u001b[0m | \u001b[0m9.048    \u001b[0m | \u001b[0m13.28    \u001b[0m | \u001b[0m73.04    \u001b[0m | \u001b[0m6.528    \u001b[0m | \u001b[0m5.522    \u001b[0m | \u001b[0m0.8793   \u001b[0m |\n",
      "| \u001b[95m3        \u001b[0m | \u001b[95m0.9748   \u001b[0m | \u001b[95m0.8451   \u001b[0m | \u001b[95m2.837    \u001b[0m | \u001b[95m0.1496   \u001b[0m | \u001b[95m6.931    \u001b[0m | \u001b[95m6.545    \u001b[0m | \u001b[95m404.9    \u001b[0m | \u001b[95m4.191    \u001b[0m | \u001b[95m1.448    \u001b[0m | \u001b[95m0.7453   \u001b[0m |\n",
      "| \u001b[0m4        \u001b[0m | \u001b[0m0.9726   \u001b[0m | \u001b[0m0.7166   \u001b[0m | \u001b[0m7.183    \u001b[0m | \u001b[0m0.1469   \u001b[0m | \u001b[0m4.391    \u001b[0m | \u001b[0m12.64    \u001b[0m | \u001b[0m305.6    \u001b[0m | \u001b[0m0.8326   \u001b[0m | \u001b[0m5.455    \u001b[0m | \u001b[0m0.7477   \u001b[0m |\n",
      "| \u001b[0m5        \u001b[0m | \u001b[0m0.9725   \u001b[0m | \u001b[0m0.903    \u001b[0m | \u001b[0m1.194    \u001b[0m | \u001b[0m0.2231   \u001b[0m | \u001b[0m9.216    \u001b[0m | \u001b[0m12.16    \u001b[0m | \u001b[0m80.59    \u001b[0m | \u001b[0m9.608    \u001b[0m | \u001b[0m6.595    \u001b[0m | \u001b[0m0.9156   \u001b[0m |\n",
      "| \u001b[0m6        \u001b[0m | \u001b[0m0.9731   \u001b[0m | \u001b[0m0.9231   \u001b[0m | \u001b[0m8.878    \u001b[0m | \u001b[0m0.06784  \u001b[0m | \u001b[0m8.439    \u001b[0m | \u001b[0m12.73    \u001b[0m | \u001b[0m423.2    \u001b[0m | \u001b[0m0.3013   \u001b[0m | \u001b[0m3.91     \u001b[0m | \u001b[0m0.8312   \u001b[0m |\n",
      "| \u001b[0m7        \u001b[0m | \u001b[0m0.9714   \u001b[0m | \u001b[0m0.8562   \u001b[0m | \u001b[0m4.934    \u001b[0m | \u001b[0m0.06608  \u001b[0m | \u001b[0m9.891    \u001b[0m | \u001b[0m1.92     \u001b[0m | \u001b[0m310.7    \u001b[0m | \u001b[0m5.812    \u001b[0m | \u001b[0m9.544    \u001b[0m | \u001b[0m0.7592   \u001b[0m |\n",
      "| \u001b[0m8        \u001b[0m | \u001b[0m0.9614   \u001b[0m | \u001b[0m0.725    \u001b[0m | \u001b[0m8.84     \u001b[0m | \u001b[0m0.008832 \u001b[0m | \u001b[0m8.569    \u001b[0m | \u001b[0m11.75    \u001b[0m | \u001b[0m442.4    \u001b[0m | \u001b[0m9.162    \u001b[0m | \u001b[0m2.745    \u001b[0m | \u001b[0m0.7709   \u001b[0m |\n",
      "| \u001b[0m9        \u001b[0m | \u001b[0m0.9704   \u001b[0m | \u001b[0m0.7932   \u001b[0m | \u001b[0m7.159    \u001b[0m | \u001b[0m0.04229  \u001b[0m | \u001b[0m7.728    \u001b[0m | \u001b[0m13.02    \u001b[0m | \u001b[0m361.8    \u001b[0m | \u001b[0m7.853    \u001b[0m | \u001b[0m3.539    \u001b[0m | \u001b[0m0.7661   \u001b[0m |\n",
      "| \u001b[0m10       \u001b[0m | \u001b[0m0.9728   \u001b[0m | \u001b[0m0.7736   \u001b[0m | \u001b[0m7.277    \u001b[0m | \u001b[0m0.033    \u001b[0m | \u001b[0m6.176    \u001b[0m | \u001b[0m7.827    \u001b[0m | \u001b[0m338.4    \u001b[0m | \u001b[0m1.071    \u001b[0m | \u001b[0m5.74     \u001b[0m | \u001b[0m0.9881   \u001b[0m |\n",
      "| \u001b[0m11       \u001b[0m | \u001b[0m0.9708   \u001b[0m | \u001b[0m0.8547   \u001b[0m | \u001b[0m5.703    \u001b[0m | \u001b[0m0.494    \u001b[0m | \u001b[0m8.83     \u001b[0m | \u001b[0m7.974    \u001b[0m | \u001b[0m86.07    \u001b[0m | \u001b[0m8.712    \u001b[0m | \u001b[0m7.134    \u001b[0m | \u001b[0m0.9196   \u001b[0m |\n",
      "| \u001b[0m12       \u001b[0m | \u001b[0m0.9731   \u001b[0m | \u001b[0m0.9471   \u001b[0m | \u001b[0m7.452    \u001b[0m | \u001b[0m0.2071   \u001b[0m | \u001b[0m6.603    \u001b[0m | \u001b[0m12.85    \u001b[0m | \u001b[0m436.5    \u001b[0m | \u001b[0m3.112    \u001b[0m | \u001b[0m1.203    \u001b[0m | \u001b[0m0.8563   \u001b[0m |\n",
      "| \u001b[0m13       \u001b[0m | \u001b[0m0.9703   \u001b[0m | \u001b[0m0.8347   \u001b[0m | \u001b[0m8.974    \u001b[0m | \u001b[0m0.2471   \u001b[0m | \u001b[0m6.531    \u001b[0m | \u001b[0m6.112    \u001b[0m | \u001b[0m402.4    \u001b[0m | \u001b[0m9.48     \u001b[0m | \u001b[0m1.309    \u001b[0m | \u001b[0m0.8983   \u001b[0m |\n",
      "| \u001b[0m14       \u001b[0m | \u001b[0m0.9739   \u001b[0m | \u001b[0m0.7491   \u001b[0m | \u001b[0m3.096    \u001b[0m | \u001b[0m0.4833   \u001b[0m | \u001b[0m6.38     \u001b[0m | \u001b[0m8.57     \u001b[0m | \u001b[0m370.0    \u001b[0m | \u001b[0m6.877    \u001b[0m | \u001b[0m0.3793   \u001b[0m | \u001b[0m0.9665   \u001b[0m |\n",
      "| \u001b[0m15       \u001b[0m | \u001b[0m0.9698   \u001b[0m | \u001b[0m0.7566   \u001b[0m | \u001b[0m7.822    \u001b[0m | \u001b[0m0.3223   \u001b[0m | \u001b[0m6.398    \u001b[0m | \u001b[0m14.01    \u001b[0m | \u001b[0m171.4    \u001b[0m | \u001b[0m8.144    \u001b[0m | \u001b[0m6.953    \u001b[0m | \u001b[0m0.7707   \u001b[0m |\n",
      "| \u001b[0m16       \u001b[0m | \u001b[0m0.9712   \u001b[0m | \u001b[0m0.986    \u001b[0m | \u001b[0m5.859    \u001b[0m | \u001b[0m0.292    \u001b[0m | \u001b[0m4.1      \u001b[0m | \u001b[0m6.953    \u001b[0m | \u001b[0m155.8    \u001b[0m | \u001b[0m6.009    \u001b[0m | \u001b[0m3.612    \u001b[0m | \u001b[0m0.7507   \u001b[0m |\n",
      "| \u001b[0m17       \u001b[0m | \u001b[0m0.9743   \u001b[0m | \u001b[0m0.8042   \u001b[0m | \u001b[0m2.153    \u001b[0m | \u001b[0m0.3975   \u001b[0m | \u001b[0m8.542    \u001b[0m | \u001b[0m3.304    \u001b[0m | \u001b[0m387.7    \u001b[0m | \u001b[0m0.5684   \u001b[0m | \u001b[0m2.332    \u001b[0m | \u001b[0m0.895    \u001b[0m |\n",
      "| \u001b[0m18       \u001b[0m | \u001b[0m0.9711   \u001b[0m | \u001b[0m0.9155   \u001b[0m | \u001b[0m4.806    \u001b[0m | \u001b[0m0.1695   \u001b[0m | \u001b[0m5.728    \u001b[0m | \u001b[0m13.02    \u001b[0m | \u001b[0m280.1    \u001b[0m | \u001b[0m8.748    \u001b[0m | \u001b[0m9.465    \u001b[0m | \u001b[0m0.9807   \u001b[0m |\n",
      "| \u001b[0m19       \u001b[0m | \u001b[0m0.9716   \u001b[0m | \u001b[0m0.8479   \u001b[0m | \u001b[0m6.009    \u001b[0m | \u001b[0m0.1044   \u001b[0m | \u001b[0m9.693    \u001b[0m | \u001b[0m14.82    \u001b[0m | \u001b[0m423.2    \u001b[0m | \u001b[0m5.384    \u001b[0m | \u001b[0m0.8445   \u001b[0m | \u001b[0m0.7942   \u001b[0m |\n",
      "| \u001b[0m20       \u001b[0m | \u001b[0m0.9728   \u001b[0m | \u001b[0m0.7318   \u001b[0m | \u001b[0m2.057    \u001b[0m | \u001b[0m0.1634   \u001b[0m | \u001b[0m6.511    \u001b[0m | \u001b[0m13.3     \u001b[0m | \u001b[0m167.5    \u001b[0m | \u001b[0m5.306    \u001b[0m | \u001b[0m8.44     \u001b[0m | \u001b[0m0.741    \u001b[0m |\n",
      "| \u001b[0m21       \u001b[0m | \u001b[0m0.9423   \u001b[0m | \u001b[0m0.8201   \u001b[0m | \u001b[0m5.689    \u001b[0m | \u001b[0m0.09383  \u001b[0m | \u001b[0m3.096    \u001b[0m | \u001b[0m9.299    \u001b[0m | \u001b[0m57.07    \u001b[0m | \u001b[0m5.864    \u001b[0m | \u001b[0m4.093    \u001b[0m | \u001b[0m0.7686   \u001b[0m |\n",
      "| \u001b[0m22       \u001b[0m | \u001b[0m0.9693   \u001b[0m | \u001b[0m0.757    \u001b[0m | \u001b[0m9.134    \u001b[0m | \u001b[0m0.2955   \u001b[0m | \u001b[0m4.198    \u001b[0m | \u001b[0m11.0     \u001b[0m | \u001b[0m157.3    \u001b[0m | \u001b[0m9.219    \u001b[0m | \u001b[0m7.216    \u001b[0m | \u001b[0m0.9031   \u001b[0m |\n",
      "| \u001b[0m23       \u001b[0m | \u001b[0m0.9696   \u001b[0m | \u001b[0m0.996    \u001b[0m | \u001b[0m5.402    \u001b[0m | \u001b[0m0.2492   \u001b[0m | \u001b[0m9.287    \u001b[0m | \u001b[0m14.46    \u001b[0m | \u001b[0m50.99    \u001b[0m | \u001b[0m8.313    \u001b[0m | \u001b[0m5.577    \u001b[0m | \u001b[0m0.9805   \u001b[0m |\n",
      "| \u001b[0m24       \u001b[0m | \u001b[0m0.9692   \u001b[0m | \u001b[0m0.9155   \u001b[0m | \u001b[0m9.581    \u001b[0m | \u001b[0m0.3798   \u001b[0m | \u001b[0m4.847    \u001b[0m | \u001b[0m2.901    \u001b[0m | \u001b[0m455.7    \u001b[0m | \u001b[0m5.166    \u001b[0m | \u001b[0m8.496    \u001b[0m | \u001b[0m0.7166   \u001b[0m |\n",
      "| \u001b[0m25       \u001b[0m | \u001b[0m0.9745   \u001b[0m | \u001b[0m0.829    \u001b[0m | \u001b[0m2.064    \u001b[0m | \u001b[0m0.4354   \u001b[0m | \u001b[0m7.858    \u001b[0m | \u001b[0m1.874    \u001b[0m | \u001b[0m326.6    \u001b[0m | \u001b[0m8.394    \u001b[0m | \u001b[0m0.3475   \u001b[0m | \u001b[0m0.8838   \u001b[0m |\n",
      "| \u001b[0m26       \u001b[0m | \u001b[0m0.9734   \u001b[0m | \u001b[0m0.9777   \u001b[0m | \u001b[0m1.523    \u001b[0m | \u001b[0m0.3642   \u001b[0m | \u001b[0m4.056    \u001b[0m | \u001b[0m12.76    \u001b[0m | \u001b[0m132.2    \u001b[0m | \u001b[0m3.917    \u001b[0m | \u001b[0m3.608    \u001b[0m | \u001b[0m0.8194   \u001b[0m |\n",
      "| \u001b[0m27       \u001b[0m | \u001b[0m0.9744   \u001b[0m | \u001b[0m0.9971   \u001b[0m | \u001b[0m1.995    \u001b[0m | \u001b[0m0.1853   \u001b[0m | \u001b[0m8.386    \u001b[0m | \u001b[0m7.237    \u001b[0m | \u001b[0m300.3    \u001b[0m | \u001b[0m7.64     \u001b[0m | \u001b[0m9.998    \u001b[0m | \u001b[0m0.9454   \u001b[0m |\n",
      "| \u001b[0m28       \u001b[0m | \u001b[0m0.9725   \u001b[0m | \u001b[0m0.8317   \u001b[0m | \u001b[0m3.426    \u001b[0m | \u001b[0m0.1687   \u001b[0m | \u001b[0m9.156    \u001b[0m | \u001b[0m11.52    \u001b[0m | \u001b[0m84.7     \u001b[0m | \u001b[0m5.267    \u001b[0m | \u001b[0m6.734    \u001b[0m | \u001b[0m0.8463   \u001b[0m |\n",
      "| \u001b[0m29       \u001b[0m | \u001b[0m0.9695   \u001b[0m | \u001b[0m0.8572   \u001b[0m | \u001b[0m8.59     \u001b[0m | \u001b[0m0.1685   \u001b[0m | \u001b[0m3.946    \u001b[0m | \u001b[0m9.536    \u001b[0m | \u001b[0m347.1    \u001b[0m | \u001b[0m9.771    \u001b[0m | \u001b[0m8.224    \u001b[0m | \u001b[0m0.9336   \u001b[0m |\n",
      "| \u001b[0m30       \u001b[0m | \u001b[0m0.9747   \u001b[0m | \u001b[0m0.9829   \u001b[0m | \u001b[0m3.993    \u001b[0m | \u001b[0m0.1518   \u001b[0m | \u001b[0m7.853    \u001b[0m | \u001b[0m8.832    \u001b[0m | \u001b[0m282.1    \u001b[0m | \u001b[0m2.235    \u001b[0m | \u001b[0m6.502    \u001b[0m | \u001b[0m0.9032   \u001b[0m |\n",
      "| \u001b[0m31       \u001b[0m | \u001b[0m0.9736   \u001b[0m | \u001b[0m0.8159   \u001b[0m | \u001b[0m2.622    \u001b[0m | \u001b[0m0.4994   \u001b[0m | \u001b[0m4.851    \u001b[0m | \u001b[0m3.307    \u001b[0m | \u001b[0m402.4    \u001b[0m | \u001b[0m4.808    \u001b[0m | \u001b[0m9.534    \u001b[0m | \u001b[0m0.8089   \u001b[0m |\n",
      "| \u001b[95m32       \u001b[0m | \u001b[95m0.9749   \u001b[0m | \u001b[95m0.8809   \u001b[0m | \u001b[95m0.105    \u001b[0m | \u001b[95m0.3843   \u001b[0m | \u001b[95m9.761    \u001b[0m | \u001b[95m10.6     \u001b[0m | \u001b[95m426.8    \u001b[0m | \u001b[95m1.039    \u001b[0m | \u001b[95m7.885    \u001b[0m | \u001b[95m0.8292   \u001b[0m |\n",
      "| \u001b[0m33       \u001b[0m | \u001b[0m0.9699   \u001b[0m | \u001b[0m0.7526   \u001b[0m | \u001b[0m9.005    \u001b[0m | \u001b[0m0.3318   \u001b[0m | \u001b[0m4.51     \u001b[0m | \u001b[0m4.741    \u001b[0m | \u001b[0m119.9    \u001b[0m | \u001b[0m6.534    \u001b[0m | \u001b[0m7.096    \u001b[0m | \u001b[0m0.7186   \u001b[0m |\n",
      "| \u001b[0m34       \u001b[0m | \u001b[0m0.9731   \u001b[0m | \u001b[0m0.9928   \u001b[0m | \u001b[0m3.025    \u001b[0m | \u001b[0m0.3288   \u001b[0m | \u001b[0m8.568    \u001b[0m | \u001b[0m13.25    \u001b[0m | \u001b[0m367.7    \u001b[0m | \u001b[0m6.636    \u001b[0m | \u001b[0m4.796    \u001b[0m | \u001b[0m0.8077   \u001b[0m |\n",
      "| \u001b[0m35       \u001b[0m | \u001b[0m0.9734   \u001b[0m | \u001b[0m0.9863   \u001b[0m | \u001b[0m6.096    \u001b[0m | \u001b[0m0.4286   \u001b[0m | \u001b[0m9.163    \u001b[0m | \u001b[0m3.509    \u001b[0m | \u001b[0m147.6    \u001b[0m | \u001b[0m0.3633   \u001b[0m | \u001b[0m1.513    \u001b[0m | \u001b[0m0.7346   \u001b[0m |\n",
      "| \u001b[0m36       \u001b[0m | \u001b[0m0.969    \u001b[0m | \u001b[0m0.9711   \u001b[0m | \u001b[0m9.801    \u001b[0m | \u001b[0m0.2554   \u001b[0m | \u001b[0m6.125    \u001b[0m | \u001b[0m10.59    \u001b[0m | \u001b[0m105.8    \u001b[0m | \u001b[0m6.992    \u001b[0m | \u001b[0m4.4      \u001b[0m | \u001b[0m0.8967   \u001b[0m |\n"
     ]
    },
    {
     "name": "stdout",
     "output_type": "stream",
     "text": [
      "| \u001b[0m37       \u001b[0m | \u001b[0m0.9722   \u001b[0m | \u001b[0m0.9391   \u001b[0m | \u001b[0m5.488    \u001b[0m | \u001b[0m0.1533   \u001b[0m | \u001b[0m5.304    \u001b[0m | \u001b[0m3.946    \u001b[0m | \u001b[0m404.4    \u001b[0m | \u001b[0m4.048    \u001b[0m | \u001b[0m7.102    \u001b[0m | \u001b[0m0.7863   \u001b[0m |\n",
      "| \u001b[0m38       \u001b[0m | \u001b[0m0.9747   \u001b[0m | \u001b[0m0.7858   \u001b[0m | \u001b[0m3.34     \u001b[0m | \u001b[0m0.2532   \u001b[0m | \u001b[0m9.453    \u001b[0m | \u001b[0m11.1     \u001b[0m | \u001b[0m170.1    \u001b[0m | \u001b[0m0.384    \u001b[0m | \u001b[0m4.428    \u001b[0m | \u001b[0m0.7869   \u001b[0m |\n",
      "| \u001b[0m39       \u001b[0m | \u001b[0m0.974    \u001b[0m | \u001b[0m0.9316   \u001b[0m | \u001b[0m4.012    \u001b[0m | \u001b[0m0.09393  \u001b[0m | \u001b[0m9.218    \u001b[0m | \u001b[0m12.33    \u001b[0m | \u001b[0m204.0    \u001b[0m | \u001b[0m2.884    \u001b[0m | \u001b[0m6.203    \u001b[0m | \u001b[0m0.9314   \u001b[0m |\n",
      "| \u001b[0m40       \u001b[0m | \u001b[0m0.9739   \u001b[0m | \u001b[0m0.9106   \u001b[0m | \u001b[0m8.793    \u001b[0m | \u001b[0m0.2943   \u001b[0m | \u001b[0m4.977    \u001b[0m | \u001b[0m9.462    \u001b[0m | \u001b[0m340.0    \u001b[0m | \u001b[0m0.7467   \u001b[0m | \u001b[0m0.9894   \u001b[0m | \u001b[0m0.8237   \u001b[0m |\n",
      "| \u001b[0m41       \u001b[0m | \u001b[0m0.9746   \u001b[0m | \u001b[0m0.8013   \u001b[0m | \u001b[0m3.453    \u001b[0m | \u001b[0m0.2471   \u001b[0m | \u001b[0m5.214    \u001b[0m | \u001b[0m3.763    \u001b[0m | \u001b[0m247.3    \u001b[0m | \u001b[0m1.906    \u001b[0m | \u001b[0m6.866    \u001b[0m | \u001b[0m0.8188   \u001b[0m |\n",
      "| \u001b[0m42       \u001b[0m | \u001b[0m0.9731   \u001b[0m | \u001b[0m0.8097   \u001b[0m | \u001b[0m5.957    \u001b[0m | \u001b[0m0.07125  \u001b[0m | \u001b[0m7.544    \u001b[0m | \u001b[0m2.638    \u001b[0m | \u001b[0m415.9    \u001b[0m | \u001b[0m4.743    \u001b[0m | \u001b[0m0.7504   \u001b[0m | \u001b[0m0.8307   \u001b[0m |\n",
      "| \u001b[0m43       \u001b[0m | \u001b[0m0.9714   \u001b[0m | \u001b[0m0.8487   \u001b[0m | \u001b[0m4.266    \u001b[0m | \u001b[0m0.05128  \u001b[0m | \u001b[0m9.56     \u001b[0m | \u001b[0m7.341    \u001b[0m | \u001b[0m461.7    \u001b[0m | \u001b[0m9.833    \u001b[0m | \u001b[0m4.185    \u001b[0m | \u001b[0m0.9853   \u001b[0m |\n",
      "| \u001b[0m44       \u001b[0m | \u001b[0m0.9723   \u001b[0m | \u001b[0m0.8184   \u001b[0m | \u001b[0m4.033    \u001b[0m | \u001b[0m0.04841  \u001b[0m | \u001b[0m8.757    \u001b[0m | \u001b[0m5.214    \u001b[0m | \u001b[0m319.9    \u001b[0m | \u001b[0m5.964    \u001b[0m | \u001b[0m4.841    \u001b[0m | \u001b[0m0.7084   \u001b[0m |\n",
      "| \u001b[0m45       \u001b[0m | \u001b[0m0.9725   \u001b[0m | \u001b[0m0.7889   \u001b[0m | \u001b[0m9.082    \u001b[0m | \u001b[0m0.2699   \u001b[0m | \u001b[0m4.022    \u001b[0m | \u001b[0m3.122    \u001b[0m | \u001b[0m232.4    \u001b[0m | \u001b[0m1.326    \u001b[0m | \u001b[0m8.072    \u001b[0m | \u001b[0m0.8316   \u001b[0m |\n",
      "| \u001b[0m46       \u001b[0m | \u001b[0m0.9701   \u001b[0m | \u001b[0m0.7606   \u001b[0m | \u001b[0m2.098    \u001b[0m | \u001b[0m0.01697  \u001b[0m | \u001b[0m7.911    \u001b[0m | \u001b[0m10.84    \u001b[0m | \u001b[0m397.6    \u001b[0m | \u001b[0m9.461    \u001b[0m | \u001b[0m4.885    \u001b[0m | \u001b[0m0.9854   \u001b[0m |\n",
      "| \u001b[0m47       \u001b[0m | \u001b[0m0.9647   \u001b[0m | \u001b[0m0.7664   \u001b[0m | \u001b[0m8.978    \u001b[0m | \u001b[0m0.04103  \u001b[0m | \u001b[0m3.016    \u001b[0m | \u001b[0m2.221    \u001b[0m | \u001b[0m289.1    \u001b[0m | \u001b[0m3.128    \u001b[0m | \u001b[0m7.697    \u001b[0m | \u001b[0m0.8256   \u001b[0m |\n",
      "| \u001b[0m48       \u001b[0m | \u001b[0m0.9401   \u001b[0m | \u001b[0m0.8659   \u001b[0m | \u001b[0m4.491    \u001b[0m | \u001b[0m0.02054  \u001b[0m | \u001b[0m4.825    \u001b[0m | \u001b[0m1.713    \u001b[0m | \u001b[0m96.25    \u001b[0m | \u001b[0m8.353    \u001b[0m | \u001b[0m7.799    \u001b[0m | \u001b[0m0.9266   \u001b[0m |\n",
      "| \u001b[95m49       \u001b[0m | \u001b[95m0.9754   \u001b[0m | \u001b[95m0.9555   \u001b[0m | \u001b[95m2.753    \u001b[0m | \u001b[95m0.1854   \u001b[0m | \u001b[95m9.363    \u001b[0m | \u001b[95m1.122    \u001b[0m | \u001b[95m188.3    \u001b[0m | \u001b[95m2.763    \u001b[0m | \u001b[95m6.042    \u001b[0m | \u001b[95m0.9445   \u001b[0m |\n",
      "| \u001b[0m50       \u001b[0m | \u001b[0m0.9702   \u001b[0m | \u001b[0m0.772    \u001b[0m | \u001b[0m9.499    \u001b[0m | \u001b[0m0.1667   \u001b[0m | \u001b[0m6.47     \u001b[0m | \u001b[0m2.112    \u001b[0m | \u001b[0m193.6    \u001b[0m | \u001b[0m3.629    \u001b[0m | \u001b[0m6.867    \u001b[0m | \u001b[0m0.7938   \u001b[0m |\n",
      "| \u001b[0m51       \u001b[0m | \u001b[0m0.9748   \u001b[0m | \u001b[0m0.9565   \u001b[0m | \u001b[0m2.713    \u001b[0m | \u001b[0m0.1854   \u001b[0m | \u001b[0m9.38     \u001b[0m | \u001b[0m1.125    \u001b[0m | \u001b[0m188.3    \u001b[0m | \u001b[0m2.756    \u001b[0m | \u001b[0m6.037    \u001b[0m | \u001b[0m0.9453   \u001b[0m |\n",
      "| \u001b[0m52       \u001b[0m | \u001b[0m0.973    \u001b[0m | \u001b[0m0.8376   \u001b[0m | \u001b[0m1.555    \u001b[0m | \u001b[0m0.4946   \u001b[0m | \u001b[0m5.338    \u001b[0m | \u001b[0m12.15    \u001b[0m | \u001b[0m132.1    \u001b[0m | \u001b[0m3.397    \u001b[0m | \u001b[0m3.299    \u001b[0m | \u001b[0m0.7798   \u001b[0m |\n",
      "| \u001b[0m53       \u001b[0m | \u001b[0m0.9737   \u001b[0m | \u001b[0m0.7293   \u001b[0m | \u001b[0m2.886    \u001b[0m | \u001b[0m0.05248  \u001b[0m | \u001b[0m6.861    \u001b[0m | \u001b[0m6.596    \u001b[0m | \u001b[0m404.1    \u001b[0m | \u001b[0m5.921    \u001b[0m | \u001b[0m0.8826   \u001b[0m | \u001b[0m0.7839   \u001b[0m |\n",
      "| \u001b[0m54       \u001b[0m | \u001b[0m0.9733   \u001b[0m | \u001b[0m0.8821   \u001b[0m | \u001b[0m2.972    \u001b[0m | \u001b[0m0.4399   \u001b[0m | \u001b[0m6.596    \u001b[0m | \u001b[0m8.991    \u001b[0m | \u001b[0m369.8    \u001b[0m | \u001b[0m7.127    \u001b[0m | \u001b[0m0.4218   \u001b[0m | \u001b[0m1.0      \u001b[0m |\n",
      "| \u001b[0m55       \u001b[0m | \u001b[0m0.973    \u001b[0m | \u001b[0m0.9416   \u001b[0m | \u001b[0m3.805    \u001b[0m | \u001b[0m0.05607  \u001b[0m | \u001b[0m9.884    \u001b[0m | \u001b[0m12.63    \u001b[0m | \u001b[0m204.0    \u001b[0m | \u001b[0m2.967    \u001b[0m | \u001b[0m6.146    \u001b[0m | \u001b[0m0.931    \u001b[0m |\n",
      "| \u001b[0m56       \u001b[0m | \u001b[0m0.9747   \u001b[0m | \u001b[0m0.787    \u001b[0m | \u001b[0m3.245    \u001b[0m | \u001b[0m0.2471   \u001b[0m | \u001b[0m9.217    \u001b[0m | \u001b[0m11.28    \u001b[0m | \u001b[0m169.9    \u001b[0m | \u001b[0m0.7551   \u001b[0m | \u001b[0m4.739    \u001b[0m | \u001b[0m0.7864   \u001b[0m |\n",
      "| \u001b[0m57       \u001b[0m | \u001b[0m0.9746   \u001b[0m | \u001b[0m0.9498   \u001b[0m | \u001b[0m2.977    \u001b[0m | \u001b[0m0.1852   \u001b[0m | \u001b[0m9.266    \u001b[0m | \u001b[0m1.097    \u001b[0m | \u001b[0m188.4    \u001b[0m | \u001b[0m2.803    \u001b[0m | \u001b[0m6.074    \u001b[0m | \u001b[0m0.9401   \u001b[0m |\n",
      "| \u001b[0m58       \u001b[0m | \u001b[0m0.9741   \u001b[0m | \u001b[0m0.8822   \u001b[0m | \u001b[0m3.973    \u001b[0m | \u001b[0m0.3147   \u001b[0m | \u001b[0m8.389    \u001b[0m | \u001b[0m8.734    \u001b[0m | \u001b[0m280.9    \u001b[0m | \u001b[0m1.225    \u001b[0m | \u001b[0m5.657    \u001b[0m | \u001b[0m0.7083   \u001b[0m |\n",
      "| \u001b[0m59       \u001b[0m | \u001b[0m0.9734   \u001b[0m | \u001b[0m0.8797   \u001b[0m | \u001b[0m3.023    \u001b[0m | \u001b[0m0.492    \u001b[0m | \u001b[0m6.218    \u001b[0m | \u001b[0m13.76    \u001b[0m | \u001b[0m167.6    \u001b[0m | \u001b[0m5.967    \u001b[0m | \u001b[0m7.818    \u001b[0m | \u001b[0m0.8979   \u001b[0m |\n",
      "| \u001b[0m60       \u001b[0m | \u001b[0m0.9723   \u001b[0m | \u001b[0m0.7276   \u001b[0m | \u001b[0m2.114    \u001b[0m | \u001b[0m0.1349   \u001b[0m | \u001b[0m9.809    \u001b[0m | \u001b[0m12.05    \u001b[0m | \u001b[0m80.0     \u001b[0m | \u001b[0m9.101    \u001b[0m | \u001b[0m6.457    \u001b[0m | \u001b[0m0.9779   \u001b[0m |\n",
      "| \u001b[0m61       \u001b[0m | \u001b[0m0.9732   \u001b[0m | \u001b[0m0.8455   \u001b[0m | \u001b[0m5.711    \u001b[0m | \u001b[0m0.3931   \u001b[0m | \u001b[0m6.693    \u001b[0m | \u001b[0m2.101    \u001b[0m | \u001b[0m416.7    \u001b[0m | \u001b[0m4.131    \u001b[0m | \u001b[0m0.6551   \u001b[0m | \u001b[0m0.8017   \u001b[0m |\n",
      "| \u001b[0m62       \u001b[0m | \u001b[0m0.9733   \u001b[0m | \u001b[0m0.8116   \u001b[0m | \u001b[0m6.308    \u001b[0m | \u001b[0m0.4588   \u001b[0m | \u001b[0m4.088    \u001b[0m | \u001b[0m12.57    \u001b[0m | \u001b[0m305.3    \u001b[0m | \u001b[0m0.1885   \u001b[0m | \u001b[0m5.751    \u001b[0m | \u001b[0m0.9279   \u001b[0m |\n",
      "| \u001b[0m63       \u001b[0m | \u001b[0m0.9752   \u001b[0m | \u001b[0m0.9243   \u001b[0m | \u001b[0m1.643    \u001b[0m | \u001b[0m0.1549   \u001b[0m | \u001b[0m7.462    \u001b[0m | \u001b[0m5.724    \u001b[0m | \u001b[0m404.5    \u001b[0m | \u001b[0m4.093    \u001b[0m | \u001b[0m0.3163   \u001b[0m | \u001b[0m0.8709   \u001b[0m |\n",
      "| \u001b[0m64       \u001b[0m | \u001b[0m0.9721   \u001b[0m | \u001b[0m0.7157   \u001b[0m | \u001b[0m8.954    \u001b[0m | \u001b[0m0.4911   \u001b[0m | \u001b[0m3.89     \u001b[0m | \u001b[0m2.364    \u001b[0m | \u001b[0m233.0    \u001b[0m | \u001b[0m1.028    \u001b[0m | \u001b[0m7.307    \u001b[0m | \u001b[0m0.8467   \u001b[0m |\n",
      "| \u001b[0m65       \u001b[0m | \u001b[0m0.9736   \u001b[0m | \u001b[0m0.9817   \u001b[0m | \u001b[0m2.808    \u001b[0m | \u001b[0m0.4872   \u001b[0m | \u001b[0m6.575    \u001b[0m | \u001b[0m4.211    \u001b[0m | \u001b[0m247.2    \u001b[0m | \u001b[0m2.651    \u001b[0m | \u001b[0m7.482    \u001b[0m | \u001b[0m0.8854   \u001b[0m |\n",
      "| \u001b[0m66       \u001b[0m | \u001b[0m0.9741   \u001b[0m | \u001b[0m0.7533   \u001b[0m | \u001b[0m2.477    \u001b[0m | \u001b[0m0.08159  \u001b[0m | \u001b[0m5.628    \u001b[0m | \u001b[0m4.041    \u001b[0m | \u001b[0m247.7    \u001b[0m | \u001b[0m3.094    \u001b[0m | \u001b[0m6.044    \u001b[0m | \u001b[0m0.7344   \u001b[0m |\n",
      "| \u001b[0m67       \u001b[0m | \u001b[0m0.9736   \u001b[0m | \u001b[0m0.735    \u001b[0m | \u001b[0m3.717    \u001b[0m | \u001b[0m0.4106   \u001b[0m | \u001b[0m9.187    \u001b[0m | \u001b[0m9.357    \u001b[0m | \u001b[0m281.4    \u001b[0m | \u001b[0m1.482    \u001b[0m | \u001b[0m5.527    \u001b[0m | \u001b[0m0.7932   \u001b[0m |\n",
      "| \u001b[0m68       \u001b[0m | \u001b[0m0.9735   \u001b[0m | \u001b[0m0.9182   \u001b[0m | \u001b[0m3.705    \u001b[0m | \u001b[0m0.4836   \u001b[0m | \u001b[0m5.558    \u001b[0m | \u001b[0m4.661    \u001b[0m | \u001b[0m248.3    \u001b[0m | \u001b[0m0.6652   \u001b[0m | \u001b[0m5.726    \u001b[0m | \u001b[0m0.7298   \u001b[0m |\n",
      "| \u001b[0m69       \u001b[0m | \u001b[0m0.9744   \u001b[0m | \u001b[0m0.9634   \u001b[0m | \u001b[0m2.736    \u001b[0m | \u001b[0m0.07564  \u001b[0m | \u001b[0m8.798    \u001b[0m | \u001b[0m8.839    \u001b[0m | \u001b[0m283.2    \u001b[0m | \u001b[0m1.952    \u001b[0m | \u001b[0m5.018    \u001b[0m | \u001b[0m0.8001   \u001b[0m |\n",
      "| \u001b[0m70       \u001b[0m | \u001b[0m0.9753   \u001b[0m | \u001b[0m0.848    \u001b[0m | \u001b[0m1.505    \u001b[0m | \u001b[0m0.2705   \u001b[0m | \u001b[0m6.879    \u001b[0m | \u001b[0m5.792    \u001b[0m | \u001b[0m405.4    \u001b[0m | \u001b[0m3.029    \u001b[0m | \u001b[0m0.6942   \u001b[0m | \u001b[0m0.9702   \u001b[0m |\n",
      "| \u001b[0m71       \u001b[0m | \u001b[0m0.9743   \u001b[0m | \u001b[0m0.8148   \u001b[0m | \u001b[0m3.244    \u001b[0m | \u001b[0m0.251    \u001b[0m | \u001b[0m5.424    \u001b[0m | \u001b[0m3.863    \u001b[0m | \u001b[0m247.4    \u001b[0m | \u001b[0m2.145    \u001b[0m | \u001b[0m6.794    \u001b[0m | \u001b[0m0.8122   \u001b[0m |\n",
      "| \u001b[0m72       \u001b[0m | \u001b[0m0.9748   \u001b[0m | \u001b[0m0.873    \u001b[0m | \u001b[0m3.49     \u001b[0m | \u001b[0m0.14     \u001b[0m | \u001b[0m9.897    \u001b[0m | \u001b[0m1.626    \u001b[0m | \u001b[0m188.2    \u001b[0m | \u001b[0m2.882    \u001b[0m | \u001b[0m5.009    \u001b[0m | \u001b[0m0.9707   \u001b[0m |\n",
      "| \u001b[0m73       \u001b[0m | \u001b[0m0.9744   \u001b[0m | \u001b[0m0.7979   \u001b[0m | \u001b[0m2.748    \u001b[0m | \u001b[0m0.1791   \u001b[0m | \u001b[0m5.673    \u001b[0m | \u001b[0m4.005    \u001b[0m | \u001b[0m247.6    \u001b[0m | \u001b[0m2.756    \u001b[0m | \u001b[0m6.438    \u001b[0m | \u001b[0m0.7755   \u001b[0m |\n"
     ]
    },
    {
     "name": "stdout",
     "output_type": "stream",
     "text": [
      "| \u001b[0m74       \u001b[0m | \u001b[0m0.9749   \u001b[0m | \u001b[0m0.9658   \u001b[0m | \u001b[0m1.716    \u001b[0m | \u001b[0m0.2157   \u001b[0m | \u001b[0m7.208    \u001b[0m | \u001b[0m6.075    \u001b[0m | \u001b[0m405.3    \u001b[0m | \u001b[0m2.532    \u001b[0m | \u001b[0m2.498    \u001b[0m | \u001b[0m0.7547   \u001b[0m |\n",
      "| \u001b[0m75       \u001b[0m | \u001b[0m0.9383   \u001b[0m | \u001b[0m0.7646   \u001b[0m | \u001b[0m2.31     \u001b[0m | \u001b[0m0.001216 \u001b[0m | \u001b[0m6.293    \u001b[0m | \u001b[0m3.762    \u001b[0m | \u001b[0m246.8    \u001b[0m | \u001b[0m2.707    \u001b[0m | \u001b[0m5.811    \u001b[0m | \u001b[0m0.9249   \u001b[0m |\n",
      "| \u001b[0m76       \u001b[0m | \u001b[0m0.9733   \u001b[0m | \u001b[0m0.7551   \u001b[0m | \u001b[0m2.109    \u001b[0m | \u001b[0m0.3882   \u001b[0m | \u001b[0m6.785    \u001b[0m | \u001b[0m14.24    \u001b[0m | \u001b[0m168.1    \u001b[0m | \u001b[0m5.187    \u001b[0m | \u001b[0m8.813    \u001b[0m | \u001b[0m0.7337   \u001b[0m |\n",
      "| \u001b[0m77       \u001b[0m | \u001b[0m0.9732   \u001b[0m | \u001b[0m0.864    \u001b[0m | \u001b[0m6.886    \u001b[0m | \u001b[0m0.06715  \u001b[0m | \u001b[0m6.487    \u001b[0m | \u001b[0m8.187    \u001b[0m | \u001b[0m338.6    \u001b[0m | \u001b[0m1.507    \u001b[0m | \u001b[0m6.243    \u001b[0m | \u001b[0m0.8767   \u001b[0m |\n",
      "| \u001b[0m78       \u001b[0m | \u001b[0m0.9709   \u001b[0m | \u001b[0m0.9026   \u001b[0m | \u001b[0m8.195    \u001b[0m | \u001b[0m0.3745   \u001b[0m | \u001b[0m6.534    \u001b[0m | \u001b[0m12.41    \u001b[0m | \u001b[0m435.5    \u001b[0m | \u001b[0m3.711    \u001b[0m | \u001b[0m1.161    \u001b[0m | \u001b[0m0.7187   \u001b[0m |\n",
      "| \u001b[0m79       \u001b[0m | \u001b[0m0.9727   \u001b[0m | \u001b[0m0.8294   \u001b[0m | \u001b[0m2.904    \u001b[0m | \u001b[0m0.4762   \u001b[0m | \u001b[0m6.766    \u001b[0m | \u001b[0m6.701    \u001b[0m | \u001b[0m404.2    \u001b[0m | \u001b[0m4.607    \u001b[0m | \u001b[0m1.143    \u001b[0m | \u001b[0m0.7345   \u001b[0m |\n",
      "| \u001b[0m80       \u001b[0m | \u001b[0m0.9743   \u001b[0m | \u001b[0m0.8797   \u001b[0m | \u001b[0m0.1582   \u001b[0m | \u001b[0m0.3919   \u001b[0m | \u001b[0m9.658    \u001b[0m | \u001b[0m10.54    \u001b[0m | \u001b[0m426.6    \u001b[0m | \u001b[0m1.019    \u001b[0m | \u001b[0m8.074    \u001b[0m | \u001b[0m0.8335   \u001b[0m |\n",
      "| \u001b[0m81       \u001b[0m | \u001b[0m0.9742   \u001b[0m | \u001b[0m0.806    \u001b[0m | \u001b[0m3.506    \u001b[0m | \u001b[0m0.3183   \u001b[0m | \u001b[0m7.579    \u001b[0m | \u001b[0m6.833    \u001b[0m | \u001b[0m405.0    \u001b[0m | \u001b[0m5.856    \u001b[0m | \u001b[0m0.5425   \u001b[0m | \u001b[0m0.9674   \u001b[0m |\n",
      "| \u001b[0m82       \u001b[0m | \u001b[0m0.9749   \u001b[0m | \u001b[0m0.962    \u001b[0m | \u001b[0m2.752    \u001b[0m | \u001b[0m0.136    \u001b[0m | \u001b[0m9.545    \u001b[0m | \u001b[0m1.654    \u001b[0m | \u001b[0m188.5    \u001b[0m | \u001b[0m1.996    \u001b[0m | \u001b[0m7.205    \u001b[0m | \u001b[0m0.868    \u001b[0m |\n",
      "| \u001b[0m83       \u001b[0m | \u001b[0m0.9746   \u001b[0m | \u001b[0m0.8362   \u001b[0m | \u001b[0m2.737    \u001b[0m | \u001b[0m0.2561   \u001b[0m | \u001b[0m6.559    \u001b[0m | \u001b[0m6.703    \u001b[0m | \u001b[0m404.8    \u001b[0m | \u001b[0m3.661    \u001b[0m | \u001b[0m3.287    \u001b[0m | \u001b[0m0.8724   \u001b[0m |\n",
      "| \u001b[0m84       \u001b[0m | \u001b[0m0.9738   \u001b[0m | \u001b[0m0.8803   \u001b[0m | \u001b[0m5.879    \u001b[0m | \u001b[0m0.178    \u001b[0m | \u001b[0m8.825    \u001b[0m | \u001b[0m3.16     \u001b[0m | \u001b[0m416.0    \u001b[0m | \u001b[0m4.817    \u001b[0m | \u001b[0m0.4661   \u001b[0m | \u001b[0m0.908    \u001b[0m |\n",
      "| \u001b[0m85       \u001b[0m | \u001b[0m0.9732   \u001b[0m | \u001b[0m0.9248   \u001b[0m | \u001b[0m8.711    \u001b[0m | \u001b[0m0.05406  \u001b[0m | \u001b[0m8.308    \u001b[0m | \u001b[0m12.1     \u001b[0m | \u001b[0m422.9    \u001b[0m | \u001b[0m0.01602  \u001b[0m | \u001b[0m4.002    \u001b[0m | \u001b[0m0.8137   \u001b[0m |\n",
      "| \u001b[0m86       \u001b[0m | \u001b[0m0.962    \u001b[0m | \u001b[0m0.8653   \u001b[0m | \u001b[0m3.897    \u001b[0m | \u001b[0m0.01044  \u001b[0m | \u001b[0m8.692    \u001b[0m | \u001b[0m7.71     \u001b[0m | \u001b[0m283.2    \u001b[0m | \u001b[0m2.689    \u001b[0m | \u001b[0m6.819    \u001b[0m | \u001b[0m0.7861   \u001b[0m |\n",
      "| \u001b[0m87       \u001b[0m | \u001b[0m0.9742   \u001b[0m | \u001b[0m0.8959   \u001b[0m | \u001b[0m3.399    \u001b[0m | \u001b[0m0.09015  \u001b[0m | \u001b[0m9.194    \u001b[0m | \u001b[0m2.286    \u001b[0m | \u001b[0m188.0    \u001b[0m | \u001b[0m3.402    \u001b[0m | \u001b[0m5.386    \u001b[0m | \u001b[0m0.741    \u001b[0m |\n",
      "| \u001b[0m88       \u001b[0m | \u001b[0m0.9735   \u001b[0m | \u001b[0m0.9156   \u001b[0m | \u001b[0m1.608    \u001b[0m | \u001b[0m0.4321   \u001b[0m | \u001b[0m4.667    \u001b[0m | \u001b[0m12.55    \u001b[0m | \u001b[0m132.2    \u001b[0m | \u001b[0m3.605    \u001b[0m | \u001b[0m3.532    \u001b[0m | \u001b[0m0.7956   \u001b[0m |\n",
      "| \u001b[0m89       \u001b[0m | \u001b[0m0.9734   \u001b[0m | \u001b[0m0.726    \u001b[0m | \u001b[0m1.479    \u001b[0m | \u001b[0m0.4257   \u001b[0m | \u001b[0m8.674    \u001b[0m | \u001b[0m3.037    \u001b[0m | \u001b[0m327.0    \u001b[0m | \u001b[0m8.652    \u001b[0m | \u001b[0m0.4619   \u001b[0m | \u001b[0m0.7007   \u001b[0m |\n",
      "| \u001b[0m90       \u001b[0m | \u001b[0m0.9742   \u001b[0m | \u001b[0m0.9356   \u001b[0m | \u001b[0m3.59     \u001b[0m | \u001b[0m0.2689   \u001b[0m | \u001b[0m4.508    \u001b[0m | \u001b[0m3.984    \u001b[0m | \u001b[0m249.2    \u001b[0m | \u001b[0m1.85     \u001b[0m | \u001b[0m6.426    \u001b[0m | \u001b[0m0.7108   \u001b[0m |\n",
      "| \u001b[0m91       \u001b[0m | \u001b[0m0.9753   \u001b[0m | \u001b[0m0.8922   \u001b[0m | \u001b[0m3.342    \u001b[0m | \u001b[0m0.1304   \u001b[0m | \u001b[0m9.614    \u001b[0m | \u001b[0m1.785    \u001b[0m | \u001b[0m188.2    \u001b[0m | \u001b[0m3.005    \u001b[0m | \u001b[0m5.287    \u001b[0m | \u001b[0m0.896    \u001b[0m |\n",
      "| \u001b[0m92       \u001b[0m | \u001b[0m0.9742   \u001b[0m | \u001b[0m0.9193   \u001b[0m | \u001b[0m5.981    \u001b[0m | \u001b[0m0.4036   \u001b[0m | \u001b[0m8.776    \u001b[0m | \u001b[0m3.143    \u001b[0m | \u001b[0m148.1    \u001b[0m | \u001b[0m0.5945   \u001b[0m | \u001b[0m1.59     \u001b[0m | \u001b[0m0.7431   \u001b[0m |\n",
      "| \u001b[0m93       \u001b[0m | \u001b[0m0.9738   \u001b[0m | \u001b[0m0.8456   \u001b[0m | \u001b[0m4.616    \u001b[0m | \u001b[0m0.2719   \u001b[0m | \u001b[0m7.706    \u001b[0m | \u001b[0m9.245    \u001b[0m | \u001b[0m281.5    \u001b[0m | \u001b[0m2.423    \u001b[0m | \u001b[0m6.55     \u001b[0m | \u001b[0m0.8307   \u001b[0m |\n",
      "| \u001b[0m94       \u001b[0m | \u001b[0m0.9376   \u001b[0m | \u001b[0m0.8619   \u001b[0m | \u001b[0m2.857    \u001b[0m | \u001b[0m0.00543  \u001b[0m | \u001b[0m5.649    \u001b[0m | \u001b[0m12.38    \u001b[0m | \u001b[0m167.2    \u001b[0m | \u001b[0m5.601    \u001b[0m | \u001b[0m7.599    \u001b[0m | \u001b[0m0.9414   \u001b[0m |\n",
      "| \u001b[0m95       \u001b[0m | \u001b[0m0.973    \u001b[0m | \u001b[0m0.9726   \u001b[0m | \u001b[0m7.017    \u001b[0m | \u001b[0m0.1086   \u001b[0m | \u001b[0m6.646    \u001b[0m | \u001b[0m13.11    \u001b[0m | \u001b[0m437.1    \u001b[0m | \u001b[0m2.764    \u001b[0m | \u001b[0m1.228    \u001b[0m | \u001b[0m0.9368   \u001b[0m |\n",
      "| \u001b[0m96       \u001b[0m | \u001b[0m0.9742   \u001b[0m | \u001b[0m0.8276   \u001b[0m | \u001b[0m5.294    \u001b[0m | \u001b[0m0.3124   \u001b[0m | \u001b[0m9.811    \u001b[0m | \u001b[0m3.188    \u001b[0m | \u001b[0m147.1    \u001b[0m | \u001b[0m0.9766   \u001b[0m | \u001b[0m2.786    \u001b[0m | \u001b[0m0.8767   \u001b[0m |\n",
      "| \u001b[0m97       \u001b[0m | \u001b[0m0.9745   \u001b[0m | \u001b[0m0.8597   \u001b[0m | \u001b[0m2.556    \u001b[0m | \u001b[0m0.2288   \u001b[0m | \u001b[0m6.74     \u001b[0m | \u001b[0m6.55     \u001b[0m | \u001b[0m404.9    \u001b[0m | \u001b[0m3.553    \u001b[0m | \u001b[0m2.8      \u001b[0m | \u001b[0m0.8351   \u001b[0m |\n",
      "| \u001b[0m98       \u001b[0m | \u001b[0m0.9748   \u001b[0m | \u001b[0m0.9513   \u001b[0m | \u001b[0m2.949    \u001b[0m | \u001b[0m0.1401   \u001b[0m | \u001b[0m8.682    \u001b[0m | \u001b[0m9.021    \u001b[0m | \u001b[0m282.7    \u001b[0m | \u001b[0m1.825    \u001b[0m | \u001b[0m5.106    \u001b[0m | \u001b[0m0.8111   \u001b[0m |\n",
      "| \u001b[0m99       \u001b[0m | \u001b[0m0.9753   \u001b[0m | \u001b[0m0.9965   \u001b[0m | \u001b[0m1.949    \u001b[0m | \u001b[0m0.2825   \u001b[0m | \u001b[0m7.558    \u001b[0m | \u001b[0m7.531    \u001b[0m | \u001b[0m405.4    \u001b[0m | \u001b[0m3.828    \u001b[0m | \u001b[0m3.53     \u001b[0m | \u001b[0m0.9598   \u001b[0m |\n",
      "| \u001b[0m100      \u001b[0m | \u001b[0m0.975    \u001b[0m | \u001b[0m0.8673   \u001b[0m | \u001b[0m2.94     \u001b[0m | \u001b[0m0.2207   \u001b[0m | \u001b[0m9.355    \u001b[0m | \u001b[0m10.55    \u001b[0m | \u001b[0m282.9    \u001b[0m | \u001b[0m1.903    \u001b[0m | \u001b[0m4.898    \u001b[0m | \u001b[0m0.8809   \u001b[0m |\n",
      "| \u001b[0m101      \u001b[0m | \u001b[0m0.9742   \u001b[0m | \u001b[0m0.8685   \u001b[0m | \u001b[0m3.42     \u001b[0m | \u001b[0m0.3911   \u001b[0m | \u001b[0m9.109    \u001b[0m | \u001b[0m11.5     \u001b[0m | \u001b[0m282.9    \u001b[0m | \u001b[0m0.2389   \u001b[0m | \u001b[0m4.177    \u001b[0m | \u001b[0m0.8472   \u001b[0m |\n",
      "| \u001b[0m102      \u001b[0m | \u001b[0m0.973    \u001b[0m | \u001b[0m0.9886   \u001b[0m | \u001b[0m3.236    \u001b[0m | \u001b[0m0.06045  \u001b[0m | \u001b[0m4.934    \u001b[0m | \u001b[0m5.501    \u001b[0m | \u001b[0m249.0    \u001b[0m | \u001b[0m3.161    \u001b[0m | \u001b[0m6.892    \u001b[0m | \u001b[0m0.8395   \u001b[0m |\n",
      "| \u001b[0m103      \u001b[0m | \u001b[0m0.9738   \u001b[0m | \u001b[0m0.8228   \u001b[0m | \u001b[0m3.79     \u001b[0m | \u001b[0m0.1768   \u001b[0m | \u001b[0m7.208    \u001b[0m | \u001b[0m3.903    \u001b[0m | \u001b[0m248.0    \u001b[0m | \u001b[0m3.28     \u001b[0m | \u001b[0m8.686    \u001b[0m | \u001b[0m0.7391   \u001b[0m |\n",
      "| \u001b[0m104      \u001b[0m | \u001b[0m0.973    \u001b[0m | \u001b[0m0.8245   \u001b[0m | \u001b[0m4.81     \u001b[0m | \u001b[0m0.4641   \u001b[0m | \u001b[0m8.194    \u001b[0m | \u001b[0m7.602    \u001b[0m | \u001b[0m280.8    \u001b[0m | \u001b[0m2.661    \u001b[0m | \u001b[0m5.252    \u001b[0m | \u001b[0m0.7041   \u001b[0m |\n",
      "| \u001b[0m105      \u001b[0m | \u001b[0m0.9727   \u001b[0m | \u001b[0m0.8416   \u001b[0m | \u001b[0m2.942    \u001b[0m | \u001b[0m0.4247   \u001b[0m | \u001b[0m6.141    \u001b[0m | \u001b[0m14.37    \u001b[0m | \u001b[0m167.8    \u001b[0m | \u001b[0m6.638    \u001b[0m | \u001b[0m7.39     \u001b[0m | \u001b[0m0.7259   \u001b[0m |\n",
      "| \u001b[0m106      \u001b[0m | \u001b[0m0.975    \u001b[0m | \u001b[0m0.7914   \u001b[0m | \u001b[0m2.75     \u001b[0m | \u001b[0m0.1837   \u001b[0m | \u001b[0m5.535    \u001b[0m | \u001b[0m4.069    \u001b[0m | \u001b[0m247.8    \u001b[0m | \u001b[0m2.875    \u001b[0m | \u001b[0m6.439    \u001b[0m | \u001b[0m0.7326   \u001b[0m |\n",
      "| \u001b[0m107      \u001b[0m | \u001b[0m0.975    \u001b[0m | \u001b[0m0.924    \u001b[0m | \u001b[0m1.2      \u001b[0m | \u001b[0m0.0388   \u001b[0m | \u001b[0m9.058    \u001b[0m | \u001b[0m10.75    \u001b[0m | \u001b[0m427.6    \u001b[0m | \u001b[0m0.09098  \u001b[0m | \u001b[0m7.829    \u001b[0m | \u001b[0m0.7653   \u001b[0m |\n",
      "| \u001b[0m108      \u001b[0m | \u001b[0m0.9715   \u001b[0m | \u001b[0m0.8965   \u001b[0m | \u001b[0m7.452    \u001b[0m | \u001b[0m0.169    \u001b[0m | \u001b[0m3.12     \u001b[0m | \u001b[0m13.0     \u001b[0m | \u001b[0m305.0    \u001b[0m | \u001b[0m0.04601  \u001b[0m | \u001b[0m5.92     \u001b[0m | \u001b[0m0.9492   \u001b[0m |\n",
      "| \u001b[0m109      \u001b[0m | \u001b[0m0.9734   \u001b[0m | \u001b[0m0.799    \u001b[0m | \u001b[0m4.177    \u001b[0m | \u001b[0m0.1358   \u001b[0m | \u001b[0m7.282    \u001b[0m | \u001b[0m10.33    \u001b[0m | \u001b[0m282.1    \u001b[0m | \u001b[0m2.124    \u001b[0m | \u001b[0m6.305    \u001b[0m | \u001b[0m0.7179   \u001b[0m |\n",
      "| \u001b[0m110      \u001b[0m | \u001b[0m0.9724   \u001b[0m | \u001b[0m0.9784   \u001b[0m | \u001b[0m6.922    \u001b[0m | \u001b[0m0.4323   \u001b[0m | \u001b[0m9.147    \u001b[0m | \u001b[0m3.318    \u001b[0m | \u001b[0m416.5    \u001b[0m | \u001b[0m4.816    \u001b[0m | \u001b[0m0.2175   \u001b[0m | \u001b[0m0.7742   \u001b[0m |\n"
     ]
    },
    {
     "name": "stdout",
     "output_type": "stream",
     "text": [
      "| \u001b[0m111      \u001b[0m | \u001b[0m0.9753   \u001b[0m | \u001b[0m0.9079   \u001b[0m | \u001b[0m1.679    \u001b[0m | \u001b[0m0.1713   \u001b[0m | \u001b[0m7.342    \u001b[0m | \u001b[0m5.778    \u001b[0m | \u001b[0m404.7    \u001b[0m | \u001b[0m3.917    \u001b[0m | \u001b[0m0.4521   \u001b[0m | \u001b[0m0.8816   \u001b[0m |\n",
      "| \u001b[95m112      \u001b[0m | \u001b[95m0.9758   \u001b[0m | \u001b[95m0.7807   \u001b[0m | \u001b[95m1.099    \u001b[0m | \u001b[95m0.206    \u001b[0m | \u001b[95m7.783    \u001b[0m | \u001b[95m5.639    \u001b[0m | \u001b[95m404.8    \u001b[0m | \u001b[95m3.448    \u001b[0m | \u001b[95m2.583    \u001b[0m | \u001b[95m0.9521   \u001b[0m |\n",
      "| \u001b[0m113      \u001b[0m | \u001b[0m0.9739   \u001b[0m | \u001b[0m0.8499   \u001b[0m | \u001b[0m6.035    \u001b[0m | \u001b[0m0.3013   \u001b[0m | \u001b[0m9.178    \u001b[0m | \u001b[0m3.151    \u001b[0m | \u001b[0m415.7    \u001b[0m | \u001b[0m3.853    \u001b[0m | \u001b[0m0.3479   \u001b[0m | \u001b[0m0.8482   \u001b[0m |\n",
      "| \u001b[0m114      \u001b[0m | \u001b[0m0.9733   \u001b[0m | \u001b[0m0.9082   \u001b[0m | \u001b[0m7.132    \u001b[0m | \u001b[0m0.2147   \u001b[0m | \u001b[0m6.14     \u001b[0m | \u001b[0m13.16    \u001b[0m | \u001b[0m436.3    \u001b[0m | \u001b[0m2.305    \u001b[0m | \u001b[0m1.004    \u001b[0m | \u001b[0m0.9025   \u001b[0m |\n",
      "| \u001b[0m115      \u001b[0m | \u001b[0m0.9752   \u001b[0m | \u001b[0m0.9713   \u001b[0m | \u001b[0m0.9514   \u001b[0m | \u001b[0m0.08108  \u001b[0m | \u001b[0m8.246    \u001b[0m | \u001b[0m4.491    \u001b[0m | \u001b[0m403.7    \u001b[0m | \u001b[0m4.761    \u001b[0m | \u001b[0m1.767    \u001b[0m | \u001b[0m0.9489   \u001b[0m |\n",
      "| \u001b[0m116      \u001b[0m | \u001b[0m0.9749   \u001b[0m | \u001b[0m0.8314   \u001b[0m | \u001b[0m0.5438   \u001b[0m | \u001b[0m0.141    \u001b[0m | \u001b[0m6.781    \u001b[0m | \u001b[0m6.527    \u001b[0m | \u001b[0m406.2    \u001b[0m | \u001b[0m4.344    \u001b[0m | \u001b[0m3.388    \u001b[0m | \u001b[0m0.771    \u001b[0m |\n",
      "| \u001b[0m117      \u001b[0m | \u001b[0m0.9742   \u001b[0m | \u001b[0m0.9411   \u001b[0m | \u001b[0m2.088    \u001b[0m | \u001b[0m0.3671   \u001b[0m | \u001b[0m8.752    \u001b[0m | \u001b[0m7.546    \u001b[0m | \u001b[0m298.5    \u001b[0m | \u001b[0m6.723    \u001b[0m | \u001b[0m9.699    \u001b[0m | \u001b[0m0.902    \u001b[0m |\n",
      "| \u001b[0m118      \u001b[0m | \u001b[0m0.9737   \u001b[0m | \u001b[0m0.8439   \u001b[0m | \u001b[0m3.225    \u001b[0m | \u001b[0m0.4266   \u001b[0m | \u001b[0m4.945    \u001b[0m | \u001b[0m3.443    \u001b[0m | \u001b[0m402.8    \u001b[0m | \u001b[0m4.643    \u001b[0m | \u001b[0m9.019    \u001b[0m | \u001b[0m0.8029   \u001b[0m |\n",
      "| \u001b[0m119      \u001b[0m | \u001b[0m0.9729   \u001b[0m | \u001b[0m0.9394   \u001b[0m | \u001b[0m3.372    \u001b[0m | \u001b[0m0.426    \u001b[0m | \u001b[0m9.158    \u001b[0m | \u001b[0m9.978    \u001b[0m | \u001b[0m282.4    \u001b[0m | \u001b[0m2.399    \u001b[0m | \u001b[0m4.324    \u001b[0m | \u001b[0m0.7621   \u001b[0m |\n"
     ]
    },
    {
     "name": "stderr",
     "output_type": "stream",
     "text": [
      "E:\\Anaconda\\lib\\site-packages\\joblib\\externals\\loky\\process_executor.py:702: UserWarning: A worker stopped while some jobs were given to the executor. This can be caused by a too short worker timeout or by a memory leak.\n",
      "  warnings.warn(\n"
     ]
    },
    {
     "name": "stdout",
     "output_type": "stream",
     "text": [
      "| \u001b[0m120      \u001b[0m | \u001b[0m0.9749   \u001b[0m | \u001b[0m0.9627   \u001b[0m | \u001b[0m0.1561   \u001b[0m | \u001b[0m0.1064   \u001b[0m | \u001b[0m7.044    \u001b[0m | \u001b[0m6.021    \u001b[0m | \u001b[0m407.1    \u001b[0m | \u001b[0m3.32     \u001b[0m | \u001b[0m3.376    \u001b[0m | \u001b[0m0.8046   \u001b[0m |\n",
      "| \u001b[0m121      \u001b[0m | \u001b[0m0.9751   \u001b[0m | \u001b[0m0.7445   \u001b[0m | \u001b[0m1.987    \u001b[0m | \u001b[0m0.2922   \u001b[0m | \u001b[0m7.19     \u001b[0m | \u001b[0m5.127    \u001b[0m | \u001b[0m404.8    \u001b[0m | \u001b[0m2.339    \u001b[0m | \u001b[0m2.404    \u001b[0m | \u001b[0m0.9908   \u001b[0m |\n",
      "| \u001b[0m122      \u001b[0m | \u001b[0m0.9737   \u001b[0m | \u001b[0m0.7211   \u001b[0m | \u001b[0m6.834    \u001b[0m | \u001b[0m0.332    \u001b[0m | \u001b[0m5.87     \u001b[0m | \u001b[0m12.09    \u001b[0m | \u001b[0m436.0    \u001b[0m | \u001b[0m2.593    \u001b[0m | \u001b[0m0.7125   \u001b[0m | \u001b[0m0.8883   \u001b[0m |\n",
      "| \u001b[0m123      \u001b[0m | \u001b[0m0.9753   \u001b[0m | \u001b[0m0.7979   \u001b[0m | \u001b[0m3.57     \u001b[0m | \u001b[0m0.1006   \u001b[0m | \u001b[0m7.864    \u001b[0m | \u001b[0m6.491    \u001b[0m | \u001b[0m403.6    \u001b[0m | \u001b[0m2.944    \u001b[0m | \u001b[0m3.009    \u001b[0m | \u001b[0m0.9265   \u001b[0m |\n",
      "| \u001b[0m124      \u001b[0m | \u001b[0m0.9752   \u001b[0m | \u001b[0m0.876    \u001b[0m | \u001b[0m2.285    \u001b[0m | \u001b[0m0.1163   \u001b[0m | \u001b[0m7.165    \u001b[0m | \u001b[0m6.86     \u001b[0m | \u001b[0m406.9    \u001b[0m | \u001b[0m4.04     \u001b[0m | \u001b[0m4.754    \u001b[0m | \u001b[0m0.8956   \u001b[0m |\n",
      "| \u001b[0m125      \u001b[0m | \u001b[0m0.9736   \u001b[0m | \u001b[0m0.9375   \u001b[0m | \u001b[0m2.07     \u001b[0m | \u001b[0m0.02305  \u001b[0m | \u001b[0m6.6      \u001b[0m | \u001b[0m7.151    \u001b[0m | \u001b[0m407.6    \u001b[0m | \u001b[0m4.469    \u001b[0m | \u001b[0m4.219    \u001b[0m | \u001b[0m0.9108   \u001b[0m |\n",
      "| \u001b[0m126      \u001b[0m | \u001b[0m0.9747   \u001b[0m | \u001b[0m0.7474   \u001b[0m | \u001b[0m3.587    \u001b[0m | \u001b[0m0.2357   \u001b[0m | \u001b[0m8.849    \u001b[0m | \u001b[0m9.857    \u001b[0m | \u001b[0m169.4    \u001b[0m | \u001b[0m0.6686   \u001b[0m | \u001b[0m4.447    \u001b[0m | \u001b[0m0.7724   \u001b[0m |\n",
      "| \u001b[0m127      \u001b[0m | \u001b[0m0.9727   \u001b[0m | \u001b[0m0.9512   \u001b[0m | \u001b[0m1.578    \u001b[0m | \u001b[0m0.4849   \u001b[0m | \u001b[0m6.713    \u001b[0m | \u001b[0m6.085    \u001b[0m | \u001b[0m403.2    \u001b[0m | \u001b[0m3.721    \u001b[0m | \u001b[0m3.352    \u001b[0m | \u001b[0m0.7039   \u001b[0m |\n",
      "| \u001b[0m128      \u001b[0m | \u001b[0m0.9747   \u001b[0m | \u001b[0m0.8695   \u001b[0m | \u001b[0m1.221    \u001b[0m | \u001b[0m0.0211   \u001b[0m | \u001b[0m7.134    \u001b[0m | \u001b[0m7.026    \u001b[0m | \u001b[0m404.5    \u001b[0m | \u001b[0m1.815    \u001b[0m | \u001b[0m1.341    \u001b[0m | \u001b[0m0.8569   \u001b[0m |\n",
      "| \u001b[0m129      \u001b[0m | \u001b[0m0.9748   \u001b[0m | \u001b[0m0.9537   \u001b[0m | \u001b[0m2.821    \u001b[0m | \u001b[0m0.1851   \u001b[0m | \u001b[0m9.334    \u001b[0m | \u001b[0m1.119    \u001b[0m | \u001b[0m188.3    \u001b[0m | \u001b[0m2.775    \u001b[0m | \u001b[0m6.051    \u001b[0m | \u001b[0m0.9429   \u001b[0m |\n",
      "| \u001b[0m130      \u001b[0m | \u001b[0m0.9757   \u001b[0m | \u001b[0m0.9324   \u001b[0m | \u001b[0m0.1512   \u001b[0m | \u001b[0m0.08137  \u001b[0m | \u001b[0m7.597    \u001b[0m | \u001b[0m5.376    \u001b[0m | \u001b[0m406.2    \u001b[0m | \u001b[0m5.06     \u001b[0m | \u001b[0m2.949    \u001b[0m | \u001b[0m0.8711   \u001b[0m |\n",
      "| \u001b[0m131      \u001b[0m | \u001b[0m0.9734   \u001b[0m | \u001b[0m0.7324   \u001b[0m | \u001b[0m2.835    \u001b[0m | \u001b[0m0.4428   \u001b[0m | \u001b[0m8.579    \u001b[0m | \u001b[0m7.413    \u001b[0m | \u001b[0m405.1    \u001b[0m | \u001b[0m4.013    \u001b[0m | \u001b[0m3.229    \u001b[0m | \u001b[0m0.8832   \u001b[0m |\n",
      "| \u001b[0m132      \u001b[0m | \u001b[0m0.9729   \u001b[0m | \u001b[0m0.8764   \u001b[0m | \u001b[0m3.026    \u001b[0m | \u001b[0m0.04245  \u001b[0m | \u001b[0m4.665    \u001b[0m | \u001b[0m9.121    \u001b[0m | \u001b[0m390.4    \u001b[0m | \u001b[0m3.455    \u001b[0m | \u001b[0m9.641    \u001b[0m | \u001b[0m0.8184   \u001b[0m |\n",
      "| \u001b[0m133      \u001b[0m | \u001b[0m0.9732   \u001b[0m | \u001b[0m0.8557   \u001b[0m | \u001b[0m4.758    \u001b[0m | \u001b[0m0.4496   \u001b[0m | \u001b[0m9.663    \u001b[0m | \u001b[0m8.786    \u001b[0m | \u001b[0m280.5    \u001b[0m | \u001b[0m1.359    \u001b[0m | \u001b[0m5.965    \u001b[0m | \u001b[0m0.7865   \u001b[0m |\n",
      "| \u001b[0m134      \u001b[0m | \u001b[0m0.9746   \u001b[0m | \u001b[0m0.7321   \u001b[0m | \u001b[0m3.808    \u001b[0m | \u001b[0m0.4167   \u001b[0m | \u001b[0m9.569    \u001b[0m | \u001b[0m3.791    \u001b[0m | \u001b[0m187.4    \u001b[0m | \u001b[0m3.248    \u001b[0m | \u001b[0m5.138    \u001b[0m | \u001b[0m0.8282   \u001b[0m |\n",
      "| \u001b[0m135      \u001b[0m | \u001b[0m0.973    \u001b[0m | \u001b[0m0.7338   \u001b[0m | \u001b[0m7.864    \u001b[0m | \u001b[0m0.2936   \u001b[0m | \u001b[0m8.008    \u001b[0m | \u001b[0m12.39    \u001b[0m | \u001b[0m422.2    \u001b[0m | \u001b[0m0.7922   \u001b[0m | \u001b[0m3.973    \u001b[0m | \u001b[0m0.7923   \u001b[0m |\n",
      "| \u001b[0m136      \u001b[0m | \u001b[0m0.974    \u001b[0m | \u001b[0m0.9992   \u001b[0m | \u001b[0m4.766    \u001b[0m | \u001b[0m0.3837   \u001b[0m | \u001b[0m5.965    \u001b[0m | \u001b[0m10.35    \u001b[0m | \u001b[0m464.9    \u001b[0m | \u001b[0m0.3202   \u001b[0m | \u001b[0m7.999    \u001b[0m | \u001b[0m0.8708   \u001b[0m |\n",
      "| \u001b[0m137      \u001b[0m | \u001b[0m0.9733   \u001b[0m | \u001b[0m0.7082   \u001b[0m | \u001b[0m3.039    \u001b[0m | \u001b[0m0.4789   \u001b[0m | \u001b[0m6.347    \u001b[0m | \u001b[0m6.551    \u001b[0m | \u001b[0m403.8    \u001b[0m | \u001b[0m6.301    \u001b[0m | \u001b[0m1.457    \u001b[0m | \u001b[0m0.9197   \u001b[0m |\n",
      "| \u001b[0m138      \u001b[0m | \u001b[0m0.9745   \u001b[0m | \u001b[0m0.7824   \u001b[0m | \u001b[0m5.796    \u001b[0m | \u001b[0m0.17     \u001b[0m | \u001b[0m8.801    \u001b[0m | \u001b[0m3.227    \u001b[0m | \u001b[0m147.2    \u001b[0m | \u001b[0m1.229    \u001b[0m | \u001b[0m1.342    \u001b[0m | \u001b[0m0.9639   \u001b[0m |\n",
      "| \u001b[0m139      \u001b[0m | \u001b[0m0.9731   \u001b[0m | \u001b[0m0.8359   \u001b[0m | \u001b[0m4.302    \u001b[0m | \u001b[0m0.3885   \u001b[0m | \u001b[0m9.888    \u001b[0m | \u001b[0m8.631    \u001b[0m | \u001b[0m447.1    \u001b[0m | \u001b[0m6.0      \u001b[0m | \u001b[0m6.657    \u001b[0m | \u001b[0m0.8411   \u001b[0m |\n",
      "| \u001b[0m140      \u001b[0m | \u001b[0m0.9728   \u001b[0m | \u001b[0m0.7429   \u001b[0m | \u001b[0m2.972    \u001b[0m | \u001b[0m0.3274   \u001b[0m | \u001b[0m6.037    \u001b[0m | \u001b[0m10.99    \u001b[0m | \u001b[0m83.76    \u001b[0m | \u001b[0m5.906    \u001b[0m | \u001b[0m3.979    \u001b[0m | \u001b[0m0.7964   \u001b[0m |\n",
      "| \u001b[0m141      \u001b[0m | \u001b[0m0.974    \u001b[0m | \u001b[0m0.7548   \u001b[0m | \u001b[0m2.187    \u001b[0m | \u001b[0m0.1512   \u001b[0m | \u001b[0m8.265    \u001b[0m | \u001b[0m2.472    \u001b[0m | \u001b[0m326.4    \u001b[0m | \u001b[0m9.466    \u001b[0m | \u001b[0m1.248    \u001b[0m | \u001b[0m0.8571   \u001b[0m |\n",
      "| \u001b[0m142      \u001b[0m | \u001b[0m0.9745   \u001b[0m | \u001b[0m0.7026   \u001b[0m | \u001b[0m2.213    \u001b[0m | \u001b[0m0.09107  \u001b[0m | \u001b[0m9.776    \u001b[0m | \u001b[0m11.04    \u001b[0m | \u001b[0m170.2    \u001b[0m | \u001b[0m1.707    \u001b[0m | \u001b[0m3.825    \u001b[0m | \u001b[0m0.7845   \u001b[0m |\n",
      "| \u001b[0m143      \u001b[0m | \u001b[0m0.966    \u001b[0m | \u001b[0m0.9874   \u001b[0m | \u001b[0m1.899    \u001b[0m | \u001b[0m0.01062  \u001b[0m | \u001b[0m8.468    \u001b[0m | \u001b[0m7.204    \u001b[0m | \u001b[0m405.5    \u001b[0m | \u001b[0m4.822    \u001b[0m | \u001b[0m3.702    \u001b[0m | \u001b[0m0.9485   \u001b[0m |\n",
      "| \u001b[0m144      \u001b[0m | \u001b[0m0.9745   \u001b[0m | \u001b[0m0.8373   \u001b[0m | \u001b[0m2.735    \u001b[0m | \u001b[0m0.3227   \u001b[0m | \u001b[0m8.177    \u001b[0m | \u001b[0m6.123    \u001b[0m | \u001b[0m375.3    \u001b[0m | \u001b[0m0.5648   \u001b[0m | \u001b[0m6.567    \u001b[0m | \u001b[0m0.7468   \u001b[0m |\n",
      "| \u001b[0m145      \u001b[0m | \u001b[0m0.9734   \u001b[0m | \u001b[0m0.9574   \u001b[0m | \u001b[0m1.48     \u001b[0m | \u001b[0m0.3421   \u001b[0m | \u001b[0m6.212    \u001b[0m | \u001b[0m7.003    \u001b[0m | \u001b[0m408.0    \u001b[0m | \u001b[0m3.855    \u001b[0m | \u001b[0m5.127    \u001b[0m | \u001b[0m0.9187   \u001b[0m |\n",
      "| \u001b[0m146      \u001b[0m | \u001b[0m0.973    \u001b[0m | \u001b[0m0.7881   \u001b[0m | \u001b[0m2.307    \u001b[0m | \u001b[0m0.2932   \u001b[0m | \u001b[0m4.45     \u001b[0m | \u001b[0m12.26    \u001b[0m | \u001b[0m132.8    \u001b[0m | \u001b[0m3.067    \u001b[0m | \u001b[0m3.026    \u001b[0m | \u001b[0m0.7602   \u001b[0m |\n",
      "| \u001b[0m147      \u001b[0m | \u001b[0m0.9728   \u001b[0m | \u001b[0m0.8394   \u001b[0m | \u001b[0m3.038    \u001b[0m | \u001b[0m0.4851   \u001b[0m | \u001b[0m8.475    \u001b[0m | \u001b[0m11.45    \u001b[0m | \u001b[0m85.09    \u001b[0m | \u001b[0m4.584    \u001b[0m | \u001b[0m7.393    \u001b[0m | \u001b[0m0.757    \u001b[0m |\n",
      "| \u001b[0m148      \u001b[0m | \u001b[0m0.975    \u001b[0m | \u001b[0m0.7448   \u001b[0m | \u001b[0m2.619    \u001b[0m | \u001b[0m0.1559   \u001b[0m | \u001b[0m7.161    \u001b[0m | \u001b[0m6.777    \u001b[0m | \u001b[0m374.2    \u001b[0m | \u001b[0m0.1904   \u001b[0m | \u001b[0m7.045    \u001b[0m | \u001b[0m0.7809   \u001b[0m |\n",
      "| \u001b[0m149      \u001b[0m | \u001b[0m0.9726   \u001b[0m | \u001b[0m0.7624   \u001b[0m | \u001b[0m6.333    \u001b[0m | \u001b[0m0.2826   \u001b[0m | \u001b[0m7.165    \u001b[0m | \u001b[0m3.221    \u001b[0m | \u001b[0m68.88    \u001b[0m | \u001b[0m3.738    \u001b[0m | \u001b[0m4.899    \u001b[0m | \u001b[0m0.9101   \u001b[0m |\n",
      "| \u001b[0m150      \u001b[0m | \u001b[0m0.9735   \u001b[0m | \u001b[0m0.9761   \u001b[0m | \u001b[0m9.021    \u001b[0m | \u001b[0m0.2741   \u001b[0m | \u001b[0m4.921    \u001b[0m | \u001b[0m9.605    \u001b[0m | \u001b[0m340.2    \u001b[0m | \u001b[0m0.8381   \u001b[0m | \u001b[0m0.8705   \u001b[0m | \u001b[0m0.9217   \u001b[0m |\n",
      "| \u001b[0m151      \u001b[0m | \u001b[0m0.9641   \u001b[0m | \u001b[0m0.9354   \u001b[0m | \u001b[0m2.834    \u001b[0m | \u001b[0m0.06651  \u001b[0m | \u001b[0m5.86     \u001b[0m | \u001b[0m10.74    \u001b[0m | \u001b[0m83.05    \u001b[0m | \u001b[0m5.94     \u001b[0m | \u001b[0m4.653    \u001b[0m | \u001b[0m0.7115   \u001b[0m |\n",
      "| \u001b[0m152      \u001b[0m | \u001b[0m0.9737   \u001b[0m | \u001b[0m0.7003   \u001b[0m | \u001b[0m2.41     \u001b[0m | \u001b[0m0.1242   \u001b[0m | \u001b[0m5.122    \u001b[0m | \u001b[0m4.272    \u001b[0m | \u001b[0m248.3    \u001b[0m | \u001b[0m3.8      \u001b[0m | \u001b[0m5.302    \u001b[0m | \u001b[0m0.8443   \u001b[0m |\n",
      "| \u001b[0m153      \u001b[0m | \u001b[0m0.9738   \u001b[0m | \u001b[0m0.709    \u001b[0m | \u001b[0m1.451    \u001b[0m | \u001b[0m0.4434   \u001b[0m | \u001b[0m8.959    \u001b[0m | \u001b[0m12.46    \u001b[0m | \u001b[0m80.53    \u001b[0m | \u001b[0m9.876    \u001b[0m | \u001b[0m5.821    \u001b[0m | \u001b[0m0.9049   \u001b[0m |\n",
      "| \u001b[0m154      \u001b[0m | \u001b[0m0.9739   \u001b[0m | \u001b[0m0.959    \u001b[0m | \u001b[0m1.315    \u001b[0m | \u001b[0m0.1767   \u001b[0m | \u001b[0m3.752    \u001b[0m | \u001b[0m5.867    \u001b[0m | \u001b[0m231.3    \u001b[0m | \u001b[0m7.504    \u001b[0m | \u001b[0m6.165    \u001b[0m | \u001b[0m0.8148   \u001b[0m |\n"
     ]
    },
    {
     "ename": "KeyboardInterrupt",
     "evalue": "",
     "output_type": "error",
     "traceback": [
      "\u001b[1;31m---------------------------------------------------------------------------\u001b[0m",
      "\u001b[1;31mKeyError\u001b[0m                                  Traceback (most recent call last)",
      "File \u001b[1;32mE:\\Anaconda\\lib\\site-packages\\bayes_opt\\target_space.py:191\u001b[0m, in \u001b[0;36mTargetSpace.probe\u001b[1;34m(self, params)\u001b[0m\n\u001b[0;32m    190\u001b[0m \u001b[38;5;28;01mtry\u001b[39;00m:\n\u001b[1;32m--> 191\u001b[0m     target \u001b[38;5;241m=\u001b[39m \u001b[38;5;28;43mself\u001b[39;49m\u001b[38;5;241;43m.\u001b[39;49m\u001b[43m_cache\u001b[49m\u001b[43m[\u001b[49m\u001b[43m_hashable\u001b[49m\u001b[43m(\u001b[49m\u001b[43mx\u001b[49m\u001b[43m)\u001b[49m\u001b[43m]\u001b[49m\n\u001b[0;32m    192\u001b[0m \u001b[38;5;28;01mexcept\u001b[39;00m \u001b[38;5;167;01mKeyError\u001b[39;00m:\n",
      "\u001b[1;31mKeyError\u001b[0m: (0.7150756309542913, 3.6035558492959883, 0.18748975539780624, 8.893125948324846, 9.76381822352571, 282.2314055584595, 1.1024353234429438, 5.891422110090841, 0.8586824455665089)",
      "\nDuring handling of the above exception, another exception occurred:\n",
      "\u001b[1;31mKeyboardInterrupt\u001b[0m                         Traceback (most recent call last)",
      "Input \u001b[1;32mIn [14]\u001b[0m, in \u001b[0;36m<cell line: 2>\u001b[1;34m()\u001b[0m\n\u001b[0;32m      1\u001b[0m \u001b[38;5;66;03m# XGB Maximize\u001b[39;00m\n\u001b[1;32m----> 2\u001b[0m \u001b[43mBO_xgb_clf\u001b[49m\u001b[38;5;241;43m.\u001b[39;49m\u001b[43mmaximize\u001b[49m\u001b[43m(\u001b[49m\u001b[43minit_points\u001b[49m\u001b[38;5;241;43m=\u001b[39;49m\u001b[38;5;241;43m50\u001b[39;49m\u001b[43m,\u001b[49m\u001b[43m \u001b[49m\u001b[43mn_iter\u001b[49m\u001b[38;5;241;43m=\u001b[39;49m\u001b[38;5;241;43m150\u001b[39;49m\u001b[43m,\u001b[49m\u001b[43m \u001b[49m\u001b[43macq\u001b[49m\u001b[43m \u001b[49m\u001b[38;5;241;43m=\u001b[39;49m\u001b[43m \u001b[49m\u001b[38;5;124;43m'\u001b[39;49m\u001b[38;5;124;43mpoi\u001b[39;49m\u001b[38;5;124;43m'\u001b[39;49m\u001b[43m)\u001b[49m\n",
      "File \u001b[1;32mE:\\Anaconda\\lib\\site-packages\\bayes_opt\\bayesian_optimization.py:305\u001b[0m, in \u001b[0;36mBayesianOptimization.maximize\u001b[1;34m(self, init_points, n_iter, acq, kappa, kappa_decay, kappa_decay_delay, xi, **gp_params)\u001b[0m\n\u001b[0;32m    303\u001b[0m     x_probe \u001b[38;5;241m=\u001b[39m \u001b[38;5;28mself\u001b[39m\u001b[38;5;241m.\u001b[39msuggest(util)\n\u001b[0;32m    304\u001b[0m     iteration \u001b[38;5;241m+\u001b[39m\u001b[38;5;241m=\u001b[39m \u001b[38;5;241m1\u001b[39m\n\u001b[1;32m--> 305\u001b[0m \u001b[38;5;28;43mself\u001b[39;49m\u001b[38;5;241;43m.\u001b[39;49m\u001b[43mprobe\u001b[49m\u001b[43m(\u001b[49m\u001b[43mx_probe\u001b[49m\u001b[43m,\u001b[49m\u001b[43m \u001b[49m\u001b[43mlazy\u001b[49m\u001b[38;5;241;43m=\u001b[39;49m\u001b[38;5;28;43;01mFalse\u001b[39;49;00m\u001b[43m)\u001b[49m\n\u001b[0;32m    307\u001b[0m \u001b[38;5;28;01mif\u001b[39;00m \u001b[38;5;28mself\u001b[39m\u001b[38;5;241m.\u001b[39m_bounds_transformer \u001b[38;5;129;01mand\u001b[39;00m iteration \u001b[38;5;241m>\u001b[39m \u001b[38;5;241m0\u001b[39m:\n\u001b[0;32m    308\u001b[0m     \u001b[38;5;66;03m# The bounds transformer should only modify the bounds after\u001b[39;00m\n\u001b[0;32m    309\u001b[0m     \u001b[38;5;66;03m# the init_points points (only for the true iterations)\u001b[39;00m\n\u001b[0;32m    310\u001b[0m     \u001b[38;5;28mself\u001b[39m\u001b[38;5;241m.\u001b[39mset_bounds(\n\u001b[0;32m    311\u001b[0m         \u001b[38;5;28mself\u001b[39m\u001b[38;5;241m.\u001b[39m_bounds_transformer\u001b[38;5;241m.\u001b[39mtransform(\u001b[38;5;28mself\u001b[39m\u001b[38;5;241m.\u001b[39m_space))\n",
      "File \u001b[1;32mE:\\Anaconda\\lib\\site-packages\\bayes_opt\\bayesian_optimization.py:200\u001b[0m, in \u001b[0;36mBayesianOptimization.probe\u001b[1;34m(self, params, lazy)\u001b[0m\n\u001b[0;32m    198\u001b[0m     \u001b[38;5;28mself\u001b[39m\u001b[38;5;241m.\u001b[39m_queue\u001b[38;5;241m.\u001b[39madd(params)\n\u001b[0;32m    199\u001b[0m \u001b[38;5;28;01melse\u001b[39;00m:\n\u001b[1;32m--> 200\u001b[0m     \u001b[38;5;28;43mself\u001b[39;49m\u001b[38;5;241;43m.\u001b[39;49m\u001b[43m_space\u001b[49m\u001b[38;5;241;43m.\u001b[39;49m\u001b[43mprobe\u001b[49m\u001b[43m(\u001b[49m\u001b[43mparams\u001b[49m\u001b[43m)\u001b[49m\n\u001b[0;32m    201\u001b[0m     \u001b[38;5;28mself\u001b[39m\u001b[38;5;241m.\u001b[39mdispatch(Events\u001b[38;5;241m.\u001b[39mOPTIMIZATION_STEP)\n",
      "File \u001b[1;32mE:\\Anaconda\\lib\\site-packages\\bayes_opt\\target_space.py:194\u001b[0m, in \u001b[0;36mTargetSpace.probe\u001b[1;34m(self, params)\u001b[0m\n\u001b[0;32m    192\u001b[0m \u001b[38;5;28;01mexcept\u001b[39;00m \u001b[38;5;167;01mKeyError\u001b[39;00m:\n\u001b[0;32m    193\u001b[0m     params \u001b[38;5;241m=\u001b[39m \u001b[38;5;28mdict\u001b[39m(\u001b[38;5;28mzip\u001b[39m(\u001b[38;5;28mself\u001b[39m\u001b[38;5;241m.\u001b[39m_keys, x))\n\u001b[1;32m--> 194\u001b[0m     target \u001b[38;5;241m=\u001b[39m \u001b[38;5;28mself\u001b[39m\u001b[38;5;241m.\u001b[39mtarget_func(\u001b[38;5;241m*\u001b[39m\u001b[38;5;241m*\u001b[39mparams)\n\u001b[0;32m    195\u001b[0m     \u001b[38;5;28mself\u001b[39m\u001b[38;5;241m.\u001b[39mregister(x, target)\n\u001b[0;32m    196\u001b[0m \u001b[38;5;28;01mreturn\u001b[39;00m target\n",
      "Input \u001b[1;32mIn [10]\u001b[0m, in \u001b[0;36mxgb_clf_opt\u001b[1;34m(n_estimators, learning_rate, max_depth, subsample, colsample_bytree, reg_alpha, reg_lambda, gamma, min_child_weight)\u001b[0m\n\u001b[0;32m     27\u001b[0m xgb \u001b[38;5;241m=\u001b[39m XGBClassifier(\u001b[38;5;241m*\u001b[39m\u001b[38;5;241m*\u001b[39mparams)\n\u001b[0;32m     28\u001b[0m skf \u001b[38;5;241m=\u001b[39m StratifiedKFold(n_splits \u001b[38;5;241m=\u001b[39m \u001b[38;5;241m5\u001b[39m, shuffle \u001b[38;5;241m=\u001b[39m \u001b[38;5;28;01mTrue\u001b[39;00m, random_state \u001b[38;5;241m=\u001b[39m \u001b[38;5;241m17\u001b[39m)\n\u001b[1;32m---> 29\u001b[0m score \u001b[38;5;241m=\u001b[39m \u001b[43mcross_val_score\u001b[49m\u001b[43m(\u001b[49m\u001b[43mxgb\u001b[49m\u001b[43m,\u001b[49m\u001b[43m \u001b[49m\u001b[43mtomek_x_train\u001b[49m\u001b[43m,\u001b[49m\u001b[43m \u001b[49m\u001b[43mtomek_y_train\u001b[49m\u001b[43m,\u001b[49m\u001b[43m \u001b[49m\u001b[43mscoring\u001b[49m\u001b[43m \u001b[49m\u001b[38;5;241;43m=\u001b[39;49m\u001b[43m \u001b[49m\u001b[38;5;124;43m'\u001b[39;49m\u001b[38;5;124;43mf1_macro\u001b[39;49m\u001b[38;5;124;43m'\u001b[39;49m\u001b[43m,\u001b[49m\u001b[43m \u001b[49m\u001b[43mcv\u001b[49m\u001b[43m \u001b[49m\u001b[38;5;241;43m=\u001b[39;49m\u001b[43m \u001b[49m\u001b[43mskf\u001b[49m\u001b[43m,\u001b[49m\u001b[43m \u001b[49m\u001b[43mn_jobs\u001b[49m\u001b[43m \u001b[49m\u001b[38;5;241;43m=\u001b[39;49m\u001b[43m \u001b[49m\u001b[38;5;241;43m-\u001b[39;49m\u001b[38;5;241;43m1\u001b[39;49m\u001b[43m)\u001b[49m\n\u001b[0;32m     31\u001b[0m \u001b[38;5;28;01mreturn\u001b[39;00m np\u001b[38;5;241m.\u001b[39mmean(score)\n",
      "File \u001b[1;32m~\\AppData\\Roaming\\Python\\Python39\\site-packages\\sklearn\\model_selection\\_validation.py:515\u001b[0m, in \u001b[0;36mcross_val_score\u001b[1;34m(estimator, X, y, groups, scoring, cv, n_jobs, verbose, fit_params, pre_dispatch, error_score)\u001b[0m\n\u001b[0;32m    512\u001b[0m \u001b[38;5;66;03m# To ensure multimetric format is not supported\u001b[39;00m\n\u001b[0;32m    513\u001b[0m scorer \u001b[38;5;241m=\u001b[39m check_scoring(estimator, scoring\u001b[38;5;241m=\u001b[39mscoring)\n\u001b[1;32m--> 515\u001b[0m cv_results \u001b[38;5;241m=\u001b[39m \u001b[43mcross_validate\u001b[49m\u001b[43m(\u001b[49m\n\u001b[0;32m    516\u001b[0m \u001b[43m    \u001b[49m\u001b[43mestimator\u001b[49m\u001b[38;5;241;43m=\u001b[39;49m\u001b[43mestimator\u001b[49m\u001b[43m,\u001b[49m\n\u001b[0;32m    517\u001b[0m \u001b[43m    \u001b[49m\u001b[43mX\u001b[49m\u001b[38;5;241;43m=\u001b[39;49m\u001b[43mX\u001b[49m\u001b[43m,\u001b[49m\n\u001b[0;32m    518\u001b[0m \u001b[43m    \u001b[49m\u001b[43my\u001b[49m\u001b[38;5;241;43m=\u001b[39;49m\u001b[43my\u001b[49m\u001b[43m,\u001b[49m\n\u001b[0;32m    519\u001b[0m \u001b[43m    \u001b[49m\u001b[43mgroups\u001b[49m\u001b[38;5;241;43m=\u001b[39;49m\u001b[43mgroups\u001b[49m\u001b[43m,\u001b[49m\n\u001b[0;32m    520\u001b[0m \u001b[43m    \u001b[49m\u001b[43mscoring\u001b[49m\u001b[38;5;241;43m=\u001b[39;49m\u001b[43m{\u001b[49m\u001b[38;5;124;43m\"\u001b[39;49m\u001b[38;5;124;43mscore\u001b[39;49m\u001b[38;5;124;43m\"\u001b[39;49m\u001b[43m:\u001b[49m\u001b[43m \u001b[49m\u001b[43mscorer\u001b[49m\u001b[43m}\u001b[49m\u001b[43m,\u001b[49m\n\u001b[0;32m    521\u001b[0m \u001b[43m    \u001b[49m\u001b[43mcv\u001b[49m\u001b[38;5;241;43m=\u001b[39;49m\u001b[43mcv\u001b[49m\u001b[43m,\u001b[49m\n\u001b[0;32m    522\u001b[0m \u001b[43m    \u001b[49m\u001b[43mn_jobs\u001b[49m\u001b[38;5;241;43m=\u001b[39;49m\u001b[43mn_jobs\u001b[49m\u001b[43m,\u001b[49m\n\u001b[0;32m    523\u001b[0m \u001b[43m    \u001b[49m\u001b[43mverbose\u001b[49m\u001b[38;5;241;43m=\u001b[39;49m\u001b[43mverbose\u001b[49m\u001b[43m,\u001b[49m\n\u001b[0;32m    524\u001b[0m \u001b[43m    \u001b[49m\u001b[43mfit_params\u001b[49m\u001b[38;5;241;43m=\u001b[39;49m\u001b[43mfit_params\u001b[49m\u001b[43m,\u001b[49m\n\u001b[0;32m    525\u001b[0m \u001b[43m    \u001b[49m\u001b[43mpre_dispatch\u001b[49m\u001b[38;5;241;43m=\u001b[39;49m\u001b[43mpre_dispatch\u001b[49m\u001b[43m,\u001b[49m\n\u001b[0;32m    526\u001b[0m \u001b[43m    \u001b[49m\u001b[43merror_score\u001b[49m\u001b[38;5;241;43m=\u001b[39;49m\u001b[43merror_score\u001b[49m\u001b[43m,\u001b[49m\n\u001b[0;32m    527\u001b[0m \u001b[43m\u001b[49m\u001b[43m)\u001b[49m\n\u001b[0;32m    528\u001b[0m \u001b[38;5;28;01mreturn\u001b[39;00m cv_results[\u001b[38;5;124m\"\u001b[39m\u001b[38;5;124mtest_score\u001b[39m\u001b[38;5;124m\"\u001b[39m]\n",
      "File \u001b[1;32m~\\AppData\\Roaming\\Python\\Python39\\site-packages\\sklearn\\model_selection\\_validation.py:266\u001b[0m, in \u001b[0;36mcross_validate\u001b[1;34m(estimator, X, y, groups, scoring, cv, n_jobs, verbose, fit_params, pre_dispatch, return_train_score, return_estimator, error_score)\u001b[0m\n\u001b[0;32m    263\u001b[0m \u001b[38;5;66;03m# We clone the estimator to make sure that all the folds are\u001b[39;00m\n\u001b[0;32m    264\u001b[0m \u001b[38;5;66;03m# independent, and that it is pickle-able.\u001b[39;00m\n\u001b[0;32m    265\u001b[0m parallel \u001b[38;5;241m=\u001b[39m Parallel(n_jobs\u001b[38;5;241m=\u001b[39mn_jobs, verbose\u001b[38;5;241m=\u001b[39mverbose, pre_dispatch\u001b[38;5;241m=\u001b[39mpre_dispatch)\n\u001b[1;32m--> 266\u001b[0m results \u001b[38;5;241m=\u001b[39m \u001b[43mparallel\u001b[49m\u001b[43m(\u001b[49m\n\u001b[0;32m    267\u001b[0m \u001b[43m    \u001b[49m\u001b[43mdelayed\u001b[49m\u001b[43m(\u001b[49m\u001b[43m_fit_and_score\u001b[49m\u001b[43m)\u001b[49m\u001b[43m(\u001b[49m\n\u001b[0;32m    268\u001b[0m \u001b[43m        \u001b[49m\u001b[43mclone\u001b[49m\u001b[43m(\u001b[49m\u001b[43mestimator\u001b[49m\u001b[43m)\u001b[49m\u001b[43m,\u001b[49m\n\u001b[0;32m    269\u001b[0m \u001b[43m        \u001b[49m\u001b[43mX\u001b[49m\u001b[43m,\u001b[49m\n\u001b[0;32m    270\u001b[0m \u001b[43m        \u001b[49m\u001b[43my\u001b[49m\u001b[43m,\u001b[49m\n\u001b[0;32m    271\u001b[0m \u001b[43m        \u001b[49m\u001b[43mscorers\u001b[49m\u001b[43m,\u001b[49m\n\u001b[0;32m    272\u001b[0m \u001b[43m        \u001b[49m\u001b[43mtrain\u001b[49m\u001b[43m,\u001b[49m\n\u001b[0;32m    273\u001b[0m \u001b[43m        \u001b[49m\u001b[43mtest\u001b[49m\u001b[43m,\u001b[49m\n\u001b[0;32m    274\u001b[0m \u001b[43m        \u001b[49m\u001b[43mverbose\u001b[49m\u001b[43m,\u001b[49m\n\u001b[0;32m    275\u001b[0m \u001b[43m        \u001b[49m\u001b[38;5;28;43;01mNone\u001b[39;49;00m\u001b[43m,\u001b[49m\n\u001b[0;32m    276\u001b[0m \u001b[43m        \u001b[49m\u001b[43mfit_params\u001b[49m\u001b[43m,\u001b[49m\n\u001b[0;32m    277\u001b[0m \u001b[43m        \u001b[49m\u001b[43mreturn_train_score\u001b[49m\u001b[38;5;241;43m=\u001b[39;49m\u001b[43mreturn_train_score\u001b[49m\u001b[43m,\u001b[49m\n\u001b[0;32m    278\u001b[0m \u001b[43m        \u001b[49m\u001b[43mreturn_times\u001b[49m\u001b[38;5;241;43m=\u001b[39;49m\u001b[38;5;28;43;01mTrue\u001b[39;49;00m\u001b[43m,\u001b[49m\n\u001b[0;32m    279\u001b[0m \u001b[43m        \u001b[49m\u001b[43mreturn_estimator\u001b[49m\u001b[38;5;241;43m=\u001b[39;49m\u001b[43mreturn_estimator\u001b[49m\u001b[43m,\u001b[49m\n\u001b[0;32m    280\u001b[0m \u001b[43m        \u001b[49m\u001b[43merror_score\u001b[49m\u001b[38;5;241;43m=\u001b[39;49m\u001b[43merror_score\u001b[49m\u001b[43m,\u001b[49m\n\u001b[0;32m    281\u001b[0m \u001b[43m    \u001b[49m\u001b[43m)\u001b[49m\n\u001b[0;32m    282\u001b[0m \u001b[43m    \u001b[49m\u001b[38;5;28;43;01mfor\u001b[39;49;00m\u001b[43m \u001b[49m\u001b[43mtrain\u001b[49m\u001b[43m,\u001b[49m\u001b[43m \u001b[49m\u001b[43mtest\u001b[49m\u001b[43m \u001b[49m\u001b[38;5;129;43;01min\u001b[39;49;00m\u001b[43m \u001b[49m\u001b[43mcv\u001b[49m\u001b[38;5;241;43m.\u001b[39;49m\u001b[43msplit\u001b[49m\u001b[43m(\u001b[49m\u001b[43mX\u001b[49m\u001b[43m,\u001b[49m\u001b[43m \u001b[49m\u001b[43my\u001b[49m\u001b[43m,\u001b[49m\u001b[43m \u001b[49m\u001b[43mgroups\u001b[49m\u001b[43m)\u001b[49m\n\u001b[0;32m    283\u001b[0m \u001b[43m\u001b[49m\u001b[43m)\u001b[49m\n\u001b[0;32m    285\u001b[0m _warn_or_raise_about_fit_failures(results, error_score)\n\u001b[0;32m    287\u001b[0m \u001b[38;5;66;03m# For callabe scoring, the return type is only know after calling. If the\u001b[39;00m\n\u001b[0;32m    288\u001b[0m \u001b[38;5;66;03m# return type is a dictionary, the error scores can now be inserted with\u001b[39;00m\n\u001b[0;32m    289\u001b[0m \u001b[38;5;66;03m# the correct key.\u001b[39;00m\n",
      "File \u001b[1;32mE:\\Anaconda\\lib\\site-packages\\joblib\\parallel.py:1056\u001b[0m, in \u001b[0;36mParallel.__call__\u001b[1;34m(self, iterable)\u001b[0m\n\u001b[0;32m   1053\u001b[0m     \u001b[38;5;28mself\u001b[39m\u001b[38;5;241m.\u001b[39m_iterating \u001b[38;5;241m=\u001b[39m \u001b[38;5;28;01mFalse\u001b[39;00m\n\u001b[0;32m   1055\u001b[0m \u001b[38;5;28;01mwith\u001b[39;00m \u001b[38;5;28mself\u001b[39m\u001b[38;5;241m.\u001b[39m_backend\u001b[38;5;241m.\u001b[39mretrieval_context():\n\u001b[1;32m-> 1056\u001b[0m     \u001b[38;5;28;43mself\u001b[39;49m\u001b[38;5;241;43m.\u001b[39;49m\u001b[43mretrieve\u001b[49m\u001b[43m(\u001b[49m\u001b[43m)\u001b[49m\n\u001b[0;32m   1057\u001b[0m \u001b[38;5;66;03m# Make sure that we get a last message telling us we are done\u001b[39;00m\n\u001b[0;32m   1058\u001b[0m elapsed_time \u001b[38;5;241m=\u001b[39m time\u001b[38;5;241m.\u001b[39mtime() \u001b[38;5;241m-\u001b[39m \u001b[38;5;28mself\u001b[39m\u001b[38;5;241m.\u001b[39m_start_time\n",
      "File \u001b[1;32mE:\\Anaconda\\lib\\site-packages\\joblib\\parallel.py:935\u001b[0m, in \u001b[0;36mParallel.retrieve\u001b[1;34m(self)\u001b[0m\n\u001b[0;32m    933\u001b[0m \u001b[38;5;28;01mtry\u001b[39;00m:\n\u001b[0;32m    934\u001b[0m     \u001b[38;5;28;01mif\u001b[39;00m \u001b[38;5;28mgetattr\u001b[39m(\u001b[38;5;28mself\u001b[39m\u001b[38;5;241m.\u001b[39m_backend, \u001b[38;5;124m'\u001b[39m\u001b[38;5;124msupports_timeout\u001b[39m\u001b[38;5;124m'\u001b[39m, \u001b[38;5;28;01mFalse\u001b[39;00m):\n\u001b[1;32m--> 935\u001b[0m         \u001b[38;5;28mself\u001b[39m\u001b[38;5;241m.\u001b[39m_output\u001b[38;5;241m.\u001b[39mextend(\u001b[43mjob\u001b[49m\u001b[38;5;241;43m.\u001b[39;49m\u001b[43mget\u001b[49m\u001b[43m(\u001b[49m\u001b[43mtimeout\u001b[49m\u001b[38;5;241;43m=\u001b[39;49m\u001b[38;5;28;43mself\u001b[39;49m\u001b[38;5;241;43m.\u001b[39;49m\u001b[43mtimeout\u001b[49m\u001b[43m)\u001b[49m)\n\u001b[0;32m    936\u001b[0m     \u001b[38;5;28;01melse\u001b[39;00m:\n\u001b[0;32m    937\u001b[0m         \u001b[38;5;28mself\u001b[39m\u001b[38;5;241m.\u001b[39m_output\u001b[38;5;241m.\u001b[39mextend(job\u001b[38;5;241m.\u001b[39mget())\n",
      "File \u001b[1;32mE:\\Anaconda\\lib\\site-packages\\joblib\\_parallel_backends.py:542\u001b[0m, in \u001b[0;36mLokyBackend.wrap_future_result\u001b[1;34m(future, timeout)\u001b[0m\n\u001b[0;32m    539\u001b[0m \u001b[38;5;124;03m\"\"\"Wrapper for Future.result to implement the same behaviour as\u001b[39;00m\n\u001b[0;32m    540\u001b[0m \u001b[38;5;124;03mAsyncResults.get from multiprocessing.\"\"\"\u001b[39;00m\n\u001b[0;32m    541\u001b[0m \u001b[38;5;28;01mtry\u001b[39;00m:\n\u001b[1;32m--> 542\u001b[0m     \u001b[38;5;28;01mreturn\u001b[39;00m \u001b[43mfuture\u001b[49m\u001b[38;5;241;43m.\u001b[39;49m\u001b[43mresult\u001b[49m\u001b[43m(\u001b[49m\u001b[43mtimeout\u001b[49m\u001b[38;5;241;43m=\u001b[39;49m\u001b[43mtimeout\u001b[49m\u001b[43m)\u001b[49m\n\u001b[0;32m    543\u001b[0m \u001b[38;5;28;01mexcept\u001b[39;00m CfTimeoutError \u001b[38;5;28;01mas\u001b[39;00m e:\n\u001b[0;32m    544\u001b[0m     \u001b[38;5;28;01mraise\u001b[39;00m \u001b[38;5;167;01mTimeoutError\u001b[39;00m \u001b[38;5;28;01mfrom\u001b[39;00m \u001b[38;5;21;01me\u001b[39;00m\n",
      "File \u001b[1;32mE:\\Anaconda\\lib\\concurrent\\futures\\_base.py:441\u001b[0m, in \u001b[0;36mFuture.result\u001b[1;34m(self, timeout)\u001b[0m\n\u001b[0;32m    438\u001b[0m \u001b[38;5;28;01melif\u001b[39;00m \u001b[38;5;28mself\u001b[39m\u001b[38;5;241m.\u001b[39m_state \u001b[38;5;241m==\u001b[39m FINISHED:\n\u001b[0;32m    439\u001b[0m     \u001b[38;5;28;01mreturn\u001b[39;00m \u001b[38;5;28mself\u001b[39m\u001b[38;5;241m.\u001b[39m__get_result()\n\u001b[1;32m--> 441\u001b[0m \u001b[38;5;28;43mself\u001b[39;49m\u001b[38;5;241;43m.\u001b[39;49m\u001b[43m_condition\u001b[49m\u001b[38;5;241;43m.\u001b[39;49m\u001b[43mwait\u001b[49m\u001b[43m(\u001b[49m\u001b[43mtimeout\u001b[49m\u001b[43m)\u001b[49m\n\u001b[0;32m    443\u001b[0m \u001b[38;5;28;01mif\u001b[39;00m \u001b[38;5;28mself\u001b[39m\u001b[38;5;241m.\u001b[39m_state \u001b[38;5;129;01min\u001b[39;00m [CANCELLED, CANCELLED_AND_NOTIFIED]:\n\u001b[0;32m    444\u001b[0m     \u001b[38;5;28;01mraise\u001b[39;00m CancelledError()\n",
      "File \u001b[1;32mE:\\Anaconda\\lib\\threading.py:312\u001b[0m, in \u001b[0;36mCondition.wait\u001b[1;34m(self, timeout)\u001b[0m\n\u001b[0;32m    310\u001b[0m \u001b[38;5;28;01mtry\u001b[39;00m:    \u001b[38;5;66;03m# restore state no matter what (e.g., KeyboardInterrupt)\u001b[39;00m\n\u001b[0;32m    311\u001b[0m     \u001b[38;5;28;01mif\u001b[39;00m timeout \u001b[38;5;129;01mis\u001b[39;00m \u001b[38;5;28;01mNone\u001b[39;00m:\n\u001b[1;32m--> 312\u001b[0m         \u001b[43mwaiter\u001b[49m\u001b[38;5;241;43m.\u001b[39;49m\u001b[43macquire\u001b[49m\u001b[43m(\u001b[49m\u001b[43m)\u001b[49m\n\u001b[0;32m    313\u001b[0m         gotit \u001b[38;5;241m=\u001b[39m \u001b[38;5;28;01mTrue\u001b[39;00m\n\u001b[0;32m    314\u001b[0m     \u001b[38;5;28;01melse\u001b[39;00m:\n",
      "\u001b[1;31mKeyboardInterrupt\u001b[0m: "
     ]
    }
   ],
   "source": [
    "# XGB Maximize\n",
    "BO_xgb_clf.maximize(init_points=50, n_iter=150, acq = 'poi')"
   ]
  },
  {
   "cell_type": "code",
   "execution_count": null,
   "id": "0ebb70c2",
   "metadata": {},
   "outputs": [],
   "source": [
    "# LGBM Maximize\n",
    "BO_lgbm_clf.maximize(init_points=50, n_iter=150, acq = 'poi')"
   ]
  },
  {
   "cell_type": "code",
   "execution_count": null,
   "id": "44e6e79f",
   "metadata": {},
   "outputs": [],
   "source": [
    "# ExtraTrees Maximize\n",
    "BO_et_clf.maximize(init_points=50, n_iter=150, acq = 'poi')"
   ]
  },
  {
   "cell_type": "code",
   "execution_count": null,
   "id": "c1e98d89",
   "metadata": {},
   "outputs": [],
   "source": [
    "# Logistic Maximize\n",
    "BO_lr_clf.maximize(init_points=50, n_iter=150, acq = 'poi')"
   ]
  },
  {
   "cell_type": "markdown",
   "id": "aaf91237",
   "metadata": {},
   "source": [
    "### Change Max parameters from float to int"
   ]
  },
  {
   "cell_type": "code",
   "execution_count": null,
   "id": "93d4409a",
   "metadata": {},
   "outputs": [],
   "source": [
    "# Catboost Max Parameters\n",
    "cb_clf_max_params = BO_cb_clf.max['params']\n",
    "cb_clf_max_params['n_estimators'] = int(round(cb_clf_max_params['n_estimators']))\n",
    "cb_clf_max_params['max_depth'] = int(round(cb_clf_max_params['max_depth']))\n",
    "\n",
    "# XGB Max Parameters\n",
    "xgb_clf_max_params = BO_xgb_clf.max['params']\n",
    "xgb_clf_max_params['n_estimators'] = int(round(xgb_clf_max_params['n_estimators']))\n",
    "xgb_clf_max_params['max_depth'] = int(round(xgb_clf_max_params['max_depth']))"
   ]
  },
  {
   "cell_type": "code",
   "execution_count": null,
   "id": "664ae885",
   "metadata": {},
   "outputs": [],
   "source": [
    "# LGBM Max Parameters\n",
    "lgbm_clf_max_params = BO_lgbm_clf.max['params']\n",
    "lgbm_clf_max_params['n_estimators'] = int(round(lgbm_clf_max_params['n_estimators']))\n",
    "lgbm_clf_max_params['max_depth'] = int(round(lgbm_clf_max_params['max_depth']))\n",
    "lgbm_clf_max_params['min_child_samples'] = int(round(lgbm_clf_max_params['min_child_samples']))\n",
    "\n",
    "# ExtraTrees Max Parameters\n",
    "et_clf_max_params = BO_et_clf.max['params']\n",
    "et_clf_max_params['n_estimators'] = int(round(et_clf_max_params['n_estimators']))\n",
    "et_clf_max_params['max_depth'] = int(round(et_clf_max_params['max_depth']))\n",
    "et_clf_max_params['min_samples_split'] = int(round(et_clf_max_params['min_samples_split']))\n",
    "et_clf_max_params['min_samples_leaf'] = int(round(et_clf_max_params['min_samples_leaf']))\n",
    "\n",
    "# Logistic Max Parameters\n",
    "lr_clf_max_params = BO_lr_clf.max['params']\n",
    "lr_clf_max_params['max_iter'] = int(round(lr_clf_max_params['max_iter']))"
   ]
  },
  {
   "cell_type": "markdown",
   "id": "5f9af3f3",
   "metadata": {},
   "source": [
    "### Retraing the Model with best parameters"
   ]
  },
  {
   "cell_type": "code",
   "execution_count": null,
   "id": "85c27429",
   "metadata": {},
   "outputs": [],
   "source": [
    "tune_cb_clf = CatBoostClassifier(**cb_clf_max_params)\n",
    "tune_cb_clf.fit(tomek_x_train,tomek_y_train)\n",
    "\n",
    "tune_xgb_clf = XGBClassifier(**xgb_clf_max_params)\n",
    "tune_xgb_clf.fit(tomek_x_train,tomek_y_train)"
   ]
  },
  {
   "cell_type": "code",
   "execution_count": null,
   "id": "30516285",
   "metadata": {},
   "outputs": [],
   "source": [
    "tune_lgbm_clf = LGBMClassifier(**lgbm_clf_max_params)\n",
    "tune_lgbm_clf.fit(tomek_x_train,tomek_y_train)\n",
    "\n",
    "tune_et_clf = ExtraTreesClassifier(**et_clf_max_params)\n",
    "tune_et_clf.fit(tomek_x_train,tomek_y_train)\n",
    "\n",
    "tune_lr_clf = LogisticRegression(**lr_clf_max_params)\n",
    "tune_lr_clf.fit(tomek_x_train,tomek_y_train)"
   ]
  },
  {
   "cell_type": "markdown",
   "id": "0648c9a0",
   "metadata": {},
   "source": [
    "### Validation Check"
   ]
  },
  {
   "cell_type": "code",
   "execution_count": null,
   "id": "95909bcd",
   "metadata": {},
   "outputs": [],
   "source": [
    "# Predict x_val by Tuned Model\n",
    "tune_cb_clf_pred = tune_cb_clf.predict(x_val)\n",
    "tune_xgb_clf_pred = tune_xgb_clf.predict(x_val)"
   ]
  },
  {
   "cell_type": "code",
   "execution_count": null,
   "id": "4f8f497d",
   "metadata": {},
   "outputs": [],
   "source": [
    "tune_lgbm_clf_pred = tune_lgbm_clf.predict(x_val)\n",
    "tune_et_clf_pred = tune_et_clf.predict(x_val)\n",
    "tune_lr_clf_pred = tune_lr_clf.predict(x_val)"
   ]
  },
  {
   "cell_type": "code",
   "execution_count": null,
   "id": "b690268c",
   "metadata": {},
   "outputs": [],
   "source": [
    "# Validation Score\n",
    "tune_cb_clf_val_score = f1_score(y_val, tune_cb_clf_pred, average = 'macro')\n",
    "tune_xgb_clf_val_score = f1_score(y_val, tune_xgb_clf_pred, average = 'macro')\n",
    "#tune_lgbm_clf_val_score = f1_score(y_val, tune_lgbm_clf_pred, average = 'macro')\n",
    "#tune_et_clf_val_score = f1_score(y_val, tune_et_clf_pred, average = 'macro')\n",
    "#tune_lr_clf_val_score = f1_score(y_val, tune_lr_clf_pred, average = 'macro')\n",
    "print(f'Catboost F1 score:{tune_cb_clf_val_score}\\nXGB F1 score:{tune_xgb_clf_val_score}')\n",
    "#print(f'LGBM F1 score:{tune_lgbm_clf_val_score}\\nExtraTrees F1 score:{tune_et_clf_val_score}\\nLogistic F1 score:{tune_lr_clf_val_score}')"
   ]
  },
  {
   "cell_type": "markdown",
   "id": "97b6b65d",
   "metadata": {},
   "source": [
    "### Generate predict_proba"
   ]
  },
  {
   "cell_type": "code",
   "execution_count": null,
   "id": "53c6f788",
   "metadata": {},
   "outputs": [],
   "source": [
    "tune_cb_clf_pred_proba = np.arrary(i[1] for i in tune_cb_clf.predict_proba(tomek_x_train))\n",
    "tune_xgb_clf_pred_proba = np.arrary(i[1] for i in tune_xgb_clf.predict_proba(tomek_x_train))\n",
    "#tune_lgbm_clf_pred_proba = np.arrary(i[1] for i in tune_lgbm_clf.predict_proba(tomek_x_train))\n",
    "#tune_et_clf_pred_proba = np.arrary(i[1] for i in tune_et_clf.predict_proba(tomek_x_train))\n",
    "#tune_lr_clf_pred_proba = np.arrary(i[1] for i in tune_lr_clf.predict_proba(tomek_x_train))"
   ]
  },
  {
   "cell_type": "markdown",
   "id": "c00c208f",
   "metadata": {},
   "source": [
    "## Saving Task1 Model"
   ]
  },
  {
   "cell_type": "code",
   "execution_count": null,
   "id": "2341b6ea",
   "metadata": {},
   "outputs": [],
   "source": [
    "joblib.dump(tune_cb_clf, 'model_save/tuning/task1_cb_clf.pkl')\n",
    "joblib.dump(tune_xgb_clf, 'model_save/tuning/task1_xgb_clf.pkl')\n",
    "#joblib.dump(tune_lgbm_clf, 'model_save/tuning/task1_lgbm_clf.pkl')\n",
    "#joblib.dump(tune_et_clf, 'model_save/tuning/task1_et_clf.pkl')\n",
    "#joblib.dump(tune_lr_clf, 'model_save/tuning/task1_lr_clf.pkl')"
   ]
  },
  {
   "cell_type": "markdown",
   "id": "bba03344",
   "metadata": {},
   "source": [
    "# Task2 : Predict Test Label by Regressor"
   ]
  },
  {
   "cell_type": "markdown",
   "id": "ef740a5a",
   "metadata": {},
   "source": [
    "### Generate Functoin for Bayesian Optimizer (Regressor)"
   ]
  },
  {
   "cell_type": "code",
   "execution_count": null,
   "id": "b67d60d5",
   "metadata": {},
   "outputs": [],
   "source": [
    "def cb_reg_opt(n_estimators, learning_rate, max_depth, random_strength, l2_leaf_reg):\n",
    "    \n",
    "    params = { 'n_estimators' : int(round(n_estimators)),\n",
    "               'learning_rate' : learning_rate,\n",
    "               'max_depth' : int(round(max_depth)),\n",
    "               'random_strength' : random_strength,\n",
    "               'l2_leaf_reg' : l2_leaf_reg }\n",
    "    \n",
    "    cb = CatBoostRegressor(**params)\n",
    "    skf = KFold(n_splits = 5, shuffle = True, random_state = 17)\n",
    "    score = cross_val_score(cb, tomek_s_train, ***, scoring = 'neg_mean_squared_error', cv = skf, n_jobs = -1)\n",
    "    \n",
    "    return np.mean(score)\n",
    "\n",
    "def xgb_reg_opt(n_estimators, learning_rate, max_depth, subsample, colsample_bytree, \n",
    "                reg_alpha, reg_lambda, gamma, min_child_weight):\n",
    "    \n",
    "    params = { 'n_estimators' : int(round(n_estimators)),\n",
    "               'learning_rate' : learning_rate,\n",
    "               'max_depth' : int(round(max_depth)),\n",
    "               'subsample' : subsample,\n",
    "               'colsample_bytree' : colsample_bytree,\n",
    "               'reg_alpha' : reg_alpha,\n",
    "               'reg_lambda' : reg_lambda,\n",
    "               'gamma' : gamma,\n",
    "               'min_child_weight' : min_child_weight, 'n_jobs' : -1 }\n",
    "    \n",
    "    xgb = XGBRegressor(**params)\n",
    "    skf = KFold(n_splits = 5, shuffle = True, random_state = 17)\n",
    "    score = cross_val_score(xgb, tomek_s_train, ***, scoring = 'neg_mean_squared_error', cv = skf, n_jobs = -1)\n",
    "    \n",
    "    return np.mean(score)\n",
    "\n",
    "def lgbm_reg_opt(n_estimators, learning_rate, max_depth, min_child_samples, subsample, colsample_bytree, \n",
    "                reg_alpha, reg_lambda, min_child_weight, min_split_gain):\n",
    "    \n",
    "    params = { 'n_estimators' : int(round(n_estimators)),\n",
    "               'learning_rate' : learning_rate,\n",
    "               'max_depth' : int(round(max_depth)),\n",
    "               'min_child_samples' : int(round(min_child_samples)),\n",
    "               'subsample' : subsample,\n",
    "               'colsample_bytree' : colsample_bytree,\n",
    "               'reg_alpha' : reg_alpha,\n",
    "               'reg_lambda' : reg_lambda,\n",
    "               'min_child_weight' : min_child_weight,\n",
    "               'min_split_gain' : min_split_gain, 'n_jobs' : -1 }\n",
    "    \n",
    "    lgbm = LGBMRegressor(**params)\n",
    "    skf = KFold(n_splits = 5, shuffle = True, random_state = 17)\n",
    "    score = cross_val_score(lgbm, tomek_s_train, ***, scoring = 'neg_mean_squared_error', cv = skf, n_jobs = -1)\n",
    "    \n",
    "    return np.mean(score)\n",
    "\n",
    "def et_reg_opt(n_estimators, max_depth, min_samples_split, min_samples_leaf):\n",
    "    \n",
    "    params = { 'n_estimators' : int(round(n_estimators)),\n",
    "               'max_depth' : int(round(max_depth)),\n",
    "               'min_samples_split' : int(round(min_samples_split)),\n",
    "               'min_samples_leaf' : int(round(min_samples_leaf)), 'n_jobs' : -1 }\n",
    "    \n",
    "    et = ExtraTreesRegressor(**params)\n",
    "    skf = KFold(n_splits = 5, shuffle = True, random_state = 17)\n",
    "    score = cross_val_score(et, tomek_s_train, ***, scoring = 'neg_mean_squared_error', cv = skf, n_jobs = -1)\n",
    "    \n",
    "    return np.mean(score)\n",
    "\n",
    "def lr_reg_opt(n_estimators, C):\n",
    "    \n",
    "    params = { 'max_iter' : int(round(max_iter)), 'C' : C, 'n_jobs' : -1 }\n",
    "    \n",
    "    lr = LogisticRegression(**params)\n",
    "    skf = KFold(n_splits = 5, shuffle = True, random_state = 17)\n",
    "    score = cross_val_score(lr, tomek_s_train, ***, scoring = 'neg_mean_squared_error', cv = skf, n_jobs = -1)\n",
    "    \n",
    "    return np.mean(score)"
   ]
  },
  {
   "cell_type": "markdown",
   "id": "25489766",
   "metadata": {},
   "source": [
    "### Generate BayesianOptimization"
   ]
  },
  {
   "cell_type": "code",
   "execution_count": null,
   "id": "6238a754",
   "metadata": {},
   "outputs": [],
   "source": [
    "BO_cb_reg = BayesianOptimization(f = cb_reg_opt, pbounds = cb_pbounds, random_state=17)\n",
    "BO_xgb_reg = BayesianOptimization(f = xgb_reg_opt, pbounds = xgb_pbounds, random_state=17)\n",
    "BO_lgbm_reg = BayesianOptimization(f = lgbm_reg_opt, pbounds = lgbm_pbounds, random_state=17)\n",
    "BO_et_reg = BayesianOptimization(f = et_reg_opt, pbounds = et_pbounds, random_state=17)\n",
    "BO_lr_reg = BayesianOptimization(f = lr_reg_opt, pbounds = lr_pbounds, random_state=17)"
   ]
  },
  {
   "cell_type": "markdown",
   "id": "28810be2",
   "metadata": {},
   "source": [
    "### Optimizer Maximize"
   ]
  },
  {
   "cell_type": "code",
   "execution_count": null,
   "id": "d280486f",
   "metadata": {},
   "outputs": [],
   "source": [
    "BO_cb_reg.maximize(init_points=50, n_iter=150, acq = 'ei', xi = 0.01)\n",
    "BO_xgb_reg.maximize(init_points=50, n_iter=150, acq = 'ei', xi = 0.01)\n",
    "BO_lgbm_reg.maximize(init_points=50, n_iter=150, acq = 'ei', xi = 0.01)\n",
    "BO_et_reg.maximize(init_points=50, n_iter=150, acq = 'ei', xi = 0.01)\n",
    "BO_lr_reg.maximize(init_points=50, n_iter=150, acq = 'ei', xi = 0.01)"
   ]
  },
  {
   "cell_type": "markdown",
   "id": "d3161c51",
   "metadata": {},
   "source": [
    "### Change Max parameters from float to int"
   ]
  },
  {
   "cell_type": "code",
   "execution_count": null,
   "id": "dad73fbf",
   "metadata": {},
   "outputs": [],
   "source": [
    "# Catboost Max Parameters\n",
    "cb_reg_max_params = BO_cb_reg.max['params']\n",
    "cb_reg_max_params['n_estimators'] = int(round(cb_reg_max_params['n_estimators']))\n",
    "cb_reg_max_params['max_depth'] = int(round(cb_reg_max_params['max_depth']))\n",
    "\n",
    "# XGB Max Parameters\n",
    "xgb_reg_max_params = BO_xgb_reg.max['params']\n",
    "xgb_reg_max_params['n_estimators'] = int(round(xgb_reg_max_params['n_estimators']))\n",
    "xgb_reg_max_params['max_depth'] = int(round(xgb_reg_max_params['max_depth']))\n",
    "\n",
    "# LGBM Max Parameters\n",
    "lgbm_reg_max_params = BO_lgbm_reg.max['params']\n",
    "lgbm_reg_max_params['n_estimators'] = int(round(lgbm_reg_max_params['n_estimators']))\n",
    "lgbm_reg_max_params['max_depth'] = int(round(lgbm_reg_max_params['max_depth']))\n",
    "lgbm_reg_max_params['min_child_samples'] = int(round(lgbm_reg_max_params['min_child_samples']))\n",
    "\n",
    "# ExtraTrees Max Parameters\n",
    "et_reg_max_params = BO_et_reg.max['params']\n",
    "et_reg_max_params['n_estimators'] = int(round(et_reg_max_params['n_estimators']))\n",
    "et_reg_max_params['max_depth'] = int(round(et_reg_max_params['max_depth']))\n",
    "et_reg_max_params['min_samples_split'] = int(round(et_reg_max_params['min_samples_split']))\n",
    "et_reg_max_params['min_samples_leaf'] = int(round(et_reg_max_params['min_samples_leaf']))\n",
    "\n",
    "# Logistic Max Parameters\n",
    "lr_reg_max_params = BO_lr_reg.max['params']\n",
    "lr_reg_max_params['max_iter'] = int(round(lr_reg_max_params['max_iter']))"
   ]
  },
  {
   "cell_type": "markdown",
   "id": "fe610ae9",
   "metadata": {},
   "source": [
    "### Retraing the Model with best parameters"
   ]
  },
  {
   "cell_type": "code",
   "execution_count": null,
   "id": "c7b10aaf",
   "metadata": {},
   "outputs": [],
   "source": [
    "tune_cb_reg = CatBoostRegressor(**cb_reg_max_params)\n",
    "tune_cb_reg.fit(tomek_s_train,tomek_y_train)\n",
    "\n",
    "tune_xgb_reg = XGBRegressor(**xgb_reg_max_params)\n",
    "tune_xgb_reg.fit(tomek_s_train,tomek_y_train)\n",
    "\n",
    "tune_lgbm_reg = LGBMRegressor(**lgbm_reg_max_params)\n",
    "tune_lgbm_reg.fit(tomek_s_train,tomek_y_train)\n",
    "\n",
    "tune_et_reg = ExtraTreesRegressor(**et_reg_max_params)\n",
    "tune_et_reg.fit(tomek_s_train,tomek_y_train)\n",
    "\n",
    "tune_lr_reg = LogisticRegressionr(**lr_reg_max_params)\n",
    "tune_lr_reg.fit(tomek_s_train,tomek_y_train)"
   ]
  },
  {
   "cell_type": "markdown",
   "id": "72d75db7",
   "metadata": {},
   "source": [
    "### Validation Check"
   ]
  },
  {
   "cell_type": "code",
   "execution_count": null,
   "id": "dedfd917",
   "metadata": {},
   "outputs": [],
   "source": [
    "# Predict x_s_val by Tuned Model\n",
    "tune_cb_reg_val_pred = tune_cb_reg.predict(x_s_val)\n",
    "tune_xgb_reg_val_pred = tune_xgb_reg.predict(x_s_val)\n",
    "tune_lgbm_reg_val_pred = tune_lgbm_reg.predict(x_s_val)\n",
    "tune_et_reg_val_pred = tune_et_reg.predict(x_s_val)\n",
    "tune_lr_reg_val_pred = tune_lr_reg.predict(x_s_val)"
   ]
  },
  {
   "cell_type": "code",
   "execution_count": null,
   "id": "9f3fd895",
   "metadata": {},
   "outputs": [],
   "source": [
    "# Visualize Validation predict\n",
    "cb_val_pred = pd.DataFrame({'predict':tune_cb_reg_val_pred})\n",
    "xgb_val_pred = pd.DataFrame({'predict':tune_xgb_reg_val_pred})\n",
    "lgbm_val_pred = pd.DataFrame({'predict':tune_lgbm_reg_val_pred})\n",
    "et_val_pred = pd.DataFrame({'predict':tune_et_reg_val_pred})\n",
    "lr_val_pred = pd.DataFrame({'predict':tune_lr_reg_val_pred})\n",
    "\n",
    "plt.figure(figsize=(20,10))\n",
    "\n",
    "plt.subplot(3,2,1)\n",
    "sns.kdeplot(cb_val_pred.predict)\n",
    "plt.title('Caboost Predict KDE (val)')\n",
    "plt.show()\n",
    "\n",
    "plt.subplot(3,2,2)\n",
    "sns.kdeplot(xgb_val_pred.predict)\n",
    "plt.title('XGB Predict KDE (val)')\n",
    "plt.show()\n",
    "\n",
    "plt.subplot(3,2,3)\n",
    "sns.kdeplot(lgbm_val_pred.predict)\n",
    "plt.title('LGBM Predict KDE (val)')\n",
    "plt.show()\n",
    "\n",
    "plt.subplot(3,2,4)\n",
    "sns.kdeplot(et_val_pred.predict)\n",
    "plt.title('ExtraTrees Predict KDE (val)')\n",
    "plt.show()\n",
    "\n",
    "plt.subplot(3,2,5)\n",
    "sns.kdeplot(lr_val_pred.predict)\n",
    "plt.title('Logistic Predict KDE (val)')\n",
    "plt.show()"
   ]
  },
  {
   "cell_type": "code",
   "execution_count": null,
   "id": "248175ae",
   "metadata": {},
   "outputs": [],
   "source": [
    "# Check 8.5% raw at Validation predict\n",
    "print(cb_val_pred.predict.sort_values(ascending = False).iloc[510:521])\n",
    "print(xgb_val_pred.predict.sort_values(ascending = False).iloc[510:521])\n",
    "print(lgbm_val_pred.predict.sort_values(ascending = False).iloc[510:521])\n",
    "print(et_val_pred.predict.sort_values(ascending = False).iloc[510:521])\n",
    "print(lr_val_pred.predict.sort_values(ascending = False).iloc[510:521])"
   ]
  },
  {
   "cell_type": "code",
   "execution_count": null,
   "id": "468b8438",
   "metadata": {},
   "outputs": [],
   "source": [
    "# predict transform by threshold\n",
    "cb_trans_val_pred = np.array([0 if i < * else 1 for i in tune_cb_reg_val_pred])\n",
    "xgb_trans_val_pred = np.array([0 if i < * else 1 for i in tune_xgb_reg_val_pred])\n",
    "lgbm_trans_val_pred = np.array([0 if i < * else 1 for i in tune_lgbm_reg_val_pred])\n",
    "et_trans_val_pred = np.array([0 if i < * else 1 for i in tune_et_reg_val_pred])\n",
    "lr_trans_val_pred = np.array([0 if i < * else 1 for i in tune_lr_reg_val_pred])"
   ]
  },
  {
   "cell_type": "code",
   "execution_count": null,
   "id": "d0e47a86",
   "metadata": {},
   "outputs": [],
   "source": [
    "# Validation F1-macro Score & ConfusionMatrix\n",
    "tune_cb_reg_val_score = f1_score(y_val, cb_trans_val_pred, average = 'macro')\n",
    "tune_xgb_reg_val_score = f1_score(y_val, xgb_trans_val_pred, average = 'macro')\n",
    "tune_lgbm_reg_val_score = f1_score(y_val, tune_lgbm_reg_pred, average = 'macro')\n",
    "tune_et_reg_val_score = f1_score(y_val, et_trans_val_pred, average = 'macro')\n",
    "tune_lr_reg_val_score = f1_score(y_val, lr_trans_val_pred, average = 'macro')\n",
    "\n",
    "print(f'Catboost F1 score : {tune_cb_reg_val_score}\\n', classification_report(y_val, cb_trans_val_pred))\n",
    "print(f'XGB F1 score : {tune_xgb_reg_val_score}\\n', classification_report(y_val, xgb_trans_val_pred))\n",
    "print(f'LGBM F1 score : {tune_lgbm_reg_val_score}\\n', classification_report(y_val, lgbm_trans_val_pred))\n",
    "print(f'ExtraTrees F1 score : {tune_et_reg_val_score}\\n', classification_report(y_val, et_trans_val_pred))\n",
    "print(f'Logistic F1 score : {tune_lr_reg_val_score}\\n', classification_report(y_val, lr_trans_val_pred))"
   ]
  },
  {
   "cell_type": "markdown",
   "id": "062964a2",
   "metadata": {},
   "source": [
    "### Generate Test Predict"
   ]
  },
  {
   "cell_type": "code",
   "execution_count": null,
   "id": "7c476ca1",
   "metadata": {},
   "outputs": [],
   "source": [
    "# Predict target by test_x\n",
    "tune_cb_reg_pred = tune_cb_reg.predict(test_x)\n",
    "tune_xgb_reg_pred = tune_xgb_reg.predict(test_x)\n",
    "tune_lgbm_reg_pred = tune_lgbm_reg.predict(test_x)\n",
    "tune_et_reg_pred = tune_et_reg.predict(test_x)\n",
    "tune_lr_reg_pred = tune_lr_reg.predict(test_x)"
   ]
  },
  {
   "cell_type": "code",
   "execution_count": null,
   "id": "6f394275",
   "metadata": {},
   "outputs": [],
   "source": [
    "# Visualize target predict\n",
    "cb_pred = pd.DataFrame({'predict':tune_cb_reg_pred})\n",
    "xgb_pred = pd.DataFrame({'predict':tune_xgb_reg_pred})\n",
    "lgbm_pred = pd.DataFrame({'predict':tune_lgbm_reg_pred})\n",
    "et_pred = pd.DataFrame({'predict':tune_et_reg_pred})\n",
    "lr_pred = pd.DataFrame({'predict':tune_lr_reg_pred})\n",
    "\n",
    "plt.figure(figsize=(20,10))\n",
    "\n",
    "plt.subplot(3,2,1)\n",
    "sns.kdeplot(cb_pred.predict)\n",
    "plt.title('Caboost Predict KDE (predict)')\n",
    "plt.show()\n",
    "\n",
    "plt.subplot(3,2,2)\n",
    "sns.kdeplot(xgb_pred.predict)\n",
    "plt.title('XGB Predict KDE (predict)')\n",
    "plt.show()\n",
    "\n",
    "plt.subplot(3,2,3)\n",
    "sns.kdeplot(lgbm_pred.predict)\n",
    "plt.title('LGBM Predict KDE (predict)')\n",
    "plt.show()\n",
    "\n",
    "plt.subplot(3,2,4)\n",
    "sns.kdeplot(et_pred.predict)\n",
    "plt.title('ExtraTrees Predict KDE (predict)')\n",
    "plt.show()\n",
    "\n",
    "plt.subplot(3,2,5)\n",
    "sns.kdeplot(lr_pred.predict)\n",
    "plt.title('Logistic Predict KDE (predict)')\n",
    "plt.show()"
   ]
  },
  {
   "cell_type": "code",
   "execution_count": null,
   "id": "cc44d950",
   "metadata": {},
   "outputs": [],
   "source": [
    "# target predict 8.5% raw print by Model\n",
    "print(cb_pred.predict.sort_values(ascending = False).iloc[510:521])\n",
    "print(xgb_pred.predict.sort_values(ascending = False).iloc[510:521])\n",
    "print(lgbm_pred.predict.sort_values(ascending = False).iloc[510:521])\n",
    "print(et_pred.predict.sort_values(ascending = False).iloc[510:521])\n",
    "print(lr_pred.predict.sort_values(ascending = False).iloc[510:521])"
   ]
  },
  {
   "cell_type": "code",
   "execution_count": null,
   "id": "306a5527",
   "metadata": {},
   "outputs": [],
   "source": [
    "# Transform predict by Threshold\n",
    "cb_trans_reg_pred = np.array([0 if i < * else 1 for i in tune_cb_reg_pred])\n",
    "xgb_trans_reg_pred = np.array([0 if i < * else 1 for i in tune_xgb_reg_pred])\n",
    "lgbm_trans_reg_pred = np.array([0 if i < * else 1 for i in tune_lgbm_reg_pred])\n",
    "et_trans_reg_pred = np.array([0 if i < * else 1 for i in tune_et_reg_pred])\n",
    "lr_trans_reg_pred = np.array([0 if i < * else 1 for i in tune_lr_reg_pred])"
   ]
  },
  {
   "cell_type": "markdown",
   "id": "4041781e",
   "metadata": {},
   "source": [
    "## Saving Task1 Model"
   ]
  },
  {
   "cell_type": "code",
   "execution_count": null,
   "id": "f3204454",
   "metadata": {},
   "outputs": [],
   "source": [
    "# Saving Model\n",
    "joblib.dump(tune_cb_reg, 'model_save/tuning/task1_xxx_clf_task2_cb_reg.pkl')\n",
    "joblib.dump(tune_xgb_reg, 'model_save/tuning/task1_xxx_clf_task2_xgb_reg.pkl')\n",
    "joblib.dump(tune_lgbm_reg, 'model_save/tuning/task1_xxx_clf_task2_lgbm_reg.pkl')\n",
    "joblib.dump(tune_rt_reg, 'model_save/tuning/task1_xxx_clf_task2_rt_reg.pkl')\n",
    "joblib.dump(tune_lr_reg, 'model_save/tuning/task1_xxx_clf_task2_lr_reg.pkl')"
   ]
  },
  {
   "cell_type": "markdown",
   "id": "d4bae957",
   "metadata": {},
   "source": [
    "## to_csv Submission"
   ]
  },
  {
   "cell_type": "code",
   "execution_count": null,
   "id": "e42a3c43",
   "metadata": {},
   "outputs": [],
   "source": [
    "pd.DataFrame({'ID': test_id, 'Y_LABEL': cb_trans_reg_pred}).to_csv('predict/modeling/xx_clf_cb_reg_.csv', index=False)\n",
    "pd.DataFrame({'ID': test_id, 'Y_LABEL': xgb_trans_reg_pred}).to_csv('predict/modeling/xx_clf_xgb_reg_.csv', index=False)\n",
    "pd.DataFrame({'ID': test_id, 'Y_LABEL': lgbm_trans_reg_pred}).to_csv('predict/modeling/xx_clf_lgbm_reg_.csv', index=False)\n",
    "pd.DataFrame({'ID': test_id, 'Y_LABEL': et_trans_reg_pred}).to_csv('predict/modeling/xx_clf_et_reg_.csv', index=False)\n",
    "pd.DataFrame({'ID': test_id, 'Y_LABEL': lr_trans_reg_pred}).to_csv('predict/modeling/xx_clf_lr_reg_.csv', index=False)"
   ]
  }
 ],
 "metadata": {
  "kernelspec": {
   "display_name": "Python 3 (ipykernel)",
   "language": "python",
   "name": "python3"
  },
  "language_info": {
   "codemirror_mode": {
    "name": "ipython",
    "version": 3
   },
   "file_extension": ".py",
   "mimetype": "text/x-python",
   "name": "python",
   "nbconvert_exporter": "python",
   "pygments_lexer": "ipython3",
   "version": "3.9.12"
  }
 },
 "nbformat": 4,
 "nbformat_minor": 5
}

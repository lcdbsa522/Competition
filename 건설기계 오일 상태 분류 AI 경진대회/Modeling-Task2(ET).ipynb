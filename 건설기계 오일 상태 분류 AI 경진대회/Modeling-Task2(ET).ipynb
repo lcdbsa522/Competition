{
 "cells": [
  {
   "cell_type": "code",
   "execution_count": 1,
   "id": "338aa65b",
   "metadata": {},
   "outputs": [],
   "source": [
    "# Base & Visualization\n",
    "import pandas as pd\n",
    "import numpy as np\n",
    "import matplotlib.pyplot as plt\n",
    "import seaborn as sns\n",
    "%matplotlib inline\n",
    "\n",
    "# Preprocessing\n",
    "from sklearn.model_selection import train_test_split\n",
    "from sklearn.model_selection import StratifiedKFold, KFold\n",
    "from sklearn.model_selection import cross_val_score\n",
    "\n",
    "# Oversampling\n",
    "from imblearn.combine import  SMOTETomek\n",
    "\n",
    "# Modeling\n",
    "from catboost import CatBoostClassifier, CatBoostRegressor\n",
    "from xgboost import XGBClassifier, XGBRegressor\n",
    "from lightgbm import LGBMClassifier, LGBMRegressor\n",
    "from sklearn.ensemble import ExtraTreesClassifier, ExtraTreesRegressor\n",
    "from sklearn.linear_model import LogisticRegression\n",
    "\n",
    "# Scoring\n",
    "from sklearn.metrics import f1_score\n",
    "from sklearn.metrics import mean_squared_error\n",
    "\n",
    "# BayesianOptimizer\n",
    "from bayes_opt import BayesianOptimization\n",
    "\n",
    "# Saving Model\n",
    "import joblib"
   ]
  },
  {
   "cell_type": "code",
   "execution_count": 2,
   "id": "03998d22",
   "metadata": {},
   "outputs": [],
   "source": [
    "train = pd.read_csv('data/part/one-hot_encoding/iterative/oversampling/part_one_iter_tomek_train.csv')\n",
    "label = pd.read_csv('data/part/one-hot_encoding/iterative/oversampling/label/part_one_iter_tomek_label.csv')\n",
    "test = pd.read_csv('data/one_hot_test.csv')\n",
    "test_id = pd.read_csv('data/sample_submission.csv')['ID']\n",
    "\n",
    "train_x = np.array(train)\n",
    "train_y = np.array(label)\n",
    "test_x = np.array(test)\n",
    "train_s = np.array(train.loc[:,test.columns])"
   ]
  },
  {
   "cell_type": "code",
   "execution_count": 3,
   "id": "9c8c9011",
   "metadata": {},
   "outputs": [],
   "source": [
    "# Catboost\n",
    "cb_pbounds = { 'n_estimators' : (200, 400),\n",
    "               'learning_rate' : (0.01, 0.5),\n",
    "               'max_depth' : (4, 10),\n",
    "               'random_strength' : (0.1, 0.9),\n",
    "               'l2_leaf_reg' : (1, 5) }\n",
    "\n",
    "# XGB\n",
    "xgb_pbounds = { 'n_estimators' : (50, 400),\n",
    "                'learning_rate' : (0.001, 0.5),\n",
    "                'max_depth' : (4, 10),\n",
    "                'subsample' : (0.7, 1),\n",
    "                'colsample_bytree' : (0.7, 1),\n",
    "                'min_child_weight' : (1, 15) }\n",
    "\n",
    "# LGBM\n",
    "lgbm_pbounds = { 'n_estimators' : (100, 400),\n",
    "                 'learning_rate' : (0.01, 0.5),\n",
    "                 'max_depth' : (4, 10),\n",
    "                 'subsample' : (0.7, 1),\n",
    "                 'colsample_bytree' : (0.7, 0.95),\n",
    "                 'num_leaves': (2,10),\n",
    "                 'min_child_weight' : (1, 15) }\n",
    "\n",
    "# ExtraTree\n",
    "et_pbounds = { 'n_estimators' : (50, 300), 'max_depth' : (4, 10),\n",
    "               'min_samples_split' : (2, 15), 'min_samples_leaf' : (2, 15) }"
   ]
  },
  {
   "cell_type": "code",
   "execution_count": 4,
   "id": "0589d0f1",
   "metadata": {},
   "outputs": [
    {
     "data": {
      "text/plain": [
       "array([0.30727496, 0.31466006, 0.48001105, ..., 0.61093723, 0.5792827 ,\n",
       "       0.63243439])"
      ]
     },
     "execution_count": 4,
     "metadata": {},
     "output_type": "execute_result"
    }
   ],
   "source": [
    "tune_et_clf = joblib.load('model_save/tuning/task1_et_clf.pkl')\n",
    "\n",
    "tune_et_clf_pred_proba = np.array([i[1] for i in tune_et_clf.predict_proba(train_x)])\n",
    "tune_et_clf_pred_proba"
   ]
  },
  {
   "cell_type": "code",
   "execution_count": 5,
   "id": "112b6bba",
   "metadata": {},
   "outputs": [],
   "source": [
    "def cb_reg_opt(n_estimators, learning_rate, max_depth, random_strength, l2_leaf_reg):\n",
    "    \n",
    "    params = { 'n_estimators' : int(round(n_estimators)),\n",
    "               'learning_rate' : learning_rate,\n",
    "               'max_depth' : int(round(max_depth)),\n",
    "               'random_strength' : random_strength,\n",
    "               'l2_leaf_reg' : l2_leaf_reg }\n",
    "    \n",
    "    cb = CatBoostRegressor(**params)\n",
    "    skf = KFold(n_splits = 4, shuffle = True, random_state = 17)\n",
    "    score = cross_val_score(cb, train_s, tune_et_clf_pred_proba, scoring = 'neg_mean_squared_error', cv = skf, n_jobs = -1)\n",
    "    \n",
    "    return np.mean(score)\n",
    "\n",
    "def xgb_reg_opt(n_estimators, learning_rate, max_depth, subsample, colsample_bytree, min_child_weight):\n",
    "    \n",
    "    params = { 'n_estimators' : int(round(n_estimators)),\n",
    "               'learning_rate' : learning_rate,\n",
    "               'max_depth' : int(round(max_depth)),\n",
    "               'subsample' : subsample,\n",
    "               'colsample_bytree' : colsample_bytree,\n",
    "               'min_child_weight' : min_child_weight, 'n_jobs' : -1 }\n",
    "    \n",
    "    xgb = XGBRegressor(**params)\n",
    "    skf = KFold(n_splits = 4, shuffle = True, random_state = 17)\n",
    "    score = cross_val_score(xgb, train_s, tune_et_clf_pred_proba, scoring = 'neg_mean_squared_error', cv = skf, n_jobs = -1)\n",
    "    \n",
    "    return np.mean(score)\n",
    "\n",
    "def lgbm_reg_opt(n_estimators, learning_rate, max_depth, subsample, colsample_bytree, num_leaves, min_child_weight):\n",
    "    \n",
    "    params = { 'n_estimators' : int(round(n_estimators)),\n",
    "               'learning_rate' : learning_rate,\n",
    "               'max_depth' : int(round(max_depth)),\n",
    "               'subsample' : subsample,\n",
    "               'colsample_bytree' : colsample_bytree,\n",
    "               'num_leaves' : int(round(num_leaves)),\n",
    "               'min_child_weight' : min_child_weight,'n_jobs' : -1 }\n",
    "    \n",
    "    lgbm = LGBMRegressor(**params)\n",
    "    skf = KFold(n_splits = 4, shuffle = True, random_state = 17)\n",
    "    score = cross_val_score(lgbm, train_s, tune_et_clf_pred_proba, scoring = 'neg_mean_squared_error', cv = skf, n_jobs = -1)\n",
    "    \n",
    "    return np.mean(score)\n",
    "\n",
    "def et_reg_opt(n_estimators, max_depth, min_samples_split, min_samples_leaf):\n",
    "    \n",
    "    params = { 'n_estimators' : int(round(n_estimators)),\n",
    "               'max_depth' : int(round(max_depth)),\n",
    "               'min_samples_split' : int(round(min_samples_split)),\n",
    "               'min_samples_leaf' : int(round(min_samples_leaf)), 'n_jobs' : -1 }\n",
    "    \n",
    "    et = ExtraTreesRegressor(**params)\n",
    "    skf = KFold(n_splits = 4, shuffle = True, random_state = 17)\n",
    "    score = cross_val_score(et, train_s, tune_et_clf_pred_proba, scoring = 'neg_mean_squared_error', cv = skf, n_jobs = -1)\n",
    "    \n",
    "    return np.mean(score)"
   ]
  },
  {
   "cell_type": "code",
   "execution_count": 6,
   "id": "a8a6a88d",
   "metadata": {},
   "outputs": [],
   "source": [
    "#BO_cb_reg = BayesianOptimization(f = cb_reg_opt, pbounds = cb_pbounds, random_state=17)\n",
    "BO_xgb_reg = BayesianOptimization(f = xgb_reg_opt, pbounds = xgb_pbounds, random_state=17)\n",
    "BO_lgbm_reg = BayesianOptimization(f = lgbm_reg_opt, pbounds = lgbm_pbounds, random_state=17)\n",
    "BO_et_reg = BayesianOptimization(f = et_reg_opt, pbounds = et_pbounds, random_state=17)"
   ]
  },
  {
   "cell_type": "code",
   "execution_count": null,
   "id": "05f28353",
   "metadata": {},
   "outputs": [],
   "source": [
    "# Catboost Maximize\n",
    "#BO_cb_reg.maximize(init_points=50, n_iter=50)"
   ]
  },
  {
   "cell_type": "code",
   "execution_count": 9,
   "id": "21cd161f",
   "metadata": {
    "collapsed": true
   },
   "outputs": [
    {
     "name": "stdout",
     "output_type": "stream",
     "text": [
      "|   iter    |  target   | colsam... | learni... | max_depth | min_ch... | n_esti... | subsample |\n",
      "-------------------------------------------------------------------------------------------------\n",
      "| \u001b[0m1        \u001b[0m | \u001b[0m-0.003656\u001b[0m | \u001b[0m0.7884   \u001b[0m | \u001b[0m0.2658   \u001b[0m | \u001b[0m5.149    \u001b[0m | \u001b[0m1.951    \u001b[0m | \u001b[0m325.4    \u001b[0m | \u001b[0m0.8969   \u001b[0m |\n",
      "| \u001b[0m2        \u001b[0m | \u001b[0m-0.003811\u001b[0m | \u001b[0m0.8913   \u001b[0m | \u001b[0m0.2882   \u001b[0m | \u001b[0m4.234    \u001b[0m | \u001b[0m6.009    \u001b[0m | \u001b[0m381.0    \u001b[0m | \u001b[0m0.718    \u001b[0m |\n",
      "| \u001b[0m3        \u001b[0m | \u001b[0m-0.003939\u001b[0m | \u001b[0m0.9592   \u001b[0m | \u001b[0m0.4388   \u001b[0m | \u001b[0m4.307    \u001b[0m | \u001b[0m10.13    \u001b[0m | \u001b[0m243.1    \u001b[0m | \u001b[0m0.8793   \u001b[0m |\n",
      "| \u001b[95m4        \u001b[0m | \u001b[95m-0.003632\u001b[0m | \u001b[95m0.8451   \u001b[0m | \u001b[95m0.1422   \u001b[0m | \u001b[95m5.786    \u001b[0m | \u001b[95m8.861    \u001b[0m | \u001b[95m188.6    \u001b[0m | \u001b[95m0.9366   \u001b[0m |\n",
      "| \u001b[0m5        \u001b[0m | \u001b[0m-0.003824\u001b[0m | \u001b[0m0.8255   \u001b[0m | \u001b[0m0.07281  \u001b[0m | \u001b[0m4.905    \u001b[0m | \u001b[0m1.773    \u001b[0m | \u001b[0m301.3    \u001b[0m | \u001b[0m0.7877   \u001b[0m |\n",
      "| \u001b[0m6        \u001b[0m | \u001b[0m-0.004177\u001b[0m | \u001b[0m0.7596   \u001b[0m | \u001b[0m0.4159   \u001b[0m | \u001b[0m7.408    \u001b[0m | \u001b[0m2.153    \u001b[0m | \u001b[0m240.7    \u001b[0m | \u001b[0m0.7477   \u001b[0m |\n",
      "| \u001b[95m7        \u001b[0m | \u001b[95m-0.00354 \u001b[0m | \u001b[95m0.903    \u001b[0m | \u001b[95m0.06012  \u001b[0m | \u001b[95m6.67     \u001b[0m | \u001b[95m13.43    \u001b[0m | \u001b[95m329.0    \u001b[0m | \u001b[95m0.7204   \u001b[0m |\n",
      "| \u001b[0m8        \u001b[0m | \u001b[0m-0.003865\u001b[0m | \u001b[0m0.9882   \u001b[0m | \u001b[0m0.3299   \u001b[0m | \u001b[0m8.313    \u001b[0m | \u001b[0m11.41    \u001b[0m | \u001b[0m360.7    \u001b[0m | \u001b[0m0.7402   \u001b[0m |\n",
      "| \u001b[0m9        \u001b[0m | \u001b[0m-0.004036\u001b[0m | \u001b[0m0.9331   \u001b[0m | \u001b[0m0.4192   \u001b[0m | \u001b[0m8.976    \u001b[0m | \u001b[0m1.408    \u001b[0m | \u001b[0m186.6    \u001b[0m | \u001b[0m0.8312   \u001b[0m |\n",
      "| \u001b[0m10       \u001b[0m | \u001b[0m-0.004079\u001b[0m | \u001b[0m0.8562   \u001b[0m | \u001b[0m0.2469   \u001b[0m | \u001b[0m4.783    \u001b[0m | \u001b[0m14.78    \u001b[0m | \u001b[0m73.0     \u001b[0m | \u001b[0m0.8738   \u001b[0m |\n",
      "| \u001b[0m11       \u001b[0m | \u001b[0m-0.00425 \u001b[0m | \u001b[0m0.8742   \u001b[0m | \u001b[0m0.4772   \u001b[0m | \u001b[0m5.185    \u001b[0m | \u001b[0m2.167    \u001b[0m | \u001b[0m359.4    \u001b[0m | \u001b[0m0.7047   \u001b[0m |\n",
      "| \u001b[0m12       \u001b[0m | \u001b[0m-0.003932\u001b[0m | \u001b[0m0.9387   \u001b[0m | \u001b[0m0.3843   \u001b[0m | \u001b[0m9.232    \u001b[0m | \u001b[0m13.83    \u001b[0m | \u001b[0m145.8    \u001b[0m | \u001b[0m0.7709   \u001b[0m |\n",
      "| \u001b[0m13       \u001b[0m | \u001b[0m-0.003808\u001b[0m | \u001b[0m0.7932   \u001b[0m | \u001b[0m0.3581   \u001b[0m | \u001b[0m4.496    \u001b[0m | \u001b[0m10.46    \u001b[0m | \u001b[0m350.5    \u001b[0m | \u001b[0m0.9079   \u001b[0m |\n",
      "| \u001b[0m14       \u001b[0m | \u001b[0m-0.003643\u001b[0m | \u001b[0m0.9355   \u001b[0m | \u001b[0m0.1773   \u001b[0m | \u001b[0m5.321    \u001b[0m | \u001b[0m4.435    \u001b[0m | \u001b[0m304.6    \u001b[0m | \u001b[0m0.7192   \u001b[0m |\n",
      "| \u001b[95m15       \u001b[0m | \u001b[95m-0.003501\u001b[0m | \u001b[95m0.8361   \u001b[0m | \u001b[95m0.2444   \u001b[0m | \u001b[95m7.845    \u001b[0m | \u001b[95m2.486    \u001b[0m | \u001b[95m250.8    \u001b[0m | \u001b[95m0.9881   \u001b[0m |\n",
      "| \u001b[0m16       \u001b[0m | \u001b[0m-0.003727\u001b[0m | \u001b[0m0.8547   \u001b[0m | \u001b[0m0.2853   \u001b[0m | \u001b[0m9.928    \u001b[0m | \u001b[0m12.66    \u001b[0m | \u001b[0m224.4    \u001b[0m | \u001b[0m0.724    \u001b[0m |\n",
      "| \u001b[0m17       \u001b[0m | \u001b[0m-0.003806\u001b[0m | \u001b[0m0.9613   \u001b[0m | \u001b[0m0.3568   \u001b[0m | \u001b[0m8.393    \u001b[0m | \u001b[0m12.53    \u001b[0m | \u001b[0m310.7    \u001b[0m | \u001b[0m0.8239   \u001b[0m |\n",
      "| \u001b[0m18       \u001b[0m | \u001b[0m-0.004023\u001b[0m | \u001b[0m0.8544   \u001b[0m | \u001b[0m0.4234   \u001b[0m | \u001b[0m9.153    \u001b[0m | \u001b[0m5.347    \u001b[0m | \u001b[0m91.79    \u001b[0m | \u001b[0m0.8563   \u001b[0m |\n",
      "| \u001b[0m19       \u001b[0m | \u001b[0m-0.004006\u001b[0m | \u001b[0m0.8347   \u001b[0m | \u001b[0m0.4487   \u001b[0m | \u001b[0m6.959    \u001b[0m | \u001b[0m8.063    \u001b[0m | \u001b[0m177.8    \u001b[0m | \u001b[0m0.9349   \u001b[0m |\n",
      "| \u001b[0m20       \u001b[0m | \u001b[0m-0.003662\u001b[0m | \u001b[0m0.9844   \u001b[0m | \u001b[0m0.06588  \u001b[0m | \u001b[0m7.967    \u001b[0m | \u001b[0m3.292    \u001b[0m | \u001b[0m158.1    \u001b[0m | \u001b[0m0.99     \u001b[0m |\n",
      "| \u001b[0m21       \u001b[0m | \u001b[0m-0.003733\u001b[0m | \u001b[0m0.8449   \u001b[0m | \u001b[0m0.2708   \u001b[0m | \u001b[0m8.267    \u001b[0m | \u001b[0m10.62    \u001b[0m | \u001b[0m62.94    \u001b[0m | \u001b[0m0.9665   \u001b[0m |\n",
      "| \u001b[0m22       \u001b[0m | \u001b[0m-0.004044\u001b[0m | \u001b[0m0.7566   \u001b[0m | \u001b[0m0.3912   \u001b[0m | \u001b[0m7.864    \u001b[0m | \u001b[0m7.796    \u001b[0m | \u001b[0m375.2    \u001b[0m | \u001b[0m0.781    \u001b[0m |\n",
      "| \u001b[0m23       \u001b[0m | \u001b[0m-0.003798\u001b[0m | \u001b[0m0.9443   \u001b[0m | \u001b[0m0.3478   \u001b[0m | \u001b[0m5.413    \u001b[0m | \u001b[0m14.35    \u001b[0m | \u001b[0m254.9    \u001b[0m | \u001b[0m0.8749   \u001b[0m |\n",
      "| \u001b[0m24       \u001b[0m | \u001b[0m-0.003793\u001b[0m | \u001b[0m0.7472   \u001b[0m | \u001b[0m0.2132   \u001b[0m | \u001b[0m5.41     \u001b[0m | \u001b[0m9.407    \u001b[0m | \u001b[0m176.2    \u001b[0m | \u001b[0m0.7507   \u001b[0m |\n",
      "| \u001b[0m25       \u001b[0m | \u001b[0m-0.003569\u001b[0m | \u001b[0m0.8042   \u001b[0m | \u001b[0m0.108    \u001b[0m | \u001b[0m8.767    \u001b[0m | \u001b[0m12.08    \u001b[0m | \u001b[0m107.6    \u001b[0m | \u001b[0m0.9251   \u001b[0m |\n",
      "| \u001b[95m26       \u001b[0m | \u001b[95m-0.003438\u001b[0m | \u001b[95m0.7168   \u001b[0m | \u001b[95m0.117    \u001b[0m | \u001b[95m7.901    \u001b[0m | \u001b[95m11.06    \u001b[0m | \u001b[95m218.0    \u001b[0m | \u001b[95m0.8013   \u001b[0m |\n",
      "| \u001b[0m27       \u001b[0m | \u001b[0m-0.003937\u001b[0m | \u001b[0m0.8169   \u001b[0m | \u001b[0m0.4295   \u001b[0m | \u001b[0m7.068    \u001b[0m | \u001b[0m13.25    \u001b[0m | \u001b[0m381.3    \u001b[0m | \u001b[0m0.9807   \u001b[0m |\n",
      "| \u001b[0m28       \u001b[0m | \u001b[0m-0.003639\u001b[0m | \u001b[0m0.8479   \u001b[0m | \u001b[0m0.3007   \u001b[0m | \u001b[0m5.243    \u001b[0m | \u001b[0m14.39    \u001b[0m | \u001b[0m395.4    \u001b[0m | \u001b[0m0.9488   \u001b[0m |\n",
      "| \u001b[0m29       \u001b[0m | \u001b[0m-0.004954\u001b[0m | \u001b[0m0.8614   \u001b[0m | \u001b[0m0.04269  \u001b[0m | \u001b[0m5.883    \u001b[0m | \u001b[0m2.486    \u001b[0m | \u001b[0m121.7    \u001b[0m | \u001b[0m0.7977   \u001b[0m |\n",
      "| \u001b[0m30       \u001b[0m | \u001b[0m-0.004117\u001b[0m | \u001b[0m0.8505   \u001b[0m | \u001b[0m0.4393   \u001b[0m | \u001b[0m5.566    \u001b[0m | \u001b[0m8.422    \u001b[0m | \u001b[0m345.4    \u001b[0m | \u001b[0m0.741    \u001b[0m |\n",
      "| \u001b[0m31       \u001b[0m | \u001b[0m-0.003785\u001b[0m | \u001b[0m0.8201   \u001b[0m | \u001b[0m0.2847   \u001b[0m | \u001b[0m5.116    \u001b[0m | \u001b[0m1.192    \u001b[0m | \u001b[0m257.5    \u001b[0m | \u001b[0m0.7047   \u001b[0m |\n",
      "| \u001b[0m32       \u001b[0m | \u001b[0m-0.003577\u001b[0m | \u001b[0m0.8758   \u001b[0m | \u001b[0m0.2049   \u001b[0m | \u001b[0m5.372    \u001b[0m | \u001b[0m3.658    \u001b[0m | \u001b[0m369.7    \u001b[0m | \u001b[0m0.8771   \u001b[0m |\n",
      "| \u001b[0m33       \u001b[0m | \u001b[0m-0.003796\u001b[0m | \u001b[0m0.7514   \u001b[0m | \u001b[0m0.3575   \u001b[0m | \u001b[0m5.431    \u001b[0m | \u001b[0m13.91    \u001b[0m | \u001b[0m302.4    \u001b[0m | \u001b[0m0.9031   \u001b[0m |\n",
      "| \u001b[0m34       \u001b[0m | \u001b[0m-0.00371 \u001b[0m | \u001b[0m0.996    \u001b[0m | \u001b[0m0.2703   \u001b[0m | \u001b[0m6.984    \u001b[0m | \u001b[0m13.57    \u001b[0m | \u001b[0m386.5    \u001b[0m | \u001b[0m0.7007   \u001b[0m |\n",
      "| \u001b[0m35       \u001b[0m | \u001b[0m-0.003628\u001b[0m | \u001b[0m0.9493   \u001b[0m | \u001b[0m0.2791   \u001b[0m | \u001b[0m9.61     \u001b[0m | \u001b[0m11.06    \u001b[0m | \u001b[0m385.3    \u001b[0m | \u001b[0m0.9277   \u001b[0m |\n",
      "| \u001b[95m36       \u001b[0m | \u001b[95m-0.003304\u001b[0m | \u001b[95m0.7792   \u001b[0m | \u001b[95m0.06874  \u001b[0m | \u001b[95m9.41     \u001b[0m | \u001b[95m8.225    \u001b[0m | \u001b[95m347.3    \u001b[0m | \u001b[95m0.7166   \u001b[0m |\n",
      "| \u001b[0m37       \u001b[0m | \u001b[0m-0.003743\u001b[0m | \u001b[0m0.829    \u001b[0m | \u001b[0m0.1036   \u001b[0m | \u001b[0m9.224    \u001b[0m | \u001b[0m10.72    \u001b[0m | \u001b[0m71.85    \u001b[0m | \u001b[0m0.8844   \u001b[0m |\n",
      "| \u001b[0m38       \u001b[0m | \u001b[0m-0.006945\u001b[0m | \u001b[0m0.9518   \u001b[0m | \u001b[0m0.01786  \u001b[0m | \u001b[0m7.676    \u001b[0m | \u001b[0m13.96    \u001b[0m | \u001b[0m103.0    \u001b[0m | \u001b[0m0.9184   \u001b[0m |\n",
      "| \u001b[0m39       \u001b[0m | \u001b[0m-0.003955\u001b[0m | \u001b[0m0.7452   \u001b[0m | \u001b[0m0.4201   \u001b[0m | \u001b[0m5.096    \u001b[0m | \u001b[0m6.475    \u001b[0m | \u001b[0m176.1    \u001b[0m | \u001b[0m0.8194   \u001b[0m |\n",
      "| \u001b[0m40       \u001b[0m | \u001b[0m-0.003727\u001b[0m | \u001b[0m0.9971   \u001b[0m | \u001b[0m0.1002   \u001b[0m | \u001b[0m6.216    \u001b[0m | \u001b[0m11.77    \u001b[0m | \u001b[0m205.9    \u001b[0m | \u001b[0m0.8669   \u001b[0m |\n",
      "| \u001b[0m41       \u001b[0m | \u001b[0m-0.004349\u001b[0m | \u001b[0m0.9291   \u001b[0m | \u001b[0m0.4999   \u001b[0m | \u001b[0m8.908    \u001b[0m | \u001b[0m7.145    \u001b[0m | \u001b[0m169.7    \u001b[0m | \u001b[0m0.8008   \u001b[0m |\n",
      "| \u001b[0m42       \u001b[0m | \u001b[0m-0.003877\u001b[0m | \u001b[0m0.9638   \u001b[0m | \u001b[0m0.376    \u001b[0m | \u001b[0m4.463    \u001b[0m | \u001b[0m8.367    \u001b[0m | \u001b[0m285.6    \u001b[0m | \u001b[0m0.8463   \u001b[0m |\n",
      "| \u001b[0m43       \u001b[0m | \u001b[0m-0.003966\u001b[0m | \u001b[0m0.8572   \u001b[0m | \u001b[0m0.4296   \u001b[0m | \u001b[0m6.014    \u001b[0m | \u001b[0m2.892    \u001b[0m | \u001b[0m263.4    \u001b[0m | \u001b[0m0.8981   \u001b[0m |\n",
      "| \u001b[0m44       \u001b[0m | \u001b[0m-0.004024\u001b[0m | \u001b[0m0.9931   \u001b[0m | \u001b[0m0.4113   \u001b[0m | \u001b[0m8.672    \u001b[0m | \u001b[0m14.2     \u001b[0m | \u001b[0m189.6    \u001b[0m | \u001b[0m0.7907   \u001b[0m |\n",
      "| \u001b[0m45       \u001b[0m | \u001b[0m-0.003588\u001b[0m | \u001b[0m0.908    \u001b[0m | \u001b[0m0.2801   \u001b[0m | \u001b[0m7.095    \u001b[0m | \u001b[0m4.118    \u001b[0m | \u001b[0m277.5    \u001b[0m | \u001b[0m0.9032   \u001b[0m |\n",
      "| \u001b[0m46       \u001b[0m | \u001b[0m-0.003428\u001b[0m | \u001b[0m0.8159   \u001b[0m | \u001b[0m0.1314   \u001b[0m | \u001b[0m9.993    \u001b[0m | \u001b[0m4.702    \u001b[0m | \u001b[0m107.7    \u001b[0m | \u001b[0m0.935    \u001b[0m |\n",
      "| \u001b[0m47       \u001b[0m | \u001b[0m-0.004098\u001b[0m | \u001b[0m0.8441   \u001b[0m | \u001b[0m0.4767   \u001b[0m | \u001b[0m6.177    \u001b[0m | \u001b[0m9.443    \u001b[0m | \u001b[0m53.33    \u001b[0m | \u001b[0m0.9305   \u001b[0m |\n",
      "| \u001b[0m48       \u001b[0m | \u001b[0m-0.003828\u001b[0m | \u001b[0m0.9898   \u001b[0m | \u001b[0m0.3432   \u001b[0m | \u001b[0m9.024    \u001b[0m | \u001b[0m2.442    \u001b[0m | \u001b[0m325.9    \u001b[0m | \u001b[0m0.8292   \u001b[0m |\n",
      "| \u001b[0m49       \u001b[0m | \u001b[0m-0.004226\u001b[0m | \u001b[0m0.7526   \u001b[0m | \u001b[0m0.4503   \u001b[0m | \u001b[0m7.978    \u001b[0m | \u001b[0m4.02     \u001b[0m | \u001b[0m143.5    \u001b[0m | \u001b[0m0.7466   \u001b[0m |\n",
      "| \u001b[0m50       \u001b[0m | \u001b[0m-0.003953\u001b[0m | \u001b[0m0.8959   \u001b[0m | \u001b[0m0.355    \u001b[0m | \u001b[0m4.372    \u001b[0m | \u001b[0m14.66    \u001b[0m | \u001b[0m155.6    \u001b[0m | \u001b[0m0.8971   \u001b[0m |\n"
     ]
    },
    {
     "name": "stdout",
     "output_type": "stream",
     "text": [
      "| \u001b[0m51       \u001b[0m | \u001b[0m-0.003692\u001b[0m | \u001b[0m0.9321   \u001b[0m | \u001b[0m0.3314   \u001b[0m | \u001b[0m7.489    \u001b[0m | \u001b[0m2.209    \u001b[0m | \u001b[0m236.9    \u001b[0m | \u001b[0m0.9461   \u001b[0m |\n",
      "| \u001b[0m52       \u001b[0m | \u001b[0m-0.003818\u001b[0m | \u001b[0m0.7125   \u001b[0m | \u001b[0m0.1343   \u001b[0m | \u001b[0m4.8      \u001b[0m | \u001b[0m6.144    \u001b[0m | \u001b[0m192.6    \u001b[0m | \u001b[0m0.952    \u001b[0m |\n",
      "| \u001b[0m53       \u001b[0m | \u001b[0m-0.003954\u001b[0m | \u001b[0m0.8064   \u001b[0m | \u001b[0m0.3959   \u001b[0m | \u001b[0m6.896    \u001b[0m | \u001b[0m14.83    \u001b[0m | \u001b[0m157.9    \u001b[0m | \u001b[0m0.7548   \u001b[0m |\n",
      "| \u001b[0m54       \u001b[0m | \u001b[0m-0.003638\u001b[0m | \u001b[0m0.9514   \u001b[0m | \u001b[0m0.171    \u001b[0m | \u001b[0m9.557    \u001b[0m | \u001b[0m14.41    \u001b[0m | \u001b[0m60.49    \u001b[0m | \u001b[0m0.7924   \u001b[0m |\n",
      "| \u001b[0m55       \u001b[0m | \u001b[0m-0.003617\u001b[0m | \u001b[0m0.9583   \u001b[0m | \u001b[0m0.04195  \u001b[0m | \u001b[0m8.049    \u001b[0m | \u001b[0m4.931    \u001b[0m | \u001b[0m253.9    \u001b[0m | \u001b[0m0.7596   \u001b[0m |\n",
      "| \u001b[0m56       \u001b[0m | \u001b[0m-0.005283\u001b[0m | \u001b[0m0.9709   \u001b[0m | \u001b[0m0.06442  \u001b[0m | \u001b[0m6.515    \u001b[0m | \u001b[0m14.54    \u001b[0m | \u001b[0m57.45    \u001b[0m | \u001b[0m0.7783   \u001b[0m |\n",
      "| \u001b[0m57       \u001b[0m | \u001b[0m-0.003585\u001b[0m | \u001b[0m0.8643   \u001b[0m | \u001b[0m0.232    \u001b[0m | \u001b[0m6.923    \u001b[0m | \u001b[0m3.327    \u001b[0m | \u001b[0m132.4    \u001b[0m | \u001b[0m0.9212   \u001b[0m |\n",
      "| \u001b[0m58       \u001b[0m | \u001b[0m-0.003854\u001b[0m | \u001b[0m0.7393   \u001b[0m | \u001b[0m0.3931   \u001b[0m | \u001b[0m4.223    \u001b[0m | \u001b[0m6.85     \u001b[0m | \u001b[0m393.0    \u001b[0m | \u001b[0m0.978    \u001b[0m |\n",
      "| \u001b[0m59       \u001b[0m | \u001b[0m-0.003673\u001b[0m | \u001b[0m0.7165   \u001b[0m | \u001b[0m0.3101   \u001b[0m | \u001b[0m8.571    \u001b[0m | \u001b[0m10.0     \u001b[0m | \u001b[0m373.3    \u001b[0m | \u001b[0m0.9357   \u001b[0m |\n",
      "| \u001b[0m60       \u001b[0m | \u001b[0m-0.003732\u001b[0m | \u001b[0m0.883    \u001b[0m | \u001b[0m0.2898   \u001b[0m | \u001b[0m6.815    \u001b[0m | \u001b[0m8.601    \u001b[0m | \u001b[0m392.2    \u001b[0m | \u001b[0m0.7718   \u001b[0m |\n",
      "| \u001b[0m61       \u001b[0m | \u001b[0m-0.003947\u001b[0m | \u001b[0m0.8664   \u001b[0m | \u001b[0m0.3851   \u001b[0m | \u001b[0m4.624    \u001b[0m | \u001b[0m8.495    \u001b[0m | \u001b[0m339.4    \u001b[0m | \u001b[0m0.7475   \u001b[0m |\n",
      "| \u001b[0m62       \u001b[0m | \u001b[0m-0.003836\u001b[0m | \u001b[0m0.9706   \u001b[0m | \u001b[0m0.3981   \u001b[0m | \u001b[0m5.519    \u001b[0m | \u001b[0m6.002    \u001b[0m | \u001b[0m355.7    \u001b[0m | \u001b[0m0.9421   \u001b[0m |\n",
      "| \u001b[0m63       \u001b[0m | \u001b[0m-0.003492\u001b[0m | \u001b[0m0.8779   \u001b[0m | \u001b[0m0.1673   \u001b[0m | \u001b[0m5.721    \u001b[0m | \u001b[0m6.778    \u001b[0m | \u001b[0m388.7    \u001b[0m | \u001b[0m0.843    \u001b[0m |\n",
      "| \u001b[0m64       \u001b[0m | \u001b[0m-0.004071\u001b[0m | \u001b[0m0.7144   \u001b[0m | \u001b[0m0.4149   \u001b[0m | \u001b[0m9.449    \u001b[0m | \u001b[0m12.73    \u001b[0m | \u001b[0m268.9    \u001b[0m | \u001b[0m0.8027   \u001b[0m |\n",
      "| \u001b[0m65       \u001b[0m | \u001b[0m-0.003461\u001b[0m | \u001b[0m0.9768   \u001b[0m | \u001b[0m0.15     \u001b[0m | \u001b[0m7.469    \u001b[0m | \u001b[0m3.725    \u001b[0m | \u001b[0m207.9    \u001b[0m | \u001b[0m0.984    \u001b[0m |\n",
      "| \u001b[0m66       \u001b[0m | \u001b[0m-0.004296\u001b[0m | \u001b[0m0.7247   \u001b[0m | \u001b[0m0.07297  \u001b[0m | \u001b[0m5.727    \u001b[0m | \u001b[0m13.54    \u001b[0m | \u001b[0m116.2    \u001b[0m | \u001b[0m0.8087   \u001b[0m |\n",
      "| \u001b[0m67       \u001b[0m | \u001b[0m-0.003843\u001b[0m | \u001b[0m0.7083   \u001b[0m | \u001b[0m0.2515   \u001b[0m | \u001b[0m4.303    \u001b[0m | \u001b[0m2.398    \u001b[0m | \u001b[0m237.3    \u001b[0m | \u001b[0m0.9702   \u001b[0m |\n",
      "| \u001b[0m68       \u001b[0m | \u001b[0m-0.003532\u001b[0m | \u001b[0m0.8329   \u001b[0m | \u001b[0m0.2483   \u001b[0m | \u001b[0m7.709    \u001b[0m | \u001b[0m10.09    \u001b[0m | \u001b[0m326.6    \u001b[0m | \u001b[0m0.9371   \u001b[0m |\n",
      "| \u001b[0m69       \u001b[0m | \u001b[0m-0.003701\u001b[0m | \u001b[0m0.9026   \u001b[0m | \u001b[0m0.2907   \u001b[0m | \u001b[0m5.942    \u001b[0m | \u001b[0m10.51    \u001b[0m | \u001b[0m288.9    \u001b[0m | \u001b[0m0.8146   \u001b[0m |\n",
      "| \u001b[0m70       \u001b[0m | \u001b[0m-0.003801\u001b[0m | \u001b[0m0.9176   \u001b[0m | \u001b[0m0.3536   \u001b[0m | \u001b[0m7.867    \u001b[0m | \u001b[0m5.167    \u001b[0m | \u001b[0m356.8    \u001b[0m | \u001b[0m0.8309   \u001b[0m |\n",
      "| \u001b[0m71       \u001b[0m | \u001b[0m-0.003768\u001b[0m | \u001b[0m0.8445   \u001b[0m | \u001b[0m0.3293   \u001b[0m | \u001b[0m7.287    \u001b[0m | \u001b[0m5.67     \u001b[0m | \u001b[0m93.96    \u001b[0m | \u001b[0m0.9089   \u001b[0m |\n",
      "| \u001b[0m72       \u001b[0m | \u001b[0m-0.003838\u001b[0m | \u001b[0m0.7896   \u001b[0m | \u001b[0m0.06327  \u001b[0m | \u001b[0m5.129    \u001b[0m | \u001b[0m8.213    \u001b[0m | \u001b[0m362.2    \u001b[0m | \u001b[0m0.7881   \u001b[0m |\n",
      "| \u001b[0m73       \u001b[0m | \u001b[0m-0.003986\u001b[0m | \u001b[0m0.803    \u001b[0m | \u001b[0m0.1239   \u001b[0m | \u001b[0m5.41     \u001b[0m | \u001b[0m12.37    \u001b[0m | \u001b[0m143.8    \u001b[0m | \u001b[0m0.9025   \u001b[0m |\n",
      "| \u001b[0m74       \u001b[0m | \u001b[0m-0.003826\u001b[0m | \u001b[0m0.9954   \u001b[0m | \u001b[0m0.1761   \u001b[0m | \u001b[0m6.03     \u001b[0m | \u001b[0m12.16    \u001b[0m | \u001b[0m107.5    \u001b[0m | \u001b[0m0.84     \u001b[0m |\n",
      "| \u001b[0m75       \u001b[0m | \u001b[0m-0.003857\u001b[0m | \u001b[0m0.9616   \u001b[0m | \u001b[0m0.3463   \u001b[0m | \u001b[0m7.485    \u001b[0m | \u001b[0m13.12    \u001b[0m | \u001b[0m93.54    \u001b[0m | \u001b[0m0.7375   \u001b[0m |\n",
      "| \u001b[0m76       \u001b[0m | \u001b[0m-0.003639\u001b[0m | \u001b[0m0.9741   \u001b[0m | \u001b[0m0.1378   \u001b[0m | \u001b[0m5.082    \u001b[0m | \u001b[0m1.634    \u001b[0m | \u001b[0m301.5    \u001b[0m | \u001b[0m0.7841   \u001b[0m |\n",
      "| \u001b[0m77       \u001b[0m | \u001b[0m-0.003334\u001b[0m | \u001b[0m0.8456   \u001b[0m | \u001b[0m0.1285   \u001b[0m | \u001b[0m9.815    \u001b[0m | \u001b[0m8.441    \u001b[0m | \u001b[0m348.3    \u001b[0m | \u001b[0m0.8404   \u001b[0m |\n",
      "| \u001b[0m78       \u001b[0m | \u001b[0m-0.003857\u001b[0m | \u001b[0m0.9377   \u001b[0m | \u001b[0m0.3766   \u001b[0m | \u001b[0m9.768    \u001b[0m | \u001b[0m6.477    \u001b[0m | \u001b[0m347.8    \u001b[0m | \u001b[0m0.9425   \u001b[0m |\n",
      "| \u001b[0m79       \u001b[0m | \u001b[0m-0.003363\u001b[0m | \u001b[0m0.8464   \u001b[0m | \u001b[0m0.05108  \u001b[0m | \u001b[0m8.56     \u001b[0m | \u001b[0m10.01    \u001b[0m | \u001b[0m348.3    \u001b[0m | \u001b[0m0.8155   \u001b[0m |\n",
      "| \u001b[0m80       \u001b[0m | \u001b[0m-0.003774\u001b[0m | \u001b[0m0.7248   \u001b[0m | \u001b[0m0.3241   \u001b[0m | \u001b[0m9.986    \u001b[0m | \u001b[0m11.04    \u001b[0m | \u001b[0m347.4    \u001b[0m | \u001b[0m0.845    \u001b[0m |\n",
      "| \u001b[0m81       \u001b[0m | \u001b[0m-0.003969\u001b[0m | \u001b[0m0.7265   \u001b[0m | \u001b[0m0.105    \u001b[0m | \u001b[0m4.322    \u001b[0m | \u001b[0m1.281    \u001b[0m | \u001b[0m304.4    \u001b[0m | \u001b[0m0.8656   \u001b[0m |\n",
      "| \u001b[0m82       \u001b[0m | \u001b[0m-0.003737\u001b[0m | \u001b[0m0.963    \u001b[0m | \u001b[0m0.3113   \u001b[0m | \u001b[0m7.852    \u001b[0m | \u001b[0m8.837    \u001b[0m | \u001b[0m348.9    \u001b[0m | \u001b[0m0.8469   \u001b[0m |\n",
      "| \u001b[0m83       \u001b[0m | \u001b[0m-0.003681\u001b[0m | \u001b[0m0.9959   \u001b[0m | \u001b[0m0.3011   \u001b[0m | \u001b[0m7.08     \u001b[0m | \u001b[0m2.092    \u001b[0m | \u001b[0m303.0    \u001b[0m | \u001b[0m0.8635   \u001b[0m |\n",
      "| \u001b[0m84       \u001b[0m | \u001b[0m-0.003657\u001b[0m | \u001b[0m0.7526   \u001b[0m | \u001b[0m0.2919   \u001b[0m | \u001b[0m7.415    \u001b[0m | \u001b[0m12.42    \u001b[0m | \u001b[0m327.0    \u001b[0m | \u001b[0m0.8768   \u001b[0m |\n",
      "| \u001b[0m85       \u001b[0m | \u001b[0m-0.00392 \u001b[0m | \u001b[0m0.7486   \u001b[0m | \u001b[0m0.4158   \u001b[0m | \u001b[0m9.353    \u001b[0m | \u001b[0m6.754    \u001b[0m | \u001b[0m106.5    \u001b[0m | \u001b[0m0.9842   \u001b[0m |\n",
      "| \u001b[0m86       \u001b[0m | \u001b[0m-0.003635\u001b[0m | \u001b[0m0.7807   \u001b[0m | \u001b[0m0.2783   \u001b[0m | \u001b[0m8.237    \u001b[0m | \u001b[0m3.215    \u001b[0m | \u001b[0m108.0    \u001b[0m | \u001b[0m0.9751   \u001b[0m |\n",
      "| \u001b[0m87       \u001b[0m | \u001b[0m-0.003409\u001b[0m | \u001b[0m0.912    \u001b[0m | \u001b[0m0.1523   \u001b[0m | \u001b[0m9.094    \u001b[0m | \u001b[0m12.38    \u001b[0m | \u001b[0m219.4    \u001b[0m | \u001b[0m0.9632   \u001b[0m |\n",
      "| \u001b[0m88       \u001b[0m | \u001b[0m-0.003916\u001b[0m | \u001b[0m0.9596   \u001b[0m | \u001b[0m0.3926   \u001b[0m | \u001b[0m7.016    \u001b[0m | \u001b[0m13.77    \u001b[0m | \u001b[0m218.9    \u001b[0m | \u001b[0m0.7829   \u001b[0m |\n",
      "| \u001b[0m89       \u001b[0m | \u001b[0m-0.003811\u001b[0m | \u001b[0m0.8974   \u001b[0m | \u001b[0m0.3088   \u001b[0m | \u001b[0m9.55     \u001b[0m | \u001b[0m10.4     \u001b[0m | \u001b[0m219.5    \u001b[0m | \u001b[0m0.7346   \u001b[0m |\n",
      "| \u001b[0m90       \u001b[0m | \u001b[0m-0.003633\u001b[0m | \u001b[0m0.9546   \u001b[0m | \u001b[0m0.2643   \u001b[0m | \u001b[0m9.591    \u001b[0m | \u001b[0m4.909    \u001b[0m | \u001b[0m109.9    \u001b[0m | \u001b[0m0.819    \u001b[0m |\n",
      "| \u001b[0m91       \u001b[0m | \u001b[0m-0.003403\u001b[0m | \u001b[0m0.867    \u001b[0m | \u001b[0m0.1501   \u001b[0m | \u001b[0m9.408    \u001b[0m | \u001b[0m11.58    \u001b[0m | \u001b[0m215.9    \u001b[0m | \u001b[0m0.7132   \u001b[0m |\n",
      "| \u001b[0m92       \u001b[0m | \u001b[0m-0.003744\u001b[0m | \u001b[0m0.8615   \u001b[0m | \u001b[0m0.2976   \u001b[0m | \u001b[0m9.579    \u001b[0m | \u001b[0m13.48    \u001b[0m | \u001b[0m217.4    \u001b[0m | \u001b[0m0.7422   \u001b[0m |\n",
      "| \u001b[0m93       \u001b[0m | \u001b[0m-0.00385 \u001b[0m | \u001b[0m0.7728   \u001b[0m | \u001b[0m0.3857   \u001b[0m | \u001b[0m9.089    \u001b[0m | \u001b[0m9.014    \u001b[0m | \u001b[0m215.9    \u001b[0m | \u001b[0m0.9773   \u001b[0m |\n",
      "| \u001b[0m94       \u001b[0m | \u001b[0m-0.003934\u001b[0m | \u001b[0m0.7553   \u001b[0m | \u001b[0m0.426    \u001b[0m | \u001b[0m7.551    \u001b[0m | \u001b[0m12.01    \u001b[0m | \u001b[0m215.2    \u001b[0m | \u001b[0m0.9873   \u001b[0m |\n",
      "| \u001b[0m95       \u001b[0m | \u001b[0m-0.003673\u001b[0m | \u001b[0m0.8367   \u001b[0m | \u001b[0m0.2735   \u001b[0m | \u001b[0m7.798    \u001b[0m | \u001b[0m8.057    \u001b[0m | \u001b[0m387.6    \u001b[0m | \u001b[0m0.7869   \u001b[0m |\n",
      "| \u001b[0m96       \u001b[0m | \u001b[0m-0.004628\u001b[0m | \u001b[0m0.7768   \u001b[0m | \u001b[0m0.01231  \u001b[0m | \u001b[0m8.02     \u001b[0m | \u001b[0m10.61    \u001b[0m | \u001b[0m329.5    \u001b[0m | \u001b[0m0.7      \u001b[0m |\n",
      "| \u001b[0m97       \u001b[0m | \u001b[0m-0.004063\u001b[0m | \u001b[0m0.9939   \u001b[0m | \u001b[0m0.4943   \u001b[0m | \u001b[0m7.715    \u001b[0m | \u001b[0m10.68    \u001b[0m | \u001b[0m324.6    \u001b[0m | \u001b[0m1.0      \u001b[0m |\n",
      "| \u001b[0m98       \u001b[0m | \u001b[0m-0.004319\u001b[0m | \u001b[0m0.9137   \u001b[0m | \u001b[0m0.4665   \u001b[0m | \u001b[0m9.819    \u001b[0m | \u001b[0m10.16    \u001b[0m | \u001b[0m349.7    \u001b[0m | \u001b[0m0.7486   \u001b[0m |\n",
      "| \u001b[0m99       \u001b[0m | \u001b[0m-0.004145\u001b[0m | \u001b[0m0.9855   \u001b[0m | \u001b[0m0.4414   \u001b[0m | \u001b[0m8.357    \u001b[0m | \u001b[0m8.877    \u001b[0m | \u001b[0m347.0    \u001b[0m | \u001b[0m0.82     \u001b[0m |\n",
      "| \u001b[0m100      \u001b[0m | \u001b[0m-0.003475\u001b[0m | \u001b[0m0.9047   \u001b[0m | \u001b[0m0.05987  \u001b[0m | \u001b[0m9.292    \u001b[0m | \u001b[0m11.49    \u001b[0m | \u001b[0m218.3    \u001b[0m | \u001b[0m0.748    \u001b[0m |\n",
      "=================================================================================================\n"
     ]
    }
   ],
   "source": [
    "# XGB Maximize\n",
    "BO_xgb_reg.maximize(init_points=50, n_iter=50)"
   ]
  },
  {
   "cell_type": "code",
   "execution_count": 7,
   "id": "0be6d4b1",
   "metadata": {
    "collapsed": true
   },
   "outputs": [
    {
     "name": "stdout",
     "output_type": "stream",
     "text": [
      "|   iter    |  target   | colsam... | learni... | max_depth | min_ch... | n_esti... | num_le... | subsample |\n",
      "-------------------------------------------------------------------------------------------------------------\n",
      "| \u001b[0m1        \u001b[0m | \u001b[0m-0.003906\u001b[0m | \u001b[0m0.7737   \u001b[0m | \u001b[0m0.27     \u001b[0m | \u001b[0m5.149    \u001b[0m | \u001b[0m1.951    \u001b[0m | \u001b[0m336.1    \u001b[0m | \u001b[0m7.251    \u001b[0m | \u001b[0m0.8913   \u001b[0m |\n",
      "| \u001b[0m2        \u001b[0m | \u001b[0m-0.007188\u001b[0m | \u001b[0m0.8439   \u001b[0m | \u001b[0m0.02914  \u001b[0m | \u001b[0m6.147    \u001b[0m | \u001b[0m14.24    \u001b[0m | \u001b[0m118.0    \u001b[0m | \u001b[0m8.912    \u001b[0m | \u001b[0m0.9632   \u001b[0m |\n",
      "| \u001b[0m3        \u001b[0m | \u001b[0m-0.004337\u001b[0m | \u001b[0m0.7128   \u001b[0m | \u001b[0m0.3297   \u001b[0m | \u001b[0m7.311    \u001b[0m | \u001b[0m9.365    \u001b[0m | \u001b[0m245.1    \u001b[0m | \u001b[0m4.264    \u001b[0m | \u001b[0m0.7893   \u001b[0m |\n",
      "| \u001b[0m4        \u001b[0m | \u001b[0m-0.00512 \u001b[0m | \u001b[0m0.8404   \u001b[0m | \u001b[0m0.2041   \u001b[0m | \u001b[0m8.732    \u001b[0m | \u001b[0m6.859    \u001b[0m | \u001b[0m143.2    \u001b[0m | \u001b[0m3.207    \u001b[0m | \u001b[0m0.7166   \u001b[0m |\n",
      "| \u001b[0m5        \u001b[0m | \u001b[0m-0.004879\u001b[0m | \u001b[0m0.8795   \u001b[0m | \u001b[0m0.1532   \u001b[0m | \u001b[0m5.193    \u001b[0m | \u001b[0m12.64    \u001b[0m | \u001b[0m270.4    \u001b[0m | \u001b[0m2.659    \u001b[0m | \u001b[0m0.8635   \u001b[0m |\n",
      "| \u001b[95m6        \u001b[0m | \u001b[95m-0.003804\u001b[0m | \u001b[95m0.7397   \u001b[0m | \u001b[95m0.3416   \u001b[0m | \u001b[95m4.711    \u001b[0m | \u001b[95m7.23     \u001b[0m | \u001b[95m366.4    \u001b[0m | \u001b[95m8.378    \u001b[0m | \u001b[95m0.7204   \u001b[0m |\n",
      "| \u001b[0m7        \u001b[0m | \u001b[0m-0.004388\u001b[0m | \u001b[0m0.9402   \u001b[0m | \u001b[0m0.333    \u001b[0m | \u001b[0m8.313    \u001b[0m | \u001b[0m11.41    \u001b[0m | \u001b[0m366.3    \u001b[0m | \u001b[0m3.072    \u001b[0m | \u001b[0m0.9331   \u001b[0m |\n",
      "| \u001b[0m8        \u001b[0m | \u001b[0m-0.004043\u001b[0m | \u001b[0m0.9095   \u001b[0m | \u001b[0m0.4164   \u001b[0m | \u001b[0m4.175    \u001b[0m | \u001b[0m6.465    \u001b[0m | \u001b[0m231.2    \u001b[0m | \u001b[0m6.165    \u001b[0m | \u001b[0m0.8479   \u001b[0m |\n",
      "| \u001b[0m9        \u001b[0m | \u001b[0m-0.00389 \u001b[0m | \u001b[0m0.7326   \u001b[0m | \u001b[0m0.4923   \u001b[0m | \u001b[0m4.394    \u001b[0m | \u001b[0m9.11     \u001b[0m | \u001b[0m274.2    \u001b[0m | \u001b[0m9.635    \u001b[0m | \u001b[0m0.7592   \u001b[0m |\n",
      "| \u001b[0m10       \u001b[0m | \u001b[0m-0.003844\u001b[0m | \u001b[0m0.7208   \u001b[0m | \u001b[0m0.4431   \u001b[0m | \u001b[0m4.094    \u001b[0m | \u001b[0m12.14    \u001b[0m | \u001b[0m330.5    \u001b[0m | \u001b[0m8.976    \u001b[0m | \u001b[0m0.9748   \u001b[0m |\n",
      "| \u001b[0m11       \u001b[0m | \u001b[0m-0.004749\u001b[0m | \u001b[0m0.7685   \u001b[0m | \u001b[0m0.1258   \u001b[0m | \u001b[0m5.863    \u001b[0m | \u001b[0m11.02    \u001b[0m | \u001b[0m124.8    \u001b[0m | \u001b[0m7.404    \u001b[0m | \u001b[0m0.9576   \u001b[0m |\n",
      "| \u001b[0m12       \u001b[0m | \u001b[0m-0.004011\u001b[0m | \u001b[0m0.8732   \u001b[0m | \u001b[0m0.3947   \u001b[0m | \u001b[0m6.12     \u001b[0m | \u001b[0m4.083    \u001b[0m | \u001b[0m173.6    \u001b[0m | \u001b[0m7.819    \u001b[0m | \u001b[0m0.7192   \u001b[0m |\n",
      "| \u001b[0m13       \u001b[0m | \u001b[0m-0.003835\u001b[0m | \u001b[0m0.8134   \u001b[0m | \u001b[0m0.249    \u001b[0m | \u001b[0m7.845    \u001b[0m | \u001b[0m2.486    \u001b[0m | \u001b[0m272.1    \u001b[0m | \u001b[0m9.683    \u001b[0m | \u001b[0m0.8547   \u001b[0m |\n",
      "| \u001b[0m14       \u001b[0m | \u001b[0m-0.004115\u001b[0m | \u001b[0m0.8425   \u001b[0m | \u001b[0m0.4941   \u001b[0m | \u001b[0m8.997    \u001b[0m | \u001b[0m7.974    \u001b[0m | \u001b[0m124.0    \u001b[0m | \u001b[0m8.968    \u001b[0m | \u001b[0m0.9139   \u001b[0m |\n",
      "| \u001b[0m15       \u001b[0m | \u001b[0m-0.003865\u001b[0m | \u001b[0m0.883    \u001b[0m | \u001b[0m0.4136   \u001b[0m | \u001b[0m8.47     \u001b[0m | \u001b[0m6.783    \u001b[0m | \u001b[0m254.4    \u001b[0m | \u001b[0m8.772    \u001b[0m | \u001b[0m0.9577   \u001b[0m |\n",
      "| \u001b[0m16       \u001b[0m | \u001b[0m-0.004518\u001b[0m | \u001b[0m0.7776   \u001b[0m | \u001b[0m0.0685   \u001b[0m | \u001b[0m7.126    \u001b[0m | \u001b[0m7.285    \u001b[0m | \u001b[0m369.2    \u001b[0m | \u001b[0m5.945    \u001b[0m | \u001b[0m0.8513   \u001b[0m |\n",
      "| \u001b[0m17       \u001b[0m | \u001b[0m-0.004436\u001b[0m | \u001b[0m0.7913   \u001b[0m | \u001b[0m0.3937   \u001b[0m | \u001b[0m9.688    \u001b[0m | \u001b[0m2.82     \u001b[0m | \u001b[0m298.3    \u001b[0m | \u001b[0m3.31     \u001b[0m | \u001b[0m0.7927   \u001b[0m |\n",
      "| \u001b[0m18       \u001b[0m | \u001b[0m-0.005831\u001b[0m | \u001b[0m0.9417   \u001b[0m | \u001b[0m0.2466   \u001b[0m | \u001b[0m7.244    \u001b[0m | \u001b[0m10.96    \u001b[0m | \u001b[0m306.2    \u001b[0m | \u001b[0m2.296    \u001b[0m | \u001b[0m0.9665   \u001b[0m |\n",
      "| \u001b[0m19       \u001b[0m | \u001b[0m-0.00409 \u001b[0m | \u001b[0m0.7471   \u001b[0m | \u001b[0m0.3932   \u001b[0m | \u001b[0m7.864    \u001b[0m | \u001b[0m7.796    \u001b[0m | \u001b[0m378.7    \u001b[0m | \u001b[0m4.159    \u001b[0m | \u001b[0m0.9443   \u001b[0m |\n",
      "| \u001b[0m20       \u001b[0m | \u001b[0m-0.004989\u001b[0m | \u001b[0m0.8738   \u001b[0m | \u001b[0m0.1254   \u001b[0m | \u001b[0m9.72     \u001b[0m | \u001b[0m9.196    \u001b[0m | \u001b[0m274.9    \u001b[0m | \u001b[0m3.258    \u001b[0m | \u001b[0m0.8276   \u001b[0m |\n",
      "| \u001b[0m21       \u001b[0m | \u001b[0m-0.004406\u001b[0m | \u001b[0m0.7588   \u001b[0m | \u001b[0m0.3042   \u001b[0m | \u001b[0m6.164    \u001b[0m | \u001b[0m3.364    \u001b[0m | \u001b[0m204.2    \u001b[0m | \u001b[0m3.716    \u001b[0m | \u001b[0m0.9384   \u001b[0m |\n",
      "| \u001b[0m22       \u001b[0m | \u001b[0m-0.004774\u001b[0m | \u001b[0m0.8979   \u001b[0m | \u001b[0m0.09062  \u001b[0m | \u001b[0m8.502    \u001b[0m | \u001b[0m1.783    \u001b[0m | \u001b[0m169.7    \u001b[0m | \u001b[0m7.201    \u001b[0m | \u001b[0m0.9155   \u001b[0m |\n",
      "| \u001b[0m23       \u001b[0m | \u001b[0m-0.004008\u001b[0m | \u001b[0m0.82     \u001b[0m | \u001b[0m0.1754   \u001b[0m | \u001b[0m6.338    \u001b[0m | \u001b[0m13.02    \u001b[0m | \u001b[0m253.4    \u001b[0m | \u001b[0m8.998    \u001b[0m | \u001b[0m0.9839   \u001b[0m |\n",
      "| \u001b[95m24       \u001b[0m | \u001b[95m-0.003697\u001b[0m | \u001b[95m0.9339   \u001b[0m | \u001b[95m0.2516   \u001b[0m | \u001b[95m7.603    \u001b[0m | \u001b[95m3.9      \u001b[0m | \u001b[95m386.9    \u001b[0m | \u001b[95m9.894    \u001b[0m | \u001b[95m0.9488   \u001b[0m |\n",
      "| \u001b[0m25       \u001b[0m | \u001b[0m-0.006146\u001b[0m | \u001b[0m0.8345   \u001b[0m | \u001b[0m0.05093  \u001b[0m | \u001b[0m5.883    \u001b[0m | \u001b[0m2.486    \u001b[0m | \u001b[0m161.5    \u001b[0m | \u001b[0m4.604    \u001b[0m | \u001b[0m0.8505   \u001b[0m |\n",
      "| \u001b[0m26       \u001b[0m | \u001b[0m-0.004871\u001b[0m | \u001b[0m0.9196   \u001b[0m | \u001b[0m0.1379   \u001b[0m | \u001b[0m7.181    \u001b[0m | \u001b[0m12.81    \u001b[0m | \u001b[0m141.0    \u001b[0m | \u001b[0m5.202    \u001b[0m | \u001b[0m0.8705   \u001b[0m |\n",
      "| \u001b[0m27       \u001b[0m | \u001b[0m-0.008368\u001b[0m | \u001b[0m0.7465   \u001b[0m | \u001b[0m0.01672  \u001b[0m | \u001b[0m7.557    \u001b[0m | \u001b[0m1.22     \u001b[0m | \u001b[0m275.8    \u001b[0m | \u001b[0m5.269    \u001b[0m | \u001b[0m0.7686   \u001b[0m |\n",
      "| \u001b[0m28       \u001b[0m | \u001b[0m-0.004142\u001b[0m | \u001b[0m0.7475   \u001b[0m | \u001b[0m0.4575   \u001b[0m | \u001b[0m7.541    \u001b[0m | \u001b[0m3.397    \u001b[0m | \u001b[0m314.3    \u001b[0m | \u001b[0m3.908    \u001b[0m | \u001b[0m0.9765   \u001b[0m |\n",
      "| \u001b[0m29       \u001b[0m | \u001b[0m-0.003855\u001b[0m | \u001b[0m0.8803   \u001b[0m | \u001b[0m0.3417   \u001b[0m | \u001b[0m9.921    \u001b[0m | \u001b[0m8.556    \u001b[0m | \u001b[0m249.2    \u001b[0m | \u001b[0m9.185    \u001b[0m | \u001b[0m0.9885   \u001b[0m |\n",
      "| \u001b[0m30       \u001b[0m | \u001b[0m-0.003813\u001b[0m | \u001b[0m0.7006   \u001b[0m | \u001b[0m0.4172   \u001b[0m | \u001b[0m7.344    \u001b[0m | \u001b[0m14.09    \u001b[0m | \u001b[0m315.5    \u001b[0m | \u001b[0m9.665    \u001b[0m | \u001b[0m0.9277   \u001b[0m |\n",
      "| \u001b[0m31       \u001b[0m | \u001b[0m-0.008891\u001b[0m | \u001b[0m0.766    \u001b[0m | \u001b[0m0.07652  \u001b[0m | \u001b[0m9.41     \u001b[0m | \u001b[0m8.225    \u001b[0m | \u001b[0m354.8    \u001b[0m | \u001b[0m2.442    \u001b[0m | \u001b[0m0.829    \u001b[0m |\n",
      "| \u001b[0m32       \u001b[0m | \u001b[0m-0.003839\u001b[0m | \u001b[0m0.7514   \u001b[0m | \u001b[0m0.4366   \u001b[0m | \u001b[0m8.164    \u001b[0m | \u001b[0m1.874    \u001b[0m | \u001b[0m284.4    \u001b[0m | \u001b[0m8.714    \u001b[0m | \u001b[0m0.7101   \u001b[0m |\n",
      "| \u001b[0m33       \u001b[0m | \u001b[0m-0.00409 \u001b[0m | \u001b[0m0.8532   \u001b[0m | \u001b[0m0.4637   \u001b[0m | \u001b[0m4.909    \u001b[0m | \u001b[0m11.19    \u001b[0m | \u001b[0m145.2    \u001b[0m | \u001b[0m8.72     \u001b[0m | \u001b[0m0.7548   \u001b[0m |\n",
      "| \u001b[0m34       \u001b[0m | \u001b[0m-0.00458 \u001b[0m | \u001b[0m0.7978   \u001b[0m | \u001b[0m0.1865   \u001b[0m | \u001b[0m6.388    \u001b[0m | \u001b[0m14.86    \u001b[0m | \u001b[0m159.6    \u001b[0m | \u001b[0m4.954    \u001b[0m | \u001b[0m0.9308   \u001b[0m |\n",
      "| \u001b[0m35       \u001b[0m | \u001b[0m-0.003945\u001b[0m | \u001b[0m0.8114   \u001b[0m | \u001b[0m0.2826   \u001b[0m | \u001b[0m8.583    \u001b[0m | \u001b[0m15.0     \u001b[0m | \u001b[0m345.4    \u001b[0m | \u001b[0m5.512    \u001b[0m | \u001b[0m0.8026   \u001b[0m |\n",
      "| \u001b[0m36       \u001b[0m | \u001b[0m-0.003934\u001b[0m | \u001b[0m0.784    \u001b[0m | \u001b[0m0.4409   \u001b[0m | \u001b[0m8.509    \u001b[0m | \u001b[0m2.08     \u001b[0m | \u001b[0m257.9    \u001b[0m | \u001b[0m7.385    \u001b[0m | \u001b[0m0.8463   \u001b[0m |\n",
      "| \u001b[0m37       \u001b[0m | \u001b[0m-0.003903\u001b[0m | \u001b[0m0.831    \u001b[0m | \u001b[0m0.4308   \u001b[0m | \u001b[0m6.014    \u001b[0m | \u001b[0m2.892    \u001b[0m | \u001b[0m282.9    \u001b[0m | \u001b[0m7.282    \u001b[0m | \u001b[0m0.9931   \u001b[0m |\n",
      "| \u001b[0m38       \u001b[0m | \u001b[0m-0.003992\u001b[0m | \u001b[0m0.9056   \u001b[0m | \u001b[0m0.3915   \u001b[0m | \u001b[0m9.657    \u001b[0m | \u001b[0m6.582    \u001b[0m | \u001b[0m190.7    \u001b[0m | \u001b[0m7.547    \u001b[0m | \u001b[0m0.8678   \u001b[0m |\n",
      "| \u001b[0m39       \u001b[0m | \u001b[0m-0.004905\u001b[0m | \u001b[0m0.829    \u001b[0m | \u001b[0m0.1191   \u001b[0m | \u001b[0m7.899    \u001b[0m | \u001b[0m10.48    \u001b[0m | \u001b[0m215.9    \u001b[0m | \u001b[0m4.091    \u001b[0m | \u001b[0m0.9996   \u001b[0m |\n",
      "| \u001b[0m40       \u001b[0m | \u001b[0m-0.004486\u001b[0m | \u001b[0m0.7661   \u001b[0m | \u001b[0m0.09073  \u001b[0m | \u001b[0m8.699    \u001b[0m | \u001b[0m7.723    \u001b[0m | \u001b[0m386.0    \u001b[0m | \u001b[0m4.903    \u001b[0m | \u001b[0m0.8809   \u001b[0m |\n",
      "| \u001b[0m41       \u001b[0m | \u001b[0m-0.004384\u001b[0m | \u001b[0m0.7024   \u001b[0m | \u001b[0m0.3864   \u001b[0m | \u001b[0m9.795    \u001b[0m | \u001b[0m10.6     \u001b[0m | \u001b[0m351.2    \u001b[0m | \u001b[0m2.824    \u001b[0m | \u001b[0m0.9365   \u001b[0m |\n",
      "| \u001b[0m42       \u001b[0m | \u001b[0m-0.005482\u001b[0m | \u001b[0m0.8076   \u001b[0m | \u001b[0m0.09588  \u001b[0m | \u001b[0m9.402    \u001b[0m | \u001b[0m10.28    \u001b[0m | \u001b[0m164.7    \u001b[0m | \u001b[0m4.138    \u001b[0m | \u001b[0m0.7466   \u001b[0m |\n",
      "| \u001b[0m43       \u001b[0m | \u001b[0m-0.004083\u001b[0m | \u001b[0m0.8633   \u001b[0m | \u001b[0m0.3576   \u001b[0m | \u001b[0m4.372    \u001b[0m | \u001b[0m14.66    \u001b[0m | \u001b[0m190.5    \u001b[0m | \u001b[0m7.255    \u001b[0m | \u001b[0m0.9386   \u001b[0m |\n",
      "| \u001b[0m44       \u001b[0m | \u001b[0m-0.003936\u001b[0m | \u001b[0m0.9188   \u001b[0m | \u001b[0m0.3559   \u001b[0m | \u001b[0m7.98     \u001b[0m | \u001b[0m7.707    \u001b[0m | \u001b[0m207.7    \u001b[0m | \u001b[0m9.635    \u001b[0m | \u001b[0m0.8828   \u001b[0m |\n"
     ]
    },
    {
     "name": "stdout",
     "output_type": "stream",
     "text": [
      "| \u001b[0m45       \u001b[0m | \u001b[0m-0.004854\u001b[0m | \u001b[0m0.9142   \u001b[0m | \u001b[0m0.4414   \u001b[0m | \u001b[0m5.075    \u001b[0m | \u001b[0m4.036    \u001b[0m | \u001b[0m110.6    \u001b[0m | \u001b[0m3.204    \u001b[0m | \u001b[0m0.7346   \u001b[0m |\n",
      "| \u001b[0m46       \u001b[0m | \u001b[0m-0.004363\u001b[0m | \u001b[0m0.9259   \u001b[0m | \u001b[0m0.4903   \u001b[0m | \u001b[0m7.059    \u001b[0m | \u001b[0m7.25     \u001b[0m | \u001b[0m305.4    \u001b[0m | \u001b[0m2.992    \u001b[0m | \u001b[0m0.9097   \u001b[0m |\n",
      "| \u001b[0m47       \u001b[0m | \u001b[0m-0.004274\u001b[0m | \u001b[0m0.8098   \u001b[0m | \u001b[0m0.3313   \u001b[0m | \u001b[0m8.782    \u001b[0m | \u001b[0m8.678    \u001b[0m | \u001b[0m191.6    \u001b[0m | \u001b[0m4.634    \u001b[0m | \u001b[0m0.7631   \u001b[0m |\n",
      "| \u001b[0m48       \u001b[0m | \u001b[0m-0.004474\u001b[0m | \u001b[0m0.8969   \u001b[0m | \u001b[0m0.208    \u001b[0m | \u001b[0m8.259    \u001b[0m | \u001b[0m5.027    \u001b[0m | \u001b[0m185.8    \u001b[0m | \u001b[0m4.667    \u001b[0m | \u001b[0m0.8516   \u001b[0m |\n",
      "| \u001b[0m49       \u001b[0m | \u001b[0m-0.004295\u001b[0m | \u001b[0m0.9305   \u001b[0m | \u001b[0m0.3636   \u001b[0m | \u001b[0m5.602    \u001b[0m | \u001b[0m1.524    \u001b[0m | \u001b[0m232.7    \u001b[0m | \u001b[0m4.318    \u001b[0m | \u001b[0m0.9316   \u001b[0m |\n",
      "| \u001b[0m50       \u001b[0m | \u001b[0m-0.005108\u001b[0m | \u001b[0m0.8001   \u001b[0m | \u001b[0m0.1013   \u001b[0m | \u001b[0m9.33     \u001b[0m | \u001b[0m12.33    \u001b[0m | \u001b[0m202.6    \u001b[0m | \u001b[0m4.302    \u001b[0m | \u001b[0m0.886    \u001b[0m |\n",
      "| \u001b[0m51       \u001b[0m | \u001b[0m-0.0042  \u001b[0m | \u001b[0m0.9468   \u001b[0m | \u001b[0m0.1198   \u001b[0m | \u001b[0m8.458    \u001b[0m | \u001b[0m3.426    \u001b[0m | \u001b[0m283.2    \u001b[0m | \u001b[0m8.484    \u001b[0m | \u001b[0m0.8796   \u001b[0m |\n",
      "| \u001b[0m52       \u001b[0m | \u001b[0m-0.004527\u001b[0m | \u001b[0m0.7204   \u001b[0m | \u001b[0m0.06372  \u001b[0m | \u001b[0m8.572    \u001b[0m | \u001b[0m6.1      \u001b[0m | \u001b[0m251.5    \u001b[0m | \u001b[0m9.453    \u001b[0m | \u001b[0m0.7885   \u001b[0m |\n",
      "| \u001b[0m53       \u001b[0m | \u001b[0m-0.003808\u001b[0m | \u001b[0m0.7729   \u001b[0m | \u001b[0m0.4471   \u001b[0m | \u001b[0m6.196    \u001b[0m | \u001b[0m4.763    \u001b[0m | \u001b[0m387.1    \u001b[0m | \u001b[0m7.764    \u001b[0m | \u001b[0m0.769    \u001b[0m |\n",
      "| \u001b[0m54       \u001b[0m | \u001b[0m-0.00379 \u001b[0m | \u001b[0m0.7975   \u001b[0m | \u001b[0m0.292    \u001b[0m | \u001b[0m7.546    \u001b[0m | \u001b[0m4.007    \u001b[0m | \u001b[0m384.5    \u001b[0m | \u001b[0m7.688    \u001b[0m | \u001b[0m0.8691   \u001b[0m |\n",
      "| \u001b[0m55       \u001b[0m | \u001b[0m-0.003896\u001b[0m | \u001b[0m0.8233   \u001b[0m | \u001b[0m0.3724   \u001b[0m | \u001b[0m8.915    \u001b[0m | \u001b[0m10.3     \u001b[0m | \u001b[0m252.9    \u001b[0m | \u001b[0m7.98     \u001b[0m | \u001b[0m0.8324   \u001b[0m |\n",
      "| \u001b[0m56       \u001b[0m | \u001b[0m-0.003804\u001b[0m | \u001b[0m0.9126   \u001b[0m | \u001b[0m0.4138   \u001b[0m | \u001b[0m7.274    \u001b[0m | \u001b[0m1.039    \u001b[0m | \u001b[0m387.5    \u001b[0m | \u001b[0m7.391    \u001b[0m | \u001b[0m0.8013   \u001b[0m |\n",
      "| \u001b[0m57       \u001b[0m | \u001b[0m-0.003775\u001b[0m | \u001b[0m0.8709   \u001b[0m | \u001b[0m0.3427   \u001b[0m | \u001b[0m4.457    \u001b[0m | \u001b[0m3.065    \u001b[0m | \u001b[0m385.1    \u001b[0m | \u001b[0m8.852    \u001b[0m | \u001b[0m0.8158   \u001b[0m |\n",
      "| \u001b[0m58       \u001b[0m | \u001b[0m-0.004361\u001b[0m | \u001b[0m0.7382   \u001b[0m | \u001b[0m0.418    \u001b[0m | \u001b[0m8.951    \u001b[0m | \u001b[0m12.87    \u001b[0m | \u001b[0m348.0    \u001b[0m | \u001b[0m2.618    \u001b[0m | \u001b[0m0.7378   \u001b[0m |\n",
      "| \u001b[0m59       \u001b[0m | \u001b[0m-0.006314\u001b[0m | \u001b[0m0.9318   \u001b[0m | \u001b[0m0.02054  \u001b[0m | \u001b[0m9.483    \u001b[0m | \u001b[0m8.359    \u001b[0m | \u001b[0m258.0    \u001b[0m | \u001b[0m7.441    \u001b[0m | \u001b[0m0.8862   \u001b[0m |\n",
      "| \u001b[0m60       \u001b[0m | \u001b[0m-0.004122\u001b[0m | \u001b[0m0.8048   \u001b[0m | \u001b[0m0.0892   \u001b[0m | \u001b[0m5.354    \u001b[0m | \u001b[0m1.675    \u001b[0m | \u001b[0m388.7    \u001b[0m | \u001b[0m9.452    \u001b[0m | \u001b[0m0.8763   \u001b[0m |\n",
      "| \u001b[0m61       \u001b[0m | \u001b[0m-0.003967\u001b[0m | \u001b[0m0.7062   \u001b[0m | \u001b[0m0.2033   \u001b[0m | \u001b[0m7.659    \u001b[0m | \u001b[0m11.3     \u001b[0m | \u001b[0m249.3    \u001b[0m | \u001b[0m9.362    \u001b[0m | \u001b[0m0.759    \u001b[0m |\n",
      "| \u001b[0m62       \u001b[0m | \u001b[0m-0.003877\u001b[0m | \u001b[0m0.8316   \u001b[0m | \u001b[0m0.2681   \u001b[0m | \u001b[0m5.393    \u001b[0m | \u001b[0m1.471    \u001b[0m | \u001b[0m384.3    \u001b[0m | \u001b[0m5.667    \u001b[0m | \u001b[0m0.7865   \u001b[0m |\n",
      "| \u001b[0m63       \u001b[0m | \u001b[0m-0.003813\u001b[0m | \u001b[0m0.9058   \u001b[0m | \u001b[0m0.3954   \u001b[0m | \u001b[0m6.479    \u001b[0m | \u001b[0m4.563    \u001b[0m | \u001b[0m269.4    \u001b[0m | \u001b[0m9.745    \u001b[0m | \u001b[0m0.7578   \u001b[0m |\n",
      "| \u001b[0m64       \u001b[0m | \u001b[0m-0.007111\u001b[0m | \u001b[0m0.7248   \u001b[0m | \u001b[0m0.01423  \u001b[0m | \u001b[0m5.243    \u001b[0m | \u001b[0m1.501    \u001b[0m | \u001b[0m287.4    \u001b[0m | \u001b[0m8.133    \u001b[0m | \u001b[0m0.8735   \u001b[0m |\n",
      "| \u001b[0m65       \u001b[0m | \u001b[0m-0.003916\u001b[0m | \u001b[0m0.7339   \u001b[0m | \u001b[0m0.1379   \u001b[0m | \u001b[0m7.828    \u001b[0m | \u001b[0m1.226    \u001b[0m | \u001b[0m382.8    \u001b[0m | \u001b[0m8.79     \u001b[0m | \u001b[0m0.792    \u001b[0m |\n",
      "| \u001b[0m66       \u001b[0m | \u001b[0m-0.004354\u001b[0m | \u001b[0m0.8884   \u001b[0m | \u001b[0m0.08293  \u001b[0m | \u001b[0m8.037    \u001b[0m | \u001b[0m7.142    \u001b[0m | \u001b[0m272.5    \u001b[0m | \u001b[0m9.466    \u001b[0m | \u001b[0m0.8297   \u001b[0m |\n",
      "| \u001b[0m67       \u001b[0m | \u001b[0m-0.003808\u001b[0m | \u001b[0m0.7536   \u001b[0m | \u001b[0m0.4418   \u001b[0m | \u001b[0m9.813    \u001b[0m | \u001b[0m1.892    \u001b[0m | \u001b[0m385.3    \u001b[0m | \u001b[0m9.689    \u001b[0m | \u001b[0m0.8255   \u001b[0m |\n",
      "| \u001b[0m68       \u001b[0m | \u001b[0m-0.004759\u001b[0m | \u001b[0m0.905    \u001b[0m | \u001b[0m0.04322  \u001b[0m | \u001b[0m8.837    \u001b[0m | \u001b[0m1.431    \u001b[0m | \u001b[0m268.8    \u001b[0m | \u001b[0m9.415    \u001b[0m | \u001b[0m0.9447   \u001b[0m |\n",
      "| \u001b[0m69       \u001b[0m | \u001b[0m-0.00419 \u001b[0m | \u001b[0m0.7705   \u001b[0m | \u001b[0m0.1248   \u001b[0m | \u001b[0m9.495    \u001b[0m | \u001b[0m1.708    \u001b[0m | \u001b[0m386.0    \u001b[0m | \u001b[0m5.984    \u001b[0m | \u001b[0m0.7889   \u001b[0m |\n",
      "| \u001b[0m70       \u001b[0m | \u001b[0m-0.004433\u001b[0m | \u001b[0m0.9003   \u001b[0m | \u001b[0m0.08751  \u001b[0m | \u001b[0m5.031    \u001b[0m | \u001b[0m9.662    \u001b[0m | \u001b[0m251.9    \u001b[0m | \u001b[0m7.559    \u001b[0m | \u001b[0m0.7363   \u001b[0m |\n",
      "| \u001b[0m71       \u001b[0m | \u001b[0m-0.004159\u001b[0m | \u001b[0m0.7606   \u001b[0m | \u001b[0m0.1111   \u001b[0m | \u001b[0m4.648    \u001b[0m | \u001b[0m4.778    \u001b[0m | \u001b[0m382.2    \u001b[0m | \u001b[0m7.333    \u001b[0m | \u001b[0m0.7096   \u001b[0m |\n",
      "| \u001b[0m72       \u001b[0m | \u001b[0m-0.003785\u001b[0m | \u001b[0m0.9078   \u001b[0m | \u001b[0m0.3451   \u001b[0m | \u001b[0m9.019    \u001b[0m | \u001b[0m4.238    \u001b[0m | \u001b[0m390.2    \u001b[0m | \u001b[0m8.303    \u001b[0m | \u001b[0m0.7003   \u001b[0m |\n",
      "| \u001b[0m73       \u001b[0m | \u001b[0m-0.004625\u001b[0m | \u001b[0m0.809    \u001b[0m | \u001b[0m0.03615  \u001b[0m | \u001b[0m9.63     \u001b[0m | \u001b[0m1.119    \u001b[0m | \u001b[0m390.1    \u001b[0m | \u001b[0m9.479    \u001b[0m | \u001b[0m0.8892   \u001b[0m |\n",
      "| \u001b[0m74       \u001b[0m | \u001b[0m-0.003954\u001b[0m | \u001b[0m0.9305   \u001b[0m | \u001b[0m0.3283   \u001b[0m | \u001b[0m6.317    \u001b[0m | \u001b[0m4.241    \u001b[0m | \u001b[0m390.8    \u001b[0m | \u001b[0m5.161    \u001b[0m | \u001b[0m0.9412   \u001b[0m |\n",
      "| \u001b[0m75       \u001b[0m | \u001b[0m-0.004004\u001b[0m | \u001b[0m0.95     \u001b[0m | \u001b[0m0.5      \u001b[0m | \u001b[0m10.0     \u001b[0m | \u001b[0m10.93    \u001b[0m | \u001b[0m249.4    \u001b[0m | \u001b[0m5.954    \u001b[0m | \u001b[0m1.0      \u001b[0m |\n",
      "| \u001b[0m76       \u001b[0m | \u001b[0m-0.003724\u001b[0m | \u001b[0m0.9002   \u001b[0m | \u001b[0m0.3812   \u001b[0m | \u001b[0m5.919    \u001b[0m | \u001b[0m6.505    \u001b[0m | \u001b[0m391.4    \u001b[0m | \u001b[0m9.202    \u001b[0m | \u001b[0m0.8521   \u001b[0m |\n",
      "| \u001b[0m77       \u001b[0m | \u001b[0m-0.00375 \u001b[0m | \u001b[0m0.7913   \u001b[0m | \u001b[0m0.3363   \u001b[0m | \u001b[0m8.522    \u001b[0m | \u001b[0m6.076    \u001b[0m | \u001b[0m394.5    \u001b[0m | \u001b[0m8.116    \u001b[0m | \u001b[0m0.8678   \u001b[0m |\n",
      "| \u001b[0m78       \u001b[0m | \u001b[0m-0.003869\u001b[0m | \u001b[0m0.8065   \u001b[0m | \u001b[0m0.3221   \u001b[0m | \u001b[0m9.008    \u001b[0m | \u001b[0m8.173    \u001b[0m | \u001b[0m392.8    \u001b[0m | \u001b[0m5.741    \u001b[0m | \u001b[0m0.732    \u001b[0m |\n",
      "| \u001b[0m79       \u001b[0m | \u001b[0m-0.004438\u001b[0m | \u001b[0m0.8907   \u001b[0m | \u001b[0m0.04993  \u001b[0m | \u001b[0m8.27     \u001b[0m | \u001b[0m9.623    \u001b[0m | \u001b[0m390.7    \u001b[0m | \u001b[0m9.15     \u001b[0m | \u001b[0m0.7835   \u001b[0m |\n",
      "| \u001b[0m80       \u001b[0m | \u001b[0m-0.004666\u001b[0m | \u001b[0m0.9288   \u001b[0m | \u001b[0m0.04501  \u001b[0m | \u001b[0m5.005    \u001b[0m | \u001b[0m8.398    \u001b[0m | \u001b[0m394.5    \u001b[0m | \u001b[0m7.381    \u001b[0m | \u001b[0m0.93     \u001b[0m |\n",
      "| \u001b[0m81       \u001b[0m | \u001b[0m-0.003955\u001b[0m | \u001b[0m0.9225   \u001b[0m | \u001b[0m0.4896   \u001b[0m | \u001b[0m8.869    \u001b[0m | \u001b[0m4.575    \u001b[0m | \u001b[0m395.7    \u001b[0m | \u001b[0m4.7      \u001b[0m | \u001b[0m0.9347   \u001b[0m |\n",
      "| \u001b[0m82       \u001b[0m | \u001b[0m-0.003834\u001b[0m | \u001b[0m0.9258   \u001b[0m | \u001b[0m0.2695   \u001b[0m | \u001b[0m4.395    \u001b[0m | \u001b[0m4.469    \u001b[0m | \u001b[0m272.5    \u001b[0m | \u001b[0m9.84     \u001b[0m | \u001b[0m0.8871   \u001b[0m |\n",
      "| \u001b[0m83       \u001b[0m | \u001b[0m-0.003836\u001b[0m | \u001b[0m0.95     \u001b[0m | \u001b[0m0.5      \u001b[0m | \u001b[0m6.021    \u001b[0m | \u001b[0m2.989    \u001b[0m | \u001b[0m394.1    \u001b[0m | \u001b[0m8.292    \u001b[0m | \u001b[0m0.7      \u001b[0m |\n",
      "| \u001b[0m84       \u001b[0m | \u001b[0m-0.004435\u001b[0m | \u001b[0m0.8503   \u001b[0m | \u001b[0m0.06769  \u001b[0m | \u001b[0m9.956    \u001b[0m | \u001b[0m14.94    \u001b[0m | \u001b[0m251.5    \u001b[0m | \u001b[0m9.722    \u001b[0m | \u001b[0m0.7445   \u001b[0m |\n",
      "| \u001b[0m85       \u001b[0m | \u001b[0m-0.003878\u001b[0m | \u001b[0m0.8028   \u001b[0m | \u001b[0m0.4861   \u001b[0m | \u001b[0m5.081    \u001b[0m | \u001b[0m5.96     \u001b[0m | \u001b[0m333.2    \u001b[0m | \u001b[0m7.563    \u001b[0m | \u001b[0m0.8746   \u001b[0m |\n",
      "| \u001b[0m86       \u001b[0m | \u001b[0m-0.003842\u001b[0m | \u001b[0m0.7844   \u001b[0m | \u001b[0m0.366    \u001b[0m | \u001b[0m4.077    \u001b[0m | \u001b[0m10.4     \u001b[0m | \u001b[0m334.4    \u001b[0m | \u001b[0m8.06     \u001b[0m | \u001b[0m0.7155   \u001b[0m |\n",
      "| \u001b[0m87       \u001b[0m | \u001b[0m-0.003943\u001b[0m | \u001b[0m0.8669   \u001b[0m | \u001b[0m0.474    \u001b[0m | \u001b[0m7.315    \u001b[0m | \u001b[0m9.831    \u001b[0m | \u001b[0m331.5    \u001b[0m | \u001b[0m6.415    \u001b[0m | \u001b[0m0.9436   \u001b[0m |\n",
      "| \u001b[0m88       \u001b[0m | \u001b[0m-0.00438 \u001b[0m | \u001b[0m0.8996   \u001b[0m | \u001b[0m0.09857  \u001b[0m | \u001b[0m7.366    \u001b[0m | \u001b[0m7.104    \u001b[0m | \u001b[0m337.3    \u001b[0m | \u001b[0m6.025    \u001b[0m | \u001b[0m0.7579   \u001b[0m |\n",
      "| \u001b[0m89       \u001b[0m | \u001b[0m-0.003821\u001b[0m | \u001b[0m0.7903   \u001b[0m | \u001b[0m0.4201   \u001b[0m | \u001b[0m4.314    \u001b[0m | \u001b[0m7.718    \u001b[0m | \u001b[0m328.6    \u001b[0m | \u001b[0m9.62     \u001b[0m | \u001b[0m0.9657   \u001b[0m |\n",
      "| \u001b[0m90       \u001b[0m | \u001b[0m-0.004007\u001b[0m | \u001b[0m0.8114   \u001b[0m | \u001b[0m0.4004   \u001b[0m | \u001b[0m4.131    \u001b[0m | \u001b[0m9.612    \u001b[0m | \u001b[0m329.6    \u001b[0m | \u001b[0m5.496    \u001b[0m | \u001b[0m0.8171   \u001b[0m |\n"
     ]
    },
    {
     "name": "stdout",
     "output_type": "stream",
     "text": [
      "| \u001b[0m91       \u001b[0m | \u001b[0m-0.004042\u001b[0m | \u001b[0m0.828    \u001b[0m | \u001b[0m0.1228   \u001b[0m | \u001b[0m7.788    \u001b[0m | \u001b[0m5.467    \u001b[0m | \u001b[0m330.2    \u001b[0m | \u001b[0m9.378    \u001b[0m | \u001b[0m0.8097   \u001b[0m |\n",
      "| \u001b[0m92       \u001b[0m | \u001b[0m-0.003891\u001b[0m | \u001b[0m0.7522   \u001b[0m | \u001b[0m0.226    \u001b[0m | \u001b[0m8.229    \u001b[0m | \u001b[0m9.471    \u001b[0m | \u001b[0m326.2    \u001b[0m | \u001b[0m8.426    \u001b[0m | \u001b[0m0.9558   \u001b[0m |\n",
      "| \u001b[0m93       \u001b[0m | \u001b[0m-0.004035\u001b[0m | \u001b[0m0.8612   \u001b[0m | \u001b[0m0.1271   \u001b[0m | \u001b[0m4.584    \u001b[0m | \u001b[0m11.45    \u001b[0m | \u001b[0m324.6    \u001b[0m | \u001b[0m8.786    \u001b[0m | \u001b[0m0.7235   \u001b[0m |\n",
      "| \u001b[0m94       \u001b[0m | \u001b[0m-0.003985\u001b[0m | \u001b[0m0.8917   \u001b[0m | \u001b[0m0.133    \u001b[0m | \u001b[0m7.909    \u001b[0m | \u001b[0m10.46    \u001b[0m | \u001b[0m319.5    \u001b[0m | \u001b[0m9.675    \u001b[0m | \u001b[0m0.9794   \u001b[0m |\n",
      "| \u001b[0m95       \u001b[0m | \u001b[0m-0.003924\u001b[0m | \u001b[0m0.7026   \u001b[0m | \u001b[0m0.2733   \u001b[0m | \u001b[0m4.268    \u001b[0m | \u001b[0m13.2     \u001b[0m | \u001b[0m318.0    \u001b[0m | \u001b[0m6.856    \u001b[0m | \u001b[0m0.7057   \u001b[0m |\n",
      "| \u001b[0m96       \u001b[0m | \u001b[0m-0.004051\u001b[0m | \u001b[0m0.8554   \u001b[0m | \u001b[0m0.1687   \u001b[0m | \u001b[0m9.732    \u001b[0m | \u001b[0m13.98    \u001b[0m | \u001b[0m319.2    \u001b[0m | \u001b[0m6.582    \u001b[0m | \u001b[0m0.7582   \u001b[0m |\n",
      "| \u001b[0m97       \u001b[0m | \u001b[0m-0.003756\u001b[0m | \u001b[0m0.7937   \u001b[0m | \u001b[0m0.3386   \u001b[0m | \u001b[0m8.774    \u001b[0m | \u001b[0m13.44    \u001b[0m | \u001b[0m328.9    \u001b[0m | \u001b[0m9.543    \u001b[0m | \u001b[0m0.743    \u001b[0m |\n",
      "| \u001b[0m98       \u001b[0m | \u001b[0m-0.004009\u001b[0m | \u001b[0m0.9142   \u001b[0m | \u001b[0m0.4219   \u001b[0m | \u001b[0m6.37     \u001b[0m | \u001b[0m14.9     \u001b[0m | \u001b[0m328.7    \u001b[0m | \u001b[0m5.455    \u001b[0m | \u001b[0m0.9014   \u001b[0m |\n",
      "| \u001b[0m99       \u001b[0m | \u001b[0m-0.003962\u001b[0m | \u001b[0m0.9114   \u001b[0m | \u001b[0m0.1443   \u001b[0m | \u001b[0m8.046    \u001b[0m | \u001b[0m13.83    \u001b[0m | \u001b[0m333.6    \u001b[0m | \u001b[0m9.027    \u001b[0m | \u001b[0m0.7753   \u001b[0m |\n",
      "| \u001b[0m100      \u001b[0m | \u001b[0m-0.003932\u001b[0m | \u001b[0m0.9036   \u001b[0m | \u001b[0m0.1391   \u001b[0m | \u001b[0m9.8      \u001b[0m | \u001b[0m14.96    \u001b[0m | \u001b[0m324.9    \u001b[0m | \u001b[0m9.853    \u001b[0m | \u001b[0m0.8565   \u001b[0m |\n",
      "=============================================================================================================\n"
     ]
    }
   ],
   "source": [
    "# LGBM Maximize\n",
    "BO_lgbm_reg.maximize(init_points=50, n_iter=50)"
   ]
  },
  {
   "cell_type": "code",
   "execution_count": 8,
   "id": "78fbee5d",
   "metadata": {
    "collapsed": true
   },
   "outputs": [
    {
     "name": "stdout",
     "output_type": "stream",
     "text": [
      "|   iter    |  target   | max_depth | min_sa... | min_sa... | n_esti... |\n",
      "-------------------------------------------------------------------------\n",
      "| \u001b[0m1        \u001b[0m | \u001b[0m-0.01302 \u001b[0m | \u001b[0m5.768    \u001b[0m | \u001b[0m8.898    \u001b[0m | \u001b[0m4.49     \u001b[0m | \u001b[0m66.98    \u001b[0m |\n",
      "| \u001b[95m2        \u001b[0m | \u001b[95m-0.01019 \u001b[0m | \u001b[95m8.722    \u001b[0m | \u001b[95m10.53    \u001b[0m | \u001b[95m10.29    \u001b[0m | \u001b[95m193.9    \u001b[0m |\n",
      "| \u001b[0m3        \u001b[0m | \u001b[0m-0.01538 \u001b[0m | \u001b[0m4.234    \u001b[0m | \u001b[0m6.652    \u001b[0m | \u001b[0m14.29    \u001b[0m | \u001b[0m65.01    \u001b[0m |\n",
      "| \u001b[0m4        \u001b[0m | \u001b[0m-0.01028 \u001b[0m | \u001b[0m9.184    \u001b[0m | \u001b[0m13.4     \u001b[0m | \u001b[0m2.666    \u001b[0m | \u001b[0m213.1    \u001b[0m |\n",
      "| \u001b[0m5        \u001b[0m | \u001b[0m-0.01205 \u001b[0m | \u001b[0m7.311    \u001b[0m | \u001b[0m9.768    \u001b[0m | \u001b[0m8.286    \u001b[0m | \u001b[0m120.7    \u001b[0m |\n",
      "| \u001b[0m6        \u001b[0m | \u001b[0m-0.013   \u001b[0m | \u001b[0m5.786    \u001b[0m | \u001b[0m9.3      \u001b[0m | \u001b[0m7.149    \u001b[0m | \u001b[0m247.2    \u001b[0m |\n",
      "| \u001b[0m7        \u001b[0m | \u001b[0m-0.01194 \u001b[0m | \u001b[0m6.511    \u001b[0m | \u001b[0m3.871    \u001b[0m | \u001b[0m3.962    \u001b[0m | \u001b[0m63.81    \u001b[0m |\n",
      "| \u001b[0m8        \u001b[0m | \u001b[0m-0.0111  \u001b[0m | \u001b[0m8.308    \u001b[0m | \u001b[0m5.8      \u001b[0m | \u001b[0m4.584    \u001b[0m | \u001b[0m257.8    \u001b[0m |\n",
      "| \u001b[0m9        \u001b[0m | \u001b[0m-0.01206 \u001b[0m | \u001b[0m7.408    \u001b[0m | \u001b[0m3.07     \u001b[0m | \u001b[0m9.085    \u001b[0m | \u001b[0m89.74    \u001b[0m |\n",
      "| \u001b[0m10       \u001b[0m | \u001b[0m-0.01106 \u001b[0m | \u001b[0m8.061    \u001b[0m | \u001b[0m3.54     \u001b[0m | \u001b[0m7.785    \u001b[0m | \u001b[0m272.0    \u001b[0m |\n",
      "| \u001b[0m11       \u001b[0m | \u001b[0m-0.01027 \u001b[0m | \u001b[0m8.784    \u001b[0m | \u001b[0m2.884    \u001b[0m | \u001b[0m14.49    \u001b[0m | \u001b[0m214.8    \u001b[0m |\n",
      "| \u001b[0m12       \u001b[0m | \u001b[0m-0.01113 \u001b[0m | \u001b[0m8.313    \u001b[0m | \u001b[0m11.67    \u001b[0m | \u001b[0m13.54    \u001b[0m | \u001b[0m83.49    \u001b[0m |\n",
      "| \u001b[95m13       \u001b[0m | \u001b[95m-0.01015 \u001b[0m | \u001b[95m8.662    \u001b[0m | \u001b[95m12.89    \u001b[0m | \u001b[95m12.78    \u001b[0m | \u001b[95m57.29    \u001b[0m |\n",
      "| \u001b[0m14       \u001b[0m | \u001b[0m-0.01297 \u001b[0m | \u001b[0m6.342    \u001b[0m | \u001b[0m7.684    \u001b[0m | \u001b[0m8.768    \u001b[0m | \u001b[0m173.2    \u001b[0m |\n",
      "| \u001b[0m15       \u001b[0m | \u001b[0m-0.01417 \u001b[0m | \u001b[0m4.783    \u001b[0m | \u001b[0m14.8     \u001b[0m | \u001b[0m2.854    \u001b[0m | \u001b[0m194.8    \u001b[0m |\n",
      "| \u001b[0m16       \u001b[0m | \u001b[0m-0.01206 \u001b[0m | \u001b[0m7.485    \u001b[0m | \u001b[0m14.41    \u001b[0m | \u001b[0m4.567    \u001b[0m | \u001b[0m70.83    \u001b[0m |\n",
      "| \u001b[0m17       \u001b[0m | \u001b[0m-0.01024 \u001b[0m | \u001b[0m9.303    \u001b[0m | \u001b[0m2.204    \u001b[0m | \u001b[0m12.34    \u001b[0m | \u001b[0m242.0    \u001b[0m |\n",
      "| \u001b[0m18       \u001b[0m | \u001b[0m-0.01016 \u001b[0m | \u001b[0m9.232    \u001b[0m | \u001b[0m13.91    \u001b[0m | \u001b[0m5.56     \u001b[0m | \u001b[0m109.1    \u001b[0m |\n",
      "| \u001b[0m19       \u001b[0m | \u001b[0m-0.01306 \u001b[0m | \u001b[0m5.863    \u001b[0m | \u001b[0m11.3     \u001b[0m | \u001b[0m3.076    \u001b[0m | \u001b[0m218.9    \u001b[0m |\n",
      "| \u001b[0m20       \u001b[0m | \u001b[0m-0.0103  \u001b[0m | \u001b[0m9.151    \u001b[0m | \u001b[0m11.01    \u001b[0m | \u001b[0m12.21    \u001b[0m | \u001b[0m138.3    \u001b[0m |\n",
      "| \u001b[0m21       \u001b[0m | \u001b[0m-0.01417 \u001b[0m | \u001b[0m5.321    \u001b[0m | \u001b[0m5.19     \u001b[0m | \u001b[0m11.46    \u001b[0m | \u001b[0m66.03    \u001b[0m |\n",
      "| \u001b[0m22       \u001b[0m | \u001b[0m-0.01203 \u001b[0m | \u001b[0m6.722    \u001b[0m | \u001b[0m8.34     \u001b[0m | \u001b[0m10.33    \u001b[0m | \u001b[0m76.54    \u001b[0m |\n",
      "| \u001b[0m23       \u001b[0m | \u001b[0m-0.01199 \u001b[0m | \u001b[0m7.442    \u001b[0m | \u001b[0m14.48    \u001b[0m | \u001b[0m8.704    \u001b[0m | \u001b[0m192.5    \u001b[0m |\n",
      "| \u001b[95m24       \u001b[0m | \u001b[95m-0.00962 \u001b[0m | \u001b[95m9.928    \u001b[0m | \u001b[95m12.83    \u001b[0m | \u001b[95m8.476    \u001b[0m | \u001b[95m70.04    \u001b[0m |\n",
      "| \u001b[0m25       \u001b[0m | \u001b[0m-0.01021 \u001b[0m | \u001b[0m9.226    \u001b[0m | \u001b[0m11.27    \u001b[0m | \u001b[0m11.52    \u001b[0m | \u001b[0m255.9    \u001b[0m |\n",
      "| \u001b[0m26       \u001b[0m | \u001b[0m-0.01107 \u001b[0m | \u001b[0m8.47     \u001b[0m | \u001b[0m7.37     \u001b[0m | \u001b[0m8.691    \u001b[0m | \u001b[0m261.6    \u001b[0m |\n",
      "| \u001b[0m27       \u001b[0m | \u001b[0m-0.01021 \u001b[0m | \u001b[0m9.153    \u001b[0m | \u001b[0m6.037    \u001b[0m | \u001b[0m3.552    \u001b[0m | \u001b[0m180.2    \u001b[0m |\n",
      "| \u001b[0m28       \u001b[0m | \u001b[0m-0.01208 \u001b[0m | \u001b[0m6.694    \u001b[0m | \u001b[0m13.66    \u001b[0m | \u001b[0m8.41     \u001b[0m | \u001b[0m176.1    \u001b[0m |\n",
      "| \u001b[0m29       \u001b[0m | \u001b[0m-0.01306 \u001b[0m | \u001b[0m6.191    \u001b[0m | \u001b[0m12.18    \u001b[0m | \u001b[0m14.32    \u001b[0m | \u001b[0m82.5     \u001b[0m |\n",
      "| \u001b[0m30       \u001b[0m | \u001b[0m-0.01109 \u001b[0m | \u001b[0m7.967    \u001b[0m | \u001b[0m4.129    \u001b[0m | \u001b[0m6.016    \u001b[0m | \u001b[0m291.7    \u001b[0m |\n",
      "| \u001b[0m31       \u001b[0m | \u001b[0m-0.012   \u001b[0m | \u001b[0m6.897    \u001b[0m | \u001b[0m9.03     \u001b[0m | \u001b[0m11.25    \u001b[0m | \u001b[0m221.9    \u001b[0m |\n",
      "| \u001b[0m32       \u001b[0m | \u001b[0m-0.01539 \u001b[0m | \u001b[0m4.222    \u001b[0m | \u001b[0m13.55    \u001b[0m | \u001b[0m4.452    \u001b[0m | \u001b[0m245.5    \u001b[0m |\n",
      "| \u001b[0m33       \u001b[0m | \u001b[0m-0.01111 \u001b[0m | \u001b[0m7.864    \u001b[0m | \u001b[0m8.31     \u001b[0m | \u001b[0m14.08    \u001b[0m | \u001b[0m117.5    \u001b[0m |\n",
      "| \u001b[0m34       \u001b[0m | \u001b[0m-0.01028 \u001b[0m | \u001b[0m8.885    \u001b[0m | \u001b[0m11.04    \u001b[0m | \u001b[0m5.062    \u001b[0m | \u001b[0m288.3    \u001b[0m |\n",
      "| \u001b[0m35       \u001b[0m | \u001b[0m-0.01108 \u001b[0m | \u001b[0m7.513    \u001b[0m | \u001b[0m9.58     \u001b[0m | \u001b[0m4.044    \u001b[0m | \u001b[0m156.3    \u001b[0m |\n",
      "| \u001b[0m36       \u001b[0m | \u001b[0m-0.01411 \u001b[0m | \u001b[0m5.41     \u001b[0m | \u001b[0m9.807    \u001b[0m | \u001b[0m6.688    \u001b[0m | \u001b[0m92.22    \u001b[0m |\n",
      "| \u001b[0m37       \u001b[0m | \u001b[0m-0.01308 \u001b[0m | \u001b[0m6.083    \u001b[0m | \u001b[0m4.789    \u001b[0m | \u001b[0m12.33    \u001b[0m | \u001b[0m247.9    \u001b[0m |\n",
      "| \u001b[0m38       \u001b[0m | \u001b[0m-0.0141  \u001b[0m | \u001b[0m4.987    \u001b[0m | \u001b[0m11.75    \u001b[0m | \u001b[0m2.727    \u001b[0m | \u001b[0m108.1    \u001b[0m |\n",
      "| \u001b[0m39       \u001b[0m | \u001b[0m-0.01108 \u001b[0m | \u001b[0m7.901    \u001b[0m | \u001b[0m11.34    \u001b[0m | \u001b[0m8.241    \u001b[0m | \u001b[0m134.4    \u001b[0m |\n",
      "| \u001b[0m40       \u001b[0m | \u001b[0m-0.01303 \u001b[0m | \u001b[0m6.338    \u001b[0m | \u001b[0m13.16    \u001b[0m | \u001b[0m8.648    \u001b[0m | \u001b[0m268.7    \u001b[0m |\n",
      "| \u001b[95m41       \u001b[0m | \u001b[95m-0.009524\u001b[0m | \u001b[95m9.679    \u001b[0m | \u001b[95m14.16    \u001b[0m | \u001b[95m8.409    \u001b[0m | \u001b[95m200.1    \u001b[0m |\n",
      "| \u001b[0m42       \u001b[0m | \u001b[0m-0.01414 \u001b[0m | \u001b[0m5.243    \u001b[0m | \u001b[0m14.43    \u001b[0m | \u001b[0m14.83    \u001b[0m | \u001b[0m257.3    \u001b[0m |\n",
      "| \u001b[0m43       \u001b[0m | \u001b[0m-0.01207 \u001b[0m | \u001b[0m7.227    \u001b[0m | \u001b[0m3.086    \u001b[0m | \u001b[0m6.081    \u001b[0m | \u001b[0m76.53    \u001b[0m |\n",
      "| \u001b[0m44       \u001b[0m | \u001b[0m-0.01409 \u001b[0m | \u001b[0m5.229    \u001b[0m | \u001b[0m6.232    \u001b[0m | \u001b[0m8.521    \u001b[0m | \u001b[0m269.6    \u001b[0m |\n",
      "| \u001b[0m45       \u001b[0m | \u001b[0m-0.01303 \u001b[0m | \u001b[0m5.566    \u001b[0m | \u001b[0m8.892    \u001b[0m | \u001b[0m12.97    \u001b[0m | \u001b[0m84.14    \u001b[0m |\n",
      "| \u001b[0m46       \u001b[0m | \u001b[0m-0.01296 \u001b[0m | \u001b[0m6.401    \u001b[0m | \u001b[0m9.39     \u001b[0m | \u001b[0m4.419    \u001b[0m | \u001b[0m53.43    \u001b[0m |\n",
      "| \u001b[0m47       \u001b[0m | \u001b[0m-0.01104 \u001b[0m | \u001b[0m7.557    \u001b[0m | \u001b[0m2.204    \u001b[0m | \u001b[0m9.618    \u001b[0m | \u001b[0m152.2    \u001b[0m |\n",
      "| \u001b[0m48       \u001b[0m | \u001b[0m-0.01414 \u001b[0m | \u001b[0m5.372    \u001b[0m | \u001b[0m4.468    \u001b[0m | \u001b[0m13.87    \u001b[0m | \u001b[0m197.6    \u001b[0m |\n",
      "| \u001b[0m49       \u001b[0m | \u001b[0m-0.0141  \u001b[0m | \u001b[0m5.027    \u001b[0m | \u001b[0m11.29    \u001b[0m | \u001b[0m5.1      \u001b[0m | \u001b[0m280.5    \u001b[0m |\n",
      "| \u001b[0m50       \u001b[0m | \u001b[0m-0.01109 \u001b[0m | \u001b[0m8.328    \u001b[0m | \u001b[0m10.8     \u001b[0m | \u001b[0m14.83    \u001b[0m | \u001b[0m184.9    \u001b[0m |\n",
      "| \u001b[0m51       \u001b[0m | \u001b[0m-0.01024 \u001b[0m | \u001b[0m8.917    \u001b[0m | \u001b[0m12.97    \u001b[0m | \u001b[0m8.754    \u001b[0m | \u001b[0m198.0    \u001b[0m |\n",
      "| \u001b[0m52       \u001b[0m | \u001b[0m-0.01026 \u001b[0m | \u001b[0m9.454    \u001b[0m | \u001b[0m11.5     \u001b[0m | \u001b[0m7.829    \u001b[0m | \u001b[0m200.7    \u001b[0m |\n",
      "| \u001b[95m53       \u001b[0m | \u001b[95m-0.009509\u001b[0m | \u001b[95m9.794    \u001b[0m | \u001b[95m12.7     \u001b[0m | \u001b[95m10.98    \u001b[0m | \u001b[95m201.3    \u001b[0m |\n",
      "| \u001b[0m54       \u001b[0m | \u001b[0m-0.01203 \u001b[0m | \u001b[0m6.728    \u001b[0m | \u001b[0m14.32    \u001b[0m | \u001b[0m10.49    \u001b[0m | \u001b[0m201.4    \u001b[0m |\n",
      "| \u001b[95m55       \u001b[0m | \u001b[95m-0.009402\u001b[0m | \u001b[95m9.711    \u001b[0m | \u001b[95m10.61    \u001b[0m | \u001b[95m11.77    \u001b[0m | \u001b[95m197.8    \u001b[0m |\n",
      "| \u001b[0m56       \u001b[0m | \u001b[0m-0.009544\u001b[0m | \u001b[0m9.61     \u001b[0m | \u001b[0m11.49    \u001b[0m | \u001b[0m13.37    \u001b[0m | \u001b[0m195.0    \u001b[0m |\n",
      "| \u001b[0m57       \u001b[0m | \u001b[0m-0.009463\u001b[0m | \u001b[0m9.853    \u001b[0m | \u001b[0m12.51    \u001b[0m | \u001b[0m13.59    \u001b[0m | \u001b[0m198.7    \u001b[0m |\n",
      "| \u001b[0m58       \u001b[0m | \u001b[0m-0.01033 \u001b[0m | \u001b[0m9.45     \u001b[0m | \u001b[0m14.21    \u001b[0m | \u001b[0m11.41    \u001b[0m | \u001b[0m71.09    \u001b[0m |\n",
      "| \u001b[0m59       \u001b[0m | \u001b[0m-0.009599\u001b[0m | \u001b[0m9.532    \u001b[0m | \u001b[0m12.99    \u001b[0m | \u001b[0m10.66    \u001b[0m | \u001b[0m110.0    \u001b[0m |\n",
      "| \u001b[0m60       \u001b[0m | \u001b[0m-0.009594\u001b[0m | \u001b[0m10.0     \u001b[0m | \u001b[0m15.0     \u001b[0m | \u001b[0m8.222    \u001b[0m | \u001b[0m112.8    \u001b[0m |\n",
      "| \u001b[0m61       \u001b[0m | \u001b[0m-0.01307 \u001b[0m | \u001b[0m5.706    \u001b[0m | \u001b[0m14.48    \u001b[0m | \u001b[0m10.92    \u001b[0m | \u001b[0m113.0    \u001b[0m |\n",
      "| \u001b[0m62       \u001b[0m | \u001b[0m-0.009489\u001b[0m | \u001b[0m9.968    \u001b[0m | \u001b[0m9.044    \u001b[0m | \u001b[0m8.256    \u001b[0m | \u001b[0m111.1    \u001b[0m |\n",
      "| \u001b[0m63       \u001b[0m | \u001b[0m-0.009474\u001b[0m | \u001b[0m10.0     \u001b[0m | \u001b[0m10.04    \u001b[0m | \u001b[0m9.777    \u001b[0m | \u001b[0m106.9    \u001b[0m |\n",
      "| \u001b[0m64       \u001b[0m | \u001b[0m-0.009486\u001b[0m | \u001b[0m10.0     \u001b[0m | \u001b[0m7.769    \u001b[0m | \u001b[0m12.94    \u001b[0m | \u001b[0m109.7    \u001b[0m |\n",
      "| \u001b[0m65       \u001b[0m | \u001b[0m-0.009555\u001b[0m | \u001b[0m10.0     \u001b[0m | \u001b[0m15.0     \u001b[0m | \u001b[0m4.86     \u001b[0m | \u001b[0m206.9    \u001b[0m |\n",
      "| \u001b[0m66       \u001b[0m | \u001b[0m-0.00951 \u001b[0m | \u001b[0m10.0     \u001b[0m | \u001b[0m11.59    \u001b[0m | \u001b[0m8.622    \u001b[0m | \u001b[0m209.5    \u001b[0m |\n"
     ]
    },
    {
     "name": "stdout",
     "output_type": "stream",
     "text": [
      "| \u001b[0m67       \u001b[0m | \u001b[0m-0.01025 \u001b[0m | \u001b[0m9.415    \u001b[0m | \u001b[0m9.784    \u001b[0m | \u001b[0m3.297    \u001b[0m | \u001b[0m208.5    \u001b[0m |\n",
      "| \u001b[0m68       \u001b[0m | \u001b[0m-0.009539\u001b[0m | \u001b[0m9.847    \u001b[0m | \u001b[0m2.795    \u001b[0m | \u001b[0m10.24    \u001b[0m | \u001b[0m108.2    \u001b[0m |\n",
      "| \u001b[0m69       \u001b[0m | \u001b[0m-0.009412\u001b[0m | \u001b[0m10.0     \u001b[0m | \u001b[0m3.859    \u001b[0m | \u001b[0m15.0     \u001b[0m | \u001b[0m104.4    \u001b[0m |\n",
      "| \u001b[0m70       \u001b[0m | \u001b[0m-0.01533 \u001b[0m | \u001b[0m4.494    \u001b[0m | \u001b[0m3.416    \u001b[0m | \u001b[0m13.69    \u001b[0m | \u001b[0m106.9    \u001b[0m |\n",
      "| \u001b[0m71       \u001b[0m | \u001b[0m-0.009461\u001b[0m | \u001b[0m9.546    \u001b[0m | \u001b[0m9.413    \u001b[0m | \u001b[0m14.5     \u001b[0m | \u001b[0m103.8    \u001b[0m |\n",
      "| \u001b[0m72       \u001b[0m | \u001b[0m-0.009497\u001b[0m | \u001b[0m9.957    \u001b[0m | \u001b[0m10.69    \u001b[0m | \u001b[0m14.76    \u001b[0m | \u001b[0m211.1    \u001b[0m |\n",
      "| \u001b[0m73       \u001b[0m | \u001b[0m-0.01022 \u001b[0m | \u001b[0m9.454    \u001b[0m | \u001b[0m5.456    \u001b[0m | \u001b[0m11.15    \u001b[0m | \u001b[0m209.8    \u001b[0m |\n",
      "| \u001b[0m74       \u001b[0m | \u001b[0m-0.01208 \u001b[0m | \u001b[0m7.3      \u001b[0m | \u001b[0m14.74    \u001b[0m | \u001b[0m10.76    \u001b[0m | \u001b[0m213.0    \u001b[0m |\n",
      "| \u001b[0m75       \u001b[0m | \u001b[0m-0.009482\u001b[0m | \u001b[0m10.0     \u001b[0m | \u001b[0m9.901    \u001b[0m | \u001b[0m15.0     \u001b[0m | \u001b[0m206.0    \u001b[0m |\n",
      "| \u001b[95m76       \u001b[0m | \u001b[95m-0.009395\u001b[0m | \u001b[95m10.0     \u001b[0m | \u001b[95m4.849    \u001b[0m | \u001b[95m10.55    \u001b[0m | \u001b[95m102.0    \u001b[0m |\n",
      "| \u001b[95m77       \u001b[0m | \u001b[95m-0.009359\u001b[0m | \u001b[95m10.0     \u001b[0m | \u001b[95m2.0      \u001b[0m | \u001b[95m13.7     \u001b[0m | \u001b[95m234.9    \u001b[0m |\n",
      "| \u001b[0m78       \u001b[0m | \u001b[0m-0.009385\u001b[0m | \u001b[0m9.864    \u001b[0m | \u001b[0m2.628    \u001b[0m | \u001b[0m5.816    \u001b[0m | \u001b[0m235.5    \u001b[0m |\n",
      "| \u001b[0m79       \u001b[0m | \u001b[0m-0.01537 \u001b[0m | \u001b[0m4.213    \u001b[0m | \u001b[0m2.124    \u001b[0m | \u001b[0m10.3     \u001b[0m | \u001b[0m236.2    \u001b[0m |\n",
      "| \u001b[0m80       \u001b[0m | \u001b[0m-0.009479\u001b[0m | \u001b[0m10.0     \u001b[0m | \u001b[0m5.522    \u001b[0m | \u001b[0m15.0     \u001b[0m | \u001b[0m98.95    \u001b[0m |\n",
      "| \u001b[0m81       \u001b[0m | \u001b[0m-0.009439\u001b[0m | \u001b[0m10.0     \u001b[0m | \u001b[0m7.394    \u001b[0m | \u001b[0m15.0     \u001b[0m | \u001b[0m236.5    \u001b[0m |\n",
      "| \u001b[0m82       \u001b[0m | \u001b[0m-0.009423\u001b[0m | \u001b[0m10.0     \u001b[0m | \u001b[0m2.0      \u001b[0m | \u001b[0m2.0      \u001b[0m | \u001b[0m231.3    \u001b[0m |\n",
      "| \u001b[0m83       \u001b[0m | \u001b[0m-0.009454\u001b[0m | \u001b[0m10.0     \u001b[0m | \u001b[0m2.0      \u001b[0m | \u001b[0m8.086    \u001b[0m | \u001b[0m229.3    \u001b[0m |\n",
      "| \u001b[0m84       \u001b[0m | \u001b[0m-0.009443\u001b[0m | \u001b[0m9.829    \u001b[0m | \u001b[0m9.584    \u001b[0m | \u001b[0m9.001    \u001b[0m | \u001b[0m233.3    \u001b[0m |\n",
      "| \u001b[0m85       \u001b[0m | \u001b[0m-0.009502\u001b[0m | \u001b[0m9.844    \u001b[0m | \u001b[0m11.08    \u001b[0m | \u001b[0m2.212    \u001b[0m | \u001b[0m231.4    \u001b[0m |\n",
      "| \u001b[0m86       \u001b[0m | \u001b[0m-0.00945 \u001b[0m | \u001b[0m10.0     \u001b[0m | \u001b[0m6.874    \u001b[0m | \u001b[0m2.0      \u001b[0m | \u001b[0m235.5    \u001b[0m |\n",
      "| \u001b[0m87       \u001b[0m | \u001b[0m-0.009487\u001b[0m | \u001b[0m9.588    \u001b[0m | \u001b[0m7.873    \u001b[0m | \u001b[0m14.98    \u001b[0m | \u001b[0m230.0    \u001b[0m |\n",
      "| \u001b[0m88       \u001b[0m | \u001b[0m-0.01027 \u001b[0m | \u001b[0m9.196    \u001b[0m | \u001b[0m14.51    \u001b[0m | \u001b[0m5.09     \u001b[0m | \u001b[0m296.3    \u001b[0m |\n",
      "| \u001b[0m89       \u001b[0m | \u001b[0m-0.009587\u001b[0m | \u001b[0m10.0     \u001b[0m | \u001b[0m15.0     \u001b[0m | \u001b[0m15.0     \u001b[0m | \u001b[0m233.1    \u001b[0m |\n",
      "| \u001b[0m90       \u001b[0m | \u001b[0m-0.009683\u001b[0m | \u001b[0m10.0     \u001b[0m | \u001b[0m15.0     \u001b[0m | \u001b[0m15.0     \u001b[0m | \u001b[0m50.0     \u001b[0m |\n",
      "| \u001b[0m91       \u001b[0m | \u001b[0m-0.01111 \u001b[0m | \u001b[0m8.087    \u001b[0m | \u001b[0m13.11    \u001b[0m | \u001b[0m13.71    \u001b[0m | \u001b[0m293.3    \u001b[0m |\n",
      "| \u001b[0m92       \u001b[0m | \u001b[0m-0.01414 \u001b[0m | \u001b[0m4.656    \u001b[0m | \u001b[0m14.57    \u001b[0m | \u001b[0m14.5     \u001b[0m | \u001b[0m146.3    \u001b[0m |\n",
      "| \u001b[0m93       \u001b[0m | \u001b[0m-0.01024 \u001b[0m | \u001b[0m8.647    \u001b[0m | \u001b[0m2.083    \u001b[0m | \u001b[0m11.97    \u001b[0m | \u001b[0m136.6    \u001b[0m |\n",
      "| \u001b[0m94       \u001b[0m | \u001b[0m-0.009415\u001b[0m | \u001b[0m10.0     \u001b[0m | \u001b[0m2.0      \u001b[0m | \u001b[0m15.0     \u001b[0m | \u001b[0m226.8    \u001b[0m |\n",
      "| \u001b[0m95       \u001b[0m | \u001b[0m-0.009444\u001b[0m | \u001b[0m9.527    \u001b[0m | \u001b[0m4.186    \u001b[0m | \u001b[0m2.026    \u001b[0m | \u001b[0m142.5    \u001b[0m |\n",
      "| \u001b[0m96       \u001b[0m | \u001b[0m-0.009419\u001b[0m | \u001b[0m10.0     \u001b[0m | \u001b[0m2.0      \u001b[0m | \u001b[0m2.0      \u001b[0m | \u001b[0m135.0    \u001b[0m |\n",
      "| \u001b[0m97       \u001b[0m | \u001b[0m-0.01535 \u001b[0m | \u001b[0m4.0      \u001b[0m | \u001b[0m2.0      \u001b[0m | \u001b[0m2.0      \u001b[0m | \u001b[0m138.8    \u001b[0m |\n",
      "| \u001b[0m98       \u001b[0m | \u001b[0m-0.009477\u001b[0m | \u001b[0m10.0     \u001b[0m | \u001b[0m2.0      \u001b[0m | \u001b[0m5.479    \u001b[0m | \u001b[0m129.3    \u001b[0m |\n",
      "| \u001b[95m99       \u001b[0m | \u001b[95m-0.009341\u001b[0m | \u001b[95m10.0     \u001b[0m | \u001b[95m2.0      \u001b[0m | \u001b[95m14.81    \u001b[0m | \u001b[95m128.4    \u001b[0m |\n",
      "| \u001b[0m100      \u001b[0m | \u001b[0m-0.01019 \u001b[0m | \u001b[0m9.465    \u001b[0m | \u001b[0m11.1     \u001b[0m | \u001b[0m2.204    \u001b[0m | \u001b[0m145.1    \u001b[0m |\n",
      "=========================================================================\n"
     ]
    }
   ],
   "source": [
    "# ExtraTrees Maximize\n",
    "BO_et_reg.maximize(init_points=50, n_iter=50)"
   ]
  },
  {
   "cell_type": "code",
   "execution_count": 10,
   "id": "b45fb588",
   "metadata": {},
   "outputs": [],
   "source": [
    "# Catboost Max Parameters\n",
    "'''cb_reg_max_params = BO_cb_reg.max['params']\n",
    "cb_reg_max_params['n_estimators'] = int(round(cb_reg_max_params['n_estimators']))\n",
    "cb_reg_max_params['max_depth'] = int(round(cb_reg_max_params['max_depth']))'''\n",
    "\n",
    "# XGB Max Parameters\n",
    "xgb_reg_max_params = BO_xgb_reg.max['params']\n",
    "xgb_reg_max_params['n_estimators'] = int(round(xgb_reg_max_params['n_estimators']))\n",
    "xgb_reg_max_params['max_depth'] = int(round(xgb_reg_max_params['max_depth']))\n",
    "\n",
    "# LGBM Max Parameters\n",
    "lgbm_reg_max_params = BO_lgbm_reg.max['params']\n",
    "lgbm_reg_max_params['n_estimators'] = int(round(lgbm_reg_max_params['n_estimators']))\n",
    "lgbm_reg_max_params['max_depth'] = int(round(lgbm_reg_max_params['max_depth']))\n",
    "lgbm_reg_max_params['num_leaves'] = int(round(lgbm_reg_max_params['num_leaves']))\n",
    "\n",
    "# ExtraTrees Max Parameters\n",
    "et_reg_max_params = BO_et_reg.max['params']\n",
    "et_reg_max_params['n_estimators'] = int(round(et_reg_max_params['n_estimators']))\n",
    "et_reg_max_params['max_depth'] = int(round(et_reg_max_params['max_depth']))\n",
    "et_reg_max_params['min_samples_split'] = int(round(et_reg_max_params['min_samples_split']))\n",
    "et_reg_max_params['min_samples_leaf'] = int(round(et_reg_max_params['min_samples_leaf']))"
   ]
  },
  {
   "cell_type": "markdown",
   "id": "dfb92caa",
   "metadata": {},
   "source": [
    "tune_cb_reg = CatBoostRegressor(**cb_reg_max_params)\n",
    "tune_cb_reg.fit(train_s,train_y)"
   ]
  },
  {
   "cell_type": "code",
   "execution_count": 11,
   "id": "82f4c1c1",
   "metadata": {},
   "outputs": [
    {
     "data": {
      "text/html": [
       "<style>#sk-container-id-1 {color: black;background-color: white;}#sk-container-id-1 pre{padding: 0;}#sk-container-id-1 div.sk-toggleable {background-color: white;}#sk-container-id-1 label.sk-toggleable__label {cursor: pointer;display: block;width: 100%;margin-bottom: 0;padding: 0.3em;box-sizing: border-box;text-align: center;}#sk-container-id-1 label.sk-toggleable__label-arrow:before {content: \"▸\";float: left;margin-right: 0.25em;color: #696969;}#sk-container-id-1 label.sk-toggleable__label-arrow:hover:before {color: black;}#sk-container-id-1 div.sk-estimator:hover label.sk-toggleable__label-arrow:before {color: black;}#sk-container-id-1 div.sk-toggleable__content {max-height: 0;max-width: 0;overflow: hidden;text-align: left;background-color: #f0f8ff;}#sk-container-id-1 div.sk-toggleable__content pre {margin: 0.2em;color: black;border-radius: 0.25em;background-color: #f0f8ff;}#sk-container-id-1 input.sk-toggleable__control:checked~div.sk-toggleable__content {max-height: 200px;max-width: 100%;overflow: auto;}#sk-container-id-1 input.sk-toggleable__control:checked~label.sk-toggleable__label-arrow:before {content: \"▾\";}#sk-container-id-1 div.sk-estimator input.sk-toggleable__control:checked~label.sk-toggleable__label {background-color: #d4ebff;}#sk-container-id-1 div.sk-label input.sk-toggleable__control:checked~label.sk-toggleable__label {background-color: #d4ebff;}#sk-container-id-1 input.sk-hidden--visually {border: 0;clip: rect(1px 1px 1px 1px);clip: rect(1px, 1px, 1px, 1px);height: 1px;margin: -1px;overflow: hidden;padding: 0;position: absolute;width: 1px;}#sk-container-id-1 div.sk-estimator {font-family: monospace;background-color: #f0f8ff;border: 1px dotted black;border-radius: 0.25em;box-sizing: border-box;margin-bottom: 0.5em;}#sk-container-id-1 div.sk-estimator:hover {background-color: #d4ebff;}#sk-container-id-1 div.sk-parallel-item::after {content: \"\";width: 100%;border-bottom: 1px solid gray;flex-grow: 1;}#sk-container-id-1 div.sk-label:hover label.sk-toggleable__label {background-color: #d4ebff;}#sk-container-id-1 div.sk-serial::before {content: \"\";position: absolute;border-left: 1px solid gray;box-sizing: border-box;top: 0;bottom: 0;left: 50%;z-index: 0;}#sk-container-id-1 div.sk-serial {display: flex;flex-direction: column;align-items: center;background-color: white;padding-right: 0.2em;padding-left: 0.2em;position: relative;}#sk-container-id-1 div.sk-item {position: relative;z-index: 1;}#sk-container-id-1 div.sk-parallel {display: flex;align-items: stretch;justify-content: center;background-color: white;position: relative;}#sk-container-id-1 div.sk-item::before, #sk-container-id-1 div.sk-parallel-item::before {content: \"\";position: absolute;border-left: 1px solid gray;box-sizing: border-box;top: 0;bottom: 0;left: 50%;z-index: -1;}#sk-container-id-1 div.sk-parallel-item {display: flex;flex-direction: column;z-index: 1;position: relative;background-color: white;}#sk-container-id-1 div.sk-parallel-item:first-child::after {align-self: flex-end;width: 50%;}#sk-container-id-1 div.sk-parallel-item:last-child::after {align-self: flex-start;width: 50%;}#sk-container-id-1 div.sk-parallel-item:only-child::after {width: 0;}#sk-container-id-1 div.sk-dashed-wrapped {border: 1px dashed gray;margin: 0 0.4em 0.5em 0.4em;box-sizing: border-box;padding-bottom: 0.4em;background-color: white;}#sk-container-id-1 div.sk-label label {font-family: monospace;font-weight: bold;display: inline-block;line-height: 1.2em;}#sk-container-id-1 div.sk-label-container {text-align: center;}#sk-container-id-1 div.sk-container {/* jupyter's `normalize.less` sets `[hidden] { display: none; }` but bootstrap.min.css set `[hidden] { display: none !important; }` so we also need the `!important` here to be able to override the default hidden behavior on the sphinx rendered scikit-learn.org. See: https://github.com/scikit-learn/scikit-learn/issues/21755 */display: inline-block !important;position: relative;}#sk-container-id-1 div.sk-text-repr-fallback {display: none;}</style><div id=\"sk-container-id-1\" class=\"sk-top-container\"><div class=\"sk-text-repr-fallback\"><pre>XGBRegressor(base_score=0.5, booster=&#x27;gbtree&#x27;, callbacks=None,\n",
       "             colsample_bylevel=1, colsample_bynode=1,\n",
       "             colsample_bytree=0.7791682677670975, early_stopping_rounds=None,\n",
       "             enable_categorical=False, eval_metric=None, feature_types=None,\n",
       "             gamma=0, gpu_id=-1, grow_policy=&#x27;depthwise&#x27;, importance_type=None,\n",
       "             interaction_constraints=&#x27;&#x27;, learning_rate=0.06874001460156993,\n",
       "             max_bin=256, max_cat_threshold=64, max_cat_to_onehot=4,\n",
       "             max_delta_step=0, max_depth=9, max_leaves=0,\n",
       "             min_child_weight=8.225025470833163, missing=nan,\n",
       "             monotone_constraints=&#x27;()&#x27;, n_estimators=347, n_jobs=0,\n",
       "             num_parallel_tree=1, predictor=&#x27;auto&#x27;, random_state=0, ...)</pre><b>In a Jupyter environment, please rerun this cell to show the HTML representation or trust the notebook. <br />On GitHub, the HTML representation is unable to render, please try loading this page with nbviewer.org.</b></div><div class=\"sk-container\" hidden><div class=\"sk-item\"><div class=\"sk-estimator sk-toggleable\"><input class=\"sk-toggleable__control sk-hidden--visually\" id=\"sk-estimator-id-1\" type=\"checkbox\" checked><label for=\"sk-estimator-id-1\" class=\"sk-toggleable__label sk-toggleable__label-arrow\">XGBRegressor</label><div class=\"sk-toggleable__content\"><pre>XGBRegressor(base_score=0.5, booster=&#x27;gbtree&#x27;, callbacks=None,\n",
       "             colsample_bylevel=1, colsample_bynode=1,\n",
       "             colsample_bytree=0.7791682677670975, early_stopping_rounds=None,\n",
       "             enable_categorical=False, eval_metric=None, feature_types=None,\n",
       "             gamma=0, gpu_id=-1, grow_policy=&#x27;depthwise&#x27;, importance_type=None,\n",
       "             interaction_constraints=&#x27;&#x27;, learning_rate=0.06874001460156993,\n",
       "             max_bin=256, max_cat_threshold=64, max_cat_to_onehot=4,\n",
       "             max_delta_step=0, max_depth=9, max_leaves=0,\n",
       "             min_child_weight=8.225025470833163, missing=nan,\n",
       "             monotone_constraints=&#x27;()&#x27;, n_estimators=347, n_jobs=0,\n",
       "             num_parallel_tree=1, predictor=&#x27;auto&#x27;, random_state=0, ...)</pre></div></div></div></div></div>"
      ],
      "text/plain": [
       "XGBRegressor(base_score=0.5, booster='gbtree', callbacks=None,\n",
       "             colsample_bylevel=1, colsample_bynode=1,\n",
       "             colsample_bytree=0.7791682677670975, early_stopping_rounds=None,\n",
       "             enable_categorical=False, eval_metric=None, feature_types=None,\n",
       "             gamma=0, gpu_id=-1, grow_policy='depthwise', importance_type=None,\n",
       "             interaction_constraints='', learning_rate=0.06874001460156993,\n",
       "             max_bin=256, max_cat_threshold=64, max_cat_to_onehot=4,\n",
       "             max_delta_step=0, max_depth=9, max_leaves=0,\n",
       "             min_child_weight=8.225025470833163, missing=nan,\n",
       "             monotone_constraints='()', n_estimators=347, n_jobs=0,\n",
       "             num_parallel_tree=1, predictor='auto', random_state=0, ...)"
      ]
     },
     "execution_count": 11,
     "metadata": {},
     "output_type": "execute_result"
    }
   ],
   "source": [
    "tune_xgb_reg = XGBRegressor(**xgb_reg_max_params)\n",
    "tune_xgb_reg.fit(train_s,train_y)"
   ]
  },
  {
   "cell_type": "code",
   "execution_count": 12,
   "id": "9a1e433d",
   "metadata": {},
   "outputs": [
    {
     "name": "stderr",
     "output_type": "stream",
     "text": [
      "C:\\Users\\82107\\AppData\\Roaming\\Python\\Python39\\site-packages\\sklearn\\utils\\validation.py:1111: DataConversionWarning: A column-vector y was passed when a 1d array was expected. Please change the shape of y to (n_samples, ), for example using ravel().\n",
      "  y = column_or_1d(y, warn=True)\n"
     ]
    },
    {
     "data": {
      "text/html": [
       "<style>#sk-container-id-2 {color: black;background-color: white;}#sk-container-id-2 pre{padding: 0;}#sk-container-id-2 div.sk-toggleable {background-color: white;}#sk-container-id-2 label.sk-toggleable__label {cursor: pointer;display: block;width: 100%;margin-bottom: 0;padding: 0.3em;box-sizing: border-box;text-align: center;}#sk-container-id-2 label.sk-toggleable__label-arrow:before {content: \"▸\";float: left;margin-right: 0.25em;color: #696969;}#sk-container-id-2 label.sk-toggleable__label-arrow:hover:before {color: black;}#sk-container-id-2 div.sk-estimator:hover label.sk-toggleable__label-arrow:before {color: black;}#sk-container-id-2 div.sk-toggleable__content {max-height: 0;max-width: 0;overflow: hidden;text-align: left;background-color: #f0f8ff;}#sk-container-id-2 div.sk-toggleable__content pre {margin: 0.2em;color: black;border-radius: 0.25em;background-color: #f0f8ff;}#sk-container-id-2 input.sk-toggleable__control:checked~div.sk-toggleable__content {max-height: 200px;max-width: 100%;overflow: auto;}#sk-container-id-2 input.sk-toggleable__control:checked~label.sk-toggleable__label-arrow:before {content: \"▾\";}#sk-container-id-2 div.sk-estimator input.sk-toggleable__control:checked~label.sk-toggleable__label {background-color: #d4ebff;}#sk-container-id-2 div.sk-label input.sk-toggleable__control:checked~label.sk-toggleable__label {background-color: #d4ebff;}#sk-container-id-2 input.sk-hidden--visually {border: 0;clip: rect(1px 1px 1px 1px);clip: rect(1px, 1px, 1px, 1px);height: 1px;margin: -1px;overflow: hidden;padding: 0;position: absolute;width: 1px;}#sk-container-id-2 div.sk-estimator {font-family: monospace;background-color: #f0f8ff;border: 1px dotted black;border-radius: 0.25em;box-sizing: border-box;margin-bottom: 0.5em;}#sk-container-id-2 div.sk-estimator:hover {background-color: #d4ebff;}#sk-container-id-2 div.sk-parallel-item::after {content: \"\";width: 100%;border-bottom: 1px solid gray;flex-grow: 1;}#sk-container-id-2 div.sk-label:hover label.sk-toggleable__label {background-color: #d4ebff;}#sk-container-id-2 div.sk-serial::before {content: \"\";position: absolute;border-left: 1px solid gray;box-sizing: border-box;top: 0;bottom: 0;left: 50%;z-index: 0;}#sk-container-id-2 div.sk-serial {display: flex;flex-direction: column;align-items: center;background-color: white;padding-right: 0.2em;padding-left: 0.2em;position: relative;}#sk-container-id-2 div.sk-item {position: relative;z-index: 1;}#sk-container-id-2 div.sk-parallel {display: flex;align-items: stretch;justify-content: center;background-color: white;position: relative;}#sk-container-id-2 div.sk-item::before, #sk-container-id-2 div.sk-parallel-item::before {content: \"\";position: absolute;border-left: 1px solid gray;box-sizing: border-box;top: 0;bottom: 0;left: 50%;z-index: -1;}#sk-container-id-2 div.sk-parallel-item {display: flex;flex-direction: column;z-index: 1;position: relative;background-color: white;}#sk-container-id-2 div.sk-parallel-item:first-child::after {align-self: flex-end;width: 50%;}#sk-container-id-2 div.sk-parallel-item:last-child::after {align-self: flex-start;width: 50%;}#sk-container-id-2 div.sk-parallel-item:only-child::after {width: 0;}#sk-container-id-2 div.sk-dashed-wrapped {border: 1px dashed gray;margin: 0 0.4em 0.5em 0.4em;box-sizing: border-box;padding-bottom: 0.4em;background-color: white;}#sk-container-id-2 div.sk-label label {font-family: monospace;font-weight: bold;display: inline-block;line-height: 1.2em;}#sk-container-id-2 div.sk-label-container {text-align: center;}#sk-container-id-2 div.sk-container {/* jupyter's `normalize.less` sets `[hidden] { display: none; }` but bootstrap.min.css set `[hidden] { display: none !important; }` so we also need the `!important` here to be able to override the default hidden behavior on the sphinx rendered scikit-learn.org. See: https://github.com/scikit-learn/scikit-learn/issues/21755 */display: inline-block !important;position: relative;}#sk-container-id-2 div.sk-text-repr-fallback {display: none;}</style><div id=\"sk-container-id-2\" class=\"sk-top-container\"><div class=\"sk-text-repr-fallback\"><pre>LGBMRegressor(colsample_bytree=0.9339334278512058,\n",
       "              learning_rate=0.25158858664918043, max_depth=8,\n",
       "              min_child_weight=3.900381401962542, n_estimators=387,\n",
       "              num_leaves=10, subsample=0.9488136530060359)</pre><b>In a Jupyter environment, please rerun this cell to show the HTML representation or trust the notebook. <br />On GitHub, the HTML representation is unable to render, please try loading this page with nbviewer.org.</b></div><div class=\"sk-container\" hidden><div class=\"sk-item\"><div class=\"sk-estimator sk-toggleable\"><input class=\"sk-toggleable__control sk-hidden--visually\" id=\"sk-estimator-id-2\" type=\"checkbox\" checked><label for=\"sk-estimator-id-2\" class=\"sk-toggleable__label sk-toggleable__label-arrow\">LGBMRegressor</label><div class=\"sk-toggleable__content\"><pre>LGBMRegressor(colsample_bytree=0.9339334278512058,\n",
       "              learning_rate=0.25158858664918043, max_depth=8,\n",
       "              min_child_weight=3.900381401962542, n_estimators=387,\n",
       "              num_leaves=10, subsample=0.9488136530060359)</pre></div></div></div></div></div>"
      ],
      "text/plain": [
       "LGBMRegressor(colsample_bytree=0.9339334278512058,\n",
       "              learning_rate=0.25158858664918043, max_depth=8,\n",
       "              min_child_weight=3.900381401962542, n_estimators=387,\n",
       "              num_leaves=10, subsample=0.9488136530060359)"
      ]
     },
     "execution_count": 12,
     "metadata": {},
     "output_type": "execute_result"
    }
   ],
   "source": [
    "tune_lgbm_reg = LGBMRegressor(**lgbm_reg_max_params)\n",
    "tune_lgbm_reg.fit(train_s,train_y)"
   ]
  },
  {
   "cell_type": "code",
   "execution_count": 13,
   "id": "1f37fc5c",
   "metadata": {},
   "outputs": [
    {
     "name": "stderr",
     "output_type": "stream",
     "text": [
      "C:\\Users\\82107\\AppData\\Local\\Temp\\ipykernel_2984\\1637458044.py:2: DataConversionWarning: A column-vector y was passed when a 1d array was expected. Please change the shape of y to (n_samples,), for example using ravel().\n",
      "  tune_et_reg.fit(train_s,train_y)\n"
     ]
    },
    {
     "data": {
      "text/html": [
       "<style>#sk-container-id-3 {color: black;background-color: white;}#sk-container-id-3 pre{padding: 0;}#sk-container-id-3 div.sk-toggleable {background-color: white;}#sk-container-id-3 label.sk-toggleable__label {cursor: pointer;display: block;width: 100%;margin-bottom: 0;padding: 0.3em;box-sizing: border-box;text-align: center;}#sk-container-id-3 label.sk-toggleable__label-arrow:before {content: \"▸\";float: left;margin-right: 0.25em;color: #696969;}#sk-container-id-3 label.sk-toggleable__label-arrow:hover:before {color: black;}#sk-container-id-3 div.sk-estimator:hover label.sk-toggleable__label-arrow:before {color: black;}#sk-container-id-3 div.sk-toggleable__content {max-height: 0;max-width: 0;overflow: hidden;text-align: left;background-color: #f0f8ff;}#sk-container-id-3 div.sk-toggleable__content pre {margin: 0.2em;color: black;border-radius: 0.25em;background-color: #f0f8ff;}#sk-container-id-3 input.sk-toggleable__control:checked~div.sk-toggleable__content {max-height: 200px;max-width: 100%;overflow: auto;}#sk-container-id-3 input.sk-toggleable__control:checked~label.sk-toggleable__label-arrow:before {content: \"▾\";}#sk-container-id-3 div.sk-estimator input.sk-toggleable__control:checked~label.sk-toggleable__label {background-color: #d4ebff;}#sk-container-id-3 div.sk-label input.sk-toggleable__control:checked~label.sk-toggleable__label {background-color: #d4ebff;}#sk-container-id-3 input.sk-hidden--visually {border: 0;clip: rect(1px 1px 1px 1px);clip: rect(1px, 1px, 1px, 1px);height: 1px;margin: -1px;overflow: hidden;padding: 0;position: absolute;width: 1px;}#sk-container-id-3 div.sk-estimator {font-family: monospace;background-color: #f0f8ff;border: 1px dotted black;border-radius: 0.25em;box-sizing: border-box;margin-bottom: 0.5em;}#sk-container-id-3 div.sk-estimator:hover {background-color: #d4ebff;}#sk-container-id-3 div.sk-parallel-item::after {content: \"\";width: 100%;border-bottom: 1px solid gray;flex-grow: 1;}#sk-container-id-3 div.sk-label:hover label.sk-toggleable__label {background-color: #d4ebff;}#sk-container-id-3 div.sk-serial::before {content: \"\";position: absolute;border-left: 1px solid gray;box-sizing: border-box;top: 0;bottom: 0;left: 50%;z-index: 0;}#sk-container-id-3 div.sk-serial {display: flex;flex-direction: column;align-items: center;background-color: white;padding-right: 0.2em;padding-left: 0.2em;position: relative;}#sk-container-id-3 div.sk-item {position: relative;z-index: 1;}#sk-container-id-3 div.sk-parallel {display: flex;align-items: stretch;justify-content: center;background-color: white;position: relative;}#sk-container-id-3 div.sk-item::before, #sk-container-id-3 div.sk-parallel-item::before {content: \"\";position: absolute;border-left: 1px solid gray;box-sizing: border-box;top: 0;bottom: 0;left: 50%;z-index: -1;}#sk-container-id-3 div.sk-parallel-item {display: flex;flex-direction: column;z-index: 1;position: relative;background-color: white;}#sk-container-id-3 div.sk-parallel-item:first-child::after {align-self: flex-end;width: 50%;}#sk-container-id-3 div.sk-parallel-item:last-child::after {align-self: flex-start;width: 50%;}#sk-container-id-3 div.sk-parallel-item:only-child::after {width: 0;}#sk-container-id-3 div.sk-dashed-wrapped {border: 1px dashed gray;margin: 0 0.4em 0.5em 0.4em;box-sizing: border-box;padding-bottom: 0.4em;background-color: white;}#sk-container-id-3 div.sk-label label {font-family: monospace;font-weight: bold;display: inline-block;line-height: 1.2em;}#sk-container-id-3 div.sk-label-container {text-align: center;}#sk-container-id-3 div.sk-container {/* jupyter's `normalize.less` sets `[hidden] { display: none; }` but bootstrap.min.css set `[hidden] { display: none !important; }` so we also need the `!important` here to be able to override the default hidden behavior on the sphinx rendered scikit-learn.org. See: https://github.com/scikit-learn/scikit-learn/issues/21755 */display: inline-block !important;position: relative;}#sk-container-id-3 div.sk-text-repr-fallback {display: none;}</style><div id=\"sk-container-id-3\" class=\"sk-top-container\"><div class=\"sk-text-repr-fallback\"><pre>ExtraTreesRegressor(max_depth=10, min_samples_leaf=2, min_samples_split=15,\n",
       "                    n_estimators=128)</pre><b>In a Jupyter environment, please rerun this cell to show the HTML representation or trust the notebook. <br />On GitHub, the HTML representation is unable to render, please try loading this page with nbviewer.org.</b></div><div class=\"sk-container\" hidden><div class=\"sk-item\"><div class=\"sk-estimator sk-toggleable\"><input class=\"sk-toggleable__control sk-hidden--visually\" id=\"sk-estimator-id-3\" type=\"checkbox\" checked><label for=\"sk-estimator-id-3\" class=\"sk-toggleable__label sk-toggleable__label-arrow\">ExtraTreesRegressor</label><div class=\"sk-toggleable__content\"><pre>ExtraTreesRegressor(max_depth=10, min_samples_leaf=2, min_samples_split=15,\n",
       "                    n_estimators=128)</pre></div></div></div></div></div>"
      ],
      "text/plain": [
       "ExtraTreesRegressor(max_depth=10, min_samples_leaf=2, min_samples_split=15,\n",
       "                    n_estimators=128)"
      ]
     },
     "execution_count": 13,
     "metadata": {},
     "output_type": "execute_result"
    }
   ],
   "source": [
    "tune_et_reg = ExtraTreesRegressor(**et_reg_max_params)\n",
    "tune_et_reg.fit(train_s,train_y)"
   ]
  },
  {
   "cell_type": "code",
   "execution_count": 14,
   "id": "7a8f5047",
   "metadata": {},
   "outputs": [],
   "source": [
    "# Predict target by test_x\n",
    "#tune_cb_reg_pred = tune_cb_reg.predict(test_x)\n",
    "tune_xgb_reg_pred = tune_xgb_reg.predict(test_x)\n",
    "tune_lgbm_reg_pred = tune_lgbm_reg.predict(test_x)\n",
    "tune_et_reg_pred = tune_et_reg.predict(test_x)"
   ]
  },
  {
   "cell_type": "code",
   "execution_count": 15,
   "id": "ef63cce0",
   "metadata": {},
   "outputs": [
    {
     "data": {
      "image/png": "[encoded data removed]",
      "text/plain": [
       "<Figure size 1440x720 with 4 Axes>"
      ]
     },
     "metadata": {
      "needs_background": "light"
     },
     "output_type": "display_data"
    }
   ],
   "source": [
    "# Visualize target predict\n",
    "#cb_pred = pd.DataFrame({'predict':tune_cb_reg_pred})\n",
    "xgb_pred = pd.DataFrame({'predict':tune_xgb_reg_pred})\n",
    "lgbm_pred = pd.DataFrame({'predict':tune_lgbm_reg_pred})\n",
    "et_pred = pd.DataFrame({'predict':tune_et_reg_pred})\n",
    "\n",
    "plt.figure(figsize=(20,10))\n",
    "\n",
    "plt.subplot(2,2,1)\n",
    "sns.kdeplot(xgb_pred.predict)\n",
    "plt.title('Caboost Predict KDE')\n",
    "\n",
    "plt.subplot(2,2,2)\n",
    "sns.kdeplot(xgb_pred.predict)\n",
    "plt.title('XGB Predict KDE')\n",
    "\n",
    "plt.subplot(2,2,3)\n",
    "sns.kdeplot(lgbm_pred.predict)\n",
    "plt.title('LGBM Predict KDE')\n",
    "\n",
    "plt.subplot(2,2,4)\n",
    "sns.kdeplot(et_pred.predict)\n",
    "plt.title('ExtraTrees Predict KDE')\n",
    "plt.show()"
   ]
  },
  {
   "cell_type": "code",
   "execution_count": 21,
   "id": "41548ff7",
   "metadata": {},
   "outputs": [
    {
     "name": "stdout",
     "output_type": "stream",
     "text": [
      "count    6041.000000\n",
      "mean        0.097015\n",
      "std         0.116023\n",
      "min        -0.245600\n",
      "25%         0.018698\n",
      "50%         0.073286\n",
      "75%         0.148087\n",
      "max         1.047576\n",
      "Name: predict, dtype: float64 count    6041.000000\n",
      "mean        0.104605\n",
      "std         0.110584\n",
      "min        -0.239418\n",
      "25%         0.031078\n",
      "50%         0.087654\n",
      "75%         0.162173\n",
      "max         1.015673\n",
      "Name: predict, dtype: float64 count    6041.000000\n",
      "mean        0.318913\n",
      "std         0.047713\n",
      "min         0.205749\n",
      "25%         0.275083\n",
      "50%         0.325176\n",
      "75%         0.356507\n",
      "max         0.486895\n",
      "Name: predict, dtype: float64\n"
     ]
    }
   ],
   "source": [
    "# target predict's describe\n",
    "print(xgb_pred.predict.describe(), lgbm_pred.predict.describe(),et_pred.predict.describe())"
   ]
  },
  {
   "cell_type": "code",
   "execution_count": 16,
   "id": "5182d962",
   "metadata": {},
   "outputs": [
    {
     "name": "stdout",
     "output_type": "stream",
     "text": [
      "4278    0.264259\n",
      "5836    0.264183\n",
      "324     0.264116\n",
      "5356    0.264091\n",
      "160     0.263632\n",
      "1504    0.263612\n",
      "4387    0.263555\n",
      "1654    0.263235\n",
      "2333    0.263100\n",
      "1349    0.263061\n",
      "6032    0.263054\n",
      "Name: predict, dtype: float32\n",
      "3535    0.263654\n",
      "1623    0.263569\n",
      "5821    0.262745\n",
      "5797    0.262423\n",
      "3079    0.262409\n",
      "4887    0.262392\n",
      "4828    0.262263\n",
      "838     0.262204\n",
      "2387    0.261810\n",
      "5093    0.261549\n",
      "3146    0.261455\n",
      "Name: predict, dtype: float64\n",
      "2746    0.378273\n",
      "775     0.378259\n",
      "1109    0.378211\n",
      "1789    0.378093\n",
      "1788    0.378084\n",
      "2359    0.378057\n",
      "3212    0.378023\n",
      "3529    0.377935\n",
      "1759    0.377870\n",
      "2601    0.377808\n",
      "4272    0.377792\n",
      "Name: predict, dtype: float64\n"
     ]
    }
   ],
   "source": [
    "# target predict 8.5% raw print by Model\n",
    "#print(cb_pred.predict.sort_values(ascending = False).iloc[510:521])\n",
    "print(xgb_pred.predict.sort_values(ascending = False).iloc[510:521])\n",
    "print(lgbm_pred.predict.sort_values(ascending = False).iloc[510:521])\n",
    "print(et_pred.predict.sort_values(ascending = False).iloc[510:521])"
   ]
  },
  {
   "cell_type": "code",
   "execution_count": 19,
   "id": "145901c5",
   "metadata": {},
   "outputs": [],
   "source": [
    "# Transform predict by Threshold\n",
    "#cb_trans_reg_pred = np.array([0 if i < * else 1 for i in tune_cb_reg_pred])\n",
    "xgb_trans_reg_pred = np.array([0 if i < 0.264 else 1 for i in tune_xgb_reg_pred])\n",
    "lgbm_trans_reg_pred = np.array([0 if i < 0.262 else 1 for i in tune_lgbm_reg_pred])\n",
    "et_trans_reg_pred = np.array([0 if i < 0.378 else 1 for i in tune_et_reg_pred])"
   ]
  },
  {
   "cell_type": "code",
   "execution_count": 17,
   "id": "b4bf19e9",
   "metadata": {},
   "outputs": [
    {
     "data": {
      "text/plain": [
       "['model_save/tuning/task1_et_clf_task2_rt_reg.pkl']"
      ]
     },
     "execution_count": 17,
     "metadata": {},
     "output_type": "execute_result"
    }
   ],
   "source": [
    "# Saving Model\n",
    "#joblib.dump(tune_cb_reg, 'model_save/tuning/task1_xxx_clf_task2_cb_reg.pkl')\n",
    "joblib.dump(tune_xgb_reg, 'model_save/tuning/task1_et_clf_task2_xgb_reg.pkl')\n",
    "joblib.dump(tune_lgbm_reg, 'model_save/tuning/task1_et_clf_task2_lgbm_reg.pkl')\n",
    "joblib.dump(tune_et_reg, 'model_save/tuning/task1_et_clf_task2_rt_reg.pkl')"
   ]
  },
  {
   "cell_type": "code",
   "execution_count": 20,
   "id": "350a9936",
   "metadata": {},
   "outputs": [],
   "source": [
    "#pd.DataFrame({'ID': test_id, 'Y_LABEL': cb_trans_reg_pred}).to_csv('predict/modeling/xx_clf_cb_reg_\\\\\\.csv', index=False)\n",
    "pd.DataFrame({'ID': test_id, 'Y_LABEL': xgb_trans_reg_pred}).to_csv('predict/modeling/et_clf_xgb_reg_264.csv', index=False)\n",
    "pd.DataFrame({'ID': test_id, 'Y_LABEL': lgbm_trans_reg_pred}).to_csv('predict/modeling/et_clf_lgbm_reg_262.csv', index=False)\n",
    "pd.DataFrame({'ID': test_id, 'Y_LABEL': et_trans_reg_pred}).to_csv('predict/modeling/et_clf_et_reg_378.csv', index=False)"
   ]
  }
 ],
 "metadata": {
  "kernelspec": {
   "display_name": "Python 3 (ipykernel)",
   "language": "python",
   "name": "python3"
  },
  "language_info": {
   "codemirror_mode": {
    "name": "ipython",
    "version": 3
   },
   "file_extension": ".py",
   "mimetype": "text/x-python",
   "name": "python",
   "nbconvert_exporter": "python",
   "pygments_lexer": "ipython3",
   "version": "3.9.12"
  }
 },
 "nbformat": 4,
 "nbformat_minor": 5
}

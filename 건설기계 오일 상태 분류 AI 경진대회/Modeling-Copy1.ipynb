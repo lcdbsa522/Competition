{
 "cells": [
  {
   "cell_type": "code",
   "execution_count": 1,
   "id": "c2ed1adc",
   "metadata": {
    "collapsed": true
   },
   "outputs": [
    {
     "ename": "ModuleNotFoundError",
     "evalue": "No module named 'sklearn.exceptions'",
     "output_type": "error",
     "traceback": [
      "\u001b[1;31m---------------------------------------------------------------------------\u001b[0m",
      "\u001b[1;31mModuleNotFoundError\u001b[0m                       Traceback (most recent call last)",
      "Input \u001b[1;32mIn [1]\u001b[0m, in \u001b[0;36m<cell line: 9>\u001b[1;34m()\u001b[0m\n\u001b[0;32m      6\u001b[0m get_ipython()\u001b[38;5;241m.\u001b[39mrun_line_magic(\u001b[38;5;124m'\u001b[39m\u001b[38;5;124mmatplotlib\u001b[39m\u001b[38;5;124m'\u001b[39m, \u001b[38;5;124m'\u001b[39m\u001b[38;5;124minline\u001b[39m\u001b[38;5;124m'\u001b[39m)\n\u001b[0;32m      8\u001b[0m \u001b[38;5;66;03m# Preprocessing\u001b[39;00m\n\u001b[1;32m----> 9\u001b[0m \u001b[38;5;28;01mfrom\u001b[39;00m \u001b[38;5;21;01msklearn\u001b[39;00m\u001b[38;5;21;01m.\u001b[39;00m\u001b[38;5;21;01mmodel_selection\u001b[39;00m \u001b[38;5;28;01mimport\u001b[39;00m train_test_split\n\u001b[0;32m     10\u001b[0m \u001b[38;5;28;01mfrom\u001b[39;00m \u001b[38;5;21;01msklearn\u001b[39;00m\u001b[38;5;21;01m.\u001b[39;00m\u001b[38;5;21;01mmodel_selection\u001b[39;00m \u001b[38;5;28;01mimport\u001b[39;00m StratifiedKFold, KFold\n\u001b[0;32m     11\u001b[0m \u001b[38;5;28;01mfrom\u001b[39;00m \u001b[38;5;21;01msklearn\u001b[39;00m\u001b[38;5;21;01m.\u001b[39;00m\u001b[38;5;21;01mmodel_selection\u001b[39;00m \u001b[38;5;28;01mimport\u001b[39;00m cross_val_score\n",
      "File \u001b[1;32mE:\\Anaconda\\lib\\site-packages\\sklearn\\model_selection\\__init__.py:3\u001b[0m, in \u001b[0;36m<module>\u001b[1;34m\u001b[0m\n\u001b[0;32m      1\u001b[0m \u001b[38;5;28;01mimport\u001b[39;00m \u001b[38;5;21;01mtyping\u001b[39;00m\n\u001b[1;32m----> 3\u001b[0m \u001b[38;5;28;01mfrom\u001b[39;00m \u001b[38;5;21;01m.\u001b[39;00m\u001b[38;5;21;01m_split\u001b[39;00m \u001b[38;5;28;01mimport\u001b[39;00m BaseCrossValidator\n\u001b[0;32m      4\u001b[0m \u001b[38;5;28;01mfrom\u001b[39;00m \u001b[38;5;21;01m.\u001b[39;00m\u001b[38;5;21;01m_split\u001b[39;00m \u001b[38;5;28;01mimport\u001b[39;00m BaseShuffleSplit\n\u001b[0;32m      5\u001b[0m \u001b[38;5;28;01mfrom\u001b[39;00m \u001b[38;5;21;01m.\u001b[39;00m\u001b[38;5;21;01m_split\u001b[39;00m \u001b[38;5;28;01mimport\u001b[39;00m KFold\n",
      "File \u001b[1;32mE:\\Anaconda\\lib\\site-packages\\sklearn\\model_selection\\_split.py:26\u001b[0m, in \u001b[0;36m<module>\u001b[1;34m\u001b[0m\n\u001b[0;32m     23\u001b[0m \u001b[38;5;28;01mimport\u001b[39;00m \u001b[38;5;21;01mnumpy\u001b[39;00m \u001b[38;5;28;01mas\u001b[39;00m \u001b[38;5;21;01mnp\u001b[39;00m\n\u001b[0;32m     24\u001b[0m \u001b[38;5;28;01mfrom\u001b[39;00m \u001b[38;5;21;01mscipy\u001b[39;00m\u001b[38;5;21;01m.\u001b[39;00m\u001b[38;5;21;01mspecial\u001b[39;00m \u001b[38;5;28;01mimport\u001b[39;00m comb\n\u001b[1;32m---> 26\u001b[0m \u001b[38;5;28;01mfrom\u001b[39;00m \u001b[38;5;21;01m.\u001b[39;00m\u001b[38;5;21;01m.\u001b[39;00m\u001b[38;5;21;01mutils\u001b[39;00m \u001b[38;5;28;01mimport\u001b[39;00m indexable, check_random_state, _safe_indexing\n\u001b[0;32m     27\u001b[0m \u001b[38;5;28;01mfrom\u001b[39;00m \u001b[38;5;21;01m.\u001b[39;00m\u001b[38;5;21;01m.\u001b[39;00m\u001b[38;5;21;01mutils\u001b[39;00m \u001b[38;5;28;01mimport\u001b[39;00m _approximate_mode\n\u001b[0;32m     28\u001b[0m \u001b[38;5;28;01mfrom\u001b[39;00m \u001b[38;5;21;01m.\u001b[39;00m\u001b[38;5;21;01m.\u001b[39;00m\u001b[38;5;21;01mutils\u001b[39;00m\u001b[38;5;21;01m.\u001b[39;00m\u001b[38;5;21;01mvalidation\u001b[39;00m \u001b[38;5;28;01mimport\u001b[39;00m _num_samples, column_or_1d\n",
      "File \u001b[1;32mE:\\Anaconda\\lib\\site-packages\\sklearn\\utils\\__init__.py:22\u001b[0m, in \u001b[0;36m<module>\u001b[1;34m\u001b[0m\n\u001b[0;32m     20\u001b[0m \u001b[38;5;28;01mfrom\u001b[39;00m \u001b[38;5;21;01m.\u001b[39;00m\u001b[38;5;21;01mclass_weight\u001b[39;00m \u001b[38;5;28;01mimport\u001b[39;00m compute_class_weight, compute_sample_weight\n\u001b[0;32m     21\u001b[0m \u001b[38;5;28;01mfrom\u001b[39;00m \u001b[38;5;21;01m.\u001b[39;00m \u001b[38;5;28;01mimport\u001b[39;00m _joblib\n\u001b[1;32m---> 22\u001b[0m \u001b[38;5;28;01mfrom\u001b[39;00m \u001b[38;5;21;01m.\u001b[39;00m\u001b[38;5;21;01m.\u001b[39;00m\u001b[38;5;21;01mexceptions\u001b[39;00m \u001b[38;5;28;01mimport\u001b[39;00m DataConversionWarning\n\u001b[0;32m     23\u001b[0m \u001b[38;5;28;01mfrom\u001b[39;00m \u001b[38;5;21;01m.\u001b[39;00m\u001b[38;5;21;01mdeprecation\u001b[39;00m \u001b[38;5;28;01mimport\u001b[39;00m deprecated\n\u001b[0;32m     24\u001b[0m \u001b[38;5;28;01mfrom\u001b[39;00m \u001b[38;5;21;01m.\u001b[39;00m\u001b[38;5;21;01mdiscovery\u001b[39;00m \u001b[38;5;28;01mimport\u001b[39;00m all_estimators\n",
      "\u001b[1;31mModuleNotFoundError\u001b[0m: No module named 'sklearn.exceptions'"
     ]
    }
   ],
   "source": [
    "# Base & Visualization\n",
    "import pandas as pd\n",
    "import numpy as np\n",
    "import matplotlib.pyplot as plt\n",
    "import seaborn as sns\n",
    "%matplotlib inline\n",
    "\n",
    "# Preprocessing\n",
    "from sklearn.model_selection import train_test_split\n",
    "from sklearn.model_selection import StratifiedKFold, KFold\n",
    "from sklearn.model_selection import cross_val_score\n",
    "\n",
    "# Oversampling\n",
    "from imblearn.combine import  SMOTETomek\n",
    "\n",
    "# Modeling\n",
    "from catboost import CatBoostClassifier, CatBoostRegressor\n",
    "from xgboost import XGBClassifier, XGBRegressor\n",
    "from lightgbm import LGBMClassifier, LGBMRegressor\n",
    "from sklearn.ensemble import ExtraTreesClassifier, ExtraTreesRegressor\n",
    "from sklearn.linear_model import LogisticRegression\n",
    "\n",
    "# Scoring\n",
    "from sklearn.metrics import f1_score\n",
    "from sklearn.metrics import mean_squared_error\n",
    "from sklearn.metrics import classification_report\n",
    "\n",
    "# BayesianOptimizer\n",
    "from bayes_opt import BayesianOptimization\n",
    "\n",
    "# Saving Model\n",
    "import joblib"
   ]
  },
  {
   "cell_type": "markdown",
   "id": "e4373635",
   "metadata": {},
   "source": [
    "# Data Generate"
   ]
  },
  {
   "cell_type": "code",
   "execution_count": 2,
   "id": "3bb1145c",
   "metadata": {},
   "outputs": [],
   "source": [
    "# Data Load\n",
    "train = pd.read_csv('data/part/one-hot_encoding/iterative/part_one_iter_train.csv')\n",
    "label = pd.read_csv('data/raw_label.csv')\n",
    "test = pd.read_csv('data/one_hot_test.csv')\n",
    "test_id = pd.read_csv('data/sample_submission.csv')['ID']\n",
    "\n",
    "train_x = np.array(train)\n",
    "train_y = np.array(label)\n",
    "test_x = np.array(test)"
   ]
  },
  {
   "cell_type": "code",
   "execution_count": 3,
   "id": "a334aa4c",
   "metadata": {},
   "outputs": [
    {
     "data": {
      "text/html": [
       "<div>\n",
       "<style scoped>\n",
       "    .dataframe tbody tr th:only-of-type {\n",
       "        vertical-align: middle;\n",
       "    }\n",
       "\n",
       "    .dataframe tbody tr th {\n",
       "        vertical-align: top;\n",
       "    }\n",
       "\n",
       "    .dataframe thead th {\n",
       "        text-align: right;\n",
       "    }\n",
       "</style>\n",
       "<table border=\"1\" class=\"dataframe\">\n",
       "  <thead>\n",
       "    <tr style=\"text-align: right;\">\n",
       "      <th></th>\n",
       "      <th>ANONYMOUS_1</th>\n",
       "      <th>SAMPLE_TRANSFER_DAY</th>\n",
       "      <th>ANONYMOUS_2</th>\n",
       "      <th>AG</th>\n",
       "      <th>AL</th>\n",
       "      <th>B</th>\n",
       "      <th>BA</th>\n",
       "      <th>BE</th>\n",
       "      <th>CA</th>\n",
       "      <th>CD</th>\n",
       "      <th>...</th>\n",
       "      <th>2013</th>\n",
       "      <th>2014</th>\n",
       "      <th>2015</th>\n",
       "      <th>2016</th>\n",
       "      <th>2017</th>\n",
       "      <th>2018</th>\n",
       "      <th>2019</th>\n",
       "      <th>2020</th>\n",
       "      <th>2021</th>\n",
       "      <th>2022</th>\n",
       "    </tr>\n",
       "  </thead>\n",
       "  <tbody>\n",
       "    <tr>\n",
       "      <th>0</th>\n",
       "      <td>1486.0</td>\n",
       "      <td>7.0</td>\n",
       "      <td>200.0</td>\n",
       "      <td>0.0</td>\n",
       "      <td>3.0</td>\n",
       "      <td>93.0</td>\n",
       "      <td>0.0</td>\n",
       "      <td>0.0</td>\n",
       "      <td>3059.0</td>\n",
       "      <td>0.000000</td>\n",
       "      <td>...</td>\n",
       "      <td>0.0</td>\n",
       "      <td>0.0</td>\n",
       "      <td>0.0</td>\n",
       "      <td>0.0</td>\n",
       "      <td>0.0</td>\n",
       "      <td>0.0</td>\n",
       "      <td>0.0</td>\n",
       "      <td>0.0</td>\n",
       "      <td>0.0</td>\n",
       "      <td>0.0</td>\n",
       "    </tr>\n",
       "    <tr>\n",
       "      <th>1</th>\n",
       "      <td>1350.0</td>\n",
       "      <td>51.0</td>\n",
       "      <td>375.0</td>\n",
       "      <td>0.0</td>\n",
       "      <td>2.0</td>\n",
       "      <td>19.0</td>\n",
       "      <td>0.0</td>\n",
       "      <td>0.0</td>\n",
       "      <td>2978.0</td>\n",
       "      <td>0.000000</td>\n",
       "      <td>...</td>\n",
       "      <td>0.0</td>\n",
       "      <td>0.0</td>\n",
       "      <td>0.0</td>\n",
       "      <td>0.0</td>\n",
       "      <td>0.0</td>\n",
       "      <td>0.0</td>\n",
       "      <td>0.0</td>\n",
       "      <td>0.0</td>\n",
       "      <td>1.0</td>\n",
       "      <td>0.0</td>\n",
       "    </tr>\n",
       "    <tr>\n",
       "      <th>2</th>\n",
       "      <td>2415.0</td>\n",
       "      <td>2.0</td>\n",
       "      <td>200.0</td>\n",
       "      <td>0.0</td>\n",
       "      <td>110.0</td>\n",
       "      <td>1.0</td>\n",
       "      <td>1.0</td>\n",
       "      <td>0.0</td>\n",
       "      <td>17.0</td>\n",
       "      <td>0.000000</td>\n",
       "      <td>...</td>\n",
       "      <td>0.0</td>\n",
       "      <td>0.0</td>\n",
       "      <td>1.0</td>\n",
       "      <td>0.0</td>\n",
       "      <td>0.0</td>\n",
       "      <td>0.0</td>\n",
       "      <td>0.0</td>\n",
       "      <td>0.0</td>\n",
       "      <td>0.0</td>\n",
       "      <td>0.0</td>\n",
       "    </tr>\n",
       "    <tr>\n",
       "      <th>3</th>\n",
       "      <td>7389.0</td>\n",
       "      <td>2.0</td>\n",
       "      <td>200.0</td>\n",
       "      <td>0.0</td>\n",
       "      <td>8.0</td>\n",
       "      <td>3.0</td>\n",
       "      <td>0.0</td>\n",
       "      <td>0.0</td>\n",
       "      <td>1960.0</td>\n",
       "      <td>0.000000</td>\n",
       "      <td>...</td>\n",
       "      <td>0.0</td>\n",
       "      <td>0.0</td>\n",
       "      <td>0.0</td>\n",
       "      <td>0.0</td>\n",
       "      <td>0.0</td>\n",
       "      <td>0.0</td>\n",
       "      <td>0.0</td>\n",
       "      <td>0.0</td>\n",
       "      <td>0.0</td>\n",
       "      <td>0.0</td>\n",
       "    </tr>\n",
       "    <tr>\n",
       "      <th>4</th>\n",
       "      <td>3954.0</td>\n",
       "      <td>4.0</td>\n",
       "      <td>200.0</td>\n",
       "      <td>0.0</td>\n",
       "      <td>1.0</td>\n",
       "      <td>157.0</td>\n",
       "      <td>0.0</td>\n",
       "      <td>0.0</td>\n",
       "      <td>71.0</td>\n",
       "      <td>0.000000</td>\n",
       "      <td>...</td>\n",
       "      <td>0.0</td>\n",
       "      <td>0.0</td>\n",
       "      <td>1.0</td>\n",
       "      <td>0.0</td>\n",
       "      <td>0.0</td>\n",
       "      <td>0.0</td>\n",
       "      <td>0.0</td>\n",
       "      <td>0.0</td>\n",
       "      <td>0.0</td>\n",
       "      <td>0.0</td>\n",
       "    </tr>\n",
       "    <tr>\n",
       "      <th>...</th>\n",
       "      <td>...</td>\n",
       "      <td>...</td>\n",
       "      <td>...</td>\n",
       "      <td>...</td>\n",
       "      <td>...</td>\n",
       "      <td>...</td>\n",
       "      <td>...</td>\n",
       "      <td>...</td>\n",
       "      <td>...</td>\n",
       "      <td>...</td>\n",
       "      <td>...</td>\n",
       "      <td>...</td>\n",
       "      <td>...</td>\n",
       "      <td>...</td>\n",
       "      <td>...</td>\n",
       "      <td>...</td>\n",
       "      <td>...</td>\n",
       "      <td>...</td>\n",
       "      <td>...</td>\n",
       "      <td>...</td>\n",
       "      <td>...</td>\n",
       "    </tr>\n",
       "    <tr>\n",
       "      <th>14090</th>\n",
       "      <td>1616.0</td>\n",
       "      <td>8.0</td>\n",
       "      <td>200.0</td>\n",
       "      <td>0.0</td>\n",
       "      <td>2.0</td>\n",
       "      <td>201.0</td>\n",
       "      <td>1.0</td>\n",
       "      <td>0.0</td>\n",
       "      <td>6.0</td>\n",
       "      <td>0.000000</td>\n",
       "      <td>...</td>\n",
       "      <td>0.0</td>\n",
       "      <td>1.0</td>\n",
       "      <td>0.0</td>\n",
       "      <td>0.0</td>\n",
       "      <td>0.0</td>\n",
       "      <td>0.0</td>\n",
       "      <td>0.0</td>\n",
       "      <td>0.0</td>\n",
       "      <td>0.0</td>\n",
       "      <td>0.0</td>\n",
       "    </tr>\n",
       "    <tr>\n",
       "      <th>14091</th>\n",
       "      <td>2784.0</td>\n",
       "      <td>2.0</td>\n",
       "      <td>200.0</td>\n",
       "      <td>0.0</td>\n",
       "      <td>3.0</td>\n",
       "      <td>85.0</td>\n",
       "      <td>0.0</td>\n",
       "      <td>0.0</td>\n",
       "      <td>2945.0</td>\n",
       "      <td>0.000000</td>\n",
       "      <td>...</td>\n",
       "      <td>1.0</td>\n",
       "      <td>0.0</td>\n",
       "      <td>0.0</td>\n",
       "      <td>0.0</td>\n",
       "      <td>0.0</td>\n",
       "      <td>0.0</td>\n",
       "      <td>0.0</td>\n",
       "      <td>0.0</td>\n",
       "      <td>0.0</td>\n",
       "      <td>0.0</td>\n",
       "    </tr>\n",
       "    <tr>\n",
       "      <th>14092</th>\n",
       "      <td>1788.0</td>\n",
       "      <td>9.0</td>\n",
       "      <td>550.0</td>\n",
       "      <td>0.0</td>\n",
       "      <td>6.0</td>\n",
       "      <td>0.0</td>\n",
       "      <td>1.0</td>\n",
       "      <td>0.0</td>\n",
       "      <td>13.0</td>\n",
       "      <td>0.000000</td>\n",
       "      <td>...</td>\n",
       "      <td>0.0</td>\n",
       "      <td>0.0</td>\n",
       "      <td>0.0</td>\n",
       "      <td>0.0</td>\n",
       "      <td>0.0</td>\n",
       "      <td>0.0</td>\n",
       "      <td>0.0</td>\n",
       "      <td>0.0</td>\n",
       "      <td>0.0</td>\n",
       "      <td>0.0</td>\n",
       "    </tr>\n",
       "    <tr>\n",
       "      <th>14093</th>\n",
       "      <td>2498.0</td>\n",
       "      <td>19.0</td>\n",
       "      <td>550.0</td>\n",
       "      <td>0.0</td>\n",
       "      <td>2.0</td>\n",
       "      <td>4.0</td>\n",
       "      <td>0.0</td>\n",
       "      <td>0.0</td>\n",
       "      <td>2244.0</td>\n",
       "      <td>0.009094</td>\n",
       "      <td>...</td>\n",
       "      <td>0.0</td>\n",
       "      <td>0.0</td>\n",
       "      <td>0.0</td>\n",
       "      <td>0.0</td>\n",
       "      <td>0.0</td>\n",
       "      <td>0.0</td>\n",
       "      <td>0.0</td>\n",
       "      <td>0.0</td>\n",
       "      <td>0.0</td>\n",
       "      <td>0.0</td>\n",
       "    </tr>\n",
       "    <tr>\n",
       "      <th>14094</th>\n",
       "      <td>1902.0</td>\n",
       "      <td>15.0</td>\n",
       "      <td>200.0</td>\n",
       "      <td>0.0</td>\n",
       "      <td>0.0</td>\n",
       "      <td>77.0</td>\n",
       "      <td>0.0</td>\n",
       "      <td>0.0</td>\n",
       "      <td>494.0</td>\n",
       "      <td>0.000000</td>\n",
       "      <td>...</td>\n",
       "      <td>0.0</td>\n",
       "      <td>0.0</td>\n",
       "      <td>0.0</td>\n",
       "      <td>0.0</td>\n",
       "      <td>0.0</td>\n",
       "      <td>0.0</td>\n",
       "      <td>0.0</td>\n",
       "      <td>0.0</td>\n",
       "      <td>0.0</td>\n",
       "      <td>0.0</td>\n",
       "    </tr>\n",
       "  </tbody>\n",
       "</table>\n",
       "<p>14095 rows × 53 columns</p>\n",
       "</div>"
      ],
      "text/plain": [
       "       ANONYMOUS_1  SAMPLE_TRANSFER_DAY  ANONYMOUS_2   AG     AL      B   BA  \\\n",
       "0           1486.0                  7.0        200.0  0.0    3.0   93.0  0.0   \n",
       "1           1350.0                 51.0        375.0  0.0    2.0   19.0  0.0   \n",
       "2           2415.0                  2.0        200.0  0.0  110.0    1.0  1.0   \n",
       "3           7389.0                  2.0        200.0  0.0    8.0    3.0  0.0   \n",
       "4           3954.0                  4.0        200.0  0.0    1.0  157.0  0.0   \n",
       "...            ...                  ...          ...  ...    ...    ...  ...   \n",
       "14090       1616.0                  8.0        200.0  0.0    2.0  201.0  1.0   \n",
       "14091       2784.0                  2.0        200.0  0.0    3.0   85.0  0.0   \n",
       "14092       1788.0                  9.0        550.0  0.0    6.0    0.0  1.0   \n",
       "14093       2498.0                 19.0        550.0  0.0    2.0    4.0  0.0   \n",
       "14094       1902.0                 15.0        200.0  0.0    0.0   77.0  0.0   \n",
       "\n",
       "        BE      CA        CD  ...  2013  2014  2015  2016  2017  2018  2019  \\\n",
       "0      0.0  3059.0  0.000000  ...   0.0   0.0   0.0   0.0   0.0   0.0   0.0   \n",
       "1      0.0  2978.0  0.000000  ...   0.0   0.0   0.0   0.0   0.0   0.0   0.0   \n",
       "2      0.0    17.0  0.000000  ...   0.0   0.0   1.0   0.0   0.0   0.0   0.0   \n",
       "3      0.0  1960.0  0.000000  ...   0.0   0.0   0.0   0.0   0.0   0.0   0.0   \n",
       "4      0.0    71.0  0.000000  ...   0.0   0.0   1.0   0.0   0.0   0.0   0.0   \n",
       "...    ...     ...       ...  ...   ...   ...   ...   ...   ...   ...   ...   \n",
       "14090  0.0     6.0  0.000000  ...   0.0   1.0   0.0   0.0   0.0   0.0   0.0   \n",
       "14091  0.0  2945.0  0.000000  ...   1.0   0.0   0.0   0.0   0.0   0.0   0.0   \n",
       "14092  0.0    13.0  0.000000  ...   0.0   0.0   0.0   0.0   0.0   0.0   0.0   \n",
       "14093  0.0  2244.0  0.009094  ...   0.0   0.0   0.0   0.0   0.0   0.0   0.0   \n",
       "14094  0.0   494.0  0.000000  ...   0.0   0.0   0.0   0.0   0.0   0.0   0.0   \n",
       "\n",
       "       2020  2021  2022  \n",
       "0       0.0   0.0   0.0  \n",
       "1       0.0   1.0   0.0  \n",
       "2       0.0   0.0   0.0  \n",
       "3       0.0   0.0   0.0  \n",
       "4       0.0   0.0   0.0  \n",
       "...     ...   ...   ...  \n",
       "14090   0.0   0.0   0.0  \n",
       "14091   0.0   0.0   0.0  \n",
       "14092   0.0   0.0   0.0  \n",
       "14093   0.0   0.0   0.0  \n",
       "14094   0.0   0.0   0.0  \n",
       "\n",
       "[14095 rows x 53 columns]"
      ]
     },
     "execution_count": 3,
     "metadata": {},
     "output_type": "execute_result"
    }
   ],
   "source": [
    "train"
   ]
  },
  {
   "cell_type": "code",
   "execution_count": 3,
   "id": "0fc44572",
   "metadata": {},
   "outputs": [],
   "source": [
    "# Data split\n",
    "x_train, x_val, y_train, y_val = train_test_split(train_x, train_y, test_size = 0.3, random_state = 17, stratify = train_y)"
   ]
  },
  {
   "cell_type": "code",
   "execution_count": 4,
   "id": "795f97a0",
   "metadata": {},
   "outputs": [
    {
     "name": "stdout",
     "output_type": "stream",
     "text": [
      "(17868, 53) (17868,)\n"
     ]
    }
   ],
   "source": [
    "# Oversampling - train\n",
    "tomek = SMOTETomek(random_state = 17, n_jobs = -1)\n",
    "tomek_x_train, tomek_y_train = tomek.fit_sample(x_train, y_train)\n",
    "print(tomek_x_train.shape, tomek_y_train.shape)"
   ]
  },
  {
   "cell_type": "code",
   "execution_count": 5,
   "id": "098e2f8f",
   "metadata": {},
   "outputs": [],
   "source": [
    "# Making tomek_s_train & x_s_val for Task2\n",
    "tomek_s_train = np.array(pd.DataFrame(tomek_x_train, columns = train.columns).loc[:,test.columns])\n",
    "x_s_val = np.array(pd.DataFrame(x_val, columns = train.columns).loc[:,test.columns])"
   ]
  },
  {
   "cell_type": "markdown",
   "id": "e6166716",
   "metadata": {},
   "source": [
    "# Generate Hyperparameters by Model"
   ]
  },
  {
   "cell_type": "code",
   "execution_count": 41,
   "id": "ad369256",
   "metadata": {},
   "outputs": [],
   "source": [
    "# Catboost\n",
    "cb_pbounds = { 'n_estimators' : (200, 500),\n",
    "               'learning_rate' : (0.01, 0.5),\n",
    "               'max_depth' : (4, 10),\n",
    "               'random_strength' : (0, 0.9),\n",
    "               'l2_leaf_reg' : (1, 5) }\n",
    "\n",
    "# XGB\n",
    "xgb_pbounds = { 'n_estimators' : (50, 500),\n",
    "                'learning_rate' : (0.001, 0.5),\n",
    "                'max_depth' : (4, 10),\n",
    "                'subsample' : (0.7, 1),\n",
    "                'colsample_bytree' : (0.7, 1),\n",
    "                'reg_alpha' : (0.01, 10),\n",
    "                'reg_lambda' : (0.01, 10),\n",
    "                'gamma' : (0.01, 10),\n",
    "                'min_child_weight' : (1, 15) }\n",
    "\n",
    "# LGBM\n",
    "lgbm_pbounds = { 'n_estimators' : (100, 400),\n",
    "                 'learning_rate' : (0.01, 0.5),\n",
    "                 'max_depth' : (4, 10),\n",
    "                 'min_child_samples' : (5,50),\n",
    "                 'subsample' : (0.7, 1),\n",
    "                 'colsample_bytree' : (0.7, 0.95),\n",
    "                 'reg_alpha' : (0.01, 10),\n",
    "                 'reg_lambda' : (0.01, 10),\n",
    "                 'min_child_weight' : (1, 15),\n",
    "                 'min_split_gain' : (10,100) }\n",
    "\n",
    "# ExtraTree\n",
    "et_pbounds = { 'n_estimators' : (50, 300), 'max_depth' : (4, 10),\n",
    "               'min_samples_split' : (2, 15), 'min_samples_leaf' : (2, 15) }\n",
    "\n",
    "# Logistic\n",
    "lr_pbounds = { 'max_iter' : (50, 500), 'C' : (0.01, 1) }"
   ]
  },
  {
   "cell_type": "markdown",
   "id": "8d1f680b",
   "metadata": {},
   "source": [
    "# Task1 : Making a Label predict_proba at y_train"
   ]
  },
  {
   "cell_type": "markdown",
   "id": "c5a2727d",
   "metadata": {},
   "source": [
    "### Generate Functoin for Bayesian Optimizer (Classifier)"
   ]
  },
  {
   "cell_type": "code",
   "execution_count": 12,
   "id": "811d09e7",
   "metadata": {},
   "outputs": [],
   "source": [
    "def cb_clf_opt(n_estimators, learning_rate, max_depth, random_strength, l2_leaf_reg):\n",
    "    \n",
    "    params = { 'n_estimators' : int(round(n_estimators)),\n",
    "               'learning_rate' : learning_rate,\n",
    "               'max_depth' : int(round(max_depth)),\n",
    "               'random_strength' : random_strength,\n",
    "               'l2_leaf_reg' : l2_leaf_reg }\n",
    "    \n",
    "    cb = CatBoostClassifier(**params)\n",
    "    skf = StratifiedKFold(n_splits = 5, shuffle = True, random_state = 17)\n",
    "    score = cross_val_score(cb, tomek_x_train, tomek_y_train, scoring = 'f1_macro', cv = skf, n_jobs = -1)\n",
    "    \n",
    "    return np.mean(score)\n",
    "\n",
    "def xgb_clf_opt(n_estimators, learning_rate, max_depth, subsample, colsample_bytree, reg_alpha, reg_lambda, gamma, min_child_weight):\n",
    "    \n",
    "    params = { 'n_estimators' : int(round(n_estimators)),\n",
    "               'learning_rate' : learning_rate,\n",
    "               'max_depth' : int(round(max_depth)),\n",
    "               'subsample' : subsample,\n",
    "               'colsample_bytree' : colsample_bytree,\n",
    "               'reg_alpha' : reg_alpha,\n",
    "               'reg_lambda' : reg_lambda,\n",
    "               'gamma' : gamma,\n",
    "               'min_child_weight' : min_child_weight, 'n_jobs' : -1 }\n",
    "    \n",
    "    xgb = XGBClassifier(**params)\n",
    "    skf = StratifiedKFold(n_splits = 5, shuffle = True, random_state = 17)\n",
    "    score = cross_val_score(xgb, tomek_x_train, tomek_y_train, scoring = 'f1_macro', cv = skf, n_jobs = -1)\n",
    "    \n",
    "    return np.mean(score)\n",
    "\n",
    "def lgbm_clf_opt(n_estimators, learning_rate, max_depth, min_child_samples, subsample, colsample_bytree, \n",
    "                 reg_alpha, reg_lambda, min_child_weight, min_split_gain):\n",
    "    \n",
    "    params = { 'n_estimators' : int(round(n_estimators)),\n",
    "               'learning_rate' : learning_rate,\n",
    "               'max_depth' : int(round(max_depth)),\n",
    "               'min_child_samples' : int(round(min_child_samples)),\n",
    "               'subsample' : subsample,\n",
    "               'colsample_bytree' : colsample_bytree,\n",
    "               'reg_alpha' : reg_alpha,\n",
    "               'reg_lambda' : reg_lambda,\n",
    "               'min_child_weight' : min_child_weight,\n",
    "               'min_split_gain' : min_split_gain, 'n_jobs' : -1 }\n",
    "    \n",
    "    lgbm = LGBMClassifier(**params)\n",
    "    skf = StratifiedKFold(n_splits = 5, shuffle = True, random_state = 17)\n",
    "    score = cross_val_score(lgbm, tomek_x_train, tomek_y_train, scoring = 'f1_macro', cv = skf, n_jobs = -1)\n",
    "    \n",
    "    return np.mean(score)\n",
    "\n",
    "def et_clf_opt(n_estimators, max_depth, min_samples_split, min_samples_leaf):\n",
    "    \n",
    "    params = { 'n_estimators' : int(round(n_estimators)),\n",
    "               'max_depth' : int(round(max_depth)),\n",
    "               'min_samples_split' : int(round(min_samples_split)),\n",
    "               'min_samples_leaf' : int(round(min_samples_leaf)), 'n_jobs' : -1 }\n",
    "    \n",
    "    et = ExtraTreesClassifier(**params)\n",
    "    skf = StratifiedKFold(n_splits = 5, shuffle = True, random_state = 17)\n",
    "    score = cross_val_score(et, tomek_x_train, tomek_y_train, scoring = 'f1_macro', cv = skf, n_jobs = -1)\n",
    "    \n",
    "    return np.mean(score)\n",
    "\n",
    "def lr_clf_opt(max_iter, C):\n",
    "    \n",
    "    params = { 'max_iter' : int(round(max_iter)), 'C' : C, 'n_jobs' : -1 }\n",
    "    \n",
    "    lr = LogisticRegression(**params)\n",
    "    skf = StratifiedKFold(n_splits = 5, shuffle = True, random_state = 17)\n",
    "    score = cross_val_score(lr, tomek_x_train, tomek_y_train, scoring = 'f1_macro', cv = skf, n_jobs = -1)\n",
    "    \n",
    "    return np.mean(score)"
   ]
  },
  {
   "cell_type": "markdown",
   "id": "a1afc681",
   "metadata": {},
   "source": [
    "### Generate BayesianOptimization"
   ]
  },
  {
   "cell_type": "code",
   "execution_count": 15,
   "id": "11636c25",
   "metadata": {},
   "outputs": [],
   "source": [
    "BO_cb_clf = BayesianOptimization(f = cb_clf_opt, pbounds = cb_pbounds, random_state=17)\n",
    "BO_xgb_clf = BayesianOptimization(f = xgb_clf_opt, pbounds = xgb_pbounds, random_state=17)\n",
    "BO_lgbm_clf = BayesianOptimization(f = lgbm_clf_opt, pbounds = lgbm_pbounds, random_state=17)\n",
    "BO_et_clf = BayesianOptimization(f = et_clf_opt, pbounds = et_pbounds, random_state=17)\n",
    "BO_lr_clf = BayesianOptimization(f = lr_clf_opt, pbounds = lr_pbounds, random_state=17)"
   ]
  },
  {
   "cell_type": "markdown",
   "id": "5be20f82",
   "metadata": {},
   "source": [
    "### Optimizer Maximize"
   ]
  },
  {
   "cell_type": "code",
   "execution_count": null,
   "id": "a7af9fe9",
   "metadata": {},
   "outputs": [],
   "source": [
    "# Catboost Maximize\n",
    "BO_cb_clf.maximize(init_points=50, n_iter=150, acq = 'poi')"
   ]
  },
  {
   "cell_type": "code",
   "execution_count": null,
   "id": "e924a8f5",
   "metadata": {},
   "outputs": [],
   "source": [
    "# XGB Maximize\n",
    "BO_xgb_clf.maximize(init_points=50, n_iter=150, acq = 'poi')"
   ]
  },
  {
   "cell_type": "code",
   "execution_count": 9,
   "id": "62758599",
   "metadata": {
    "collapsed": true
   },
   "outputs": [
    {
     "name": "stdout",
     "output_type": "stream",
     "text": [
      "|   iter    |  target   | colsam... | learni... | max_depth | min_ch... | min_ch... | min_sp... | n_esti... | reg_alpha | reg_la... | subsample |\n",
      "-------------------------------------------------------------------------------------------------------------------------------------------------\n",
      "| \u001b[0m1        \u001b[0m | \u001b[0m0.9383   \u001b[0m | \u001b[0m0.7884   \u001b[0m | \u001b[0m0.2658   \u001b[0m | \u001b[0m4.341    \u001b[0m | \u001b[0m8.056    \u001b[0m | \u001b[0m12.02    \u001b[0m | \u001b[0m69.07    \u001b[0m | \u001b[0m336.9    \u001b[0m | \u001b[0m5.76     \u001b[0m | \u001b[0m0.4002   \u001b[0m | \u001b[0m0.8073   \u001b[0m |\n",
      "| \u001b[0m2        \u001b[0m | \u001b[0m0.9372   \u001b[0m | \u001b[0m0.9837   \u001b[0m | \u001b[0m0.03096  \u001b[0m | \u001b[0m9.048    \u001b[0m | \u001b[0m44.48    \u001b[0m | \u001b[0m1.717    \u001b[0m | \u001b[0m68.72    \u001b[0m | \u001b[0m298.3    \u001b[0m | \u001b[0m5.979    \u001b[0m | \u001b[0m4.84     \u001b[0m | \u001b[0m0.7849   \u001b[0m |\n",
      "| \u001b[95m3        \u001b[0m | \u001b[95m0.9573   \u001b[0m | \u001b[95m0.7893   \u001b[0m | \u001b[95m0.2812   \u001b[0m | \u001b[95m5.772    \u001b[0m | \u001b[95m40.49    \u001b[0m | \u001b[95m6.859    \u001b[0m | \u001b[95m22.95    \u001b[0m | \u001b[95m117.9    \u001b[0m | \u001b[95m0.5619   \u001b[0m | \u001b[95m7.183    \u001b[0m | \u001b[95m0.7877   \u001b[0m |\n",
      "| \u001b[95m4        \u001b[0m | \u001b[95m0.9576   \u001b[0m | \u001b[95m0.7596   \u001b[0m | \u001b[95m0.4159   \u001b[0m | \u001b[95m6.976    \u001b[0m | \u001b[95m8.705    \u001b[0m | \u001b[95m8.63     \u001b[0m | \u001b[95m24.31    \u001b[0m | \u001b[95m354.5    \u001b[0m | \u001b[95m1.194    \u001b[0m | \u001b[95m4.456    \u001b[0m | \u001b[95m0.9664   \u001b[0m |\n",
      "| \u001b[0m5        \u001b[0m | \u001b[0m0.9363   \u001b[0m | \u001b[0m0.9392   \u001b[0m | \u001b[0m0.03492  \u001b[0m | \u001b[0m9.726    \u001b[0m | \u001b[0m34.66    \u001b[0m | \u001b[0m11.06    \u001b[0m | \u001b[0m76.92    \u001b[0m | \u001b[0m449.5    \u001b[0m | \u001b[0m1.348    \u001b[0m | \u001b[0m7.772    \u001b[0m | \u001b[0m0.9514   \u001b[0m |\n",
      "| \u001b[0m6        \u001b[0m | \u001b[0m0.9311   \u001b[0m | \u001b[0m0.9488   \u001b[0m | \u001b[0m0.01555  \u001b[0m | \u001b[0m5.733    \u001b[0m | \u001b[0m24.68    \u001b[0m | \u001b[0m8.289    \u001b[0m | \u001b[0m54.36    \u001b[0m | \u001b[0m108.7    \u001b[0m | \u001b[0m9.844    \u001b[0m | \u001b[0m0.6664   \u001b[0m | \u001b[0m0.8738   \u001b[0m |\n",
      "| \u001b[95m7        \u001b[0m | \u001b[95m0.9593   \u001b[0m | \u001b[95m0.8742   \u001b[0m | \u001b[95m0.4772   \u001b[0m | \u001b[95m4.382    \u001b[0m | \u001b[95m8.75     \u001b[0m | \u001b[95m13.37    \u001b[0m | \u001b[95m11.41    \u001b[0m | \u001b[95m408.0    \u001b[0m | \u001b[95m7.684    \u001b[0m | \u001b[95m8.722    \u001b[0m | \u001b[95m0.9748   \u001b[0m |\n",
      "| \u001b[0m8        \u001b[0m | \u001b[0m0.9348   \u001b[0m | \u001b[0m0.7821   \u001b[0m | \u001b[0m0.119    \u001b[0m | \u001b[0m5.174    \u001b[0m | \u001b[0m37.2     \u001b[0m | \u001b[0m2.158    \u001b[0m | \u001b[0m70.79    \u001b[0m | \u001b[0m436.3    \u001b[0m | \u001b[0m6.932    \u001b[0m | \u001b[0m7.853    \u001b[0m | \u001b[0m0.806    \u001b[0m |\n",
      "| \u001b[0m9        \u001b[0m | \u001b[0m0.9466   \u001b[0m | \u001b[0m0.7661   \u001b[0m | \u001b[0m0.1234   \u001b[0m | \u001b[0m8.092    \u001b[0m | \u001b[0m7.886    \u001b[0m | \u001b[0m7.352    \u001b[0m | \u001b[0m53.89    \u001b[0m | \u001b[0m338.4    \u001b[0m | \u001b[0m1.071    \u001b[0m | \u001b[0m5.74     \u001b[0m | \u001b[0m0.9881   \u001b[0m |\n",
      "| \u001b[95m10       \u001b[0m | \u001b[95m0.9595   \u001b[0m | \u001b[95m0.8547   \u001b[0m | \u001b[95m0.2853   \u001b[0m | \u001b[95m9.916    \u001b[0m | \u001b[95m42.48    \u001b[0m | \u001b[95m7.974    \u001b[0m | \u001b[95m17.21    \u001b[0m | \u001b[95m442.0    \u001b[0m | \u001b[95m7.134    \u001b[0m | \u001b[95m7.324    \u001b[0m | \u001b[95m0.9471   \u001b[0m |\n",
      "| \u001b[0m11       \u001b[0m | \u001b[0m0.9492   \u001b[0m | \u001b[0m0.9235   \u001b[0m | \u001b[0m0.2071   \u001b[0m | \u001b[0m6.603    \u001b[0m | \u001b[0m43.09    \u001b[0m | \u001b[0m13.02    \u001b[0m | \u001b[0m37.95    \u001b[0m | \u001b[0m103.7    \u001b[0m | \u001b[0m5.214    \u001b[0m | \u001b[0m4.495    \u001b[0m | \u001b[0m0.9692   \u001b[0m |\n",
      "| \u001b[95m12       \u001b[0m | \u001b[95m0.9596   \u001b[0m | \u001b[95m0.8479   \u001b[0m | \u001b[95m0.2527   \u001b[0m | \u001b[95m5.556    \u001b[0m | \u001b[95m40.24    \u001b[0m | \u001b[95m14.27    \u001b[0m | \u001b[95m21.7     \u001b[0m | \u001b[95m347.5    \u001b[0m | \u001b[95m1.646    \u001b[0m | \u001b[95m3.096    \u001b[0m | \u001b[95m0.99     \u001b[0m |\n",
      "| \u001b[0m13       \u001b[0m | \u001b[0m0.9279   \u001b[0m | \u001b[0m0.8449   \u001b[0m | \u001b[0m0.2708   \u001b[0m | \u001b[0m7.978    \u001b[0m | \u001b[0m35.93    \u001b[0m | \u001b[0m1.518    \u001b[0m | \u001b[0m89.94    \u001b[0m | \u001b[0m134.9    \u001b[0m | \u001b[0m7.822    \u001b[0m | \u001b[0m6.443    \u001b[0m | \u001b[0m0.8456   \u001b[0m |\n",
      "| \u001b[0m14       \u001b[0m | \u001b[0m0.9301   \u001b[0m | \u001b[0m0.9787   \u001b[0m | \u001b[0m0.1357   \u001b[0m | \u001b[0m8.699    \u001b[0m | \u001b[0m36.28    \u001b[0m | \u001b[0m4.297    \u001b[0m | \u001b[0m95.8     \u001b[0m | \u001b[0m313.4    \u001b[0m | \u001b[0m5.835    \u001b[0m | \u001b[0m1.581    \u001b[0m | \u001b[0m0.8276   \u001b[0m |\n",
      "| \u001b[0m15       \u001b[0m | \u001b[0m0.9527   \u001b[0m | \u001b[0m0.7705   \u001b[0m | \u001b[0m0.3007   \u001b[0m | \u001b[0m5.524    \u001b[0m | \u001b[0m12.6     \u001b[0m | \u001b[0m5.861    \u001b[0m | \u001b[0m29.31    \u001b[0m | \u001b[0m407.5    \u001b[0m | \u001b[0m7.919    \u001b[0m | \u001b[0m1.654    \u001b[0m | \u001b[0m0.9251   \u001b[0m |\n",
      "| \u001b[0m16       \u001b[0m | \u001b[0m0.9501   \u001b[0m | \u001b[0m0.7168   \u001b[0m | \u001b[0m0.117    \u001b[0m | \u001b[0m7.551    \u001b[0m | \u001b[0m37.32    \u001b[0m | \u001b[0m7.721    \u001b[0m | \u001b[0m40.39    \u001b[0m | \u001b[0m225.4    \u001b[0m | \u001b[0m8.589    \u001b[0m | \u001b[0m5.119    \u001b[0m | \u001b[0m0.9624   \u001b[0m |\n",
      "| \u001b[0m17       \u001b[0m | \u001b[0m0.927    \u001b[0m | \u001b[0m0.9839   \u001b[0m | \u001b[0m0.4679   \u001b[0m | \u001b[0m6.451    \u001b[0m | \u001b[0m32.02    \u001b[0m | \u001b[0m3.9      \u001b[0m | \u001b[0m96.06    \u001b[0m | \u001b[0m494.1    \u001b[0m | \u001b[0m8.295    \u001b[0m | \u001b[0m5.384    \u001b[0m | \u001b[0m0.7251   \u001b[0m |\n",
      "| \u001b[0m18       \u001b[0m | \u001b[0m0.9264   \u001b[0m | \u001b[0m0.7942   \u001b[0m | \u001b[0m0.05395  \u001b[0m | \u001b[0m4.434    \u001b[0m | \u001b[0m19.65    \u001b[0m | \u001b[0m8.023    \u001b[0m | \u001b[0m89.05    \u001b[0m | \u001b[0m167.5    \u001b[0m | \u001b[0m5.306    \u001b[0m | \u001b[0m8.44     \u001b[0m | \u001b[0m0.741    \u001b[0m |\n",
      "| \u001b[95m19       \u001b[0m | \u001b[95m0.9635   \u001b[0m | \u001b[95m0.8201   \u001b[0m | \u001b[95m0.2847   \u001b[0m | \u001b[95m4.302    \u001b[0m | \u001b[95m5.617    \u001b[0m | \u001b[95m9.299    \u001b[0m | \u001b[95m11.41    \u001b[0m | \u001b[95m313.7    \u001b[0m | \u001b[95m4.093    \u001b[0m | \u001b[95m2.294    \u001b[0m | \u001b[95m0.757    \u001b[0m |\n",
      "| \u001b[0m20       \u001b[0m | \u001b[0m0.925    \u001b[0m | \u001b[0m0.974    \u001b[0m | \u001b[0m0.2955   \u001b[0m | \u001b[0m4.198    \u001b[0m | \u001b[0m37.15    \u001b[0m | \u001b[0m4.338    \u001b[0m | \u001b[0m92.96    \u001b[0m | \u001b[0m374.6    \u001b[0m | \u001b[0m6.772    \u001b[0m | \u001b[0m9.868    \u001b[0m | \u001b[0m0.8619   \u001b[0m |\n",
      "| \u001b[0m21       \u001b[0m | \u001b[0m0.9388   \u001b[0m | \u001b[0m0.8492   \u001b[0m | \u001b[0m0.4492   \u001b[0m | \u001b[0m9.731    \u001b[0m | \u001b[0m5.099    \u001b[0m | \u001b[0m12.64    \u001b[0m | \u001b[0m60.15    \u001b[0m | \u001b[0m470.8    \u001b[0m | \u001b[0m7.187    \u001b[0m | \u001b[0m9.581    \u001b[0m | \u001b[0m0.9277   \u001b[0m |\n",
      "| \u001b[95m22       \u001b[0m | \u001b[95m0.9638   \u001b[0m | \u001b[95m0.7792   \u001b[0m | \u001b[95m0.06874  \u001b[0m | \u001b[95m9.311    \u001b[0m | \u001b[95m28.22    \u001b[0m | \u001b[95m12.89    \u001b[0m | \u001b[95m14.98    \u001b[0m | \u001b[95m243.5    \u001b[0m | \u001b[95m2.064    \u001b[0m | \u001b[95m8.707    \u001b[0m | \u001b[95m0.9082   \u001b[0m |\n",
      "| \u001b[0m23       \u001b[0m | \u001b[0m0.9311   \u001b[0m | \u001b[0m0.7187   \u001b[0m | \u001b[0m0.3078   \u001b[0m | \u001b[0m8.875    \u001b[0m | \u001b[0m6.52     \u001b[0m | \u001b[0m9.577    \u001b[0m | \u001b[0m93.32    \u001b[0m | \u001b[0m118.2    \u001b[0m | \u001b[0m7.282    \u001b[0m | \u001b[0m1.517    \u001b[0m | \u001b[0m0.952    \u001b[0m |\n",
      "| \u001b[0m24       \u001b[0m | \u001b[0m0.954    \u001b[0m | \u001b[0m0.7548   \u001b[0m | \u001b[0m0.1962   \u001b[0m | \u001b[0m5.521    \u001b[0m | \u001b[0m22.91    \u001b[0m | \u001b[0m14.86    \u001b[0m | \u001b[0m27.89    \u001b[0m | \u001b[0m216.2    \u001b[0m | \u001b[0m7.696    \u001b[0m | \u001b[0m4.46     \u001b[0m | \u001b[0m0.8669   \u001b[0m |\n",
      "| \u001b[0m25       \u001b[0m | \u001b[0m0.9488   \u001b[0m | \u001b[0m0.9291   \u001b[0m | \u001b[0m0.4999   \u001b[0m | \u001b[0m8.725    \u001b[0m | \u001b[0m24.75    \u001b[0m | \u001b[0m5.788    \u001b[0m | \u001b[0m40.24    \u001b[0m | \u001b[0m445.8    \u001b[0m | \u001b[0m7.518    \u001b[0m | \u001b[0m0.7804   \u001b[0m | \u001b[0m0.8579   \u001b[0m |\n",
      "| \u001b[0m26       \u001b[0m | \u001b[0m0.9562   \u001b[0m | \u001b[0m0.9019   \u001b[0m | \u001b[0m0.2443   \u001b[0m | \u001b[0m6.668    \u001b[0m | \u001b[0m43.65    \u001b[0m | \u001b[0m5.699    \u001b[0m | \u001b[0m22.16    \u001b[0m | \u001b[0m324.4    \u001b[0m | \u001b[0m6.606    \u001b[0m | \u001b[0m9.771    \u001b[0m | \u001b[0m0.9467   \u001b[0m |\n",
      "| \u001b[0m27       \u001b[0m | \u001b[0m0.9426   \u001b[0m | \u001b[0m0.9336   \u001b[0m | \u001b[0m0.4715   \u001b[0m | \u001b[0m5.791    \u001b[0m | \u001b[0m18.6     \u001b[0m | \u001b[0m10.71    \u001b[0m | \u001b[0m60.35    \u001b[0m | \u001b[0m282.1    \u001b[0m | \u001b[0m2.235    \u001b[0m | \u001b[0m6.502    \u001b[0m | \u001b[0m0.9032   \u001b[0m |\n",
      "| \u001b[0m28       \u001b[0m | \u001b[0m0.9338   \u001b[0m | \u001b[0m0.8159   \u001b[0m | \u001b[0m0.1314   \u001b[0m | \u001b[0m9.991    \u001b[0m | \u001b[0m16.9     \u001b[0m | \u001b[0m3.307    \u001b[0m | \u001b[0m80.49    \u001b[0m | \u001b[0m266.1    \u001b[0m | \u001b[0m9.534    \u001b[0m | \u001b[0m3.635    \u001b[0m | \u001b[0m0.8809   \u001b[0m |\n",
      "| \u001b[0m29       \u001b[0m | \u001b[0m0.9608   \u001b[0m | \u001b[0m0.7029   \u001b[0m | \u001b[0m0.3843   \u001b[0m | \u001b[0m9.761    \u001b[0m | \u001b[0m35.86    \u001b[0m | \u001b[0m12.72    \u001b[0m | \u001b[0m19.27    \u001b[0m | \u001b[0m404.7    \u001b[0m | \u001b[0m4.312    \u001b[0m | \u001b[0m1.761    \u001b[0m | \u001b[0m0.9701   \u001b[0m |\n",
      "| \u001b[0m30       \u001b[0m | \u001b[0m0.9314   \u001b[0m | \u001b[0m0.8989   \u001b[0m | \u001b[0m0.1087   \u001b[0m | \u001b[0m4.871    \u001b[0m | \u001b[0m11.99    \u001b[0m | \u001b[0m10.14    \u001b[0m | \u001b[0m73.84    \u001b[0m | \u001b[0m77.92    \u001b[0m | \u001b[0m9.761    \u001b[0m | \u001b[0m3.025    \u001b[0m | \u001b[0m0.8971   \u001b[0m |\n",
      "| \u001b[0m31       \u001b[0m | \u001b[0m0.9453   \u001b[0m | \u001b[0m0.9386   \u001b[0m | \u001b[0m0.4377   \u001b[0m | \u001b[0m7.942    \u001b[0m | \u001b[0m34.85    \u001b[0m | \u001b[0m7.707    \u001b[0m | \u001b[0m42.31    \u001b[0m | \u001b[0m479.5    \u001b[0m | \u001b[0m6.096    \u001b[0m | \u001b[0m8.571    \u001b[0m | \u001b[0m0.9641   \u001b[0m |\n",
      "| \u001b[0m32       \u001b[0m | \u001b[0m0.9241   \u001b[0m | \u001b[0m0.7538   \u001b[0m | \u001b[0m0.1092   \u001b[0m | \u001b[0m3.248    \u001b[0m | \u001b[0m11.77    \u001b[0m | \u001b[0m2.615    \u001b[0m | \u001b[0m91.33    \u001b[0m | \u001b[0m491.1    \u001b[0m | \u001b[0m5.104    \u001b[0m | \u001b[0m4.47     \u001b[0m | \u001b[0m0.9054   \u001b[0m |\n",
      "| \u001b[0m33       \u001b[0m | \u001b[0m0.9441   \u001b[0m | \u001b[0m0.7372   \u001b[0m | \u001b[0m0.3497   \u001b[0m | \u001b[0m6.076    \u001b[0m | \u001b[0m34.51    \u001b[0m | \u001b[0m12.16    \u001b[0m | \u001b[0m59.36    \u001b[0m | \u001b[0m187.4    \u001b[0m | \u001b[0m3.299    \u001b[0m | \u001b[0m2.112    \u001b[0m | \u001b[0m0.9362   \u001b[0m |\n"
     ]
    },
    {
     "name": "stdout",
     "output_type": "stream",
     "text": [
      "| \u001b[0m34       \u001b[0m | \u001b[0m0.941    \u001b[0m | \u001b[0m0.8213   \u001b[0m | \u001b[0m0.3552   \u001b[0m | \u001b[0m5.013    \u001b[0m | \u001b[0m17.88    \u001b[0m | \u001b[0m5.666    \u001b[0m | \u001b[0m55.49    \u001b[0m | \u001b[0m464.8    \u001b[0m | \u001b[0m7.22     \u001b[0m | \u001b[0m2.677    \u001b[0m | \u001b[0m0.7112   \u001b[0m |\n",
      "| \u001b[0m35       \u001b[0m | \u001b[0m0.9326   \u001b[0m | \u001b[0m0.8327   \u001b[0m | \u001b[0m0.1456   \u001b[0m | \u001b[0m8.403    \u001b[0m | \u001b[0m23.03    \u001b[0m | \u001b[0m3.607    \u001b[0m | \u001b[0m89.95    \u001b[0m | \u001b[0m414.2    \u001b[0m | \u001b[0m3.428    \u001b[0m | \u001b[0m2.884    \u001b[0m | \u001b[0m0.886    \u001b[0m |\n",
      "| \u001b[0m36       \u001b[0m | \u001b[0m0.9434   \u001b[0m | \u001b[0m0.9314   \u001b[0m | \u001b[0m0.3514   \u001b[0m | \u001b[0m9.154    \u001b[0m | \u001b[0m31.45    \u001b[0m | \u001b[0m4.954    \u001b[0m | \u001b[0m64.4     \u001b[0m | \u001b[0m340.0    \u001b[0m | \u001b[0m0.7467   \u001b[0m | \u001b[0m0.9894   \u001b[0m | \u001b[0m0.8237   \u001b[0m |\n",
      "| \u001b[0m37       \u001b[0m | \u001b[0m0.9458   \u001b[0m | \u001b[0m0.8013   \u001b[0m | \u001b[0m0.173    \u001b[0m | \u001b[0m6.453    \u001b[0m | \u001b[0m19.23    \u001b[0m | \u001b[0m3.763    \u001b[0m | \u001b[0m49.46    \u001b[0m | \u001b[0m135.4    \u001b[0m | \u001b[0m6.866    \u001b[0m | \u001b[0m3.967    \u001b[0m | \u001b[0m0.8097   \u001b[0m |\n",
      "| \u001b[0m38       \u001b[0m | \u001b[0m0.9463   \u001b[0m | \u001b[0m0.8786   \u001b[0m | \u001b[0m0.07125  \u001b[0m | \u001b[0m7.544    \u001b[0m | \u001b[0m10.26    \u001b[0m | \u001b[0m12.38    \u001b[0m | \u001b[0m52.64    \u001b[0m | \u001b[0m83.35    \u001b[0m | \u001b[0m4.362    \u001b[0m | \u001b[0m4.963    \u001b[0m | \u001b[0m0.8278   \u001b[0m |\n",
      "| \u001b[0m39       \u001b[0m | \u001b[0m0.9453   \u001b[0m | \u001b[0m0.7302   \u001b[0m | \u001b[0m0.4686   \u001b[0m | \u001b[0m6.17     \u001b[0m | \u001b[0m46.17    \u001b[0m | \u001b[0m14.77    \u001b[0m | \u001b[0m47.61    \u001b[0m | \u001b[0m477.9    \u001b[0m | \u001b[0m3.954    \u001b[0m | \u001b[0m4.033    \u001b[0m | \u001b[0m0.7285   \u001b[0m |\n",
      "| \u001b[0m40       \u001b[0m | \u001b[0m0.9602   \u001b[0m | \u001b[0m0.9467   \u001b[0m | \u001b[0m0.1512   \u001b[0m | \u001b[0m7.198    \u001b[0m | \u001b[0m31.82    \u001b[0m | \u001b[0m7.77     \u001b[0m | \u001b[0m12.51    \u001b[0m | \u001b[0m183.3    \u001b[0m | \u001b[0m9.082    \u001b[0m | \u001b[0m5.394    \u001b[0m | \u001b[0m0.7438   \u001b[0m |\n",
      "| \u001b[0m41       \u001b[0m | \u001b[0m0.9547   \u001b[0m | \u001b[0m0.7455   \u001b[0m | \u001b[0m0.2032   \u001b[0m | \u001b[0m3.922    \u001b[0m | \u001b[0m41.32    \u001b[0m | \u001b[0m7.141    \u001b[0m | \u001b[0m28.18    \u001b[0m | \u001b[0m144.0    \u001b[0m | \u001b[0m0.3298   \u001b[0m | \u001b[0m7.018    \u001b[0m | \u001b[0m0.9108   \u001b[0m |\n",
      "| \u001b[0m42       \u001b[0m | \u001b[0m0.9369   \u001b[0m | \u001b[0m0.9318   \u001b[0m | \u001b[0m0.4731   \u001b[0m | \u001b[0m6.416    \u001b[0m | \u001b[0m47.81    \u001b[0m | \u001b[0m4.099    \u001b[0m | \u001b[0m90.8     \u001b[0m | \u001b[0m86.1     \u001b[0m | \u001b[0m0.03264  \u001b[0m | \u001b[0m0.8812   \u001b[0m | \u001b[0m0.8594   \u001b[0m |\n",
      "| \u001b[95m43       \u001b[0m | \u001b[95m0.9661   \u001b[0m | \u001b[95m0.7936   \u001b[0m | \u001b[95m0.385    \u001b[0m | \u001b[95m5.932    \u001b[0m | \u001b[95m29.89    \u001b[0m | \u001b[95m7.28     \u001b[0m | \u001b[95m13.52    \u001b[0m | \u001b[95m167.3    \u001b[0m | \u001b[95m0.5191   \u001b[0m | \u001b[95m1.037    \u001b[0m | \u001b[95m0.9505   \u001b[0m |\n",
      "| \u001b[0m44       \u001b[0m | \u001b[0m0.9351   \u001b[0m | \u001b[0m0.9339   \u001b[0m | \u001b[0m0.3779   \u001b[0m | \u001b[0m8.962    \u001b[0m | \u001b[0m17.36    \u001b[0m | \u001b[0m6.173    \u001b[0m | \u001b[0m91.81    \u001b[0m | \u001b[0m53.92    \u001b[0m | \u001b[0m3.08     \u001b[0m | \u001b[0m2.763    \u001b[0m | \u001b[0m0.8812   \u001b[0m |\n",
      "| \u001b[0m45       \u001b[0m | \u001b[0m0.9607   \u001b[0m | \u001b[0m0.9445   \u001b[0m | \u001b[0m0.1208   \u001b[0m | \u001b[0m9.649    \u001b[0m | \u001b[0m19.94    \u001b[0m | \u001b[0m7.939    \u001b[0m | \u001b[0m17.15    \u001b[0m | \u001b[0m193.6    \u001b[0m | \u001b[0m3.629    \u001b[0m | \u001b[0m6.867    \u001b[0m | \u001b[0m0.7938   \u001b[0m |\n",
      "| \u001b[0m46       \u001b[0m | \u001b[0m0.9253   \u001b[0m | \u001b[0m0.9454   \u001b[0m | \u001b[0m0.1059   \u001b[0m | \u001b[0m5.868    \u001b[0m | \u001b[0m15.71    \u001b[0m | \u001b[0m8.318    \u001b[0m | \u001b[0m93.79    \u001b[0m | \u001b[0m494.8    \u001b[0m | \u001b[0m9.561    \u001b[0m | \u001b[0m3.851    \u001b[0m | \u001b[0m0.8523   \u001b[0m |\n",
      "| \u001b[0m47       \u001b[0m | \u001b[0m0.96     \u001b[0m | \u001b[0m0.8525   \u001b[0m | \u001b[0m0.29     \u001b[0m | \u001b[0m6.176    \u001b[0m | \u001b[0m15.53    \u001b[0m | \u001b[0m9.881    \u001b[0m | \u001b[0m22.54    \u001b[0m | \u001b[0m320.9    \u001b[0m | \u001b[0m1.401    \u001b[0m | \u001b[0m1.006    \u001b[0m | \u001b[0m0.9102   \u001b[0m |\n",
      "| \u001b[0m48       \u001b[0m | \u001b[0m0.9452   \u001b[0m | \u001b[0m0.8424   \u001b[0m | \u001b[0m0.4788   \u001b[0m | \u001b[0m6.024    \u001b[0m | \u001b[0m7.543    \u001b[0m | \u001b[0m1.237    \u001b[0m | \u001b[0m44.67    \u001b[0m | \u001b[0m56.17    \u001b[0m | \u001b[0m5.299    \u001b[0m | \u001b[0m5.544    \u001b[0m | \u001b[0m0.9563   \u001b[0m |\n",
      "| \u001b[0m49       \u001b[0m | \u001b[0m0.9431   \u001b[0m | \u001b[0m0.9086   \u001b[0m | \u001b[0m0.328    \u001b[0m | \u001b[0m9.718    \u001b[0m | \u001b[0m12.06    \u001b[0m | \u001b[0m13.7     \u001b[0m | \u001b[0m57.44    \u001b[0m | \u001b[0m61.2     \u001b[0m | \u001b[0m4.193    \u001b[0m | \u001b[0m6.375    \u001b[0m | \u001b[0m0.9277   \u001b[0m |\n",
      "| \u001b[0m50       \u001b[0m | \u001b[0m0.9274   \u001b[0m | \u001b[0m0.7303   \u001b[0m | \u001b[0m0.4932   \u001b[0m | \u001b[0m3.396    \u001b[0m | \u001b[0m30.58    \u001b[0m | \u001b[0m12.88    \u001b[0m | \u001b[0m78.53    \u001b[0m | \u001b[0m349.9    \u001b[0m | \u001b[0m0.3789   \u001b[0m | \u001b[0m8.647    \u001b[0m | \u001b[0m0.7065   \u001b[0m |\n",
      "| \u001b[0m51       \u001b[0m | \u001b[0m0.9655   \u001b[0m | \u001b[0m0.7897   \u001b[0m | \u001b[0m0.394    \u001b[0m | \u001b[0m5.988    \u001b[0m | \u001b[0m29.55    \u001b[0m | \u001b[0m7.244    \u001b[0m | \u001b[0m13.39    \u001b[0m | \u001b[0m167.1    \u001b[0m | \u001b[0m0.2006   \u001b[0m | \u001b[0m0.9099   \u001b[0m | \u001b[0m0.9562   \u001b[0m |\n",
      "| \u001b[0m52       \u001b[0m | \u001b[0m0.9619   \u001b[0m | \u001b[0m0.8295   \u001b[0m | \u001b[0m0.2714   \u001b[0m | \u001b[0m4.91     \u001b[0m | \u001b[0m34.98    \u001b[0m | \u001b[0m7.854    \u001b[0m | \u001b[0m16.29    \u001b[0m | \u001b[0m168.0    \u001b[0m | \u001b[0m4.127    \u001b[0m | \u001b[0m2.659    \u001b[0m | \u001b[0m0.8878   \u001b[0m |\n",
      "| \u001b[0m53       \u001b[0m | \u001b[0m0.9633   \u001b[0m | \u001b[0m0.8116   \u001b[0m | \u001b[0m0.3418   \u001b[0m | \u001b[0m5.638    \u001b[0m | \u001b[0m31.58    \u001b[0m | \u001b[0m7.457    \u001b[0m | \u001b[0m14.24    \u001b[0m | \u001b[0m168.2    \u001b[0m | \u001b[0m2.024    \u001b[0m | \u001b[0m1.654    \u001b[0m | \u001b[0m0.9239   \u001b[0m |\n",
      "| \u001b[0m54       \u001b[0m | \u001b[0m0.9658   \u001b[0m | \u001b[0m0.7945   \u001b[0m | \u001b[0m0.3829   \u001b[0m | \u001b[0m5.919    \u001b[0m | \u001b[0m29.96    \u001b[0m | \u001b[0m7.288    \u001b[0m | \u001b[0m13.55    \u001b[0m | \u001b[0m167.4    \u001b[0m | \u001b[0m0.591    \u001b[0m | \u001b[0m1.065    \u001b[0m | \u001b[0m0.9493   \u001b[0m |\n",
      "| \u001b[0m55       \u001b[0m | \u001b[0m0.9648   \u001b[0m | \u001b[0m0.7609   \u001b[0m | \u001b[0m0.03083  \u001b[0m | \u001b[0m9.722    \u001b[0m | \u001b[0m27.96    \u001b[0m | \u001b[0m13.19    \u001b[0m | \u001b[0m14.89    \u001b[0m | \u001b[0m242.7    \u001b[0m | \u001b[0m2.043    \u001b[0m | \u001b[0m9.234    \u001b[0m | \u001b[0m0.9145   \u001b[0m |\n",
      "| \u001b[0m56       \u001b[0m | \u001b[0m0.9616   \u001b[0m | \u001b[0m0.7736   \u001b[0m | \u001b[0m0.2033   \u001b[0m | \u001b[0m8.524    \u001b[0m | \u001b[0m33.93    \u001b[0m | \u001b[0m4.873    \u001b[0m | \u001b[0m10.45    \u001b[0m | \u001b[0m182.2    \u001b[0m | \u001b[0m9.659    \u001b[0m | \u001b[0m3.953    \u001b[0m | \u001b[0m0.7194   \u001b[0m |\n",
      "| \u001b[0m57       \u001b[0m | \u001b[0m0.9633   \u001b[0m | \u001b[0m0.7672   \u001b[0m | \u001b[0m0.2368   \u001b[0m | \u001b[0m6.325    \u001b[0m | \u001b[0m36.39    \u001b[0m | \u001b[0m6.143    \u001b[0m | \u001b[0m15.77    \u001b[0m | \u001b[0m169.7    \u001b[0m | \u001b[0m1.351    \u001b[0m | \u001b[0m0.4756   \u001b[0m | \u001b[0m0.8275   \u001b[0m |\n",
      "| \u001b[0m58       \u001b[0m | \u001b[0m0.9651   \u001b[0m | \u001b[0m0.7608   \u001b[0m | \u001b[0m0.03314  \u001b[0m | \u001b[0m10.0     \u001b[0m | \u001b[0m27.98    \u001b[0m | \u001b[0m13.5     \u001b[0m | \u001b[0m14.83    \u001b[0m | \u001b[0m243.4    \u001b[0m | \u001b[0m1.908    \u001b[0m | \u001b[0m9.525    \u001b[0m | \u001b[0m0.9215   \u001b[0m |\n",
      "| \u001b[0m59       \u001b[0m | \u001b[0m0.9615   \u001b[0m | \u001b[0m0.7168   \u001b[0m | \u001b[0m0.1197   \u001b[0m | \u001b[0m4.148    \u001b[0m | \u001b[0m35.22    \u001b[0m | \u001b[0m8.145    \u001b[0m | \u001b[0m17.48    \u001b[0m | \u001b[0m168.9    \u001b[0m | \u001b[0m3.808    \u001b[0m | \u001b[0m1.077    \u001b[0m | \u001b[0m0.894    \u001b[0m |\n",
      "| \u001b[0m60       \u001b[0m | \u001b[0m0.9625   \u001b[0m | \u001b[0m0.8186   \u001b[0m | \u001b[0m0.1819   \u001b[0m | \u001b[0m3.947    \u001b[0m | \u001b[0m35.69    \u001b[0m | \u001b[0m8.436    \u001b[0m | \u001b[0m14.19    \u001b[0m | \u001b[0m168.3    \u001b[0m | \u001b[0m3.646    \u001b[0m | \u001b[0m0.3084   \u001b[0m | \u001b[0m0.7442   \u001b[0m |\n",
      "| \u001b[0m61       \u001b[0m | \u001b[0m0.9628   \u001b[0m | \u001b[0m0.7928   \u001b[0m | \u001b[0m0.2495   \u001b[0m | \u001b[0m5.244    \u001b[0m | \u001b[0m34.47    \u001b[0m | \u001b[0m7.416    \u001b[0m | \u001b[0m15.22    \u001b[0m | \u001b[0m168.7    \u001b[0m | \u001b[0m2.608    \u001b[0m | \u001b[0m1.125    \u001b[0m | \u001b[0m0.8551   \u001b[0m |\n",
      "| \u001b[0m62       \u001b[0m | \u001b[0m0.9647   \u001b[0m | \u001b[0m0.8449   \u001b[0m | \u001b[0m0.1095   \u001b[0m | \u001b[0m8.399    \u001b[0m | \u001b[0m33.47    \u001b[0m | \u001b[0m8.632    \u001b[0m | \u001b[0m11.92    \u001b[0m | \u001b[0m169.0    \u001b[0m | \u001b[0m3.492    \u001b[0m | \u001b[0m3.905    \u001b[0m | \u001b[0m0.9247   \u001b[0m |\n",
      "| \u001b[0m63       \u001b[0m | \u001b[0m0.9595   \u001b[0m | \u001b[0m0.7474   \u001b[0m | \u001b[0m0.4936   \u001b[0m | \u001b[0m8.849    \u001b[0m | \u001b[0m35.9     \u001b[0m | \u001b[0m11.1     \u001b[0m | \u001b[0m19.36    \u001b[0m | \u001b[0m403.5    \u001b[0m | \u001b[0m4.223    \u001b[0m | \u001b[0m2.686    \u001b[0m | \u001b[0m0.9227   \u001b[0m |\n",
      "| \u001b[0m64       \u001b[0m | \u001b[0m0.9607   \u001b[0m | \u001b[0m0.8188   \u001b[0m | \u001b[0m0.01759  \u001b[0m | \u001b[0m9.885    \u001b[0m | \u001b[0m34.54    \u001b[0m | \u001b[0m11.1     \u001b[0m | \u001b[0m19.95    \u001b[0m | \u001b[0m405.1    \u001b[0m | \u001b[0m5.758    \u001b[0m | \u001b[0m2.045    \u001b[0m | \u001b[0m0.7903   \u001b[0m |\n",
      "| \u001b[0m65       \u001b[0m | \u001b[0m0.9598   \u001b[0m | \u001b[0m0.7497   \u001b[0m | \u001b[0m0.4273   \u001b[0m | \u001b[0m9.444    \u001b[0m | \u001b[0m34.1     \u001b[0m | \u001b[0m7.533    \u001b[0m | \u001b[0m12.12    \u001b[0m | \u001b[0m183.6    \u001b[0m | \u001b[0m8.09     \u001b[0m | \u001b[0m5.338    \u001b[0m | \u001b[0m0.8792   \u001b[0m |\n",
      "| \u001b[0m66       \u001b[0m | \u001b[0m0.962    \u001b[0m | \u001b[0m0.8375   \u001b[0m | \u001b[0m0.2049   \u001b[0m | \u001b[0m8.046    \u001b[0m | \u001b[0m33.16    \u001b[0m | \u001b[0m6.404    \u001b[0m | \u001b[0m11.57    \u001b[0m | \u001b[0m181.9    \u001b[0m | \u001b[0m8.866    \u001b[0m | \u001b[0m4.548    \u001b[0m | \u001b[0m0.7557   \u001b[0m |\n",
      "| \u001b[0m67       \u001b[0m | \u001b[0m0.9628   \u001b[0m | \u001b[0m0.9712   \u001b[0m | \u001b[0m0.1018   \u001b[0m | \u001b[0m6.429    \u001b[0m | \u001b[0m38.48    \u001b[0m | \u001b[0m9.07     \u001b[0m | \u001b[0m10.8     \u001b[0m | \u001b[0m169.1    \u001b[0m | \u001b[0m7.304    \u001b[0m | \u001b[0m1.965    \u001b[0m | \u001b[0m0.9575   \u001b[0m |\n"
     ]
    },
    {
     "name": "stdout",
     "output_type": "stream",
     "text": [
      "| \u001b[0m68       \u001b[0m | \u001b[0m0.9639   \u001b[0m | \u001b[0m0.8414   \u001b[0m | \u001b[0m0.1826   \u001b[0m | \u001b[0m7.09     \u001b[0m | \u001b[0m33.65    \u001b[0m | \u001b[0m8.239    \u001b[0m | \u001b[0m12.91    \u001b[0m | \u001b[0m168.8    \u001b[0m | \u001b[0m3.469    \u001b[0m | \u001b[0m2.883    \u001b[0m | \u001b[0m0.9177   \u001b[0m |\n",
      "| \u001b[0m69       \u001b[0m | \u001b[0m0.9606   \u001b[0m | \u001b[0m0.7822   \u001b[0m | \u001b[0m0.4012   \u001b[0m | \u001b[0m4.769    \u001b[0m | \u001b[0m34.92    \u001b[0m | \u001b[0m6.322    \u001b[0m | \u001b[0m14.96    \u001b[0m | \u001b[0m167.7    \u001b[0m | \u001b[0m5.922    \u001b[0m | \u001b[0m4.159    \u001b[0m | \u001b[0m0.703    \u001b[0m |\n",
      "| \u001b[0m70       \u001b[0m | \u001b[0m0.9641   \u001b[0m | \u001b[0m0.8492   \u001b[0m | \u001b[0m0.3281   \u001b[0m | \u001b[0m5.453    \u001b[0m | \u001b[0m30.16    \u001b[0m | \u001b[0m8.287    \u001b[0m | \u001b[0m10.01    \u001b[0m | \u001b[0m166.0    \u001b[0m | \u001b[0m5.592    \u001b[0m | \u001b[0m0.09111  \u001b[0m | \u001b[0m0.8962   \u001b[0m |\n",
      "| \u001b[0m71       \u001b[0m | \u001b[0m0.9656   \u001b[0m | \u001b[0m0.7205   \u001b[0m | \u001b[0m0.06584  \u001b[0m | \u001b[0m6.917    \u001b[0m | \u001b[0m36.59    \u001b[0m | \u001b[0m4.993    \u001b[0m | \u001b[0m10.19    \u001b[0m | \u001b[0m170.6    \u001b[0m | \u001b[0m5.745    \u001b[0m | \u001b[0m2.948    \u001b[0m | \u001b[0m0.8014   \u001b[0m |\n",
      "| \u001b[0m72       \u001b[0m | \u001b[0m0.9347   \u001b[0m | \u001b[0m0.7665   \u001b[0m | \u001b[0m0.001    \u001b[0m | \u001b[0m9.999    \u001b[0m | \u001b[0m27.55    \u001b[0m | \u001b[0m13.46    \u001b[0m | \u001b[0m15.76    \u001b[0m | \u001b[0m243.1    \u001b[0m | \u001b[0m1.75     \u001b[0m | \u001b[0m9.68     \u001b[0m | \u001b[0m0.9009   \u001b[0m |\n",
      "| \u001b[0m73       \u001b[0m | \u001b[0m0.9596   \u001b[0m | \u001b[0m0.9202   \u001b[0m | \u001b[0m0.07292  \u001b[0m | \u001b[0m5.635    \u001b[0m | \u001b[0m36.61    \u001b[0m | \u001b[0m6.983    \u001b[0m | \u001b[0m16.4     \u001b[0m | \u001b[0m169.1    \u001b[0m | \u001b[0m6.091    \u001b[0m | \u001b[0m1.153    \u001b[0m | \u001b[0m0.9448   \u001b[0m |\n",
      "| \u001b[0m74       \u001b[0m | \u001b[0m0.9544   \u001b[0m | \u001b[0m0.9562   \u001b[0m | \u001b[0m0.1374   \u001b[0m | \u001b[0m8.175    \u001b[0m | \u001b[0m41.14    \u001b[0m | \u001b[0m5.8      \u001b[0m | \u001b[0m23.26    \u001b[0m | \u001b[0m324.4    \u001b[0m | \u001b[0m7.937    \u001b[0m | \u001b[0m9.18     \u001b[0m | \u001b[0m0.7921   \u001b[0m |\n",
      "| \u001b[0m75       \u001b[0m | \u001b[0m0.9587   \u001b[0m | \u001b[0m0.825    \u001b[0m | \u001b[0m0.03398  \u001b[0m | \u001b[0m6.581    \u001b[0m | \u001b[0m8.81     \u001b[0m | \u001b[0m10.83    \u001b[0m | \u001b[0m24.8     \u001b[0m | \u001b[0m353.5    \u001b[0m | \u001b[0m0.6852   \u001b[0m | \u001b[0m5.25     \u001b[0m | \u001b[0m0.8757   \u001b[0m |\n",
      "| \u001b[0m76       \u001b[0m | \u001b[0m0.9617   \u001b[0m | \u001b[0m0.731    \u001b[0m | \u001b[0m0.13     \u001b[0m | \u001b[0m7.14     \u001b[0m | \u001b[0m33.93    \u001b[0m | \u001b[0m7.39     \u001b[0m | \u001b[0m15.96    \u001b[0m | \u001b[0m168.7    \u001b[0m | \u001b[0m5.695    \u001b[0m | \u001b[0m3.209    \u001b[0m | \u001b[0m0.9913   \u001b[0m |\n",
      "| \u001b[0m77       \u001b[0m | \u001b[0m0.965    \u001b[0m | \u001b[0m0.7278   \u001b[0m | \u001b[0m0.2058   \u001b[0m | \u001b[0m6.117    \u001b[0m | \u001b[0m33.86    \u001b[0m | \u001b[0m7.201    \u001b[0m | \u001b[0m13.47    \u001b[0m | \u001b[0m167.8    \u001b[0m | \u001b[0m2.654    \u001b[0m | \u001b[0m0.7314   \u001b[0m | \u001b[0m0.8193   \u001b[0m |\n",
      "| \u001b[0m78       \u001b[0m | \u001b[0m0.96     \u001b[0m | \u001b[0m0.9203   \u001b[0m | \u001b[0m0.2665   \u001b[0m | \u001b[0m9.818    \u001b[0m | \u001b[0m36.75    \u001b[0m | \u001b[0m5.626    \u001b[0m | \u001b[0m14.4     \u001b[0m | \u001b[0m172.2    \u001b[0m | \u001b[0m5.641    \u001b[0m | \u001b[0m7.287    \u001b[0m | \u001b[0m0.9711   \u001b[0m |\n",
      "| \u001b[0m79       \u001b[0m | \u001b[0m0.9643   \u001b[0m | \u001b[0m0.9759   \u001b[0m | \u001b[0m0.1698   \u001b[0m | \u001b[0m9.409    \u001b[0m | \u001b[0m36.05    \u001b[0m | \u001b[0m3.651    \u001b[0m | \u001b[0m14.48    \u001b[0m | \u001b[0m171.6    \u001b[0m | \u001b[0m2.252    \u001b[0m | \u001b[0m2.159    \u001b[0m | \u001b[0m0.918    \u001b[0m |\n",
      "| \u001b[0m80       \u001b[0m | \u001b[0m0.9638   \u001b[0m | \u001b[0m0.9649   \u001b[0m | \u001b[0m0.369    \u001b[0m | \u001b[0m7.026    \u001b[0m | \u001b[0m28.0     \u001b[0m | \u001b[0m8.685    \u001b[0m | \u001b[0m10.14    \u001b[0m | \u001b[0m164.0    \u001b[0m | \u001b[0m9.817    \u001b[0m | \u001b[0m0.1981   \u001b[0m | \u001b[0m0.828    \u001b[0m |\n",
      "| \u001b[0m81       \u001b[0m | \u001b[0m0.9596   \u001b[0m | \u001b[0m0.7963   \u001b[0m | \u001b[0m0.04837  \u001b[0m | \u001b[0m6.158    \u001b[0m | \u001b[0m17.56    \u001b[0m | \u001b[0m11.09    \u001b[0m | \u001b[0m24.5     \u001b[0m | \u001b[0m318.9    \u001b[0m | \u001b[0m2.062    \u001b[0m | \u001b[0m1.731    \u001b[0m | \u001b[0m0.8686   \u001b[0m |\n",
      "| \u001b[95m82       \u001b[0m | \u001b[95m0.9677   \u001b[0m | \u001b[95m0.7826   \u001b[0m | \u001b[95m0.1717   \u001b[0m | \u001b[95m9.869    \u001b[0m | \u001b[95m32.97    \u001b[0m | \u001b[95m4.546    \u001b[0m | \u001b[95m10.62    \u001b[0m | \u001b[95m169.0    \u001b[0m | \u001b[95m1.036    \u001b[0m | \u001b[95m1.466    \u001b[0m | \u001b[95m0.7602   \u001b[0m |\n",
      "| \u001b[0m83       \u001b[0m | \u001b[0m0.9643   \u001b[0m | \u001b[0m0.7217   \u001b[0m | \u001b[0m0.06957  \u001b[0m | \u001b[0m9.155    \u001b[0m | \u001b[0m36.66    \u001b[0m | \u001b[0m2.948    \u001b[0m | \u001b[0m11.57    \u001b[0m | \u001b[0m167.9    \u001b[0m | \u001b[0m8.211    \u001b[0m | \u001b[0m3.772    \u001b[0m | \u001b[0m0.8417   \u001b[0m |\n",
      "| \u001b[0m84       \u001b[0m | \u001b[0m0.9624   \u001b[0m | \u001b[0m0.9166   \u001b[0m | \u001b[0m0.2793   \u001b[0m | \u001b[0m6.394    \u001b[0m | \u001b[0m29.86    \u001b[0m | \u001b[0m9.292    \u001b[0m | \u001b[0m11.32    \u001b[0m | \u001b[0m166.2    \u001b[0m | \u001b[0m7.691    \u001b[0m | \u001b[0m1.091    \u001b[0m | \u001b[0m0.9324   \u001b[0m |\n",
      "| \u001b[0m85       \u001b[0m | \u001b[0m0.9586   \u001b[0m | \u001b[0m0.8451   \u001b[0m | \u001b[0m0.01807  \u001b[0m | \u001b[0m7.963    \u001b[0m | \u001b[0m30.06    \u001b[0m | \u001b[0m2.86     \u001b[0m | \u001b[0m13.89    \u001b[0m | \u001b[0m167.6    \u001b[0m | \u001b[0m3.86     \u001b[0m | \u001b[0m3.882    \u001b[0m | \u001b[0m0.8025   \u001b[0m |\n",
      "| \u001b[0m86       \u001b[0m | \u001b[0m0.9624   \u001b[0m | \u001b[0m0.9852   \u001b[0m | \u001b[0m0.4599   \u001b[0m | \u001b[0m4.115    \u001b[0m | \u001b[0m35.42    \u001b[0m | \u001b[0m6.978    \u001b[0m | \u001b[0m11.71    \u001b[0m | \u001b[0m170.8    \u001b[0m | \u001b[0m2.847    \u001b[0m | \u001b[0m0.677    \u001b[0m | \u001b[0m0.938    \u001b[0m |\n",
      "| \u001b[0m87       \u001b[0m | \u001b[0m0.9677   \u001b[0m | \u001b[0m0.7828   \u001b[0m | \u001b[0m0.1717   \u001b[0m | \u001b[0m9.861    \u001b[0m | \u001b[0m32.97    \u001b[0m | \u001b[0m4.551    \u001b[0m | \u001b[0m10.62    \u001b[0m | \u001b[0m169.0    \u001b[0m | \u001b[0m1.043    \u001b[0m | \u001b[0m1.469    \u001b[0m | \u001b[0m0.7607   \u001b[0m |\n",
      "| \u001b[0m88       \u001b[0m | \u001b[0m0.9632   \u001b[0m | \u001b[0m0.7148   \u001b[0m | \u001b[0m0.356    \u001b[0m | \u001b[0m5.83     \u001b[0m | \u001b[0m35.25    \u001b[0m | \u001b[0m9.022    \u001b[0m | \u001b[0m12.66    \u001b[0m | \u001b[0m173.8    \u001b[0m | \u001b[0m4.862    \u001b[0m | \u001b[0m3.435    \u001b[0m | \u001b[0m0.7406   \u001b[0m |\n",
      "| \u001b[0m89       \u001b[0m | \u001b[0m0.9642   \u001b[0m | \u001b[0m0.9876   \u001b[0m | \u001b[0m0.03994  \u001b[0m | \u001b[0m5.257    \u001b[0m | \u001b[0m33.5     \u001b[0m | \u001b[0m8.996    \u001b[0m | \u001b[0m10.41    \u001b[0m | \u001b[0m169.1    \u001b[0m | \u001b[0m3.28     \u001b[0m | \u001b[0m4.022    \u001b[0m | \u001b[0m0.9779   \u001b[0m |\n",
      "| \u001b[0m90       \u001b[0m | \u001b[0m0.9664   \u001b[0m | \u001b[0m0.9119   \u001b[0m | \u001b[0m0.4684   \u001b[0m | \u001b[0m6.193    \u001b[0m | \u001b[0m32.24    \u001b[0m | \u001b[0m5.178    \u001b[0m | \u001b[0m10.45    \u001b[0m | \u001b[0m166.0    \u001b[0m | \u001b[0m1.683    \u001b[0m | \u001b[0m5.889    \u001b[0m | \u001b[0m0.7612   \u001b[0m |\n",
      "| \u001b[0m91       \u001b[0m | \u001b[0m0.963    \u001b[0m | \u001b[0m0.9032   \u001b[0m | \u001b[0m0.186    \u001b[0m | \u001b[0m6.679    \u001b[0m | \u001b[0m36.35    \u001b[0m | \u001b[0m7.58     \u001b[0m | \u001b[0m15.49    \u001b[0m | \u001b[0m168.6    \u001b[0m | \u001b[0m2.09     \u001b[0m | \u001b[0m0.8012   \u001b[0m | \u001b[0m0.758    \u001b[0m |\n",
      "| \u001b[0m92       \u001b[0m | \u001b[0m0.9608   \u001b[0m | \u001b[0m0.7513   \u001b[0m | \u001b[0m0.2386   \u001b[0m | \u001b[0m7.817    \u001b[0m | \u001b[0m34.93    \u001b[0m | \u001b[0m7.909    \u001b[0m | \u001b[0m16.87    \u001b[0m | \u001b[0m174.1    \u001b[0m | \u001b[0m4.467    \u001b[0m | \u001b[0m4.964    \u001b[0m | \u001b[0m0.7078   \u001b[0m |\n",
      "| \u001b[0m93       \u001b[0m | \u001b[0m0.9623   \u001b[0m | \u001b[0m0.7141   \u001b[0m | \u001b[0m0.3187   \u001b[0m | \u001b[0m8.082    \u001b[0m | \u001b[0m35.35    \u001b[0m | \u001b[0m10.58    \u001b[0m | \u001b[0m11.59    \u001b[0m | \u001b[0m169.7    \u001b[0m | \u001b[0m7.694    \u001b[0m | \u001b[0m2.96     \u001b[0m | \u001b[0m0.9611   \u001b[0m |\n",
      "| \u001b[0m94       \u001b[0m | \u001b[0m0.9656   \u001b[0m | \u001b[0m0.7967   \u001b[0m | \u001b[0m0.4556   \u001b[0m | \u001b[0m6.471    \u001b[0m | \u001b[0m38.28    \u001b[0m | \u001b[0m2.881    \u001b[0m | \u001b[0m12.05    \u001b[0m | \u001b[0m167.5    \u001b[0m | \u001b[0m1.061    \u001b[0m | \u001b[0m2.365    \u001b[0m | \u001b[0m0.8992   \u001b[0m |\n",
      "| \u001b[0m95       \u001b[0m | \u001b[0m0.9618   \u001b[0m | \u001b[0m0.76     \u001b[0m | \u001b[0m0.2282   \u001b[0m | \u001b[0m7.804    \u001b[0m | \u001b[0m34.5     \u001b[0m | \u001b[0m3.918    \u001b[0m | \u001b[0m15.42    \u001b[0m | \u001b[0m168.4    \u001b[0m | \u001b[0m3.991    \u001b[0m | \u001b[0m7.004    \u001b[0m | \u001b[0m0.9346   \u001b[0m |\n",
      "| \u001b[0m96       \u001b[0m | \u001b[0m0.963    \u001b[0m | \u001b[0m0.9636   \u001b[0m | \u001b[0m0.04517  \u001b[0m | \u001b[0m6.934    \u001b[0m | \u001b[0m35.49    \u001b[0m | \u001b[0m3.565    \u001b[0m | \u001b[0m10.41    \u001b[0m | \u001b[0m167.2    \u001b[0m | \u001b[0m5.785    \u001b[0m | \u001b[0m6.939    \u001b[0m | \u001b[0m0.8279   \u001b[0m |\n",
      "| \u001b[0m97       \u001b[0m | \u001b[0m0.9657   \u001b[0m | \u001b[0m0.8072   \u001b[0m | \u001b[0m0.4576   \u001b[0m | \u001b[0m8.455    \u001b[0m | \u001b[0m33.9     \u001b[0m | \u001b[0m7.629    \u001b[0m | \u001b[0m10.94    \u001b[0m | \u001b[0m173.1    \u001b[0m | \u001b[0m0.973    \u001b[0m | \u001b[0m3.176    \u001b[0m | \u001b[0m0.7737   \u001b[0m |\n",
      "| \u001b[0m98       \u001b[0m | \u001b[0m0.9655   \u001b[0m | \u001b[0m0.7585   \u001b[0m | \u001b[0m0.0455   \u001b[0m | \u001b[0m9.912    \u001b[0m | \u001b[0m28.15    \u001b[0m | \u001b[0m13.42    \u001b[0m | \u001b[0m14.46    \u001b[0m | \u001b[0m243.3    \u001b[0m | \u001b[0m2.016    \u001b[0m | \u001b[0m9.369    \u001b[0m | \u001b[0m0.9274   \u001b[0m |\n",
      "| \u001b[0m99       \u001b[0m | \u001b[0m0.9606   \u001b[0m | \u001b[0m0.9528   \u001b[0m | \u001b[0m0.413    \u001b[0m | \u001b[0m9.254    \u001b[0m | \u001b[0m39.56    \u001b[0m | \u001b[0m9.783    \u001b[0m | \u001b[0m12.18    \u001b[0m | \u001b[0m172.1    \u001b[0m | \u001b[0m9.658    \u001b[0m | \u001b[0m2.934    \u001b[0m | \u001b[0m0.8823   \u001b[0m |\n",
      "| \u001b[0m100      \u001b[0m | \u001b[0m0.9642   \u001b[0m | \u001b[0m0.7447   \u001b[0m | \u001b[0m0.02855  \u001b[0m | \u001b[0m8.285    \u001b[0m | \u001b[0m30.77    \u001b[0m | \u001b[0m6.818    \u001b[0m | \u001b[0m11.89    \u001b[0m | \u001b[0m184.6    \u001b[0m | \u001b[0m6.717    \u001b[0m | \u001b[0m8.133    \u001b[0m | \u001b[0m0.9499   \u001b[0m |\n",
      "| \u001b[0m101      \u001b[0m | \u001b[0m0.9595   \u001b[0m | \u001b[0m0.7397   \u001b[0m | \u001b[0m0.4695   \u001b[0m | \u001b[0m6.117    \u001b[0m | \u001b[0m33.28    \u001b[0m | \u001b[0m7.165    \u001b[0m | \u001b[0m15.16    \u001b[0m | \u001b[0m169.3    \u001b[0m | \u001b[0m7.056    \u001b[0m | \u001b[0m3.204    \u001b[0m | \u001b[0m0.9868   \u001b[0m |\n"
     ]
    },
    {
     "name": "stdout",
     "output_type": "stream",
     "text": [
      "| \u001b[0m102      \u001b[0m | \u001b[0m0.962    \u001b[0m | \u001b[0m0.9838   \u001b[0m | \u001b[0m0.1962   \u001b[0m | \u001b[0m4.866    \u001b[0m | \u001b[0m36.48    \u001b[0m | \u001b[0m10.19    \u001b[0m | \u001b[0m12.43    \u001b[0m | \u001b[0m175.2    \u001b[0m | \u001b[0m5.545    \u001b[0m | \u001b[0m2.995    \u001b[0m | \u001b[0m0.8317   \u001b[0m |\n",
      "| \u001b[0m103      \u001b[0m | \u001b[0m0.9546   \u001b[0m | \u001b[0m0.8829   \u001b[0m | \u001b[0m0.0174   \u001b[0m | \u001b[0m7.502    \u001b[0m | \u001b[0m34.58    \u001b[0m | \u001b[0m7.604    \u001b[0m | \u001b[0m18.07    \u001b[0m | \u001b[0m175.5    \u001b[0m | \u001b[0m3.246    \u001b[0m | \u001b[0m7.967    \u001b[0m | \u001b[0m0.8495   \u001b[0m |\n",
      "| \u001b[0m104      \u001b[0m | \u001b[0m0.963    \u001b[0m | \u001b[0m0.9833   \u001b[0m | \u001b[0m0.3904   \u001b[0m | \u001b[0m9.261    \u001b[0m | \u001b[0m38.67    \u001b[0m | \u001b[0m6.14     \u001b[0m | \u001b[0m13.04    \u001b[0m | \u001b[0m170.4    \u001b[0m | \u001b[0m4.575    \u001b[0m | \u001b[0m3.025    \u001b[0m | \u001b[0m0.8186   \u001b[0m |\n",
      "| \u001b[0m105      \u001b[0m | \u001b[0m0.9628   \u001b[0m | \u001b[0m0.8645   \u001b[0m | \u001b[0m0.1616   \u001b[0m | \u001b[0m7.127    \u001b[0m | \u001b[0m28.31    \u001b[0m | \u001b[0m11.53    \u001b[0m | \u001b[0m12.21    \u001b[0m | \u001b[0m165.5    \u001b[0m | \u001b[0m7.607    \u001b[0m | \u001b[0m0.9506   \u001b[0m | \u001b[0m0.8934   \u001b[0m |\n",
      "| \u001b[0m106      \u001b[0m | \u001b[0m0.9632   \u001b[0m | \u001b[0m0.8597   \u001b[0m | \u001b[0m0.1734   \u001b[0m | \u001b[0m6.426    \u001b[0m | \u001b[0m6.559    \u001b[0m | \u001b[0m7.777    \u001b[0m | \u001b[0m10.72    \u001b[0m | \u001b[0m313.5    \u001b[0m | \u001b[0m6.366    \u001b[0m | \u001b[0m1.068    \u001b[0m | \u001b[0m0.8583   \u001b[0m |\n",
      "| \u001b[0m107      \u001b[0m | \u001b[0m0.9596   \u001b[0m | \u001b[0m0.9928   \u001b[0m | \u001b[0m0.5      \u001b[0m | \u001b[0m9.277    \u001b[0m | \u001b[0m33.33    \u001b[0m | \u001b[0m8.259    \u001b[0m | \u001b[0m13.63    \u001b[0m | \u001b[0m172.1    \u001b[0m | \u001b[0m7.687    \u001b[0m | \u001b[0m2.983    \u001b[0m | \u001b[0m0.9996   \u001b[0m |\n",
      "| \u001b[0m108      \u001b[0m | \u001b[0m0.961    \u001b[0m | \u001b[0m0.8313   \u001b[0m | \u001b[0m0.4136   \u001b[0m | \u001b[0m4.728    \u001b[0m | \u001b[0m39.03    \u001b[0m | \u001b[0m7.543    \u001b[0m | \u001b[0m15.55    \u001b[0m | \u001b[0m166.5    \u001b[0m | \u001b[0m3.493    \u001b[0m | \u001b[0m3.939    \u001b[0m | \u001b[0m0.7939   \u001b[0m |\n",
      "| \u001b[0m109      \u001b[0m | \u001b[0m0.9608   \u001b[0m | \u001b[0m0.8444   \u001b[0m | \u001b[0m0.1736   \u001b[0m | \u001b[0m4.116    \u001b[0m | \u001b[0m32.05    \u001b[0m | \u001b[0m6.866    \u001b[0m | \u001b[0m16.84    \u001b[0m | \u001b[0m168.7    \u001b[0m | \u001b[0m2.941    \u001b[0m | \u001b[0m0.5305   \u001b[0m | \u001b[0m0.8571   \u001b[0m |\n",
      "| \u001b[0m110      \u001b[0m | \u001b[0m0.9617   \u001b[0m | \u001b[0m0.9266   \u001b[0m | \u001b[0m0.3458   \u001b[0m | \u001b[0m5.137    \u001b[0m | \u001b[0m38.95    \u001b[0m | \u001b[0m7.926    \u001b[0m | \u001b[0m12.67    \u001b[0m | \u001b[0m175.4    \u001b[0m | \u001b[0m6.022    \u001b[0m | \u001b[0m3.891    \u001b[0m | \u001b[0m0.9836   \u001b[0m |\n",
      "| \u001b[0m111      \u001b[0m | \u001b[0m0.9636   \u001b[0m | \u001b[0m0.9659   \u001b[0m | \u001b[0m0.2455   \u001b[0m | \u001b[0m8.2      \u001b[0m | \u001b[0m32.92    \u001b[0m | \u001b[0m6.119    \u001b[0m | \u001b[0m12.27    \u001b[0m | \u001b[0m171.0    \u001b[0m | \u001b[0m3.913    \u001b[0m | \u001b[0m2.549    \u001b[0m | \u001b[0m0.9476   \u001b[0m |\n",
      "| \u001b[0m112      \u001b[0m | \u001b[0m0.9609   \u001b[0m | \u001b[0m0.842    \u001b[0m | \u001b[0m0.05495  \u001b[0m | \u001b[0m6.439    \u001b[0m | \u001b[0m34.24    \u001b[0m | \u001b[0m6.778    \u001b[0m | \u001b[0m12.79    \u001b[0m | \u001b[0m183.0    \u001b[0m | \u001b[0m9.638    \u001b[0m | \u001b[0m2.556    \u001b[0m | \u001b[0m0.9335   \u001b[0m |\n",
      "| \u001b[0m113      \u001b[0m | \u001b[0m0.9613   \u001b[0m | \u001b[0m0.8533   \u001b[0m | \u001b[0m0.04077  \u001b[0m | \u001b[0m4.898    \u001b[0m | \u001b[0m31.06    \u001b[0m | \u001b[0m8.543    \u001b[0m | \u001b[0m13.61    \u001b[0m | \u001b[0m182.8    \u001b[0m | \u001b[0m5.538    \u001b[0m | \u001b[0m7.91     \u001b[0m | \u001b[0m0.7952   \u001b[0m |\n",
      "| \u001b[0m114      \u001b[0m | \u001b[0m0.965    \u001b[0m | \u001b[0m0.7005   \u001b[0m | \u001b[0m0.1862   \u001b[0m | \u001b[0m9.076    \u001b[0m | \u001b[0m34.95    \u001b[0m | \u001b[0m8.712    \u001b[0m | \u001b[0m10.9     \u001b[0m | \u001b[0m167.0    \u001b[0m | \u001b[0m2.91     \u001b[0m | \u001b[0m5.774    \u001b[0m | \u001b[0m0.9392   \u001b[0m |\n",
      "| \u001b[0m115      \u001b[0m | \u001b[0m0.9655   \u001b[0m | \u001b[0m0.8617   \u001b[0m | \u001b[0m0.2974   \u001b[0m | \u001b[0m9.606    \u001b[0m | \u001b[0m33.79    \u001b[0m | \u001b[0m8.164    \u001b[0m | \u001b[0m10.55    \u001b[0m | \u001b[0m171.5    \u001b[0m | \u001b[0m2.63     \u001b[0m | \u001b[0m5.004    \u001b[0m | \u001b[0m0.9764   \u001b[0m |\n",
      "| \u001b[0m116      \u001b[0m | \u001b[0m0.9618   \u001b[0m | \u001b[0m0.7657   \u001b[0m | \u001b[0m0.2659   \u001b[0m | \u001b[0m7.938    \u001b[0m | \u001b[0m34.31    \u001b[0m | \u001b[0m9.39     \u001b[0m | \u001b[0m15.27    \u001b[0m | \u001b[0m169.9    \u001b[0m | \u001b[0m3.114    \u001b[0m | \u001b[0m6.606    \u001b[0m | \u001b[0m0.9677   \u001b[0m |\n",
      "| \u001b[0m117      \u001b[0m | \u001b[0m0.9624   \u001b[0m | \u001b[0m0.8325   \u001b[0m | \u001b[0m0.4677   \u001b[0m | \u001b[0m7.858    \u001b[0m | \u001b[0m38.38    \u001b[0m | \u001b[0m9.011    \u001b[0m | \u001b[0m13.35    \u001b[0m | \u001b[0m175.2    \u001b[0m | \u001b[0m5.786    \u001b[0m | \u001b[0m3.988    \u001b[0m | \u001b[0m0.8955   \u001b[0m |\n",
      "| \u001b[0m118      \u001b[0m | \u001b[0m0.9613   \u001b[0m | \u001b[0m0.8158   \u001b[0m | \u001b[0m0.05852  \u001b[0m | \u001b[0m5.369    \u001b[0m | \u001b[0m34.62    \u001b[0m | \u001b[0m5.727    \u001b[0m | \u001b[0m11.38    \u001b[0m | \u001b[0m181.8    \u001b[0m | \u001b[0m9.781    \u001b[0m | \u001b[0m3.595    \u001b[0m | \u001b[0m0.9721   \u001b[0m |\n",
      "| \u001b[0m119      \u001b[0m | \u001b[0m0.9602   \u001b[0m | \u001b[0m0.9985   \u001b[0m | \u001b[0m0.0656   \u001b[0m | \u001b[0m9.066    \u001b[0m | \u001b[0m35.95    \u001b[0m | \u001b[0m6.173    \u001b[0m | \u001b[0m15.64    \u001b[0m | \u001b[0m168.2    \u001b[0m | \u001b[0m5.43     \u001b[0m | \u001b[0m1.918    \u001b[0m | \u001b[0m0.7183   \u001b[0m |\n",
      "| \u001b[0m120      \u001b[0m | \u001b[0m0.966    \u001b[0m | \u001b[0m0.7379   \u001b[0m | \u001b[0m0.04981  \u001b[0m | \u001b[0m8.31     \u001b[0m | \u001b[0m33.6     \u001b[0m | \u001b[0m8.467    \u001b[0m | \u001b[0m15.11    \u001b[0m | \u001b[0m165.2    \u001b[0m | \u001b[0m1.812    \u001b[0m | \u001b[0m3.345    \u001b[0m | \u001b[0m0.955    \u001b[0m |\n",
      "| \u001b[0m121      \u001b[0m | \u001b[0m0.9625   \u001b[0m | \u001b[0m0.9265   \u001b[0m | \u001b[0m0.3302   \u001b[0m | \u001b[0m9.444    \u001b[0m | \u001b[0m32.81    \u001b[0m | \u001b[0m9.348    \u001b[0m | \u001b[0m11.64    \u001b[0m | \u001b[0m182.8    \u001b[0m | \u001b[0m5.91     \u001b[0m | \u001b[0m3.984    \u001b[0m | \u001b[0m0.8487   \u001b[0m |\n",
      "| \u001b[0m122      \u001b[0m | \u001b[0m0.9645   \u001b[0m | \u001b[0m0.8969   \u001b[0m | \u001b[0m0.4659   \u001b[0m | \u001b[0m7.808    \u001b[0m | \u001b[0m31.23    \u001b[0m | \u001b[0m4.515    \u001b[0m | \u001b[0m11.87    \u001b[0m | \u001b[0m166.5    \u001b[0m | \u001b[0m2.074    \u001b[0m | \u001b[0m6.017    \u001b[0m | \u001b[0m0.7891   \u001b[0m |\n",
      "| \u001b[0m123      \u001b[0m | \u001b[0m0.9609   \u001b[0m | \u001b[0m0.9099   \u001b[0m | \u001b[0m0.4172   \u001b[0m | \u001b[0m8.986    \u001b[0m | \u001b[0m37.24    \u001b[0m | \u001b[0m5.103    \u001b[0m | \u001b[0m14.64    \u001b[0m | \u001b[0m170.6    \u001b[0m | \u001b[0m5.488    \u001b[0m | \u001b[0m6.621    \u001b[0m | \u001b[0m0.945    \u001b[0m |\n",
      "| \u001b[0m124      \u001b[0m | \u001b[0m0.9676   \u001b[0m | \u001b[0m0.7181   \u001b[0m | \u001b[0m0.494    \u001b[0m | \u001b[0m7.457    \u001b[0m | \u001b[0m35.58    \u001b[0m | \u001b[0m2.101    \u001b[0m | \u001b[0m10.21    \u001b[0m | \u001b[0m166.1    \u001b[0m | \u001b[0m0.906    \u001b[0m | \u001b[0m1.088    \u001b[0m | \u001b[0m0.9178   \u001b[0m |\n",
      "| \u001b[0m125      \u001b[0m | \u001b[0m0.9639   \u001b[0m | \u001b[0m0.8888   \u001b[0m | \u001b[0m0.04588  \u001b[0m | \u001b[0m7.941    \u001b[0m | \u001b[0m36.48    \u001b[0m | \u001b[0m7.703    \u001b[0m | \u001b[0m12.95    \u001b[0m | \u001b[0m173.1    \u001b[0m | \u001b[0m3.571    \u001b[0m | \u001b[0m2.682    \u001b[0m | \u001b[0m0.9779   \u001b[0m |\n",
      "| \u001b[0m126      \u001b[0m | \u001b[0m0.9622   \u001b[0m | \u001b[0m0.8978   \u001b[0m | \u001b[0m0.2109   \u001b[0m | \u001b[0m7.838    \u001b[0m | \u001b[0m34.53    \u001b[0m | \u001b[0m7.118    \u001b[0m | \u001b[0m12.18    \u001b[0m | \u001b[0m173.4    \u001b[0m | \u001b[0m7.12     \u001b[0m | \u001b[0m3.221    \u001b[0m | \u001b[0m0.9588   \u001b[0m |\n",
      "| \u001b[0m127      \u001b[0m | \u001b[0m0.9649   \u001b[0m | \u001b[0m0.8783   \u001b[0m | \u001b[0m0.1421   \u001b[0m | \u001b[0m4.879    \u001b[0m | \u001b[0m32.65    \u001b[0m | \u001b[0m5.631    \u001b[0m | \u001b[0m11.57    \u001b[0m | \u001b[0m171.2    \u001b[0m | \u001b[0m1.458    \u001b[0m | \u001b[0m3.527    \u001b[0m | \u001b[0m0.9538   \u001b[0m |\n",
      "| \u001b[0m128      \u001b[0m | \u001b[0m0.9631   \u001b[0m | \u001b[0m0.8365   \u001b[0m | \u001b[0m0.2775   \u001b[0m | \u001b[0m6.77     \u001b[0m | \u001b[0m31.39    \u001b[0m | \u001b[0m7.819    \u001b[0m | \u001b[0m12.25    \u001b[0m | \u001b[0m167.4    \u001b[0m | \u001b[0m4.193    \u001b[0m | \u001b[0m3.086    \u001b[0m | \u001b[0m0.7315   \u001b[0m |\n",
      "| \u001b[0m129      \u001b[0m | \u001b[0m0.9615   \u001b[0m | \u001b[0m0.8778   \u001b[0m | \u001b[0m0.1884   \u001b[0m | \u001b[0m8.31     \u001b[0m | \u001b[0m32.27    \u001b[0m | \u001b[0m6.075    \u001b[0m | \u001b[0m13.39    \u001b[0m | \u001b[0m165.3    \u001b[0m | \u001b[0m4.084    \u001b[0m | \u001b[0m8.754    \u001b[0m | \u001b[0m0.7992   \u001b[0m |\n",
      "| \u001b[0m130      \u001b[0m | \u001b[0m0.9622   \u001b[0m | \u001b[0m0.797    \u001b[0m | \u001b[0m0.08352  \u001b[0m | \u001b[0m5.497    \u001b[0m | \u001b[0m36.94    \u001b[0m | \u001b[0m5.941    \u001b[0m | \u001b[0m17.75    \u001b[0m | \u001b[0m167.1    \u001b[0m | \u001b[0m3.245    \u001b[0m | \u001b[0m1.781    \u001b[0m | \u001b[0m0.878    \u001b[0m |\n",
      "| \u001b[0m131      \u001b[0m | \u001b[0m0.9606   \u001b[0m | \u001b[0m0.8686   \u001b[0m | \u001b[0m0.1773   \u001b[0m | \u001b[0m5.133    \u001b[0m | \u001b[0m35.11    \u001b[0m | \u001b[0m9.884    \u001b[0m | \u001b[0m11.06    \u001b[0m | \u001b[0m172.3    \u001b[0m | \u001b[0m8.921    \u001b[0m | \u001b[0m5.851    \u001b[0m | \u001b[0m0.7496   \u001b[0m |\n",
      "| \u001b[0m132      \u001b[0m | \u001b[0m0.9639   \u001b[0m | \u001b[0m0.9464   \u001b[0m | \u001b[0m0.2806   \u001b[0m | \u001b[0m9.219    \u001b[0m | \u001b[0m39.17    \u001b[0m | \u001b[0m4.648    \u001b[0m | \u001b[0m13.2     \u001b[0m | \u001b[0m171.8    \u001b[0m | \u001b[0m0.2238   \u001b[0m | \u001b[0m6.366    \u001b[0m | \u001b[0m0.9429   \u001b[0m |\n",
      "| \u001b[0m133      \u001b[0m | \u001b[0m0.9601   \u001b[0m | \u001b[0m0.8107   \u001b[0m | \u001b[0m0.01349  \u001b[0m | \u001b[0m7.146    \u001b[0m | \u001b[0m34.66    \u001b[0m | \u001b[0m14.9     \u001b[0m | \u001b[0m20.37    \u001b[0m | \u001b[0m404.1    \u001b[0m | \u001b[0m4.623    \u001b[0m | \u001b[0m0.5331   \u001b[0m | \u001b[0m0.8399   \u001b[0m |\n",
      "| \u001b[0m134      \u001b[0m | \u001b[0m0.9643   \u001b[0m | \u001b[0m0.7607   \u001b[0m | \u001b[0m0.4058   \u001b[0m | \u001b[0m3.683    \u001b[0m | \u001b[0m31.37    \u001b[0m | \u001b[0m8.199    \u001b[0m | \u001b[0m11.7     \u001b[0m | \u001b[0m168.1    \u001b[0m | \u001b[0m2.173    \u001b[0m | \u001b[0m2.621    \u001b[0m | \u001b[0m0.762    \u001b[0m |\n",
      "| \u001b[0m135      \u001b[0m | \u001b[0m0.965    \u001b[0m | \u001b[0m0.9544   \u001b[0m | \u001b[0m0.212    \u001b[0m | \u001b[0m8.884    \u001b[0m | \u001b[0m32.66    \u001b[0m | \u001b[0m7.483    \u001b[0m | \u001b[0m10.63    \u001b[0m | \u001b[0m166.4    \u001b[0m | \u001b[0m3.059    \u001b[0m | \u001b[0m5.388    \u001b[0m | \u001b[0m0.9689   \u001b[0m |\n"
     ]
    },
    {
     "name": "stdout",
     "output_type": "stream",
     "text": [
      "| \u001b[0m136      \u001b[0m | \u001b[0m0.9642   \u001b[0m | \u001b[0m0.8663   \u001b[0m | \u001b[0m0.3795   \u001b[0m | \u001b[0m7.181    \u001b[0m | \u001b[0m34.65    \u001b[0m | \u001b[0m5.207    \u001b[0m | \u001b[0m12.35    \u001b[0m | \u001b[0m163.9    \u001b[0m | \u001b[0m2.266    \u001b[0m | \u001b[0m3.448    \u001b[0m | \u001b[0m0.7936   \u001b[0m |\n",
      "| \u001b[0m137      \u001b[0m | \u001b[0m0.962    \u001b[0m | \u001b[0m0.8313   \u001b[0m | \u001b[0m0.3995   \u001b[0m | \u001b[0m3.241    \u001b[0m | \u001b[0m32.71    \u001b[0m | \u001b[0m5.289    \u001b[0m | \u001b[0m12.05    \u001b[0m | \u001b[0m168.1    \u001b[0m | \u001b[0m3.083    \u001b[0m | \u001b[0m2.499    \u001b[0m | \u001b[0m0.8076   \u001b[0m |\n",
      "| \u001b[0m138      \u001b[0m | \u001b[0m0.9638   \u001b[0m | \u001b[0m0.8561   \u001b[0m | \u001b[0m0.4082   \u001b[0m | \u001b[0m9.756    \u001b[0m | \u001b[0m39.26    \u001b[0m | \u001b[0m6.351    \u001b[0m | \u001b[0m10.26    \u001b[0m | \u001b[0m171.8    \u001b[0m | \u001b[0m5.517    \u001b[0m | \u001b[0m1.631    \u001b[0m | \u001b[0m0.9253   \u001b[0m |\n",
      "| \u001b[0m139      \u001b[0m | \u001b[0m0.966    \u001b[0m | \u001b[0m0.9063   \u001b[0m | \u001b[0m0.3776   \u001b[0m | \u001b[0m6.435    \u001b[0m | \u001b[0m30.95    \u001b[0m | \u001b[0m5.567    \u001b[0m | \u001b[0m11.14    \u001b[0m | \u001b[0m170.3    \u001b[0m | \u001b[0m3.876    \u001b[0m | \u001b[0m0.4877   \u001b[0m | \u001b[0m0.9526   \u001b[0m |\n",
      "| \u001b[0m140      \u001b[0m | \u001b[0m0.9633   \u001b[0m | \u001b[0m0.9155   \u001b[0m | \u001b[0m0.12     \u001b[0m | \u001b[0m8.292    \u001b[0m | \u001b[0m33.68    \u001b[0m | \u001b[0m7.845    \u001b[0m | \u001b[0m10.42    \u001b[0m | \u001b[0m169.5    \u001b[0m | \u001b[0m6.215    \u001b[0m | \u001b[0m2.491    \u001b[0m | \u001b[0m0.727    \u001b[0m |\n",
      "| \u001b[0m141      \u001b[0m | \u001b[0m0.9595   \u001b[0m | \u001b[0m0.8005   \u001b[0m | \u001b[0m0.2066   \u001b[0m | \u001b[0m5.017    \u001b[0m | \u001b[0m35.24    \u001b[0m | \u001b[0m7.461    \u001b[0m | \u001b[0m16.67    \u001b[0m | \u001b[0m171.8    \u001b[0m | \u001b[0m6.342    \u001b[0m | \u001b[0m5.239    \u001b[0m | \u001b[0m0.7649   \u001b[0m |\n",
      "| \u001b[0m142      \u001b[0m | \u001b[0m0.9642   \u001b[0m | \u001b[0m0.717    \u001b[0m | \u001b[0m0.4491   \u001b[0m | \u001b[0m6.875    \u001b[0m | \u001b[0m29.23    \u001b[0m | \u001b[0m5.713    \u001b[0m | \u001b[0m11.64    \u001b[0m | \u001b[0m168.7    \u001b[0m | \u001b[0m3.669    \u001b[0m | \u001b[0m1.196    \u001b[0m | \u001b[0m0.9181   \u001b[0m |\n",
      "| \u001b[0m143      \u001b[0m | \u001b[0m0.9653   \u001b[0m | \u001b[0m0.7518   \u001b[0m | \u001b[0m0.2566   \u001b[0m | \u001b[0m7.488    \u001b[0m | \u001b[0m37.12    \u001b[0m | \u001b[0m9.224    \u001b[0m | \u001b[0m13.57    \u001b[0m | \u001b[0m170.2    \u001b[0m | \u001b[0m1.598    \u001b[0m | \u001b[0m2.119    \u001b[0m | \u001b[0m0.8105   \u001b[0m |\n",
      "| \u001b[0m144      \u001b[0m | \u001b[0m0.9625   \u001b[0m | \u001b[0m0.9079   \u001b[0m | \u001b[0m0.4041   \u001b[0m | \u001b[0m8.759    \u001b[0m | \u001b[0m36.04    \u001b[0m | \u001b[0m2.706    \u001b[0m | \u001b[0m11.77    \u001b[0m | \u001b[0m167.4    \u001b[0m | \u001b[0m6.233    \u001b[0m | \u001b[0m2.643    \u001b[0m | \u001b[0m0.7952   \u001b[0m |\n",
      "| \u001b[0m145      \u001b[0m | \u001b[0m0.9615   \u001b[0m | \u001b[0m0.9341   \u001b[0m | \u001b[0m0.2169   \u001b[0m | \u001b[0m6.749    \u001b[0m | \u001b[0m36.97    \u001b[0m | \u001b[0m7.185    \u001b[0m | \u001b[0m15.57    \u001b[0m | \u001b[0m175.1    \u001b[0m | \u001b[0m4.1      \u001b[0m | \u001b[0m2.941    \u001b[0m | \u001b[0m0.7434   \u001b[0m |\n",
      "| \u001b[0m146      \u001b[0m | \u001b[0m0.9662   \u001b[0m | \u001b[0m0.8035   \u001b[0m | \u001b[0m0.1533   \u001b[0m | \u001b[0m9.495    \u001b[0m | \u001b[0m30.11    \u001b[0m | \u001b[0m5.531    \u001b[0m | \u001b[0m11.06    \u001b[0m | \u001b[0m171.3    \u001b[0m | \u001b[0m2.347    \u001b[0m | \u001b[0m1.67     \u001b[0m | \u001b[0m0.749    \u001b[0m |\n",
      "| \u001b[0m147      \u001b[0m | \u001b[0m0.957    \u001b[0m | \u001b[0m0.9951   \u001b[0m | \u001b[0m0.4554   \u001b[0m | \u001b[0m3.098    \u001b[0m | \u001b[0m35.49    \u001b[0m | \u001b[0m5.749    \u001b[0m | \u001b[0m16.46    \u001b[0m | \u001b[0m168.0    \u001b[0m | \u001b[0m6.729    \u001b[0m | \u001b[0m2.699    \u001b[0m | \u001b[0m0.9204   \u001b[0m |\n",
      "| \u001b[0m148      \u001b[0m | \u001b[0m0.9634   \u001b[0m | \u001b[0m0.9932   \u001b[0m | \u001b[0m0.4256   \u001b[0m | \u001b[0m5.127    \u001b[0m | \u001b[0m31.23    \u001b[0m | \u001b[0m3.637    \u001b[0m | \u001b[0m11.63    \u001b[0m | \u001b[0m171.4    \u001b[0m | \u001b[0m4.95     \u001b[0m | \u001b[0m1.055    \u001b[0m | \u001b[0m0.7083   \u001b[0m |\n",
      "| \u001b[0m149      \u001b[0m | \u001b[0m0.9635   \u001b[0m | \u001b[0m0.7509   \u001b[0m | \u001b[0m0.16     \u001b[0m | \u001b[0m4.948    \u001b[0m | \u001b[0m36.47    \u001b[0m | \u001b[0m5.405    \u001b[0m | \u001b[0m12.5     \u001b[0m | \u001b[0m172.1    \u001b[0m | \u001b[0m3.656    \u001b[0m | \u001b[0m7.69     \u001b[0m | \u001b[0m0.9044   \u001b[0m |\n",
      "| \u001b[0m150      \u001b[0m | \u001b[0m0.9611   \u001b[0m | \u001b[0m0.8182   \u001b[0m | \u001b[0m0.4095   \u001b[0m | \u001b[0m5.364    \u001b[0m | \u001b[0m35.31    \u001b[0m | \u001b[0m5.116    \u001b[0m | \u001b[0m13.88    \u001b[0m | \u001b[0m172.4    \u001b[0m | \u001b[0m6.96     \u001b[0m | \u001b[0m1.821    \u001b[0m | \u001b[0m0.9376   \u001b[0m |\n",
      "| \u001b[0m151      \u001b[0m | \u001b[0m0.9632   \u001b[0m | \u001b[0m0.7617   \u001b[0m | \u001b[0m0.3783   \u001b[0m | \u001b[0m9.526    \u001b[0m | \u001b[0m33.2     \u001b[0m | \u001b[0m5.706    \u001b[0m | \u001b[0m14.35    \u001b[0m | \u001b[0m162.2    \u001b[0m | \u001b[0m0.5028   \u001b[0m | \u001b[0m3.86     \u001b[0m | \u001b[0m0.7031   \u001b[0m |\n",
      "| \u001b[0m152      \u001b[0m | \u001b[0m0.9605   \u001b[0m | \u001b[0m0.7017   \u001b[0m | \u001b[0m0.4771   \u001b[0m | \u001b[0m5.277    \u001b[0m | \u001b[0m33.89    \u001b[0m | \u001b[0m9.732    \u001b[0m | \u001b[0m14.78    \u001b[0m | \u001b[0m167.3    \u001b[0m | \u001b[0m5.019    \u001b[0m | \u001b[0m5.627    \u001b[0m | \u001b[0m0.7583   \u001b[0m |\n",
      "| \u001b[0m153      \u001b[0m | \u001b[0m0.9641   \u001b[0m | \u001b[0m0.8291   \u001b[0m | \u001b[0m0.1577   \u001b[0m | \u001b[0m9.077    \u001b[0m | \u001b[0m33.26    \u001b[0m | \u001b[0m8.45     \u001b[0m | \u001b[0m13.19    \u001b[0m | \u001b[0m166.8    \u001b[0m | \u001b[0m3.134    \u001b[0m | \u001b[0m3.762    \u001b[0m | \u001b[0m0.8229   \u001b[0m |\n",
      "| \u001b[0m154      \u001b[0m | \u001b[0m0.9646   \u001b[0m | \u001b[0m0.7904   \u001b[0m | \u001b[0m0.2439   \u001b[0m | \u001b[0m8.546    \u001b[0m | \u001b[0m39.36    \u001b[0m | \u001b[0m7.622    \u001b[0m | \u001b[0m10.05    \u001b[0m | \u001b[0m174.4    \u001b[0m | \u001b[0m6.206    \u001b[0m | \u001b[0m2.715    \u001b[0m | \u001b[0m0.9957   \u001b[0m |\n",
      "| \u001b[0m155      \u001b[0m | \u001b[0m0.963    \u001b[0m | \u001b[0m0.9812   \u001b[0m | \u001b[0m0.205    \u001b[0m | \u001b[0m6.335    \u001b[0m | \u001b[0m37.81    \u001b[0m | \u001b[0m11.44    \u001b[0m | \u001b[0m14.98    \u001b[0m | \u001b[0m171.5    \u001b[0m | \u001b[0m1.292    \u001b[0m | \u001b[0m3.093    \u001b[0m | \u001b[0m0.7014   \u001b[0m |\n",
      "| \u001b[0m156      \u001b[0m | \u001b[0m0.9611   \u001b[0m | \u001b[0m0.8243   \u001b[0m | \u001b[0m0.4146   \u001b[0m | \u001b[0m5.84     \u001b[0m | \u001b[0m35.12    \u001b[0m | \u001b[0m5.326    \u001b[0m | \u001b[0m13.02    \u001b[0m | \u001b[0m168.9    \u001b[0m | \u001b[0m4.273    \u001b[0m | \u001b[0m6.514    \u001b[0m | \u001b[0m0.9494   \u001b[0m |\n",
      "| \u001b[0m157      \u001b[0m | \u001b[0m0.9638   \u001b[0m | \u001b[0m0.9505   \u001b[0m | \u001b[0m0.04441  \u001b[0m | \u001b[0m4.766    \u001b[0m | \u001b[0m33.07    \u001b[0m | \u001b[0m3.495    \u001b[0m | \u001b[0m10.33    \u001b[0m | \u001b[0m173.0    \u001b[0m | \u001b[0m7.271    \u001b[0m | \u001b[0m0.9459   \u001b[0m | \u001b[0m0.7749   \u001b[0m |\n",
      "| \u001b[0m158      \u001b[0m | \u001b[0m0.961    \u001b[0m | \u001b[0m0.8992   \u001b[0m | \u001b[0m0.2156   \u001b[0m | \u001b[0m6.321    \u001b[0m | \u001b[0m34.81    \u001b[0m | \u001b[0m6.179    \u001b[0m | \u001b[0m12.59    \u001b[0m | \u001b[0m169.0    \u001b[0m | \u001b[0m8.318    \u001b[0m | \u001b[0m2.817    \u001b[0m | \u001b[0m0.8362   \u001b[0m |\n",
      "| \u001b[0m159      \u001b[0m | \u001b[0m0.961    \u001b[0m | \u001b[0m0.8584   \u001b[0m | \u001b[0m0.3548   \u001b[0m | \u001b[0m8.664    \u001b[0m | \u001b[0m41.01    \u001b[0m | \u001b[0m7.018    \u001b[0m | \u001b[0m15.27    \u001b[0m | \u001b[0m166.4    \u001b[0m | \u001b[0m6.685    \u001b[0m | \u001b[0m3.025    \u001b[0m | \u001b[0m0.9842   \u001b[0m |\n",
      "| \u001b[0m160      \u001b[0m | \u001b[0m0.9621   \u001b[0m | \u001b[0m0.7737   \u001b[0m | \u001b[0m0.4736   \u001b[0m | \u001b[0m3.417    \u001b[0m | \u001b[0m32.04    \u001b[0m | \u001b[0m8.287    \u001b[0m | \u001b[0m10.65    \u001b[0m | \u001b[0m169.5    \u001b[0m | \u001b[0m5.789    \u001b[0m | \u001b[0m0.7277   \u001b[0m | \u001b[0m0.7972   \u001b[0m |\n",
      "| \u001b[0m161      \u001b[0m | \u001b[0m0.9609   \u001b[0m | \u001b[0m0.9913   \u001b[0m | \u001b[0m0.1964   \u001b[0m | \u001b[0m4.132    \u001b[0m | \u001b[0m32.93    \u001b[0m | \u001b[0m2.259    \u001b[0m | \u001b[0m11.05    \u001b[0m | \u001b[0m176.4    \u001b[0m | \u001b[0m8.538    \u001b[0m | \u001b[0m1.91     \u001b[0m | \u001b[0m0.717    \u001b[0m |\n",
      "| \u001b[0m162      \u001b[0m | \u001b[0m0.9305   \u001b[0m | \u001b[0m0.8968   \u001b[0m | \u001b[0m0.004123 \u001b[0m | \u001b[0m5.917    \u001b[0m | \u001b[0m33.17    \u001b[0m | \u001b[0m10.44    \u001b[0m | \u001b[0m12.28    \u001b[0m | \u001b[0m181.5    \u001b[0m | \u001b[0m7.82     \u001b[0m | \u001b[0m3.207    \u001b[0m | \u001b[0m0.9227   \u001b[0m |\n",
      "| \u001b[0m163      \u001b[0m | \u001b[0m0.9615   \u001b[0m | \u001b[0m0.7225   \u001b[0m | \u001b[0m0.3162   \u001b[0m | \u001b[0m5.974    \u001b[0m | \u001b[0m41.22    \u001b[0m | \u001b[0m5.884    \u001b[0m | \u001b[0m13.29    \u001b[0m | \u001b[0m166.9    \u001b[0m | \u001b[0m6.126    \u001b[0m | \u001b[0m3.539    \u001b[0m | \u001b[0m0.872    \u001b[0m |\n",
      "| \u001b[0m164      \u001b[0m | \u001b[0m0.9641   \u001b[0m | \u001b[0m0.9241   \u001b[0m | \u001b[0m0.06448  \u001b[0m | \u001b[0m6.685    \u001b[0m | \u001b[0m32.26    \u001b[0m | \u001b[0m10.01    \u001b[0m | \u001b[0m12.23    \u001b[0m | \u001b[0m164.7    \u001b[0m | \u001b[0m2.894    \u001b[0m | \u001b[0m4.192    \u001b[0m | \u001b[0m0.7386   \u001b[0m |\n",
      "| \u001b[0m165      \u001b[0m | \u001b[0m0.9633   \u001b[0m | \u001b[0m0.961    \u001b[0m | \u001b[0m0.09582  \u001b[0m | \u001b[0m4.012    \u001b[0m | \u001b[0m31.77    \u001b[0m | \u001b[0m10.21    \u001b[0m | \u001b[0m12.5     \u001b[0m | \u001b[0m164.4    \u001b[0m | \u001b[0m1.926    \u001b[0m | \u001b[0m2.521    \u001b[0m | \u001b[0m0.8873   \u001b[0m |\n",
      "| \u001b[0m166      \u001b[0m | \u001b[0m0.9615   \u001b[0m | \u001b[0m0.8751   \u001b[0m | \u001b[0m0.1149   \u001b[0m | \u001b[0m4.646    \u001b[0m | \u001b[0m36.96    \u001b[0m | \u001b[0m11.4     \u001b[0m | \u001b[0m16.65    \u001b[0m | \u001b[0m172.4    \u001b[0m | \u001b[0m2.438    \u001b[0m | \u001b[0m1.433    \u001b[0m | \u001b[0m0.9148   \u001b[0m |\n",
      "| \u001b[0m167      \u001b[0m | \u001b[0m0.9652   \u001b[0m | \u001b[0m0.7873   \u001b[0m | \u001b[0m0.2176   \u001b[0m | \u001b[0m7.121    \u001b[0m | \u001b[0m30.92    \u001b[0m | \u001b[0m6.434    \u001b[0m | \u001b[0m11.39    \u001b[0m | \u001b[0m171.8    \u001b[0m | \u001b[0m2.736    \u001b[0m | \u001b[0m2.829    \u001b[0m | \u001b[0m0.7779   \u001b[0m |\n",
      "| \u001b[0m168      \u001b[0m | \u001b[0m0.9636   \u001b[0m | \u001b[0m0.9497   \u001b[0m | \u001b[0m0.08341  \u001b[0m | \u001b[0m6.965    \u001b[0m | \u001b[0m34.53    \u001b[0m | \u001b[0m11.01    \u001b[0m | \u001b[0m12.59    \u001b[0m | \u001b[0m174.5    \u001b[0m | \u001b[0m2.144    \u001b[0m | \u001b[0m4.964    \u001b[0m | \u001b[0m0.7666   \u001b[0m |\n",
      "| \u001b[0m169      \u001b[0m | \u001b[0m0.9615   \u001b[0m | \u001b[0m0.9236   \u001b[0m | \u001b[0m0.37     \u001b[0m | \u001b[0m6.828    \u001b[0m | \u001b[0m34.41    \u001b[0m | \u001b[0m8.946    \u001b[0m | \u001b[0m13.8     \u001b[0m | \u001b[0m165.3    \u001b[0m | \u001b[0m6.115    \u001b[0m | \u001b[0m5.299    \u001b[0m | \u001b[0m0.991    \u001b[0m |\n"
     ]
    },
    {
     "name": "stdout",
     "output_type": "stream",
     "text": [
      "| \u001b[0m170      \u001b[0m | \u001b[0m0.9616   \u001b[0m | \u001b[0m0.9211   \u001b[0m | \u001b[0m0.4362   \u001b[0m | \u001b[0m6.834    \u001b[0m | \u001b[0m38.88    \u001b[0m | \u001b[0m5.036    \u001b[0m | \u001b[0m11.79    \u001b[0m | \u001b[0m170.5    \u001b[0m | \u001b[0m7.549    \u001b[0m | \u001b[0m0.9768   \u001b[0m | \u001b[0m0.923    \u001b[0m |\n",
      "| \u001b[0m171      \u001b[0m | \u001b[0m0.9642   \u001b[0m | \u001b[0m0.8758   \u001b[0m | \u001b[0m0.0376   \u001b[0m | \u001b[0m9.361    \u001b[0m | \u001b[0m39.65    \u001b[0m | \u001b[0m5.996    \u001b[0m | \u001b[0m10.63    \u001b[0m | \u001b[0m175.2    \u001b[0m | \u001b[0m7.346    \u001b[0m | \u001b[0m1.202    \u001b[0m | \u001b[0m0.7946   \u001b[0m |\n",
      "| \u001b[0m172      \u001b[0m | \u001b[0m0.9624   \u001b[0m | \u001b[0m0.8975   \u001b[0m | \u001b[0m0.3527   \u001b[0m | \u001b[0m8.358    \u001b[0m | \u001b[0m36.97    \u001b[0m | \u001b[0m4.921    \u001b[0m | \u001b[0m10.15    \u001b[0m | \u001b[0m172.0    \u001b[0m | \u001b[0m8.068    \u001b[0m | \u001b[0m1.709    \u001b[0m | \u001b[0m0.9535   \u001b[0m |\n",
      "| \u001b[0m173      \u001b[0m | \u001b[0m0.9637   \u001b[0m | \u001b[0m0.98     \u001b[0m | \u001b[0m0.2067   \u001b[0m | \u001b[0m6.101    \u001b[0m | \u001b[0m37.5     \u001b[0m | \u001b[0m3.666    \u001b[0m | \u001b[0m12.62    \u001b[0m | \u001b[0m172.9    \u001b[0m | \u001b[0m3.285    \u001b[0m | \u001b[0m1.11     \u001b[0m | \u001b[0m0.9656   \u001b[0m |\n",
      "| \u001b[0m174      \u001b[0m | \u001b[0m0.9611   \u001b[0m | \u001b[0m0.9211   \u001b[0m | \u001b[0m0.05923  \u001b[0m | \u001b[0m6.066    \u001b[0m | \u001b[0m29.94    \u001b[0m | \u001b[0m12.24    \u001b[0m | \u001b[0m16.15    \u001b[0m | \u001b[0m165.8    \u001b[0m | \u001b[0m2.269    \u001b[0m | \u001b[0m3.977    \u001b[0m | \u001b[0m0.9665   \u001b[0m |\n",
      "| \u001b[0m175      \u001b[0m | \u001b[0m0.9667   \u001b[0m | \u001b[0m0.9475   \u001b[0m | \u001b[0m0.23     \u001b[0m | \u001b[0m5.935    \u001b[0m | \u001b[0m39.91    \u001b[0m | \u001b[0m2.345    \u001b[0m | \u001b[0m11.8     \u001b[0m | \u001b[0m169.0    \u001b[0m | \u001b[0m0.2001   \u001b[0m | \u001b[0m2.027    \u001b[0m | \u001b[0m0.7426   \u001b[0m |\n",
      "| \u001b[0m176      \u001b[0m | \u001b[0m0.9632   \u001b[0m | \u001b[0m0.9996   \u001b[0m | \u001b[0m0.177    \u001b[0m | \u001b[0m7.688    \u001b[0m | \u001b[0m32.72    \u001b[0m | \u001b[0m8.427    \u001b[0m | \u001b[0m13.8     \u001b[0m | \u001b[0m167.0    \u001b[0m | \u001b[0m2.242    \u001b[0m | \u001b[0m7.122    \u001b[0m | \u001b[0m0.7342   \u001b[0m |\n",
      "| \u001b[0m177      \u001b[0m | \u001b[0m0.9631   \u001b[0m | \u001b[0m0.72     \u001b[0m | \u001b[0m0.1881   \u001b[0m | \u001b[0m6.526    \u001b[0m | \u001b[0m30.9     \u001b[0m | \u001b[0m10.21    \u001b[0m | \u001b[0m16.42    \u001b[0m | \u001b[0m165.3    \u001b[0m | \u001b[0m0.2023   \u001b[0m | \u001b[0m3.965    \u001b[0m | \u001b[0m0.9642   \u001b[0m |\n",
      "| \u001b[0m178      \u001b[0m | \u001b[0m0.961    \u001b[0m | \u001b[0m0.7357   \u001b[0m | \u001b[0m0.4289   \u001b[0m | \u001b[0m7.754    \u001b[0m | \u001b[0m33.78    \u001b[0m | \u001b[0m9.293    \u001b[0m | \u001b[0m13.51    \u001b[0m | \u001b[0m169.5    \u001b[0m | \u001b[0m6.664    \u001b[0m | \u001b[0m4.263    \u001b[0m | \u001b[0m0.8383   \u001b[0m |\n",
      "| \u001b[0m179      \u001b[0m | \u001b[0m0.9618   \u001b[0m | \u001b[0m0.8047   \u001b[0m | \u001b[0m0.3728   \u001b[0m | \u001b[0m7.857    \u001b[0m | \u001b[0m38.59    \u001b[0m | \u001b[0m7.202    \u001b[0m | \u001b[0m15.18    \u001b[0m | \u001b[0m169.2    \u001b[0m | \u001b[0m4.914    \u001b[0m | \u001b[0m2.479    \u001b[0m | \u001b[0m0.9738   \u001b[0m |\n",
      "| \u001b[0m180      \u001b[0m | \u001b[0m0.9594   \u001b[0m | \u001b[0m0.8519   \u001b[0m | \u001b[0m0.4944   \u001b[0m | \u001b[0m7.623    \u001b[0m | \u001b[0m34.69    \u001b[0m | \u001b[0m7.852    \u001b[0m | \u001b[0m14.77    \u001b[0m | \u001b[0m167.0    \u001b[0m | \u001b[0m8.314    \u001b[0m | \u001b[0m3.015    \u001b[0m | \u001b[0m0.7217   \u001b[0m |\n",
      "| \u001b[0m181      \u001b[0m | \u001b[0m0.9647   \u001b[0m | \u001b[0m0.9491   \u001b[0m | \u001b[0m0.07851  \u001b[0m | \u001b[0m9.116    \u001b[0m | \u001b[0m34.08    \u001b[0m | \u001b[0m9.623    \u001b[0m | \u001b[0m10.13    \u001b[0m | \u001b[0m167.8    \u001b[0m | \u001b[0m4.923    \u001b[0m | \u001b[0m6.127    \u001b[0m | \u001b[0m0.7608   \u001b[0m |\n",
      "| \u001b[0m182      \u001b[0m | \u001b[0m0.9634   \u001b[0m | \u001b[0m0.8072   \u001b[0m | \u001b[0m0.06929  \u001b[0m | \u001b[0m5.372    \u001b[0m | \u001b[0m30.88    \u001b[0m | \u001b[0m5.103    \u001b[0m | \u001b[0m12.91    \u001b[0m | \u001b[0m167.1    \u001b[0m | \u001b[0m4.337    \u001b[0m | \u001b[0m1.001    \u001b[0m | \u001b[0m0.7656   \u001b[0m |\n",
      "| \u001b[0m183      \u001b[0m | \u001b[0m0.9641   \u001b[0m | \u001b[0m0.8554   \u001b[0m | \u001b[0m0.2153   \u001b[0m | \u001b[0m8.742    \u001b[0m | \u001b[0m37.77    \u001b[0m | \u001b[0m7.689    \u001b[0m | \u001b[0m14.54    \u001b[0m | \u001b[0m170.7    \u001b[0m | \u001b[0m4.502    \u001b[0m | \u001b[0m0.4589   \u001b[0m | \u001b[0m0.8559   \u001b[0m |\n",
      "| \u001b[0m184      \u001b[0m | \u001b[0m0.966    \u001b[0m | \u001b[0m0.7368   \u001b[0m | \u001b[0m0.02897  \u001b[0m | \u001b[0m5.947    \u001b[0m | \u001b[0m38.42    \u001b[0m | \u001b[0m4.709    \u001b[0m | \u001b[0m11.9     \u001b[0m | \u001b[0m169.1    \u001b[0m | \u001b[0m0.8555   \u001b[0m | \u001b[0m1.264    \u001b[0m | \u001b[0m0.7671   \u001b[0m |\n",
      "| \u001b[95m185      \u001b[0m | \u001b[95m0.9677   \u001b[0m | \u001b[95m0.716    \u001b[0m | \u001b[95m0.05465  \u001b[0m | \u001b[95m6.591    \u001b[0m | \u001b[95m32.99    \u001b[0m | \u001b[95m4.715    \u001b[0m | \u001b[95m10.21    \u001b[0m | \u001b[95m167.4    \u001b[0m | \u001b[95m0.9673   \u001b[0m | \u001b[95m5.351    \u001b[0m | \u001b[95m0.7909   \u001b[0m |\n",
      "| \u001b[0m186      \u001b[0m | \u001b[0m0.9618   \u001b[0m | \u001b[0m0.7427   \u001b[0m | \u001b[0m0.3926   \u001b[0m | \u001b[0m7.609    \u001b[0m | \u001b[0m38.27    \u001b[0m | \u001b[0m3.654    \u001b[0m | \u001b[0m14.59    \u001b[0m | \u001b[0m170.3    \u001b[0m | \u001b[0m3.062    \u001b[0m | \u001b[0m0.9444   \u001b[0m | \u001b[0m0.747    \u001b[0m |\n",
      "| \u001b[0m187      \u001b[0m | \u001b[0m0.9619   \u001b[0m | \u001b[0m0.97     \u001b[0m | \u001b[0m0.3365   \u001b[0m | \u001b[0m5.301    \u001b[0m | \u001b[0m37.7     \u001b[0m | \u001b[0m9.017    \u001b[0m | \u001b[0m13.94    \u001b[0m | \u001b[0m167.1    \u001b[0m | \u001b[0m5.392    \u001b[0m | \u001b[0m2.15     \u001b[0m | \u001b[0m0.8576   \u001b[0m |\n",
      "| \u001b[0m188      \u001b[0m | \u001b[0m0.962    \u001b[0m | \u001b[0m0.8979   \u001b[0m | \u001b[0m0.2781   \u001b[0m | \u001b[0m7.66     \u001b[0m | \u001b[0m30.95    \u001b[0m | \u001b[0m7.899    \u001b[0m | \u001b[0m13.99    \u001b[0m | \u001b[0m166.6    \u001b[0m | \u001b[0m3.678    \u001b[0m | \u001b[0m5.036    \u001b[0m | \u001b[0m0.9445   \u001b[0m |\n",
      "| \u001b[0m189      \u001b[0m | \u001b[0m0.9629   \u001b[0m | \u001b[0m0.8525   \u001b[0m | \u001b[0m0.1447   \u001b[0m | \u001b[0m6.822    \u001b[0m | \u001b[0m39.03    \u001b[0m | \u001b[0m9.393    \u001b[0m | \u001b[0m17.18    \u001b[0m | \u001b[0m172.7    \u001b[0m | \u001b[0m1.781    \u001b[0m | \u001b[0m1.153    \u001b[0m | \u001b[0m0.8184   \u001b[0m |\n",
      "| \u001b[0m190      \u001b[0m | \u001b[0m0.9622   \u001b[0m | \u001b[0m0.8289   \u001b[0m | \u001b[0m0.3512   \u001b[0m | \u001b[0m9.152    \u001b[0m | \u001b[0m36.39    \u001b[0m | \u001b[0m1.11     \u001b[0m | \u001b[0m11.69    \u001b[0m | \u001b[0m171.8    \u001b[0m | \u001b[0m6.207    \u001b[0m | \u001b[0m1.422    \u001b[0m | \u001b[0m0.765    \u001b[0m |\n",
      "| \u001b[0m191      \u001b[0m | \u001b[0m0.9613   \u001b[0m | \u001b[0m0.8208   \u001b[0m | \u001b[0m0.4402   \u001b[0m | \u001b[0m8.054    \u001b[0m | \u001b[0m36.6     \u001b[0m | \u001b[0m11.3     \u001b[0m | \u001b[0m15.94    \u001b[0m | \u001b[0m169.4    \u001b[0m | \u001b[0m4.17     \u001b[0m | \u001b[0m4.607    \u001b[0m | \u001b[0m0.7393   \u001b[0m |\n",
      "| \u001b[0m192      \u001b[0m | \u001b[0m0.9626   \u001b[0m | \u001b[0m0.7438   \u001b[0m | \u001b[0m0.2069   \u001b[0m | \u001b[0m4.148    \u001b[0m | \u001b[0m29.44    \u001b[0m | \u001b[0m6.908    \u001b[0m | \u001b[0m13.12    \u001b[0m | \u001b[0m166.6    \u001b[0m | \u001b[0m0.8137   \u001b[0m | \u001b[0m2.137    \u001b[0m | \u001b[0m0.9376   \u001b[0m |\n",
      "| \u001b[95m193      \u001b[0m | \u001b[95m0.968    \u001b[0m | \u001b[95m0.7176   \u001b[0m | \u001b[95m0.05775  \u001b[0m | \u001b[95m6.593    \u001b[0m | \u001b[95m32.99    \u001b[0m | \u001b[95m4.721    \u001b[0m | \u001b[95m10.22    \u001b[0m | \u001b[95m167.4    \u001b[0m | \u001b[95m0.9764   \u001b[0m | \u001b[95m5.349    \u001b[0m | \u001b[95m0.791    \u001b[0m |\n",
      "| \u001b[0m194      \u001b[0m | \u001b[0m0.962    \u001b[0m | \u001b[0m0.8784   \u001b[0m | \u001b[0m0.03644  \u001b[0m | \u001b[0m6.749    \u001b[0m | \u001b[0m33.19    \u001b[0m | \u001b[0m9.786    \u001b[0m | \u001b[0m12.82    \u001b[0m | \u001b[0m167.2    \u001b[0m | \u001b[0m7.343    \u001b[0m | \u001b[0m0.6751   \u001b[0m | \u001b[0m0.8887   \u001b[0m |\n",
      "| \u001b[0m195      \u001b[0m | \u001b[0m0.962    \u001b[0m | \u001b[0m0.7842   \u001b[0m | \u001b[0m0.06157  \u001b[0m | \u001b[0m5.17     \u001b[0m | \u001b[0m37.42    \u001b[0m | \u001b[0m5.042    \u001b[0m | \u001b[0m15.23    \u001b[0m | \u001b[0m164.6    \u001b[0m | \u001b[0m3.804    \u001b[0m | \u001b[0m4.162    \u001b[0m | \u001b[0m0.9275   \u001b[0m |\n",
      "| \u001b[0m196      \u001b[0m | \u001b[0m0.9651   \u001b[0m | \u001b[0m0.7572   \u001b[0m | \u001b[0m0.2884   \u001b[0m | \u001b[0m6.697    \u001b[0m | \u001b[0m36.64    \u001b[0m | \u001b[0m3.442    \u001b[0m | \u001b[0m10.59    \u001b[0m | \u001b[0m165.3    \u001b[0m | \u001b[0m4.552    \u001b[0m | \u001b[0m1.097    \u001b[0m | \u001b[0m0.7194   \u001b[0m |\n",
      "| \u001b[0m197      \u001b[0m | \u001b[0m0.9592   \u001b[0m | \u001b[0m0.7675   \u001b[0m | \u001b[0m0.3551   \u001b[0m | \u001b[0m7.45     \u001b[0m | \u001b[0m36.98    \u001b[0m | \u001b[0m6.701    \u001b[0m | \u001b[0m16.26    \u001b[0m | \u001b[0m168.2    \u001b[0m | \u001b[0m6.572    \u001b[0m | \u001b[0m4.984    \u001b[0m | \u001b[0m0.7998   \u001b[0m |\n",
      "| \u001b[0m198      \u001b[0m | \u001b[0m0.9657   \u001b[0m | \u001b[0m0.7431   \u001b[0m | \u001b[0m0.4753   \u001b[0m | \u001b[0m7.305    \u001b[0m | \u001b[0m33.07    \u001b[0m | \u001b[0m2.594    \u001b[0m | \u001b[0m11.71    \u001b[0m | \u001b[0m168.4    \u001b[0m | \u001b[0m0.8541   \u001b[0m | \u001b[0m2.245    \u001b[0m | \u001b[0m0.9912   \u001b[0m |\n",
      "| \u001b[0m199      \u001b[0m | \u001b[0m0.9623   \u001b[0m | \u001b[0m0.9838   \u001b[0m | \u001b[0m0.08125  \u001b[0m | \u001b[0m7.662    \u001b[0m | \u001b[0m42.68    \u001b[0m | \u001b[0m7.743    \u001b[0m | \u001b[0m12.62    \u001b[0m | \u001b[0m176.2    \u001b[0m | \u001b[0m4.968    \u001b[0m | \u001b[0m4.734    \u001b[0m | \u001b[0m0.8255   \u001b[0m |\n",
      "| \u001b[0m200      \u001b[0m | \u001b[0m0.962    \u001b[0m | \u001b[0m0.9773   \u001b[0m | \u001b[0m0.05544  \u001b[0m | \u001b[0m5.935    \u001b[0m | \u001b[0m33.8     \u001b[0m | \u001b[0m8.235    \u001b[0m | \u001b[0m14.51    \u001b[0m | \u001b[0m164.6    \u001b[0m | \u001b[0m3.512    \u001b[0m | \u001b[0m3.375    \u001b[0m | \u001b[0m0.7979   \u001b[0m |\n",
      "=================================================================================================================================================\n"
     ]
    }
   ],
   "source": [
    "# LGBM Maximize\n",
    "BO_lgbm_clf.maximize(init_points=50, n_iter=150, acq = 'poi')"
   ]
  },
  {
   "cell_type": "code",
   "execution_count": 10,
   "id": "88b208e4",
   "metadata": {
    "collapsed": true
   },
   "outputs": [
    {
     "name": "stdout",
     "output_type": "stream",
     "text": [
      "|   iter    |  target   | max_depth | min_sa... | min_sa... | n_esti... |\n",
      "-------------------------------------------------------------------------\n",
      "| \u001b[0m1        \u001b[0m | \u001b[0m0.8286   \u001b[0m | \u001b[0m5.063    \u001b[0m | \u001b[0m8.428    \u001b[0m | \u001b[0m3.681    \u001b[0m | \u001b[0m80.56    \u001b[0m |\n",
      "| \u001b[95m2        \u001b[0m | \u001b[95m0.8714   \u001b[0m | \u001b[95m8.509    \u001b[0m | \u001b[95m10.19    \u001b[0m | \u001b[95m9.925    \u001b[0m | \u001b[95m309.0    \u001b[0m |\n",
      "| \u001b[0m3        \u001b[0m | \u001b[0m0.7788   \u001b[0m | \u001b[0m3.273    \u001b[0m | \u001b[0m6.009    \u001b[0m | \u001b[0m14.24    \u001b[0m | \u001b[0m77.02    \u001b[0m |\n",
      "| \u001b[0m4        \u001b[0m | \u001b[0m0.8703   \u001b[0m | \u001b[0m9.048    \u001b[0m | \u001b[0m13.28    \u001b[0m | \u001b[0m1.717    \u001b[0m | \u001b[0m343.6    \u001b[0m |\n",
      "| \u001b[0m5        \u001b[0m | \u001b[0m0.8494   \u001b[0m | \u001b[0m6.862    \u001b[0m | \u001b[0m9.365    \u001b[0m | \u001b[0m7.769    \u001b[0m | \u001b[0m177.3    \u001b[0m |\n",
      "| \u001b[0m6        \u001b[0m | \u001b[0m0.8379   \u001b[0m | \u001b[0m5.084    \u001b[0m | \u001b[0m8.861    \u001b[0m | \u001b[0m6.545    \u001b[0m | \u001b[0m404.9    \u001b[0m |\n",
      "| \u001b[0m7        \u001b[0m | \u001b[0m0.8501   \u001b[0m | \u001b[0m5.929    \u001b[0m | \u001b[0m3.015    \u001b[0m | \u001b[0m3.113    \u001b[0m | \u001b[0m74.86    \u001b[0m |\n",
      "| \u001b[0m8        \u001b[0m | \u001b[0m0.8704   \u001b[0m | \u001b[0m8.026    \u001b[0m | \u001b[0m5.092    \u001b[0m | \u001b[0m3.783    \u001b[0m | \u001b[0m424.1    \u001b[0m |\n",
      "| \u001b[0m9        \u001b[0m | \u001b[0m0.8607   \u001b[0m | \u001b[0m6.976    \u001b[0m | \u001b[0m2.153    \u001b[0m | \u001b[0m8.63     \u001b[0m | \u001b[0m121.5    \u001b[0m |\n",
      "| \u001b[95m10       \u001b[0m | \u001b[95m0.8733   \u001b[0m | \u001b[95m7.737    \u001b[0m | \u001b[95m2.659    \u001b[0m | \u001b[95m7.23     \u001b[0m | \u001b[95m449.6    \u001b[0m |\n",
      "| \u001b[95m11       \u001b[0m | \u001b[95m0.8813   \u001b[0m | \u001b[95m8.581    \u001b[0m | \u001b[95m1.952    \u001b[0m | \u001b[95m14.45    \u001b[0m | \u001b[95m346.6    \u001b[0m |\n",
      "| \u001b[0m12       \u001b[0m | \u001b[0m0.8623   \u001b[0m | \u001b[0m8.031    \u001b[0m | \u001b[0m11.41    \u001b[0m | \u001b[0m13.43    \u001b[0m | \u001b[0m110.3    \u001b[0m |\n",
      "| \u001b[0m13       \u001b[0m | \u001b[0m0.8597   \u001b[0m | \u001b[0m8.439    \u001b[0m | \u001b[0m12.73    \u001b[0m | \u001b[0m12.61    \u001b[0m | \u001b[0m63.12    \u001b[0m |\n",
      "| \u001b[0m14       \u001b[0m | \u001b[0m0.8452   \u001b[0m | \u001b[0m5.733    \u001b[0m | \u001b[0m7.122    \u001b[0m | \u001b[0m8.289    \u001b[0m | \u001b[0m271.8    \u001b[0m |\n",
      "| \u001b[0m15       \u001b[0m | \u001b[0m0.8206   \u001b[0m | \u001b[0m3.913    \u001b[0m | \u001b[0m14.78    \u001b[0m | \u001b[0m1.92     \u001b[0m | \u001b[0m310.7    \u001b[0m |\n",
      "| \u001b[0m16       \u001b[0m | \u001b[0m0.8472   \u001b[0m | \u001b[0m7.065    \u001b[0m | \u001b[0m14.36    \u001b[0m | \u001b[0m3.764    \u001b[0m | \u001b[0m87.5     \u001b[0m |\n",
      "| \u001b[0m17       \u001b[0m | \u001b[0m0.8812   \u001b[0m | \u001b[0m9.187    \u001b[0m | \u001b[0m1.22     \u001b[0m | \u001b[0m12.14    \u001b[0m | \u001b[0m395.7    \u001b[0m |\n",
      "| \u001b[0m18       \u001b[0m | \u001b[0m0.8679   \u001b[0m | \u001b[0m9.104    \u001b[0m | \u001b[0m13.83    \u001b[0m | \u001b[0m4.833    \u001b[0m | \u001b[0m156.4    \u001b[0m |\n",
      "| \u001b[0m19       \u001b[0m | \u001b[0m0.8297   \u001b[0m | \u001b[0m5.174    \u001b[0m | \u001b[0m11.02    \u001b[0m | \u001b[0m2.158    \u001b[0m | \u001b[0m354.0    \u001b[0m |\n",
      "| \u001b[0m20       \u001b[0m | \u001b[0m0.8713   \u001b[0m | \u001b[0m9.01     \u001b[0m | \u001b[0m10.7     \u001b[0m | \u001b[0m11.99    \u001b[0m | \u001b[0m209.0    \u001b[0m |\n",
      "| \u001b[0m21       \u001b[0m | \u001b[0m0.8418   \u001b[0m | \u001b[0m4.541    \u001b[0m | \u001b[0m4.435    \u001b[0m | \u001b[0m11.18    \u001b[0m | \u001b[0m78.86    \u001b[0m |\n",
      "| \u001b[0m22       \u001b[0m | \u001b[0m0.849    \u001b[0m | \u001b[0m6.176    \u001b[0m | \u001b[0m7.827    \u001b[0m | \u001b[0m9.972    \u001b[0m | \u001b[0m97.78    \u001b[0m |\n",
      "| \u001b[0m23       \u001b[0m | \u001b[0m0.8551   \u001b[0m | \u001b[0m7.015    \u001b[0m | \u001b[0m14.44    \u001b[0m | \u001b[0m8.22     \u001b[0m | \u001b[0m306.4    \u001b[0m |\n",
      "| \u001b[0m24       \u001b[0m | \u001b[0m0.8731   \u001b[0m | \u001b[0m9.916    \u001b[0m | \u001b[0m12.66    \u001b[0m | \u001b[0m7.974    \u001b[0m | \u001b[0m86.07    \u001b[0m |\n",
      "| \u001b[0m25       \u001b[0m | \u001b[0m0.8726   \u001b[0m | \u001b[0m9.097    \u001b[0m | \u001b[0m10.98    \u001b[0m | \u001b[0m11.25    \u001b[0m | \u001b[0m420.6    \u001b[0m |\n",
      "| \u001b[0m26       \u001b[0m | \u001b[0m0.864    \u001b[0m | \u001b[0m8.215    \u001b[0m | \u001b[0m6.783    \u001b[0m | \u001b[0m8.206    \u001b[0m | \u001b[0m430.9    \u001b[0m |\n",
      "| \u001b[0m27       \u001b[0m | \u001b[0m0.8761   \u001b[0m | \u001b[0m9.012    \u001b[0m | \u001b[0m5.347    \u001b[0m | \u001b[0m2.671    \u001b[0m | \u001b[0m284.4    \u001b[0m |\n",
      "| \u001b[0m28       \u001b[0m | \u001b[0m0.8458   \u001b[0m | \u001b[0m6.143    \u001b[0m | \u001b[0m13.56    \u001b[0m | \u001b[0m7.903    \u001b[0m | \u001b[0m277.0    \u001b[0m |\n",
      "| \u001b[0m29       \u001b[0m | \u001b[0m0.8492   \u001b[0m | \u001b[0m5.556    \u001b[0m | \u001b[0m11.96    \u001b[0m | \u001b[0m14.27    \u001b[0m | \u001b[0m108.5    \u001b[0m |\n",
      "| \u001b[0m30       \u001b[0m | \u001b[0m0.8686   \u001b[0m | \u001b[0m7.628    \u001b[0m | \u001b[0m3.292    \u001b[0m | \u001b[0m5.325    \u001b[0m | \u001b[0m485.0    \u001b[0m |\n",
      "| \u001b[0m31       \u001b[0m | \u001b[0m0.8443   \u001b[0m | \u001b[0m6.38     \u001b[0m | \u001b[0m8.57     \u001b[0m | \u001b[0m10.96    \u001b[0m | \u001b[0m359.3    \u001b[0m |\n",
      "| \u001b[0m32       \u001b[0m | \u001b[0m0.8021   \u001b[0m | \u001b[0m3.259    \u001b[0m | \u001b[0m13.43    \u001b[0m | \u001b[0m3.64     \u001b[0m | \u001b[0m401.9    \u001b[0m |\n",
      "| \u001b[0m33       \u001b[0m | \u001b[0m0.8611   \u001b[0m | \u001b[0m7.507    \u001b[0m | \u001b[0m7.796    \u001b[0m | \u001b[0m14.01    \u001b[0m | \u001b[0m171.4    \u001b[0m |\n",
      "| \u001b[0m34       \u001b[0m | \u001b[0m0.8731   \u001b[0m | \u001b[0m8.699    \u001b[0m | \u001b[0m10.73    \u001b[0m | \u001b[0m4.297    \u001b[0m | \u001b[0m479.0    \u001b[0m |\n",
      "| \u001b[0m35       \u001b[0m | \u001b[0m0.8593   \u001b[0m | \u001b[0m7.098    \u001b[0m | \u001b[0m9.163    \u001b[0m | \u001b[0m3.201    \u001b[0m | \u001b[0m241.4    \u001b[0m |\n",
      "| \u001b[0m36       \u001b[0m | \u001b[0m0.833    \u001b[0m | \u001b[0m4.645    \u001b[0m | \u001b[0m9.407    \u001b[0m | \u001b[0m6.049    \u001b[0m | \u001b[0m126.0    \u001b[0m |\n",
      "| \u001b[0m37       \u001b[0m | \u001b[0m0.8376   \u001b[0m | \u001b[0m5.431    \u001b[0m | \u001b[0m4.003    \u001b[0m | \u001b[0m12.12    \u001b[0m | \u001b[0m406.3    \u001b[0m |\n",
      "| \u001b[0m38       \u001b[0m | \u001b[0m0.8081   \u001b[0m | \u001b[0m4.152    \u001b[0m | \u001b[0m11.51    \u001b[0m | \u001b[0m1.783    \u001b[0m | \u001b[0m154.6    \u001b[0m |\n",
      "| \u001b[0m39       \u001b[0m | \u001b[0m0.8562   \u001b[0m | \u001b[0m7.551    \u001b[0m | \u001b[0m11.06    \u001b[0m | \u001b[0m7.721    \u001b[0m | \u001b[0m201.9    \u001b[0m |\n",
      "| \u001b[0m40       \u001b[0m | \u001b[0m0.8443   \u001b[0m | \u001b[0m5.728    \u001b[0m | \u001b[0m13.02    \u001b[0m | \u001b[0m8.159    \u001b[0m | \u001b[0m443.6    \u001b[0m |\n",
      "| \u001b[0m41       \u001b[0m | \u001b[0m0.8716   \u001b[0m | \u001b[0m9.625    \u001b[0m | \u001b[0m14.1     \u001b[0m | \u001b[0m7.903    \u001b[0m | \u001b[0m320.2    \u001b[0m |\n",
      "| \u001b[0m42       \u001b[0m | \u001b[0m0.8217   \u001b[0m | \u001b[0m4.45     \u001b[0m | \u001b[0m14.39    \u001b[0m | \u001b[0m14.82    \u001b[0m | \u001b[0m423.2    \u001b[0m |\n",
      "| \u001b[0m43       \u001b[0m | \u001b[0m0.8632   \u001b[0m | \u001b[0m6.765    \u001b[0m | \u001b[0m2.17     \u001b[0m | \u001b[0m5.394    \u001b[0m | \u001b[0m97.75    \u001b[0m |\n",
      "| \u001b[0m44       \u001b[0m | \u001b[0m0.8201   \u001b[0m | \u001b[0m4.434    \u001b[0m | \u001b[0m5.557    \u001b[0m | \u001b[0m8.023    \u001b[0m | \u001b[0m445.2    \u001b[0m |\n",
      "| \u001b[0m45       \u001b[0m | \u001b[0m0.8315   \u001b[0m | \u001b[0m4.827    \u001b[0m | \u001b[0m8.422    \u001b[0m | \u001b[0m12.81    \u001b[0m | \u001b[0m111.5    \u001b[0m |\n",
      "| \u001b[0m46       \u001b[0m | \u001b[0m0.8482   \u001b[0m | \u001b[0m5.802    \u001b[0m | \u001b[0m8.959    \u001b[0m | \u001b[0m3.605    \u001b[0m | \u001b[0m56.17    \u001b[0m |\n",
      "| \u001b[0m47       \u001b[0m | \u001b[0m0.859    \u001b[0m | \u001b[0m7.15     \u001b[0m | \u001b[0m1.22     \u001b[0m | \u001b[0m9.204    \u001b[0m | \u001b[0m233.9    \u001b[0m |\n",
      "| \u001b[0m48       \u001b[0m | \u001b[0m0.8367   \u001b[0m | \u001b[0m4.6      \u001b[0m | \u001b[0m3.658    \u001b[0m | \u001b[0m13.79    \u001b[0m | \u001b[0m315.6    \u001b[0m |\n",
      "| \u001b[0m49       \u001b[0m | \u001b[0m0.8146   \u001b[0m | \u001b[0m4.198    \u001b[0m | \u001b[0m11.0     \u001b[0m | \u001b[0m4.338    \u001b[0m | \u001b[0m464.8    \u001b[0m |\n",
      "| \u001b[0m50       \u001b[0m | \u001b[0m0.8626   \u001b[0m | \u001b[0m8.049    \u001b[0m | \u001b[0m10.48    \u001b[0m | \u001b[0m14.82    \u001b[0m | \u001b[0m292.9    \u001b[0m |\n",
      "| \u001b[0m51       \u001b[0m | \u001b[0m0.8722   \u001b[0m | \u001b[0m8.233    \u001b[0m | \u001b[0m1.577    \u001b[0m | \u001b[0m13.45    \u001b[0m | \u001b[0m346.1    \u001b[0m |\n",
      "| \u001b[0m52       \u001b[0m | \u001b[0m0.871    \u001b[0m | \u001b[0m8.198    \u001b[0m | \u001b[0m2.041    \u001b[0m | \u001b[0m12.86    \u001b[0m | \u001b[0m396.0    \u001b[0m |\n",
      "| \u001b[0m53       \u001b[0m | \u001b[0m0.8789   \u001b[0m | \u001b[0m8.585    \u001b[0m | \u001b[0m1.956    \u001b[0m | \u001b[0m14.46    \u001b[0m | \u001b[0m346.6    \u001b[0m |\n",
      "| \u001b[0m54       \u001b[0m | \u001b[0m0.8215   \u001b[0m | \u001b[0m3.846    \u001b[0m | \u001b[0m1.705    \u001b[0m | \u001b[0m7.229    \u001b[0m | \u001b[0m460.0    \u001b[0m |\n",
      "| \u001b[0m55       \u001b[0m | \u001b[0m0.86     \u001b[0m | \u001b[0m8.221    \u001b[0m | \u001b[0m11.43    \u001b[0m | \u001b[0m12.64    \u001b[0m | \u001b[0m110.6    \u001b[0m |\n",
      "| \u001b[0m56       \u001b[0m | \u001b[0m0.8734   \u001b[0m | \u001b[0m9.722    \u001b[0m | \u001b[0m12.54    \u001b[0m | \u001b[0m7.83     \u001b[0m | \u001b[0m85.91    \u001b[0m |\n",
      "| \u001b[0m57       \u001b[0m | \u001b[0m0.8347   \u001b[0m | \u001b[0m5.406    \u001b[0m | \u001b[0m10.14    \u001b[0m | \u001b[0m12.8     \u001b[0m | \u001b[0m424.7    \u001b[0m |\n",
      "| \u001b[0m58       \u001b[0m | \u001b[0m0.8753   \u001b[0m | \u001b[0m9.135    \u001b[0m | \u001b[0m5.781    \u001b[0m | \u001b[0m2.377    \u001b[0m | \u001b[0m285.1    \u001b[0m |\n",
      "| \u001b[0m59       \u001b[0m | \u001b[0m0.8738   \u001b[0m | \u001b[0m8.992    \u001b[0m | \u001b[0m9.301    \u001b[0m | \u001b[0m9.865    \u001b[0m | \u001b[0m309.0    \u001b[0m |\n",
      "| \u001b[0m60       \u001b[0m | \u001b[0m0.8689   \u001b[0m | \u001b[0m8.443    \u001b[0m | \u001b[0m4.81     \u001b[0m | \u001b[0m4.249    \u001b[0m | \u001b[0m424.4    \u001b[0m |\n",
      "| \u001b[0m61       \u001b[0m | \u001b[0m0.8585   \u001b[0m | \u001b[0m6.581    \u001b[0m | \u001b[0m4.565    \u001b[0m | \u001b[0m13.85    \u001b[0m | \u001b[0m291.8    \u001b[0m |\n",
      "| \u001b[0m62       \u001b[0m | \u001b[0m0.8549   \u001b[0m | \u001b[0m6.918    \u001b[0m | \u001b[0m7.788    \u001b[0m | \u001b[0m13.71    \u001b[0m | \u001b[0m171.1    \u001b[0m |\n",
      "| \u001b[0m63       \u001b[0m | \u001b[0m0.8775   \u001b[0m | \u001b[0m9.675    \u001b[0m | \u001b[0m10.47    \u001b[0m | \u001b[0m4.631    \u001b[0m | \u001b[0m479.1    \u001b[0m |\n",
      "| \u001b[0m64       \u001b[0m | \u001b[0m0.8552   \u001b[0m | \u001b[0m6.637    \u001b[0m | \u001b[0m9.391    \u001b[0m | \u001b[0m2.763    \u001b[0m | \u001b[0m241.3    \u001b[0m |\n",
      "| \u001b[0m65       \u001b[0m | \u001b[0m0.8112   \u001b[0m | \u001b[0m3.028    \u001b[0m | \u001b[0m9.619    \u001b[0m | \u001b[0m4.63     \u001b[0m | \u001b[0m475.8    \u001b[0m |\n",
      "| \u001b[0m66       \u001b[0m | \u001b[0m0.8812   \u001b[0m | \u001b[0m9.458    \u001b[0m | \u001b[0m1.101    \u001b[0m | \u001b[0m12.69    \u001b[0m | \u001b[0m395.9    \u001b[0m |\n"
     ]
    },
    {
     "name": "stdout",
     "output_type": "stream",
     "text": [
      "| \u001b[0m67       \u001b[0m | \u001b[0m0.8765   \u001b[0m | \u001b[0m9.272    \u001b[0m | \u001b[0m5.653    \u001b[0m | \u001b[0m2.255    \u001b[0m | \u001b[0m284.1    \u001b[0m |\n",
      "| \u001b[0m68       \u001b[0m | \u001b[0m0.8692   \u001b[0m | \u001b[0m9.325    \u001b[0m | \u001b[0m11.63    \u001b[0m | \u001b[0m4.842    \u001b[0m | \u001b[0m479.3    \u001b[0m |\n",
      "| \u001b[0m69       \u001b[0m | \u001b[0m0.8717   \u001b[0m | \u001b[0m8.141    \u001b[0m | \u001b[0m2.281    \u001b[0m | \u001b[0m7.428    \u001b[0m | \u001b[0m448.9    \u001b[0m |\n",
      "| \u001b[0m70       \u001b[0m | \u001b[0m0.847    \u001b[0m | \u001b[0m6.283    \u001b[0m | \u001b[0m7.11     \u001b[0m | \u001b[0m9.931    \u001b[0m | \u001b[0m405.3    \u001b[0m |\n",
      "| \u001b[0m71       \u001b[0m | \u001b[0m0.8714   \u001b[0m | \u001b[0m7.586    \u001b[0m | \u001b[0m5.043    \u001b[0m | \u001b[0m4.478    \u001b[0m | \u001b[0m424.2    \u001b[0m |\n",
      "| \u001b[0m72       \u001b[0m | \u001b[0m0.8706   \u001b[0m | \u001b[0m9.294    \u001b[0m | \u001b[0m11.27    \u001b[0m | \u001b[0m4.841    \u001b[0m | \u001b[0m479.7    \u001b[0m |\n",
      "| \u001b[0m73       \u001b[0m | \u001b[0m0.8671   \u001b[0m | \u001b[0m8.358    \u001b[0m | \u001b[0m4.513    \u001b[0m | \u001b[0m3.3      \u001b[0m | \u001b[0m212.4    \u001b[0m |\n",
      "| \u001b[0m74       \u001b[0m | \u001b[0m0.8182   \u001b[0m | \u001b[0m4.351    \u001b[0m | \u001b[0m13.06    \u001b[0m | \u001b[0m2.419    \u001b[0m | \u001b[0m191.3    \u001b[0m |\n",
      "| \u001b[0m75       \u001b[0m | \u001b[0m0.8753   \u001b[0m | \u001b[0m9.134    \u001b[0m | \u001b[0m6.67     \u001b[0m | \u001b[0m3.332    \u001b[0m | \u001b[0m284.8    \u001b[0m |\n",
      "| \u001b[95m76       \u001b[0m | \u001b[95m0.8849   \u001b[0m | \u001b[95m9.54     \u001b[0m | \u001b[95m6.201    \u001b[0m | \u001b[95m2.768    \u001b[0m | \u001b[95m283.7    \u001b[0m |\n",
      "| \u001b[0m77       \u001b[0m | \u001b[0m0.8681   \u001b[0m | \u001b[0m8.481    \u001b[0m | \u001b[0m9.199    \u001b[0m | \u001b[0m9.779    \u001b[0m | \u001b[0m308.8    \u001b[0m |\n",
      "| \u001b[0m78       \u001b[0m | \u001b[0m0.8766   \u001b[0m | \u001b[0m9.438    \u001b[0m | \u001b[0m5.656    \u001b[0m | \u001b[0m11.83    \u001b[0m | \u001b[0m190.2    \u001b[0m |\n",
      "| \u001b[95m79       \u001b[0m | \u001b[95m0.8897   \u001b[0m | \u001b[95m9.699    \u001b[0m | \u001b[95m1.014    \u001b[0m | \u001b[95m12.09    \u001b[0m | \u001b[95m395.6    \u001b[0m |\n",
      "| \u001b[0m80       \u001b[0m | \u001b[0m0.8801   \u001b[0m | \u001b[0m9.009    \u001b[0m | \u001b[0m5.464    \u001b[0m | \u001b[0m2.943    \u001b[0m | \u001b[0m283.3    \u001b[0m |\n",
      "| \u001b[0m81       \u001b[0m | \u001b[0m0.8746   \u001b[0m | \u001b[0m9.139    \u001b[0m | \u001b[0m6.304    \u001b[0m | \u001b[0m3.119    \u001b[0m | \u001b[0m283.7    \u001b[0m |\n",
      "| \u001b[0m82       \u001b[0m | \u001b[0m0.8661   \u001b[0m | \u001b[0m8.061    \u001b[0m | \u001b[0m4.239    \u001b[0m | \u001b[0m3.634    \u001b[0m | \u001b[0m424.0    \u001b[0m |\n",
      "| \u001b[0m83       \u001b[0m | \u001b[0m0.8752   \u001b[0m | \u001b[0m8.556    \u001b[0m | \u001b[0m6.673    \u001b[0m | \u001b[0m2.62     \u001b[0m | \u001b[0m284.2    \u001b[0m |\n",
      "| \u001b[0m84       \u001b[0m | \u001b[0m0.8732   \u001b[0m | \u001b[0m8.927    \u001b[0m | \u001b[0m10.37    \u001b[0m | \u001b[0m5.107    \u001b[0m | \u001b[0m479.1    \u001b[0m |\n",
      "| \u001b[0m85       \u001b[0m | \u001b[0m0.8807   \u001b[0m | \u001b[0m8.582    \u001b[0m | \u001b[0m1.941    \u001b[0m | \u001b[0m13.64    \u001b[0m | \u001b[0m346.7    \u001b[0m |\n",
      "| \u001b[0m86       \u001b[0m | \u001b[0m0.8691   \u001b[0m | \u001b[0m8.108    \u001b[0m | \u001b[0m3.208    \u001b[0m | \u001b[0m6.939    \u001b[0m | \u001b[0m449.5    \u001b[0m |\n",
      "| \u001b[0m87       \u001b[0m | \u001b[0m0.8715   \u001b[0m | \u001b[0m7.798    \u001b[0m | \u001b[0m2.408    \u001b[0m | \u001b[0m7.093    \u001b[0m | \u001b[0m449.1    \u001b[0m |\n",
      "| \u001b[0m88       \u001b[0m | \u001b[0m0.8636   \u001b[0m | \u001b[0m7.99     \u001b[0m | \u001b[0m8.823    \u001b[0m | \u001b[0m9.872    \u001b[0m | \u001b[0m309.7    \u001b[0m |\n",
      "| \u001b[0m89       \u001b[0m | \u001b[0m0.8791   \u001b[0m | \u001b[0m8.756    \u001b[0m | \u001b[0m1.26     \u001b[0m | \u001b[0m13.73    \u001b[0m | \u001b[0m347.2    \u001b[0m |\n",
      "| \u001b[0m90       \u001b[0m | \u001b[0m0.8818   \u001b[0m | \u001b[0m8.694    \u001b[0m | \u001b[0m1.246    \u001b[0m | \u001b[0m14.62    \u001b[0m | \u001b[0m346.7    \u001b[0m |\n",
      "| \u001b[0m91       \u001b[0m | \u001b[0m0.8754   \u001b[0m | \u001b[0m8.672    \u001b[0m | \u001b[0m5.745    \u001b[0m | \u001b[0m3.252    \u001b[0m | \u001b[0m284.1    \u001b[0m |\n",
      "| \u001b[0m92       \u001b[0m | \u001b[0m0.8694   \u001b[0m | \u001b[0m8.441    \u001b[0m | \u001b[0m5.362    \u001b[0m | \u001b[0m2.1      \u001b[0m | \u001b[0m282.8    \u001b[0m |\n",
      "| \u001b[0m93       \u001b[0m | \u001b[0m0.8812   \u001b[0m | \u001b[0m9.047    \u001b[0m | \u001b[0m1.1      \u001b[0m | \u001b[0m14.41    \u001b[0m | \u001b[0m347.2    \u001b[0m |\n",
      "| \u001b[0m94       \u001b[0m | \u001b[0m0.884    \u001b[0m | \u001b[0m9.866    \u001b[0m | \u001b[0m6.012    \u001b[0m | \u001b[0m1.643    \u001b[0m | \u001b[0m283.0    \u001b[0m |\n",
      "| \u001b[0m95       \u001b[0m | \u001b[0m0.8818   \u001b[0m | \u001b[0m9.792    \u001b[0m | \u001b[0m5.619    \u001b[0m | \u001b[0m11.8     \u001b[0m | \u001b[0m191.0    \u001b[0m |\n",
      "| \u001b[0m96       \u001b[0m | \u001b[0m0.8746   \u001b[0m | \u001b[0m7.827    \u001b[0m | \u001b[0m1.691    \u001b[0m | \u001b[0m14.99    \u001b[0m | \u001b[0m346.2    \u001b[0m |\n",
      "| \u001b[0m97       \u001b[0m | \u001b[0m0.8785   \u001b[0m | \u001b[0m9.844    \u001b[0m | \u001b[0m11.04    \u001b[0m | \u001b[0m4.781    \u001b[0m | \u001b[0m478.1    \u001b[0m |\n",
      "| \u001b[0m98       \u001b[0m | \u001b[0m0.8853   \u001b[0m | \u001b[0m9.987    \u001b[0m | \u001b[0m4.847    \u001b[0m | \u001b[0m11.73    \u001b[0m | \u001b[0m191.3    \u001b[0m |\n",
      "| \u001b[0m99       \u001b[0m | \u001b[0m0.883    \u001b[0m | \u001b[0m9.54     \u001b[0m | \u001b[0m6.009    \u001b[0m | \u001b[0m2.414    \u001b[0m | \u001b[0m283.4    \u001b[0m |\n",
      "| \u001b[0m100      \u001b[0m | \u001b[0m0.8857   \u001b[0m | \u001b[0m9.502    \u001b[0m | \u001b[0m5.813    \u001b[0m | \u001b[0m2.789    \u001b[0m | \u001b[0m283.7    \u001b[0m |\n",
      "| \u001b[0m101      \u001b[0m | \u001b[0m0.8667   \u001b[0m | \u001b[0m8.246    \u001b[0m | \u001b[0m7.669    \u001b[0m | \u001b[0m2.639    \u001b[0m | \u001b[0m284.1    \u001b[0m |\n",
      "| \u001b[0m102      \u001b[0m | \u001b[0m0.8893   \u001b[0m | \u001b[0m9.669    \u001b[0m | \u001b[0m1.974    \u001b[0m | \u001b[0m11.39    \u001b[0m | \u001b[0m395.6    \u001b[0m |\n",
      "| \u001b[0m103      \u001b[0m | \u001b[0m0.8776   \u001b[0m | \u001b[0m9.42     \u001b[0m | \u001b[0m4.248    \u001b[0m | \u001b[0m11.16    \u001b[0m | \u001b[0m191.3    \u001b[0m |\n",
      "| \u001b[0m104      \u001b[0m | \u001b[0m0.8779   \u001b[0m | \u001b[0m8.964    \u001b[0m | \u001b[0m6.427    \u001b[0m | \u001b[0m11.79    \u001b[0m | \u001b[0m189.9    \u001b[0m |\n",
      "| \u001b[0m105      \u001b[0m | \u001b[0m0.8762   \u001b[0m | \u001b[0m8.519    \u001b[0m | \u001b[0m1.868    \u001b[0m | \u001b[0m14.22    \u001b[0m | \u001b[0m346.5    \u001b[0m |\n",
      "| \u001b[0m106      \u001b[0m | \u001b[0m0.844    \u001b[0m | \u001b[0m5.303    \u001b[0m | \u001b[0m2.393    \u001b[0m | \u001b[0m8.417    \u001b[0m | \u001b[0m374.1    \u001b[0m |\n",
      "| \u001b[0m107      \u001b[0m | \u001b[0m0.8806   \u001b[0m | \u001b[0m8.973    \u001b[0m | \u001b[0m2.006    \u001b[0m | \u001b[0m13.35    \u001b[0m | \u001b[0m347.7    \u001b[0m |\n",
      "| \u001b[0m108      \u001b[0m | \u001b[0m0.8812   \u001b[0m | \u001b[0m8.846    \u001b[0m | \u001b[0m1.45     \u001b[0m | \u001b[0m11.83    \u001b[0m | \u001b[0m396.2    \u001b[0m |\n",
      "| \u001b[0m109      \u001b[0m | \u001b[0m0.8764   \u001b[0m | \u001b[0m8.517    \u001b[0m | \u001b[0m5.068    \u001b[0m | \u001b[0m3.389    \u001b[0m | \u001b[0m284.3    \u001b[0m |\n",
      "| \u001b[0m110      \u001b[0m | \u001b[0m0.8755   \u001b[0m | \u001b[0m9.129    \u001b[0m | \u001b[0m5.176    \u001b[0m | \u001b[0m3.447    \u001b[0m | \u001b[0m283.9    \u001b[0m |\n",
      "| \u001b[0m111      \u001b[0m | \u001b[0m0.8794   \u001b[0m | \u001b[0m9.224    \u001b[0m | \u001b[0m5.768    \u001b[0m | \u001b[0m11.46    \u001b[0m | \u001b[0m190.9    \u001b[0m |\n",
      "| \u001b[95m112      \u001b[0m | \u001b[95m0.8904   \u001b[0m | \u001b[95m9.945    \u001b[0m | \u001b[95m1.528    \u001b[0m | \u001b[95m12.09    \u001b[0m | \u001b[95m395.8    \u001b[0m |\n",
      "| \u001b[0m113      \u001b[0m | \u001b[0m0.8745   \u001b[0m | \u001b[0m8.665    \u001b[0m | \u001b[0m6.017    \u001b[0m | \u001b[0m3.138    \u001b[0m | \u001b[0m284.5    \u001b[0m |\n",
      "| \u001b[0m114      \u001b[0m | \u001b[0m0.8775   \u001b[0m | \u001b[0m9.162    \u001b[0m | \u001b[0m5.192    \u001b[0m | \u001b[0m11.61    \u001b[0m | \u001b[0m191.6    \u001b[0m |\n",
      "| \u001b[0m115      \u001b[0m | \u001b[0m0.8634   \u001b[0m | \u001b[0m8.165    \u001b[0m | \u001b[0m10.82    \u001b[0m | \u001b[0m4.796    \u001b[0m | \u001b[0m479.3    \u001b[0m |\n",
      "| \u001b[0m116      \u001b[0m | \u001b[0m0.8807   \u001b[0m | \u001b[0m9.514    \u001b[0m | \u001b[0m5.767    \u001b[0m | \u001b[0m11.44    \u001b[0m | \u001b[0m190.3    \u001b[0m |\n",
      "| \u001b[0m117      \u001b[0m | \u001b[0m0.8775   \u001b[0m | \u001b[0m8.773    \u001b[0m | \u001b[0m5.18     \u001b[0m | \u001b[0m2.153    \u001b[0m | \u001b[0m494.6    \u001b[0m |\n",
      "| \u001b[0m118      \u001b[0m | \u001b[0m0.8754   \u001b[0m | \u001b[0m9.044    \u001b[0m | \u001b[0m8.626    \u001b[0m | \u001b[0m9.838    \u001b[0m | \u001b[0m308.5    \u001b[0m |\n",
      "| \u001b[0m119      \u001b[0m | \u001b[0m0.8723   \u001b[0m | \u001b[0m8.546    \u001b[0m | \u001b[0m6.624    \u001b[0m | \u001b[0m11.07    \u001b[0m | \u001b[0m190.2    \u001b[0m |\n",
      "| \u001b[0m120      \u001b[0m | \u001b[0m0.8787   \u001b[0m | \u001b[0m8.603    \u001b[0m | \u001b[0m5.82     \u001b[0m | \u001b[0m3.396    \u001b[0m | \u001b[0m283.2    \u001b[0m |\n",
      "| \u001b[0m121      \u001b[0m | \u001b[0m0.8337   \u001b[0m | \u001b[0m6.223    \u001b[0m | \u001b[0m9.989    \u001b[0m | \u001b[0m11.97    \u001b[0m | \u001b[0m58.49    \u001b[0m |\n",
      "| \u001b[0m122      \u001b[0m | \u001b[0m0.8759   \u001b[0m | \u001b[0m9.31     \u001b[0m | \u001b[0m5.926    \u001b[0m | \u001b[0m4.311    \u001b[0m | \u001b[0m284.4    \u001b[0m |\n",
      "| \u001b[0m123      \u001b[0m | \u001b[0m0.8778   \u001b[0m | \u001b[0m9.071    \u001b[0m | \u001b[0m6.374    \u001b[0m | \u001b[0m11.96    \u001b[0m | \u001b[0m190.3    \u001b[0m |\n",
      "| \u001b[0m124      \u001b[0m | \u001b[0m0.8793   \u001b[0m | \u001b[0m9.378    \u001b[0m | \u001b[0m5.594    \u001b[0m | \u001b[0m11.57    \u001b[0m | \u001b[0m190.4    \u001b[0m |\n",
      "| \u001b[0m125      \u001b[0m | \u001b[0m0.8887   \u001b[0m | \u001b[0m9.681    \u001b[0m | \u001b[0m1.178    \u001b[0m | \u001b[0m9.017    \u001b[0m | \u001b[0m284.2    \u001b[0m |\n",
      "| \u001b[0m126      \u001b[0m | \u001b[0m0.865    \u001b[0m | \u001b[0m7.215    \u001b[0m | \u001b[0m4.91     \u001b[0m | \u001b[0m3.796    \u001b[0m | \u001b[0m424.2    \u001b[0m |\n",
      "| \u001b[0m127      \u001b[0m | \u001b[0m0.8723   \u001b[0m | \u001b[0m8.432    \u001b[0m | \u001b[0m2.77     \u001b[0m | \u001b[0m13.97    \u001b[0m | \u001b[0m346.5    \u001b[0m |\n",
      "| \u001b[0m128      \u001b[0m | \u001b[0m0.8743   \u001b[0m | \u001b[0m9.421    \u001b[0m | \u001b[0m9.568    \u001b[0m | \u001b[0m10.18    \u001b[0m | \u001b[0m309.1    \u001b[0m |\n",
      "| \u001b[0m129      \u001b[0m | \u001b[0m0.8777   \u001b[0m | \u001b[0m9.141    \u001b[0m | \u001b[0m5.183    \u001b[0m | \u001b[0m4.28     \u001b[0m | \u001b[0m284.1    \u001b[0m |\n",
      "| \u001b[0m130      \u001b[0m | \u001b[0m0.8811   \u001b[0m | \u001b[0m9.329    \u001b[0m | \u001b[0m2.4      \u001b[0m | \u001b[0m11.72    \u001b[0m | \u001b[0m395.5    \u001b[0m |\n",
      "| \u001b[0m131      \u001b[0m | \u001b[0m0.8689   \u001b[0m | \u001b[0m8.163    \u001b[0m | \u001b[0m6.271    \u001b[0m | \u001b[0m3.127    \u001b[0m | \u001b[0m284.4    \u001b[0m |\n",
      "| \u001b[0m132      \u001b[0m | \u001b[0m0.8631   \u001b[0m | \u001b[0m7.545    \u001b[0m | \u001b[0m12.47    \u001b[0m | \u001b[0m2.791    \u001b[0m | \u001b[0m131.0    \u001b[0m |\n",
      "| \u001b[0m133      \u001b[0m | \u001b[0m0.8713   \u001b[0m | \u001b[0m9.437    \u001b[0m | \u001b[0m11.42    \u001b[0m | \u001b[0m3.975    \u001b[0m | \u001b[0m478.6    \u001b[0m |\n",
      "| \u001b[0m134      \u001b[0m | \u001b[0m0.8895   \u001b[0m | \u001b[0m9.57     \u001b[0m | \u001b[0m1.332    \u001b[0m | \u001b[0m13.99    \u001b[0m | \u001b[0m347.0    \u001b[0m |\n"
     ]
    },
    {
     "name": "stdout",
     "output_type": "stream",
     "text": [
      "| \u001b[0m135      \u001b[0m | \u001b[0m0.8564   \u001b[0m | \u001b[0m7.368    \u001b[0m | \u001b[0m7.872    \u001b[0m | \u001b[0m3.879    \u001b[0m | \u001b[0m193.5    \u001b[0m |\n",
      "| \u001b[0m136      \u001b[0m | \u001b[0m0.8773   \u001b[0m | \u001b[0m8.601    \u001b[0m | \u001b[0m2.219    \u001b[0m | \u001b[0m13.75    \u001b[0m | \u001b[0m348.0    \u001b[0m |\n",
      "| \u001b[0m137      \u001b[0m | \u001b[0m0.8206   \u001b[0m | \u001b[0m4.347    \u001b[0m | \u001b[0m12.77    \u001b[0m | \u001b[0m7.88     \u001b[0m | \u001b[0m351.1    \u001b[0m |\n",
      "| \u001b[0m138      \u001b[0m | \u001b[0m0.8383   \u001b[0m | \u001b[0m5.195    \u001b[0m | \u001b[0m12.57    \u001b[0m | \u001b[0m12.22    \u001b[0m | \u001b[0m440.8    \u001b[0m |\n",
      "| \u001b[0m139      \u001b[0m | \u001b[0m0.8611   \u001b[0m | \u001b[0m7.422    \u001b[0m | \u001b[0m2.267    \u001b[0m | \u001b[0m6.485    \u001b[0m | \u001b[0m449.6    \u001b[0m |\n",
      "| \u001b[0m140      \u001b[0m | \u001b[0m0.8813   \u001b[0m | \u001b[0m9.823    \u001b[0m | \u001b[0m6.472    \u001b[0m | \u001b[0m11.67    \u001b[0m | \u001b[0m190.3    \u001b[0m |\n",
      "| \u001b[0m141      \u001b[0m | \u001b[0m0.8742   \u001b[0m | \u001b[0m8.842    \u001b[0m | \u001b[0m6.698    \u001b[0m | \u001b[0m3.401    \u001b[0m | \u001b[0m284.1    \u001b[0m |\n",
      "| \u001b[0m142      \u001b[0m | \u001b[0m0.8776   \u001b[0m | \u001b[0m9.271    \u001b[0m | \u001b[0m6.391    \u001b[0m | \u001b[0m3.192    \u001b[0m | \u001b[0m283.2    \u001b[0m |\n",
      "| \u001b[0m143      \u001b[0m | \u001b[0m0.8896   \u001b[0m | \u001b[0m9.674    \u001b[0m | \u001b[0m2.539    \u001b[0m | \u001b[0m11.68    \u001b[0m | \u001b[0m396.3    \u001b[0m |\n",
      "| \u001b[0m144      \u001b[0m | \u001b[0m0.8387   \u001b[0m | \u001b[0m4.672    \u001b[0m | \u001b[0m7.99     \u001b[0m | \u001b[0m5.622    \u001b[0m | \u001b[0m425.8    \u001b[0m |\n",
      "| \u001b[0m145      \u001b[0m | \u001b[0m0.8257   \u001b[0m | \u001b[0m3.991    \u001b[0m | \u001b[0m6.915    \u001b[0m | \u001b[0m4.883    \u001b[0m | \u001b[0m210.2    \u001b[0m |\n",
      "| \u001b[95m146      \u001b[0m | \u001b[95m0.8915   \u001b[0m | \u001b[95m9.862    \u001b[0m | \u001b[95m2.179    \u001b[0m | \u001b[95m12.16    \u001b[0m | \u001b[95m396.3    \u001b[0m |\n",
      "| \u001b[0m147      \u001b[0m | \u001b[0m0.8778   \u001b[0m | \u001b[0m9.509    \u001b[0m | \u001b[0m11.78    \u001b[0m | \u001b[0m5.19     \u001b[0m | \u001b[0m477.8    \u001b[0m |\n",
      "| \u001b[0m148      \u001b[0m | \u001b[0m0.8754   \u001b[0m | \u001b[0m9.418    \u001b[0m | \u001b[0m7.294    \u001b[0m | \u001b[0m3.578    \u001b[0m | \u001b[0m284.0    \u001b[0m |\n",
      "| \u001b[0m149      \u001b[0m | \u001b[0m0.8568   \u001b[0m | \u001b[0m6.515    \u001b[0m | \u001b[0m7.581    \u001b[0m | \u001b[0m9.649    \u001b[0m | \u001b[0m311.9    \u001b[0m |\n",
      "| \u001b[0m150      \u001b[0m | \u001b[0m0.8845   \u001b[0m | \u001b[0m9.883    \u001b[0m | \u001b[0m6.494    \u001b[0m | \u001b[0m1.852    \u001b[0m | \u001b[0m284.4    \u001b[0m |\n",
      "| \u001b[0m151      \u001b[0m | \u001b[0m0.863    \u001b[0m | \u001b[0m8.713    \u001b[0m | \u001b[0m14.68    \u001b[0m | \u001b[0m3.259    \u001b[0m | \u001b[0m282.5    \u001b[0m |\n",
      "| \u001b[0m152      \u001b[0m | \u001b[0m0.8904   \u001b[0m | \u001b[0m9.871    \u001b[0m | \u001b[0m1.132    \u001b[0m | \u001b[0m14.45    \u001b[0m | \u001b[0m346.1    \u001b[0m |\n",
      "| \u001b[0m153      \u001b[0m | \u001b[0m0.8489   \u001b[0m | \u001b[0m5.76     \u001b[0m | \u001b[0m2.035    \u001b[0m | \u001b[0m12.67    \u001b[0m | \u001b[0m202.2    \u001b[0m |\n",
      "| \u001b[0m154      \u001b[0m | \u001b[0m0.8907   \u001b[0m | \u001b[0m9.757    \u001b[0m | \u001b[0m2.373    \u001b[0m | \u001b[0m12.35    \u001b[0m | \u001b[0m396.7    \u001b[0m |\n",
      "| \u001b[0m155      \u001b[0m | \u001b[0m0.8672   \u001b[0m | \u001b[0m9.039    \u001b[0m | \u001b[0m14.2     \u001b[0m | \u001b[0m2.781    \u001b[0m | \u001b[0m368.8    \u001b[0m |\n",
      "| \u001b[0m156      \u001b[0m | \u001b[0m0.8799   \u001b[0m | \u001b[0m8.874    \u001b[0m | \u001b[0m2.799    \u001b[0m | \u001b[0m11.49    \u001b[0m | \u001b[0m395.8    \u001b[0m |\n",
      "| \u001b[0m157      \u001b[0m | \u001b[0m0.8821   \u001b[0m | \u001b[0m9.702    \u001b[0m | \u001b[0m6.589    \u001b[0m | \u001b[0m3.159    \u001b[0m | \u001b[0m284.9    \u001b[0m |\n",
      "| \u001b[0m158      \u001b[0m | \u001b[0m0.8826   \u001b[0m | \u001b[0m9.501    \u001b[0m | \u001b[0m6.385    \u001b[0m | \u001b[0m11.47    \u001b[0m | \u001b[0m190.3    \u001b[0m |\n",
      "| \u001b[0m159      \u001b[0m | \u001b[0m0.8747   \u001b[0m | \u001b[0m9.025    \u001b[0m | \u001b[0m5.944    \u001b[0m | \u001b[0m3.917    \u001b[0m | \u001b[0m284.5    \u001b[0m |\n",
      "| \u001b[0m160      \u001b[0m | \u001b[0m0.8702   \u001b[0m | \u001b[0m9.38     \u001b[0m | \u001b[0m12.02    \u001b[0m | \u001b[0m5.291    \u001b[0m | \u001b[0m477.1    \u001b[0m |\n",
      "| \u001b[0m161      \u001b[0m | \u001b[0m0.8822   \u001b[0m | \u001b[0m9.669    \u001b[0m | \u001b[0m7.07     \u001b[0m | \u001b[0m1.873    \u001b[0m | \u001b[0m285.0    \u001b[0m |\n",
      "| \u001b[95m162      \u001b[0m | \u001b[95m0.8933   \u001b[0m | \u001b[95m9.507    \u001b[0m | \u001b[95m1.314    \u001b[0m | \u001b[95m7.775    \u001b[0m | \u001b[95m284.5    \u001b[0m |\n",
      "| \u001b[0m163      \u001b[0m | \u001b[0m0.8795   \u001b[0m | \u001b[0m9.148    \u001b[0m | \u001b[0m4.108    \u001b[0m | \u001b[0m10.89    \u001b[0m | \u001b[0m190.5    \u001b[0m |\n",
      "| \u001b[0m164      \u001b[0m | \u001b[0m0.8905   \u001b[0m | \u001b[0m9.55     \u001b[0m | \u001b[0m1.106    \u001b[0m | \u001b[0m13.99    \u001b[0m | \u001b[0m346.7    \u001b[0m |\n",
      "| \u001b[0m165      \u001b[0m | \u001b[0m0.8808   \u001b[0m | \u001b[0m8.566    \u001b[0m | \u001b[0m1.827    \u001b[0m | \u001b[0m11.56    \u001b[0m | \u001b[0m396.4    \u001b[0m |\n",
      "| \u001b[0m166      \u001b[0m | \u001b[0m0.876    \u001b[0m | \u001b[0m9.398    \u001b[0m | \u001b[0m6.228    \u001b[0m | \u001b[0m2.593    \u001b[0m | \u001b[0m285.0    \u001b[0m |\n",
      "| \u001b[0m167      \u001b[0m | \u001b[0m0.8836   \u001b[0m | \u001b[0m9.803    \u001b[0m | \u001b[0m6.917    \u001b[0m | \u001b[0m2.538    \u001b[0m | \u001b[0m284.4    \u001b[0m |\n",
      "| \u001b[0m168      \u001b[0m | \u001b[0m0.8043   \u001b[0m | \u001b[0m4.075    \u001b[0m | \u001b[0m8.608    \u001b[0m | \u001b[0m14.27    \u001b[0m | \u001b[0m91.47    \u001b[0m |\n",
      "| \u001b[0m169      \u001b[0m | \u001b[0m0.8849   \u001b[0m | \u001b[0m9.701    \u001b[0m | \u001b[0m5.492    \u001b[0m | \u001b[0m2.745    \u001b[0m | \u001b[0m282.7    \u001b[0m |\n",
      "| \u001b[0m170      \u001b[0m | \u001b[0m0.87     \u001b[0m | \u001b[0m8.36     \u001b[0m | \u001b[0m4.364    \u001b[0m | \u001b[0m2.611    \u001b[0m | \u001b[0m284.5    \u001b[0m |\n",
      "| \u001b[0m171      \u001b[0m | \u001b[0m0.8892   \u001b[0m | \u001b[0m9.932    \u001b[0m | \u001b[0m2.573    \u001b[0m | \u001b[0m12.47    \u001b[0m | \u001b[0m395.3    \u001b[0m |\n",
      "| \u001b[0m172      \u001b[0m | \u001b[0m0.8909   \u001b[0m | \u001b[0m9.669    \u001b[0m | \u001b[0m1.936    \u001b[0m | \u001b[0m11.73    \u001b[0m | \u001b[0m396.5    \u001b[0m |\n",
      "| \u001b[0m173      \u001b[0m | \u001b[0m0.8865   \u001b[0m | \u001b[0m9.698    \u001b[0m | \u001b[0m5.077    \u001b[0m | \u001b[0m11.62    \u001b[0m | \u001b[0m191.2    \u001b[0m |\n",
      "| \u001b[0m174      \u001b[0m | \u001b[0m0.8806   \u001b[0m | \u001b[0m9.214    \u001b[0m | \u001b[0m1.753    \u001b[0m | \u001b[0m11.2     \u001b[0m | \u001b[0m396.2    \u001b[0m |\n",
      "| \u001b[0m175      \u001b[0m | \u001b[0m0.8368   \u001b[0m | \u001b[0m4.989    \u001b[0m | \u001b[0m7.474    \u001b[0m | \u001b[0m14.92    \u001b[0m | \u001b[0m498.1    \u001b[0m |\n",
      "| \u001b[0m176      \u001b[0m | \u001b[0m0.887    \u001b[0m | \u001b[0m9.541    \u001b[0m | \u001b[0m1.526    \u001b[0m | \u001b[0m12.2     \u001b[0m | \u001b[0m395.9    \u001b[0m |\n",
      "| \u001b[0m177      \u001b[0m | \u001b[0m0.8457   \u001b[0m | \u001b[0m6.357    \u001b[0m | \u001b[0m13.41    \u001b[0m | \u001b[0m12.38    \u001b[0m | \u001b[0m355.7    \u001b[0m |\n",
      "| \u001b[0m178      \u001b[0m | \u001b[0m0.8918   \u001b[0m | \u001b[0m9.801    \u001b[0m | \u001b[0m1.174    \u001b[0m | \u001b[0m8.74     \u001b[0m | \u001b[0m283.5    \u001b[0m |\n",
      "| \u001b[0m179      \u001b[0m | \u001b[0m0.8724   \u001b[0m | \u001b[0m8.335    \u001b[0m | \u001b[0m1.353    \u001b[0m | \u001b[0m8.266    \u001b[0m | \u001b[0m284.6    \u001b[0m |\n",
      "| \u001b[0m180      \u001b[0m | \u001b[0m0.871    \u001b[0m | \u001b[0m8.299    \u001b[0m | \u001b[0m1.958    \u001b[0m | \u001b[0m14.1     \u001b[0m | \u001b[0m347.0    \u001b[0m |\n",
      "| \u001b[0m181      \u001b[0m | \u001b[0m0.8758   \u001b[0m | \u001b[0m9.203    \u001b[0m | \u001b[0m8.406    \u001b[0m | \u001b[0m9.634    \u001b[0m | \u001b[0m113.3    \u001b[0m |\n",
      "| \u001b[0m182      \u001b[0m | \u001b[0m0.8185   \u001b[0m | \u001b[0m3.677    \u001b[0m | \u001b[0m4.9      \u001b[0m | \u001b[0m3.581    \u001b[0m | \u001b[0m256.0    \u001b[0m |\n",
      "| \u001b[0m183      \u001b[0m | \u001b[0m0.8629   \u001b[0m | \u001b[0m7.727    \u001b[0m | \u001b[0m11.88    \u001b[0m | \u001b[0m9.311    \u001b[0m | \u001b[0m230.2    \u001b[0m |\n",
      "| \u001b[0m184      \u001b[0m | \u001b[0m0.8879   \u001b[0m | \u001b[0m9.8      \u001b[0m | \u001b[0m2.129    \u001b[0m | \u001b[0m13.94    \u001b[0m | \u001b[0m346.9    \u001b[0m |\n",
      "| \u001b[0m185      \u001b[0m | \u001b[0m0.8785   \u001b[0m | \u001b[0m9.222    \u001b[0m | \u001b[0m1.789    \u001b[0m | \u001b[0m11.77    \u001b[0m | \u001b[0m396.0    \u001b[0m |\n",
      "| \u001b[0m186      \u001b[0m | \u001b[0m0.8851   \u001b[0m | \u001b[0m9.894    \u001b[0m | \u001b[0m6.481    \u001b[0m | \u001b[0m12.13    \u001b[0m | \u001b[0m190.5    \u001b[0m |\n",
      "| \u001b[0m187      \u001b[0m | \u001b[0m0.8813   \u001b[0m | \u001b[0m9.36     \u001b[0m | \u001b[0m3.105    \u001b[0m | \u001b[0m11.46    \u001b[0m | \u001b[0m395.7    \u001b[0m |\n",
      "| \u001b[0m188      \u001b[0m | \u001b[0m0.8802   \u001b[0m | \u001b[0m8.566    \u001b[0m | \u001b[0m1.184    \u001b[0m | \u001b[0m14.97    \u001b[0m | \u001b[0m346.1    \u001b[0m |\n",
      "| \u001b[0m189      \u001b[0m | \u001b[0m0.883    \u001b[0m | \u001b[0m9.72     \u001b[0m | \u001b[0m6.177    \u001b[0m | \u001b[0m12.11    \u001b[0m | \u001b[0m191.8    \u001b[0m |\n",
      "| \u001b[0m190      \u001b[0m | \u001b[0m0.8794   \u001b[0m | \u001b[0m9.289    \u001b[0m | \u001b[0m1.673    \u001b[0m | \u001b[0m11.87    \u001b[0m | \u001b[0m395.2    \u001b[0m |\n"
     ]
    },
    {
     "ename": "ValueError",
     "evalue": "\nAll the 5 fits failed.\nIt is very likely that your model is misconfigured.\nYou can try to debug the error by setting error_score='raise'.\n\nBelow are more details about the failures:\n--------------------------------------------------------------------------------\n5 fits failed with the following error:\nTraceback (most recent call last):\n  File \"C:\\Users\\82107\\AppData\\Roaming\\Python\\Python39\\site-packages\\sklearn\\model_selection\\_validation.py\", line 686, in _fit_and_score\n    estimator.fit(X_train, y_train, **fit_params)\n  File \"C:\\Users\\82107\\AppData\\Roaming\\Python\\Python39\\site-packages\\sklearn\\ensemble\\_forest.py\", line 476, in fit\n    trees = Parallel(\n  File \"E:\\Anaconda\\lib\\site-packages\\joblib\\parallel.py\", line 1056, in __call__\n    self.retrieve()\n  File \"E:\\Anaconda\\lib\\site-packages\\joblib\\parallel.py\", line 935, in retrieve\n    self._output.extend(job.get(timeout=self.timeout))\n  File \"E:\\Anaconda\\lib\\multiprocessing\\pool.py\", line 771, in get\n    raise self._value\n  File \"E:\\Anaconda\\lib\\multiprocessing\\pool.py\", line 125, in worker\n    result = (True, func(*args, **kwds))\n  File \"E:\\Anaconda\\lib\\site-packages\\joblib\\_parallel_backends.py\", line 595, in __call__\n    return self.func(*args, **kwargs)\n  File \"E:\\Anaconda\\lib\\site-packages\\joblib\\parallel.py\", line 262, in __call__\n    return [func(*args, **kwargs)\n  File \"E:\\Anaconda\\lib\\site-packages\\joblib\\parallel.py\", line 262, in <listcomp>\n    return [func(*args, **kwargs)\n  File \"C:\\Users\\82107\\AppData\\Roaming\\Python\\Python39\\site-packages\\sklearn\\utils\\fixes.py\", line 117, in __call__\n    return self.function(*args, **kwargs)\n  File \"C:\\Users\\82107\\AppData\\Roaming\\Python\\Python39\\site-packages\\sklearn\\ensemble\\_forest.py\", line 191, in _parallel_build_trees\n    tree.fit(X, y, sample_weight=sample_weight, check_input=False)\n  File \"C:\\Users\\82107\\AppData\\Roaming\\Python\\Python39\\site-packages\\sklearn\\tree\\_classes.py\", line 969, in fit\n    super().fit(\n  File \"C:\\Users\\82107\\AppData\\Roaming\\Python\\Python39\\site-packages\\sklearn\\tree\\_classes.py\", line 265, in fit\n    check_scalar(\n  File \"C:\\Users\\82107\\AppData\\Roaming\\Python\\Python39\\site-packages\\sklearn\\utils\\validation.py\", line 1480, in check_scalar\n    raise ValueError(\nValueError: min_samples_split == 1, must be >= 2.\n",
     "output_type": "error",
     "traceback": [
      "\u001b[1;31m---------------------------------------------------------------------------\u001b[0m",
      "\u001b[1;31mKeyError\u001b[0m                                  Traceback (most recent call last)",
      "File \u001b[1;32mE:\\Anaconda\\lib\\site-packages\\bayes_opt\\target_space.py:191\u001b[0m, in \u001b[0;36mTargetSpace.probe\u001b[1;34m(self, params)\u001b[0m\n\u001b[0;32m    190\u001b[0m \u001b[38;5;28;01mtry\u001b[39;00m:\n\u001b[1;32m--> 191\u001b[0m     target \u001b[38;5;241m=\u001b[39m \u001b[38;5;28;43mself\u001b[39;49m\u001b[38;5;241;43m.\u001b[39;49m\u001b[43m_cache\u001b[49m\u001b[43m[\u001b[49m\u001b[43m_hashable\u001b[49m\u001b[43m(\u001b[49m\u001b[43mx\u001b[49m\u001b[43m)\u001b[49m\u001b[43m]\u001b[49m\n\u001b[0;32m    192\u001b[0m \u001b[38;5;28;01mexcept\u001b[39;00m \u001b[38;5;167;01mKeyError\u001b[39;00m:\n",
      "\u001b[1;31mKeyError\u001b[0m: (9.180177997711578, 10.476570498488726, 1.1242442694994188, 66.14740866560263)",
      "\nDuring handling of the above exception, another exception occurred:\n",
      "\u001b[1;31mValueError\u001b[0m                                Traceback (most recent call last)",
      "Input \u001b[1;32mIn [10]\u001b[0m, in \u001b[0;36m<cell line: 2>\u001b[1;34m()\u001b[0m\n\u001b[0;32m      1\u001b[0m \u001b[38;5;66;03m# ExtraTrees Maximize\u001b[39;00m\n\u001b[1;32m----> 2\u001b[0m \u001b[43mBO_et_clf\u001b[49m\u001b[38;5;241;43m.\u001b[39;49m\u001b[43mmaximize\u001b[49m\u001b[43m(\u001b[49m\u001b[43minit_points\u001b[49m\u001b[38;5;241;43m=\u001b[39;49m\u001b[38;5;241;43m50\u001b[39;49m\u001b[43m,\u001b[49m\u001b[43m \u001b[49m\u001b[43mn_iter\u001b[49m\u001b[38;5;241;43m=\u001b[39;49m\u001b[38;5;241;43m150\u001b[39;49m\u001b[43m,\u001b[49m\u001b[43m \u001b[49m\u001b[43macq\u001b[49m\u001b[43m \u001b[49m\u001b[38;5;241;43m=\u001b[39;49m\u001b[43m \u001b[49m\u001b[38;5;124;43m'\u001b[39;49m\u001b[38;5;124;43mpoi\u001b[39;49m\u001b[38;5;124;43m'\u001b[39;49m\u001b[43m)\u001b[49m\n",
      "File \u001b[1;32mE:\\Anaconda\\lib\\site-packages\\bayes_opt\\bayesian_optimization.py:305\u001b[0m, in \u001b[0;36mBayesianOptimization.maximize\u001b[1;34m(self, init_points, n_iter, acq, kappa, kappa_decay, kappa_decay_delay, xi, **gp_params)\u001b[0m\n\u001b[0;32m    303\u001b[0m     x_probe \u001b[38;5;241m=\u001b[39m \u001b[38;5;28mself\u001b[39m\u001b[38;5;241m.\u001b[39msuggest(util)\n\u001b[0;32m    304\u001b[0m     iteration \u001b[38;5;241m+\u001b[39m\u001b[38;5;241m=\u001b[39m \u001b[38;5;241m1\u001b[39m\n\u001b[1;32m--> 305\u001b[0m \u001b[38;5;28;43mself\u001b[39;49m\u001b[38;5;241;43m.\u001b[39;49m\u001b[43mprobe\u001b[49m\u001b[43m(\u001b[49m\u001b[43mx_probe\u001b[49m\u001b[43m,\u001b[49m\u001b[43m \u001b[49m\u001b[43mlazy\u001b[49m\u001b[38;5;241;43m=\u001b[39;49m\u001b[38;5;28;43;01mFalse\u001b[39;49;00m\u001b[43m)\u001b[49m\n\u001b[0;32m    307\u001b[0m \u001b[38;5;28;01mif\u001b[39;00m \u001b[38;5;28mself\u001b[39m\u001b[38;5;241m.\u001b[39m_bounds_transformer \u001b[38;5;129;01mand\u001b[39;00m iteration \u001b[38;5;241m>\u001b[39m \u001b[38;5;241m0\u001b[39m:\n\u001b[0;32m    308\u001b[0m     \u001b[38;5;66;03m# The bounds transformer should only modify the bounds after\u001b[39;00m\n\u001b[0;32m    309\u001b[0m     \u001b[38;5;66;03m# the init_points points (only for the true iterations)\u001b[39;00m\n\u001b[0;32m    310\u001b[0m     \u001b[38;5;28mself\u001b[39m\u001b[38;5;241m.\u001b[39mset_bounds(\n\u001b[0;32m    311\u001b[0m         \u001b[38;5;28mself\u001b[39m\u001b[38;5;241m.\u001b[39m_bounds_transformer\u001b[38;5;241m.\u001b[39mtransform(\u001b[38;5;28mself\u001b[39m\u001b[38;5;241m.\u001b[39m_space))\n",
      "File \u001b[1;32mE:\\Anaconda\\lib\\site-packages\\bayes_opt\\bayesian_optimization.py:200\u001b[0m, in \u001b[0;36mBayesianOptimization.probe\u001b[1;34m(self, params, lazy)\u001b[0m\n\u001b[0;32m    198\u001b[0m     \u001b[38;5;28mself\u001b[39m\u001b[38;5;241m.\u001b[39m_queue\u001b[38;5;241m.\u001b[39madd(params)\n\u001b[0;32m    199\u001b[0m \u001b[38;5;28;01melse\u001b[39;00m:\n\u001b[1;32m--> 200\u001b[0m     \u001b[38;5;28;43mself\u001b[39;49m\u001b[38;5;241;43m.\u001b[39;49m\u001b[43m_space\u001b[49m\u001b[38;5;241;43m.\u001b[39;49m\u001b[43mprobe\u001b[49m\u001b[43m(\u001b[49m\u001b[43mparams\u001b[49m\u001b[43m)\u001b[49m\n\u001b[0;32m    201\u001b[0m     \u001b[38;5;28mself\u001b[39m\u001b[38;5;241m.\u001b[39mdispatch(Events\u001b[38;5;241m.\u001b[39mOPTIMIZATION_STEP)\n",
      "File \u001b[1;32mE:\\Anaconda\\lib\\site-packages\\bayes_opt\\target_space.py:194\u001b[0m, in \u001b[0;36mTargetSpace.probe\u001b[1;34m(self, params)\u001b[0m\n\u001b[0;32m    192\u001b[0m \u001b[38;5;28;01mexcept\u001b[39;00m \u001b[38;5;167;01mKeyError\u001b[39;00m:\n\u001b[0;32m    193\u001b[0m     params \u001b[38;5;241m=\u001b[39m \u001b[38;5;28mdict\u001b[39m(\u001b[38;5;28mzip\u001b[39m(\u001b[38;5;28mself\u001b[39m\u001b[38;5;241m.\u001b[39m_keys, x))\n\u001b[1;32m--> 194\u001b[0m     target \u001b[38;5;241m=\u001b[39m \u001b[38;5;28mself\u001b[39m\u001b[38;5;241m.\u001b[39mtarget_func(\u001b[38;5;241m*\u001b[39m\u001b[38;5;241m*\u001b[39mparams)\n\u001b[0;32m    195\u001b[0m     \u001b[38;5;28mself\u001b[39m\u001b[38;5;241m.\u001b[39mregister(x, target)\n\u001b[0;32m    196\u001b[0m \u001b[38;5;28;01mreturn\u001b[39;00m target\n",
      "Input \u001b[1;32mIn [7]\u001b[0m, in \u001b[0;36met_clf_opt\u001b[1;34m(n_estimators, max_depth, min_samples_split, min_samples_leaf)\u001b[0m\n\u001b[0;32m     60\u001b[0m et \u001b[38;5;241m=\u001b[39m ExtraTreesClassifier(\u001b[38;5;241m*\u001b[39m\u001b[38;5;241m*\u001b[39mparams)\n\u001b[0;32m     61\u001b[0m skf \u001b[38;5;241m=\u001b[39m StratifiedKFold(n_splits \u001b[38;5;241m=\u001b[39m \u001b[38;5;241m5\u001b[39m, shuffle \u001b[38;5;241m=\u001b[39m \u001b[38;5;28;01mTrue\u001b[39;00m, random_state \u001b[38;5;241m=\u001b[39m \u001b[38;5;241m17\u001b[39m)\n\u001b[1;32m---> 62\u001b[0m score \u001b[38;5;241m=\u001b[39m \u001b[43mcross_val_score\u001b[49m\u001b[43m(\u001b[49m\u001b[43met\u001b[49m\u001b[43m,\u001b[49m\u001b[43m \u001b[49m\u001b[43mtomek_x_train\u001b[49m\u001b[43m,\u001b[49m\u001b[43m \u001b[49m\u001b[43mtomek_y_train\u001b[49m\u001b[43m,\u001b[49m\u001b[43m \u001b[49m\u001b[43mscoring\u001b[49m\u001b[43m \u001b[49m\u001b[38;5;241;43m=\u001b[39;49m\u001b[43m \u001b[49m\u001b[38;5;124;43m'\u001b[39;49m\u001b[38;5;124;43mf1_macro\u001b[39;49m\u001b[38;5;124;43m'\u001b[39;49m\u001b[43m,\u001b[49m\u001b[43m \u001b[49m\u001b[43mcv\u001b[49m\u001b[43m \u001b[49m\u001b[38;5;241;43m=\u001b[39;49m\u001b[43m \u001b[49m\u001b[43mskf\u001b[49m\u001b[43m,\u001b[49m\u001b[43m \u001b[49m\u001b[43mn_jobs\u001b[49m\u001b[43m \u001b[49m\u001b[38;5;241;43m=\u001b[39;49m\u001b[43m \u001b[49m\u001b[38;5;241;43m-\u001b[39;49m\u001b[38;5;241;43m1\u001b[39;49m\u001b[43m)\u001b[49m\n\u001b[0;32m     64\u001b[0m \u001b[38;5;28;01mreturn\u001b[39;00m np\u001b[38;5;241m.\u001b[39mmean(score)\n",
      "File \u001b[1;32m~\\AppData\\Roaming\\Python\\Python39\\site-packages\\sklearn\\model_selection\\_validation.py:515\u001b[0m, in \u001b[0;36mcross_val_score\u001b[1;34m(estimator, X, y, groups, scoring, cv, n_jobs, verbose, fit_params, pre_dispatch, error_score)\u001b[0m\n\u001b[0;32m    512\u001b[0m \u001b[38;5;66;03m# To ensure multimetric format is not supported\u001b[39;00m\n\u001b[0;32m    513\u001b[0m scorer \u001b[38;5;241m=\u001b[39m check_scoring(estimator, scoring\u001b[38;5;241m=\u001b[39mscoring)\n\u001b[1;32m--> 515\u001b[0m cv_results \u001b[38;5;241m=\u001b[39m \u001b[43mcross_validate\u001b[49m\u001b[43m(\u001b[49m\n\u001b[0;32m    516\u001b[0m \u001b[43m    \u001b[49m\u001b[43mestimator\u001b[49m\u001b[38;5;241;43m=\u001b[39;49m\u001b[43mestimator\u001b[49m\u001b[43m,\u001b[49m\n\u001b[0;32m    517\u001b[0m \u001b[43m    \u001b[49m\u001b[43mX\u001b[49m\u001b[38;5;241;43m=\u001b[39;49m\u001b[43mX\u001b[49m\u001b[43m,\u001b[49m\n\u001b[0;32m    518\u001b[0m \u001b[43m    \u001b[49m\u001b[43my\u001b[49m\u001b[38;5;241;43m=\u001b[39;49m\u001b[43my\u001b[49m\u001b[43m,\u001b[49m\n\u001b[0;32m    519\u001b[0m \u001b[43m    \u001b[49m\u001b[43mgroups\u001b[49m\u001b[38;5;241;43m=\u001b[39;49m\u001b[43mgroups\u001b[49m\u001b[43m,\u001b[49m\n\u001b[0;32m    520\u001b[0m \u001b[43m    \u001b[49m\u001b[43mscoring\u001b[49m\u001b[38;5;241;43m=\u001b[39;49m\u001b[43m{\u001b[49m\u001b[38;5;124;43m\"\u001b[39;49m\u001b[38;5;124;43mscore\u001b[39;49m\u001b[38;5;124;43m\"\u001b[39;49m\u001b[43m:\u001b[49m\u001b[43m \u001b[49m\u001b[43mscorer\u001b[49m\u001b[43m}\u001b[49m\u001b[43m,\u001b[49m\n\u001b[0;32m    521\u001b[0m \u001b[43m    \u001b[49m\u001b[43mcv\u001b[49m\u001b[38;5;241;43m=\u001b[39;49m\u001b[43mcv\u001b[49m\u001b[43m,\u001b[49m\n\u001b[0;32m    522\u001b[0m \u001b[43m    \u001b[49m\u001b[43mn_jobs\u001b[49m\u001b[38;5;241;43m=\u001b[39;49m\u001b[43mn_jobs\u001b[49m\u001b[43m,\u001b[49m\n\u001b[0;32m    523\u001b[0m \u001b[43m    \u001b[49m\u001b[43mverbose\u001b[49m\u001b[38;5;241;43m=\u001b[39;49m\u001b[43mverbose\u001b[49m\u001b[43m,\u001b[49m\n\u001b[0;32m    524\u001b[0m \u001b[43m    \u001b[49m\u001b[43mfit_params\u001b[49m\u001b[38;5;241;43m=\u001b[39;49m\u001b[43mfit_params\u001b[49m\u001b[43m,\u001b[49m\n\u001b[0;32m    525\u001b[0m \u001b[43m    \u001b[49m\u001b[43mpre_dispatch\u001b[49m\u001b[38;5;241;43m=\u001b[39;49m\u001b[43mpre_dispatch\u001b[49m\u001b[43m,\u001b[49m\n\u001b[0;32m    526\u001b[0m \u001b[43m    \u001b[49m\u001b[43merror_score\u001b[49m\u001b[38;5;241;43m=\u001b[39;49m\u001b[43merror_score\u001b[49m\u001b[43m,\u001b[49m\n\u001b[0;32m    527\u001b[0m \u001b[43m\u001b[49m\u001b[43m)\u001b[49m\n\u001b[0;32m    528\u001b[0m \u001b[38;5;28;01mreturn\u001b[39;00m cv_results[\u001b[38;5;124m\"\u001b[39m\u001b[38;5;124mtest_score\u001b[39m\u001b[38;5;124m\"\u001b[39m]\n",
      "File \u001b[1;32m~\\AppData\\Roaming\\Python\\Python39\\site-packages\\sklearn\\model_selection\\_validation.py:285\u001b[0m, in \u001b[0;36mcross_validate\u001b[1;34m(estimator, X, y, groups, scoring, cv, n_jobs, verbose, fit_params, pre_dispatch, return_train_score, return_estimator, error_score)\u001b[0m\n\u001b[0;32m    265\u001b[0m parallel \u001b[38;5;241m=\u001b[39m Parallel(n_jobs\u001b[38;5;241m=\u001b[39mn_jobs, verbose\u001b[38;5;241m=\u001b[39mverbose, pre_dispatch\u001b[38;5;241m=\u001b[39mpre_dispatch)\n\u001b[0;32m    266\u001b[0m results \u001b[38;5;241m=\u001b[39m parallel(\n\u001b[0;32m    267\u001b[0m     delayed(_fit_and_score)(\n\u001b[0;32m    268\u001b[0m         clone(estimator),\n\u001b[1;32m   (...)\u001b[0m\n\u001b[0;32m    282\u001b[0m     \u001b[38;5;28;01mfor\u001b[39;00m train, test \u001b[38;5;129;01min\u001b[39;00m cv\u001b[38;5;241m.\u001b[39msplit(X, y, groups)\n\u001b[0;32m    283\u001b[0m )\n\u001b[1;32m--> 285\u001b[0m \u001b[43m_warn_or_raise_about_fit_failures\u001b[49m\u001b[43m(\u001b[49m\u001b[43mresults\u001b[49m\u001b[43m,\u001b[49m\u001b[43m \u001b[49m\u001b[43merror_score\u001b[49m\u001b[43m)\u001b[49m\n\u001b[0;32m    287\u001b[0m \u001b[38;5;66;03m# For callabe scoring, the return type is only know after calling. If the\u001b[39;00m\n\u001b[0;32m    288\u001b[0m \u001b[38;5;66;03m# return type is a dictionary, the error scores can now be inserted with\u001b[39;00m\n\u001b[0;32m    289\u001b[0m \u001b[38;5;66;03m# the correct key.\u001b[39;00m\n\u001b[0;32m    290\u001b[0m \u001b[38;5;28;01mif\u001b[39;00m callable(scoring):\n",
      "File \u001b[1;32m~\\AppData\\Roaming\\Python\\Python39\\site-packages\\sklearn\\model_selection\\_validation.py:367\u001b[0m, in \u001b[0;36m_warn_or_raise_about_fit_failures\u001b[1;34m(results, error_score)\u001b[0m\n\u001b[0;32m    360\u001b[0m \u001b[38;5;28;01mif\u001b[39;00m num_failed_fits \u001b[38;5;241m==\u001b[39m num_fits:\n\u001b[0;32m    361\u001b[0m     all_fits_failed_message \u001b[38;5;241m=\u001b[39m (\n\u001b[0;32m    362\u001b[0m         \u001b[38;5;124mf\u001b[39m\u001b[38;5;124m\"\u001b[39m\u001b[38;5;130;01m\\n\u001b[39;00m\u001b[38;5;124mAll the \u001b[39m\u001b[38;5;132;01m{\u001b[39;00mnum_fits\u001b[38;5;132;01m}\u001b[39;00m\u001b[38;5;124m fits failed.\u001b[39m\u001b[38;5;130;01m\\n\u001b[39;00m\u001b[38;5;124m\"\u001b[39m\n\u001b[0;32m    363\u001b[0m         \u001b[38;5;124m\"\u001b[39m\u001b[38;5;124mIt is very likely that your model is misconfigured.\u001b[39m\u001b[38;5;130;01m\\n\u001b[39;00m\u001b[38;5;124m\"\u001b[39m\n\u001b[0;32m    364\u001b[0m         \u001b[38;5;124m\"\u001b[39m\u001b[38;5;124mYou can try to debug the error by setting error_score=\u001b[39m\u001b[38;5;124m'\u001b[39m\u001b[38;5;124mraise\u001b[39m\u001b[38;5;124m'\u001b[39m\u001b[38;5;124m.\u001b[39m\u001b[38;5;130;01m\\n\u001b[39;00m\u001b[38;5;130;01m\\n\u001b[39;00m\u001b[38;5;124m\"\u001b[39m\n\u001b[0;32m    365\u001b[0m         \u001b[38;5;124mf\u001b[39m\u001b[38;5;124m\"\u001b[39m\u001b[38;5;124mBelow are more details about the failures:\u001b[39m\u001b[38;5;130;01m\\n\u001b[39;00m\u001b[38;5;132;01m{\u001b[39;00mfit_errors_summary\u001b[38;5;132;01m}\u001b[39;00m\u001b[38;5;124m\"\u001b[39m\n\u001b[0;32m    366\u001b[0m     )\n\u001b[1;32m--> 367\u001b[0m     \u001b[38;5;28;01mraise\u001b[39;00m \u001b[38;5;167;01mValueError\u001b[39;00m(all_fits_failed_message)\n\u001b[0;32m    369\u001b[0m \u001b[38;5;28;01melse\u001b[39;00m:\n\u001b[0;32m    370\u001b[0m     some_fits_failed_message \u001b[38;5;241m=\u001b[39m (\n\u001b[0;32m    371\u001b[0m         \u001b[38;5;124mf\u001b[39m\u001b[38;5;124m\"\u001b[39m\u001b[38;5;130;01m\\n\u001b[39;00m\u001b[38;5;132;01m{\u001b[39;00mnum_failed_fits\u001b[38;5;132;01m}\u001b[39;00m\u001b[38;5;124m fits failed out of a total of \u001b[39m\u001b[38;5;132;01m{\u001b[39;00mnum_fits\u001b[38;5;132;01m}\u001b[39;00m\u001b[38;5;124m.\u001b[39m\u001b[38;5;130;01m\\n\u001b[39;00m\u001b[38;5;124m\"\u001b[39m\n\u001b[0;32m    372\u001b[0m         \u001b[38;5;124m\"\u001b[39m\u001b[38;5;124mThe score on these train-test partitions for these parameters\u001b[39m\u001b[38;5;124m\"\u001b[39m\n\u001b[1;32m   (...)\u001b[0m\n\u001b[0;32m    376\u001b[0m         \u001b[38;5;124mf\u001b[39m\u001b[38;5;124m\"\u001b[39m\u001b[38;5;124mBelow are more details about the failures:\u001b[39m\u001b[38;5;130;01m\\n\u001b[39;00m\u001b[38;5;132;01m{\u001b[39;00mfit_errors_summary\u001b[38;5;132;01m}\u001b[39;00m\u001b[38;5;124m\"\u001b[39m\n\u001b[0;32m    377\u001b[0m     )\n",
      "\u001b[1;31mValueError\u001b[0m: \nAll the 5 fits failed.\nIt is very likely that your model is misconfigured.\nYou can try to debug the error by setting error_score='raise'.\n\nBelow are more details about the failures:\n--------------------------------------------------------------------------------\n5 fits failed with the following error:\nTraceback (most recent call last):\n  File \"C:\\Users\\82107\\AppData\\Roaming\\Python\\Python39\\site-packages\\sklearn\\model_selection\\_validation.py\", line 686, in _fit_and_score\n    estimator.fit(X_train, y_train, **fit_params)\n  File \"C:\\Users\\82107\\AppData\\Roaming\\Python\\Python39\\site-packages\\sklearn\\ensemble\\_forest.py\", line 476, in fit\n    trees = Parallel(\n  File \"E:\\Anaconda\\lib\\site-packages\\joblib\\parallel.py\", line 1056, in __call__\n    self.retrieve()\n  File \"E:\\Anaconda\\lib\\site-packages\\joblib\\parallel.py\", line 935, in retrieve\n    self._output.extend(job.get(timeout=self.timeout))\n  File \"E:\\Anaconda\\lib\\multiprocessing\\pool.py\", line 771, in get\n    raise self._value\n  File \"E:\\Anaconda\\lib\\multiprocessing\\pool.py\", line 125, in worker\n    result = (True, func(*args, **kwds))\n  File \"E:\\Anaconda\\lib\\site-packages\\joblib\\_parallel_backends.py\", line 595, in __call__\n    return self.func(*args, **kwargs)\n  File \"E:\\Anaconda\\lib\\site-packages\\joblib\\parallel.py\", line 262, in __call__\n    return [func(*args, **kwargs)\n  File \"E:\\Anaconda\\lib\\site-packages\\joblib\\parallel.py\", line 262, in <listcomp>\n    return [func(*args, **kwargs)\n  File \"C:\\Users\\82107\\AppData\\Roaming\\Python\\Python39\\site-packages\\sklearn\\utils\\fixes.py\", line 117, in __call__\n    return self.function(*args, **kwargs)\n  File \"C:\\Users\\82107\\AppData\\Roaming\\Python\\Python39\\site-packages\\sklearn\\ensemble\\_forest.py\", line 191, in _parallel_build_trees\n    tree.fit(X, y, sample_weight=sample_weight, check_input=False)\n  File \"C:\\Users\\82107\\AppData\\Roaming\\Python\\Python39\\site-packages\\sklearn\\tree\\_classes.py\", line 969, in fit\n    super().fit(\n  File \"C:\\Users\\82107\\AppData\\Roaming\\Python\\Python39\\site-packages\\sklearn\\tree\\_classes.py\", line 265, in fit\n    check_scalar(\n  File \"C:\\Users\\82107\\AppData\\Roaming\\Python\\Python39\\site-packages\\sklearn\\utils\\validation.py\", line 1480, in check_scalar\n    raise ValueError(\nValueError: min_samples_split == 1, must be >= 2.\n"
     ]
    }
   ],
   "source": [
    "# ExtraTrees Maximize\n",
    "BO_et_clf.maximize(init_points=50, n_iter=150, acq = 'poi')"
   ]
  },
  {
   "cell_type": "markdown",
   "id": "aaf91237",
   "metadata": {},
   "source": [
    "### Change Max parameters from float to int"
   ]
  },
  {
   "cell_type": "code",
   "execution_count": 18,
   "id": "664ae885",
   "metadata": {},
   "outputs": [],
   "source": [
    "## Catboost Max Parameters\n",
    "#cb_clf_max_params = BO_cb_clf.max['params']\n",
    "#cb_clf_max_params['n_estimators'] = int(round(cb_clf_max_params['n_estimators']))\n",
    "#cb_clf_max_params['max_depth'] = int(round(cb_clf_max_params['max_depth']))\n",
    "\n",
    "## XGB Max Parameters\n",
    "#xgb_clf_max_params = BO_xgb_clf.max['params']\n",
    "#xgb_clf_max_params['n_estimators'] = int(round(xgb_clf_max_params['n_estimators']))\n",
    "#xgb_clf_max_params['max_depth'] = int(round(xgb_clf_max_params['max_depth']))\n",
    "\n",
    "# LGBM Max Parameters\n",
    "lgbm_clf_max_params = BO_lgbm_clf.max['params']\n",
    "lgbm_clf_max_params['n_estimators'] = int(round(lgbm_clf_max_params['n_estimators']))\n",
    "lgbm_clf_max_params['max_depth'] = int(round(lgbm_clf_max_params['max_depth']))\n",
    "lgbm_clf_max_params['min_child_samples'] = int(round(lgbm_clf_max_params['min_child_samples']))\n",
    "\n",
    "# ExtraTrees Max Parameters\n",
    "et_clf_max_params = BO_et_clf.max['params']\n",
    "et_clf_max_params['n_estimators'] = int(round(et_clf_max_params['n_estimators']))\n",
    "et_clf_max_params['max_depth'] = int(round(et_clf_max_params['max_depth']))\n",
    "et_clf_max_params['min_samples_split'] = int(round(et_clf_max_params['min_samples_split']))\n",
    "et_clf_max_params['min_samples_leaf'] = int(round(et_clf_max_params['min_samples_leaf']))\n",
    "\n",
    "# Logistic Max Parameters\n",
    "lr_clf_max_params = BO_lr_clf.max['params']\n",
    "lr_clf_max_params['max_iter'] = int(round(lr_clf_max_params['max_iter']))"
   ]
  },
  {
   "cell_type": "markdown",
   "id": "5f9af3f3",
   "metadata": {},
   "source": [
    "### Retraing the Model with best parameters"
   ]
  },
  {
   "cell_type": "code",
   "execution_count": 20,
   "id": "30516285",
   "metadata": {
    "collapsed": true
   },
   "outputs": [
    {
     "name": "stderr",
     "output_type": "stream",
     "text": [
      "C:\\Users\\82107\\AppData\\Roaming\\Python\\Python39\\site-packages\\sklearn\\linear_model\\_logistic.py:444: ConvergenceWarning: lbfgs failed to converge (status=1):\n",
      "STOP: TOTAL NO. of ITERATIONS REACHED LIMIT.\n",
      "\n",
      "Increase the number of iterations (max_iter) or scale the data as shown in:\n",
      "    https://scikit-learn.org/stable/modules/preprocessing.html\n",
      "Please also refer to the documentation for alternative solver options:\n",
      "    https://scikit-learn.org/stable/modules/linear_model.html#logistic-regression\n",
      "  n_iter_i = _check_optimize_result(\n"
     ]
    },
    {
     "data": {
      "text/html": [
       "<style>#sk-container-id-1 {color: black;background-color: white;}#sk-container-id-1 pre{padding: 0;}#sk-container-id-1 div.sk-toggleable {background-color: white;}#sk-container-id-1 label.sk-toggleable__label {cursor: pointer;display: block;width: 100%;margin-bottom: 0;padding: 0.3em;box-sizing: border-box;text-align: center;}#sk-container-id-1 label.sk-toggleable__label-arrow:before {content: \"▸\";float: left;margin-right: 0.25em;color: #696969;}#sk-container-id-1 label.sk-toggleable__label-arrow:hover:before {color: black;}#sk-container-id-1 div.sk-estimator:hover label.sk-toggleable__label-arrow:before {color: black;}#sk-container-id-1 div.sk-toggleable__content {max-height: 0;max-width: 0;overflow: hidden;text-align: left;background-color: #f0f8ff;}#sk-container-id-1 div.sk-toggleable__content pre {margin: 0.2em;color: black;border-radius: 0.25em;background-color: #f0f8ff;}#sk-container-id-1 input.sk-toggleable__control:checked~div.sk-toggleable__content {max-height: 200px;max-width: 100%;overflow: auto;}#sk-container-id-1 input.sk-toggleable__control:checked~label.sk-toggleable__label-arrow:before {content: \"▾\";}#sk-container-id-1 div.sk-estimator input.sk-toggleable__control:checked~label.sk-toggleable__label {background-color: #d4ebff;}#sk-container-id-1 div.sk-label input.sk-toggleable__control:checked~label.sk-toggleable__label {background-color: #d4ebff;}#sk-container-id-1 input.sk-hidden--visually {border: 0;clip: rect(1px 1px 1px 1px);clip: rect(1px, 1px, 1px, 1px);height: 1px;margin: -1px;overflow: hidden;padding: 0;position: absolute;width: 1px;}#sk-container-id-1 div.sk-estimator {font-family: monospace;background-color: #f0f8ff;border: 1px dotted black;border-radius: 0.25em;box-sizing: border-box;margin-bottom: 0.5em;}#sk-container-id-1 div.sk-estimator:hover {background-color: #d4ebff;}#sk-container-id-1 div.sk-parallel-item::after {content: \"\";width: 100%;border-bottom: 1px solid gray;flex-grow: 1;}#sk-container-id-1 div.sk-label:hover label.sk-toggleable__label {background-color: #d4ebff;}#sk-container-id-1 div.sk-serial::before {content: \"\";position: absolute;border-left: 1px solid gray;box-sizing: border-box;top: 0;bottom: 0;left: 50%;z-index: 0;}#sk-container-id-1 div.sk-serial {display: flex;flex-direction: column;align-items: center;background-color: white;padding-right: 0.2em;padding-left: 0.2em;position: relative;}#sk-container-id-1 div.sk-item {position: relative;z-index: 1;}#sk-container-id-1 div.sk-parallel {display: flex;align-items: stretch;justify-content: center;background-color: white;position: relative;}#sk-container-id-1 div.sk-item::before, #sk-container-id-1 div.sk-parallel-item::before {content: \"\";position: absolute;border-left: 1px solid gray;box-sizing: border-box;top: 0;bottom: 0;left: 50%;z-index: -1;}#sk-container-id-1 div.sk-parallel-item {display: flex;flex-direction: column;z-index: 1;position: relative;background-color: white;}#sk-container-id-1 div.sk-parallel-item:first-child::after {align-self: flex-end;width: 50%;}#sk-container-id-1 div.sk-parallel-item:last-child::after {align-self: flex-start;width: 50%;}#sk-container-id-1 div.sk-parallel-item:only-child::after {width: 0;}#sk-container-id-1 div.sk-dashed-wrapped {border: 1px dashed gray;margin: 0 0.4em 0.5em 0.4em;box-sizing: border-box;padding-bottom: 0.4em;background-color: white;}#sk-container-id-1 div.sk-label label {font-family: monospace;font-weight: bold;display: inline-block;line-height: 1.2em;}#sk-container-id-1 div.sk-label-container {text-align: center;}#sk-container-id-1 div.sk-container {/* jupyter's `normalize.less` sets `[hidden] { display: none; }` but bootstrap.min.css set `[hidden] { display: none !important; }` so we also need the `!important` here to be able to override the default hidden behavior on the sphinx rendered scikit-learn.org. See: https://github.com/scikit-learn/scikit-learn/issues/21755 */display: inline-block !important;position: relative;}#sk-container-id-1 div.sk-text-repr-fallback {display: none;}</style><div id=\"sk-container-id-1\" class=\"sk-top-container\"><div class=\"sk-text-repr-fallback\"><pre>LogisticRegression(C=0.5562338549485265, max_iter=319)</pre><b>In a Jupyter environment, please rerun this cell to show the HTML representation or trust the notebook. <br />On GitHub, the HTML representation is unable to render, please try loading this page with nbviewer.org.</b></div><div class=\"sk-container\" hidden><div class=\"sk-item\"><div class=\"sk-estimator sk-toggleable\"><input class=\"sk-toggleable__control sk-hidden--visually\" id=\"sk-estimator-id-1\" type=\"checkbox\" checked><label for=\"sk-estimator-id-1\" class=\"sk-toggleable__label sk-toggleable__label-arrow\">LogisticRegression</label><div class=\"sk-toggleable__content\"><pre>LogisticRegression(C=0.5562338549485265, max_iter=319)</pre></div></div></div></div></div>"
      ],
      "text/plain": [
       "LogisticRegression(C=0.5562338549485265, max_iter=319)"
      ]
     },
     "execution_count": 20,
     "metadata": {},
     "output_type": "execute_result"
    }
   ],
   "source": [
    "#tune_cb_clf = CatBoostClassifier(**cb_clf_max_params)\n",
    "#tune_cb_clf.fit(tomek_x_train,tomek_y_train)\n",
    "\n",
    "#tune_xgb_clf = XGBClassifier(**xgb_clf_max_params)\n",
    "#tune_xgb_clf.fit(tomek_x_train,tomek_y_train)\n",
    "\n",
    "tune_lgbm_clf = LGBMClassifier(**lgbm_clf_max_params)\n",
    "tune_lgbm_clf.fit(tomek_x_train,tomek_y_train)\n",
    "\n",
    "tune_et_clf = ExtraTreesClassifier(**et_clf_max_params)\n",
    "tune_et_clf.fit(tomek_x_train,tomek_y_train)\n",
    "\n",
    "tune_lr_clf = LogisticRegression(**lr_clf_max_params)\n",
    "tune_lr_clf.fit(tomek_x_train,tomek_y_train)"
   ]
  },
  {
   "cell_type": "markdown",
   "id": "0648c9a0",
   "metadata": {},
   "source": [
    "### Validation Check"
   ]
  },
  {
   "cell_type": "code",
   "execution_count": 21,
   "id": "4f8f497d",
   "metadata": {},
   "outputs": [],
   "source": [
    "# Predict x_val by Tuned Model\n",
    "#tune_cb_clf_pred = tune_cb_clf.predict(x_val)\n",
    "#tune_xgb_clf_pred = tune_xgb_clf.predict(x_val)\n",
    "tune_lgbm_clf_pred = tune_lgbm_clf.predict(x_val)\n",
    "tune_et_clf_pred = tune_et_clf.predict(x_val)\n",
    "tune_lr_clf_pred = tune_lr_clf.predict(x_val)"
   ]
  },
  {
   "cell_type": "code",
   "execution_count": 22,
   "id": "b690268c",
   "metadata": {},
   "outputs": [
    {
     "name": "stdout",
     "output_type": "stream",
     "text": [
      "LGBM F1 score:0.8025850548395956\n",
      "ExtraTrees F1 score:0.6621445722166479\n",
      "Logistic F1 score:0.7382943606335106\n"
     ]
    }
   ],
   "source": [
    "# Validation Score\n",
    "#tune_cb_clf_val_score = f1_score(y_val, tune_cb_clf_pred, average = 'macro')\n",
    "#tune_xgb_clf_val_score = f1_score(y_val, tune_xgb_clf_pred, average = 'macro')\n",
    "tune_lgbm_clf_val_score = f1_score(y_val, tune_lgbm_clf_pred, average = 'macro')\n",
    "tune_et_clf_val_score = f1_score(y_val, tune_et_clf_pred, average = 'macro')\n",
    "tune_lr_clf_val_score = f1_score(y_val, tune_lr_clf_pred, average = 'macro')\n",
    "#print(f'Catboost F1 score:{tune_cb_clf_val_score}\\nXGB F1 score:{tune_xgb_clf_val_score}\\n')\n",
    "print(f'LGBM F1 score:{tune_lgbm_clf_val_score}\\nExtraTrees F1 score:{tune_et_clf_val_score}\\nLogistic F1 score:{tune_lr_clf_val_score}')"
   ]
  },
  {
   "cell_type": "markdown",
   "id": "97b6b65d",
   "metadata": {},
   "source": [
    "### Generate predict_proba"
   ]
  },
  {
   "cell_type": "code",
   "execution_count": 34,
   "id": "53c6f788",
   "metadata": {},
   "outputs": [],
   "source": [
    "#tune_cb_clf_pred_proba = np.array(i[1] for i in tune_cb_clf.predict_proba(tomek_x_train))\n",
    "#tune_xgb_clf_pred_proba = np.array(i[1] for i in tune_xgb_clf.predict_proba(tomek_x_train))\n",
    "tune_lgbm_clf_pred_proba = np.array([i[1] for i in tune_lgbm_clf.predict_proba(tomek_x_train)])\n",
    "tune_et_clf_pred_proba = np.array([i[1] for i in tune_et_clf.predict_proba(tomek_x_train)])\n",
    "tune_lr_clf_pred_proba = np.array([i[1] for i in tune_lr_clf.predict_proba(tomek_x_train)])"
   ]
  },
  {
   "cell_type": "markdown",
   "id": "c00c208f",
   "metadata": {},
   "source": [
    "## Saving Task1 Model"
   ]
  },
  {
   "cell_type": "code",
   "execution_count": 26,
   "id": "2341b6ea",
   "metadata": {},
   "outputs": [
    {
     "data": {
      "text/plain": [
       "['model_save/tuning/task1_lr_clf.pkl']"
      ]
     },
     "execution_count": 26,
     "metadata": {},
     "output_type": "execute_result"
    }
   ],
   "source": [
    "#joblib.dump(tune_cb_clf, 'model_save/tuning/task1_cb_clf.pkl')\n",
    "#joblib.dump(tune_xgb_clf, 'model_save/tuning/task1_xgb_clf.pkl')\n",
    "joblib.dump(tune_lgbm_clf, 'model_save/tuning/task1_lgbm_clf.pkl')\n",
    "joblib.dump(tune_et_clf, 'model_save/tuning/task1_et_clf.pkl')\n",
    "joblib.dump(tune_lr_clf, 'model_save/tuning/task1_lr_clf.pkl')"
   ]
  },
  {
   "cell_type": "markdown",
   "id": "bba03344",
   "metadata": {},
   "source": [
    "# Task2 : Predict Test Label by Regressor"
   ]
  },
  {
   "cell_type": "markdown",
   "id": "ef740a5a",
   "metadata": {},
   "source": [
    "### Generate Functoin for Bayesian Optimizer (Regressor)"
   ]
  },
  {
   "cell_type": "code",
   "execution_count": 74,
   "id": "b67d60d5",
   "metadata": {},
   "outputs": [],
   "source": [
    "def cb_reg_opt(n_estimators, learning_rate, max_depth, random_strength, l2_leaf_reg):\n",
    "    \n",
    "    params = { 'n_estimators' : int(round(n_estimators)),\n",
    "               'learning_rate' : learning_rate,\n",
    "               'max_depth' : int(round(max_depth)),\n",
    "               'random_strength' : random_strength,\n",
    "               'l2_leaf_reg' : l2_leaf_reg }\n",
    "    \n",
    "    cb = CatBoostRegressor(**params)\n",
    "    skf = KFold(n_splits = 5, shuffle = True, random_state = 17)\n",
    "    score = cross_val_score(cb, tomek_s_train, tune_et_clf_pred_proba, scoring = 'neg_mean_squared_error', cv = skf, n_jobs = -1)\n",
    "    \n",
    "    return np.mean(score)\n",
    "\n",
    "def xgb_reg_opt(n_estimators, learning_rate, max_depth, subsample, colsample_bytree, \n",
    "                reg_alpha, reg_lambda, gamma, min_child_weight):\n",
    "    \n",
    "    params = { 'n_estimators' : int(round(n_estimators)),\n",
    "               'learning_rate' : learning_rate,\n",
    "               'max_depth' : int(round(max_depth)),\n",
    "               'subsample' : subsample,\n",
    "               'colsample_bytree' : colsample_bytree,\n",
    "               'reg_alpha' : reg_alpha,\n",
    "               'reg_lambda' : reg_lambda,\n",
    "               'gamma' : gamma,\n",
    "               'min_child_weight' : min_child_weight, 'n_jobs' : -1 }\n",
    "    \n",
    "    xgb = XGBRegressor(**params)\n",
    "    skf = KFold(n_splits = 5, shuffle = True, random_state = 17)\n",
    "    score = cross_val_score(xgb, tomek_s_train, tune_et_clf_pred_proba, scoring = 'neg_mean_squared_error', cv = skf, n_jobs = -1)\n",
    "    \n",
    "    return np.mean(score)\n",
    "\n",
    "def lgbm_reg_opt(n_estimators, learning_rate, max_depth, min_child_samples, subsample, colsample_bytree, \n",
    "                reg_alpha, reg_lambda, min_child_weight, min_split_gain):\n",
    "    \n",
    "    params = { 'n_estimators' : int(round(n_estimators)),\n",
    "               'learning_rate' : learning_rate,\n",
    "               'max_depth' : int(round(max_depth)),\n",
    "               'min_child_samples' : int(round(min_child_samples)),\n",
    "               'subsample' : subsample,\n",
    "               'colsample_bytree' : colsample_bytree,\n",
    "               'reg_alpha' : reg_alpha,\n",
    "               'reg_lambda' : reg_lambda,\n",
    "               'min_child_weight' : min_child_weight,\n",
    "               'min_split_gain' : min_split_gain, 'n_jobs' : -1 }\n",
    "    \n",
    "    lgbm = LGBMRegressor(**params)\n",
    "    skf = KFold(n_splits = 5, shuffle = True, random_state = 17)\n",
    "    score = cross_val_score(lgbm, tomek_s_train, tune_et_clf_pred_proba, scoring = 'neg_mean_squared_error', cv = skf, n_jobs = -1)\n",
    "    \n",
    "    return np.mean(score)\n",
    "\n",
    "def et_reg_opt(n_estimators, max_depth, min_samples_split, min_samples_leaf):\n",
    "    \n",
    "    params = { 'n_estimators' : int(round(n_estimators)),\n",
    "               'max_depth' : int(round(max_depth)),\n",
    "               'min_samples_split' : int(round(min_samples_split)),\n",
    "               'min_samples_leaf' : int(round(min_samples_leaf)), 'n_jobs' : -1 }\n",
    "    \n",
    "    et = ExtraTreesRegressor(**params)\n",
    "    skf = KFold(n_splits = 5, shuffle = True, random_state = 17)\n",
    "    score = cross_val_score(et, tomek_s_train, tune_et_clf_pred_proba, scoring = 'neg_mean_squared_error', cv = skf, n_jobs = -1)\n",
    "    \n",
    "    return np.mean(score)\n",
    "\n",
    "def lr_reg_opt(max_iter, C):\n",
    "    \n",
    "    params = { 'max_iter' : int(round(max_iter)), 'C' : C, 'n_jobs' : -1 }\n",
    "    \n",
    "    lr = LogisticRegression(**params)\n",
    "    skf = KFold(n_splits = 5, shuffle = True, random_state = 17)\n",
    "    score = cross_val_score(lr, tomek_s_train, tune_et_clf_pred_proba, scoring = 'neg_mean_squared_error', cv = skf, n_jobs = -1)\n",
    "    \n",
    "    return np.mean(score)"
   ]
  },
  {
   "cell_type": "markdown",
   "id": "25489766",
   "metadata": {},
   "source": [
    "### Generate BayesianOptimization"
   ]
  },
  {
   "cell_type": "code",
   "execution_count": null,
   "id": "0c005e48",
   "metadata": {},
   "outputs": [],
   "source": [
    "BO_cb_reg = BayesianOptimization(f = cb_reg_opt, pbounds = cb_pbounds, random_state=17)\n",
    "BO_xgb_reg = BayesianOptimization(f = xgb_reg_opt, pbounds = xgb_pbounds, random_state=17)"
   ]
  },
  {
   "cell_type": "code",
   "execution_count": 75,
   "id": "128c0f01",
   "metadata": {},
   "outputs": [],
   "source": [
    "BO_lgbm_reg = BayesianOptimization(f = lgbm_reg_opt, pbounds = lgbm_pbounds, random_state=17)\n",
    "BO_et_reg = BayesianOptimization(f = et_reg_opt, pbounds = et_pbounds, random_state=17)"
   ]
  },
  {
   "cell_type": "code",
   "execution_count": 49,
   "id": "6238a754",
   "metadata": {},
   "outputs": [],
   "source": [
    "BO_lr_reg = BayesianOptimization(f = lr_reg_opt, pbounds = lr_pbounds, random_state=17)"
   ]
  },
  {
   "cell_type": "markdown",
   "id": "28810be2",
   "metadata": {},
   "source": [
    "### Optimizer Maximize"
   ]
  },
  {
   "cell_type": "code",
   "execution_count": null,
   "id": "cf859b05",
   "metadata": {},
   "outputs": [],
   "source": [
    "BO_cb_reg.maximize(init_points=50, n_iter=50, acq = 'ei', xi = 0.01)"
   ]
  },
  {
   "cell_type": "code",
   "execution_count": 73,
   "id": "0b94a52d",
   "metadata": {
    "collapsed": true
   },
   "outputs": [
    {
     "name": "stdout",
     "output_type": "stream",
     "text": [
      "|   iter    |  target   | colsam... |   gamma   | learni... | max_depth | min_ch... | n_esti... | reg_alpha | reg_la... | subsample |\n",
      "-------------------------------------------------------------------------------------------------------------------------------------\n",
      "| \u001b[0m1        \u001b[0m | \u001b[0m-0.05658 \u001b[0m | \u001b[0m0.7884   \u001b[0m | \u001b[0m5.311    \u001b[0m | \u001b[0m0.09657  \u001b[0m | \u001b[0m3.475    \u001b[0m | \u001b[0m12.02    \u001b[0m | \u001b[0m345.4    \u001b[0m | \u001b[0m6.379    \u001b[0m | \u001b[0m5.76     \u001b[0m | \u001b[0m0.7117   \u001b[0m |\n",
      "| \u001b[0m2        \u001b[0m | \u001b[0m-0.06062 \u001b[0m | \u001b[0m0.8073   \u001b[0m | \u001b[0m9.457    \u001b[0m | \u001b[0m0.03096  \u001b[0m | \u001b[0m9.048    \u001b[0m | \u001b[0m13.28    \u001b[0m | \u001b[0m73.04    \u001b[0m | \u001b[0m6.528    \u001b[0m | \u001b[0m5.522    \u001b[0m | \u001b[0m0.8793   \u001b[0m |\n",
      "| \u001b[95m3        \u001b[0m | \u001b[95m-0.0447  \u001b[0m | \u001b[95m0.8451   \u001b[0m | \u001b[95m2.837    \u001b[0m | \u001b[95m0.1496   \u001b[0m | \u001b[95m6.931    \u001b[0m | \u001b[95m6.545    \u001b[0m | \u001b[95m404.9    \u001b[0m | \u001b[95m4.191    \u001b[0m | \u001b[95m1.448    \u001b[0m | \u001b[95m0.7453   \u001b[0m |\n",
      "| \u001b[0m4        \u001b[0m | \u001b[0m-0.05366 \u001b[0m | \u001b[0m0.7166   \u001b[0m | \u001b[0m7.183    \u001b[0m | \u001b[0m0.1469   \u001b[0m | \u001b[0m4.391    \u001b[0m | \u001b[0m12.64    \u001b[0m | \u001b[0m305.6    \u001b[0m | \u001b[0m0.8326   \u001b[0m | \u001b[0m5.455    \u001b[0m | \u001b[0m0.7477   \u001b[0m |\n",
      "| \u001b[95m5        \u001b[0m | \u001b[95m-0.04179 \u001b[0m | \u001b[95m0.903    \u001b[0m | \u001b[95m1.194    \u001b[0m | \u001b[95m0.2231   \u001b[0m | \u001b[95m9.216    \u001b[0m | \u001b[95m12.16    \u001b[0m | \u001b[95m80.59    \u001b[0m | \u001b[95m9.608    \u001b[0m | \u001b[95m6.595    \u001b[0m | \u001b[95m0.9156   \u001b[0m |\n",
      "| \u001b[0m6        \u001b[0m | \u001b[0m-0.04891 \u001b[0m | \u001b[0m0.8653   \u001b[0m | \u001b[0m5.444    \u001b[0m | \u001b[0m0.3567   \u001b[0m | \u001b[0m4.855    \u001b[0m | \u001b[0m7.493    \u001b[0m | \u001b[0m195.7    \u001b[0m | \u001b[0m0.4113   \u001b[0m | \u001b[0m9.423    \u001b[0m | \u001b[0m0.9502   \u001b[0m |\n",
      "| \u001b[0m7        \u001b[0m | \u001b[0m-0.1049  \u001b[0m | \u001b[0m0.929    \u001b[0m | \u001b[0m5.368    \u001b[0m | \u001b[0m0.0289   \u001b[0m | \u001b[0m3.514    \u001b[0m | \u001b[0m10.01    \u001b[0m | \u001b[0m57.8     \u001b[0m | \u001b[0m9.392    \u001b[0m | \u001b[0m6.214    \u001b[0m | \u001b[0m0.8064   \u001b[0m |\n",
      "| \u001b[0m8        \u001b[0m | \u001b[0m-0.04272 \u001b[0m | \u001b[0m0.8947   \u001b[0m | \u001b[0m2.488    \u001b[0m | \u001b[0m0.08347  \u001b[0m | \u001b[0m8.476    \u001b[0m | \u001b[0m4.07     \u001b[0m | \u001b[0m290.0    \u001b[0m | \u001b[0m6.609    \u001b[0m | \u001b[0m1.835    \u001b[0m | \u001b[0m0.9667   \u001b[0m |\n",
      "| \u001b[0m9        \u001b[0m | \u001b[0m-0.04655 \u001b[0m | \u001b[0m0.7374   \u001b[0m | \u001b[0m4.79     \u001b[0m | \u001b[0m0.04075  \u001b[0m | \u001b[0m8.276    \u001b[0m | \u001b[0m10.91    \u001b[0m | \u001b[0m307.4    \u001b[0m | \u001b[0m5.521    \u001b[0m | \u001b[0m7.165    \u001b[0m | \u001b[0m0.9656   \u001b[0m |\n",
      "| \u001b[0m10       \u001b[0m | \u001b[0m-0.04594 \u001b[0m | \u001b[0m0.9929   \u001b[0m | \u001b[0m3.948    \u001b[0m | \u001b[0m0.3265   \u001b[0m | \u001b[0m8.283    \u001b[0m | \u001b[0m6.252    \u001b[0m | \u001b[0m405.7    \u001b[0m | \u001b[0m4.62     \u001b[0m | \u001b[0m1.65     \u001b[0m | \u001b[0m0.7796   \u001b[0m |\n",
      "=====================================================================================================================================\n"
     ]
    }
   ],
   "source": [
    "BO_xgb_reg.maximize(init_points=5, n_iter=5, acq = 'ei', xi = 0.01)"
   ]
  },
  {
   "cell_type": "code",
   "execution_count": 76,
   "id": "141fd89b",
   "metadata": {
    "collapsed": true
   },
   "outputs": [
    {
     "name": "stdout",
     "output_type": "stream",
     "text": [
      "|   iter    |  target   | colsam... | learni... | max_depth | min_ch... | min_ch... | min_sp... | n_esti... | reg_alpha | reg_la... | subsample |\n",
      "-------------------------------------------------------------------------------------------------------------------------------------------------\n",
      "| \u001b[0m1        \u001b[0m | \u001b[0m-0.02608 \u001b[0m | \u001b[0m0.7884   \u001b[0m | \u001b[0m0.2658   \u001b[0m | \u001b[0m4.341    \u001b[0m | \u001b[0m8.056    \u001b[0m | \u001b[0m12.02    \u001b[0m | \u001b[0m69.07    \u001b[0m | \u001b[0m336.9    \u001b[0m | \u001b[0m5.76     \u001b[0m | \u001b[0m0.4002   \u001b[0m | \u001b[0m0.8073   \u001b[0m |\n",
      "| \u001b[0m2        \u001b[0m | \u001b[0m-0.02608 \u001b[0m | \u001b[0m0.9837   \u001b[0m | \u001b[0m0.03096  \u001b[0m | \u001b[0m9.048    \u001b[0m | \u001b[0m44.48    \u001b[0m | \u001b[0m1.717    \u001b[0m | \u001b[0m68.72    \u001b[0m | \u001b[0m298.3    \u001b[0m | \u001b[0m5.979    \u001b[0m | \u001b[0m4.84     \u001b[0m | \u001b[0m0.7849   \u001b[0m |\n",
      "| \u001b[95m3        \u001b[0m | \u001b[95m-0.02195 \u001b[0m | \u001b[95m0.7893   \u001b[0m | \u001b[95m0.2812   \u001b[0m | \u001b[95m5.772    \u001b[0m | \u001b[95m40.49    \u001b[0m | \u001b[95m6.859    \u001b[0m | \u001b[95m22.95    \u001b[0m | \u001b[95m117.9    \u001b[0m | \u001b[95m0.5619   \u001b[0m | \u001b[95m7.183    \u001b[0m | \u001b[95m0.7877   \u001b[0m |\n",
      "| \u001b[95m4        \u001b[0m | \u001b[95m-0.02159 \u001b[0m | \u001b[95m0.7596   \u001b[0m | \u001b[95m0.4159   \u001b[0m | \u001b[95m6.976    \u001b[0m | \u001b[95m8.705    \u001b[0m | \u001b[95m8.63     \u001b[0m | \u001b[95m24.31    \u001b[0m | \u001b[95m354.5    \u001b[0m | \u001b[95m1.194    \u001b[0m | \u001b[95m4.456    \u001b[0m | \u001b[95m0.9664   \u001b[0m |\n",
      "| \u001b[0m5        \u001b[0m | \u001b[0m-0.02608 \u001b[0m | \u001b[0m0.9392   \u001b[0m | \u001b[0m0.03492  \u001b[0m | \u001b[0m9.726    \u001b[0m | \u001b[0m34.66    \u001b[0m | \u001b[0m11.06    \u001b[0m | \u001b[0m76.92    \u001b[0m | \u001b[0m449.5    \u001b[0m | \u001b[0m1.348    \u001b[0m | \u001b[0m7.772    \u001b[0m | \u001b[0m0.9514   \u001b[0m |\n",
      "| \u001b[0m6        \u001b[0m | \u001b[0m-0.02608 \u001b[0m | \u001b[0m0.9488   \u001b[0m | \u001b[0m0.01555  \u001b[0m | \u001b[0m5.733    \u001b[0m | \u001b[0m24.68    \u001b[0m | \u001b[0m8.289    \u001b[0m | \u001b[0m54.36    \u001b[0m | \u001b[0m108.7    \u001b[0m | \u001b[0m9.844    \u001b[0m | \u001b[0m0.6664   \u001b[0m | \u001b[0m0.8738   \u001b[0m |\n",
      "| \u001b[95m7        \u001b[0m | \u001b[95m-0.01795 \u001b[0m | \u001b[95m0.8742   \u001b[0m | \u001b[95m0.4772   \u001b[0m | \u001b[95m4.382    \u001b[0m | \u001b[95m8.75     \u001b[0m | \u001b[95m13.37    \u001b[0m | \u001b[95m11.41    \u001b[0m | \u001b[95m408.0    \u001b[0m | \u001b[95m7.684    \u001b[0m | \u001b[95m8.722    \u001b[0m | \u001b[95m0.9748   \u001b[0m |\n",
      "| \u001b[0m8        \u001b[0m | \u001b[0m-0.02608 \u001b[0m | \u001b[0m0.7821   \u001b[0m | \u001b[0m0.119    \u001b[0m | \u001b[0m5.174    \u001b[0m | \u001b[0m37.2     \u001b[0m | \u001b[0m2.158    \u001b[0m | \u001b[0m70.79    \u001b[0m | \u001b[0m436.3    \u001b[0m | \u001b[0m6.932    \u001b[0m | \u001b[0m7.853    \u001b[0m | \u001b[0m0.806    \u001b[0m |\n",
      "| \u001b[0m9        \u001b[0m | \u001b[0m-0.02608 \u001b[0m | \u001b[0m0.7661   \u001b[0m | \u001b[0m0.1234   \u001b[0m | \u001b[0m8.092    \u001b[0m | \u001b[0m7.886    \u001b[0m | \u001b[0m7.352    \u001b[0m | \u001b[0m53.89    \u001b[0m | \u001b[0m338.4    \u001b[0m | \u001b[0m1.071    \u001b[0m | \u001b[0m5.74     \u001b[0m | \u001b[0m0.9881   \u001b[0m |\n",
      "| \u001b[0m10       \u001b[0m | \u001b[0m-0.02135 \u001b[0m | \u001b[0m0.8547   \u001b[0m | \u001b[0m0.2853   \u001b[0m | \u001b[0m9.916    \u001b[0m | \u001b[0m42.48    \u001b[0m | \u001b[0m7.974    \u001b[0m | \u001b[0m17.21    \u001b[0m | \u001b[0m442.0    \u001b[0m | \u001b[0m7.134    \u001b[0m | \u001b[0m7.324    \u001b[0m | \u001b[0m0.9471   \u001b[0m |\n",
      "| \u001b[0m11       \u001b[0m | \u001b[0m-0.025   \u001b[0m | \u001b[0m0.9235   \u001b[0m | \u001b[0m0.2071   \u001b[0m | \u001b[0m6.603    \u001b[0m | \u001b[0m43.09    \u001b[0m | \u001b[0m13.02    \u001b[0m | \u001b[0m37.95    \u001b[0m | \u001b[0m103.7    \u001b[0m | \u001b[0m5.214    \u001b[0m | \u001b[0m4.495    \u001b[0m | \u001b[0m0.9692   \u001b[0m |\n",
      "| \u001b[0m12       \u001b[0m | \u001b[0m-0.02206 \u001b[0m | \u001b[0m0.8479   \u001b[0m | \u001b[0m0.2527   \u001b[0m | \u001b[0m5.556    \u001b[0m | \u001b[0m40.24    \u001b[0m | \u001b[0m14.27    \u001b[0m | \u001b[0m21.7     \u001b[0m | \u001b[0m347.5    \u001b[0m | \u001b[0m1.646    \u001b[0m | \u001b[0m3.096    \u001b[0m | \u001b[0m0.99     \u001b[0m |\n",
      "| \u001b[0m13       \u001b[0m | \u001b[0m-0.02608 \u001b[0m | \u001b[0m0.8449   \u001b[0m | \u001b[0m0.2708   \u001b[0m | \u001b[0m7.978    \u001b[0m | \u001b[0m35.93    \u001b[0m | \u001b[0m1.518    \u001b[0m | \u001b[0m89.94    \u001b[0m | \u001b[0m134.9    \u001b[0m | \u001b[0m7.822    \u001b[0m | \u001b[0m6.443    \u001b[0m | \u001b[0m0.8456   \u001b[0m |\n",
      "| \u001b[0m14       \u001b[0m | \u001b[0m-0.02608 \u001b[0m | \u001b[0m0.9787   \u001b[0m | \u001b[0m0.1357   \u001b[0m | \u001b[0m8.699    \u001b[0m | \u001b[0m36.28    \u001b[0m | \u001b[0m4.297    \u001b[0m | \u001b[0m95.8     \u001b[0m | \u001b[0m313.4    \u001b[0m | \u001b[0m5.835    \u001b[0m | \u001b[0m1.581    \u001b[0m | \u001b[0m0.8276   \u001b[0m |\n",
      "| \u001b[0m15       \u001b[0m | \u001b[0m-0.02441 \u001b[0m | \u001b[0m0.7705   \u001b[0m | \u001b[0m0.3007   \u001b[0m | \u001b[0m5.524    \u001b[0m | \u001b[0m12.6     \u001b[0m | \u001b[0m5.861    \u001b[0m | \u001b[0m29.31    \u001b[0m | \u001b[0m407.5    \u001b[0m | \u001b[0m7.919    \u001b[0m | \u001b[0m1.654    \u001b[0m | \u001b[0m0.9251   \u001b[0m |\n",
      "| \u001b[0m16       \u001b[0m | \u001b[0m-0.02608 \u001b[0m | \u001b[0m0.7168   \u001b[0m | \u001b[0m0.117    \u001b[0m | \u001b[0m7.551    \u001b[0m | \u001b[0m37.32    \u001b[0m | \u001b[0m7.721    \u001b[0m | \u001b[0m40.39    \u001b[0m | \u001b[0m225.4    \u001b[0m | \u001b[0m8.589    \u001b[0m | \u001b[0m5.119    \u001b[0m | \u001b[0m0.9624   \u001b[0m |\n",
      "| \u001b[0m17       \u001b[0m | \u001b[0m-0.02608 \u001b[0m | \u001b[0m0.9839   \u001b[0m | \u001b[0m0.4679   \u001b[0m | \u001b[0m6.451    \u001b[0m | \u001b[0m32.02    \u001b[0m | \u001b[0m3.9      \u001b[0m | \u001b[0m96.06    \u001b[0m | \u001b[0m494.1    \u001b[0m | \u001b[0m8.295    \u001b[0m | \u001b[0m5.384    \u001b[0m | \u001b[0m0.7251   \u001b[0m |\n",
      "| \u001b[0m18       \u001b[0m | \u001b[0m-0.02608 \u001b[0m | \u001b[0m0.7942   \u001b[0m | \u001b[0m0.05395  \u001b[0m | \u001b[0m4.434    \u001b[0m | \u001b[0m19.65    \u001b[0m | \u001b[0m8.023    \u001b[0m | \u001b[0m89.05    \u001b[0m | \u001b[0m167.5    \u001b[0m | \u001b[0m5.306    \u001b[0m | \u001b[0m8.44     \u001b[0m | \u001b[0m0.741    \u001b[0m |\n",
      "| \u001b[95m19       \u001b[0m | \u001b[95m-0.01781 \u001b[0m | \u001b[95m0.8201   \u001b[0m | \u001b[95m0.2847   \u001b[0m | \u001b[95m4.302    \u001b[0m | \u001b[95m5.617    \u001b[0m | \u001b[95m9.299    \u001b[0m | \u001b[95m11.41    \u001b[0m | \u001b[95m313.7    \u001b[0m | \u001b[95m4.093    \u001b[0m | \u001b[95m2.294    \u001b[0m | \u001b[95m0.757    \u001b[0m |\n",
      "| \u001b[0m20       \u001b[0m | \u001b[0m-0.02608 \u001b[0m | \u001b[0m0.974    \u001b[0m | \u001b[0m0.2955   \u001b[0m | \u001b[0m4.198    \u001b[0m | \u001b[0m37.15    \u001b[0m | \u001b[0m4.338    \u001b[0m | \u001b[0m92.96    \u001b[0m | \u001b[0m374.6    \u001b[0m | \u001b[0m6.772    \u001b[0m | \u001b[0m9.868    \u001b[0m | \u001b[0m0.8619   \u001b[0m |\n",
      "| \u001b[0m21       \u001b[0m | \u001b[0m-0.02608 \u001b[0m | \u001b[0m0.8492   \u001b[0m | \u001b[0m0.4492   \u001b[0m | \u001b[0m9.731    \u001b[0m | \u001b[0m5.099    \u001b[0m | \u001b[0m12.64    \u001b[0m | \u001b[0m60.15    \u001b[0m | \u001b[0m470.8    \u001b[0m | \u001b[0m7.187    \u001b[0m | \u001b[0m9.581    \u001b[0m | \u001b[0m0.9277   \u001b[0m |\n",
      "| \u001b[0m22       \u001b[0m | \u001b[0m-0.02081 \u001b[0m | \u001b[0m0.7792   \u001b[0m | \u001b[0m0.06874  \u001b[0m | \u001b[0m9.311    \u001b[0m | \u001b[0m28.22    \u001b[0m | \u001b[0m12.89    \u001b[0m | \u001b[0m14.98    \u001b[0m | \u001b[0m243.5    \u001b[0m | \u001b[0m2.064    \u001b[0m | \u001b[0m8.707    \u001b[0m | \u001b[0m0.9082   \u001b[0m |\n",
      "| \u001b[0m23       \u001b[0m | \u001b[0m-0.02608 \u001b[0m | \u001b[0m0.7187   \u001b[0m | \u001b[0m0.3078   \u001b[0m | \u001b[0m8.875    \u001b[0m | \u001b[0m6.52     \u001b[0m | \u001b[0m9.577    \u001b[0m | \u001b[0m93.32    \u001b[0m | \u001b[0m118.2    \u001b[0m | \u001b[0m7.282    \u001b[0m | \u001b[0m1.517    \u001b[0m | \u001b[0m0.952    \u001b[0m |\n",
      "| \u001b[0m24       \u001b[0m | \u001b[0m-0.02437 \u001b[0m | \u001b[0m0.7548   \u001b[0m | \u001b[0m0.1962   \u001b[0m | \u001b[0m5.521    \u001b[0m | \u001b[0m22.91    \u001b[0m | \u001b[0m14.86    \u001b[0m | \u001b[0m27.89    \u001b[0m | \u001b[0m216.2    \u001b[0m | \u001b[0m7.696    \u001b[0m | \u001b[0m4.46     \u001b[0m | \u001b[0m0.8669   \u001b[0m |\n",
      "| \u001b[0m25       \u001b[0m | \u001b[0m-0.02528 \u001b[0m | \u001b[0m0.9291   \u001b[0m | \u001b[0m0.4999   \u001b[0m | \u001b[0m8.725    \u001b[0m | \u001b[0m24.75    \u001b[0m | \u001b[0m5.788    \u001b[0m | \u001b[0m40.24    \u001b[0m | \u001b[0m445.8    \u001b[0m | \u001b[0m7.518    \u001b[0m | \u001b[0m0.7804   \u001b[0m | \u001b[0m0.8579   \u001b[0m |\n",
      "| \u001b[0m26       \u001b[0m | \u001b[0m-0.02246 \u001b[0m | \u001b[0m0.9019   \u001b[0m | \u001b[0m0.2443   \u001b[0m | \u001b[0m6.668    \u001b[0m | \u001b[0m43.65    \u001b[0m | \u001b[0m5.699    \u001b[0m | \u001b[0m22.16    \u001b[0m | \u001b[0m324.4    \u001b[0m | \u001b[0m6.606    \u001b[0m | \u001b[0m9.771    \u001b[0m | \u001b[0m0.9467   \u001b[0m |\n",
      "| \u001b[0m27       \u001b[0m | \u001b[0m-0.02608 \u001b[0m | \u001b[0m0.9336   \u001b[0m | \u001b[0m0.4715   \u001b[0m | \u001b[0m5.791    \u001b[0m | \u001b[0m18.6     \u001b[0m | \u001b[0m10.71    \u001b[0m | \u001b[0m60.35    \u001b[0m | \u001b[0m282.1    \u001b[0m | \u001b[0m2.235    \u001b[0m | \u001b[0m6.502    \u001b[0m | \u001b[0m0.9032   \u001b[0m |\n",
      "| \u001b[0m28       \u001b[0m | \u001b[0m-0.02608 \u001b[0m | \u001b[0m0.8159   \u001b[0m | \u001b[0m0.1314   \u001b[0m | \u001b[0m9.991    \u001b[0m | \u001b[0m16.9     \u001b[0m | \u001b[0m3.307    \u001b[0m | \u001b[0m80.49    \u001b[0m | \u001b[0m266.1    \u001b[0m | \u001b[0m9.534    \u001b[0m | \u001b[0m3.635    \u001b[0m | \u001b[0m0.8809   \u001b[0m |\n",
      "| \u001b[0m29       \u001b[0m | \u001b[0m-0.02083 \u001b[0m | \u001b[0m0.7029   \u001b[0m | \u001b[0m0.3843   \u001b[0m | \u001b[0m9.761    \u001b[0m | \u001b[0m35.86    \u001b[0m | \u001b[0m12.72    \u001b[0m | \u001b[0m19.27    \u001b[0m | \u001b[0m404.7    \u001b[0m | \u001b[0m4.312    \u001b[0m | \u001b[0m1.761    \u001b[0m | \u001b[0m0.9701   \u001b[0m |\n",
      "| \u001b[0m30       \u001b[0m | \u001b[0m-0.02608 \u001b[0m | \u001b[0m0.8989   \u001b[0m | \u001b[0m0.1087   \u001b[0m | \u001b[0m4.871    \u001b[0m | \u001b[0m11.99    \u001b[0m | \u001b[0m10.14    \u001b[0m | \u001b[0m73.84    \u001b[0m | \u001b[0m77.92    \u001b[0m | \u001b[0m9.761    \u001b[0m | \u001b[0m3.025    \u001b[0m | \u001b[0m0.8971   \u001b[0m |\n",
      "| \u001b[0m31       \u001b[0m | \u001b[0m-0.02608 \u001b[0m | \u001b[0m0.9386   \u001b[0m | \u001b[0m0.4377   \u001b[0m | \u001b[0m7.942    \u001b[0m | \u001b[0m34.85    \u001b[0m | \u001b[0m7.707    \u001b[0m | \u001b[0m42.31    \u001b[0m | \u001b[0m479.5    \u001b[0m | \u001b[0m6.096    \u001b[0m | \u001b[0m8.571    \u001b[0m | \u001b[0m0.9641   \u001b[0m |\n",
      "| \u001b[0m32       \u001b[0m | \u001b[0m-0.02608 \u001b[0m | \u001b[0m0.7538   \u001b[0m | \u001b[0m0.1092   \u001b[0m | \u001b[0m3.248    \u001b[0m | \u001b[0m11.77    \u001b[0m | \u001b[0m2.615    \u001b[0m | \u001b[0m91.33    \u001b[0m | \u001b[0m491.1    \u001b[0m | \u001b[0m5.104    \u001b[0m | \u001b[0m4.47     \u001b[0m | \u001b[0m0.9054   \u001b[0m |\n",
      "| \u001b[0m33       \u001b[0m | \u001b[0m-0.02608 \u001b[0m | \u001b[0m0.7372   \u001b[0m | \u001b[0m0.3497   \u001b[0m | \u001b[0m6.076    \u001b[0m | \u001b[0m34.51    \u001b[0m | \u001b[0m12.16    \u001b[0m | \u001b[0m59.36    \u001b[0m | \u001b[0m187.4    \u001b[0m | \u001b[0m3.299    \u001b[0m | \u001b[0m2.112    \u001b[0m | \u001b[0m0.9362   \u001b[0m |\n"
     ]
    },
    {
     "name": "stdout",
     "output_type": "stream",
     "text": [
      "| \u001b[0m34       \u001b[0m | \u001b[0m-0.02608 \u001b[0m | \u001b[0m0.8213   \u001b[0m | \u001b[0m0.3552   \u001b[0m | \u001b[0m5.013    \u001b[0m | \u001b[0m17.88    \u001b[0m | \u001b[0m5.666    \u001b[0m | \u001b[0m55.49    \u001b[0m | \u001b[0m464.8    \u001b[0m | \u001b[0m7.22     \u001b[0m | \u001b[0m2.677    \u001b[0m | \u001b[0m0.7112   \u001b[0m |\n",
      "| \u001b[0m35       \u001b[0m | \u001b[0m-0.02608 \u001b[0m | \u001b[0m0.8327   \u001b[0m | \u001b[0m0.1456   \u001b[0m | \u001b[0m8.403    \u001b[0m | \u001b[0m23.03    \u001b[0m | \u001b[0m3.607    \u001b[0m | \u001b[0m89.95    \u001b[0m | \u001b[0m414.2    \u001b[0m | \u001b[0m3.428    \u001b[0m | \u001b[0m2.884    \u001b[0m | \u001b[0m0.886    \u001b[0m |\n",
      "| \u001b[0m36       \u001b[0m | \u001b[0m-0.02608 \u001b[0m | \u001b[0m0.9314   \u001b[0m | \u001b[0m0.3514   \u001b[0m | \u001b[0m9.154    \u001b[0m | \u001b[0m31.45    \u001b[0m | \u001b[0m4.954    \u001b[0m | \u001b[0m64.4     \u001b[0m | \u001b[0m340.0    \u001b[0m | \u001b[0m0.7467   \u001b[0m | \u001b[0m0.9894   \u001b[0m | \u001b[0m0.8237   \u001b[0m |\n",
      "| \u001b[0m37       \u001b[0m | \u001b[0m-0.02608 \u001b[0m | \u001b[0m0.8013   \u001b[0m | \u001b[0m0.173    \u001b[0m | \u001b[0m6.453    \u001b[0m | \u001b[0m19.23    \u001b[0m | \u001b[0m3.763    \u001b[0m | \u001b[0m49.46    \u001b[0m | \u001b[0m135.4    \u001b[0m | \u001b[0m6.866    \u001b[0m | \u001b[0m3.967    \u001b[0m | \u001b[0m0.8097   \u001b[0m |\n",
      "| \u001b[0m38       \u001b[0m | \u001b[0m-0.02608 \u001b[0m | \u001b[0m0.8786   \u001b[0m | \u001b[0m0.07125  \u001b[0m | \u001b[0m7.544    \u001b[0m | \u001b[0m10.26    \u001b[0m | \u001b[0m12.38    \u001b[0m | \u001b[0m52.64    \u001b[0m | \u001b[0m83.35    \u001b[0m | \u001b[0m4.362    \u001b[0m | \u001b[0m4.963    \u001b[0m | \u001b[0m0.8278   \u001b[0m |\n",
      "| \u001b[0m39       \u001b[0m | \u001b[0m-0.02608 \u001b[0m | \u001b[0m0.7302   \u001b[0m | \u001b[0m0.4686   \u001b[0m | \u001b[0m6.17     \u001b[0m | \u001b[0m46.17    \u001b[0m | \u001b[0m14.77    \u001b[0m | \u001b[0m47.61    \u001b[0m | \u001b[0m477.9    \u001b[0m | \u001b[0m3.954    \u001b[0m | \u001b[0m4.033    \u001b[0m | \u001b[0m0.7285   \u001b[0m |\n",
      "| \u001b[0m40       \u001b[0m | \u001b[0m-0.01963 \u001b[0m | \u001b[0m0.9467   \u001b[0m | \u001b[0m0.1512   \u001b[0m | \u001b[0m7.198    \u001b[0m | \u001b[0m31.82    \u001b[0m | \u001b[0m7.77     \u001b[0m | \u001b[0m12.51    \u001b[0m | \u001b[0m183.3    \u001b[0m | \u001b[0m9.082    \u001b[0m | \u001b[0m5.394    \u001b[0m | \u001b[0m0.7438   \u001b[0m |\n",
      "| \u001b[0m41       \u001b[0m | \u001b[0m-0.02425 \u001b[0m | \u001b[0m0.7455   \u001b[0m | \u001b[0m0.2032   \u001b[0m | \u001b[0m3.922    \u001b[0m | \u001b[0m41.32    \u001b[0m | \u001b[0m7.141    \u001b[0m | \u001b[0m28.18    \u001b[0m | \u001b[0m144.0    \u001b[0m | \u001b[0m0.3298   \u001b[0m | \u001b[0m7.018    \u001b[0m | \u001b[0m0.9108   \u001b[0m |\n",
      "| \u001b[0m42       \u001b[0m | \u001b[0m-0.02608 \u001b[0m | \u001b[0m0.9318   \u001b[0m | \u001b[0m0.4731   \u001b[0m | \u001b[0m6.416    \u001b[0m | \u001b[0m47.81    \u001b[0m | \u001b[0m4.099    \u001b[0m | \u001b[0m90.8     \u001b[0m | \u001b[0m86.1     \u001b[0m | \u001b[0m0.03264  \u001b[0m | \u001b[0m0.8812   \u001b[0m | \u001b[0m0.8594   \u001b[0m |\n",
      "| \u001b[0m43       \u001b[0m | \u001b[0m-0.01815 \u001b[0m | \u001b[0m0.7936   \u001b[0m | \u001b[0m0.385    \u001b[0m | \u001b[0m5.932    \u001b[0m | \u001b[0m29.89    \u001b[0m | \u001b[0m7.28     \u001b[0m | \u001b[0m13.52    \u001b[0m | \u001b[0m167.3    \u001b[0m | \u001b[0m0.5191   \u001b[0m | \u001b[0m1.037    \u001b[0m | \u001b[0m0.9505   \u001b[0m |\n",
      "| \u001b[0m44       \u001b[0m | \u001b[0m-0.02608 \u001b[0m | \u001b[0m0.9339   \u001b[0m | \u001b[0m0.3779   \u001b[0m | \u001b[0m8.962    \u001b[0m | \u001b[0m17.36    \u001b[0m | \u001b[0m6.173    \u001b[0m | \u001b[0m91.81    \u001b[0m | \u001b[0m53.92    \u001b[0m | \u001b[0m3.08     \u001b[0m | \u001b[0m2.763    \u001b[0m | \u001b[0m0.8812   \u001b[0m |\n",
      "| \u001b[0m45       \u001b[0m | \u001b[0m-0.02173 \u001b[0m | \u001b[0m0.9445   \u001b[0m | \u001b[0m0.1208   \u001b[0m | \u001b[0m9.649    \u001b[0m | \u001b[0m19.94    \u001b[0m | \u001b[0m7.939    \u001b[0m | \u001b[0m17.15    \u001b[0m | \u001b[0m193.6    \u001b[0m | \u001b[0m3.629    \u001b[0m | \u001b[0m6.867    \u001b[0m | \u001b[0m0.7938   \u001b[0m |\n",
      "| \u001b[0m46       \u001b[0m | \u001b[0m-0.02608 \u001b[0m | \u001b[0m0.9454   \u001b[0m | \u001b[0m0.1059   \u001b[0m | \u001b[0m5.868    \u001b[0m | \u001b[0m15.71    \u001b[0m | \u001b[0m8.318    \u001b[0m | \u001b[0m93.79    \u001b[0m | \u001b[0m494.8    \u001b[0m | \u001b[0m9.561    \u001b[0m | \u001b[0m3.851    \u001b[0m | \u001b[0m0.8523   \u001b[0m |\n",
      "| \u001b[0m47       \u001b[0m | \u001b[0m-0.02186 \u001b[0m | \u001b[0m0.8525   \u001b[0m | \u001b[0m0.29     \u001b[0m | \u001b[0m6.176    \u001b[0m | \u001b[0m15.53    \u001b[0m | \u001b[0m9.881    \u001b[0m | \u001b[0m22.54    \u001b[0m | \u001b[0m320.9    \u001b[0m | \u001b[0m1.401    \u001b[0m | \u001b[0m1.006    \u001b[0m | \u001b[0m0.9102   \u001b[0m |\n",
      "| \u001b[0m48       \u001b[0m | \u001b[0m-0.02608 \u001b[0m | \u001b[0m0.8424   \u001b[0m | \u001b[0m0.4788   \u001b[0m | \u001b[0m6.024    \u001b[0m | \u001b[0m7.543    \u001b[0m | \u001b[0m1.237    \u001b[0m | \u001b[0m44.67    \u001b[0m | \u001b[0m56.17    \u001b[0m | \u001b[0m5.299    \u001b[0m | \u001b[0m5.544    \u001b[0m | \u001b[0m0.9563   \u001b[0m |\n",
      "| \u001b[0m49       \u001b[0m | \u001b[0m-0.02608 \u001b[0m | \u001b[0m0.9086   \u001b[0m | \u001b[0m0.328    \u001b[0m | \u001b[0m9.718    \u001b[0m | \u001b[0m12.06    \u001b[0m | \u001b[0m13.7     \u001b[0m | \u001b[0m57.44    \u001b[0m | \u001b[0m61.2     \u001b[0m | \u001b[0m4.193    \u001b[0m | \u001b[0m6.375    \u001b[0m | \u001b[0m0.9277   \u001b[0m |\n",
      "| \u001b[0m50       \u001b[0m | \u001b[0m-0.02608 \u001b[0m | \u001b[0m0.7303   \u001b[0m | \u001b[0m0.4932   \u001b[0m | \u001b[0m3.396    \u001b[0m | \u001b[0m30.58    \u001b[0m | \u001b[0m12.88    \u001b[0m | \u001b[0m78.53    \u001b[0m | \u001b[0m349.9    \u001b[0m | \u001b[0m0.3789   \u001b[0m | \u001b[0m8.647    \u001b[0m | \u001b[0m0.7065   \u001b[0m |\n",
      "| \u001b[0m51       \u001b[0m | \u001b[0m-0.02269 \u001b[0m | \u001b[0m0.7      \u001b[0m | \u001b[0m0.001    \u001b[0m | \u001b[0m3.968    \u001b[0m | \u001b[0m5.0      \u001b[0m | \u001b[0m8.578    \u001b[0m | \u001b[0m10.0     \u001b[0m | \u001b[0m287.6    \u001b[0m | \u001b[0m5.443    \u001b[0m | \u001b[0m3.651    \u001b[0m | \u001b[0m0.7      \u001b[0m |\n",
      "| \u001b[0m52       \u001b[0m | \u001b[0m-0.01953 \u001b[0m | \u001b[0m0.9242   \u001b[0m | \u001b[0m0.02316  \u001b[0m | \u001b[0m9.42     \u001b[0m | \u001b[0m33.96    \u001b[0m | \u001b[0m9.038    \u001b[0m | \u001b[0m10.58    \u001b[0m | \u001b[0m181.8    \u001b[0m | \u001b[0m9.532    \u001b[0m | \u001b[0m2.247    \u001b[0m | \u001b[0m0.8442   \u001b[0m |\n",
      "| \u001b[95m53       \u001b[0m | \u001b[95m-0.01599 \u001b[0m | \u001b[95m1.0      \u001b[0m | \u001b[95m0.5      \u001b[0m | \u001b[95m3.0      \u001b[0m | \u001b[95m13.92    \u001b[0m | \u001b[95m15.0     \u001b[0m | \u001b[95m10.0     \u001b[0m | \u001b[95m163.6    \u001b[0m | \u001b[95m0.01     \u001b[0m | \u001b[95m6.259    \u001b[0m | \u001b[95m0.811    \u001b[0m |\n",
      "| \u001b[0m54       \u001b[0m | \u001b[0m-0.01662 \u001b[0m | \u001b[0m1.0      \u001b[0m | \u001b[0m0.5      \u001b[0m | \u001b[0m3.0      \u001b[0m | \u001b[0m5.527    \u001b[0m | \u001b[0m3.236    \u001b[0m | \u001b[0m10.0     \u001b[0m | \u001b[0m158.9    \u001b[0m | \u001b[0m10.0     \u001b[0m | \u001b[0m0.01     \u001b[0m | \u001b[0m0.7      \u001b[0m |\n",
      "| \u001b[0m55       \u001b[0m | \u001b[0m-0.01601 \u001b[0m | \u001b[0m1.0      \u001b[0m | \u001b[0m0.5      \u001b[0m | \u001b[0m3.0      \u001b[0m | \u001b[0m5.0      \u001b[0m | \u001b[0m15.0     \u001b[0m | \u001b[0m10.0     \u001b[0m | \u001b[0m142.0    \u001b[0m | \u001b[0m0.01     \u001b[0m | \u001b[0m10.0     \u001b[0m | \u001b[0m0.7      \u001b[0m |\n",
      "| \u001b[0m56       \u001b[0m | \u001b[0m-0.01751 \u001b[0m | \u001b[0m0.9976   \u001b[0m | \u001b[0m0.2687   \u001b[0m | \u001b[0m7.464    \u001b[0m | \u001b[0m11.82    \u001b[0m | \u001b[0m13.34    \u001b[0m | \u001b[0m10.17    \u001b[0m | \u001b[0m146.9    \u001b[0m | \u001b[0m5.995    \u001b[0m | \u001b[0m2.785    \u001b[0m | \u001b[0m0.9874   \u001b[0m |\n",
      "| \u001b[0m57       \u001b[0m | \u001b[0m-0.01754 \u001b[0m | \u001b[0m0.8083   \u001b[0m | \u001b[0m0.2492   \u001b[0m | \u001b[0m7.315    \u001b[0m | \u001b[0m7.871    \u001b[0m | \u001b[0m12.62    \u001b[0m | \u001b[0m10.21    \u001b[0m | \u001b[0m154.3    \u001b[0m | \u001b[0m0.1922   \u001b[0m | \u001b[0m9.822    \u001b[0m | \u001b[0m0.9586   \u001b[0m |\n",
      "| \u001b[0m58       \u001b[0m | \u001b[0m-0.01601 \u001b[0m | \u001b[0m1.0      \u001b[0m | \u001b[0m0.5      \u001b[0m | \u001b[0m3.0      \u001b[0m | \u001b[0m5.0      \u001b[0m | \u001b[0m15.0     \u001b[0m | \u001b[0m10.0     \u001b[0m | \u001b[0m115.0    \u001b[0m | \u001b[0m0.01     \u001b[0m | \u001b[0m10.0     \u001b[0m | \u001b[0m0.7      \u001b[0m |\n",
      "| \u001b[0m59       \u001b[0m | \u001b[0m-0.0167  \u001b[0m | \u001b[0m1.0      \u001b[0m | \u001b[0m0.5      \u001b[0m | \u001b[0m10.0     \u001b[0m | \u001b[0m5.0      \u001b[0m | \u001b[0m15.0     \u001b[0m | \u001b[0m10.0     \u001b[0m | \u001b[0m332.5    \u001b[0m | \u001b[0m10.0     \u001b[0m | \u001b[0m10.0     \u001b[0m | \u001b[0m0.7      \u001b[0m |\n",
      "| \u001b[95m60       \u001b[0m | \u001b[95m-0.01583 \u001b[0m | \u001b[95m1.0      \u001b[0m | \u001b[95m0.5      \u001b[0m | \u001b[95m3.0      \u001b[0m | \u001b[95m5.0      \u001b[0m | \u001b[95m1.0      \u001b[0m | \u001b[95m10.0     \u001b[0m | \u001b[95m125.3    \u001b[0m | \u001b[95m0.01     \u001b[0m | \u001b[95m0.01     \u001b[0m | \u001b[95m0.7      \u001b[0m |\n",
      "| \u001b[0m61       \u001b[0m | \u001b[0m-0.01783 \u001b[0m | \u001b[0m0.7084   \u001b[0m | \u001b[0m0.5      \u001b[0m | \u001b[0m3.0      \u001b[0m | \u001b[0m5.0      \u001b[0m | \u001b[0m1.0      \u001b[0m | \u001b[0m10.0     \u001b[0m | \u001b[0m122.3    \u001b[0m | \u001b[0m10.0     \u001b[0m | \u001b[0m10.0     \u001b[0m | \u001b[0m0.7      \u001b[0m |\n",
      "| \u001b[0m62       \u001b[0m | \u001b[0m-0.01599 \u001b[0m | \u001b[0m0.7      \u001b[0m | \u001b[0m0.5      \u001b[0m | \u001b[0m3.0      \u001b[0m | \u001b[0m5.0      \u001b[0m | \u001b[0m15.0     \u001b[0m | \u001b[0m10.0     \u001b[0m | \u001b[0m167.7    \u001b[0m | \u001b[0m0.01     \u001b[0m | \u001b[0m0.01     \u001b[0m | \u001b[0m0.7      \u001b[0m |\n",
      "| \u001b[0m63       \u001b[0m | \u001b[0m-0.01583 \u001b[0m | \u001b[0m1.0      \u001b[0m | \u001b[0m0.5      \u001b[0m | \u001b[0m3.0      \u001b[0m | \u001b[0m5.0      \u001b[0m | \u001b[0m15.0     \u001b[0m | \u001b[0m10.0     \u001b[0m | \u001b[0m125.7    \u001b[0m | \u001b[0m0.01     \u001b[0m | \u001b[0m0.01     \u001b[0m | \u001b[0m0.7      \u001b[0m |\n",
      "| \u001b[0m64       \u001b[0m | \u001b[0m-0.02267 \u001b[0m | \u001b[0m0.7      \u001b[0m | \u001b[0m0.001    \u001b[0m | \u001b[0m3.0      \u001b[0m | \u001b[0m5.0      \u001b[0m | \u001b[0m1.0      \u001b[0m | \u001b[0m10.0     \u001b[0m | \u001b[0m331.9    \u001b[0m | \u001b[0m10.0     \u001b[0m | \u001b[0m10.0     \u001b[0m | \u001b[0m0.7      \u001b[0m |\n",
      "| \u001b[0m65       \u001b[0m | \u001b[0m-0.01792 \u001b[0m | \u001b[0m0.7554   \u001b[0m | \u001b[0m0.3192   \u001b[0m | \u001b[0m9.073    \u001b[0m | \u001b[0m6.208    \u001b[0m | \u001b[0m14.48    \u001b[0m | \u001b[0m11.57    \u001b[0m | \u001b[0m386.1    \u001b[0m | \u001b[0m4.791    \u001b[0m | \u001b[0m9.805    \u001b[0m | \u001b[0m0.9429   \u001b[0m |\n",
      "| \u001b[95m66       \u001b[0m | \u001b[95m-0.01553 \u001b[0m | \u001b[95m1.0      \u001b[0m | \u001b[95m0.5      \u001b[0m | \u001b[95m10.0     \u001b[0m | \u001b[95m50.0     \u001b[0m | \u001b[95m15.0     \u001b[0m | \u001b[95m10.0     \u001b[0m | \u001b[95m284.1    \u001b[0m | \u001b[95m0.01     \u001b[0m | \u001b[95m0.01     \u001b[0m | \u001b[95m0.7      \u001b[0m |\n",
      "| \u001b[0m67       \u001b[0m | \u001b[0m-0.01604 \u001b[0m | \u001b[0m0.7      \u001b[0m | \u001b[0m0.5      \u001b[0m | \u001b[0m10.0     \u001b[0m | \u001b[0m50.0     \u001b[0m | \u001b[0m15.0     \u001b[0m | \u001b[0m10.0     \u001b[0m | \u001b[0m304.1    \u001b[0m | \u001b[0m0.01     \u001b[0m | \u001b[0m0.01     \u001b[0m | \u001b[0m1.0      \u001b[0m |\n"
     ]
    },
    {
     "name": "stdout",
     "output_type": "stream",
     "text": [
      "| \u001b[0m68       \u001b[0m | \u001b[0m-0.01826 \u001b[0m | \u001b[0m0.7      \u001b[0m | \u001b[0m0.5      \u001b[0m | \u001b[0m10.0     \u001b[0m | \u001b[0m50.0     \u001b[0m | \u001b[0m15.0     \u001b[0m | \u001b[0m10.0     \u001b[0m | \u001b[0m292.4    \u001b[0m | \u001b[0m10.0     \u001b[0m | \u001b[0m0.01     \u001b[0m | \u001b[0m0.7      \u001b[0m |\n",
      "| \u001b[0m69       \u001b[0m | \u001b[0m-0.01601 \u001b[0m | \u001b[0m1.0      \u001b[0m | \u001b[0m0.5      \u001b[0m | \u001b[0m3.0      \u001b[0m | \u001b[0m50.0     \u001b[0m | \u001b[0m15.0     \u001b[0m | \u001b[0m10.0     \u001b[0m | \u001b[0m268.6    \u001b[0m | \u001b[0m0.01     \u001b[0m | \u001b[0m10.0     \u001b[0m | \u001b[0m1.0      \u001b[0m |\n",
      "| \u001b[0m70       \u001b[0m | \u001b[0m-0.01579 \u001b[0m | \u001b[0m1.0      \u001b[0m | \u001b[0m0.5      \u001b[0m | \u001b[0m10.0     \u001b[0m | \u001b[0m5.0      \u001b[0m | \u001b[0m15.0     \u001b[0m | \u001b[0m10.0     \u001b[0m | \u001b[0m316.3    \u001b[0m | \u001b[0m0.01     \u001b[0m | \u001b[0m10.0     \u001b[0m | \u001b[0m0.7      \u001b[0m |\n",
      "| \u001b[0m71       \u001b[0m | \u001b[0m-0.01666 \u001b[0m | \u001b[0m1.0      \u001b[0m | \u001b[0m0.5      \u001b[0m | \u001b[0m10.0     \u001b[0m | \u001b[0m5.0      \u001b[0m | \u001b[0m15.0     \u001b[0m | \u001b[0m10.0     \u001b[0m | \u001b[0m318.6    \u001b[0m | \u001b[0m10.0     \u001b[0m | \u001b[0m0.01     \u001b[0m | \u001b[0m0.7      \u001b[0m |\n",
      "| \u001b[0m72       \u001b[0m | \u001b[0m-0.01742 \u001b[0m | \u001b[0m1.0      \u001b[0m | \u001b[0m0.1381   \u001b[0m | \u001b[0m10.0     \u001b[0m | \u001b[0m50.0     \u001b[0m | \u001b[0m1.0      \u001b[0m | \u001b[0m10.0     \u001b[0m | \u001b[0m284.5    \u001b[0m | \u001b[0m0.01     \u001b[0m | \u001b[0m10.0     \u001b[0m | \u001b[0m1.0      \u001b[0m |\n",
      "| \u001b[0m73       \u001b[0m | \u001b[0m-0.01553 \u001b[0m | \u001b[0m1.0      \u001b[0m | \u001b[0m0.5      \u001b[0m | \u001b[0m10.0     \u001b[0m | \u001b[0m50.0     \u001b[0m | \u001b[0m15.0     \u001b[0m | \u001b[0m10.0     \u001b[0m | \u001b[0m255.0    \u001b[0m | \u001b[0m0.01     \u001b[0m | \u001b[0m0.01     \u001b[0m | \u001b[0m0.7548   \u001b[0m |\n",
      "| \u001b[0m74       \u001b[0m | \u001b[0m-0.01601 \u001b[0m | \u001b[0m1.0      \u001b[0m | \u001b[0m0.5      \u001b[0m | \u001b[0m3.0      \u001b[0m | \u001b[0m50.0     \u001b[0m | \u001b[0m15.0     \u001b[0m | \u001b[0m10.0     \u001b[0m | \u001b[0m229.8    \u001b[0m | \u001b[0m0.01     \u001b[0m | \u001b[0m10.0     \u001b[0m | \u001b[0m0.7      \u001b[0m |\n",
      "| \u001b[0m75       \u001b[0m | \u001b[0m-0.01601 \u001b[0m | \u001b[0m1.0      \u001b[0m | \u001b[0m0.5      \u001b[0m | \u001b[0m3.0      \u001b[0m | \u001b[0m50.0     \u001b[0m | \u001b[0m15.0     \u001b[0m | \u001b[0m10.0     \u001b[0m | \u001b[0m196.2    \u001b[0m | \u001b[0m0.01     \u001b[0m | \u001b[0m10.0     \u001b[0m | \u001b[0m0.7      \u001b[0m |\n",
      "| \u001b[0m76       \u001b[0m | \u001b[0m-0.01634 \u001b[0m | \u001b[0m0.7      \u001b[0m | \u001b[0m0.5      \u001b[0m | \u001b[0m10.0     \u001b[0m | \u001b[0m5.0      \u001b[0m | \u001b[0m15.0     \u001b[0m | \u001b[0m10.0     \u001b[0m | \u001b[0m436.1    \u001b[0m | \u001b[0m0.01     \u001b[0m | \u001b[0m10.0     \u001b[0m | \u001b[0m0.7      \u001b[0m |\n",
      "| \u001b[0m77       \u001b[0m | \u001b[0m-0.01583 \u001b[0m | \u001b[0m1.0      \u001b[0m | \u001b[0m0.5      \u001b[0m | \u001b[0m3.0      \u001b[0m | \u001b[0m50.0     \u001b[0m | \u001b[0m1.0      \u001b[0m | \u001b[0m10.0     \u001b[0m | \u001b[0m212.9    \u001b[0m | \u001b[0m0.01     \u001b[0m | \u001b[0m0.01     \u001b[0m | \u001b[0m0.999    \u001b[0m |\n",
      "| \u001b[0m78       \u001b[0m | \u001b[0m-0.01599 \u001b[0m | \u001b[0m0.7      \u001b[0m | \u001b[0m0.5      \u001b[0m | \u001b[0m3.0      \u001b[0m | \u001b[0m5.0      \u001b[0m | \u001b[0m15.0     \u001b[0m | \u001b[0m10.0     \u001b[0m | \u001b[0m500.0    \u001b[0m | \u001b[0m0.01     \u001b[0m | \u001b[0m0.01     \u001b[0m | \u001b[0m0.7      \u001b[0m |\n",
      "| \u001b[0m79       \u001b[0m | \u001b[0m-0.0178  \u001b[0m | \u001b[0m0.7653   \u001b[0m | \u001b[0m0.3781   \u001b[0m | \u001b[0m4.072    \u001b[0m | \u001b[0m5.612    \u001b[0m | \u001b[0m12.63    \u001b[0m | \u001b[0m11.81    \u001b[0m | \u001b[0m471.3    \u001b[0m | \u001b[0m8.666    \u001b[0m | \u001b[0m0.6055   \u001b[0m | \u001b[0m0.9277   \u001b[0m |\n",
      "| \u001b[0m80       \u001b[0m | \u001b[0m-0.01579 \u001b[0m | \u001b[0m1.0      \u001b[0m | \u001b[0m0.5      \u001b[0m | \u001b[0m10.0     \u001b[0m | \u001b[0m5.0      \u001b[0m | \u001b[0m15.0     \u001b[0m | \u001b[0m10.0     \u001b[0m | \u001b[0m349.7    \u001b[0m | \u001b[0m0.01     \u001b[0m | \u001b[0m10.0     \u001b[0m | \u001b[0m0.7      \u001b[0m |\n",
      "| \u001b[0m81       \u001b[0m | \u001b[0m-0.01553 \u001b[0m | \u001b[0m1.0      \u001b[0m | \u001b[0m0.5      \u001b[0m | \u001b[0m10.0     \u001b[0m | \u001b[0m5.0      \u001b[0m | \u001b[0m15.0     \u001b[0m | \u001b[0m10.0     \u001b[0m | \u001b[0m331.5    \u001b[0m | \u001b[0m0.01     \u001b[0m | \u001b[0m0.01     \u001b[0m | \u001b[0m0.7      \u001b[0m |\n",
      "| \u001b[0m82       \u001b[0m | \u001b[0m-0.01583 \u001b[0m | \u001b[0m1.0      \u001b[0m | \u001b[0m0.5      \u001b[0m | \u001b[0m3.0      \u001b[0m | \u001b[0m50.0     \u001b[0m | \u001b[0m15.0     \u001b[0m | \u001b[0m10.0     \u001b[0m | \u001b[0m212.2    \u001b[0m | \u001b[0m0.01     \u001b[0m | \u001b[0m0.01     \u001b[0m | \u001b[0m0.7      \u001b[0m |\n",
      "| \u001b[0m83       \u001b[0m | \u001b[0m-0.02522 \u001b[0m | \u001b[0m1.0      \u001b[0m | \u001b[0m0.001    \u001b[0m | \u001b[0m3.0      \u001b[0m | \u001b[0m50.0     \u001b[0m | \u001b[0m15.0     \u001b[0m | \u001b[0m10.0     \u001b[0m | \u001b[0m50.0     \u001b[0m | \u001b[0m0.01     \u001b[0m | \u001b[0m7.346    \u001b[0m | \u001b[0m0.7      \u001b[0m |\n",
      "| \u001b[0m84       \u001b[0m | \u001b[0m-0.01583 \u001b[0m | \u001b[0m1.0      \u001b[0m | \u001b[0m0.5      \u001b[0m | \u001b[0m3.0      \u001b[0m | \u001b[0m50.0     \u001b[0m | \u001b[0m1.0      \u001b[0m | \u001b[0m10.0     \u001b[0m | \u001b[0m253.0    \u001b[0m | \u001b[0m0.01     \u001b[0m | \u001b[0m0.01     \u001b[0m | \u001b[0m1.0      \u001b[0m |\n",
      "| \u001b[0m85       \u001b[0m | \u001b[0m-0.02131 \u001b[0m | \u001b[0m1.0      \u001b[0m | \u001b[0m0.001    \u001b[0m | \u001b[0m3.0      \u001b[0m | \u001b[0m5.0      \u001b[0m | \u001b[0m15.0     \u001b[0m | \u001b[0m10.0     \u001b[0m | \u001b[0m429.5    \u001b[0m | \u001b[0m0.01     \u001b[0m | \u001b[0m0.01     \u001b[0m | \u001b[0m0.7      \u001b[0m |\n",
      "| \u001b[0m86       \u001b[0m | \u001b[0m-0.01907 \u001b[0m | \u001b[0m0.9022   \u001b[0m | \u001b[0m0.2147   \u001b[0m | \u001b[0m7.157    \u001b[0m | \u001b[0m8.584    \u001b[0m | \u001b[0m3.089    \u001b[0m | \u001b[0m14.79    \u001b[0m | \u001b[0m495.5    \u001b[0m | \u001b[0m1.467    \u001b[0m | \u001b[0m9.326    \u001b[0m | \u001b[0m0.8615   \u001b[0m |\n",
      "| \u001b[0m87       \u001b[0m | \u001b[0m-0.01829 \u001b[0m | \u001b[0m0.7      \u001b[0m | \u001b[0m0.5      \u001b[0m | \u001b[0m10.0     \u001b[0m | \u001b[0m5.0      \u001b[0m | \u001b[0m15.0     \u001b[0m | \u001b[0m10.0     \u001b[0m | \u001b[0m452.3    \u001b[0m | \u001b[0m10.0     \u001b[0m | \u001b[0m10.0     \u001b[0m | \u001b[0m0.7411   \u001b[0m |\n",
      "| \u001b[0m88       \u001b[0m | \u001b[0m-0.02447 \u001b[0m | \u001b[0m1.0      \u001b[0m | \u001b[0m0.001    \u001b[0m | \u001b[0m3.0      \u001b[0m | \u001b[0m5.0      \u001b[0m | \u001b[0m1.0      \u001b[0m | \u001b[0m10.0     \u001b[0m | \u001b[0m98.19    \u001b[0m | \u001b[0m0.01     \u001b[0m | \u001b[0m0.01     \u001b[0m | \u001b[0m0.7      \u001b[0m |\n",
      "| \u001b[0m89       \u001b[0m | \u001b[0m-0.01601 \u001b[0m | \u001b[0m1.0      \u001b[0m | \u001b[0m0.5      \u001b[0m | \u001b[0m3.0      \u001b[0m | \u001b[0m18.28    \u001b[0m | \u001b[0m15.0     \u001b[0m | \u001b[0m10.0     \u001b[0m | \u001b[0m126.0    \u001b[0m | \u001b[0m0.01     \u001b[0m | \u001b[0m10.0     \u001b[0m | \u001b[0m0.7      \u001b[0m |\n",
      "| \u001b[0m90       \u001b[0m | \u001b[0m-0.01634 \u001b[0m | \u001b[0m0.7      \u001b[0m | \u001b[0m0.5      \u001b[0m | \u001b[0m10.0     \u001b[0m | \u001b[0m5.0      \u001b[0m | \u001b[0m1.0      \u001b[0m | \u001b[0m10.0     \u001b[0m | \u001b[0m419.3    \u001b[0m | \u001b[0m0.01     \u001b[0m | \u001b[0m10.0     \u001b[0m | \u001b[0m0.938    \u001b[0m |\n",
      "| \u001b[0m91       \u001b[0m | \u001b[0m-0.01604 \u001b[0m | \u001b[0m0.7      \u001b[0m | \u001b[0m0.5      \u001b[0m | \u001b[0m10.0     \u001b[0m | \u001b[0m50.0     \u001b[0m | \u001b[0m15.0     \u001b[0m | \u001b[0m10.0     \u001b[0m | \u001b[0m500.0    \u001b[0m | \u001b[0m0.01     \u001b[0m | \u001b[0m0.01     \u001b[0m | \u001b[0m0.7      \u001b[0m |\n",
      "| \u001b[0m92       \u001b[0m | \u001b[0m-0.01583 \u001b[0m | \u001b[0m1.0      \u001b[0m | \u001b[0m0.5      \u001b[0m | \u001b[0m3.0      \u001b[0m | \u001b[0m5.0      \u001b[0m | \u001b[0m1.0      \u001b[0m | \u001b[0m10.0     \u001b[0m | \u001b[0m145.5    \u001b[0m | \u001b[0m0.01     \u001b[0m | \u001b[0m0.01     \u001b[0m | \u001b[0m0.7      \u001b[0m |\n",
      "| \u001b[0m93       \u001b[0m | \u001b[0m-0.01604 \u001b[0m | \u001b[0m0.7      \u001b[0m | \u001b[0m0.5      \u001b[0m | \u001b[0m10.0     \u001b[0m | \u001b[0m5.0      \u001b[0m | \u001b[0m15.0     \u001b[0m | \u001b[0m10.0     \u001b[0m | \u001b[0m483.8    \u001b[0m | \u001b[0m0.01     \u001b[0m | \u001b[0m0.01     \u001b[0m | \u001b[0m1.0      \u001b[0m |\n",
      "| \u001b[0m94       \u001b[0m | \u001b[0m-0.01721 \u001b[0m | \u001b[0m0.7347   \u001b[0m | \u001b[0m0.2518   \u001b[0m | \u001b[0m9.81     \u001b[0m | \u001b[0m22.91    \u001b[0m | \u001b[0m13.67    \u001b[0m | \u001b[0m10.1     \u001b[0m | \u001b[0m498.4    \u001b[0m | \u001b[0m2.294    \u001b[0m | \u001b[0m5.894    \u001b[0m | \u001b[0m0.8348   \u001b[0m |\n",
      "| \u001b[0m95       \u001b[0m | \u001b[0m-0.01634 \u001b[0m | \u001b[0m0.7      \u001b[0m | \u001b[0m0.5      \u001b[0m | \u001b[0m10.0     \u001b[0m | \u001b[0m21.37    \u001b[0m | \u001b[0m15.0     \u001b[0m | \u001b[0m10.0     \u001b[0m | \u001b[0m418.7    \u001b[0m | \u001b[0m0.01     \u001b[0m | \u001b[0m10.0     \u001b[0m | \u001b[0m0.7      \u001b[0m |\n",
      "| \u001b[0m96       \u001b[0m | \u001b[0m-0.02157 \u001b[0m | \u001b[0m0.7      \u001b[0m | \u001b[0m0.001    \u001b[0m | \u001b[0m3.0      \u001b[0m | \u001b[0m50.0     \u001b[0m | \u001b[0m15.0     \u001b[0m | \u001b[0m10.0     \u001b[0m | \u001b[0m500.0    \u001b[0m | \u001b[0m10.0     \u001b[0m | \u001b[0m0.01     \u001b[0m | \u001b[0m0.7      \u001b[0m |\n",
      "| \u001b[0m97       \u001b[0m | \u001b[0m-0.01634 \u001b[0m | \u001b[0m0.7      \u001b[0m | \u001b[0m0.5      \u001b[0m | \u001b[0m10.0     \u001b[0m | \u001b[0m5.0      \u001b[0m | \u001b[0m1.0      \u001b[0m | \u001b[0m10.0     \u001b[0m | \u001b[0m458.0    \u001b[0m | \u001b[0m0.01     \u001b[0m | \u001b[0m10.0     \u001b[0m | \u001b[0m1.0      \u001b[0m |\n",
      "| \u001b[0m98       \u001b[0m | \u001b[0m-0.01634 \u001b[0m | \u001b[0m0.7      \u001b[0m | \u001b[0m0.5      \u001b[0m | \u001b[0m10.0     \u001b[0m | \u001b[0m50.0     \u001b[0m | \u001b[0m15.0     \u001b[0m | \u001b[0m10.0     \u001b[0m | \u001b[0m384.1    \u001b[0m | \u001b[0m0.01     \u001b[0m | \u001b[0m10.0     \u001b[0m | \u001b[0m1.0      \u001b[0m |\n",
      "| \u001b[0m99       \u001b[0m | \u001b[0m-0.01579 \u001b[0m | \u001b[0m1.0      \u001b[0m | \u001b[0m0.5      \u001b[0m | \u001b[0m10.0     \u001b[0m | \u001b[0m29.31    \u001b[0m | \u001b[0m15.0     \u001b[0m | \u001b[0m10.0     \u001b[0m | \u001b[0m376.4    \u001b[0m | \u001b[0m0.01     \u001b[0m | \u001b[0m10.0     \u001b[0m | \u001b[0m0.7      \u001b[0m |\n",
      "| \u001b[0m100      \u001b[0m | \u001b[0m-0.01579 \u001b[0m | \u001b[0m1.0      \u001b[0m | \u001b[0m0.5      \u001b[0m | \u001b[0m10.0     \u001b[0m | \u001b[0m50.0     \u001b[0m | \u001b[0m1.0      \u001b[0m | \u001b[0m10.0     \u001b[0m | \u001b[0m399.2    \u001b[0m | \u001b[0m0.01     \u001b[0m | \u001b[0m10.0     \u001b[0m | \u001b[0m0.7      \u001b[0m |\n",
      "=================================================================================================================================================\n"
     ]
    }
   ],
   "source": [
    "BO_lgbm_reg.maximize(init_points=50, n_iter=50)"
   ]
  },
  {
   "cell_type": "code",
   "execution_count": 77,
   "id": "5f0f5e98",
   "metadata": {
    "collapsed": true
   },
   "outputs": [
    {
     "name": "stdout",
     "output_type": "stream",
     "text": [
      "|   iter    |  target   | max_depth | min_sa... | min_sa... | n_esti... |\n",
      "-------------------------------------------------------------------------\n",
      "| \u001b[0m1        \u001b[0m | \u001b[0m-0.01501 \u001b[0m | \u001b[0m5.063    \u001b[0m | \u001b[0m8.898    \u001b[0m | \u001b[0m4.49     \u001b[0m | \u001b[0m80.56    \u001b[0m |\n",
      "| \u001b[95m2        \u001b[0m | \u001b[95m-0.01108 \u001b[0m | \u001b[95m8.509    \u001b[0m | \u001b[95m10.53    \u001b[0m | \u001b[95m10.29    \u001b[0m | \u001b[95m309.0    \u001b[0m |\n",
      "| \u001b[0m3        \u001b[0m | \u001b[0m-0.01788 \u001b[0m | \u001b[0m3.273    \u001b[0m | \u001b[0m6.652    \u001b[0m | \u001b[0m14.29    \u001b[0m | \u001b[0m77.02    \u001b[0m |\n",
      "| \u001b[0m4        \u001b[0m | \u001b[0m-0.01111 \u001b[0m | \u001b[0m9.048    \u001b[0m | \u001b[0m13.4     \u001b[0m | \u001b[0m2.666    \u001b[0m | \u001b[0m343.6    \u001b[0m |\n",
      "| \u001b[0m5        \u001b[0m | \u001b[0m-0.0129  \u001b[0m | \u001b[0m6.862    \u001b[0m | \u001b[0m9.768    \u001b[0m | \u001b[0m8.286    \u001b[0m | \u001b[0m177.3    \u001b[0m |\n",
      "| \u001b[0m6        \u001b[0m | \u001b[0m-0.01498 \u001b[0m | \u001b[0m5.084    \u001b[0m | \u001b[0m9.3      \u001b[0m | \u001b[0m7.149    \u001b[0m | \u001b[0m404.9    \u001b[0m |\n",
      "| \u001b[0m7        \u001b[0m | \u001b[0m-0.01386 \u001b[0m | \u001b[0m5.929    \u001b[0m | \u001b[0m3.871    \u001b[0m | \u001b[0m3.962    \u001b[0m | \u001b[0m74.86    \u001b[0m |\n",
      "| \u001b[0m8        \u001b[0m | \u001b[0m-0.01195 \u001b[0m | \u001b[0m8.026    \u001b[0m | \u001b[0m5.8      \u001b[0m | \u001b[0m4.584    \u001b[0m | \u001b[0m424.1    \u001b[0m |\n",
      "| \u001b[0m9        \u001b[0m | \u001b[0m-0.01288 \u001b[0m | \u001b[0m6.976    \u001b[0m | \u001b[0m3.07     \u001b[0m | \u001b[0m9.085    \u001b[0m | \u001b[0m121.5    \u001b[0m |\n",
      "| \u001b[0m10       \u001b[0m | \u001b[0m-0.01191 \u001b[0m | \u001b[0m7.737    \u001b[0m | \u001b[0m3.54     \u001b[0m | \u001b[0m7.785    \u001b[0m | \u001b[0m449.6    \u001b[0m |\n",
      "| \u001b[95m11       \u001b[0m | \u001b[95m-0.011   \u001b[0m | \u001b[95m8.581    \u001b[0m | \u001b[95m2.884    \u001b[0m | \u001b[95m14.49    \u001b[0m | \u001b[95m346.6    \u001b[0m |\n",
      "| \u001b[0m12       \u001b[0m | \u001b[0m-0.01205 \u001b[0m | \u001b[0m8.031    \u001b[0m | \u001b[0m11.67    \u001b[0m | \u001b[0m13.54    \u001b[0m | \u001b[0m110.3    \u001b[0m |\n",
      "| \u001b[0m13       \u001b[0m | \u001b[0m-0.01202 \u001b[0m | \u001b[0m8.439    \u001b[0m | \u001b[0m12.89    \u001b[0m | \u001b[0m12.78    \u001b[0m | \u001b[0m63.12    \u001b[0m |\n",
      "| \u001b[0m14       \u001b[0m | \u001b[0m-0.01393 \u001b[0m | \u001b[0m5.733    \u001b[0m | \u001b[0m7.684    \u001b[0m | \u001b[0m8.768    \u001b[0m | \u001b[0m271.8    \u001b[0m |\n",
      "| \u001b[0m15       \u001b[0m | \u001b[0m-0.01615 \u001b[0m | \u001b[0m3.913    \u001b[0m | \u001b[0m14.8     \u001b[0m | \u001b[0m2.854    \u001b[0m | \u001b[0m310.7    \u001b[0m |\n",
      "| \u001b[0m16       \u001b[0m | \u001b[0m-0.01292 \u001b[0m | \u001b[0m7.065    \u001b[0m | \u001b[0m14.41    \u001b[0m | \u001b[0m4.567    \u001b[0m | \u001b[0m87.5     \u001b[0m |\n",
      "| \u001b[0m17       \u001b[0m | \u001b[0m-0.01101 \u001b[0m | \u001b[0m9.187    \u001b[0m | \u001b[0m2.204    \u001b[0m | \u001b[0m12.34    \u001b[0m | \u001b[0m395.7    \u001b[0m |\n",
      "| \u001b[0m18       \u001b[0m | \u001b[0m-0.01113 \u001b[0m | \u001b[0m9.104    \u001b[0m | \u001b[0m13.91    \u001b[0m | \u001b[0m5.56     \u001b[0m | \u001b[0m156.4    \u001b[0m |\n",
      "| \u001b[0m19       \u001b[0m | \u001b[0m-0.01494 \u001b[0m | \u001b[0m5.174    \u001b[0m | \u001b[0m11.3     \u001b[0m | \u001b[0m3.076    \u001b[0m | \u001b[0m354.0    \u001b[0m |\n",
      "| \u001b[0m20       \u001b[0m | \u001b[0m-0.01109 \u001b[0m | \u001b[0m9.01     \u001b[0m | \u001b[0m11.01    \u001b[0m | \u001b[0m12.21    \u001b[0m | \u001b[0m209.0    \u001b[0m |\n",
      "| \u001b[0m21       \u001b[0m | \u001b[0m-0.01497 \u001b[0m | \u001b[0m4.541    \u001b[0m | \u001b[0m5.19     \u001b[0m | \u001b[0m11.46    \u001b[0m | \u001b[0m78.86    \u001b[0m |\n",
      "| \u001b[0m22       \u001b[0m | \u001b[0m-0.0139  \u001b[0m | \u001b[0m6.176    \u001b[0m | \u001b[0m8.34     \u001b[0m | \u001b[0m10.33    \u001b[0m | \u001b[0m97.78    \u001b[0m |\n",
      "| \u001b[0m23       \u001b[0m | \u001b[0m-0.01294 \u001b[0m | \u001b[0m7.015    \u001b[0m | \u001b[0m14.48    \u001b[0m | \u001b[0m8.704    \u001b[0m | \u001b[0m306.4    \u001b[0m |\n",
      "| \u001b[95m24       \u001b[0m | \u001b[95m-0.01034 \u001b[0m | \u001b[95m9.916    \u001b[0m | \u001b[95m12.83    \u001b[0m | \u001b[95m8.476    \u001b[0m | \u001b[95m86.07    \u001b[0m |\n",
      "| \u001b[0m25       \u001b[0m | \u001b[0m-0.01109 \u001b[0m | \u001b[0m9.097    \u001b[0m | \u001b[0m11.27    \u001b[0m | \u001b[0m11.52    \u001b[0m | \u001b[0m420.6    \u001b[0m |\n",
      "| \u001b[0m26       \u001b[0m | \u001b[0m-0.01195 \u001b[0m | \u001b[0m8.215    \u001b[0m | \u001b[0m7.37     \u001b[0m | \u001b[0m8.691    \u001b[0m | \u001b[0m430.9    \u001b[0m |\n",
      "| \u001b[0m27       \u001b[0m | \u001b[0m-0.01101 \u001b[0m | \u001b[0m9.012    \u001b[0m | \u001b[0m6.037    \u001b[0m | \u001b[0m3.552    \u001b[0m | \u001b[0m284.4    \u001b[0m |\n",
      "| \u001b[0m28       \u001b[0m | \u001b[0m-0.01397 \u001b[0m | \u001b[0m6.143    \u001b[0m | \u001b[0m13.66    \u001b[0m | \u001b[0m8.41     \u001b[0m | \u001b[0m277.0    \u001b[0m |\n",
      "| \u001b[0m29       \u001b[0m | \u001b[0m-0.01389 \u001b[0m | \u001b[0m5.556    \u001b[0m | \u001b[0m12.18    \u001b[0m | \u001b[0m14.32    \u001b[0m | \u001b[0m108.5    \u001b[0m |\n",
      "| \u001b[0m30       \u001b[0m | \u001b[0m-0.01191 \u001b[0m | \u001b[0m7.628    \u001b[0m | \u001b[0m4.129    \u001b[0m | \u001b[0m6.016    \u001b[0m | \u001b[0m485.0    \u001b[0m |\n",
      "| \u001b[0m31       \u001b[0m | \u001b[0m-0.01389 \u001b[0m | \u001b[0m6.38     \u001b[0m | \u001b[0m9.03     \u001b[0m | \u001b[0m11.25    \u001b[0m | \u001b[0m359.3    \u001b[0m |\n",
      "| \u001b[0m32       \u001b[0m | \u001b[0m-0.01783 \u001b[0m | \u001b[0m3.259    \u001b[0m | \u001b[0m13.55    \u001b[0m | \u001b[0m4.452    \u001b[0m | \u001b[0m401.9    \u001b[0m |\n",
      "| \u001b[0m33       \u001b[0m | \u001b[0m-0.01193 \u001b[0m | \u001b[0m7.507    \u001b[0m | \u001b[0m8.31     \u001b[0m | \u001b[0m14.08    \u001b[0m | \u001b[0m171.4    \u001b[0m |\n",
      "| \u001b[0m34       \u001b[0m | \u001b[0m-0.01108 \u001b[0m | \u001b[0m8.699    \u001b[0m | \u001b[0m11.04    \u001b[0m | \u001b[0m5.062    \u001b[0m | \u001b[0m479.0    \u001b[0m |\n",
      "| \u001b[0m35       \u001b[0m | \u001b[0m-0.01298 \u001b[0m | \u001b[0m7.098    \u001b[0m | \u001b[0m9.58     \u001b[0m | \u001b[0m4.044    \u001b[0m | \u001b[0m241.4    \u001b[0m |\n",
      "| \u001b[0m36       \u001b[0m | \u001b[0m-0.01492 \u001b[0m | \u001b[0m4.645    \u001b[0m | \u001b[0m9.807    \u001b[0m | \u001b[0m6.688    \u001b[0m | \u001b[0m126.0    \u001b[0m |\n",
      "| \u001b[0m37       \u001b[0m | \u001b[0m-0.0149  \u001b[0m | \u001b[0m5.431    \u001b[0m | \u001b[0m4.789    \u001b[0m | \u001b[0m12.33    \u001b[0m | \u001b[0m406.3    \u001b[0m |\n",
      "| \u001b[0m38       \u001b[0m | \u001b[0m-0.01614 \u001b[0m | \u001b[0m4.152    \u001b[0m | \u001b[0m11.75    \u001b[0m | \u001b[0m2.727    \u001b[0m | \u001b[0m154.6    \u001b[0m |\n",
      "| \u001b[0m39       \u001b[0m | \u001b[0m-0.012   \u001b[0m | \u001b[0m7.551    \u001b[0m | \u001b[0m11.34    \u001b[0m | \u001b[0m8.241    \u001b[0m | \u001b[0m201.9    \u001b[0m |\n",
      "| \u001b[0m40       \u001b[0m | \u001b[0m-0.0139  \u001b[0m | \u001b[0m5.728    \u001b[0m | \u001b[0m13.16    \u001b[0m | \u001b[0m8.648    \u001b[0m | \u001b[0m443.6    \u001b[0m |\n",
      "| \u001b[95m41       \u001b[0m | \u001b[95m-0.01033 \u001b[0m | \u001b[95m9.625    \u001b[0m | \u001b[95m14.16    \u001b[0m | \u001b[95m8.409    \u001b[0m | \u001b[95m320.2    \u001b[0m |\n",
      "| \u001b[0m42       \u001b[0m | \u001b[0m-0.0162  \u001b[0m | \u001b[0m4.45     \u001b[0m | \u001b[0m14.43    \u001b[0m | \u001b[0m14.83    \u001b[0m | \u001b[0m423.2    \u001b[0m |\n",
      "| \u001b[0m43       \u001b[0m | \u001b[0m-0.01286 \u001b[0m | \u001b[0m6.765    \u001b[0m | \u001b[0m3.086    \u001b[0m | \u001b[0m6.081    \u001b[0m | \u001b[0m97.75    \u001b[0m |\n",
      "| \u001b[0m44       \u001b[0m | \u001b[0m-0.01616 \u001b[0m | \u001b[0m4.434    \u001b[0m | \u001b[0m6.232    \u001b[0m | \u001b[0m8.521    \u001b[0m | \u001b[0m445.2    \u001b[0m |\n",
      "| \u001b[0m45       \u001b[0m | \u001b[0m-0.01494 \u001b[0m | \u001b[0m4.827    \u001b[0m | \u001b[0m8.892    \u001b[0m | \u001b[0m12.97    \u001b[0m | \u001b[0m111.5    \u001b[0m |\n",
      "| \u001b[0m46       \u001b[0m | \u001b[0m-0.01392 \u001b[0m | \u001b[0m5.802    \u001b[0m | \u001b[0m9.39     \u001b[0m | \u001b[0m4.419    \u001b[0m | \u001b[0m56.17    \u001b[0m |\n",
      "| \u001b[0m47       \u001b[0m | \u001b[0m-0.01287 \u001b[0m | \u001b[0m7.15     \u001b[0m | \u001b[0m2.204    \u001b[0m | \u001b[0m9.618    \u001b[0m | \u001b[0m233.9    \u001b[0m |\n",
      "| \u001b[0m48       \u001b[0m | \u001b[0m-0.01491 \u001b[0m | \u001b[0m4.6      \u001b[0m | \u001b[0m4.468    \u001b[0m | \u001b[0m13.87    \u001b[0m | \u001b[0m315.6    \u001b[0m |\n",
      "| \u001b[0m49       \u001b[0m | \u001b[0m-0.01617 \u001b[0m | \u001b[0m4.198    \u001b[0m | \u001b[0m11.29    \u001b[0m | \u001b[0m5.1      \u001b[0m | \u001b[0m464.8    \u001b[0m |\n",
      "| \u001b[0m50       \u001b[0m | \u001b[0m-0.01194 \u001b[0m | \u001b[0m8.049    \u001b[0m | \u001b[0m10.8     \u001b[0m | \u001b[0m14.83    \u001b[0m | \u001b[0m292.9    \u001b[0m |\n",
      "| \u001b[0m51       \u001b[0m | \u001b[0m-0.01116 \u001b[0m | \u001b[0m9.15     \u001b[0m | \u001b[0m13.7     \u001b[0m | \u001b[0m9.681    \u001b[0m | \u001b[0m84.18    \u001b[0m |\n",
      "| \u001b[0m52       \u001b[0m | \u001b[0m-0.01202 \u001b[0m | \u001b[0m8.042    \u001b[0m | \u001b[0m13.97    \u001b[0m | \u001b[0m9.459    \u001b[0m | \u001b[0m322.5    \u001b[0m |\n",
      "| \u001b[0m53       \u001b[0m | \u001b[0m-0.01199 \u001b[0m | \u001b[0m8.358    \u001b[0m | \u001b[0m11.72    \u001b[0m | \u001b[0m7.945    \u001b[0m | \u001b[0m318.6    \u001b[0m |\n",
      "| \u001b[95m54       \u001b[0m | \u001b[95m-0.01029 \u001b[0m | \u001b[95m9.577    \u001b[0m | \u001b[95m12.63    \u001b[0m | \u001b[95m9.117    \u001b[0m | \u001b[95m88.86    \u001b[0m |\n",
      "| \u001b[95m55       \u001b[0m | \u001b[95m-0.01022 \u001b[0m | \u001b[95m10.0     \u001b[0m | \u001b[95m10.69    \u001b[0m | \u001b[95m11.42    \u001b[0m | \u001b[95m86.89    \u001b[0m |\n",
      "| \u001b[0m56       \u001b[0m | \u001b[0m-0.01035 \u001b[0m | \u001b[0m9.556    \u001b[0m | \u001b[0m14.96    \u001b[0m | \u001b[0m12.42    \u001b[0m | \u001b[0m87.23    \u001b[0m |\n",
      "| \u001b[0m57       \u001b[0m | \u001b[0m-0.01285 \u001b[0m | \u001b[0m6.614    \u001b[0m | \u001b[0m11.65    \u001b[0m | \u001b[0m13.16    \u001b[0m | \u001b[0m88.94    \u001b[0m |\n",
      "| \u001b[0m58       \u001b[0m | \u001b[0m-0.01113 \u001b[0m | \u001b[0m9.324    \u001b[0m | \u001b[0m14.85    \u001b[0m | \u001b[0m9.969    \u001b[0m | \u001b[0m316.5    \u001b[0m |\n",
      "| \u001b[95m59       \u001b[0m | \u001b[95m-0.01015 \u001b[0m | \u001b[95m10.0     \u001b[0m | \u001b[95m8.206    \u001b[0m | \u001b[95m7.797    \u001b[0m | \u001b[95m88.19    \u001b[0m |\n",
      "| \u001b[0m60       \u001b[0m | \u001b[0m-0.01028 \u001b[0m | \u001b[0m10.0     \u001b[0m | \u001b[0m9.579    \u001b[0m | \u001b[0m7.116    \u001b[0m | \u001b[0m418.9    \u001b[0m |\n",
      "| \u001b[0m61       \u001b[0m | \u001b[0m-0.0102  \u001b[0m | \u001b[0m10.0     \u001b[0m | \u001b[0m5.982    \u001b[0m | \u001b[0m10.37    \u001b[0m | \u001b[0m419.8    \u001b[0m |\n",
      "| \u001b[0m62       \u001b[0m | \u001b[0m-0.01383 \u001b[0m | \u001b[0m6.125    \u001b[0m | \u001b[0m7.138    \u001b[0m | \u001b[0m9.02     \u001b[0m | \u001b[0m417.7    \u001b[0m |\n",
      "| \u001b[0m63       \u001b[0m | \u001b[0m-0.01024 \u001b[0m | \u001b[0m10.0     \u001b[0m | \u001b[0m8.395    \u001b[0m | \u001b[0m9.147    \u001b[0m | \u001b[0m423.4    \u001b[0m |\n",
      "| \u001b[0m64       \u001b[0m | \u001b[0m-0.01034 \u001b[0m | \u001b[0m10.0     \u001b[0m | \u001b[0m15.0     \u001b[0m | \u001b[0m9.634    \u001b[0m | \u001b[0m160.1    \u001b[0m |\n",
      "| \u001b[0m65       \u001b[0m | \u001b[0m-0.0103  \u001b[0m | \u001b[0m9.58     \u001b[0m | \u001b[0m14.32    \u001b[0m | \u001b[0m5.215    \u001b[0m | \u001b[0m162.8    \u001b[0m |\n",
      "| \u001b[0m66       \u001b[0m | \u001b[0m-0.01111 \u001b[0m | \u001b[0m8.912    \u001b[0m | \u001b[0m13.38    \u001b[0m | \u001b[0m10.16    \u001b[0m | \u001b[0m165.7    \u001b[0m |\n"
     ]
    },
    {
     "name": "stdout",
     "output_type": "stream",
     "text": [
      "| \u001b[0m67       \u001b[0m | \u001b[0m-0.01017 \u001b[0m | \u001b[0m10.0     \u001b[0m | \u001b[0m3.068    \u001b[0m | \u001b[0m13.31    \u001b[0m | \u001b[0m424.3    \u001b[0m |\n",
      "| \u001b[0m68       \u001b[0m | \u001b[0m-0.01102 \u001b[0m | \u001b[0m9.364    \u001b[0m | \u001b[0m7.15     \u001b[0m | \u001b[0m9.328    \u001b[0m | \u001b[0m341.6    \u001b[0m |\n",
      "| \u001b[0m69       \u001b[0m | \u001b[0m-0.01098 \u001b[0m | \u001b[0m9.407    \u001b[0m | \u001b[0m7.096    \u001b[0m | \u001b[0m8.254    \u001b[0m | \u001b[0m162.5    \u001b[0m |\n",
      "| \u001b[0m70       \u001b[0m | \u001b[0m-0.01618 \u001b[0m | \u001b[0m3.842    \u001b[0m | \u001b[0m2.0      \u001b[0m | \u001b[0m12.06    \u001b[0m | \u001b[0m340.7    \u001b[0m |\n",
      "| \u001b[0m71       \u001b[0m | \u001b[0m-0.0103  \u001b[0m | \u001b[0m9.58     \u001b[0m | \u001b[0m11.27    \u001b[0m | \u001b[0m13.26    \u001b[0m | \u001b[0m345.9    \u001b[0m |\n",
      "| \u001b[0m72       \u001b[0m | \u001b[0m-0.01293 \u001b[0m | \u001b[0m7.448    \u001b[0m | \u001b[0m13.77    \u001b[0m | \u001b[0m10.8     \u001b[0m | \u001b[0m341.6    \u001b[0m |\n",
      "| \u001b[0m73       \u001b[0m | \u001b[0m-0.01106 \u001b[0m | \u001b[0m9.001    \u001b[0m | \u001b[0m7.609    \u001b[0m | \u001b[0m14.77    \u001b[0m | \u001b[0m349.3    \u001b[0m |\n",
      "| \u001b[0m74       \u001b[0m | \u001b[0m-0.01022 \u001b[0m | \u001b[0m9.529    \u001b[0m | \u001b[0m10.18    \u001b[0m | \u001b[0m14.33    \u001b[0m | \u001b[0m160.4    \u001b[0m |\n",
      "| \u001b[0m75       \u001b[0m | \u001b[0m-0.01109 \u001b[0m | \u001b[0m8.588    \u001b[0m | \u001b[0m13.22    \u001b[0m | \u001b[0m12.81    \u001b[0m | \u001b[0m154.1    \u001b[0m |\n",
      "| \u001b[95m76       \u001b[0m | \u001b[95m-0.01014 \u001b[0m | \u001b[95m10.0     \u001b[0m | \u001b[95m4.392    \u001b[0m | \u001b[95m15.0     \u001b[0m | \u001b[95m156.4    \u001b[0m |\n",
      "| \u001b[0m77       \u001b[0m | \u001b[0m-0.01283 \u001b[0m | \u001b[0m6.564    \u001b[0m | \u001b[0m2.186    \u001b[0m | \u001b[0m14.93    \u001b[0m | \u001b[0m160.4    \u001b[0m |\n",
      "| \u001b[0m78       \u001b[0m | \u001b[0m-0.0102  \u001b[0m | \u001b[0m9.863    \u001b[0m | \u001b[0m7.504    \u001b[0m | \u001b[0m12.68    \u001b[0m | \u001b[0m152.4    \u001b[0m |\n",
      "| \u001b[0m79       \u001b[0m | \u001b[0m-0.01015 \u001b[0m | \u001b[0m10.0     \u001b[0m | \u001b[0m2.0      \u001b[0m | \u001b[0m15.0     \u001b[0m | \u001b[0m149.7    \u001b[0m |\n",
      "| \u001b[95m80       \u001b[0m | \u001b[95m-0.01012 \u001b[0m | \u001b[95m10.0     \u001b[0m | \u001b[95m2.0      \u001b[0m | \u001b[95m9.454    \u001b[0m | \u001b[95m153.3    \u001b[0m |\n",
      "| \u001b[95m81       \u001b[0m | \u001b[95m-0.01009 \u001b[0m | \u001b[95m10.0     \u001b[0m | \u001b[95m2.0      \u001b[0m | \u001b[95m8.925    \u001b[0m | \u001b[95m145.5    \u001b[0m |\n",
      "| \u001b[0m82       \u001b[0m | \u001b[0m-0.01278 \u001b[0m | \u001b[0m6.64     \u001b[0m | \u001b[0m3.226    \u001b[0m | \u001b[0m14.1     \u001b[0m | \u001b[0m143.1    \u001b[0m |\n",
      "| \u001b[0m83       \u001b[0m | \u001b[0m-0.01015 \u001b[0m | \u001b[0m10.0     \u001b[0m | \u001b[0m2.0      \u001b[0m | \u001b[0m2.991    \u001b[0m | \u001b[0m147.7    \u001b[0m |\n",
      "| \u001b[0m84       \u001b[0m | \u001b[0m-0.01013 \u001b[0m | \u001b[0m10.0     \u001b[0m | \u001b[0m2.0      \u001b[0m | \u001b[0m2.013    \u001b[0m | \u001b[0m140.6    \u001b[0m |\n",
      "| \u001b[0m85       \u001b[0m | \u001b[0m-0.01024 \u001b[0m | \u001b[0m9.87     \u001b[0m | \u001b[0m7.79     \u001b[0m | \u001b[0m3.16     \u001b[0m | \u001b[0m142.1    \u001b[0m |\n",
      "| \u001b[0m86       \u001b[0m | \u001b[0m-0.01495 \u001b[0m | \u001b[0m5.124    \u001b[0m | \u001b[0m3.084    \u001b[0m | \u001b[0m3.039    \u001b[0m | \u001b[0m142.6    \u001b[0m |\n",
      "| \u001b[0m87       \u001b[0m | \u001b[0m-0.01027 \u001b[0m | \u001b[0m10.0     \u001b[0m | \u001b[0m15.0     \u001b[0m | \u001b[0m2.083    \u001b[0m | \u001b[0m421.3    \u001b[0m |\n",
      "| \u001b[0m88       \u001b[0m | \u001b[0m-0.01017 \u001b[0m | \u001b[0m10.0     \u001b[0m | \u001b[0m2.0      \u001b[0m | \u001b[0m14.11    \u001b[0m | \u001b[0m387.0    \u001b[0m |\n",
      "| \u001b[0m89       \u001b[0m | \u001b[0m-0.0129  \u001b[0m | \u001b[0m7.063    \u001b[0m | \u001b[0m2.279    \u001b[0m | \u001b[0m7.449    \u001b[0m | \u001b[0m386.1    \u001b[0m |\n",
      "| \u001b[0m90       \u001b[0m | \u001b[0m-0.01191 \u001b[0m | \u001b[0m7.644    \u001b[0m | \u001b[0m8.775    \u001b[0m | \u001b[0m14.29    \u001b[0m | \u001b[0m388.1    \u001b[0m |\n",
      "| \u001b[0m91       \u001b[0m | \u001b[0m-0.01027 \u001b[0m | \u001b[0m9.943    \u001b[0m | \u001b[0m8.178    \u001b[0m | \u001b[0m7.545    \u001b[0m | \u001b[0m147.5    \u001b[0m |\n",
      "| \u001b[0m92       \u001b[0m | \u001b[0m-0.01098 \u001b[0m | \u001b[0m8.556    \u001b[0m | \u001b[0m2.626    \u001b[0m | \u001b[0m4.611    \u001b[0m | \u001b[0m292.9    \u001b[0m |\n",
      "| \u001b[0m93       \u001b[0m | \u001b[0m-0.01105 \u001b[0m | \u001b[0m8.922    \u001b[0m | \u001b[0m4.223    \u001b[0m | \u001b[0m11.27    \u001b[0m | \u001b[0m301.5    \u001b[0m |\n",
      "| \u001b[0m94       \u001b[0m | \u001b[0m-0.01014 \u001b[0m | \u001b[0m10.0     \u001b[0m | \u001b[0m2.0      \u001b[0m | \u001b[0m15.0     \u001b[0m | \u001b[0m379.4    \u001b[0m |\n",
      "| \u001b[0m95       \u001b[0m | \u001b[0m-0.01022 \u001b[0m | \u001b[0m10.0     \u001b[0m | \u001b[0m9.193    \u001b[0m | \u001b[0m15.0     \u001b[0m | \u001b[0m376.5    \u001b[0m |\n",
      "| \u001b[0m96       \u001b[0m | \u001b[0m-0.0102  \u001b[0m | \u001b[0m9.572    \u001b[0m | \u001b[0m2.55     \u001b[0m | \u001b[0m14.68    \u001b[0m | \u001b[0m372.5    \u001b[0m |\n",
      "| \u001b[0m97       \u001b[0m | \u001b[0m-0.01787 \u001b[0m | \u001b[0m3.0      \u001b[0m | \u001b[0m5.074    \u001b[0m | \u001b[0m15.0     \u001b[0m | \u001b[0m375.9    \u001b[0m |\n",
      "| \u001b[0m98       \u001b[0m | \u001b[0m-0.01012 \u001b[0m | \u001b[0m10.0     \u001b[0m | \u001b[0m2.0      \u001b[0m | \u001b[0m8.013    \u001b[0m | \u001b[0m373.7    \u001b[0m |\n",
      "| \u001b[0m99       \u001b[0m | \u001b[0m-0.01025 \u001b[0m | \u001b[0m9.904    \u001b[0m | \u001b[0m10.5     \u001b[0m | \u001b[0m6.86     \u001b[0m | \u001b[0m372.7    \u001b[0m |\n",
      "| \u001b[0m100      \u001b[0m | \u001b[0m-0.01031 \u001b[0m | \u001b[0m9.617    \u001b[0m | \u001b[0m13.52    \u001b[0m | \u001b[0m8.359    \u001b[0m | \u001b[0m378.4    \u001b[0m |\n",
      "=========================================================================\n"
     ]
    }
   ],
   "source": [
    "BO_et_reg.maximize(init_points=50, n_iter=50)"
   ]
  },
  {
   "cell_type": "markdown",
   "id": "d3161c51",
   "metadata": {},
   "source": [
    "### Change Max parameters from float to int"
   ]
  },
  {
   "cell_type": "code",
   "execution_count": 78,
   "id": "dad73fbf",
   "metadata": {},
   "outputs": [],
   "source": [
    "## Catboost Max Parameters\n",
    "#cb_reg_max_params = BO_cb_reg.max['params']\n",
    "#cb_reg_max_params['n_estimators'] = int(round(cb_reg_max_params['n_estimators']))\n",
    "#cb_reg_max_params['max_depth'] = int(round(cb_reg_max_params['max_depth']))\n",
    "\n",
    "## XGB Max Parameters\n",
    "#xgb_reg_max_params = BO_xgb_reg.max['params']\n",
    "#xgb_reg_max_params['n_estimators'] = int(round(xgb_reg_max_params['n_estimators']))\n",
    "#xgb_reg_max_params['max_depth'] = int(round(xgb_reg_max_params['max_depth']))\n",
    "\n",
    "# LGBM Max Parameters\n",
    "lgbm_reg_max_params = BO_lgbm_reg.max['params']\n",
    "lgbm_reg_max_params['n_estimators'] = int(round(lgbm_reg_max_params['n_estimators']))\n",
    "lgbm_reg_max_params['max_depth'] = int(round(lgbm_reg_max_params['max_depth']))\n",
    "lgbm_reg_max_params['min_child_samples'] = int(round(lgbm_reg_max_params['min_child_samples']))\n",
    "\n",
    "# ExtraTrees Max Parameters\n",
    "et_reg_max_params = BO_et_reg.max['params']\n",
    "et_reg_max_params['n_estimators'] = int(round(et_reg_max_params['n_estimators']))\n",
    "et_reg_max_params['max_depth'] = int(round(et_reg_max_params['max_depth']))\n",
    "et_reg_max_params['min_samples_split'] = int(round(et_reg_max_params['min_samples_split']))\n",
    "et_reg_max_params['min_samples_leaf'] = int(round(et_reg_max_params['min_samples_leaf']))"
   ]
  },
  {
   "cell_type": "markdown",
   "id": "fe610ae9",
   "metadata": {},
   "source": [
    "### Retraing the Model with best parameters"
   ]
  },
  {
   "cell_type": "code",
   "execution_count": null,
   "id": "45b2bb43",
   "metadata": {},
   "outputs": [],
   "source": [
    "tune_cb_reg = CatBoostRegressor(**cb_reg_max_params)\n",
    "tune_cb_reg.fit(tomek_s_train,tomek_y_train)\n",
    "\n",
    "tune_xgb_reg = XGBRegressor(**xgb_reg_max_params)\n",
    "tune_xgb_reg.fit(tomek_s_train,tomek_y_train)"
   ]
  },
  {
   "cell_type": "code",
   "execution_count": 79,
   "id": "c7b10aaf",
   "metadata": {},
   "outputs": [
    {
     "data": {
      "text/html": [
       "<style>#sk-container-id-3 {color: black;background-color: white;}#sk-container-id-3 pre{padding: 0;}#sk-container-id-3 div.sk-toggleable {background-color: white;}#sk-container-id-3 label.sk-toggleable__label {cursor: pointer;display: block;width: 100%;margin-bottom: 0;padding: 0.3em;box-sizing: border-box;text-align: center;}#sk-container-id-3 label.sk-toggleable__label-arrow:before {content: \"▸\";float: left;margin-right: 0.25em;color: #696969;}#sk-container-id-3 label.sk-toggleable__label-arrow:hover:before {color: black;}#sk-container-id-3 div.sk-estimator:hover label.sk-toggleable__label-arrow:before {color: black;}#sk-container-id-3 div.sk-toggleable__content {max-height: 0;max-width: 0;overflow: hidden;text-align: left;background-color: #f0f8ff;}#sk-container-id-3 div.sk-toggleable__content pre {margin: 0.2em;color: black;border-radius: 0.25em;background-color: #f0f8ff;}#sk-container-id-3 input.sk-toggleable__control:checked~div.sk-toggleable__content {max-height: 200px;max-width: 100%;overflow: auto;}#sk-container-id-3 input.sk-toggleable__control:checked~label.sk-toggleable__label-arrow:before {content: \"▾\";}#sk-container-id-3 div.sk-estimator input.sk-toggleable__control:checked~label.sk-toggleable__label {background-color: #d4ebff;}#sk-container-id-3 div.sk-label input.sk-toggleable__control:checked~label.sk-toggleable__label {background-color: #d4ebff;}#sk-container-id-3 input.sk-hidden--visually {border: 0;clip: rect(1px 1px 1px 1px);clip: rect(1px, 1px, 1px, 1px);height: 1px;margin: -1px;overflow: hidden;padding: 0;position: absolute;width: 1px;}#sk-container-id-3 div.sk-estimator {font-family: monospace;background-color: #f0f8ff;border: 1px dotted black;border-radius: 0.25em;box-sizing: border-box;margin-bottom: 0.5em;}#sk-container-id-3 div.sk-estimator:hover {background-color: #d4ebff;}#sk-container-id-3 div.sk-parallel-item::after {content: \"\";width: 100%;border-bottom: 1px solid gray;flex-grow: 1;}#sk-container-id-3 div.sk-label:hover label.sk-toggleable__label {background-color: #d4ebff;}#sk-container-id-3 div.sk-serial::before {content: \"\";position: absolute;border-left: 1px solid gray;box-sizing: border-box;top: 0;bottom: 0;left: 50%;z-index: 0;}#sk-container-id-3 div.sk-serial {display: flex;flex-direction: column;align-items: center;background-color: white;padding-right: 0.2em;padding-left: 0.2em;position: relative;}#sk-container-id-3 div.sk-item {position: relative;z-index: 1;}#sk-container-id-3 div.sk-parallel {display: flex;align-items: stretch;justify-content: center;background-color: white;position: relative;}#sk-container-id-3 div.sk-item::before, #sk-container-id-3 div.sk-parallel-item::before {content: \"\";position: absolute;border-left: 1px solid gray;box-sizing: border-box;top: 0;bottom: 0;left: 50%;z-index: -1;}#sk-container-id-3 div.sk-parallel-item {display: flex;flex-direction: column;z-index: 1;position: relative;background-color: white;}#sk-container-id-3 div.sk-parallel-item:first-child::after {align-self: flex-end;width: 50%;}#sk-container-id-3 div.sk-parallel-item:last-child::after {align-self: flex-start;width: 50%;}#sk-container-id-3 div.sk-parallel-item:only-child::after {width: 0;}#sk-container-id-3 div.sk-dashed-wrapped {border: 1px dashed gray;margin: 0 0.4em 0.5em 0.4em;box-sizing: border-box;padding-bottom: 0.4em;background-color: white;}#sk-container-id-3 div.sk-label label {font-family: monospace;font-weight: bold;display: inline-block;line-height: 1.2em;}#sk-container-id-3 div.sk-label-container {text-align: center;}#sk-container-id-3 div.sk-container {/* jupyter's `normalize.less` sets `[hidden] { display: none; }` but bootstrap.min.css set `[hidden] { display: none !important; }` so we also need the `!important` here to be able to override the default hidden behavior on the sphinx rendered scikit-learn.org. See: https://github.com/scikit-learn/scikit-learn/issues/21755 */display: inline-block !important;position: relative;}#sk-container-id-3 div.sk-text-repr-fallback {display: none;}</style><div id=\"sk-container-id-3\" class=\"sk-top-container\"><div class=\"sk-text-repr-fallback\"><pre>ExtraTreesRegressor(max_depth=10, min_samples_leaf=2, min_samples_split=9,\n",
       "                    n_estimators=145)</pre><b>In a Jupyter environment, please rerun this cell to show the HTML representation or trust the notebook. <br />On GitHub, the HTML representation is unable to render, please try loading this page with nbviewer.org.</b></div><div class=\"sk-container\" hidden><div class=\"sk-item\"><div class=\"sk-estimator sk-toggleable\"><input class=\"sk-toggleable__control sk-hidden--visually\" id=\"sk-estimator-id-3\" type=\"checkbox\" checked><label for=\"sk-estimator-id-3\" class=\"sk-toggleable__label sk-toggleable__label-arrow\">ExtraTreesRegressor</label><div class=\"sk-toggleable__content\"><pre>ExtraTreesRegressor(max_depth=10, min_samples_leaf=2, min_samples_split=9,\n",
       "                    n_estimators=145)</pre></div></div></div></div></div>"
      ],
      "text/plain": [
       "ExtraTreesRegressor(max_depth=10, min_samples_leaf=2, min_samples_split=9,\n",
       "                    n_estimators=145)"
      ]
     },
     "execution_count": 79,
     "metadata": {},
     "output_type": "execute_result"
    }
   ],
   "source": [
    "tune_lgbm_reg = LGBMRegressor(**lgbm_reg_max_params)\n",
    "tune_lgbm_reg.fit(tomek_s_train,tomek_y_train)\n",
    "\n",
    "tune_et_reg = ExtraTreesRegressor(**et_reg_max_params)\n",
    "tune_et_reg.fit(tomek_s_train,tomek_y_train)"
   ]
  },
  {
   "cell_type": "markdown",
   "id": "72d75db7",
   "metadata": {},
   "source": [
    "### Validation Check"
   ]
  },
  {
   "cell_type": "code",
   "execution_count": null,
   "id": "62fafbdf",
   "metadata": {},
   "outputs": [],
   "source": [
    "# Predict x_s_val by Tuned Model\n",
    "tune_cb_reg_val_pred = tune_cb_reg.predict(x_s_val)\n",
    "tune_xgb_reg_val_pred = tune_xgb_reg.predict(x_s_val)"
   ]
  },
  {
   "cell_type": "code",
   "execution_count": 80,
   "id": "dedfd917",
   "metadata": {},
   "outputs": [],
   "source": [
    "tune_lgbm_reg_val_pred = tune_lgbm_reg.predict(x_s_val)\n",
    "tune_et_reg_val_pred = tune_et_reg.predict(x_s_val)"
   ]
  },
  {
   "cell_type": "code",
   "execution_count": null,
   "id": "ba7629bf",
   "metadata": {},
   "outputs": [],
   "source": [
    "# Visualize Validation predict\n",
    "cb_val_pred = pd.DataFrame({'predict':tune_cb_reg_val_pred})\n",
    "xgb_val_pred = pd.DataFrame({'predict':tune_xgb_reg_val_pred})"
   ]
  },
  {
   "cell_type": "code",
   "execution_count": 82,
   "id": "9f3fd895",
   "metadata": {
    "collapsed": true
   },
   "outputs": [
    {
     "data": {
      "image/png": "[encoded data removed]",
      "text/plain": [
       "<Figure size 1440x720 with 1 Axes>"
      ]
     },
     "metadata": {
      "needs_background": "light"
     },
     "output_type": "display_data"
    },
    {
     "data": {
      "image/png": "[encoded data removed]",
      "text/plain": [
       "<Figure size 432x288 with 1 Axes>"
      ]
     },
     "metadata": {
      "needs_background": "light"
     },
     "output_type": "display_data"
    }
   ],
   "source": [
    "lgbm_val_pred = pd.DataFrame({'predict':tune_lgbm_reg_val_pred})\n",
    "et_val_pred = pd.DataFrame({'predict':tune_et_reg_val_pred})\n",
    "plt.figure(figsize=(20,10))\n",
    "\n",
    "'''plt.subplot(3,2,1)\n",
    "sns.kdeplot(cb_val_pred.predict)\n",
    "plt.title('Caboost Predict KDE (val)')\n",
    "plt.show()\n",
    "\n",
    "plt.subplot(3,2,2)\n",
    "sns.kdeplot(xgb_val_pred.predict)\n",
    "plt.title('XGB Predict KDE (val)')\n",
    "plt.show()'''\n",
    "\n",
    "plt.subplot(1,2,1)\n",
    "sns.kdeplot(lgbm_val_pred.predict)\n",
    "plt.title('LGBM Predict KDE (val)')\n",
    "plt.show()\n",
    "\n",
    "plt.subplot(1,2,2)\n",
    "sns.kdeplot(et_val_pred.predict)\n",
    "plt.title('ExtraTrees Predict KDE (val)')\n",
    "plt.show()"
   ]
  },
  {
   "cell_type": "code",
   "execution_count": 95,
   "id": "2b5d9fb3",
   "metadata": {
    "collapsed": true
   },
   "outputs": [
    {
     "ename": "NameError",
     "evalue": "name 'cb_val_pred' is not defined",
     "output_type": "error",
     "traceback": [
      "\u001b[1;31m---------------------------------------------------------------------------\u001b[0m",
      "\u001b[1;31mNameError\u001b[0m                                 Traceback (most recent call last)",
      "Input \u001b[1;32mIn [95]\u001b[0m, in \u001b[0;36m<cell line: 2>\u001b[1;34m()\u001b[0m\n\u001b[0;32m      1\u001b[0m \u001b[38;5;66;03m# Check 8.5% raw at Validation predict\u001b[39;00m\n\u001b[1;32m----> 2\u001b[0m \u001b[38;5;28mprint\u001b[39m(\u001b[43mcb_val_pred\u001b[49m\u001b[38;5;241m.\u001b[39mpredict\u001b[38;5;241m.\u001b[39msort_values(ascending \u001b[38;5;241m=\u001b[39m \u001b[38;5;28;01mFalse\u001b[39;00m)\u001b[38;5;241m.\u001b[39miloc[\u001b[38;5;241m358\u001b[39m:\u001b[38;5;241m367\u001b[39m])\n\u001b[0;32m      3\u001b[0m \u001b[38;5;28mprint\u001b[39m(xgb_val_pred\u001b[38;5;241m.\u001b[39mpredict\u001b[38;5;241m.\u001b[39msort_values(ascending \u001b[38;5;241m=\u001b[39m \u001b[38;5;28;01mFalse\u001b[39;00m)\u001b[38;5;241m.\u001b[39miloc[\u001b[38;5;241m358\u001b[39m:\u001b[38;5;241m367\u001b[39m])\n",
      "\u001b[1;31mNameError\u001b[0m: name 'cb_val_pred' is not defined"
     ]
    }
   ],
   "source": [
    "# Check 8.5% raw at Validation predict\n",
    "print(cb_val_pred.predict.sort_values(ascending = False).iloc[358:367])\n",
    "print(xgb_val_pred.predict.sort_values(ascending = False).iloc[358:367])"
   ]
  },
  {
   "cell_type": "code",
   "execution_count": 96,
   "id": "248175ae",
   "metadata": {
    "collapsed": true
   },
   "outputs": [
    {
     "name": "stdout",
     "output_type": "stream",
     "text": [
      "1514    0.368749\n",
      "657     0.368749\n",
      "678     0.368749\n",
      "1435    0.368749\n",
      "1672    0.368749\n",
      "3853    0.368749\n",
      "25      0.368749\n",
      "3944    0.368749\n",
      "2425    0.368749\n",
      "Name: predict, dtype: float64\n",
      "1781    0.389136\n",
      "3615    0.389113\n",
      "373     0.389047\n",
      "3048    0.389038\n",
      "1828    0.389032\n",
      "80      0.388989\n",
      "443     0.388977\n",
      "1408    0.388861\n",
      "2262    0.388853\n",
      "Name: predict, dtype: float64\n"
     ]
    }
   ],
   "source": [
    "print(lgbm_val_pred.predict.sort_values(ascending = False).iloc[358:367])\n",
    "print(et_val_pred.predict.sort_values(ascending = False).iloc[358:367])"
   ]
  },
  {
   "cell_type": "code",
   "execution_count": null,
   "id": "89971411",
   "metadata": {},
   "outputs": [],
   "source": [
    "# predict transform by threshold\n",
    "cb_trans_val_pred = np.array([0 if i < * else 1 for i in tune_cb_reg_val_pred])\n",
    "xgb_trans_val_pred = np.array([0 if i < * else 1 for i in tune_xgb_reg_val_pred])"
   ]
  },
  {
   "cell_type": "code",
   "execution_count": 97,
   "id": "468b8438",
   "metadata": {},
   "outputs": [],
   "source": [
    "lgbm_trans_val_pred = np.array([0 if i < 0.368749 else 1 for i in tune_lgbm_reg_val_pred])\n",
    "et_trans_val_pred = np.array([0 if i < 0.389 else 1 for i in tune_et_reg_val_pred])"
   ]
  },
  {
   "cell_type": "code",
   "execution_count": 98,
   "id": "d0e47a86",
   "metadata": {},
   "outputs": [
    {
     "name": "stdout",
     "output_type": "stream",
     "text": [
      "LGBM F1 score : 0.5442241697155336\n",
      "               precision    recall  f1-score   support\n",
      "\n",
      "           0       0.92      0.92      0.92      3868\n",
      "           1       0.17      0.17      0.17       361\n",
      "\n",
      "    accuracy                           0.86      4229\n",
      "   macro avg       0.54      0.54      0.54      4229\n",
      "weighted avg       0.86      0.86      0.86      4229\n",
      "\n",
      "ExtraTrees F1 score : 0.5574192022882386\n",
      "               precision    recall  f1-score   support\n",
      "\n",
      "           0       0.92      0.92      0.92      3868\n",
      "           1       0.19      0.19      0.19       361\n",
      "\n",
      "    accuracy                           0.86      4229\n",
      "   macro avg       0.56      0.56      0.56      4229\n",
      "weighted avg       0.86      0.86      0.86      4229\n",
      "\n"
     ]
    }
   ],
   "source": [
    "# Validation F1-macro Score & ConfusionMatrix\n",
    "'''tune_cb_reg_val_score = f1_score(y_val, cb_trans_val_pred, average = 'macro')\n",
    "tune_xgb_reg_val_score = f1_score(y_val, xgb_trans_val_pred, average = 'macro')'''\n",
    "tune_lgbm_reg_val_score = f1_score(y_val, lgbm_trans_val_pred, average = 'macro')\n",
    "tune_et_reg_val_score = f1_score(y_val, et_trans_val_pred, average = 'macro')\n",
    "\n",
    "'''print(f'Catboost F1 score : {tune_cb_reg_val_score}\\n', classification_report(y_val, cb_trans_val_pred))\n",
    "print(f'XGB F1 score : {tune_xgb_reg_val_score}\\n', classification_report(y_val, xgb_trans_val_pred))'''\n",
    "print(f'LGBM F1 score : {tune_lgbm_reg_val_score}\\n', classification_report(y_val, lgbm_trans_val_pred))\n",
    "print(f'ExtraTrees F1 score : {tune_et_reg_val_score}\\n', classification_report(y_val, et_trans_val_pred))"
   ]
  },
  {
   "cell_type": "markdown",
   "id": "062964a2",
   "metadata": {},
   "source": [
    "### Generate Test Predict"
   ]
  },
  {
   "cell_type": "code",
   "execution_count": 99,
   "id": "7c476ca1",
   "metadata": {},
   "outputs": [],
   "source": [
    "# Predict target by test_x\n",
    "'''tune_cb_reg_pred = tune_cb_reg.predict(test_x)\n",
    "tune_xgb_reg_pred = tune_xgb_reg.predict(test_x)'''\n",
    "tune_lgbm_reg_pred = tune_lgbm_reg.predict(test_x)\n",
    "tune_et_reg_pred = tune_et_reg.predict(test_x)"
   ]
  },
  {
   "cell_type": "code",
   "execution_count": 100,
   "id": "6f394275",
   "metadata": {},
   "outputs": [
    {
     "data": {
      "image/png": "[encoded data removed]",
      "text/plain": [
       "<Figure size 432x288 with 1 Axes>"
      ]
     },
     "metadata": {
      "needs_background": "light"
     },
     "output_type": "display_data"
    },
    {
     "data": {
      "image/png": "[encoded data removed]",
      "text/plain": [
       "<Figure size 432x288 with 1 Axes>"
      ]
     },
     "metadata": {
      "needs_background": "light"
     },
     "output_type": "display_data"
    }
   ],
   "source": [
    "# Visualize target predict\n",
    "'''cb_pred = pd.DataFrame({'predict':tune_cb_reg_pred})\n",
    "xgb_pred = pd.DataFrame({'predict':tune_xgb_reg_pred})'''\n",
    "lgbm_pred = pd.DataFrame({'predict':tune_lgbm_reg_pred})\n",
    "et_pred = pd.DataFrame({'predict':tune_et_reg_pred})\n",
    "\n",
    "'''plt.figure(figsize=(20,10))\n",
    "\n",
    "plt.subplot(3,2,1)\n",
    "sns.kdeplot(cb_pred.predict)\n",
    "plt.title('Caboost Predict KDE (predict)')\n",
    "plt.show()\n",
    "\n",
    "plt.subplot(3,2,2)\n",
    "sns.kdeplot(xgb_pred.predict)\n",
    "plt.title('XGB Predict KDE (predict)')\n",
    "plt.show()\n",
    "'''\n",
    "plt.subplot(3,2,3)\n",
    "sns.kdeplot(lgbm_pred.predict)\n",
    "plt.title('LGBM Predict KDE (predict)')\n",
    "plt.show()\n",
    "\n",
    "plt.subplot(3,2,4)\n",
    "sns.kdeplot(et_pred.predict)\n",
    "plt.title('ExtraTrees Predict KDE (predict)')\n",
    "plt.show()"
   ]
  },
  {
   "cell_type": "code",
   "execution_count": 101,
   "id": "cc44d950",
   "metadata": {},
   "outputs": [
    {
     "name": "stdout",
     "output_type": "stream",
     "text": [
      "4048    0.368749\n",
      "3277    0.368749\n",
      "2184    0.368749\n",
      "763     0.368749\n",
      "3856    0.368749\n",
      "626     0.368749\n",
      "4595    0.368749\n",
      "4178    0.368749\n",
      "3828    0.366918\n",
      "240     0.366918\n",
      "5625    0.366918\n",
      "Name: predict, dtype: float64\n",
      "5663    0.388989\n",
      "3731    0.388989\n",
      "3857    0.388986\n",
      "2727    0.388961\n",
      "1782    0.388959\n",
      "4008    0.388919\n",
      "5797    0.388800\n",
      "1725    0.388782\n",
      "5140    0.388778\n",
      "4722    0.388746\n",
      "4759    0.388746\n",
      "Name: predict, dtype: float64\n"
     ]
    }
   ],
   "source": [
    "# target predict 8.5% raw print by Model\n",
    "'''print(cb_pred.predict.sort_values(ascending = False).iloc[510:521])\n",
    "print(xgb_pred.predict.sort_values(ascending = False).iloc[510:521])'''\n",
    "print(lgbm_pred.predict.sort_values(ascending = False).iloc[510:521])\n",
    "print(et_pred.predict.sort_values(ascending = False).iloc[510:521])"
   ]
  },
  {
   "cell_type": "code",
   "execution_count": 102,
   "id": "306a5527",
   "metadata": {},
   "outputs": [],
   "source": [
    "# Transform predict by Threshold\n",
    "'''cb_trans_reg_pred = np.array([0 if i < * else 1 for i in tune_cb_reg_pred])\n",
    "xgb_trans_reg_pred = np.array([0 if i < * else 1 for i in tune_xgb_reg_pred])'''\n",
    "lgbm_trans_reg_pred = np.array([0 if i < 0.368749 else 1 for i in tune_lgbm_reg_pred])\n",
    "et_trans_reg_pred = np.array([0 if i < 0.3889 else 1 for i in tune_et_reg_pred])"
   ]
  },
  {
   "cell_type": "markdown",
   "id": "4041781e",
   "metadata": {},
   "source": [
    "## Saving Task1 Model"
   ]
  },
  {
   "cell_type": "code",
   "execution_count": 103,
   "id": "f3204454",
   "metadata": {},
   "outputs": [
    {
     "data": {
      "text/plain": [
       "['model_save/tuning/task1_et_clf_task2_rt_reg.pkl']"
      ]
     },
     "execution_count": 103,
     "metadata": {},
     "output_type": "execute_result"
    }
   ],
   "source": [
    "# Saving Model\n",
    "'''joblib.dump(tune_cb_reg, 'model_save/tuning/task1_xxx_clf_task2_cb_reg.pkl')\n",
    "joblib.dump(tune_xgb_reg, 'model_save/tuning/task1_xxx_clf_task2_xgb_reg.pkl')'''\n",
    "joblib.dump(tune_lgbm_reg, 'model_save/tuning/task1_et_clf_task2_lgbm_reg.pkl')\n",
    "joblib.dump(tune_et_reg, 'model_save/tuning/task1_et_clf_task2_rt_reg.pkl')"
   ]
  },
  {
   "cell_type": "markdown",
   "id": "d4bae957",
   "metadata": {},
   "source": [
    "## to_csv Submission"
   ]
  },
  {
   "cell_type": "code",
   "execution_count": 104,
   "id": "e42a3c43",
   "metadata": {},
   "outputs": [],
   "source": [
    "'''pd.DataFrame({'ID': test_id, 'Y_LABEL': cb_trans_reg_pred}).to_csv('predict/modeling/xx_clf_cb_reg_.csv', index=False)\n",
    "pd.DataFrame({'ID': test_id, 'Y_LABEL': xgb_trans_reg_pred}).to_csv('predict/modeling/xx_clf_xgb_reg_.csv', index=False)'''\n",
    "pd.DataFrame({'ID': test_id, 'Y_LABEL': lgbm_trans_reg_pred}).to_csv('predict/modeling/et_clf_lgbm_reg_368749.csv', index=False)\n",
    "pd.DataFrame({'ID': test_id, 'Y_LABEL': et_trans_reg_pred}).to_csv('predict/modeling/et_clf_et_reg_3889.csv', index=False)"
   ]
  }
 ],
 "metadata": {
  "kernelspec": {
   "display_name": "Python 3 (ipykernel)",
   "language": "python",
   "name": "python3"
  },
  "language_info": {
   "codemirror_mode": {
    "name": "ipython",
    "version": 3
   },
   "file_extension": ".py",
   "mimetype": "text/x-python",
   "name": "python",
   "nbconvert_exporter": "python",
   "pygments_lexer": "ipython3",
   "version": "3.9.12"
  }
 },
 "nbformat": 4,
 "nbformat_minor": 5
}

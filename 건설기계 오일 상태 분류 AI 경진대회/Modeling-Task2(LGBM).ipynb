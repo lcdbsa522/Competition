{
 "cells": [
  {
   "cell_type": "code",
   "execution_count": 1,
   "id": "338aa65b",
   "metadata": {},
   "outputs": [],
   "source": [
    "# Base & Visualization\n",
    "import pandas as pd\n",
    "import numpy as np\n",
    "import matplotlib.pyplot as plt\n",
    "import seaborn as sns\n",
    "%matplotlib inline\n",
    "\n",
    "# Preprocessing\n",
    "from sklearn.model_selection import train_test_split\n",
    "from sklearn.model_selection import StratifiedKFold, KFold\n",
    "from sklearn.model_selection import cross_val_score\n",
    "\n",
    "# Oversampling\n",
    "from imblearn.combine import  SMOTETomek\n",
    "\n",
    "# Modeling\n",
    "from catboost import CatBoostClassifier, CatBoostRegressor\n",
    "from xgboost import XGBClassifier, XGBRegressor\n",
    "from lightgbm import LGBMClassifier, LGBMRegressor\n",
    "from sklearn.ensemble import ExtraTreesClassifier, ExtraTreesRegressor\n",
    "from sklearn.linear_model import LogisticRegression\n",
    "\n",
    "# Scoring\n",
    "from sklearn.metrics import f1_score\n",
    "from sklearn.metrics import mean_squared_error\n",
    "\n",
    "# BayesianOptimizer\n",
    "from bayes_opt import BayesianOptimization\n",
    "\n",
    "# Saving Model\n",
    "import joblib"
   ]
  },
  {
   "cell_type": "code",
   "execution_count": 2,
   "id": "03998d22",
   "metadata": {},
   "outputs": [],
   "source": [
    "train = pd.read_csv('data/part/one-hot_encoding/iterative/oversampling/part_one_iter_tomek_train.csv')\n",
    "label = pd.read_csv('data/part/one-hot_encoding/iterative/oversampling/label/part_one_iter_tomek_label.csv')\n",
    "test = pd.read_csv('data/one_hot_test.csv')\n",
    "test_id = pd.read_csv('data/sample_submission.csv')['ID']\n",
    "\n",
    "train_x = np.array(train)\n",
    "train_y = np.array(label)\n",
    "test_x = np.array(test)\n",
    "train_s = np.array(train.loc[:,test.columns])"
   ]
  },
  {
   "cell_type": "code",
   "execution_count": 3,
   "id": "9c8c9011",
   "metadata": {},
   "outputs": [],
   "source": [
    "# Catboost\n",
    "cb_pbounds = { 'n_estimators' : (200, 400),\n",
    "               'learning_rate' : (0.01, 0.5),\n",
    "               'max_depth' : (4, 10),\n",
    "               'random_strength' : (0.1, 0.9),\n",
    "               'l2_leaf_reg' : (1, 5) }\n",
    "\n",
    "# XGB\n",
    "xgb_pbounds = { 'n_estimators' : (50, 400),\n",
    "                'learning_rate' : (0.001, 0.5),\n",
    "                'max_depth' : (4, 10),\n",
    "                'subsample' : (0.7, 1),\n",
    "                'colsample_bytree' : (0.7, 1),\n",
    "                'min_child_weight' : (1, 15) }\n",
    "\n",
    "# LGBM\n",
    "lgbm_pbounds = { 'n_estimators' : (100, 400),\n",
    "                 'learning_rate' : (0.01, 0.5),\n",
    "                 'max_depth' : (4, 10),\n",
    "                 'subsample' : (0.7, 1),\n",
    "                 'colsample_bytree' : (0.7, 0.95),\n",
    "                 'num_leaves': (2,10),\n",
    "                 'min_child_weight' : (1, 15) }\n",
    "\n",
    "# ExtraTree\n",
    "et_pbounds = { 'n_estimators' : (50, 300), 'max_depth' : (4, 10),\n",
    "               'min_samples_split' : (2, 15), 'min_samples_leaf' : (2, 15) }"
   ]
  },
  {
   "cell_type": "code",
   "execution_count": 5,
   "id": "0589d0f1",
   "metadata": {},
   "outputs": [
    {
     "data": {
      "text/plain": [
       "array([5.72313389e-04, 3.06483333e-03, 9.99345613e-01, ...,\n",
       "       9.99159162e-01, 9.99965776e-01, 9.99339232e-01])"
      ]
     },
     "execution_count": 5,
     "metadata": {},
     "output_type": "execute_result"
    }
   ],
   "source": [
    "tune_lgbm_clf = joblib.load('model_save/tuning/task1_lgbm_clf.pkl')\n",
    "\n",
    "tune_lgbm_clf_pred_proba = np.array([i[1] for i in tune_lgbm_clf.predict_proba(train_x)])\n",
    "tune_lgbm_clf_pred_proba"
   ]
  },
  {
   "cell_type": "code",
   "execution_count": 7,
   "id": "112b6bba",
   "metadata": {},
   "outputs": [],
   "source": [
    "def cb_reg_opt(n_estimators, learning_rate, max_depth, random_strength, l2_leaf_reg):\n",
    "    \n",
    "    params = { 'n_estimators' : int(round(n_estimators)),\n",
    "               'learning_rate' : learning_rate,\n",
    "               'max_depth' : int(round(max_depth)),\n",
    "               'random_strength' : random_strength,\n",
    "               'l2_leaf_reg' : l2_leaf_reg }\n",
    "    \n",
    "    cb = CatBoostRegressor(**params)\n",
    "    skf = KFold(n_splits = 4, shuffle = True, random_state = 17)\n",
    "    score = cross_val_score(cb, train_s, tune_lgbm_clf_pred_proba, scoring = 'neg_mean_squared_error', cv = skf, n_jobs = -1)\n",
    "    \n",
    "    return np.mean(score)\n",
    "\n",
    "def xgb_reg_opt(n_estimators, learning_rate, max_depth, subsample, colsample_bytree, min_child_weight):\n",
    "    \n",
    "    params = { 'n_estimators' : int(round(n_estimators)),\n",
    "               'learning_rate' : learning_rate,\n",
    "               'max_depth' : int(round(max_depth)),\n",
    "               'subsample' : subsample,\n",
    "               'colsample_bytree' : colsample_bytree,\n",
    "               'min_child_weight' : min_child_weight, 'n_jobs' : -1 }\n",
    "    \n",
    "    xgb = XGBRegressor(**params)\n",
    "    skf = KFold(n_splits = 4, shuffle = True, random_state = 17)\n",
    "    score = cross_val_score(xgb, train_s, tune_lgbm_clf_pred_proba, scoring = 'neg_mean_squared_error', cv = skf, n_jobs = -1)\n",
    "    \n",
    "    return np.mean(score)\n",
    "\n",
    "def lgbm_reg_opt(n_estimators, learning_rate, max_depth, subsample, colsample_bytree, num_leaves, min_child_weight):\n",
    "    \n",
    "    params = { 'n_estimators' : int(round(n_estimators)),\n",
    "               'learning_rate' : learning_rate,\n",
    "               'max_depth' : int(round(max_depth)),\n",
    "               'subsample' : subsample,\n",
    "               'colsample_bytree' : colsample_bytree,\n",
    "               'num_leaves' : int(round(num_leaves)),\n",
    "               'min_child_weight' : min_child_weight,'n_jobs' : -1 }\n",
    "    \n",
    "    lgbm = LGBMRegressor(**params)\n",
    "    skf = KFold(n_splits = 4, shuffle = True, random_state = 17)\n",
    "    score = cross_val_score(lgbm, train_s, tune_lgbm_clf_pred_proba, scoring = 'neg_mean_squared_error', cv = skf, n_jobs = -1)\n",
    "    \n",
    "    return np.mean(score)\n",
    "\n",
    "def et_reg_opt(n_estimators, max_depth, min_samples_split, min_samples_leaf):\n",
    "    \n",
    "    params = { 'n_estimators' : int(round(n_estimators)),\n",
    "               'max_depth' : int(round(max_depth)),\n",
    "               'min_samples_split' : int(round(min_samples_split)),\n",
    "               'min_samples_leaf' : int(round(min_samples_leaf)), 'n_jobs' : -1 }\n",
    "    \n",
    "    et = ExtraTreesRegressor(**params)\n",
    "    skf = KFold(n_splits = 4, shuffle = True, random_state = 17)\n",
    "    score = cross_val_score(et, train_s, tune_lgbm_clf_pred_proba, scoring = 'neg_mean_squared_error', cv = skf, n_jobs = -1)\n",
    "    \n",
    "    return np.mean(score)"
   ]
  },
  {
   "cell_type": "code",
   "execution_count": 8,
   "id": "a8a6a88d",
   "metadata": {},
   "outputs": [],
   "source": [
    "#BO_cb_reg = BayesianOptimization(f = cb_reg_opt, pbounds = cb_pbounds, random_state=17)\n",
    "BO_xgb_reg = BayesianOptimization(f = xgb_reg_opt, pbounds = xgb_pbounds, random_state=17)\n",
    "BO_lgbm_reg = BayesianOptimization(f = lgbm_reg_opt, pbounds = lgbm_pbounds, random_state=17)\n",
    "BO_et_reg = BayesianOptimization(f = et_reg_opt, pbounds = et_pbounds, random_state=17)"
   ]
  },
  {
   "cell_type": "code",
   "execution_count": null,
   "id": "05f28353",
   "metadata": {},
   "outputs": [],
   "source": [
    "# Catboost Maximize\n",
    "#BO_cb_reg.maximize(init_points=50, n_iter=50)"
   ]
  },
  {
   "cell_type": "code",
   "execution_count": 11,
   "id": "21cd161f",
   "metadata": {
    "collapsed": true
   },
   "outputs": [
    {
     "name": "stdout",
     "output_type": "stream",
     "text": [
      "|   iter    |  target   | colsam... | learni... | max_depth | min_ch... | n_esti... | subsample |\n",
      "-------------------------------------------------------------------------------------------------\n",
      "| \u001b[0m1        \u001b[0m | \u001b[0m-0.03727 \u001b[0m | \u001b[0m0.7884   \u001b[0m | \u001b[0m0.2658   \u001b[0m | \u001b[0m5.149    \u001b[0m | \u001b[0m1.951    \u001b[0m | \u001b[0m404.1    \u001b[0m | \u001b[0m0.8969   \u001b[0m |\n",
      "| \u001b[0m2        \u001b[0m | \u001b[0m-0.03867 \u001b[0m | \u001b[0m0.8913   \u001b[0m | \u001b[0m0.2882   \u001b[0m | \u001b[0m4.234    \u001b[0m | \u001b[0m6.009    \u001b[0m | \u001b[0m475.6    \u001b[0m | \u001b[0m0.718    \u001b[0m |\n",
      "| \u001b[0m3        \u001b[0m | \u001b[0m-0.04067 \u001b[0m | \u001b[0m0.9592   \u001b[0m | \u001b[0m0.4388   \u001b[0m | \u001b[0m4.307    \u001b[0m | \u001b[0m10.13    \u001b[0m | \u001b[0m298.3    \u001b[0m | \u001b[0m0.8793   \u001b[0m |\n",
      "| \u001b[95m4        \u001b[0m | \u001b[95m-0.03614 \u001b[0m | \u001b[95m0.8451   \u001b[0m | \u001b[95m0.1422   \u001b[0m | \u001b[95m5.786    \u001b[0m | \u001b[95m8.861    \u001b[0m | \u001b[95m228.2    \u001b[0m | \u001b[95m0.9366   \u001b[0m |\n",
      "| \u001b[0m5        \u001b[0m | \u001b[0m-0.0379  \u001b[0m | \u001b[0m0.8255   \u001b[0m | \u001b[0m0.07281  \u001b[0m | \u001b[0m4.905    \u001b[0m | \u001b[0m1.773    \u001b[0m | \u001b[0m373.1    \u001b[0m | \u001b[0m0.7877   \u001b[0m |\n",
      "| \u001b[0m6        \u001b[0m | \u001b[0m-0.04208 \u001b[0m | \u001b[0m0.7596   \u001b[0m | \u001b[0m0.4159   \u001b[0m | \u001b[0m7.408    \u001b[0m | \u001b[0m2.153    \u001b[0m | \u001b[0m295.2    \u001b[0m | \u001b[0m0.7477   \u001b[0m |\n",
      "| \u001b[95m7        \u001b[0m | \u001b[95m-0.03476 \u001b[0m | \u001b[95m0.903    \u001b[0m | \u001b[95m0.06012  \u001b[0m | \u001b[95m6.67     \u001b[0m | \u001b[95m13.43    \u001b[0m | \u001b[95m408.8    \u001b[0m | \u001b[95m0.7204   \u001b[0m |\n",
      "| \u001b[0m8        \u001b[0m | \u001b[0m-0.03843 \u001b[0m | \u001b[0m0.9882   \u001b[0m | \u001b[0m0.3299   \u001b[0m | \u001b[0m8.313    \u001b[0m | \u001b[0m11.41    \u001b[0m | \u001b[0m449.5    \u001b[0m | \u001b[0m0.7402   \u001b[0m |\n",
      "| \u001b[0m9        \u001b[0m | \u001b[0m-0.04034 \u001b[0m | \u001b[0m0.9331   \u001b[0m | \u001b[0m0.4192   \u001b[0m | \u001b[0m8.976    \u001b[0m | \u001b[0m1.408    \u001b[0m | \u001b[0m225.7    \u001b[0m | \u001b[0m0.8312   \u001b[0m |\n",
      "| \u001b[0m10       \u001b[0m | \u001b[0m-0.04224 \u001b[0m | \u001b[0m0.8562   \u001b[0m | \u001b[0m0.2469   \u001b[0m | \u001b[0m4.783    \u001b[0m | \u001b[0m14.78    \u001b[0m | \u001b[0m79.57    \u001b[0m | \u001b[0m0.8738   \u001b[0m |\n",
      "| \u001b[0m11       \u001b[0m | \u001b[0m-0.04437 \u001b[0m | \u001b[0m0.8742   \u001b[0m | \u001b[0m0.4772   \u001b[0m | \u001b[0m5.185    \u001b[0m | \u001b[0m2.167    \u001b[0m | \u001b[0m447.7    \u001b[0m | \u001b[0m0.7047   \u001b[0m |\n",
      "| \u001b[0m12       \u001b[0m | \u001b[0m-0.03982 \u001b[0m | \u001b[0m0.9387   \u001b[0m | \u001b[0m0.3843   \u001b[0m | \u001b[0m9.232    \u001b[0m | \u001b[0m13.83    \u001b[0m | \u001b[0m173.2    \u001b[0m | \u001b[0m0.7709   \u001b[0m |\n",
      "| \u001b[0m13       \u001b[0m | \u001b[0m-0.03913 \u001b[0m | \u001b[0m0.7932   \u001b[0m | \u001b[0m0.3581   \u001b[0m | \u001b[0m4.496    \u001b[0m | \u001b[0m10.46    \u001b[0m | \u001b[0m436.3    \u001b[0m | \u001b[0m0.9079   \u001b[0m |\n",
      "| \u001b[0m14       \u001b[0m | \u001b[0m-0.03645 \u001b[0m | \u001b[0m0.9355   \u001b[0m | \u001b[0m0.1773   \u001b[0m | \u001b[0m5.321    \u001b[0m | \u001b[0m4.435    \u001b[0m | \u001b[0m377.3    \u001b[0m | \u001b[0m0.7192   \u001b[0m |\n",
      "| \u001b[0m15       \u001b[0m | \u001b[0m-0.03496 \u001b[0m | \u001b[0m0.8361   \u001b[0m | \u001b[0m0.2444   \u001b[0m | \u001b[0m7.845    \u001b[0m | \u001b[0m2.486    \u001b[0m | \u001b[0m308.1    \u001b[0m | \u001b[0m0.9881   \u001b[0m |\n",
      "| \u001b[0m16       \u001b[0m | \u001b[0m-0.03644 \u001b[0m | \u001b[0m0.8547   \u001b[0m | \u001b[0m0.2853   \u001b[0m | \u001b[0m9.928    \u001b[0m | \u001b[0m12.66    \u001b[0m | \u001b[0m274.2    \u001b[0m | \u001b[0m0.724    \u001b[0m |\n",
      "| \u001b[0m17       \u001b[0m | \u001b[0m-0.03852 \u001b[0m | \u001b[0m0.9613   \u001b[0m | \u001b[0m0.3568   \u001b[0m | \u001b[0m8.393    \u001b[0m | \u001b[0m12.53    \u001b[0m | \u001b[0m385.2    \u001b[0m | \u001b[0m0.8239   \u001b[0m |\n",
      "| \u001b[0m18       \u001b[0m | \u001b[0m-0.04016 \u001b[0m | \u001b[0m0.8544   \u001b[0m | \u001b[0m0.4234   \u001b[0m | \u001b[0m9.153    \u001b[0m | \u001b[0m5.347    \u001b[0m | \u001b[0m103.7    \u001b[0m | \u001b[0m0.8563   \u001b[0m |\n",
      "| \u001b[0m19       \u001b[0m | \u001b[0m-0.04104 \u001b[0m | \u001b[0m0.8347   \u001b[0m | \u001b[0m0.4487   \u001b[0m | \u001b[0m6.959    \u001b[0m | \u001b[0m8.063    \u001b[0m | \u001b[0m214.3    \u001b[0m | \u001b[0m0.9349   \u001b[0m |\n",
      "| \u001b[0m20       \u001b[0m | \u001b[0m-0.03514 \u001b[0m | \u001b[0m0.9844   \u001b[0m | \u001b[0m0.06588  \u001b[0m | \u001b[0m7.967    \u001b[0m | \u001b[0m3.292    \u001b[0m | \u001b[0m189.0    \u001b[0m | \u001b[0m0.99     \u001b[0m |\n",
      "| \u001b[0m21       \u001b[0m | \u001b[0m-0.0368  \u001b[0m | \u001b[0m0.8449   \u001b[0m | \u001b[0m0.2708   \u001b[0m | \u001b[0m8.267    \u001b[0m | \u001b[0m10.62    \u001b[0m | \u001b[0m66.64    \u001b[0m | \u001b[0m0.9665   \u001b[0m |\n",
      "| \u001b[0m22       \u001b[0m | \u001b[0m-0.04117 \u001b[0m | \u001b[0m0.7566   \u001b[0m | \u001b[0m0.3912   \u001b[0m | \u001b[0m7.864    \u001b[0m | \u001b[0m7.796    \u001b[0m | \u001b[0m468.1    \u001b[0m | \u001b[0m0.781    \u001b[0m |\n",
      "| \u001b[0m23       \u001b[0m | \u001b[0m-0.03849 \u001b[0m | \u001b[0m0.9443   \u001b[0m | \u001b[0m0.3478   \u001b[0m | \u001b[0m5.413    \u001b[0m | \u001b[0m14.35    \u001b[0m | \u001b[0m313.4    \u001b[0m | \u001b[0m0.8749   \u001b[0m |\n",
      "| \u001b[0m24       \u001b[0m | \u001b[0m-0.03837 \u001b[0m | \u001b[0m0.7472   \u001b[0m | \u001b[0m0.2132   \u001b[0m | \u001b[0m5.41     \u001b[0m | \u001b[0m9.407    \u001b[0m | \u001b[0m212.3    \u001b[0m | \u001b[0m0.7507   \u001b[0m |\n",
      "| \u001b[95m25       \u001b[0m | \u001b[95m-0.03446 \u001b[0m | \u001b[95m0.8042   \u001b[0m | \u001b[95m0.108    \u001b[0m | \u001b[95m8.767    \u001b[0m | \u001b[95m12.08    \u001b[0m | \u001b[95m124.0    \u001b[0m | \u001b[95m0.9251   \u001b[0m |\n",
      "| \u001b[95m26       \u001b[0m | \u001b[95m-0.03385 \u001b[0m | \u001b[95m0.7168   \u001b[0m | \u001b[95m0.117    \u001b[0m | \u001b[95m7.901    \u001b[0m | \u001b[95m11.06    \u001b[0m | \u001b[95m266.0    \u001b[0m | \u001b[95m0.8013   \u001b[0m |\n",
      "| \u001b[0m27       \u001b[0m | \u001b[0m-0.03998 \u001b[0m | \u001b[0m0.8169   \u001b[0m | \u001b[0m0.4295   \u001b[0m | \u001b[0m7.068    \u001b[0m | \u001b[0m13.25    \u001b[0m | \u001b[0m475.9    \u001b[0m | \u001b[0m0.9807   \u001b[0m |\n",
      "| \u001b[0m28       \u001b[0m | \u001b[0m-0.03745 \u001b[0m | \u001b[0m0.8479   \u001b[0m | \u001b[0m0.3007   \u001b[0m | \u001b[0m5.243    \u001b[0m | \u001b[0m14.39    \u001b[0m | \u001b[0m494.1    \u001b[0m | \u001b[0m0.9488   \u001b[0m |\n",
      "| \u001b[0m29       \u001b[0m | \u001b[0m-0.04749 \u001b[0m | \u001b[0m0.8614   \u001b[0m | \u001b[0m0.04269  \u001b[0m | \u001b[0m5.883    \u001b[0m | \u001b[0m2.486    \u001b[0m | \u001b[0m142.2    \u001b[0m | \u001b[0m0.7977   \u001b[0m |\n",
      "| \u001b[0m30       \u001b[0m | \u001b[0m-0.04279 \u001b[0m | \u001b[0m0.8505   \u001b[0m | \u001b[0m0.4393   \u001b[0m | \u001b[0m5.566    \u001b[0m | \u001b[0m8.422    \u001b[0m | \u001b[0m429.7    \u001b[0m | \u001b[0m0.741    \u001b[0m |\n",
      "| \u001b[0m31       \u001b[0m | \u001b[0m-0.03847 \u001b[0m | \u001b[0m0.8201   \u001b[0m | \u001b[0m0.2847   \u001b[0m | \u001b[0m5.116    \u001b[0m | \u001b[0m1.192    \u001b[0m | \u001b[0m316.8    \u001b[0m | \u001b[0m0.7047   \u001b[0m |\n",
      "| \u001b[0m32       \u001b[0m | \u001b[0m-0.03592 \u001b[0m | \u001b[0m0.8758   \u001b[0m | \u001b[0m0.2049   \u001b[0m | \u001b[0m5.372    \u001b[0m | \u001b[0m3.658    \u001b[0m | \u001b[0m461.0    \u001b[0m | \u001b[0m0.8771   \u001b[0m |\n",
      "| \u001b[0m33       \u001b[0m | \u001b[0m-0.03847 \u001b[0m | \u001b[0m0.7514   \u001b[0m | \u001b[0m0.3575   \u001b[0m | \u001b[0m5.431    \u001b[0m | \u001b[0m13.91    \u001b[0m | \u001b[0m374.6    \u001b[0m | \u001b[0m0.9031   \u001b[0m |\n",
      "| \u001b[0m34       \u001b[0m | \u001b[0m-0.03684 \u001b[0m | \u001b[0m0.996    \u001b[0m | \u001b[0m0.2703   \u001b[0m | \u001b[0m6.984    \u001b[0m | \u001b[0m13.57    \u001b[0m | \u001b[0m482.7    \u001b[0m | \u001b[0m0.7007   \u001b[0m |\n",
      "| \u001b[0m35       \u001b[0m | \u001b[0m-0.03546 \u001b[0m | \u001b[0m0.9493   \u001b[0m | \u001b[0m0.2791   \u001b[0m | \u001b[0m9.61     \u001b[0m | \u001b[0m11.06    \u001b[0m | \u001b[0m481.1    \u001b[0m | \u001b[0m0.9277   \u001b[0m |\n",
      "| \u001b[95m36       \u001b[0m | \u001b[95m-0.03224 \u001b[0m | \u001b[95m0.7792   \u001b[0m | \u001b[95m0.06874  \u001b[0m | \u001b[95m9.41     \u001b[0m | \u001b[95m8.225    \u001b[0m | \u001b[95m432.2    \u001b[0m | \u001b[95m0.7166   \u001b[0m |\n",
      "| \u001b[0m37       \u001b[0m | \u001b[0m-0.03658 \u001b[0m | \u001b[0m0.829    \u001b[0m | \u001b[0m0.1036   \u001b[0m | \u001b[0m9.224    \u001b[0m | \u001b[0m10.72    \u001b[0m | \u001b[0m78.09    \u001b[0m | \u001b[0m0.8844   \u001b[0m |\n",
      "| \u001b[0m38       \u001b[0m | \u001b[0m-0.06269 \u001b[0m | \u001b[0m0.9518   \u001b[0m | \u001b[0m0.01786  \u001b[0m | \u001b[0m7.676    \u001b[0m | \u001b[0m13.96    \u001b[0m | \u001b[0m118.2    \u001b[0m | \u001b[0m0.9184   \u001b[0m |\n",
      "| \u001b[0m39       \u001b[0m | \u001b[0m-0.04089 \u001b[0m | \u001b[0m0.7452   \u001b[0m | \u001b[0m0.4201   \u001b[0m | \u001b[0m5.096    \u001b[0m | \u001b[0m6.475    \u001b[0m | \u001b[0m212.1    \u001b[0m | \u001b[0m0.8194   \u001b[0m |\n",
      "| \u001b[0m40       \u001b[0m | \u001b[0m-0.03664 \u001b[0m | \u001b[0m0.9971   \u001b[0m | \u001b[0m0.1002   \u001b[0m | \u001b[0m6.216    \u001b[0m | \u001b[0m11.77    \u001b[0m | \u001b[0m250.5    \u001b[0m | \u001b[0m0.8669   \u001b[0m |\n",
      "| \u001b[0m41       \u001b[0m | \u001b[0m-0.04488 \u001b[0m | \u001b[0m0.9291   \u001b[0m | \u001b[0m0.4999   \u001b[0m | \u001b[0m8.908    \u001b[0m | \u001b[0m7.145    \u001b[0m | \u001b[0m203.9    \u001b[0m | \u001b[0m0.8008   \u001b[0m |\n",
      "| \u001b[0m42       \u001b[0m | \u001b[0m-0.03991 \u001b[0m | \u001b[0m0.9638   \u001b[0m | \u001b[0m0.376    \u001b[0m | \u001b[0m4.463    \u001b[0m | \u001b[0m8.367    \u001b[0m | \u001b[0m352.9    \u001b[0m | \u001b[0m0.8463   \u001b[0m |\n",
      "| \u001b[0m43       \u001b[0m | \u001b[0m-0.0411  \u001b[0m | \u001b[0m0.8572   \u001b[0m | \u001b[0m0.4296   \u001b[0m | \u001b[0m6.014    \u001b[0m | \u001b[0m2.892    \u001b[0m | \u001b[0m324.4    \u001b[0m | \u001b[0m0.8981   \u001b[0m |\n",
      "| \u001b[0m44       \u001b[0m | \u001b[0m-0.03993 \u001b[0m | \u001b[0m0.9931   \u001b[0m | \u001b[0m0.4113   \u001b[0m | \u001b[0m8.672    \u001b[0m | \u001b[0m14.2     \u001b[0m | \u001b[0m229.4    \u001b[0m | \u001b[0m0.7907   \u001b[0m |\n",
      "| \u001b[0m45       \u001b[0m | \u001b[0m-0.03623 \u001b[0m | \u001b[0m0.908    \u001b[0m | \u001b[0m0.2801   \u001b[0m | \u001b[0m7.095    \u001b[0m | \u001b[0m4.118    \u001b[0m | \u001b[0m342.4    \u001b[0m | \u001b[0m0.9032   \u001b[0m |\n",
      "| \u001b[0m46       \u001b[0m | \u001b[0m-0.03288 \u001b[0m | \u001b[0m0.8159   \u001b[0m | \u001b[0m0.1314   \u001b[0m | \u001b[0m9.993    \u001b[0m | \u001b[0m4.702    \u001b[0m | \u001b[0m124.1    \u001b[0m | \u001b[0m0.935    \u001b[0m |\n",
      "| \u001b[0m47       \u001b[0m | \u001b[0m-0.04236 \u001b[0m | \u001b[0m0.8441   \u001b[0m | \u001b[0m0.4767   \u001b[0m | \u001b[0m6.177    \u001b[0m | \u001b[0m9.443    \u001b[0m | \u001b[0m54.28    \u001b[0m | \u001b[0m0.9305   \u001b[0m |\n",
      "| \u001b[0m48       \u001b[0m | \u001b[0m-0.03791 \u001b[0m | \u001b[0m0.9898   \u001b[0m | \u001b[0m0.3432   \u001b[0m | \u001b[0m9.024    \u001b[0m | \u001b[0m2.442    \u001b[0m | \u001b[0m404.7    \u001b[0m | \u001b[0m0.8292   \u001b[0m |\n",
      "| \u001b[0m49       \u001b[0m | \u001b[0m-0.04273 \u001b[0m | \u001b[0m0.7526   \u001b[0m | \u001b[0m0.4503   \u001b[0m | \u001b[0m7.978    \u001b[0m | \u001b[0m4.02     \u001b[0m | \u001b[0m170.3    \u001b[0m | \u001b[0m0.7466   \u001b[0m |\n",
      "| \u001b[0m50       \u001b[0m | \u001b[0m-0.04086 \u001b[0m | \u001b[0m0.8959   \u001b[0m | \u001b[0m0.355    \u001b[0m | \u001b[0m4.372    \u001b[0m | \u001b[0m14.66    \u001b[0m | \u001b[0m185.8    \u001b[0m | \u001b[0m0.8971   \u001b[0m |\n"
     ]
    },
    {
     "name": "stdout",
     "output_type": "stream",
     "text": [
      "| \u001b[0m51       \u001b[0m | \u001b[0m-0.03705 \u001b[0m | \u001b[0m0.9321   \u001b[0m | \u001b[0m0.3314   \u001b[0m | \u001b[0m7.489    \u001b[0m | \u001b[0m2.209    \u001b[0m | \u001b[0m290.3    \u001b[0m | \u001b[0m0.9461   \u001b[0m |\n",
      "| \u001b[0m52       \u001b[0m | \u001b[0m-0.03991 \u001b[0m | \u001b[0m0.7935   \u001b[0m | \u001b[0m0.05523  \u001b[0m | \u001b[0m5.774    \u001b[0m | \u001b[0m9.111    \u001b[0m | \u001b[0m228.3    \u001b[0m | \u001b[0m0.7835   \u001b[0m |\n",
      "| \u001b[0m53       \u001b[0m | \u001b[0m-0.04049 \u001b[0m | \u001b[0m0.8064   \u001b[0m | \u001b[0m0.3959   \u001b[0m | \u001b[0m6.896    \u001b[0m | \u001b[0m14.83    \u001b[0m | \u001b[0m188.7    \u001b[0m | \u001b[0m0.7548   \u001b[0m |\n",
      "| \u001b[0m54       \u001b[0m | \u001b[0m-0.0354  \u001b[0m | \u001b[0m0.9514   \u001b[0m | \u001b[0m0.171    \u001b[0m | \u001b[0m9.557    \u001b[0m | \u001b[0m14.41    \u001b[0m | \u001b[0m63.49    \u001b[0m | \u001b[0m0.7924   \u001b[0m |\n",
      "| \u001b[0m55       \u001b[0m | \u001b[0m-0.03431 \u001b[0m | \u001b[0m0.9583   \u001b[0m | \u001b[0m0.04195  \u001b[0m | \u001b[0m8.049    \u001b[0m | \u001b[0m4.931    \u001b[0m | \u001b[0m312.1    \u001b[0m | \u001b[0m0.7596   \u001b[0m |\n",
      "| \u001b[0m56       \u001b[0m | \u001b[0m-0.05175 \u001b[0m | \u001b[0m0.9709   \u001b[0m | \u001b[0m0.06442  \u001b[0m | \u001b[0m6.515    \u001b[0m | \u001b[0m14.54    \u001b[0m | \u001b[0m59.57    \u001b[0m | \u001b[0m0.7783   \u001b[0m |\n",
      "| \u001b[0m57       \u001b[0m | \u001b[0m-0.0332  \u001b[0m | \u001b[0m0.7459   \u001b[0m | \u001b[0m0.1455   \u001b[0m | \u001b[0m9.208    \u001b[0m | \u001b[0m10.89    \u001b[0m | \u001b[0m481.0    \u001b[0m | \u001b[0m0.9132   \u001b[0m |\n",
      "| \u001b[0m58       \u001b[0m | \u001b[0m-0.0409  \u001b[0m | \u001b[0m0.7998   \u001b[0m | \u001b[0m0.4568   \u001b[0m | \u001b[0m9.273    \u001b[0m | \u001b[0m8.473    \u001b[0m | \u001b[0m432.7    \u001b[0m | \u001b[0m0.9508   \u001b[0m |\n",
      "| \u001b[0m59       \u001b[0m | \u001b[0m-0.03671 \u001b[0m | \u001b[0m0.7165   \u001b[0m | \u001b[0m0.3101   \u001b[0m | \u001b[0m8.571    \u001b[0m | \u001b[0m10.0     \u001b[0m | \u001b[0m465.7    \u001b[0m | \u001b[0m0.9357   \u001b[0m |\n",
      "| \u001b[0m60       \u001b[0m | \u001b[0m-0.03371 \u001b[0m | \u001b[0m0.7553   \u001b[0m | \u001b[0m0.156    \u001b[0m | \u001b[0m7.699    \u001b[0m | \u001b[0m11.64    \u001b[0m | \u001b[0m265.8    \u001b[0m | \u001b[0m0.8779   \u001b[0m |\n",
      "| \u001b[0m61       \u001b[0m | \u001b[0m-0.03365 \u001b[0m | \u001b[0m0.8995   \u001b[0m | \u001b[0m0.1541   \u001b[0m | \u001b[0m9.26     \u001b[0m | \u001b[0m10.98    \u001b[0m | \u001b[0m480.5    \u001b[0m | \u001b[0m0.7009   \u001b[0m |\n",
      "| \u001b[0m62       \u001b[0m | \u001b[0m-0.1455  \u001b[0m | \u001b[0m0.7552   \u001b[0m | \u001b[0m0.001    \u001b[0m | \u001b[0m9.568    \u001b[0m | \u001b[0m7.946    \u001b[0m | \u001b[0m431.7    \u001b[0m | \u001b[0m0.7      \u001b[0m |\n",
      "| \u001b[0m63       \u001b[0m | \u001b[0m-0.03481 \u001b[0m | \u001b[0m0.8779   \u001b[0m | \u001b[0m0.1673   \u001b[0m | \u001b[0m5.721    \u001b[0m | \u001b[0m6.778    \u001b[0m | \u001b[0m485.4    \u001b[0m | \u001b[0m0.843    \u001b[0m |\n",
      "| \u001b[0m64       \u001b[0m | \u001b[0m-0.04142 \u001b[0m | \u001b[0m0.7144   \u001b[0m | \u001b[0m0.4149   \u001b[0m | \u001b[0m9.449    \u001b[0m | \u001b[0m12.73    \u001b[0m | \u001b[0m331.4    \u001b[0m | \u001b[0m0.8027   \u001b[0m |\n",
      "| \u001b[0m65       \u001b[0m | \u001b[0m-0.03722 \u001b[0m | \u001b[0m0.9343   \u001b[0m | \u001b[0m0.3393   \u001b[0m | \u001b[0m9.709    \u001b[0m | \u001b[0m11.27    \u001b[0m | \u001b[0m481.3    \u001b[0m | \u001b[0m0.8988   \u001b[0m |\n",
      "| \u001b[0m66       \u001b[0m | \u001b[0m-0.03413 \u001b[0m | \u001b[0m0.7258   \u001b[0m | \u001b[0m0.08486  \u001b[0m | \u001b[0m7.808    \u001b[0m | \u001b[0m3.104    \u001b[0m | \u001b[0m188.9    \u001b[0m | \u001b[0m0.8156   \u001b[0m |\n",
      "| \u001b[0m67       \u001b[0m | \u001b[0m-0.03857 \u001b[0m | \u001b[0m0.7083   \u001b[0m | \u001b[0m0.2515   \u001b[0m | \u001b[0m4.303    \u001b[0m | \u001b[0m2.398    \u001b[0m | \u001b[0m290.8    \u001b[0m | \u001b[0m0.9702   \u001b[0m |\n",
      "| \u001b[0m68       \u001b[0m | \u001b[0m-0.0351  \u001b[0m | \u001b[0m0.8329   \u001b[0m | \u001b[0m0.2483   \u001b[0m | \u001b[0m7.709    \u001b[0m | \u001b[0m10.09    \u001b[0m | \u001b[0m405.6    \u001b[0m | \u001b[0m0.9371   \u001b[0m |\n",
      "| \u001b[0m69       \u001b[0m | \u001b[0m-0.07067 \u001b[0m | \u001b[0m0.9255   \u001b[0m | \u001b[0m0.009053 \u001b[0m | \u001b[0m7.827    \u001b[0m | \u001b[0m3.647    \u001b[0m | \u001b[0m188.6    \u001b[0m | \u001b[0m0.9933   \u001b[0m |\n",
      "| \u001b[0m70       \u001b[0m | \u001b[0m-0.04125 \u001b[0m | \u001b[0m0.7468   \u001b[0m | \u001b[0m0.4647   \u001b[0m | \u001b[0m7.515    \u001b[0m | \u001b[0m2.55     \u001b[0m | \u001b[0m308.0    \u001b[0m | \u001b[0m0.9965   \u001b[0m |\n",
      "| \u001b[0m71       \u001b[0m | \u001b[0m-0.03717 \u001b[0m | \u001b[0m0.8445   \u001b[0m | \u001b[0m0.3293   \u001b[0m | \u001b[0m7.287    \u001b[0m | \u001b[0m5.67     \u001b[0m | \u001b[0m106.5    \u001b[0m | \u001b[0m0.9089   \u001b[0m |\n",
      "| \u001b[0m72       \u001b[0m | \u001b[0m-0.0346  \u001b[0m | \u001b[0m0.7862   \u001b[0m | \u001b[0m0.05378  \u001b[0m | \u001b[0m9.605    \u001b[0m | \u001b[0m4.673    \u001b[0m | \u001b[0m124.4    \u001b[0m | \u001b[0m0.7816   \u001b[0m |\n",
      "| \u001b[0m73       \u001b[0m | \u001b[0m-0.04035 \u001b[0m | \u001b[0m0.803    \u001b[0m | \u001b[0m0.1239   \u001b[0m | \u001b[0m5.41     \u001b[0m | \u001b[0m12.37    \u001b[0m | \u001b[0m170.6    \u001b[0m | \u001b[0m0.9025   \u001b[0m |\n",
      "| \u001b[0m74       \u001b[0m | \u001b[0m-0.03818 \u001b[0m | \u001b[0m0.9954   \u001b[0m | \u001b[0m0.1761   \u001b[0m | \u001b[0m6.03     \u001b[0m | \u001b[0m12.16    \u001b[0m | \u001b[0m124.0    \u001b[0m | \u001b[0m0.84     \u001b[0m |\n",
      "| \u001b[0m75       \u001b[0m | \u001b[0m-0.03971 \u001b[0m | \u001b[0m0.9616   \u001b[0m | \u001b[0m0.3463   \u001b[0m | \u001b[0m7.485    \u001b[0m | \u001b[0m13.12    \u001b[0m | \u001b[0m106.0    \u001b[0m | \u001b[0m0.7375   \u001b[0m |\n",
      "| \u001b[0m76       \u001b[0m | \u001b[0m-0.03607 \u001b[0m | \u001b[0m0.9741   \u001b[0m | \u001b[0m0.1378   \u001b[0m | \u001b[0m5.082    \u001b[0m | \u001b[0m1.634    \u001b[0m | \u001b[0m373.4    \u001b[0m | \u001b[0m0.7841   \u001b[0m |\n",
      "| \u001b[0m77       \u001b[0m | \u001b[0m-0.04299 \u001b[0m | \u001b[0m0.7223   \u001b[0m | \u001b[0m0.4537   \u001b[0m | \u001b[0m6.943    \u001b[0m | \u001b[0m9.136    \u001b[0m | \u001b[0m458.5    \u001b[0m | \u001b[0m0.7837   \u001b[0m |\n",
      "| \u001b[0m78       \u001b[0m | \u001b[0m-0.03291 \u001b[0m | \u001b[0m0.9655   \u001b[0m | \u001b[0m0.09471  \u001b[0m | \u001b[0m7.596    \u001b[0m | \u001b[0m7.342    \u001b[0m | \u001b[0m340.1    \u001b[0m | \u001b[0m0.9122   \u001b[0m |\n",
      "| \u001b[0m79       \u001b[0m | \u001b[0m-0.0365  \u001b[0m | \u001b[0m0.8743   \u001b[0m | \u001b[0m0.2304   \u001b[0m | \u001b[0m5.628    \u001b[0m | \u001b[0m7.744    \u001b[0m | \u001b[0m207.9    \u001b[0m | \u001b[0m0.7819   \u001b[0m |\n",
      "| \u001b[0m80       \u001b[0m | \u001b[0m-0.03946 \u001b[0m | \u001b[0m0.8242   \u001b[0m | \u001b[0m0.3363   \u001b[0m | \u001b[0m4.621    \u001b[0m | \u001b[0m13.66    \u001b[0m | \u001b[0m202.2    \u001b[0m | \u001b[0m0.8197   \u001b[0m |\n",
      "| \u001b[0m81       \u001b[0m | \u001b[0m-0.03928 \u001b[0m | \u001b[0m0.8544   \u001b[0m | \u001b[0m0.3643   \u001b[0m | \u001b[0m4.841    \u001b[0m | \u001b[0m4.826    \u001b[0m | \u001b[0m237.4    \u001b[0m | \u001b[0m0.8552   \u001b[0m |\n",
      "| \u001b[0m82       \u001b[0m | \u001b[0m-0.04031 \u001b[0m | \u001b[0m0.832    \u001b[0m | \u001b[0m0.4379   \u001b[0m | \u001b[0m7.392    \u001b[0m | \u001b[0m9.95     \u001b[0m | \u001b[0m405.6    \u001b[0m | \u001b[0m0.9742   \u001b[0m |\n",
      "| \u001b[0m83       \u001b[0m | \u001b[0m-0.03236 \u001b[0m | \u001b[0m0.9457   \u001b[0m | \u001b[0m0.09912  \u001b[0m | \u001b[0m9.117    \u001b[0m | \u001b[0m8.427    \u001b[0m | \u001b[0m432.3    \u001b[0m | \u001b[0m0.803    \u001b[0m |\n",
      "| \u001b[0m84       \u001b[0m | \u001b[0m-0.03225 \u001b[0m | \u001b[0m0.8235   \u001b[0m | \u001b[0m0.05524  \u001b[0m | \u001b[0m9.205    \u001b[0m | \u001b[0m11.43    \u001b[0m | \u001b[0m480.5    \u001b[0m | \u001b[0m0.929    \u001b[0m |\n",
      "| \u001b[0m85       \u001b[0m | \u001b[0m-0.03432 \u001b[0m | \u001b[0m0.8383   \u001b[0m | \u001b[0m0.1377   \u001b[0m | \u001b[0m6.86     \u001b[0m | \u001b[0m13.62    \u001b[0m | \u001b[0m408.6    \u001b[0m | \u001b[0m0.7558   \u001b[0m |\n",
      "| \u001b[0m86       \u001b[0m | \u001b[0m-0.04398 \u001b[0m | \u001b[0m0.7017   \u001b[0m | \u001b[0m0.4917   \u001b[0m | \u001b[0m7.611    \u001b[0m | \u001b[0m12.01    \u001b[0m | \u001b[0m265.8    \u001b[0m | \u001b[0m0.8097   \u001b[0m |\n",
      "| \u001b[0m87       \u001b[0m | \u001b[0m-0.03662 \u001b[0m | \u001b[0m0.7305   \u001b[0m | \u001b[0m0.1162   \u001b[0m | \u001b[0m5.407    \u001b[0m | \u001b[0m4.257    \u001b[0m | \u001b[0m377.3    \u001b[0m | \u001b[0m0.7271   \u001b[0m |\n",
      "| \u001b[0m88       \u001b[0m | \u001b[0m-0.04115 \u001b[0m | \u001b[0m0.8943   \u001b[0m | \u001b[0m0.495    \u001b[0m | \u001b[0m6.343    \u001b[0m | \u001b[0m4.194    \u001b[0m | \u001b[0m95.32    \u001b[0m | \u001b[0m0.9629   \u001b[0m |\n",
      "| \u001b[0m89       \u001b[0m | \u001b[0m-0.04096 \u001b[0m | \u001b[0m0.9862   \u001b[0m | \u001b[0m0.2382   \u001b[0m | \u001b[0m5.226    \u001b[0m | \u001b[0m11.35    \u001b[0m | \u001b[0m99.59    \u001b[0m | \u001b[0m0.7154   \u001b[0m |\n",
      "| \u001b[0m90       \u001b[0m | \u001b[0m-0.04385 \u001b[0m | \u001b[0m0.9989   \u001b[0m | \u001b[0m0.4738   \u001b[0m | \u001b[0m8.053    \u001b[0m | \u001b[0m10.69    \u001b[0m | \u001b[0m266.2    \u001b[0m | \u001b[0m0.7684   \u001b[0m |\n",
      "| \u001b[0m91       \u001b[0m | \u001b[0m-0.04164 \u001b[0m | \u001b[0m0.7613   \u001b[0m | \u001b[0m0.4035   \u001b[0m | \u001b[0m4.173    \u001b[0m | \u001b[0m10.33    \u001b[0m | \u001b[0m222.1    \u001b[0m | \u001b[0m0.76     \u001b[0m |\n",
      "| \u001b[0m92       \u001b[0m | \u001b[0m-0.03468 \u001b[0m | \u001b[0m0.8099   \u001b[0m | \u001b[0m0.05785  \u001b[0m | \u001b[0m7.28     \u001b[0m | \u001b[0m4.343    \u001b[0m | \u001b[0m342.4    \u001b[0m | \u001b[0m0.9035   \u001b[0m |\n",
      "| \u001b[0m93       \u001b[0m | \u001b[0m-0.03447 \u001b[0m | \u001b[0m0.8127   \u001b[0m | \u001b[0m0.2014   \u001b[0m | \u001b[0m7.159    \u001b[0m | \u001b[0m7.164    \u001b[0m | \u001b[0m375.5    \u001b[0m | \u001b[0m0.9716   \u001b[0m |\n",
      "| \u001b[0m94       \u001b[0m | \u001b[0m-0.04765 \u001b[0m | \u001b[0m0.9454   \u001b[0m | \u001b[0m0.07973  \u001b[0m | \u001b[0m6.707    \u001b[0m | \u001b[0m5.494    \u001b[0m | \u001b[0m57.78    \u001b[0m | \u001b[0m0.7247   \u001b[0m |\n",
      "| \u001b[0m95       \u001b[0m | \u001b[0m-0.03819 \u001b[0m | \u001b[0m0.8473   \u001b[0m | \u001b[0m0.3577   \u001b[0m | \u001b[0m9.557    \u001b[0m | \u001b[0m14.45    \u001b[0m | \u001b[0m63.53    \u001b[0m | \u001b[0m0.8496   \u001b[0m |\n",
      "| \u001b[0m96       \u001b[0m | \u001b[0m-0.03862 \u001b[0m | \u001b[0m0.89     \u001b[0m | \u001b[0m0.3314   \u001b[0m | \u001b[0m9.229    \u001b[0m | \u001b[0m4.117    \u001b[0m | \u001b[0m499.1    \u001b[0m | \u001b[0m0.8144   \u001b[0m |\n",
      "| \u001b[0m97       \u001b[0m | \u001b[0m-0.03938 \u001b[0m | \u001b[0m0.7852   \u001b[0m | \u001b[0m0.2957   \u001b[0m | \u001b[0m4.217    \u001b[0m | \u001b[0m10.9     \u001b[0m | \u001b[0m258.5    \u001b[0m | \u001b[0m0.9716   \u001b[0m |\n",
      "| \u001b[0m98       \u001b[0m | \u001b[0m-0.03431 \u001b[0m | \u001b[0m0.9553   \u001b[0m | \u001b[0m0.2308   \u001b[0m | \u001b[0m9.456    \u001b[0m | \u001b[0m8.206    \u001b[0m | \u001b[0m432.3    \u001b[0m | \u001b[0m0.9595   \u001b[0m |\n",
      "| \u001b[0m99       \u001b[0m | \u001b[0m-0.03764 \u001b[0m | \u001b[0m0.9745   \u001b[0m | \u001b[0m0.07504  \u001b[0m | \u001b[0m6.398    \u001b[0m | \u001b[0m8.551    \u001b[0m | \u001b[0m237.8    \u001b[0m | \u001b[0m0.7395   \u001b[0m |\n",
      "| \u001b[0m100      \u001b[0m | \u001b[0m-0.03481 \u001b[0m | \u001b[0m0.9166   \u001b[0m | \u001b[0m0.2007   \u001b[0m | \u001b[0m6.614    \u001b[0m | \u001b[0m13.13    \u001b[0m | \u001b[0m355.3    \u001b[0m | \u001b[0m0.8262   \u001b[0m |\n",
      "=================================================================================================\n"
     ]
    }
   ],
   "source": [
    "# XGB Maximize\n",
    "BO_xgb_reg.maximize(init_points=50, n_iter=50)"
   ]
  },
  {
   "cell_type": "code",
   "execution_count": 9,
   "id": "0be6d4b1",
   "metadata": {
    "collapsed": true
   },
   "outputs": [
    {
     "name": "stdout",
     "output_type": "stream",
     "text": [
      "|   iter    |  target   | colsam... | learni... | max_depth | min_ch... | n_esti... | num_le... | subsample |\n",
      "-------------------------------------------------------------------------------------------------------------\n",
      "| \u001b[0m1        \u001b[0m | \u001b[0m-0.04069 \u001b[0m | \u001b[0m0.7737   \u001b[0m | \u001b[0m0.27     \u001b[0m | \u001b[0m5.149    \u001b[0m | \u001b[0m1.951    \u001b[0m | \u001b[0m336.1    \u001b[0m | \u001b[0m7.251    \u001b[0m | \u001b[0m0.8913   \u001b[0m |\n",
      "| \u001b[0m2        \u001b[0m | \u001b[0m-0.076   \u001b[0m | \u001b[0m0.8439   \u001b[0m | \u001b[0m0.02914  \u001b[0m | \u001b[0m6.147    \u001b[0m | \u001b[0m14.24    \u001b[0m | \u001b[0m118.0    \u001b[0m | \u001b[0m8.912    \u001b[0m | \u001b[0m0.9632   \u001b[0m |\n",
      "| \u001b[0m3        \u001b[0m | \u001b[0m-0.04681 \u001b[0m | \u001b[0m0.7128   \u001b[0m | \u001b[0m0.3297   \u001b[0m | \u001b[0m7.311    \u001b[0m | \u001b[0m9.365    \u001b[0m | \u001b[0m245.1    \u001b[0m | \u001b[0m4.264    \u001b[0m | \u001b[0m0.7893   \u001b[0m |\n",
      "| \u001b[0m4        \u001b[0m | \u001b[0m-0.06033 \u001b[0m | \u001b[0m0.8404   \u001b[0m | \u001b[0m0.2041   \u001b[0m | \u001b[0m8.732    \u001b[0m | \u001b[0m6.859    \u001b[0m | \u001b[0m143.2    \u001b[0m | \u001b[0m3.207    \u001b[0m | \u001b[0m0.7166   \u001b[0m |\n",
      "| \u001b[0m5        \u001b[0m | \u001b[0m-0.05664 \u001b[0m | \u001b[0m0.8795   \u001b[0m | \u001b[0m0.1532   \u001b[0m | \u001b[0m5.193    \u001b[0m | \u001b[0m12.64    \u001b[0m | \u001b[0m270.4    \u001b[0m | \u001b[0m2.659    \u001b[0m | \u001b[0m0.8635   \u001b[0m |\n",
      "| \u001b[95m6        \u001b[0m | \u001b[95m-0.03966 \u001b[0m | \u001b[95m0.7397   \u001b[0m | \u001b[95m0.3416   \u001b[0m | \u001b[95m4.711    \u001b[0m | \u001b[95m7.23     \u001b[0m | \u001b[95m366.4    \u001b[0m | \u001b[95m8.378    \u001b[0m | \u001b[95m0.7204   \u001b[0m |\n",
      "| \u001b[0m7        \u001b[0m | \u001b[0m-0.04936 \u001b[0m | \u001b[0m0.9402   \u001b[0m | \u001b[0m0.333    \u001b[0m | \u001b[0m8.313    \u001b[0m | \u001b[0m11.41    \u001b[0m | \u001b[0m366.3    \u001b[0m | \u001b[0m3.072    \u001b[0m | \u001b[0m0.9331   \u001b[0m |\n",
      "| \u001b[0m8        \u001b[0m | \u001b[0m-0.04218 \u001b[0m | \u001b[0m0.9095   \u001b[0m | \u001b[0m0.4164   \u001b[0m | \u001b[0m4.175    \u001b[0m | \u001b[0m6.465    \u001b[0m | \u001b[0m231.2    \u001b[0m | \u001b[0m6.165    \u001b[0m | \u001b[0m0.8479   \u001b[0m |\n",
      "| \u001b[0m9        \u001b[0m | \u001b[0m-0.04095 \u001b[0m | \u001b[0m0.7326   \u001b[0m | \u001b[0m0.4923   \u001b[0m | \u001b[0m4.394    \u001b[0m | \u001b[0m9.11     \u001b[0m | \u001b[0m274.2    \u001b[0m | \u001b[0m9.635    \u001b[0m | \u001b[0m0.7592   \u001b[0m |\n",
      "| \u001b[0m10       \u001b[0m | \u001b[0m-0.04014 \u001b[0m | \u001b[0m0.7208   \u001b[0m | \u001b[0m0.4431   \u001b[0m | \u001b[0m4.094    \u001b[0m | \u001b[0m12.14    \u001b[0m | \u001b[0m330.5    \u001b[0m | \u001b[0m8.976    \u001b[0m | \u001b[0m0.9748   \u001b[0m |\n",
      "| \u001b[0m11       \u001b[0m | \u001b[0m-0.05193 \u001b[0m | \u001b[0m0.7685   \u001b[0m | \u001b[0m0.1258   \u001b[0m | \u001b[0m5.863    \u001b[0m | \u001b[0m11.02    \u001b[0m | \u001b[0m124.8    \u001b[0m | \u001b[0m7.404    \u001b[0m | \u001b[0m0.9576   \u001b[0m |\n",
      "| \u001b[0m12       \u001b[0m | \u001b[0m-0.04245 \u001b[0m | \u001b[0m0.8732   \u001b[0m | \u001b[0m0.3947   \u001b[0m | \u001b[0m6.12     \u001b[0m | \u001b[0m4.083    \u001b[0m | \u001b[0m173.6    \u001b[0m | \u001b[0m7.819    \u001b[0m | \u001b[0m0.7192   \u001b[0m |\n",
      "| \u001b[0m13       \u001b[0m | \u001b[0m-0.03981 \u001b[0m | \u001b[0m0.8134   \u001b[0m | \u001b[0m0.249    \u001b[0m | \u001b[0m7.845    \u001b[0m | \u001b[0m2.486    \u001b[0m | \u001b[0m272.1    \u001b[0m | \u001b[0m9.683    \u001b[0m | \u001b[0m0.8547   \u001b[0m |\n",
      "| \u001b[0m14       \u001b[0m | \u001b[0m-0.04361 \u001b[0m | \u001b[0m0.8425   \u001b[0m | \u001b[0m0.4941   \u001b[0m | \u001b[0m8.997    \u001b[0m | \u001b[0m7.974    \u001b[0m | \u001b[0m124.0    \u001b[0m | \u001b[0m8.968    \u001b[0m | \u001b[0m0.9139   \u001b[0m |\n",
      "| \u001b[0m15       \u001b[0m | \u001b[0m-0.04033 \u001b[0m | \u001b[0m0.883    \u001b[0m | \u001b[0m0.4136   \u001b[0m | \u001b[0m8.47     \u001b[0m | \u001b[0m6.783    \u001b[0m | \u001b[0m254.4    \u001b[0m | \u001b[0m8.772    \u001b[0m | \u001b[0m0.9577   \u001b[0m |\n",
      "| \u001b[0m16       \u001b[0m | \u001b[0m-0.0499  \u001b[0m | \u001b[0m0.7776   \u001b[0m | \u001b[0m0.0685   \u001b[0m | \u001b[0m7.126    \u001b[0m | \u001b[0m7.285    \u001b[0m | \u001b[0m369.2    \u001b[0m | \u001b[0m5.945    \u001b[0m | \u001b[0m0.8513   \u001b[0m |\n",
      "| \u001b[0m17       \u001b[0m | \u001b[0m-0.04969 \u001b[0m | \u001b[0m0.7913   \u001b[0m | \u001b[0m0.3937   \u001b[0m | \u001b[0m9.688    \u001b[0m | \u001b[0m2.82     \u001b[0m | \u001b[0m298.3    \u001b[0m | \u001b[0m3.31     \u001b[0m | \u001b[0m0.7927   \u001b[0m |\n",
      "| \u001b[0m18       \u001b[0m | \u001b[0m-0.06965 \u001b[0m | \u001b[0m0.9417   \u001b[0m | \u001b[0m0.2466   \u001b[0m | \u001b[0m7.244    \u001b[0m | \u001b[0m10.96    \u001b[0m | \u001b[0m306.2    \u001b[0m | \u001b[0m2.296    \u001b[0m | \u001b[0m0.9665   \u001b[0m |\n",
      "| \u001b[0m19       \u001b[0m | \u001b[0m-0.04322 \u001b[0m | \u001b[0m0.7471   \u001b[0m | \u001b[0m0.3932   \u001b[0m | \u001b[0m7.864    \u001b[0m | \u001b[0m7.796    \u001b[0m | \u001b[0m378.7    \u001b[0m | \u001b[0m4.159    \u001b[0m | \u001b[0m0.9443   \u001b[0m |\n",
      "| \u001b[0m20       \u001b[0m | \u001b[0m-0.05886 \u001b[0m | \u001b[0m0.8738   \u001b[0m | \u001b[0m0.1254   \u001b[0m | \u001b[0m9.72     \u001b[0m | \u001b[0m9.196    \u001b[0m | \u001b[0m274.9    \u001b[0m | \u001b[0m3.258    \u001b[0m | \u001b[0m0.8276   \u001b[0m |\n",
      "| \u001b[0m21       \u001b[0m | \u001b[0m-0.04852 \u001b[0m | \u001b[0m0.7588   \u001b[0m | \u001b[0m0.3042   \u001b[0m | \u001b[0m6.164    \u001b[0m | \u001b[0m3.364    \u001b[0m | \u001b[0m204.2    \u001b[0m | \u001b[0m3.716    \u001b[0m | \u001b[0m0.9384   \u001b[0m |\n",
      "| \u001b[0m22       \u001b[0m | \u001b[0m-0.052   \u001b[0m | \u001b[0m0.8979   \u001b[0m | \u001b[0m0.09062  \u001b[0m | \u001b[0m8.502    \u001b[0m | \u001b[0m1.783    \u001b[0m | \u001b[0m169.7    \u001b[0m | \u001b[0m7.201    \u001b[0m | \u001b[0m0.9155   \u001b[0m |\n",
      "| \u001b[0m23       \u001b[0m | \u001b[0m-0.04212 \u001b[0m | \u001b[0m0.82     \u001b[0m | \u001b[0m0.1754   \u001b[0m | \u001b[0m6.338    \u001b[0m | \u001b[0m13.02    \u001b[0m | \u001b[0m253.4    \u001b[0m | \u001b[0m8.998    \u001b[0m | \u001b[0m0.9839   \u001b[0m |\n",
      "| \u001b[95m24       \u001b[0m | \u001b[95m-0.03844 \u001b[0m | \u001b[95m0.9339   \u001b[0m | \u001b[95m0.2516   \u001b[0m | \u001b[95m7.603    \u001b[0m | \u001b[95m3.9      \u001b[0m | \u001b[95m386.9    \u001b[0m | \u001b[95m9.894    \u001b[0m | \u001b[95m0.9488   \u001b[0m |\n",
      "| \u001b[0m25       \u001b[0m | \u001b[0m-0.06893 \u001b[0m | \u001b[0m0.8345   \u001b[0m | \u001b[0m0.05093  \u001b[0m | \u001b[0m5.883    \u001b[0m | \u001b[0m2.486    \u001b[0m | \u001b[0m161.5    \u001b[0m | \u001b[0m4.604    \u001b[0m | \u001b[0m0.8505   \u001b[0m |\n",
      "| \u001b[0m26       \u001b[0m | \u001b[0m-0.05441 \u001b[0m | \u001b[0m0.9196   \u001b[0m | \u001b[0m0.1379   \u001b[0m | \u001b[0m7.181    \u001b[0m | \u001b[0m12.81    \u001b[0m | \u001b[0m141.0    \u001b[0m | \u001b[0m5.202    \u001b[0m | \u001b[0m0.8705   \u001b[0m |\n",
      "| \u001b[0m27       \u001b[0m | \u001b[0m-0.08843 \u001b[0m | \u001b[0m0.7465   \u001b[0m | \u001b[0m0.01672  \u001b[0m | \u001b[0m7.557    \u001b[0m | \u001b[0m1.22     \u001b[0m | \u001b[0m275.8    \u001b[0m | \u001b[0m5.269    \u001b[0m | \u001b[0m0.7686   \u001b[0m |\n",
      "| \u001b[0m28       \u001b[0m | \u001b[0m-0.04367 \u001b[0m | \u001b[0m0.7475   \u001b[0m | \u001b[0m0.4575   \u001b[0m | \u001b[0m7.541    \u001b[0m | \u001b[0m3.397    \u001b[0m | \u001b[0m314.3    \u001b[0m | \u001b[0m3.908    \u001b[0m | \u001b[0m0.9765   \u001b[0m |\n",
      "| \u001b[0m29       \u001b[0m | \u001b[0m-0.04021 \u001b[0m | \u001b[0m0.8803   \u001b[0m | \u001b[0m0.3417   \u001b[0m | \u001b[0m9.921    \u001b[0m | \u001b[0m8.556    \u001b[0m | \u001b[0m249.2    \u001b[0m | \u001b[0m9.185    \u001b[0m | \u001b[0m0.9885   \u001b[0m |\n",
      "| \u001b[0m30       \u001b[0m | \u001b[0m-0.03965 \u001b[0m | \u001b[0m0.7006   \u001b[0m | \u001b[0m0.4172   \u001b[0m | \u001b[0m7.344    \u001b[0m | \u001b[0m14.09    \u001b[0m | \u001b[0m315.5    \u001b[0m | \u001b[0m9.665    \u001b[0m | \u001b[0m0.9277   \u001b[0m |\n",
      "| \u001b[0m31       \u001b[0m | \u001b[0m-0.1039  \u001b[0m | \u001b[0m0.766    \u001b[0m | \u001b[0m0.07652  \u001b[0m | \u001b[0m9.41     \u001b[0m | \u001b[0m8.225    \u001b[0m | \u001b[0m354.8    \u001b[0m | \u001b[0m2.442    \u001b[0m | \u001b[0m0.829    \u001b[0m |\n",
      "| \u001b[0m32       \u001b[0m | \u001b[0m-0.04005 \u001b[0m | \u001b[0m0.7514   \u001b[0m | \u001b[0m0.4366   \u001b[0m | \u001b[0m8.164    \u001b[0m | \u001b[0m1.874    \u001b[0m | \u001b[0m284.4    \u001b[0m | \u001b[0m8.714    \u001b[0m | \u001b[0m0.7101   \u001b[0m |\n",
      "| \u001b[0m33       \u001b[0m | \u001b[0m-0.04289 \u001b[0m | \u001b[0m0.8532   \u001b[0m | \u001b[0m0.4637   \u001b[0m | \u001b[0m4.909    \u001b[0m | \u001b[0m11.19    \u001b[0m | \u001b[0m145.2    \u001b[0m | \u001b[0m8.72     \u001b[0m | \u001b[0m0.7548   \u001b[0m |\n",
      "| \u001b[0m34       \u001b[0m | \u001b[0m-0.05049 \u001b[0m | \u001b[0m0.7978   \u001b[0m | \u001b[0m0.1865   \u001b[0m | \u001b[0m6.388    \u001b[0m | \u001b[0m14.86    \u001b[0m | \u001b[0m159.6    \u001b[0m | \u001b[0m4.954    \u001b[0m | \u001b[0m0.9308   \u001b[0m |\n",
      "| \u001b[0m35       \u001b[0m | \u001b[0m-0.04156 \u001b[0m | \u001b[0m0.8114   \u001b[0m | \u001b[0m0.2826   \u001b[0m | \u001b[0m8.583    \u001b[0m | \u001b[0m15.0     \u001b[0m | \u001b[0m345.4    \u001b[0m | \u001b[0m5.512    \u001b[0m | \u001b[0m0.8026   \u001b[0m |\n",
      "| \u001b[0m36       \u001b[0m | \u001b[0m-0.04125 \u001b[0m | \u001b[0m0.784    \u001b[0m | \u001b[0m0.4409   \u001b[0m | \u001b[0m8.509    \u001b[0m | \u001b[0m2.08     \u001b[0m | \u001b[0m257.9    \u001b[0m | \u001b[0m7.385    \u001b[0m | \u001b[0m0.8463   \u001b[0m |\n",
      "| \u001b[0m37       \u001b[0m | \u001b[0m-0.04086 \u001b[0m | \u001b[0m0.831    \u001b[0m | \u001b[0m0.4308   \u001b[0m | \u001b[0m6.014    \u001b[0m | \u001b[0m2.892    \u001b[0m | \u001b[0m282.9    \u001b[0m | \u001b[0m7.282    \u001b[0m | \u001b[0m0.9931   \u001b[0m |\n",
      "| \u001b[0m38       \u001b[0m | \u001b[0m-0.04167 \u001b[0m | \u001b[0m0.9056   \u001b[0m | \u001b[0m0.3915   \u001b[0m | \u001b[0m9.657    \u001b[0m | \u001b[0m6.582    \u001b[0m | \u001b[0m190.7    \u001b[0m | \u001b[0m7.547    \u001b[0m | \u001b[0m0.8678   \u001b[0m |\n",
      "| \u001b[0m39       \u001b[0m | \u001b[0m-0.0555  \u001b[0m | \u001b[0m0.829    \u001b[0m | \u001b[0m0.1191   \u001b[0m | \u001b[0m7.899    \u001b[0m | \u001b[0m10.48    \u001b[0m | \u001b[0m215.9    \u001b[0m | \u001b[0m4.091    \u001b[0m | \u001b[0m0.9996   \u001b[0m |\n",
      "| \u001b[0m40       \u001b[0m | \u001b[0m-0.04938 \u001b[0m | \u001b[0m0.7661   \u001b[0m | \u001b[0m0.09073  \u001b[0m | \u001b[0m8.699    \u001b[0m | \u001b[0m7.723    \u001b[0m | \u001b[0m386.0    \u001b[0m | \u001b[0m4.903    \u001b[0m | \u001b[0m0.8809   \u001b[0m |\n",
      "| \u001b[0m41       \u001b[0m | \u001b[0m-0.04909 \u001b[0m | \u001b[0m0.7024   \u001b[0m | \u001b[0m0.3864   \u001b[0m | \u001b[0m9.795    \u001b[0m | \u001b[0m10.6     \u001b[0m | \u001b[0m351.2    \u001b[0m | \u001b[0m2.824    \u001b[0m | \u001b[0m0.9365   \u001b[0m |\n",
      "| \u001b[0m42       \u001b[0m | \u001b[0m-0.06344 \u001b[0m | \u001b[0m0.8076   \u001b[0m | \u001b[0m0.09588  \u001b[0m | \u001b[0m9.402    \u001b[0m | \u001b[0m10.28    \u001b[0m | \u001b[0m164.7    \u001b[0m | \u001b[0m4.138    \u001b[0m | \u001b[0m0.7466   \u001b[0m |\n",
      "| \u001b[0m43       \u001b[0m | \u001b[0m-0.04272 \u001b[0m | \u001b[0m0.8633   \u001b[0m | \u001b[0m0.3576   \u001b[0m | \u001b[0m4.372    \u001b[0m | \u001b[0m14.66    \u001b[0m | \u001b[0m190.5    \u001b[0m | \u001b[0m7.255    \u001b[0m | \u001b[0m0.9386   \u001b[0m |\n",
      "| \u001b[0m44       \u001b[0m | \u001b[0m-0.04027 \u001b[0m | \u001b[0m0.9188   \u001b[0m | \u001b[0m0.3559   \u001b[0m | \u001b[0m7.98     \u001b[0m | \u001b[0m7.707    \u001b[0m | \u001b[0m207.7    \u001b[0m | \u001b[0m9.635    \u001b[0m | \u001b[0m0.8828   \u001b[0m |\n"
     ]
    },
    {
     "name": "stdout",
     "output_type": "stream",
     "text": [
      "| \u001b[0m45       \u001b[0m | \u001b[0m-0.05651 \u001b[0m | \u001b[0m0.9142   \u001b[0m | \u001b[0m0.4414   \u001b[0m | \u001b[0m5.075    \u001b[0m | \u001b[0m4.036    \u001b[0m | \u001b[0m110.6    \u001b[0m | \u001b[0m3.204    \u001b[0m | \u001b[0m0.7346   \u001b[0m |\n",
      "| \u001b[0m46       \u001b[0m | \u001b[0m-0.04867 \u001b[0m | \u001b[0m0.9259   \u001b[0m | \u001b[0m0.4903   \u001b[0m | \u001b[0m7.059    \u001b[0m | \u001b[0m7.25     \u001b[0m | \u001b[0m305.4    \u001b[0m | \u001b[0m2.992    \u001b[0m | \u001b[0m0.9097   \u001b[0m |\n",
      "| \u001b[0m47       \u001b[0m | \u001b[0m-0.04593 \u001b[0m | \u001b[0m0.8098   \u001b[0m | \u001b[0m0.3313   \u001b[0m | \u001b[0m8.782    \u001b[0m | \u001b[0m8.678    \u001b[0m | \u001b[0m191.6    \u001b[0m | \u001b[0m4.634    \u001b[0m | \u001b[0m0.7631   \u001b[0m |\n",
      "| \u001b[0m48       \u001b[0m | \u001b[0m-0.04874 \u001b[0m | \u001b[0m0.8969   \u001b[0m | \u001b[0m0.208    \u001b[0m | \u001b[0m8.259    \u001b[0m | \u001b[0m5.027    \u001b[0m | \u001b[0m185.8    \u001b[0m | \u001b[0m4.667    \u001b[0m | \u001b[0m0.8516   \u001b[0m |\n",
      "| \u001b[0m49       \u001b[0m | \u001b[0m-0.04594 \u001b[0m | \u001b[0m0.9305   \u001b[0m | \u001b[0m0.3636   \u001b[0m | \u001b[0m5.602    \u001b[0m | \u001b[0m1.524    \u001b[0m | \u001b[0m232.7    \u001b[0m | \u001b[0m4.318    \u001b[0m | \u001b[0m0.9316   \u001b[0m |\n",
      "| \u001b[0m50       \u001b[0m | \u001b[0m-0.05881 \u001b[0m | \u001b[0m0.8001   \u001b[0m | \u001b[0m0.1013   \u001b[0m | \u001b[0m9.33     \u001b[0m | \u001b[0m12.33    \u001b[0m | \u001b[0m202.6    \u001b[0m | \u001b[0m4.302    \u001b[0m | \u001b[0m0.886    \u001b[0m |\n",
      "| \u001b[0m51       \u001b[0m | \u001b[0m-0.04036 \u001b[0m | \u001b[0m0.8799   \u001b[0m | \u001b[0m0.3753   \u001b[0m | \u001b[0m9.139    \u001b[0m | \u001b[0m7.798    \u001b[0m | \u001b[0m251.8    \u001b[0m | \u001b[0m8.977    \u001b[0m | \u001b[0m0.9743   \u001b[0m |\n",
      "| \u001b[0m52       \u001b[0m | \u001b[0m-0.04287 \u001b[0m | \u001b[0m0.8494   \u001b[0m | \u001b[0m0.1576   \u001b[0m | \u001b[0m9.716    \u001b[0m | \u001b[0m10.87    \u001b[0m | \u001b[0m251.5    \u001b[0m | \u001b[0m9.162    \u001b[0m | \u001b[0m0.835    \u001b[0m |\n",
      "| \u001b[0m53       \u001b[0m | \u001b[0m-0.04092 \u001b[0m | \u001b[0m0.8338   \u001b[0m | \u001b[0m0.3303   \u001b[0m | \u001b[0m5.469    \u001b[0m | \u001b[0m9.382    \u001b[0m | \u001b[0m252.8    \u001b[0m | \u001b[0m8.132    \u001b[0m | \u001b[0m0.8978   \u001b[0m |\n",
      "| \u001b[0m54       \u001b[0m | \u001b[0m-0.04741 \u001b[0m | \u001b[0m0.7008   \u001b[0m | \u001b[0m0.111    \u001b[0m | \u001b[0m8.263    \u001b[0m | \u001b[0m10.61    \u001b[0m | \u001b[0m255.0    \u001b[0m | \u001b[0m6.553    \u001b[0m | \u001b[0m0.7386   \u001b[0m |\n",
      "| \u001b[0m55       \u001b[0m | \u001b[0m-0.04162 \u001b[0m | \u001b[0m0.8164   \u001b[0m | \u001b[0m0.3063   \u001b[0m | \u001b[0m6.527    \u001b[0m | \u001b[0m5.406    \u001b[0m | \u001b[0m251.8    \u001b[0m | \u001b[0m7.089    \u001b[0m | \u001b[0m0.8994   \u001b[0m |\n",
      "| \u001b[0m56       \u001b[0m | \u001b[0m-0.04035 \u001b[0m | \u001b[0m0.8625   \u001b[0m | \u001b[0m0.4447   \u001b[0m | \u001b[0m5.908    \u001b[0m | \u001b[0m7.747    \u001b[0m | \u001b[0m249.2    \u001b[0m | \u001b[0m9.521    \u001b[0m | \u001b[0m0.7092   \u001b[0m |\n",
      "| \u001b[0m57       \u001b[0m | \u001b[0m-0.04056 \u001b[0m | \u001b[0m0.8105   \u001b[0m | \u001b[0m0.5      \u001b[0m | \u001b[0m6.185    \u001b[0m | \u001b[0m5.848    \u001b[0m | \u001b[0m270.6    \u001b[0m | \u001b[0m10.0     \u001b[0m | \u001b[0m0.8739   \u001b[0m |\n",
      "| \u001b[0m58       \u001b[0m | \u001b[0m-0.04045 \u001b[0m | \u001b[0m0.7815   \u001b[0m | \u001b[0m0.4115   \u001b[0m | \u001b[0m8.426    \u001b[0m | \u001b[0m2.579    \u001b[0m | \u001b[0m268.1    \u001b[0m | \u001b[0m10.0     \u001b[0m | \u001b[0m0.8765   \u001b[0m |\n",
      "| \u001b[0m59       \u001b[0m | \u001b[0m-0.0658  \u001b[0m | \u001b[0m0.8528   \u001b[0m | \u001b[0m0.0608   \u001b[0m | \u001b[0m9.928    \u001b[0m | \u001b[0m13.0     \u001b[0m | \u001b[0m347.4    \u001b[0m | \u001b[0m2.578    \u001b[0m | \u001b[0m0.8046   \u001b[0m |\n",
      "| \u001b[0m60       \u001b[0m | \u001b[0m-0.04369 \u001b[0m | \u001b[0m0.9081   \u001b[0m | \u001b[0m0.2476   \u001b[0m | \u001b[0m7.286    \u001b[0m | \u001b[0m9.521    \u001b[0m | \u001b[0m249.4    \u001b[0m | \u001b[0m6.282    \u001b[0m | \u001b[0m0.9337   \u001b[0m |\n",
      "| \u001b[0m61       \u001b[0m | \u001b[0m-0.0417  \u001b[0m | \u001b[0m0.7      \u001b[0m | \u001b[0m0.5      \u001b[0m | \u001b[0m6.02     \u001b[0m | \u001b[0m11.69    \u001b[0m | \u001b[0m249.4    \u001b[0m | \u001b[0m10.0     \u001b[0m | \u001b[0m1.0      \u001b[0m |\n",
      "| \u001b[0m62       \u001b[0m | \u001b[0m-0.04124 \u001b[0m | \u001b[0m0.9178   \u001b[0m | \u001b[0m0.1834   \u001b[0m | \u001b[0m9.883    \u001b[0m | \u001b[0m5.964    \u001b[0m | \u001b[0m271.3    \u001b[0m | \u001b[0m9.663    \u001b[0m | \u001b[0m0.9819   \u001b[0m |\n",
      "| \u001b[0m63       \u001b[0m | \u001b[0m-0.03964 \u001b[0m | \u001b[0m0.7342   \u001b[0m | \u001b[0m0.3365   \u001b[0m | \u001b[0m8.388    \u001b[0m | \u001b[0m2.688    \u001b[0m | \u001b[0m253.8    \u001b[0m | \u001b[0m9.984    \u001b[0m | \u001b[0m0.7      \u001b[0m |\n",
      "| \u001b[0m64       \u001b[0m | \u001b[0m-0.04059 \u001b[0m | \u001b[0m0.9042   \u001b[0m | \u001b[0m0.5      \u001b[0m | \u001b[0m5.003    \u001b[0m | \u001b[0m4.352    \u001b[0m | \u001b[0m255.8    \u001b[0m | \u001b[0m9.624    \u001b[0m | \u001b[0m0.9368   \u001b[0m |\n",
      "| \u001b[0m65       \u001b[0m | \u001b[0m-0.04073 \u001b[0m | \u001b[0m0.8585   \u001b[0m | \u001b[0m0.5      \u001b[0m | \u001b[0m5.424    \u001b[0m | \u001b[0m4.343    \u001b[0m | \u001b[0m286.6    \u001b[0m | \u001b[0m8.846    \u001b[0m | \u001b[0m1.0      \u001b[0m |\n",
      "| \u001b[0m66       \u001b[0m | \u001b[0m-0.04221 \u001b[0m | \u001b[0m0.7704   \u001b[0m | \u001b[0m0.5      \u001b[0m | \u001b[0m7.058    \u001b[0m | \u001b[0m2.575    \u001b[0m | \u001b[0m286.8    \u001b[0m | \u001b[0m5.091    \u001b[0m | \u001b[0m0.9115   \u001b[0m |\n",
      "| \u001b[0m67       \u001b[0m | \u001b[0m-0.04019 \u001b[0m | \u001b[0m0.7      \u001b[0m | \u001b[0m0.3275   \u001b[0m | \u001b[0m4.0      \u001b[0m | \u001b[0m1.0      \u001b[0m | \u001b[0m284.9    \u001b[0m | \u001b[0m10.0     \u001b[0m | \u001b[0m0.7      \u001b[0m |\n",
      "| \u001b[0m68       \u001b[0m | \u001b[0m-0.04092 \u001b[0m | \u001b[0m0.95     \u001b[0m | \u001b[0m0.5      \u001b[0m | \u001b[0m9.346    \u001b[0m | \u001b[0m3.593    \u001b[0m | \u001b[0m248.8    \u001b[0m | \u001b[0m10.0     \u001b[0m | \u001b[0m1.0      \u001b[0m |\n",
      "| \u001b[0m69       \u001b[0m | \u001b[0m-0.03891 \u001b[0m | \u001b[0m0.8646   \u001b[0m | \u001b[0m0.345    \u001b[0m | \u001b[0m8.269    \u001b[0m | \u001b[0m14.83    \u001b[0m | \u001b[0m343.3    \u001b[0m | \u001b[0m8.684    \u001b[0m | \u001b[0m0.8301   \u001b[0m |\n",
      "| \u001b[0m70       \u001b[0m | \u001b[0m-0.04189 \u001b[0m | \u001b[0m0.7688   \u001b[0m | \u001b[0m0.1548   \u001b[0m | \u001b[0m4.545    \u001b[0m | \u001b[0m14.52    \u001b[0m | \u001b[0m344.5    \u001b[0m | \u001b[0m8.218    \u001b[0m | \u001b[0m0.8884   \u001b[0m |\n",
      "| \u001b[0m71       \u001b[0m | \u001b[0m-0.04036 \u001b[0m | \u001b[0m0.7      \u001b[0m | \u001b[0m0.5      \u001b[0m | \u001b[0m8.278    \u001b[0m | \u001b[0m15.0     \u001b[0m | \u001b[0m347.7    \u001b[0m | \u001b[0m10.0     \u001b[0m | \u001b[0m0.9928   \u001b[0m |\n",
      "| \u001b[0m72       \u001b[0m | \u001b[0m-0.03992 \u001b[0m | \u001b[0m0.7502   \u001b[0m | \u001b[0m0.3562   \u001b[0m | \u001b[0m4.684    \u001b[0m | \u001b[0m7.304    \u001b[0m | \u001b[0m333.5    \u001b[0m | \u001b[0m8.181    \u001b[0m | \u001b[0m0.9327   \u001b[0m |\n",
      "| \u001b[0m73       \u001b[0m | \u001b[0m-0.03977 \u001b[0m | \u001b[0m0.7117   \u001b[0m | \u001b[0m0.3343   \u001b[0m | \u001b[0m4.286    \u001b[0m | \u001b[0m12.24    \u001b[0m | \u001b[0m336.0    \u001b[0m | \u001b[0m9.414    \u001b[0m | \u001b[0m0.9795   \u001b[0m |\n",
      "| \u001b[0m74       \u001b[0m | \u001b[0m-0.04052 \u001b[0m | \u001b[0m0.7653   \u001b[0m | \u001b[0m0.4825   \u001b[0m | \u001b[0m7.652    \u001b[0m | \u001b[0m11.42    \u001b[0m | \u001b[0m333.7    \u001b[0m | \u001b[0m6.31     \u001b[0m | \u001b[0m0.8774   \u001b[0m |\n",
      "| \u001b[0m75       \u001b[0m | \u001b[0m-0.0399  \u001b[0m | \u001b[0m0.8434   \u001b[0m | \u001b[0m0.4677   \u001b[0m | \u001b[0m6.593    \u001b[0m | \u001b[0m8.043    \u001b[0m | \u001b[0m338.6    \u001b[0m | \u001b[0m7.832    \u001b[0m | \u001b[0m0.8401   \u001b[0m |\n",
      "| \u001b[0m76       \u001b[0m | \u001b[0m-0.04301 \u001b[0m | \u001b[0m0.8393   \u001b[0m | \u001b[0m0.2974   \u001b[0m | \u001b[0m5.635    \u001b[0m | \u001b[0m13.02    \u001b[0m | \u001b[0m339.4    \u001b[0m | \u001b[0m4.696    \u001b[0m | \u001b[0m0.9021   \u001b[0m |\n",
      "| \u001b[0m77       \u001b[0m | \u001b[0m-0.03883 \u001b[0m | \u001b[0m0.9258   \u001b[0m | \u001b[0m0.2448   \u001b[0m | \u001b[0m9.581    \u001b[0m | \u001b[0m12.19    \u001b[0m | \u001b[0m337.7    \u001b[0m | \u001b[0m10.0     \u001b[0m | \u001b[0m0.7386   \u001b[0m |\n",
      "| \u001b[0m78       \u001b[0m | \u001b[0m-0.03996 \u001b[0m | \u001b[0m0.8526   \u001b[0m | \u001b[0m0.3781   \u001b[0m | \u001b[0m9.518    \u001b[0m | \u001b[0m6.595    \u001b[0m | \u001b[0m333.8    \u001b[0m | \u001b[0m6.566    \u001b[0m | \u001b[0m0.7278   \u001b[0m |\n",
      "| \u001b[0m79       \u001b[0m | \u001b[0m-0.07086 \u001b[0m | \u001b[0m0.95     \u001b[0m | \u001b[0m0.01     \u001b[0m | \u001b[0m9.277    \u001b[0m | \u001b[0m9.829    \u001b[0m | \u001b[0m331.7    \u001b[0m | \u001b[0m10.0     \u001b[0m | \u001b[0m0.7      \u001b[0m |\n",
      "| \u001b[0m80       \u001b[0m | \u001b[0m-0.04524 \u001b[0m | \u001b[0m0.7252   \u001b[0m | \u001b[0m0.303    \u001b[0m | \u001b[0m5.947    \u001b[0m | \u001b[0m5.545    \u001b[0m | \u001b[0m333.4    \u001b[0m | \u001b[0m3.533    \u001b[0m | \u001b[0m0.9877   \u001b[0m |\n",
      "| \u001b[0m81       \u001b[0m | \u001b[0m-0.04105 \u001b[0m | \u001b[0m0.9054   \u001b[0m | \u001b[0m0.3334   \u001b[0m | \u001b[0m4.119    \u001b[0m | \u001b[0m10.95    \u001b[0m | \u001b[0m335.3    \u001b[0m | \u001b[0m5.504    \u001b[0m | \u001b[0m0.9547   \u001b[0m |\n",
      "| \u001b[0m82       \u001b[0m | \u001b[0m-0.06099 \u001b[0m | \u001b[0m0.8791   \u001b[0m | \u001b[0m0.02921  \u001b[0m | \u001b[0m9.921    \u001b[0m | \u001b[0m14.77    \u001b[0m | \u001b[0m338.3    \u001b[0m | \u001b[0m6.388    \u001b[0m | \u001b[0m0.8563   \u001b[0m |\n",
      "| \u001b[0m83       \u001b[0m | \u001b[0m-0.03997 \u001b[0m | \u001b[0m0.95     \u001b[0m | \u001b[0m0.5      \u001b[0m | \u001b[0m6.452    \u001b[0m | \u001b[0m11.39    \u001b[0m | \u001b[0m340.8    \u001b[0m | \u001b[0m10.0     \u001b[0m | \u001b[0m0.7      \u001b[0m |\n",
      "| \u001b[0m84       \u001b[0m | \u001b[0m-0.04061 \u001b[0m | \u001b[0m0.7259   \u001b[0m | \u001b[0m0.482    \u001b[0m | \u001b[0m9.563    \u001b[0m | \u001b[0m4.572    \u001b[0m | \u001b[0m338.0    \u001b[0m | \u001b[0m6.644    \u001b[0m | \u001b[0m0.8774   \u001b[0m |\n",
      "| \u001b[0m85       \u001b[0m | \u001b[0m-0.04094 \u001b[0m | \u001b[0m0.7173   \u001b[0m | \u001b[0m0.3674   \u001b[0m | \u001b[0m4.054    \u001b[0m | \u001b[0m14.74    \u001b[0m | \u001b[0m332.3    \u001b[0m | \u001b[0m5.746    \u001b[0m | \u001b[0m0.9222   \u001b[0m |\n",
      "| \u001b[0m86       \u001b[0m | \u001b[0m-0.04369 \u001b[0m | \u001b[0m0.8058   \u001b[0m | \u001b[0m0.3987   \u001b[0m | \u001b[0m4.585    \u001b[0m | \u001b[0m10.82    \u001b[0m | \u001b[0m329.9    \u001b[0m | \u001b[0m3.615    \u001b[0m | \u001b[0m0.747    \u001b[0m |\n",
      "| \u001b[0m87       \u001b[0m | \u001b[0m-0.04054 \u001b[0m | \u001b[0m0.7      \u001b[0m | \u001b[0m0.5      \u001b[0m | \u001b[0m4.0      \u001b[0m | \u001b[0m5.27     \u001b[0m | \u001b[0m337.5    \u001b[0m | \u001b[0m10.0     \u001b[0m | \u001b[0m1.0      \u001b[0m |\n",
      "| \u001b[0m88       \u001b[0m | \u001b[0m-0.04776 \u001b[0m | \u001b[0m0.8224   \u001b[0m | \u001b[0m0.04416  \u001b[0m | \u001b[0m8.976    \u001b[0m | \u001b[0m9.485    \u001b[0m | \u001b[0m344.4    \u001b[0m | \u001b[0m9.522    \u001b[0m | \u001b[0m0.9014   \u001b[0m |\n",
      "| \u001b[0m89       \u001b[0m | \u001b[0m-0.03885 \u001b[0m | \u001b[0m0.7601   \u001b[0m | \u001b[0m0.2964   \u001b[0m | \u001b[0m5.167    \u001b[0m | \u001b[0m1.99     \u001b[0m | \u001b[0m383.0    \u001b[0m | \u001b[0m9.393    \u001b[0m | \u001b[0m0.7103   \u001b[0m |\n",
      "| \u001b[0m90       \u001b[0m | \u001b[0m-0.03958 \u001b[0m | \u001b[0m0.7127   \u001b[0m | \u001b[0m0.4131   \u001b[0m | \u001b[0m9.72     \u001b[0m | \u001b[0m1.12     \u001b[0m | \u001b[0m382.6    \u001b[0m | \u001b[0m9.909    \u001b[0m | \u001b[0m0.9482   \u001b[0m |\n"
     ]
    },
    {
     "name": "stdout",
     "output_type": "stream",
     "text": [
      "| \u001b[0m91       \u001b[0m | \u001b[0m-0.05165 \u001b[0m | \u001b[0m0.7749   \u001b[0m | \u001b[0m0.04105  \u001b[0m | \u001b[0m6.174    \u001b[0m | \u001b[0m1.137    \u001b[0m | \u001b[0m386.3    \u001b[0m | \u001b[0m6.749    \u001b[0m | \u001b[0m0.7908   \u001b[0m |\n",
      "| \u001b[0m92       \u001b[0m | \u001b[0m-0.04135 \u001b[0m | \u001b[0m0.8078   \u001b[0m | \u001b[0m0.118    \u001b[0m | \u001b[0m5.219    \u001b[0m | \u001b[0m5.638    \u001b[0m | \u001b[0m379.7    \u001b[0m | \u001b[0m9.969    \u001b[0m | \u001b[0m0.8768   \u001b[0m |\n",
      "| \u001b[0m93       \u001b[0m | \u001b[0m-0.03869 \u001b[0m | \u001b[0m0.9197   \u001b[0m | \u001b[0m0.328    \u001b[0m | \u001b[0m9.12     \u001b[0m | \u001b[0m5.802    \u001b[0m | \u001b[0m381.9    \u001b[0m | \u001b[0m8.997    \u001b[0m | \u001b[0m0.7144   \u001b[0m |\n",
      "| \u001b[0m94       \u001b[0m | \u001b[0m-0.04036 \u001b[0m | \u001b[0m0.95     \u001b[0m | \u001b[0m0.5      \u001b[0m | \u001b[0m7.933    \u001b[0m | \u001b[0m2.078    \u001b[0m | \u001b[0m378.7    \u001b[0m | \u001b[0m7.625    \u001b[0m | \u001b[0m0.7      \u001b[0m |\n",
      "| \u001b[0m95       \u001b[0m | \u001b[0m-0.03995 \u001b[0m | \u001b[0m0.95     \u001b[0m | \u001b[0m0.5      \u001b[0m | \u001b[0m4.714    \u001b[0m | \u001b[0m6.699    \u001b[0m | \u001b[0m384.7    \u001b[0m | \u001b[0m10.0     \u001b[0m | \u001b[0m1.0      \u001b[0m |\n",
      "| \u001b[0m96       \u001b[0m | \u001b[0m-0.04196 \u001b[0m | \u001b[0m0.9132   \u001b[0m | \u001b[0m0.2424   \u001b[0m | \u001b[0m9.469    \u001b[0m | \u001b[0m1.566    \u001b[0m | \u001b[0m332.7    \u001b[0m | \u001b[0m6.314    \u001b[0m | \u001b[0m0.8072   \u001b[0m |\n",
      "| \u001b[0m97       \u001b[0m | \u001b[0m-0.04044 \u001b[0m | \u001b[0m0.95     \u001b[0m | \u001b[0m0.2253   \u001b[0m | \u001b[0m7.32     \u001b[0m | \u001b[0m5.525    \u001b[0m | \u001b[0m261.5    \u001b[0m | \u001b[0m10.0     \u001b[0m | \u001b[0m0.9028   \u001b[0m |\n",
      "| \u001b[0m98       \u001b[0m | \u001b[0m-0.04062 \u001b[0m | \u001b[0m0.9326   \u001b[0m | \u001b[0m0.3185   \u001b[0m | \u001b[0m4.557    \u001b[0m | \u001b[0m1.534    \u001b[0m | \u001b[0m261.3    \u001b[0m | \u001b[0m9.257    \u001b[0m | \u001b[0m0.9491   \u001b[0m |\n",
      "| \u001b[0m99       \u001b[0m | \u001b[0m-0.08998 \u001b[0m | \u001b[0m0.9041   \u001b[0m | \u001b[0m0.01698  \u001b[0m | \u001b[0m5.56     \u001b[0m | \u001b[0m4.713    \u001b[0m | \u001b[0m263.0    \u001b[0m | \u001b[0m5.268    \u001b[0m | \u001b[0m0.7768   \u001b[0m |\n",
      "| \u001b[0m100      \u001b[0m | \u001b[0m-0.08569 \u001b[0m | \u001b[0m0.7      \u001b[0m | \u001b[0m0.01     \u001b[0m | \u001b[0m6.094    \u001b[0m | \u001b[0m1.0      \u001b[0m | \u001b[0m257.9    \u001b[0m | \u001b[0m10.0     \u001b[0m | \u001b[0m1.0      \u001b[0m |\n",
      "=============================================================================================================\n"
     ]
    }
   ],
   "source": [
    "# LGBM Maximize\n",
    "BO_lgbm_reg.maximize(init_points=50, n_iter=50)"
   ]
  },
  {
   "cell_type": "code",
   "execution_count": 10,
   "id": "78fbee5d",
   "metadata": {
    "collapsed": true
   },
   "outputs": [
    {
     "name": "stdout",
     "output_type": "stream",
     "text": [
      "|   iter    |  target   | max_depth | min_sa... | min_sa... | n_esti... |\n",
      "-------------------------------------------------------------------------\n",
      "| \u001b[0m1        \u001b[0m | \u001b[0m-0.1508  \u001b[0m | \u001b[0m5.768    \u001b[0m | \u001b[0m8.898    \u001b[0m | \u001b[0m4.49     \u001b[0m | \u001b[0m66.98    \u001b[0m |\n",
      "| \u001b[95m2        \u001b[0m | \u001b[95m-0.1217  \u001b[0m | \u001b[95m8.722    \u001b[0m | \u001b[95m10.53    \u001b[0m | \u001b[95m10.29    \u001b[0m | \u001b[95m193.9    \u001b[0m |\n",
      "| \u001b[0m3        \u001b[0m | \u001b[0m-0.1764  \u001b[0m | \u001b[0m4.234    \u001b[0m | \u001b[0m6.652    \u001b[0m | \u001b[0m14.29    \u001b[0m | \u001b[0m65.01    \u001b[0m |\n",
      "| \u001b[0m4        \u001b[0m | \u001b[0m-0.1224  \u001b[0m | \u001b[0m9.184    \u001b[0m | \u001b[0m13.4     \u001b[0m | \u001b[0m2.666    \u001b[0m | \u001b[0m213.1    \u001b[0m |\n",
      "| \u001b[0m5        \u001b[0m | \u001b[0m-0.14    \u001b[0m | \u001b[0m7.311    \u001b[0m | \u001b[0m9.768    \u001b[0m | \u001b[0m8.286    \u001b[0m | \u001b[0m120.7    \u001b[0m |\n",
      "| \u001b[0m6        \u001b[0m | \u001b[0m-0.1502  \u001b[0m | \u001b[0m5.786    \u001b[0m | \u001b[0m9.3      \u001b[0m | \u001b[0m7.149    \u001b[0m | \u001b[0m247.2    \u001b[0m |\n",
      "| \u001b[0m7        \u001b[0m | \u001b[0m-0.1396  \u001b[0m | \u001b[0m6.511    \u001b[0m | \u001b[0m3.871    \u001b[0m | \u001b[0m3.962    \u001b[0m | \u001b[0m63.81    \u001b[0m |\n",
      "| \u001b[0m8        \u001b[0m | \u001b[0m-0.1296  \u001b[0m | \u001b[0m8.308    \u001b[0m | \u001b[0m5.8      \u001b[0m | \u001b[0m4.584    \u001b[0m | \u001b[0m257.8    \u001b[0m |\n",
      "| \u001b[0m9        \u001b[0m | \u001b[0m-0.1407  \u001b[0m | \u001b[0m7.408    \u001b[0m | \u001b[0m3.07     \u001b[0m | \u001b[0m9.085    \u001b[0m | \u001b[0m89.74    \u001b[0m |\n",
      "| \u001b[0m10       \u001b[0m | \u001b[0m-0.1299  \u001b[0m | \u001b[0m8.061    \u001b[0m | \u001b[0m3.54     \u001b[0m | \u001b[0m7.785    \u001b[0m | \u001b[0m272.0    \u001b[0m |\n",
      "| \u001b[95m11       \u001b[0m | \u001b[95m-0.1213  \u001b[0m | \u001b[95m8.784    \u001b[0m | \u001b[95m2.884    \u001b[0m | \u001b[95m14.49    \u001b[0m | \u001b[95m214.8    \u001b[0m |\n",
      "| \u001b[0m12       \u001b[0m | \u001b[0m-0.1309  \u001b[0m | \u001b[0m8.313    \u001b[0m | \u001b[0m11.67    \u001b[0m | \u001b[0m13.54    \u001b[0m | \u001b[0m83.49    \u001b[0m |\n",
      "| \u001b[0m13       \u001b[0m | \u001b[0m-0.1231  \u001b[0m | \u001b[0m8.662    \u001b[0m | \u001b[0m12.89    \u001b[0m | \u001b[0m12.78    \u001b[0m | \u001b[0m57.29    \u001b[0m |\n",
      "| \u001b[0m14       \u001b[0m | \u001b[0m-0.15    \u001b[0m | \u001b[0m6.342    \u001b[0m | \u001b[0m7.684    \u001b[0m | \u001b[0m8.768    \u001b[0m | \u001b[0m173.2    \u001b[0m |\n",
      "| \u001b[0m15       \u001b[0m | \u001b[0m-0.1625  \u001b[0m | \u001b[0m4.783    \u001b[0m | \u001b[0m14.8     \u001b[0m | \u001b[0m2.854    \u001b[0m | \u001b[0m194.8    \u001b[0m |\n",
      "| \u001b[0m16       \u001b[0m | \u001b[0m-0.1403  \u001b[0m | \u001b[0m7.485    \u001b[0m | \u001b[0m14.41    \u001b[0m | \u001b[0m4.567    \u001b[0m | \u001b[0m70.83    \u001b[0m |\n",
      "| \u001b[95m17       \u001b[0m | \u001b[95m-0.121   \u001b[0m | \u001b[95m9.303    \u001b[0m | \u001b[95m2.204    \u001b[0m | \u001b[95m12.34    \u001b[0m | \u001b[95m242.0    \u001b[0m |\n",
      "| \u001b[0m18       \u001b[0m | \u001b[0m-0.1225  \u001b[0m | \u001b[0m9.232    \u001b[0m | \u001b[0m13.91    \u001b[0m | \u001b[0m5.56     \u001b[0m | \u001b[0m109.1    \u001b[0m |\n",
      "| \u001b[0m19       \u001b[0m | \u001b[0m-0.1491  \u001b[0m | \u001b[0m5.863    \u001b[0m | \u001b[0m11.3     \u001b[0m | \u001b[0m3.076    \u001b[0m | \u001b[0m218.9    \u001b[0m |\n",
      "| \u001b[0m20       \u001b[0m | \u001b[0m-0.1229  \u001b[0m | \u001b[0m9.151    \u001b[0m | \u001b[0m11.01    \u001b[0m | \u001b[0m12.21    \u001b[0m | \u001b[0m138.3    \u001b[0m |\n",
      "| \u001b[0m21       \u001b[0m | \u001b[0m-0.1622  \u001b[0m | \u001b[0m5.321    \u001b[0m | \u001b[0m5.19     \u001b[0m | \u001b[0m11.46    \u001b[0m | \u001b[0m66.03    \u001b[0m |\n",
      "| \u001b[0m22       \u001b[0m | \u001b[0m-0.1398  \u001b[0m | \u001b[0m6.722    \u001b[0m | \u001b[0m8.34     \u001b[0m | \u001b[0m10.33    \u001b[0m | \u001b[0m76.54    \u001b[0m |\n",
      "| \u001b[0m23       \u001b[0m | \u001b[0m-0.1398  \u001b[0m | \u001b[0m7.442    \u001b[0m | \u001b[0m14.48    \u001b[0m | \u001b[0m8.704    \u001b[0m | \u001b[0m192.5    \u001b[0m |\n",
      "| \u001b[95m24       \u001b[0m | \u001b[95m-0.1158  \u001b[0m | \u001b[95m9.928    \u001b[0m | \u001b[95m12.83    \u001b[0m | \u001b[95m8.476    \u001b[0m | \u001b[95m70.04    \u001b[0m |\n",
      "| \u001b[0m25       \u001b[0m | \u001b[0m-0.122   \u001b[0m | \u001b[0m9.226    \u001b[0m | \u001b[0m11.27    \u001b[0m | \u001b[0m11.52    \u001b[0m | \u001b[0m255.9    \u001b[0m |\n",
      "| \u001b[0m26       \u001b[0m | \u001b[0m-0.1303  \u001b[0m | \u001b[0m8.47     \u001b[0m | \u001b[0m7.37     \u001b[0m | \u001b[0m8.691    \u001b[0m | \u001b[0m261.6    \u001b[0m |\n",
      "| \u001b[0m27       \u001b[0m | \u001b[0m-0.1212  \u001b[0m | \u001b[0m9.153    \u001b[0m | \u001b[0m6.037    \u001b[0m | \u001b[0m3.552    \u001b[0m | \u001b[0m180.2    \u001b[0m |\n",
      "| \u001b[0m28       \u001b[0m | \u001b[0m-0.1398  \u001b[0m | \u001b[0m6.694    \u001b[0m | \u001b[0m13.66    \u001b[0m | \u001b[0m8.41     \u001b[0m | \u001b[0m176.1    \u001b[0m |\n",
      "| \u001b[0m29       \u001b[0m | \u001b[0m-0.1501  \u001b[0m | \u001b[0m6.191    \u001b[0m | \u001b[0m12.18    \u001b[0m | \u001b[0m14.32    \u001b[0m | \u001b[0m82.5     \u001b[0m |\n",
      "| \u001b[0m30       \u001b[0m | \u001b[0m-0.1294  \u001b[0m | \u001b[0m7.967    \u001b[0m | \u001b[0m4.129    \u001b[0m | \u001b[0m6.016    \u001b[0m | \u001b[0m291.7    \u001b[0m |\n",
      "| \u001b[0m31       \u001b[0m | \u001b[0m-0.1394  \u001b[0m | \u001b[0m6.897    \u001b[0m | \u001b[0m9.03     \u001b[0m | \u001b[0m11.25    \u001b[0m | \u001b[0m221.9    \u001b[0m |\n",
      "| \u001b[0m32       \u001b[0m | \u001b[0m-0.1751  \u001b[0m | \u001b[0m4.222    \u001b[0m | \u001b[0m13.55    \u001b[0m | \u001b[0m4.452    \u001b[0m | \u001b[0m245.5    \u001b[0m |\n",
      "| \u001b[0m33       \u001b[0m | \u001b[0m-0.1301  \u001b[0m | \u001b[0m7.864    \u001b[0m | \u001b[0m8.31     \u001b[0m | \u001b[0m14.08    \u001b[0m | \u001b[0m117.5    \u001b[0m |\n",
      "| \u001b[0m34       \u001b[0m | \u001b[0m-0.1222  \u001b[0m | \u001b[0m8.885    \u001b[0m | \u001b[0m11.04    \u001b[0m | \u001b[0m5.062    \u001b[0m | \u001b[0m288.3    \u001b[0m |\n",
      "| \u001b[0m35       \u001b[0m | \u001b[0m-0.1298  \u001b[0m | \u001b[0m7.513    \u001b[0m | \u001b[0m9.58     \u001b[0m | \u001b[0m4.044    \u001b[0m | \u001b[0m156.3    \u001b[0m |\n",
      "| \u001b[0m36       \u001b[0m | \u001b[0m-0.1634  \u001b[0m | \u001b[0m5.41     \u001b[0m | \u001b[0m9.807    \u001b[0m | \u001b[0m6.688    \u001b[0m | \u001b[0m92.22    \u001b[0m |\n",
      "| \u001b[0m37       \u001b[0m | \u001b[0m-0.1506  \u001b[0m | \u001b[0m6.083    \u001b[0m | \u001b[0m4.789    \u001b[0m | \u001b[0m12.33    \u001b[0m | \u001b[0m247.9    \u001b[0m |\n",
      "| \u001b[0m38       \u001b[0m | \u001b[0m-0.1621  \u001b[0m | \u001b[0m4.987    \u001b[0m | \u001b[0m11.75    \u001b[0m | \u001b[0m2.727    \u001b[0m | \u001b[0m108.1    \u001b[0m |\n",
      "| \u001b[0m39       \u001b[0m | \u001b[0m-0.1303  \u001b[0m | \u001b[0m7.901    \u001b[0m | \u001b[0m11.34    \u001b[0m | \u001b[0m8.241    \u001b[0m | \u001b[0m134.4    \u001b[0m |\n",
      "| \u001b[0m40       \u001b[0m | \u001b[0m-0.1502  \u001b[0m | \u001b[0m6.338    \u001b[0m | \u001b[0m13.16    \u001b[0m | \u001b[0m8.648    \u001b[0m | \u001b[0m268.7    \u001b[0m |\n",
      "| \u001b[95m41       \u001b[0m | \u001b[95m-0.1152  \u001b[0m | \u001b[95m9.679    \u001b[0m | \u001b[95m14.16    \u001b[0m | \u001b[95m8.409    \u001b[0m | \u001b[95m200.1    \u001b[0m |\n",
      "| \u001b[0m42       \u001b[0m | \u001b[0m-0.1621  \u001b[0m | \u001b[0m5.243    \u001b[0m | \u001b[0m14.43    \u001b[0m | \u001b[0m14.83    \u001b[0m | \u001b[0m257.3    \u001b[0m |\n",
      "| \u001b[0m43       \u001b[0m | \u001b[0m-0.1392  \u001b[0m | \u001b[0m7.227    \u001b[0m | \u001b[0m3.086    \u001b[0m | \u001b[0m6.081    \u001b[0m | \u001b[0m76.53    \u001b[0m |\n",
      "| \u001b[0m44       \u001b[0m | \u001b[0m-0.1616  \u001b[0m | \u001b[0m5.229    \u001b[0m | \u001b[0m6.232    \u001b[0m | \u001b[0m8.521    \u001b[0m | \u001b[0m269.6    \u001b[0m |\n",
      "| \u001b[0m45       \u001b[0m | \u001b[0m-0.1502  \u001b[0m | \u001b[0m5.566    \u001b[0m | \u001b[0m8.892    \u001b[0m | \u001b[0m12.97    \u001b[0m | \u001b[0m84.14    \u001b[0m |\n",
      "| \u001b[0m46       \u001b[0m | \u001b[0m-0.1502  \u001b[0m | \u001b[0m6.401    \u001b[0m | \u001b[0m9.39     \u001b[0m | \u001b[0m4.419    \u001b[0m | \u001b[0m53.43    \u001b[0m |\n",
      "| \u001b[0m47       \u001b[0m | \u001b[0m-0.1296  \u001b[0m | \u001b[0m7.557    \u001b[0m | \u001b[0m2.204    \u001b[0m | \u001b[0m9.618    \u001b[0m | \u001b[0m152.2    \u001b[0m |\n",
      "| \u001b[0m48       \u001b[0m | \u001b[0m-0.1619  \u001b[0m | \u001b[0m5.372    \u001b[0m | \u001b[0m4.468    \u001b[0m | \u001b[0m13.87    \u001b[0m | \u001b[0m197.6    \u001b[0m |\n",
      "| \u001b[0m49       \u001b[0m | \u001b[0m-0.1619  \u001b[0m | \u001b[0m5.027    \u001b[0m | \u001b[0m11.29    \u001b[0m | \u001b[0m5.1      \u001b[0m | \u001b[0m280.5    \u001b[0m |\n",
      "| \u001b[0m50       \u001b[0m | \u001b[0m-0.1305  \u001b[0m | \u001b[0m8.328    \u001b[0m | \u001b[0m10.8     \u001b[0m | \u001b[0m14.83    \u001b[0m | \u001b[0m184.9    \u001b[0m |\n",
      "| \u001b[0m51       \u001b[0m | \u001b[0m-0.122   \u001b[0m | \u001b[0m8.917    \u001b[0m | \u001b[0m12.97    \u001b[0m | \u001b[0m8.754    \u001b[0m | \u001b[0m198.0    \u001b[0m |\n",
      "| \u001b[0m52       \u001b[0m | \u001b[0m-0.1221  \u001b[0m | \u001b[0m9.454    \u001b[0m | \u001b[0m11.5     \u001b[0m | \u001b[0m7.829    \u001b[0m | \u001b[0m200.7    \u001b[0m |\n",
      "| \u001b[0m53       \u001b[0m | \u001b[0m-0.1154  \u001b[0m | \u001b[0m9.794    \u001b[0m | \u001b[0m12.7     \u001b[0m | \u001b[0m10.98    \u001b[0m | \u001b[0m201.3    \u001b[0m |\n",
      "| \u001b[0m54       \u001b[0m | \u001b[0m-0.1401  \u001b[0m | \u001b[0m6.728    \u001b[0m | \u001b[0m14.32    \u001b[0m | \u001b[0m10.49    \u001b[0m | \u001b[0m201.4    \u001b[0m |\n",
      "| \u001b[95m55       \u001b[0m | \u001b[95m-0.1147  \u001b[0m | \u001b[95m9.711    \u001b[0m | \u001b[95m10.61    \u001b[0m | \u001b[95m11.77    \u001b[0m | \u001b[95m197.8    \u001b[0m |\n",
      "| \u001b[0m56       \u001b[0m | \u001b[0m-0.1154  \u001b[0m | \u001b[0m10.0     \u001b[0m | \u001b[0m14.81    \u001b[0m | \u001b[0m11.08    \u001b[0m | \u001b[0m70.58    \u001b[0m |\n",
      "| \u001b[0m57       \u001b[0m | \u001b[0m-0.1155  \u001b[0m | \u001b[0m9.509    \u001b[0m | \u001b[0m14.21    \u001b[0m | \u001b[0m10.04    \u001b[0m | \u001b[0m73.5     \u001b[0m |\n",
      "| \u001b[0m58       \u001b[0m | \u001b[0m-0.1148  \u001b[0m | \u001b[0m9.737    \u001b[0m | \u001b[0m10.59    \u001b[0m | \u001b[0m11.33    \u001b[0m | \u001b[0m71.89    \u001b[0m |\n",
      "| \u001b[0m59       \u001b[0m | \u001b[0m-0.1147  \u001b[0m | \u001b[0m10.0     \u001b[0m | \u001b[0m14.12    \u001b[0m | \u001b[0m13.44    \u001b[0m | \u001b[0m197.1    \u001b[0m |\n",
      "| \u001b[0m60       \u001b[0m | \u001b[0m-0.115   \u001b[0m | \u001b[0m10.0     \u001b[0m | \u001b[0m15.0     \u001b[0m | \u001b[0m10.14    \u001b[0m | \u001b[0m110.8    \u001b[0m |\n",
      "| \u001b[0m61       \u001b[0m | \u001b[0m-0.122   \u001b[0m | \u001b[0m9.088    \u001b[0m | \u001b[0m13.39    \u001b[0m | \u001b[0m12.01    \u001b[0m | \u001b[0m106.8    \u001b[0m |\n",
      "| \u001b[0m62       \u001b[0m | \u001b[0m-0.1148  \u001b[0m | \u001b[0m10.0     \u001b[0m | \u001b[0m10.2     \u001b[0m | \u001b[0m10.13    \u001b[0m | \u001b[0m111.1    \u001b[0m |\n",
      "| \u001b[0m63       \u001b[0m | \u001b[0m-0.1154  \u001b[0m | \u001b[0m10.0     \u001b[0m | \u001b[0m12.48    \u001b[0m | \u001b[0m15.0     \u001b[0m | \u001b[0m112.0    \u001b[0m |\n",
      "| \u001b[0m64       \u001b[0m | \u001b[0m-0.162   \u001b[0m | \u001b[0m5.345    \u001b[0m | \u001b[0m13.22    \u001b[0m | \u001b[0m12.74    \u001b[0m | \u001b[0m112.0    \u001b[0m |\n",
      "| \u001b[95m65       \u001b[0m | \u001b[95m-0.1137  \u001b[0m | \u001b[95m9.821    \u001b[0m | \u001b[95m6.968    \u001b[0m | \u001b[95m13.19    \u001b[0m | \u001b[95m109.6    \u001b[0m |\n",
      "| \u001b[0m66       \u001b[0m | \u001b[0m-0.1149  \u001b[0m | \u001b[0m10.0     \u001b[0m | \u001b[0m14.94    \u001b[0m | \u001b[0m4.995    \u001b[0m | \u001b[0m207.3    \u001b[0m |\n"
     ]
    },
    {
     "name": "stdout",
     "output_type": "stream",
     "text": [
      "| \u001b[0m67       \u001b[0m | \u001b[0m-0.1141  \u001b[0m | \u001b[0m9.755    \u001b[0m | \u001b[0m10.62    \u001b[0m | \u001b[0m6.803    \u001b[0m | \u001b[0m208.9    \u001b[0m |\n",
      "| \u001b[0m68       \u001b[0m | \u001b[0m-0.1147  \u001b[0m | \u001b[0m9.901    \u001b[0m | \u001b[0m14.85    \u001b[0m | \u001b[0m8.814    \u001b[0m | \u001b[0m211.1    \u001b[0m |\n",
      "| \u001b[0m69       \u001b[0m | \u001b[0m-0.1216  \u001b[0m | \u001b[0m8.967    \u001b[0m | \u001b[0m9.756    \u001b[0m | \u001b[0m12.7     \u001b[0m | \u001b[0m210.0    \u001b[0m |\n",
      "| \u001b[0m70       \u001b[0m | \u001b[0m-0.1138  \u001b[0m | \u001b[0m10.0     \u001b[0m | \u001b[0m3.709    \u001b[0m | \u001b[0m7.998    \u001b[0m | \u001b[0m211.3    \u001b[0m |\n",
      "| \u001b[0m71       \u001b[0m | \u001b[0m-0.1293  \u001b[0m | \u001b[0m7.717    \u001b[0m | \u001b[0m3.912    \u001b[0m | \u001b[0m2.263    \u001b[0m | \u001b[0m208.1    \u001b[0m |\n",
      "| \u001b[0m72       \u001b[0m | \u001b[0m-0.1757  \u001b[0m | \u001b[0m4.282    \u001b[0m | \u001b[0m4.011    \u001b[0m | \u001b[0m10.21    \u001b[0m | \u001b[0m212.6    \u001b[0m |\n",
      "| \u001b[0m73       \u001b[0m | \u001b[0m-0.1142  \u001b[0m | \u001b[0m10.0     \u001b[0m | \u001b[0m2.857    \u001b[0m | \u001b[0m10.92    \u001b[0m | \u001b[0m112.8    \u001b[0m |\n",
      "| \u001b[95m74       \u001b[0m | \u001b[95m-0.1136  \u001b[0m | \u001b[95m9.57     \u001b[0m | \u001b[95m4.172    \u001b[0m | \u001b[95m9.984    \u001b[0m | \u001b[95m106.6    \u001b[0m |\n",
      "| \u001b[0m75       \u001b[0m | \u001b[0m-0.1141  \u001b[0m | \u001b[0m10.0     \u001b[0m | \u001b[0m2.0      \u001b[0m | \u001b[0m15.0     \u001b[0m | \u001b[0m107.9    \u001b[0m |\n",
      "| \u001b[0m76       \u001b[0m | \u001b[0m-0.1209  \u001b[0m | \u001b[0m9.211    \u001b[0m | \u001b[0m5.978    \u001b[0m | \u001b[0m14.47    \u001b[0m | \u001b[0m101.8    \u001b[0m |\n",
      "| \u001b[0m77       \u001b[0m | \u001b[0m-0.1756  \u001b[0m | \u001b[0m4.422    \u001b[0m | \u001b[0m2.276    \u001b[0m | \u001b[0m13.34    \u001b[0m | \u001b[0m104.8    \u001b[0m |\n",
      "| \u001b[0m78       \u001b[0m | \u001b[0m-0.1137  \u001b[0m | \u001b[0m10.0     \u001b[0m | \u001b[0m2.467    \u001b[0m | \u001b[0m5.97     \u001b[0m | \u001b[0m110.1    \u001b[0m |\n",
      "| \u001b[0m79       \u001b[0m | \u001b[0m-0.1143  \u001b[0m | \u001b[0m10.0     \u001b[0m | \u001b[0m8.823    \u001b[0m | \u001b[0m8.986    \u001b[0m | \u001b[0m105.0    \u001b[0m |\n",
      "| \u001b[0m80       \u001b[0m | \u001b[0m-0.1139  \u001b[0m | \u001b[0m10.0     \u001b[0m | \u001b[0m2.0      \u001b[0m | \u001b[0m14.42    \u001b[0m | \u001b[0m235.4    \u001b[0m |\n",
      "| \u001b[0m81       \u001b[0m | \u001b[0m-0.1208  \u001b[0m | \u001b[0m9.468    \u001b[0m | \u001b[0m2.992    \u001b[0m | \u001b[0m8.944    \u001b[0m | \u001b[0m235.2    \u001b[0m |\n",
      "| \u001b[0m82       \u001b[0m | \u001b[0m-0.1756  \u001b[0m | \u001b[0m4.36     \u001b[0m | \u001b[0m2.399    \u001b[0m | \u001b[0m14.47    \u001b[0m | \u001b[0m234.8    \u001b[0m |\n",
      "| \u001b[95m83       \u001b[0m | \u001b[95m-0.1132  \u001b[0m | \u001b[95m10.0     \u001b[0m | \u001b[95m2.0      \u001b[0m | \u001b[95m5.035    \u001b[0m | \u001b[95m116.0    \u001b[0m |\n",
      "| \u001b[0m84       \u001b[0m | \u001b[0m-0.1147  \u001b[0m | \u001b[0m10.0     \u001b[0m | \u001b[0m13.15    \u001b[0m | \u001b[0m4.58     \u001b[0m | \u001b[0m295.0    \u001b[0m |\n",
      "| \u001b[0m85       \u001b[0m | \u001b[0m-0.115   \u001b[0m | \u001b[0m10.0     \u001b[0m | \u001b[0m12.94    \u001b[0m | \u001b[0m10.59    \u001b[0m | \u001b[0m293.2    \u001b[0m |\n",
      "| \u001b[0m86       \u001b[0m | \u001b[0m-0.1757  \u001b[0m | \u001b[0m4.28     \u001b[0m | \u001b[0m13.46    \u001b[0m | \u001b[0m7.616    \u001b[0m | \u001b[0m294.7    \u001b[0m |\n",
      "| \u001b[0m87       \u001b[0m | \u001b[0m-0.1148  \u001b[0m | \u001b[0m10.0     \u001b[0m | \u001b[0m9.146    \u001b[0m | \u001b[0m12.36    \u001b[0m | \u001b[0m289.6    \u001b[0m |\n",
      "| \u001b[0m88       \u001b[0m | \u001b[0m-0.1144  \u001b[0m | \u001b[0m10.0     \u001b[0m | \u001b[0m8.617    \u001b[0m | \u001b[0m15.0     \u001b[0m | \u001b[0m294.8    \u001b[0m |\n",
      "| \u001b[0m89       \u001b[0m | \u001b[0m-0.1137  \u001b[0m | \u001b[0m10.0     \u001b[0m | \u001b[0m3.159    \u001b[0m | \u001b[0m15.0     \u001b[0m | \u001b[0m291.5    \u001b[0m |\n",
      "| \u001b[0m90       \u001b[0m | \u001b[0m-0.1135  \u001b[0m | \u001b[0m10.0     \u001b[0m | \u001b[0m2.863    \u001b[0m | \u001b[0m12.8     \u001b[0m | \u001b[0m297.5    \u001b[0m |\n",
      "| \u001b[0m91       \u001b[0m | \u001b[0m-0.1613  \u001b[0m | \u001b[0m5.387    \u001b[0m | \u001b[0m2.102    \u001b[0m | \u001b[0m13.75    \u001b[0m | \u001b[0m295.9    \u001b[0m |\n",
      "| \u001b[0m92       \u001b[0m | \u001b[0m-0.1136  \u001b[0m | \u001b[0m10.0     \u001b[0m | \u001b[0m7.364    \u001b[0m | \u001b[0m9.819    \u001b[0m | \u001b[0m295.3    \u001b[0m |\n",
      "| \u001b[0m93       \u001b[0m | \u001b[0m-0.1142  \u001b[0m | \u001b[0m10.0     \u001b[0m | \u001b[0m7.7      \u001b[0m | \u001b[0m12.6     \u001b[0m | \u001b[0m300.0    \u001b[0m |\n",
      "| \u001b[0m94       \u001b[0m | \u001b[0m-0.1139  \u001b[0m | \u001b[0m10.0     \u001b[0m | \u001b[0m3.433    \u001b[0m | \u001b[0m15.0     \u001b[0m | \u001b[0m285.2    \u001b[0m |\n",
      "| \u001b[0m95       \u001b[0m | \u001b[0m-0.1133  \u001b[0m | \u001b[0m10.0     \u001b[0m | \u001b[0m2.0      \u001b[0m | \u001b[0m9.494    \u001b[0m | \u001b[0m285.5    \u001b[0m |\n",
      "| \u001b[0m96       \u001b[0m | \u001b[0m-0.1141  \u001b[0m | \u001b[0m10.0     \u001b[0m | \u001b[0m2.0      \u001b[0m | \u001b[0m11.81    \u001b[0m | \u001b[0m278.9    \u001b[0m |\n",
      "| \u001b[0m97       \u001b[0m | \u001b[0m-0.1137  \u001b[0m | \u001b[0m9.996    \u001b[0m | \u001b[0m2.342    \u001b[0m | \u001b[0m7.227    \u001b[0m | \u001b[0m299.6    \u001b[0m |\n",
      "| \u001b[0m98       \u001b[0m | \u001b[0m-0.1138  \u001b[0m | \u001b[0m9.715    \u001b[0m | \u001b[0m6.135    \u001b[0m | \u001b[0m3.126    \u001b[0m | \u001b[0m299.6    \u001b[0m |\n",
      "| \u001b[0m99       \u001b[0m | \u001b[0m-0.1135  \u001b[0m | \u001b[0m10.0     \u001b[0m | \u001b[0m2.0      \u001b[0m | \u001b[0m4.439    \u001b[0m | \u001b[0m279.2    \u001b[0m |\n",
      "| \u001b[0m100      \u001b[0m | \u001b[0m-0.1153  \u001b[0m | \u001b[0m9.954    \u001b[0m | \u001b[0m14.42    \u001b[0m | \u001b[0m14.2     \u001b[0m | \u001b[0m147.9    \u001b[0m |\n",
      "=========================================================================\n"
     ]
    }
   ],
   "source": [
    "# ExtraTrees Maximize\n",
    "BO_et_reg.maximize(init_points=50, n_iter=50)"
   ]
  },
  {
   "cell_type": "code",
   "execution_count": 12,
   "id": "b45fb588",
   "metadata": {},
   "outputs": [],
   "source": [
    "# Catboost Max Parameters\n",
    "'''cb_reg_max_params = BO_cb_reg.max['params']\n",
    "cb_reg_max_params['n_estimators'] = int(round(cb_reg_max_params['n_estimators']))\n",
    "cb_reg_max_params['max_depth'] = int(round(cb_reg_max_params['max_depth']))'''\n",
    "\n",
    "# XGB Max Parameters\n",
    "xgb_reg_max_params = BO_xgb_reg.max['params']\n",
    "xgb_reg_max_params['n_estimators'] = int(round(xgb_reg_max_params['n_estimators']))\n",
    "xgb_reg_max_params['max_depth'] = int(round(xgb_reg_max_params['max_depth']))\n",
    "\n",
    "# LGBM Max Parameters\n",
    "lgbm_reg_max_params = BO_lgbm_reg.max['params']\n",
    "lgbm_reg_max_params['n_estimators'] = int(round(lgbm_reg_max_params['n_estimators']))\n",
    "lgbm_reg_max_params['max_depth'] = int(round(lgbm_reg_max_params['max_depth']))\n",
    "lgbm_reg_max_params['num_leaves'] = int(round(lgbm_reg_max_params['num_leaves']))\n",
    "\n",
    "# ExtraTrees Max Parameters\n",
    "et_reg_max_params = BO_et_reg.max['params']\n",
    "et_reg_max_params['n_estimators'] = int(round(et_reg_max_params['n_estimators']))\n",
    "et_reg_max_params['max_depth'] = int(round(et_reg_max_params['max_depth']))\n",
    "et_reg_max_params['min_samples_split'] = int(round(et_reg_max_params['min_samples_split']))\n",
    "et_reg_max_params['min_samples_leaf'] = int(round(et_reg_max_params['min_samples_leaf']))"
   ]
  },
  {
   "cell_type": "markdown",
   "id": "a8889890",
   "metadata": {},
   "source": [
    "tune_cb_reg = CatBoostRegressor(**cb_reg_max_params)\n",
    "tune_cb_reg.fit(train_s,train_y)"
   ]
  },
  {
   "cell_type": "code",
   "execution_count": 13,
   "id": "82f4c1c1",
   "metadata": {},
   "outputs": [
    {
     "data": {
      "text/html": [
       "<style>#sk-container-id-1 {color: black;background-color: white;}#sk-container-id-1 pre{padding: 0;}#sk-container-id-1 div.sk-toggleable {background-color: white;}#sk-container-id-1 label.sk-toggleable__label {cursor: pointer;display: block;width: 100%;margin-bottom: 0;padding: 0.3em;box-sizing: border-box;text-align: center;}#sk-container-id-1 label.sk-toggleable__label-arrow:before {content: \"▸\";float: left;margin-right: 0.25em;color: #696969;}#sk-container-id-1 label.sk-toggleable__label-arrow:hover:before {color: black;}#sk-container-id-1 div.sk-estimator:hover label.sk-toggleable__label-arrow:before {color: black;}#sk-container-id-1 div.sk-toggleable__content {max-height: 0;max-width: 0;overflow: hidden;text-align: left;background-color: #f0f8ff;}#sk-container-id-1 div.sk-toggleable__content pre {margin: 0.2em;color: black;border-radius: 0.25em;background-color: #f0f8ff;}#sk-container-id-1 input.sk-toggleable__control:checked~div.sk-toggleable__content {max-height: 200px;max-width: 100%;overflow: auto;}#sk-container-id-1 input.sk-toggleable__control:checked~label.sk-toggleable__label-arrow:before {content: \"▾\";}#sk-container-id-1 div.sk-estimator input.sk-toggleable__control:checked~label.sk-toggleable__label {background-color: #d4ebff;}#sk-container-id-1 div.sk-label input.sk-toggleable__control:checked~label.sk-toggleable__label {background-color: #d4ebff;}#sk-container-id-1 input.sk-hidden--visually {border: 0;clip: rect(1px 1px 1px 1px);clip: rect(1px, 1px, 1px, 1px);height: 1px;margin: -1px;overflow: hidden;padding: 0;position: absolute;width: 1px;}#sk-container-id-1 div.sk-estimator {font-family: monospace;background-color: #f0f8ff;border: 1px dotted black;border-radius: 0.25em;box-sizing: border-box;margin-bottom: 0.5em;}#sk-container-id-1 div.sk-estimator:hover {background-color: #d4ebff;}#sk-container-id-1 div.sk-parallel-item::after {content: \"\";width: 100%;border-bottom: 1px solid gray;flex-grow: 1;}#sk-container-id-1 div.sk-label:hover label.sk-toggleable__label {background-color: #d4ebff;}#sk-container-id-1 div.sk-serial::before {content: \"\";position: absolute;border-left: 1px solid gray;box-sizing: border-box;top: 0;bottom: 0;left: 50%;z-index: 0;}#sk-container-id-1 div.sk-serial {display: flex;flex-direction: column;align-items: center;background-color: white;padding-right: 0.2em;padding-left: 0.2em;position: relative;}#sk-container-id-1 div.sk-item {position: relative;z-index: 1;}#sk-container-id-1 div.sk-parallel {display: flex;align-items: stretch;justify-content: center;background-color: white;position: relative;}#sk-container-id-1 div.sk-item::before, #sk-container-id-1 div.sk-parallel-item::before {content: \"\";position: absolute;border-left: 1px solid gray;box-sizing: border-box;top: 0;bottom: 0;left: 50%;z-index: -1;}#sk-container-id-1 div.sk-parallel-item {display: flex;flex-direction: column;z-index: 1;position: relative;background-color: white;}#sk-container-id-1 div.sk-parallel-item:first-child::after {align-self: flex-end;width: 50%;}#sk-container-id-1 div.sk-parallel-item:last-child::after {align-self: flex-start;width: 50%;}#sk-container-id-1 div.sk-parallel-item:only-child::after {width: 0;}#sk-container-id-1 div.sk-dashed-wrapped {border: 1px dashed gray;margin: 0 0.4em 0.5em 0.4em;box-sizing: border-box;padding-bottom: 0.4em;background-color: white;}#sk-container-id-1 div.sk-label label {font-family: monospace;font-weight: bold;display: inline-block;line-height: 1.2em;}#sk-container-id-1 div.sk-label-container {text-align: center;}#sk-container-id-1 div.sk-container {/* jupyter's `normalize.less` sets `[hidden] { display: none; }` but bootstrap.min.css set `[hidden] { display: none !important; }` so we also need the `!important` here to be able to override the default hidden behavior on the sphinx rendered scikit-learn.org. See: https://github.com/scikit-learn/scikit-learn/issues/21755 */display: inline-block !important;position: relative;}#sk-container-id-1 div.sk-text-repr-fallback {display: none;}</style><div id=\"sk-container-id-1\" class=\"sk-top-container\"><div class=\"sk-text-repr-fallback\"><pre>XGBRegressor(base_score=0.5, booster=&#x27;gbtree&#x27;, callbacks=None,\n",
       "             colsample_bylevel=1, colsample_bynode=1,\n",
       "             colsample_bytree=0.7791682677670975, early_stopping_rounds=None,\n",
       "             enable_categorical=False, eval_metric=None, feature_types=None,\n",
       "             gamma=0, gpu_id=-1, grow_policy=&#x27;depthwise&#x27;, importance_type=None,\n",
       "             interaction_constraints=&#x27;&#x27;, learning_rate=0.06874001460156993,\n",
       "             max_bin=256, max_cat_threshold=64, max_cat_to_onehot=4,\n",
       "             max_delta_step=0, max_depth=9, max_leaves=0,\n",
       "             min_child_weight=8.225025470833163, missing=nan,\n",
       "             monotone_constraints=&#x27;()&#x27;, n_estimators=432, n_jobs=0,\n",
       "             num_parallel_tree=1, predictor=&#x27;auto&#x27;, random_state=0, ...)</pre><b>In a Jupyter environment, please rerun this cell to show the HTML representation or trust the notebook. <br />On GitHub, the HTML representation is unable to render, please try loading this page with nbviewer.org.</b></div><div class=\"sk-container\" hidden><div class=\"sk-item\"><div class=\"sk-estimator sk-toggleable\"><input class=\"sk-toggleable__control sk-hidden--visually\" id=\"sk-estimator-id-1\" type=\"checkbox\" checked><label for=\"sk-estimator-id-1\" class=\"sk-toggleable__label sk-toggleable__label-arrow\">XGBRegressor</label><div class=\"sk-toggleable__content\"><pre>XGBRegressor(base_score=0.5, booster=&#x27;gbtree&#x27;, callbacks=None,\n",
       "             colsample_bylevel=1, colsample_bynode=1,\n",
       "             colsample_bytree=0.7791682677670975, early_stopping_rounds=None,\n",
       "             enable_categorical=False, eval_metric=None, feature_types=None,\n",
       "             gamma=0, gpu_id=-1, grow_policy=&#x27;depthwise&#x27;, importance_type=None,\n",
       "             interaction_constraints=&#x27;&#x27;, learning_rate=0.06874001460156993,\n",
       "             max_bin=256, max_cat_threshold=64, max_cat_to_onehot=4,\n",
       "             max_delta_step=0, max_depth=9, max_leaves=0,\n",
       "             min_child_weight=8.225025470833163, missing=nan,\n",
       "             monotone_constraints=&#x27;()&#x27;, n_estimators=432, n_jobs=0,\n",
       "             num_parallel_tree=1, predictor=&#x27;auto&#x27;, random_state=0, ...)</pre></div></div></div></div></div>"
      ],
      "text/plain": [
       "XGBRegressor(base_score=0.5, booster='gbtree', callbacks=None,\n",
       "             colsample_bylevel=1, colsample_bynode=1,\n",
       "             colsample_bytree=0.7791682677670975, early_stopping_rounds=None,\n",
       "             enable_categorical=False, eval_metric=None, feature_types=None,\n",
       "             gamma=0, gpu_id=-1, grow_policy='depthwise', importance_type=None,\n",
       "             interaction_constraints='', learning_rate=0.06874001460156993,\n",
       "             max_bin=256, max_cat_threshold=64, max_cat_to_onehot=4,\n",
       "             max_delta_step=0, max_depth=9, max_leaves=0,\n",
       "             min_child_weight=8.225025470833163, missing=nan,\n",
       "             monotone_constraints='()', n_estimators=432, n_jobs=0,\n",
       "             num_parallel_tree=1, predictor='auto', random_state=0, ...)"
      ]
     },
     "execution_count": 13,
     "metadata": {},
     "output_type": "execute_result"
    }
   ],
   "source": [
    "tune_xgb_reg = XGBRegressor(**xgb_reg_max_params)\n",
    "tune_xgb_reg.fit(train_s,train_y)"
   ]
  },
  {
   "cell_type": "code",
   "execution_count": 14,
   "id": "9a1e433d",
   "metadata": {},
   "outputs": [
    {
     "name": "stderr",
     "output_type": "stream",
     "text": [
      "C:\\Users\\82107\\AppData\\Roaming\\Python\\Python39\\site-packages\\sklearn\\utils\\validation.py:1111: DataConversionWarning: A column-vector y was passed when a 1d array was expected. Please change the shape of y to (n_samples, ), for example using ravel().\n",
      "  y = column_or_1d(y, warn=True)\n"
     ]
    },
    {
     "data": {
      "text/html": [
       "<style>#sk-container-id-2 {color: black;background-color: white;}#sk-container-id-2 pre{padding: 0;}#sk-container-id-2 div.sk-toggleable {background-color: white;}#sk-container-id-2 label.sk-toggleable__label {cursor: pointer;display: block;width: 100%;margin-bottom: 0;padding: 0.3em;box-sizing: border-box;text-align: center;}#sk-container-id-2 label.sk-toggleable__label-arrow:before {content: \"▸\";float: left;margin-right: 0.25em;color: #696969;}#sk-container-id-2 label.sk-toggleable__label-arrow:hover:before {color: black;}#sk-container-id-2 div.sk-estimator:hover label.sk-toggleable__label-arrow:before {color: black;}#sk-container-id-2 div.sk-toggleable__content {max-height: 0;max-width: 0;overflow: hidden;text-align: left;background-color: #f0f8ff;}#sk-container-id-2 div.sk-toggleable__content pre {margin: 0.2em;color: black;border-radius: 0.25em;background-color: #f0f8ff;}#sk-container-id-2 input.sk-toggleable__control:checked~div.sk-toggleable__content {max-height: 200px;max-width: 100%;overflow: auto;}#sk-container-id-2 input.sk-toggleable__control:checked~label.sk-toggleable__label-arrow:before {content: \"▾\";}#sk-container-id-2 div.sk-estimator input.sk-toggleable__control:checked~label.sk-toggleable__label {background-color: #d4ebff;}#sk-container-id-2 div.sk-label input.sk-toggleable__control:checked~label.sk-toggleable__label {background-color: #d4ebff;}#sk-container-id-2 input.sk-hidden--visually {border: 0;clip: rect(1px 1px 1px 1px);clip: rect(1px, 1px, 1px, 1px);height: 1px;margin: -1px;overflow: hidden;padding: 0;position: absolute;width: 1px;}#sk-container-id-2 div.sk-estimator {font-family: monospace;background-color: #f0f8ff;border: 1px dotted black;border-radius: 0.25em;box-sizing: border-box;margin-bottom: 0.5em;}#sk-container-id-2 div.sk-estimator:hover {background-color: #d4ebff;}#sk-container-id-2 div.sk-parallel-item::after {content: \"\";width: 100%;border-bottom: 1px solid gray;flex-grow: 1;}#sk-container-id-2 div.sk-label:hover label.sk-toggleable__label {background-color: #d4ebff;}#sk-container-id-2 div.sk-serial::before {content: \"\";position: absolute;border-left: 1px solid gray;box-sizing: border-box;top: 0;bottom: 0;left: 50%;z-index: 0;}#sk-container-id-2 div.sk-serial {display: flex;flex-direction: column;align-items: center;background-color: white;padding-right: 0.2em;padding-left: 0.2em;position: relative;}#sk-container-id-2 div.sk-item {position: relative;z-index: 1;}#sk-container-id-2 div.sk-parallel {display: flex;align-items: stretch;justify-content: center;background-color: white;position: relative;}#sk-container-id-2 div.sk-item::before, #sk-container-id-2 div.sk-parallel-item::before {content: \"\";position: absolute;border-left: 1px solid gray;box-sizing: border-box;top: 0;bottom: 0;left: 50%;z-index: -1;}#sk-container-id-2 div.sk-parallel-item {display: flex;flex-direction: column;z-index: 1;position: relative;background-color: white;}#sk-container-id-2 div.sk-parallel-item:first-child::after {align-self: flex-end;width: 50%;}#sk-container-id-2 div.sk-parallel-item:last-child::after {align-self: flex-start;width: 50%;}#sk-container-id-2 div.sk-parallel-item:only-child::after {width: 0;}#sk-container-id-2 div.sk-dashed-wrapped {border: 1px dashed gray;margin: 0 0.4em 0.5em 0.4em;box-sizing: border-box;padding-bottom: 0.4em;background-color: white;}#sk-container-id-2 div.sk-label label {font-family: monospace;font-weight: bold;display: inline-block;line-height: 1.2em;}#sk-container-id-2 div.sk-label-container {text-align: center;}#sk-container-id-2 div.sk-container {/* jupyter's `normalize.less` sets `[hidden] { display: none; }` but bootstrap.min.css set `[hidden] { display: none !important; }` so we also need the `!important` here to be able to override the default hidden behavior on the sphinx rendered scikit-learn.org. See: https://github.com/scikit-learn/scikit-learn/issues/21755 */display: inline-block !important;position: relative;}#sk-container-id-2 div.sk-text-repr-fallback {display: none;}</style><div id=\"sk-container-id-2\" class=\"sk-top-container\"><div class=\"sk-text-repr-fallback\"><pre>LGBMRegressor(colsample_bytree=0.9339334278512058,\n",
       "              learning_rate=0.25158858664918043, max_depth=8,\n",
       "              min_child_weight=3.900381401962542, n_estimators=387,\n",
       "              num_leaves=10, subsample=0.9488136530060359)</pre><b>In a Jupyter environment, please rerun this cell to show the HTML representation or trust the notebook. <br />On GitHub, the HTML representation is unable to render, please try loading this page with nbviewer.org.</b></div><div class=\"sk-container\" hidden><div class=\"sk-item\"><div class=\"sk-estimator sk-toggleable\"><input class=\"sk-toggleable__control sk-hidden--visually\" id=\"sk-estimator-id-2\" type=\"checkbox\" checked><label for=\"sk-estimator-id-2\" class=\"sk-toggleable__label sk-toggleable__label-arrow\">LGBMRegressor</label><div class=\"sk-toggleable__content\"><pre>LGBMRegressor(colsample_bytree=0.9339334278512058,\n",
       "              learning_rate=0.25158858664918043, max_depth=8,\n",
       "              min_child_weight=3.900381401962542, n_estimators=387,\n",
       "              num_leaves=10, subsample=0.9488136530060359)</pre></div></div></div></div></div>"
      ],
      "text/plain": [
       "LGBMRegressor(colsample_bytree=0.9339334278512058,\n",
       "              learning_rate=0.25158858664918043, max_depth=8,\n",
       "              min_child_weight=3.900381401962542, n_estimators=387,\n",
       "              num_leaves=10, subsample=0.9488136530060359)"
      ]
     },
     "execution_count": 14,
     "metadata": {},
     "output_type": "execute_result"
    }
   ],
   "source": [
    "tune_lgbm_reg = LGBMRegressor(**lgbm_reg_max_params)\n",
    "tune_lgbm_reg.fit(train_s,train_y)"
   ]
  },
  {
   "cell_type": "code",
   "execution_count": 15,
   "id": "1f37fc5c",
   "metadata": {},
   "outputs": [
    {
     "name": "stderr",
     "output_type": "stream",
     "text": [
      "C:\\Users\\82107\\AppData\\Local\\Temp\\ipykernel_9164\\1637458044.py:2: DataConversionWarning: A column-vector y was passed when a 1d array was expected. Please change the shape of y to (n_samples,), for example using ravel().\n",
      "  tune_et_reg.fit(train_s,train_y)\n"
     ]
    },
    {
     "data": {
      "text/html": [
       "<style>#sk-container-id-3 {color: black;background-color: white;}#sk-container-id-3 pre{padding: 0;}#sk-container-id-3 div.sk-toggleable {background-color: white;}#sk-container-id-3 label.sk-toggleable__label {cursor: pointer;display: block;width: 100%;margin-bottom: 0;padding: 0.3em;box-sizing: border-box;text-align: center;}#sk-container-id-3 label.sk-toggleable__label-arrow:before {content: \"▸\";float: left;margin-right: 0.25em;color: #696969;}#sk-container-id-3 label.sk-toggleable__label-arrow:hover:before {color: black;}#sk-container-id-3 div.sk-estimator:hover label.sk-toggleable__label-arrow:before {color: black;}#sk-container-id-3 div.sk-toggleable__content {max-height: 0;max-width: 0;overflow: hidden;text-align: left;background-color: #f0f8ff;}#sk-container-id-3 div.sk-toggleable__content pre {margin: 0.2em;color: black;border-radius: 0.25em;background-color: #f0f8ff;}#sk-container-id-3 input.sk-toggleable__control:checked~div.sk-toggleable__content {max-height: 200px;max-width: 100%;overflow: auto;}#sk-container-id-3 input.sk-toggleable__control:checked~label.sk-toggleable__label-arrow:before {content: \"▾\";}#sk-container-id-3 div.sk-estimator input.sk-toggleable__control:checked~label.sk-toggleable__label {background-color: #d4ebff;}#sk-container-id-3 div.sk-label input.sk-toggleable__control:checked~label.sk-toggleable__label {background-color: #d4ebff;}#sk-container-id-3 input.sk-hidden--visually {border: 0;clip: rect(1px 1px 1px 1px);clip: rect(1px, 1px, 1px, 1px);height: 1px;margin: -1px;overflow: hidden;padding: 0;position: absolute;width: 1px;}#sk-container-id-3 div.sk-estimator {font-family: monospace;background-color: #f0f8ff;border: 1px dotted black;border-radius: 0.25em;box-sizing: border-box;margin-bottom: 0.5em;}#sk-container-id-3 div.sk-estimator:hover {background-color: #d4ebff;}#sk-container-id-3 div.sk-parallel-item::after {content: \"\";width: 100%;border-bottom: 1px solid gray;flex-grow: 1;}#sk-container-id-3 div.sk-label:hover label.sk-toggleable__label {background-color: #d4ebff;}#sk-container-id-3 div.sk-serial::before {content: \"\";position: absolute;border-left: 1px solid gray;box-sizing: border-box;top: 0;bottom: 0;left: 50%;z-index: 0;}#sk-container-id-3 div.sk-serial {display: flex;flex-direction: column;align-items: center;background-color: white;padding-right: 0.2em;padding-left: 0.2em;position: relative;}#sk-container-id-3 div.sk-item {position: relative;z-index: 1;}#sk-container-id-3 div.sk-parallel {display: flex;align-items: stretch;justify-content: center;background-color: white;position: relative;}#sk-container-id-3 div.sk-item::before, #sk-container-id-3 div.sk-parallel-item::before {content: \"\";position: absolute;border-left: 1px solid gray;box-sizing: border-box;top: 0;bottom: 0;left: 50%;z-index: -1;}#sk-container-id-3 div.sk-parallel-item {display: flex;flex-direction: column;z-index: 1;position: relative;background-color: white;}#sk-container-id-3 div.sk-parallel-item:first-child::after {align-self: flex-end;width: 50%;}#sk-container-id-3 div.sk-parallel-item:last-child::after {align-self: flex-start;width: 50%;}#sk-container-id-3 div.sk-parallel-item:only-child::after {width: 0;}#sk-container-id-3 div.sk-dashed-wrapped {border: 1px dashed gray;margin: 0 0.4em 0.5em 0.4em;box-sizing: border-box;padding-bottom: 0.4em;background-color: white;}#sk-container-id-3 div.sk-label label {font-family: monospace;font-weight: bold;display: inline-block;line-height: 1.2em;}#sk-container-id-3 div.sk-label-container {text-align: center;}#sk-container-id-3 div.sk-container {/* jupyter's `normalize.less` sets `[hidden] { display: none; }` but bootstrap.min.css set `[hidden] { display: none !important; }` so we also need the `!important` here to be able to override the default hidden behavior on the sphinx rendered scikit-learn.org. See: https://github.com/scikit-learn/scikit-learn/issues/21755 */display: inline-block !important;position: relative;}#sk-container-id-3 div.sk-text-repr-fallback {display: none;}</style><div id=\"sk-container-id-3\" class=\"sk-top-container\"><div class=\"sk-text-repr-fallback\"><pre>ExtraTreesRegressor(max_depth=10, min_samples_leaf=2, min_samples_split=5,\n",
       "                    n_estimators=116)</pre><b>In a Jupyter environment, please rerun this cell to show the HTML representation or trust the notebook. <br />On GitHub, the HTML representation is unable to render, please try loading this page with nbviewer.org.</b></div><div class=\"sk-container\" hidden><div class=\"sk-item\"><div class=\"sk-estimator sk-toggleable\"><input class=\"sk-toggleable__control sk-hidden--visually\" id=\"sk-estimator-id-3\" type=\"checkbox\" checked><label for=\"sk-estimator-id-3\" class=\"sk-toggleable__label sk-toggleable__label-arrow\">ExtraTreesRegressor</label><div class=\"sk-toggleable__content\"><pre>ExtraTreesRegressor(max_depth=10, min_samples_leaf=2, min_samples_split=5,\n",
       "                    n_estimators=116)</pre></div></div></div></div></div>"
      ],
      "text/plain": [
       "ExtraTreesRegressor(max_depth=10, min_samples_leaf=2, min_samples_split=5,\n",
       "                    n_estimators=116)"
      ]
     },
     "execution_count": 15,
     "metadata": {},
     "output_type": "execute_result"
    }
   ],
   "source": [
    "tune_et_reg = ExtraTreesRegressor(**et_reg_max_params)\n",
    "tune_et_reg.fit(train_s,train_y)"
   ]
  },
  {
   "cell_type": "code",
   "execution_count": 16,
   "id": "7a8f5047",
   "metadata": {},
   "outputs": [],
   "source": [
    "# Predict target by test_x\n",
    "#tune_cb_reg_pred = tune_cb_reg.predict(test_x)\n",
    "tune_xgb_reg_pred = tune_xgb_reg.predict(test_x)\n",
    "tune_lgbm_reg_pred = tune_lgbm_reg.predict(test_x)\n",
    "tune_et_reg_pred = tune_et_reg.predict(test_x)"
   ]
  },
  {
   "cell_type": "code",
   "execution_count": 17,
   "id": "ef63cce0",
   "metadata": {},
   "outputs": [
    {
     "data": {
      "image/png": "[encoded data removed]",
      "text/plain": [
       "<Figure size 1440x720 with 4 Axes>"
      ]
     },
     "metadata": {
      "needs_background": "light"
     },
     "output_type": "display_data"
    }
   ],
   "source": [
    "# Visualize target predict\n",
    "#cb_pred = pd.DataFrame({'predict':tune_cb_reg_pred})\n",
    "xgb_pred = pd.DataFrame({'predict':tune_xgb_reg_pred})\n",
    "lgbm_pred = pd.DataFrame({'predict':tune_lgbm_reg_pred})\n",
    "et_pred = pd.DataFrame({'predict':tune_et_reg_pred})\n",
    "\n",
    "plt.figure(figsize=(20,10))\n",
    "\n",
    "plt.subplot(2,2,1)\n",
    "sns.kdeplot(xgb_pred.predict)\n",
    "plt.title('Caboost Predict KDE')\n",
    "\n",
    "plt.subplot(2,2,2)\n",
    "sns.kdeplot(xgb_pred.predict)\n",
    "plt.title('XGB Predict KDE')\n",
    "\n",
    "plt.subplot(2,2,3)\n",
    "sns.kdeplot(lgbm_pred.predict)\n",
    "plt.title('LGBM Predict KDE')\n",
    "\n",
    "plt.subplot(2,2,4)\n",
    "sns.kdeplot(et_pred.predict)\n",
    "plt.title('ExtraTrees Predict KDE')\n",
    "plt.show()"
   ]
  },
  {
   "cell_type": "code",
   "execution_count": 22,
   "id": "d6852104",
   "metadata": {},
   "outputs": [
    {
     "name": "stdout",
     "output_type": "stream",
     "text": [
      "count    6041.000000\n",
      "mean        0.096009\n",
      "std         0.120230\n",
      "min        -0.240072\n",
      "25%         0.016146\n",
      "50%         0.071316\n",
      "75%         0.149806\n",
      "max         1.055888\n",
      "Name: predict, dtype: float64 count    6041.000000\n",
      "mean        0.104605\n",
      "std         0.110584\n",
      "min        -0.239418\n",
      "25%         0.031078\n",
      "50%         0.087654\n",
      "75%         0.162173\n",
      "max         1.015673\n",
      "Name: predict, dtype: float64 count    6041.000000\n",
      "mean        0.313365\n",
      "std         0.047728\n",
      "min         0.195651\n",
      "25%         0.277072\n",
      "50%         0.309151\n",
      "75%         0.348468\n",
      "max         0.492403\n",
      "Name: predict, dtype: float64\n"
     ]
    }
   ],
   "source": [
    "# target predict's describe\n",
    "print(xgb_pred.predict.describe(), lgbm_pred.predict.describe(),et_pred.predict.describe())"
   ]
  },
  {
   "cell_type": "code",
   "execution_count": 18,
   "id": "5182d962",
   "metadata": {
    "collapsed": true
   },
   "outputs": [
    {
     "name": "stdout",
     "output_type": "stream",
     "text": [
      "4368    0.270582\n",
      "4498    0.270438\n",
      "492     0.270295\n",
      "1442    0.270129\n",
      "500     0.270084\n",
      "854     0.269977\n",
      "773     0.269953\n",
      "5416    0.269902\n",
      "5406    0.269812\n",
      "1222    0.269485\n",
      "4217    0.269049\n",
      "Name: predict, dtype: float32\n",
      "3535    0.263654\n",
      "1623    0.263569\n",
      "5821    0.262745\n",
      "5797    0.262423\n",
      "3079    0.262409\n",
      "4887    0.262392\n",
      "4828    0.262263\n",
      "838     0.262204\n",
      "2387    0.261810\n",
      "5093    0.261549\n",
      "3146    0.261455\n",
      "Name: predict, dtype: float64\n",
      "4402    0.382962\n",
      "137     0.382876\n",
      "5731    0.382808\n",
      "2957    0.382783\n",
      "4495    0.382734\n",
      "3856    0.382674\n",
      "5167    0.382670\n",
      "1098    0.382648\n",
      "1805    0.382464\n",
      "3473    0.382442\n",
      "3233    0.382365\n",
      "Name: predict, dtype: float64\n"
     ]
    }
   ],
   "source": [
    "# target predict 8.5% raw print by Model\n",
    "#print(cb_pred.predict.sort_values(ascending = False).iloc[510:521])\n",
    "print(xgb_pred.predict.sort_values(ascending = False).iloc[510:521])\n",
    "print(lgbm_pred.predict.sort_values(ascending = False).iloc[510:521])\n",
    "print(et_pred.predict.sort_values(ascending = False).iloc[510:521])"
   ]
  },
  {
   "cell_type": "code",
   "execution_count": 20,
   "id": "145901c5",
   "metadata": {},
   "outputs": [],
   "source": [
    "# Transform predict by Threshold\n",
    "#cb_trans_reg_pred = np.array([0 if i < * else 1 for i in tune_cb_reg_pred])\n",
    "xgb_trans_reg_pred = np.array([0 if i < 0.27 else 1 for i in tune_xgb_reg_pred])\n",
    "lgbm_trans_reg_pred = np.array([0 if i < 0.262 else 1 for i in tune_lgbm_reg_pred])\n",
    "et_trans_reg_pred = np.array([0 if i < 0.3826 else 1 for i in tune_et_reg_pred])"
   ]
  },
  {
   "cell_type": "code",
   "execution_count": 19,
   "id": "b4bf19e9",
   "metadata": {},
   "outputs": [
    {
     "data": {
      "text/plain": [
       "['model_save/tuning/task1_lgbm_clf_task2_rt_reg.pkl']"
      ]
     },
     "execution_count": 19,
     "metadata": {},
     "output_type": "execute_result"
    }
   ],
   "source": [
    "# Saving Model\n",
    "#joblib.dump(tune_cb_reg, 'model_save/tuning/task1_xxx_clf_task2_cb_reg.pkl')\n",
    "joblib.dump(tune_xgb_reg, 'model_save/tuning/task1_lgbm_clf_task2_xgb_reg.pkl')\n",
    "joblib.dump(tune_lgbm_reg, 'model_save/tuning/task1_lgbm_clf_task2_lgbm_reg.pkl')\n",
    "joblib.dump(tune_et_reg, 'model_save/tuning/task1_lgbm_clf_task2_rt_reg.pkl')"
   ]
  },
  {
   "cell_type": "code",
   "execution_count": 21,
   "id": "350a9936",
   "metadata": {},
   "outputs": [],
   "source": [
    "#pd.DataFrame({'ID': test_id, 'Y_LABEL': cb_trans_reg_pred}).to_csv('predict/modeling/xx_clf_cb_reg_\\\\\\.csv', index=False)\n",
    "pd.DataFrame({'ID': test_id, 'Y_LABEL': xgb_trans_reg_pred}).to_csv('predict/modeling/lgbm_clf_xgb_reg_27.csv', index=False)\n",
    "pd.DataFrame({'ID': test_id, 'Y_LABEL': lgbm_trans_reg_pred}).to_csv('predict/modeling/lgbm_clf_lgbm_reg_262.csv', index=False)\n",
    "pd.DataFrame({'ID': test_id, 'Y_LABEL': et_trans_reg_pred}).to_csv('predict/modeling/lgbm_clf_et_reg_3826.csv', index=False)"
   ]
  }
 ],
 "metadata": {
  "kernelspec": {
   "display_name": "Python 3 (ipykernel)",
   "language": "python",
   "name": "python3"
  },
  "language_info": {
   "codemirror_mode": {
    "name": "ipython",
    "version": 3
   },
   "file_extension": ".py",
   "mimetype": "text/x-python",
   "name": "python",
   "nbconvert_exporter": "python",
   "pygments_lexer": "ipython3",
   "version": "3.9.12"
  }
 },
 "nbformat": 4,
 "nbformat_minor": 5
}

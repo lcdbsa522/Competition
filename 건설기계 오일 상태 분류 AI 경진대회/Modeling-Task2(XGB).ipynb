{
 "cells": [
  {
   "cell_type": "code",
   "execution_count": 9,
   "id": "97bb69c8",
   "metadata": {},
   "outputs": [],
   "source": [
    "# Base & Visualization\n",
    "import pandas as pd\n",
    "import numpy as np\n",
    "import matplotlib.pyplot as plt\n",
    "import seaborn as sns\n",
    "%matplotlib inline\n",
    "\n",
    "# Preprocessing\n",
    "from sklearn.model_selection import train_test_split\n",
    "from sklearn.model_selection import StratifiedKFold, KFold\n",
    "from sklearn.model_selection import cross_val_score\n",
    "\n",
    "# Oversampling\n",
    "from imblearn.combine import  SMOTETomek\n",
    "\n",
    "# Modeling\n",
    "from catboost import CatBoostClassifier, CatBoostRegressor\n",
    "from xgboost import XGBClassifier, XGBRegressor\n",
    "from lightgbm import LGBMClassifier, LGBMRegressor\n",
    "from sklearn.ensemble import ExtraTreesClassifier, ExtraTreesRegressor\n",
    "from sklearn.linear_model import LogisticRegression\n",
    "\n",
    "# Scoring\n",
    "from sklearn.metrics import f1_score\n",
    "from sklearn.metrics import mean_squared_error\n",
    "\n",
    "# BayesianOptimizer\n",
    "from bayes_opt import BayesianOptimization\n",
    "\n",
    "# Saving Model\n",
    "import joblib"
   ]
  },
  {
   "cell_type": "code",
   "execution_count": 10,
   "id": "d96900e9",
   "metadata": {},
   "outputs": [],
   "source": [
    "train = pd.read_csv('data/part/one-hot_encoding/iterative/oversampling/part_one_iter_tomek_train.csv')\n",
    "label = pd.read_csv('data/part/one-hot_encoding/iterative/oversampling/label/part_one_iter_tomek_label.csv')\n",
    "test = pd.read_csv('data/one_hot_test.csv')\n",
    "test_id = pd.read_csv('data/sample_submission.csv')['ID']\n",
    "\n",
    "train_x = np.array(train)\n",
    "train_y = np.array(label)\n",
    "test_x = np.array(test)\n",
    "train_s = np.array(train.loc[:,test.columns])"
   ]
  },
  {
   "cell_type": "code",
   "execution_count": 11,
   "id": "493be51c",
   "metadata": {},
   "outputs": [],
   "source": [
    "# Catboost\n",
    "cb_pbounds = { 'n_estimators' : (200, 400),\n",
    "               'learning_rate' : (0.01, 0.5),\n",
    "               'max_depth' : (4, 10),\n",
    "               'random_strength' : (0.1, 0.9),\n",
    "               'l2_leaf_reg' : (1, 5) }\n",
    "\n",
    "# XGB\n",
    "xgb_pbounds = { 'n_estimators' : (50, 400),\n",
    "                'learning_rate' : (0.001, 0.5),\n",
    "                'max_depth' : (4, 10),\n",
    "                'subsample' : (0.7, 1),\n",
    "                'colsample_bytree' : (0.7, 1),\n",
    "                'min_child_weight' : (1, 15) }\n",
    "\n",
    "# LGBM\n",
    "lgbm_pbounds = { 'n_estimators' : (100, 400),\n",
    "                 'learning_rate' : (0.01, 0.5),\n",
    "                 'max_depth' : (4, 10),\n",
    "                 'subsample' : (0.7, 1),\n",
    "                 'colsample_bytree' : (0.7, 0.95),\n",
    "                 'num_leaves': (2,10),\n",
    "                 'min_child_weight' : (1, 15) }\n",
    "\n",
    "# ExtraTree\n",
    "et_pbounds = { 'n_estimators' : (50, 300), 'max_depth' : (4, 10),\n",
    "               'min_samples_split' : (2, 15), 'min_samples_leaf' : (2, 15) }"
   ]
  },
  {
   "cell_type": "code",
   "execution_count": 12,
   "id": "48ee12af",
   "metadata": {},
   "outputs": [
    {
     "data": {
      "text/plain": [
       "array([0.00598056, 0.00842067, 0.9981389 , ..., 0.9935574 , 0.9938612 ,\n",
       "       0.9942602 ], dtype=float32)"
      ]
     },
     "execution_count": 12,
     "metadata": {},
     "output_type": "execute_result"
    }
   ],
   "source": [
    "tune_xgb_clf = joblib.load('model_save/tuning/task1_xgb_clf.pkl')\n",
    "\n",
    "tune_xgb_clf_pred_proba = np.array([i[1] for i in tune_xgb_clf.predict_proba(train_x)])\n",
    "tune_xgb_clf_pred_proba"
   ]
  },
  {
   "cell_type": "code",
   "execution_count": 13,
   "id": "cef2eb3f",
   "metadata": {},
   "outputs": [],
   "source": [
    "def cb_reg_opt(n_estimators, learning_rate, max_depth, random_strength, l2_leaf_reg):\n",
    "    \n",
    "    params = { 'n_estimators' : int(round(n_estimators)),\n",
    "               'learning_rate' : learning_rate,\n",
    "               'max_depth' : int(round(max_depth)),\n",
    "               'random_strength' : random_strength,\n",
    "               'l2_leaf_reg' : l2_leaf_reg }\n",
    "    \n",
    "    cb = CatBoostRegressor(**params)\n",
    "    skf = KFold(n_splits = 4, shuffle = True, random_state = 17)\n",
    "    score = cross_val_score(cb, train_s, tune_xgb_clf_pred_proba, scoring = 'neg_mean_squared_error', cv = skf, n_jobs = -1)\n",
    "    \n",
    "    return np.mean(score)\n",
    "\n",
    "def xgb_reg_opt(n_estimators, learning_rate, max_depth, subsample, colsample_bytree, min_child_weight):\n",
    "    \n",
    "    params = { 'n_estimators' : int(round(n_estimators)),\n",
    "               'learning_rate' : learning_rate,\n",
    "               'max_depth' : int(round(max_depth)),\n",
    "               'subsample' : subsample,\n",
    "               'colsample_bytree' : colsample_bytree,\n",
    "               'min_child_weight' : min_child_weight, 'n_jobs' : -1 }\n",
    "    \n",
    "    xgb = XGBRegressor(**params)\n",
    "    skf = KFold(n_splits = 4, shuffle = True, random_state = 17)\n",
    "    score = cross_val_score(xgb, train_s, tune_xgb_clf_pred_proba, scoring = 'neg_mean_squared_error', cv = skf, n_jobs = -1)\n",
    "    \n",
    "    return np.mean(score)\n",
    "\n",
    "def lgbm_reg_opt(n_estimators, learning_rate, max_depth, subsample, colsample_bytree, num_leaves, min_child_weight):\n",
    "    \n",
    "    params = { 'n_estimators' : int(round(n_estimators)),\n",
    "               'learning_rate' : learning_rate,\n",
    "               'max_depth' : int(round(max_depth)),\n",
    "               'subsample' : subsample,\n",
    "               'colsample_bytree' : colsample_bytree,\n",
    "               'num_leaves' : int(round(num_leaves)),\n",
    "               'min_child_weight' : min_child_weight,'n_jobs' : -1 }\n",
    "    \n",
    "    lgbm = LGBMRegressor(**params)\n",
    "    skf = KFold(n_splits = 4, shuffle = True, random_state = 17)\n",
    "    score = cross_val_score(lgbm, train_s, tune_xgb_clf_pred_proba, scoring = 'neg_mean_squared_error', cv = skf, n_jobs = -1)\n",
    "    \n",
    "    return np.mean(score)\n",
    "\n",
    "def et_reg_opt(n_estimators, max_depth, min_samples_split, min_samples_leaf):\n",
    "    \n",
    "    params = { 'n_estimators' : int(round(n_estimators)),\n",
    "               'max_depth' : int(round(max_depth)),\n",
    "               'min_samples_split' : int(round(min_samples_split)),\n",
    "               'min_samples_leaf' : int(round(min_samples_leaf)), 'n_jobs' : -1 }\n",
    "    \n",
    "    et = ExtraTreesRegressor(**params)\n",
    "    skf = KFold(n_splits = 4, shuffle = True, random_state = 17)\n",
    "    score = cross_val_score(et, train_s, tune_xgb_clf_pred_proba, scoring = 'neg_mean_squared_error', cv = skf, n_jobs = -1)\n",
    "    \n",
    "    return np.mean(score)"
   ]
  },
  {
   "cell_type": "code",
   "execution_count": 14,
   "id": "47862c11",
   "metadata": {},
   "outputs": [],
   "source": [
    "#BO_cb_reg = BayesianOptimization(f = cb_reg_opt, pbounds = cb_pbounds, random_state=17)\n",
    "BO_xgb_reg = BayesianOptimization(f = xgb_reg_opt, pbounds = xgb_pbounds, random_state=17)\n",
    "BO_lgbm_reg = BayesianOptimization(f = lgbm_reg_opt, pbounds = lgbm_pbounds, random_state=17)\n",
    "BO_et_reg = BayesianOptimization(f = et_reg_opt, pbounds = et_pbounds, random_state=17)"
   ]
  },
  {
   "cell_type": "code",
   "execution_count": null,
   "id": "351e698a",
   "metadata": {},
   "outputs": [],
   "source": [
    "# Catboost Maximize\n",
    "#BO_cb_reg.maximize(init_points=50, n_iter=50)"
   ]
  },
  {
   "cell_type": "code",
   "execution_count": 17,
   "id": "538ed71d",
   "metadata": {
    "collapsed": true
   },
   "outputs": [
    {
     "name": "stdout",
     "output_type": "stream",
     "text": [
      "|   iter    |  target   | colsam... | learni... | max_depth | min_ch... | n_esti... | subsample |\n",
      "-------------------------------------------------------------------------------------------------\n",
      "| \u001b[0m1        \u001b[0m | \u001b[0m-0.03417 \u001b[0m | \u001b[0m0.7884   \u001b[0m | \u001b[0m0.2658   \u001b[0m | \u001b[0m5.149    \u001b[0m | \u001b[0m1.951    \u001b[0m | \u001b[0m325.4    \u001b[0m | \u001b[0m0.8969   \u001b[0m |\n",
      "| \u001b[0m2        \u001b[0m | \u001b[0m-0.03575 \u001b[0m | \u001b[0m0.8913   \u001b[0m | \u001b[0m0.2882   \u001b[0m | \u001b[0m4.234    \u001b[0m | \u001b[0m6.009    \u001b[0m | \u001b[0m381.0    \u001b[0m | \u001b[0m0.718    \u001b[0m |\n",
      "| \u001b[0m3        \u001b[0m | \u001b[0m-0.03744 \u001b[0m | \u001b[0m0.9592   \u001b[0m | \u001b[0m0.4388   \u001b[0m | \u001b[0m4.307    \u001b[0m | \u001b[0m10.13    \u001b[0m | \u001b[0m243.1    \u001b[0m | \u001b[0m0.8793   \u001b[0m |\n",
      "| \u001b[95m4        \u001b[0m | \u001b[95m-0.03341 \u001b[0m | \u001b[95m0.8451   \u001b[0m | \u001b[95m0.1422   \u001b[0m | \u001b[95m5.786    \u001b[0m | \u001b[95m8.861    \u001b[0m | \u001b[95m188.6    \u001b[0m | \u001b[95m0.9366   \u001b[0m |\n",
      "| \u001b[0m5        \u001b[0m | \u001b[0m-0.0357  \u001b[0m | \u001b[0m0.8255   \u001b[0m | \u001b[0m0.07281  \u001b[0m | \u001b[0m4.905    \u001b[0m | \u001b[0m1.773    \u001b[0m | \u001b[0m301.3    \u001b[0m | \u001b[0m0.7877   \u001b[0m |\n",
      "| \u001b[0m6        \u001b[0m | \u001b[0m-0.03828 \u001b[0m | \u001b[0m0.7596   \u001b[0m | \u001b[0m0.4159   \u001b[0m | \u001b[0m7.408    \u001b[0m | \u001b[0m2.153    \u001b[0m | \u001b[0m240.7    \u001b[0m | \u001b[0m0.7477   \u001b[0m |\n",
      "| \u001b[95m7        \u001b[0m | \u001b[95m-0.03252 \u001b[0m | \u001b[95m0.903    \u001b[0m | \u001b[95m0.06012  \u001b[0m | \u001b[95m6.67     \u001b[0m | \u001b[95m13.43    \u001b[0m | \u001b[95m329.0    \u001b[0m | \u001b[95m0.7204   \u001b[0m |\n",
      "| \u001b[0m8        \u001b[0m | \u001b[0m-0.03568 \u001b[0m | \u001b[0m0.9882   \u001b[0m | \u001b[0m0.3299   \u001b[0m | \u001b[0m8.313    \u001b[0m | \u001b[0m11.41    \u001b[0m | \u001b[0m360.7    \u001b[0m | \u001b[0m0.7402   \u001b[0m |\n",
      "| \u001b[0m9        \u001b[0m | \u001b[0m-0.03727 \u001b[0m | \u001b[0m0.9331   \u001b[0m | \u001b[0m0.4192   \u001b[0m | \u001b[0m8.976    \u001b[0m | \u001b[0m1.408    \u001b[0m | \u001b[0m186.6    \u001b[0m | \u001b[0m0.8312   \u001b[0m |\n",
      "| \u001b[0m10       \u001b[0m | \u001b[0m-0.03925 \u001b[0m | \u001b[0m0.8562   \u001b[0m | \u001b[0m0.2469   \u001b[0m | \u001b[0m4.783    \u001b[0m | \u001b[0m14.78    \u001b[0m | \u001b[0m73.0     \u001b[0m | \u001b[0m0.8738   \u001b[0m |\n",
      "| \u001b[0m11       \u001b[0m | \u001b[0m-0.04054 \u001b[0m | \u001b[0m0.8742   \u001b[0m | \u001b[0m0.4772   \u001b[0m | \u001b[0m5.185    \u001b[0m | \u001b[0m2.167    \u001b[0m | \u001b[0m359.4    \u001b[0m | \u001b[0m0.7047   \u001b[0m |\n",
      "| \u001b[0m12       \u001b[0m | \u001b[0m-0.03614 \u001b[0m | \u001b[0m0.9387   \u001b[0m | \u001b[0m0.3843   \u001b[0m | \u001b[0m9.232    \u001b[0m | \u001b[0m13.83    \u001b[0m | \u001b[0m145.8    \u001b[0m | \u001b[0m0.7709   \u001b[0m |\n",
      "| \u001b[0m13       \u001b[0m | \u001b[0m-0.03581 \u001b[0m | \u001b[0m0.7932   \u001b[0m | \u001b[0m0.3581   \u001b[0m | \u001b[0m4.496    \u001b[0m | \u001b[0m10.46    \u001b[0m | \u001b[0m350.5    \u001b[0m | \u001b[0m0.9079   \u001b[0m |\n",
      "| \u001b[0m14       \u001b[0m | \u001b[0m-0.03379 \u001b[0m | \u001b[0m0.9355   \u001b[0m | \u001b[0m0.1773   \u001b[0m | \u001b[0m5.321    \u001b[0m | \u001b[0m4.435    \u001b[0m | \u001b[0m304.6    \u001b[0m | \u001b[0m0.7192   \u001b[0m |\n",
      "| \u001b[95m15       \u001b[0m | \u001b[95m-0.03205 \u001b[0m | \u001b[95m0.8361   \u001b[0m | \u001b[95m0.2444   \u001b[0m | \u001b[95m7.845    \u001b[0m | \u001b[95m2.486    \u001b[0m | \u001b[95m250.8    \u001b[0m | \u001b[95m0.9881   \u001b[0m |\n",
      "| \u001b[0m16       \u001b[0m | \u001b[0m-0.03397 \u001b[0m | \u001b[0m0.8547   \u001b[0m | \u001b[0m0.2853   \u001b[0m | \u001b[0m9.928    \u001b[0m | \u001b[0m12.66    \u001b[0m | \u001b[0m224.4    \u001b[0m | \u001b[0m0.724    \u001b[0m |\n",
      "| \u001b[0m17       \u001b[0m | \u001b[0m-0.03508 \u001b[0m | \u001b[0m0.9613   \u001b[0m | \u001b[0m0.3568   \u001b[0m | \u001b[0m8.393    \u001b[0m | \u001b[0m12.53    \u001b[0m | \u001b[0m310.7    \u001b[0m | \u001b[0m0.8239   \u001b[0m |\n",
      "| \u001b[0m18       \u001b[0m | \u001b[0m-0.03671 \u001b[0m | \u001b[0m0.8544   \u001b[0m | \u001b[0m0.4234   \u001b[0m | \u001b[0m9.153    \u001b[0m | \u001b[0m5.347    \u001b[0m | \u001b[0m91.79    \u001b[0m | \u001b[0m0.8563   \u001b[0m |\n",
      "| \u001b[0m19       \u001b[0m | \u001b[0m-0.03696 \u001b[0m | \u001b[0m0.8347   \u001b[0m | \u001b[0m0.4487   \u001b[0m | \u001b[0m6.959    \u001b[0m | \u001b[0m8.063    \u001b[0m | \u001b[0m177.8    \u001b[0m | \u001b[0m0.9349   \u001b[0m |\n",
      "| \u001b[0m20       \u001b[0m | \u001b[0m-0.03294 \u001b[0m | \u001b[0m0.9844   \u001b[0m | \u001b[0m0.06588  \u001b[0m | \u001b[0m7.967    \u001b[0m | \u001b[0m3.292    \u001b[0m | \u001b[0m158.1    \u001b[0m | \u001b[0m0.99     \u001b[0m |\n",
      "| \u001b[0m21       \u001b[0m | \u001b[0m-0.03397 \u001b[0m | \u001b[0m0.8449   \u001b[0m | \u001b[0m0.2708   \u001b[0m | \u001b[0m8.267    \u001b[0m | \u001b[0m10.62    \u001b[0m | \u001b[0m62.94    \u001b[0m | \u001b[0m0.9665   \u001b[0m |\n",
      "| \u001b[0m22       \u001b[0m | \u001b[0m-0.03738 \u001b[0m | \u001b[0m0.7566   \u001b[0m | \u001b[0m0.3912   \u001b[0m | \u001b[0m7.864    \u001b[0m | \u001b[0m7.796    \u001b[0m | \u001b[0m375.2    \u001b[0m | \u001b[0m0.781    \u001b[0m |\n",
      "| \u001b[0m23       \u001b[0m | \u001b[0m-0.03566 \u001b[0m | \u001b[0m0.9443   \u001b[0m | \u001b[0m0.3478   \u001b[0m | \u001b[0m5.413    \u001b[0m | \u001b[0m14.35    \u001b[0m | \u001b[0m254.9    \u001b[0m | \u001b[0m0.8749   \u001b[0m |\n",
      "| \u001b[0m24       \u001b[0m | \u001b[0m-0.03606 \u001b[0m | \u001b[0m0.7472   \u001b[0m | \u001b[0m0.2132   \u001b[0m | \u001b[0m5.41     \u001b[0m | \u001b[0m9.407    \u001b[0m | \u001b[0m176.2    \u001b[0m | \u001b[0m0.7507   \u001b[0m |\n",
      "| \u001b[95m25       \u001b[0m | \u001b[95m-0.03175 \u001b[0m | \u001b[95m0.8042   \u001b[0m | \u001b[95m0.108    \u001b[0m | \u001b[95m8.767    \u001b[0m | \u001b[95m12.08    \u001b[0m | \u001b[95m107.6    \u001b[0m | \u001b[95m0.9251   \u001b[0m |\n",
      "| \u001b[95m26       \u001b[0m | \u001b[95m-0.03127 \u001b[0m | \u001b[95m0.7168   \u001b[0m | \u001b[95m0.117    \u001b[0m | \u001b[95m7.901    \u001b[0m | \u001b[95m11.06    \u001b[0m | \u001b[95m218.0    \u001b[0m | \u001b[95m0.8013   \u001b[0m |\n",
      "| \u001b[0m27       \u001b[0m | \u001b[0m-0.03663 \u001b[0m | \u001b[0m0.8169   \u001b[0m | \u001b[0m0.4295   \u001b[0m | \u001b[0m7.068    \u001b[0m | \u001b[0m13.25    \u001b[0m | \u001b[0m381.3    \u001b[0m | \u001b[0m0.9807   \u001b[0m |\n",
      "| \u001b[0m28       \u001b[0m | \u001b[0m-0.03448 \u001b[0m | \u001b[0m0.8479   \u001b[0m | \u001b[0m0.3007   \u001b[0m | \u001b[0m5.243    \u001b[0m | \u001b[0m14.39    \u001b[0m | \u001b[0m395.4    \u001b[0m | \u001b[0m0.9488   \u001b[0m |\n",
      "| \u001b[0m29       \u001b[0m | \u001b[0m-0.04695 \u001b[0m | \u001b[0m0.8614   \u001b[0m | \u001b[0m0.04269  \u001b[0m | \u001b[0m5.883    \u001b[0m | \u001b[0m2.486    \u001b[0m | \u001b[0m121.7    \u001b[0m | \u001b[0m0.7977   \u001b[0m |\n",
      "| \u001b[0m30       \u001b[0m | \u001b[0m-0.03963 \u001b[0m | \u001b[0m0.8505   \u001b[0m | \u001b[0m0.4393   \u001b[0m | \u001b[0m5.566    \u001b[0m | \u001b[0m8.422    \u001b[0m | \u001b[0m345.4    \u001b[0m | \u001b[0m0.741    \u001b[0m |\n",
      "| \u001b[0m31       \u001b[0m | \u001b[0m-0.03555 \u001b[0m | \u001b[0m0.8201   \u001b[0m | \u001b[0m0.2847   \u001b[0m | \u001b[0m5.116    \u001b[0m | \u001b[0m1.192    \u001b[0m | \u001b[0m257.5    \u001b[0m | \u001b[0m0.7047   \u001b[0m |\n",
      "| \u001b[0m32       \u001b[0m | \u001b[0m-0.03334 \u001b[0m | \u001b[0m0.8758   \u001b[0m | \u001b[0m0.2049   \u001b[0m | \u001b[0m5.372    \u001b[0m | \u001b[0m3.658    \u001b[0m | \u001b[0m369.7    \u001b[0m | \u001b[0m0.8771   \u001b[0m |\n",
      "| \u001b[0m33       \u001b[0m | \u001b[0m-0.03555 \u001b[0m | \u001b[0m0.7514   \u001b[0m | \u001b[0m0.3575   \u001b[0m | \u001b[0m5.431    \u001b[0m | \u001b[0m13.91    \u001b[0m | \u001b[0m302.4    \u001b[0m | \u001b[0m0.9031   \u001b[0m |\n",
      "| \u001b[0m34       \u001b[0m | \u001b[0m-0.0338  \u001b[0m | \u001b[0m0.996    \u001b[0m | \u001b[0m0.2703   \u001b[0m | \u001b[0m6.984    \u001b[0m | \u001b[0m13.57    \u001b[0m | \u001b[0m386.5    \u001b[0m | \u001b[0m0.7007   \u001b[0m |\n",
      "| \u001b[0m35       \u001b[0m | \u001b[0m-0.03286 \u001b[0m | \u001b[0m0.9493   \u001b[0m | \u001b[0m0.2791   \u001b[0m | \u001b[0m9.61     \u001b[0m | \u001b[0m11.06    \u001b[0m | \u001b[0m385.3    \u001b[0m | \u001b[0m0.9277   \u001b[0m |\n",
      "| \u001b[95m36       \u001b[0m | \u001b[95m-0.02973 \u001b[0m | \u001b[95m0.7792   \u001b[0m | \u001b[95m0.06874  \u001b[0m | \u001b[95m9.41     \u001b[0m | \u001b[95m8.225    \u001b[0m | \u001b[95m347.3    \u001b[0m | \u001b[95m0.7166   \u001b[0m |\n",
      "| \u001b[0m37       \u001b[0m | \u001b[0m-0.03366 \u001b[0m | \u001b[0m0.829    \u001b[0m | \u001b[0m0.1036   \u001b[0m | \u001b[0m9.224    \u001b[0m | \u001b[0m10.72    \u001b[0m | \u001b[0m71.85    \u001b[0m | \u001b[0m0.8844   \u001b[0m |\n",
      "| \u001b[0m38       \u001b[0m | \u001b[0m-0.06428 \u001b[0m | \u001b[0m0.9518   \u001b[0m | \u001b[0m0.01786  \u001b[0m | \u001b[0m7.676    \u001b[0m | \u001b[0m13.96    \u001b[0m | \u001b[0m103.0    \u001b[0m | \u001b[0m0.9184   \u001b[0m |\n",
      "| \u001b[0m39       \u001b[0m | \u001b[0m-0.03779 \u001b[0m | \u001b[0m0.7452   \u001b[0m | \u001b[0m0.4201   \u001b[0m | \u001b[0m5.096    \u001b[0m | \u001b[0m6.475    \u001b[0m | \u001b[0m176.1    \u001b[0m | \u001b[0m0.8194   \u001b[0m |\n",
      "| \u001b[0m40       \u001b[0m | \u001b[0m-0.03421 \u001b[0m | \u001b[0m0.9971   \u001b[0m | \u001b[0m0.1002   \u001b[0m | \u001b[0m6.216    \u001b[0m | \u001b[0m11.77    \u001b[0m | \u001b[0m205.9    \u001b[0m | \u001b[0m0.8669   \u001b[0m |\n",
      "| \u001b[0m41       \u001b[0m | \u001b[0m-0.04044 \u001b[0m | \u001b[0m0.9291   \u001b[0m | \u001b[0m0.4999   \u001b[0m | \u001b[0m8.908    \u001b[0m | \u001b[0m7.145    \u001b[0m | \u001b[0m169.7    \u001b[0m | \u001b[0m0.8008   \u001b[0m |\n",
      "| \u001b[0m42       \u001b[0m | \u001b[0m-0.0369  \u001b[0m | \u001b[0m0.9638   \u001b[0m | \u001b[0m0.376    \u001b[0m | \u001b[0m4.463    \u001b[0m | \u001b[0m8.367    \u001b[0m | \u001b[0m285.6    \u001b[0m | \u001b[0m0.8463   \u001b[0m |\n",
      "| \u001b[0m43       \u001b[0m | \u001b[0m-0.03735 \u001b[0m | \u001b[0m0.8572   \u001b[0m | \u001b[0m0.4296   \u001b[0m | \u001b[0m6.014    \u001b[0m | \u001b[0m2.892    \u001b[0m | \u001b[0m263.4    \u001b[0m | \u001b[0m0.8981   \u001b[0m |\n",
      "| \u001b[0m44       \u001b[0m | \u001b[0m-0.03667 \u001b[0m | \u001b[0m0.9931   \u001b[0m | \u001b[0m0.4113   \u001b[0m | \u001b[0m8.672    \u001b[0m | \u001b[0m14.2     \u001b[0m | \u001b[0m189.6    \u001b[0m | \u001b[0m0.7907   \u001b[0m |\n",
      "| \u001b[0m45       \u001b[0m | \u001b[0m-0.03334 \u001b[0m | \u001b[0m0.908    \u001b[0m | \u001b[0m0.2801   \u001b[0m | \u001b[0m7.095    \u001b[0m | \u001b[0m4.118    \u001b[0m | \u001b[0m277.5    \u001b[0m | \u001b[0m0.9032   \u001b[0m |\n",
      "| \u001b[0m46       \u001b[0m | \u001b[0m-0.03034 \u001b[0m | \u001b[0m0.8159   \u001b[0m | \u001b[0m0.1314   \u001b[0m | \u001b[0m9.993    \u001b[0m | \u001b[0m4.702    \u001b[0m | \u001b[0m107.7    \u001b[0m | \u001b[0m0.935    \u001b[0m |\n",
      "| \u001b[0m47       \u001b[0m | \u001b[0m-0.03907 \u001b[0m | \u001b[0m0.8441   \u001b[0m | \u001b[0m0.4767   \u001b[0m | \u001b[0m6.177    \u001b[0m | \u001b[0m9.443    \u001b[0m | \u001b[0m53.33    \u001b[0m | \u001b[0m0.9305   \u001b[0m |\n",
      "| \u001b[0m48       \u001b[0m | \u001b[0m-0.03486 \u001b[0m | \u001b[0m0.9898   \u001b[0m | \u001b[0m0.3432   \u001b[0m | \u001b[0m9.024    \u001b[0m | \u001b[0m2.442    \u001b[0m | \u001b[0m325.9    \u001b[0m | \u001b[0m0.8292   \u001b[0m |\n",
      "| \u001b[0m49       \u001b[0m | \u001b[0m-0.03983 \u001b[0m | \u001b[0m0.7526   \u001b[0m | \u001b[0m0.4503   \u001b[0m | \u001b[0m7.978    \u001b[0m | \u001b[0m4.02     \u001b[0m | \u001b[0m143.5    \u001b[0m | \u001b[0m0.7466   \u001b[0m |\n",
      "| \u001b[0m50       \u001b[0m | \u001b[0m-0.03813 \u001b[0m | \u001b[0m0.8959   \u001b[0m | \u001b[0m0.355    \u001b[0m | \u001b[0m4.372    \u001b[0m | \u001b[0m14.66    \u001b[0m | \u001b[0m155.6    \u001b[0m | \u001b[0m0.8971   \u001b[0m |\n"
     ]
    },
    {
     "name": "stdout",
     "output_type": "stream",
     "text": [
      "| \u001b[0m51       \u001b[0m | \u001b[0m-0.03034 \u001b[0m | \u001b[0m0.9099   \u001b[0m | \u001b[0m0.1655   \u001b[0m | \u001b[0m9.37     \u001b[0m | \u001b[0m7.742    \u001b[0m | \u001b[0m348.1    \u001b[0m | \u001b[0m0.9156   \u001b[0m |\n",
      "| \u001b[0m52       \u001b[0m | \u001b[0m-0.03046 \u001b[0m | \u001b[0m0.8101   \u001b[0m | \u001b[0m0.1909   \u001b[0m | \u001b[0m9.658    \u001b[0m | \u001b[0m7.047    \u001b[0m | \u001b[0m107.9    \u001b[0m | \u001b[0m0.9522   \u001b[0m |\n",
      "| \u001b[0m53       \u001b[0m | \u001b[0m-0.03807 \u001b[0m | \u001b[0m0.7817   \u001b[0m | \u001b[0m0.03834  \u001b[0m | \u001b[0m9.038    \u001b[0m | \u001b[0m9.995    \u001b[0m | \u001b[0m109.9    \u001b[0m | \u001b[0m0.8261   \u001b[0m |\n",
      "| \u001b[0m54       \u001b[0m | \u001b[0m-0.04397 \u001b[0m | \u001b[0m0.8257   \u001b[0m | \u001b[0m0.03392  \u001b[0m | \u001b[0m8.086    \u001b[0m | \u001b[0m5.843    \u001b[0m | \u001b[0m107.4    \u001b[0m | \u001b[0m0.7379   \u001b[0m |\n",
      "| \u001b[0m55       \u001b[0m | \u001b[0m-0.04324 \u001b[0m | \u001b[0m0.8267   \u001b[0m | \u001b[0m0.4958   \u001b[0m | \u001b[0m9.837    \u001b[0m | \u001b[0m8.581    \u001b[0m | \u001b[0m347.8    \u001b[0m | \u001b[0m0.7089   \u001b[0m |\n",
      "| \u001b[0m56       \u001b[0m | \u001b[0m-0.04896 \u001b[0m | \u001b[0m0.9709   \u001b[0m | \u001b[0m0.06442  \u001b[0m | \u001b[0m6.515    \u001b[0m | \u001b[0m14.54    \u001b[0m | \u001b[0m57.45    \u001b[0m | \u001b[0m0.7783   \u001b[0m |\n",
      "| \u001b[0m57       \u001b[0m | \u001b[0m-0.03279 \u001b[0m | \u001b[0m0.8643   \u001b[0m | \u001b[0m0.232    \u001b[0m | \u001b[0m6.923    \u001b[0m | \u001b[0m3.327    \u001b[0m | \u001b[0m132.4    \u001b[0m | \u001b[0m0.9212   \u001b[0m |\n",
      "| \u001b[0m58       \u001b[0m | \u001b[0m-0.03645 \u001b[0m | \u001b[0m0.7393   \u001b[0m | \u001b[0m0.3931   \u001b[0m | \u001b[0m4.223    \u001b[0m | \u001b[0m6.85     \u001b[0m | \u001b[0m393.0    \u001b[0m | \u001b[0m0.978    \u001b[0m |\n",
      "| \u001b[0m59       \u001b[0m | \u001b[0m-0.03339 \u001b[0m | \u001b[0m0.7165   \u001b[0m | \u001b[0m0.3101   \u001b[0m | \u001b[0m8.571    \u001b[0m | \u001b[0m10.0     \u001b[0m | \u001b[0m373.3    \u001b[0m | \u001b[0m0.9357   \u001b[0m |\n",
      "| \u001b[0m60       \u001b[0m | \u001b[0m-0.03461 \u001b[0m | \u001b[0m0.883    \u001b[0m | \u001b[0m0.2898   \u001b[0m | \u001b[0m6.815    \u001b[0m | \u001b[0m8.601    \u001b[0m | \u001b[0m392.2    \u001b[0m | \u001b[0m0.7718   \u001b[0m |\n",
      "| \u001b[0m61       \u001b[0m | \u001b[0m-0.03693 \u001b[0m | \u001b[0m0.8664   \u001b[0m | \u001b[0m0.3851   \u001b[0m | \u001b[0m4.624    \u001b[0m | \u001b[0m8.495    \u001b[0m | \u001b[0m339.4    \u001b[0m | \u001b[0m0.7475   \u001b[0m |\n",
      "| \u001b[0m62       \u001b[0m | \u001b[0m-0.03627 \u001b[0m | \u001b[0m0.9706   \u001b[0m | \u001b[0m0.3981   \u001b[0m | \u001b[0m5.519    \u001b[0m | \u001b[0m6.002    \u001b[0m | \u001b[0m355.7    \u001b[0m | \u001b[0m0.9421   \u001b[0m |\n",
      "| \u001b[0m63       \u001b[0m | \u001b[0m-0.03213 \u001b[0m | \u001b[0m0.8779   \u001b[0m | \u001b[0m0.1673   \u001b[0m | \u001b[0m5.721    \u001b[0m | \u001b[0m6.778    \u001b[0m | \u001b[0m388.7    \u001b[0m | \u001b[0m0.843    \u001b[0m |\n",
      "| \u001b[0m64       \u001b[0m | \u001b[0m-0.0379  \u001b[0m | \u001b[0m0.7144   \u001b[0m | \u001b[0m0.4149   \u001b[0m | \u001b[0m9.449    \u001b[0m | \u001b[0m12.73    \u001b[0m | \u001b[0m268.9    \u001b[0m | \u001b[0m0.8027   \u001b[0m |\n",
      "| \u001b[0m65       \u001b[0m | \u001b[0m-0.03177 \u001b[0m | \u001b[0m0.9768   \u001b[0m | \u001b[0m0.15     \u001b[0m | \u001b[0m7.469    \u001b[0m | \u001b[0m3.725    \u001b[0m | \u001b[0m207.9    \u001b[0m | \u001b[0m0.984    \u001b[0m |\n",
      "| \u001b[0m66       \u001b[0m | \u001b[0m-0.04065 \u001b[0m | \u001b[0m0.7247   \u001b[0m | \u001b[0m0.07297  \u001b[0m | \u001b[0m5.727    \u001b[0m | \u001b[0m13.54    \u001b[0m | \u001b[0m116.2    \u001b[0m | \u001b[0m0.8087   \u001b[0m |\n",
      "| \u001b[0m67       \u001b[0m | \u001b[0m-0.03657 \u001b[0m | \u001b[0m0.7083   \u001b[0m | \u001b[0m0.2515   \u001b[0m | \u001b[0m4.303    \u001b[0m | \u001b[0m2.398    \u001b[0m | \u001b[0m237.3    \u001b[0m | \u001b[0m0.9702   \u001b[0m |\n",
      "| \u001b[0m68       \u001b[0m | \u001b[0m-0.03214 \u001b[0m | \u001b[0m0.8329   \u001b[0m | \u001b[0m0.2483   \u001b[0m | \u001b[0m7.709    \u001b[0m | \u001b[0m10.09    \u001b[0m | \u001b[0m326.6    \u001b[0m | \u001b[0m0.9371   \u001b[0m |\n",
      "| \u001b[0m69       \u001b[0m | \u001b[0m-0.03431 \u001b[0m | \u001b[0m0.9026   \u001b[0m | \u001b[0m0.2907   \u001b[0m | \u001b[0m5.942    \u001b[0m | \u001b[0m10.51    \u001b[0m | \u001b[0m288.9    \u001b[0m | \u001b[0m0.8146   \u001b[0m |\n",
      "| \u001b[0m70       \u001b[0m | \u001b[0m-0.03527 \u001b[0m | \u001b[0m0.9176   \u001b[0m | \u001b[0m0.3536   \u001b[0m | \u001b[0m7.867    \u001b[0m | \u001b[0m5.167    \u001b[0m | \u001b[0m356.8    \u001b[0m | \u001b[0m0.8309   \u001b[0m |\n",
      "| \u001b[0m71       \u001b[0m | \u001b[0m-0.03449 \u001b[0m | \u001b[0m0.8445   \u001b[0m | \u001b[0m0.3293   \u001b[0m | \u001b[0m7.287    \u001b[0m | \u001b[0m5.67     \u001b[0m | \u001b[0m93.96    \u001b[0m | \u001b[0m0.9089   \u001b[0m |\n",
      "| \u001b[0m72       \u001b[0m | \u001b[0m-0.03595 \u001b[0m | \u001b[0m0.7896   \u001b[0m | \u001b[0m0.06327  \u001b[0m | \u001b[0m5.129    \u001b[0m | \u001b[0m8.213    \u001b[0m | \u001b[0m362.2    \u001b[0m | \u001b[0m0.7881   \u001b[0m |\n",
      "| \u001b[0m73       \u001b[0m | \u001b[0m-0.03795 \u001b[0m | \u001b[0m0.803    \u001b[0m | \u001b[0m0.1239   \u001b[0m | \u001b[0m5.41     \u001b[0m | \u001b[0m12.37    \u001b[0m | \u001b[0m143.8    \u001b[0m | \u001b[0m0.9025   \u001b[0m |\n",
      "| \u001b[0m74       \u001b[0m | \u001b[0m-0.03545 \u001b[0m | \u001b[0m0.9954   \u001b[0m | \u001b[0m0.1761   \u001b[0m | \u001b[0m6.03     \u001b[0m | \u001b[0m12.16    \u001b[0m | \u001b[0m107.5    \u001b[0m | \u001b[0m0.84     \u001b[0m |\n",
      "| \u001b[0m75       \u001b[0m | \u001b[0m-0.03631 \u001b[0m | \u001b[0m0.9616   \u001b[0m | \u001b[0m0.3463   \u001b[0m | \u001b[0m7.485    \u001b[0m | \u001b[0m13.12    \u001b[0m | \u001b[0m93.54    \u001b[0m | \u001b[0m0.7375   \u001b[0m |\n",
      "| \u001b[0m76       \u001b[0m | \u001b[0m-0.0367  \u001b[0m | \u001b[0m0.7312   \u001b[0m | \u001b[0m0.4204   \u001b[0m | \u001b[0m6.754    \u001b[0m | \u001b[0m11.84    \u001b[0m | \u001b[0m186.6    \u001b[0m | \u001b[0m0.913    \u001b[0m |\n",
      "| \u001b[0m77       \u001b[0m | \u001b[0m-0.03932 \u001b[0m | \u001b[0m0.7223   \u001b[0m | \u001b[0m0.4537   \u001b[0m | \u001b[0m6.943    \u001b[0m | \u001b[0m9.136    \u001b[0m | \u001b[0m367.7    \u001b[0m | \u001b[0m0.7837   \u001b[0m |\n",
      "| \u001b[0m78       \u001b[0m | \u001b[0m-0.03044 \u001b[0m | \u001b[0m0.9655   \u001b[0m | \u001b[0m0.09471  \u001b[0m | \u001b[0m7.596    \u001b[0m | \u001b[0m7.342    \u001b[0m | \u001b[0m275.6    \u001b[0m | \u001b[0m0.9122   \u001b[0m |\n",
      "| \u001b[0m79       \u001b[0m | \u001b[0m-0.03411 \u001b[0m | \u001b[0m0.8743   \u001b[0m | \u001b[0m0.2304   \u001b[0m | \u001b[0m5.628    \u001b[0m | \u001b[0m7.744    \u001b[0m | \u001b[0m172.8    \u001b[0m | \u001b[0m0.7819   \u001b[0m |\n",
      "| \u001b[0m80       \u001b[0m | \u001b[0m-0.03649 \u001b[0m | \u001b[0m0.8242   \u001b[0m | \u001b[0m0.3363   \u001b[0m | \u001b[0m4.621    \u001b[0m | \u001b[0m13.66    \u001b[0m | \u001b[0m168.4    \u001b[0m | \u001b[0m0.8197   \u001b[0m |\n",
      "| \u001b[0m81       \u001b[0m | \u001b[0m-0.03606 \u001b[0m | \u001b[0m0.8544   \u001b[0m | \u001b[0m0.3643   \u001b[0m | \u001b[0m4.841    \u001b[0m | \u001b[0m4.826    \u001b[0m | \u001b[0m195.7    \u001b[0m | \u001b[0m0.8552   \u001b[0m |\n",
      "| \u001b[0m82       \u001b[0m | \u001b[0m-0.03226 \u001b[0m | \u001b[0m0.7724   \u001b[0m | \u001b[0m0.203    \u001b[0m | \u001b[0m7.951    \u001b[0m | \u001b[0m7.888    \u001b[0m | \u001b[0m320.1    \u001b[0m | \u001b[0m0.767    \u001b[0m |\n",
      "| \u001b[0m83       \u001b[0m | \u001b[0m-0.03643 \u001b[0m | \u001b[0m0.7586   \u001b[0m | \u001b[0m0.4296   \u001b[0m | \u001b[0m7.458    \u001b[0m | \u001b[0m9.876    \u001b[0m | \u001b[0m95.47    \u001b[0m | \u001b[0m0.9577   \u001b[0m |\n",
      "| \u001b[0m84       \u001b[0m | \u001b[0m-0.03592 \u001b[0m | \u001b[0m0.7073   \u001b[0m | \u001b[0m0.2057   \u001b[0m | \u001b[0m6.363    \u001b[0m | \u001b[0m11.91    \u001b[0m | \u001b[0m99.45    \u001b[0m | \u001b[0m0.9379   \u001b[0m |\n",
      "| \u001b[0m85       \u001b[0m | \u001b[0m-0.03866 \u001b[0m | \u001b[0m0.8329   \u001b[0m | \u001b[0m0.1427   \u001b[0m | \u001b[0m5.832    \u001b[0m | \u001b[0m14.93    \u001b[0m | \u001b[0m75.27    \u001b[0m | \u001b[0m0.9121   \u001b[0m |\n",
      "| \u001b[0m86       \u001b[0m | \u001b[0m-0.03493 \u001b[0m | \u001b[0m0.9026   \u001b[0m | \u001b[0m0.2226   \u001b[0m | \u001b[0m7.155    \u001b[0m | \u001b[0m2.462    \u001b[0m | \u001b[0m64.33    \u001b[0m | \u001b[0m0.7858   \u001b[0m |\n",
      "| \u001b[0m87       \u001b[0m | \u001b[0m-0.03415 \u001b[0m | \u001b[0m0.7739   \u001b[0m | \u001b[0m0.07509  \u001b[0m | \u001b[0m9.731    \u001b[0m | \u001b[0m14.91    \u001b[0m | \u001b[0m78.83    \u001b[0m | \u001b[0m0.7566   \u001b[0m |\n",
      "| \u001b[0m88       \u001b[0m | \u001b[0m-0.03804 \u001b[0m | \u001b[0m0.8943   \u001b[0m | \u001b[0m0.495    \u001b[0m | \u001b[0m6.343    \u001b[0m | \u001b[0m4.194    \u001b[0m | \u001b[0m85.25    \u001b[0m | \u001b[0m0.9629   \u001b[0m |\n",
      "| \u001b[0m89       \u001b[0m | \u001b[0m-0.03798 \u001b[0m | \u001b[0m0.9862   \u001b[0m | \u001b[0m0.2382   \u001b[0m | \u001b[0m5.226    \u001b[0m | \u001b[0m11.35    \u001b[0m | \u001b[0m88.57    \u001b[0m | \u001b[0m0.7154   \u001b[0m |\n",
      "| \u001b[0m90       \u001b[0m | \u001b[0m-0.03376 \u001b[0m | \u001b[0m0.9468   \u001b[0m | \u001b[0m0.2324   \u001b[0m | \u001b[0m5.762    \u001b[0m | \u001b[0m4.43     \u001b[0m | \u001b[0m161.0    \u001b[0m | \u001b[0m0.8391   \u001b[0m |\n",
      "| \u001b[0m91       \u001b[0m | \u001b[0m-0.03892 \u001b[0m | \u001b[0m0.7613   \u001b[0m | \u001b[0m0.4035   \u001b[0m | \u001b[0m4.173    \u001b[0m | \u001b[0m10.33    \u001b[0m | \u001b[0m183.8    \u001b[0m | \u001b[0m0.76     \u001b[0m |\n",
      "| \u001b[0m92       \u001b[0m | \u001b[0m-0.03781 \u001b[0m | \u001b[0m0.9249   \u001b[0m | \u001b[0m0.3817   \u001b[0m | \u001b[0m4.248    \u001b[0m | \u001b[0m2.575    \u001b[0m | \u001b[0m302.5    \u001b[0m | \u001b[0m0.7179   \u001b[0m |\n",
      "| \u001b[0m93       \u001b[0m | \u001b[0m-0.03185 \u001b[0m | \u001b[0m0.8127   \u001b[0m | \u001b[0m0.2014   \u001b[0m | \u001b[0m7.159    \u001b[0m | \u001b[0m7.164    \u001b[0m | \u001b[0m303.2    \u001b[0m | \u001b[0m0.9716   \u001b[0m |\n",
      "| \u001b[0m94       \u001b[0m | \u001b[0m-0.04488 \u001b[0m | \u001b[0m0.9454   \u001b[0m | \u001b[0m0.07973  \u001b[0m | \u001b[0m6.707    \u001b[0m | \u001b[0m5.494    \u001b[0m | \u001b[0m56.05    \u001b[0m | \u001b[0m0.7247   \u001b[0m |\n",
      "| \u001b[0m95       \u001b[0m | \u001b[0m-0.04222 \u001b[0m | \u001b[0m0.8942   \u001b[0m | \u001b[0m0.4989   \u001b[0m | \u001b[0m8.913    \u001b[0m | \u001b[0m7.588    \u001b[0m | \u001b[0m346.2    \u001b[0m | \u001b[0m0.7257   \u001b[0m |\n",
      "| \u001b[0m96       \u001b[0m | \u001b[0m-0.03469 \u001b[0m | \u001b[0m0.89     \u001b[0m | \u001b[0m0.3314   \u001b[0m | \u001b[0m9.229    \u001b[0m | \u001b[0m4.117    \u001b[0m | \u001b[0m399.3    \u001b[0m | \u001b[0m0.8144   \u001b[0m |\n",
      "| \u001b[0m97       \u001b[0m | \u001b[0m-0.03697 \u001b[0m | \u001b[0m0.7852   \u001b[0m | \u001b[0m0.2957   \u001b[0m | \u001b[0m4.217    \u001b[0m | \u001b[0m10.9     \u001b[0m | \u001b[0m212.2    \u001b[0m | \u001b[0m0.9716   \u001b[0m |\n",
      "| \u001b[0m98       \u001b[0m | \u001b[0m-0.03527 \u001b[0m | \u001b[0m0.9532   \u001b[0m | \u001b[0m0.04806  \u001b[0m | \u001b[0m5.941    \u001b[0m | \u001b[0m12.4     \u001b[0m | \u001b[0m345.5    \u001b[0m | \u001b[0m0.8923   \u001b[0m |\n",
      "| \u001b[0m99       \u001b[0m | \u001b[0m-0.03556 \u001b[0m | \u001b[0m0.9745   \u001b[0m | \u001b[0m0.07504  \u001b[0m | \u001b[0m6.398    \u001b[0m | \u001b[0m8.551    \u001b[0m | \u001b[0m196.1    \u001b[0m | \u001b[0m0.7395   \u001b[0m |\n",
      "| \u001b[0m100      \u001b[0m | \u001b[0m-0.03245 \u001b[0m | \u001b[0m0.9166   \u001b[0m | \u001b[0m0.2007   \u001b[0m | \u001b[0m6.614    \u001b[0m | \u001b[0m13.13    \u001b[0m | \u001b[0m287.5    \u001b[0m | \u001b[0m0.8262   \u001b[0m |\n",
      "=================================================================================================\n"
     ]
    }
   ],
   "source": [
    "# XGB Maximize\n",
    "BO_xgb_reg.maximize(init_points=50, n_iter=50)"
   ]
  },
  {
   "cell_type": "code",
   "execution_count": 15,
   "id": "d8e6856d",
   "metadata": {
    "collapsed": true
   },
   "outputs": [
    {
     "name": "stdout",
     "output_type": "stream",
     "text": [
      "|   iter    |  target   | colsam... | learni... | max_depth | min_ch... | n_esti... | num_le... | subsample |\n",
      "-------------------------------------------------------------------------------------------------------------\n",
      "| \u001b[0m1        \u001b[0m | \u001b[0m-0.03765 \u001b[0m | \u001b[0m0.7737   \u001b[0m | \u001b[0m0.27     \u001b[0m | \u001b[0m5.149    \u001b[0m | \u001b[0m1.951    \u001b[0m | \u001b[0m336.1    \u001b[0m | \u001b[0m7.251    \u001b[0m | \u001b[0m0.8913   \u001b[0m |\n",
      "| \u001b[0m2        \u001b[0m | \u001b[0m-0.07232 \u001b[0m | \u001b[0m0.8439   \u001b[0m | \u001b[0m0.02914  \u001b[0m | \u001b[0m6.147    \u001b[0m | \u001b[0m14.24    \u001b[0m | \u001b[0m118.0    \u001b[0m | \u001b[0m8.912    \u001b[0m | \u001b[0m0.9632   \u001b[0m |\n",
      "| \u001b[0m3        \u001b[0m | \u001b[0m-0.04327 \u001b[0m | \u001b[0m0.7128   \u001b[0m | \u001b[0m0.3297   \u001b[0m | \u001b[0m7.311    \u001b[0m | \u001b[0m9.365    \u001b[0m | \u001b[0m245.1    \u001b[0m | \u001b[0m4.264    \u001b[0m | \u001b[0m0.7893   \u001b[0m |\n",
      "| \u001b[0m4        \u001b[0m | \u001b[0m-0.05689 \u001b[0m | \u001b[0m0.8404   \u001b[0m | \u001b[0m0.2041   \u001b[0m | \u001b[0m8.732    \u001b[0m | \u001b[0m6.859    \u001b[0m | \u001b[0m143.2    \u001b[0m | \u001b[0m3.207    \u001b[0m | \u001b[0m0.7166   \u001b[0m |\n",
      "| \u001b[0m5        \u001b[0m | \u001b[0m-0.05314 \u001b[0m | \u001b[0m0.8795   \u001b[0m | \u001b[0m0.1532   \u001b[0m | \u001b[0m5.193    \u001b[0m | \u001b[0m12.64    \u001b[0m | \u001b[0m270.4    \u001b[0m | \u001b[0m2.659    \u001b[0m | \u001b[0m0.8635   \u001b[0m |\n",
      "| \u001b[95m6        \u001b[0m | \u001b[95m-0.03636 \u001b[0m | \u001b[95m0.7397   \u001b[0m | \u001b[95m0.3416   \u001b[0m | \u001b[95m4.711    \u001b[0m | \u001b[95m7.23     \u001b[0m | \u001b[95m366.4    \u001b[0m | \u001b[95m8.378    \u001b[0m | \u001b[95m0.7204   \u001b[0m |\n",
      "| \u001b[0m7        \u001b[0m | \u001b[0m-0.0457  \u001b[0m | \u001b[0m0.9402   \u001b[0m | \u001b[0m0.333    \u001b[0m | \u001b[0m8.313    \u001b[0m | \u001b[0m11.41    \u001b[0m | \u001b[0m366.3    \u001b[0m | \u001b[0m3.072    \u001b[0m | \u001b[0m0.9331   \u001b[0m |\n",
      "| \u001b[0m8        \u001b[0m | \u001b[0m-0.03929 \u001b[0m | \u001b[0m0.9095   \u001b[0m | \u001b[0m0.4164   \u001b[0m | \u001b[0m4.175    \u001b[0m | \u001b[0m6.465    \u001b[0m | \u001b[0m231.2    \u001b[0m | \u001b[0m6.165    \u001b[0m | \u001b[0m0.8479   \u001b[0m |\n",
      "| \u001b[0m9        \u001b[0m | \u001b[0m-0.03764 \u001b[0m | \u001b[0m0.7326   \u001b[0m | \u001b[0m0.4923   \u001b[0m | \u001b[0m4.394    \u001b[0m | \u001b[0m9.11     \u001b[0m | \u001b[0m274.2    \u001b[0m | \u001b[0m9.635    \u001b[0m | \u001b[0m0.7592   \u001b[0m |\n",
      "| \u001b[0m10       \u001b[0m | \u001b[0m-0.03695 \u001b[0m | \u001b[0m0.7208   \u001b[0m | \u001b[0m0.4431   \u001b[0m | \u001b[0m4.094    \u001b[0m | \u001b[0m12.14    \u001b[0m | \u001b[0m330.5    \u001b[0m | \u001b[0m8.976    \u001b[0m | \u001b[0m0.9748   \u001b[0m |\n",
      "| \u001b[0m11       \u001b[0m | \u001b[0m-0.04823 \u001b[0m | \u001b[0m0.7685   \u001b[0m | \u001b[0m0.1258   \u001b[0m | \u001b[0m5.863    \u001b[0m | \u001b[0m11.02    \u001b[0m | \u001b[0m124.8    \u001b[0m | \u001b[0m7.404    \u001b[0m | \u001b[0m0.9576   \u001b[0m |\n",
      "| \u001b[0m12       \u001b[0m | \u001b[0m-0.03922 \u001b[0m | \u001b[0m0.8732   \u001b[0m | \u001b[0m0.3947   \u001b[0m | \u001b[0m6.12     \u001b[0m | \u001b[0m4.083    \u001b[0m | \u001b[0m173.6    \u001b[0m | \u001b[0m7.819    \u001b[0m | \u001b[0m0.7192   \u001b[0m |\n",
      "| \u001b[0m13       \u001b[0m | \u001b[0m-0.03657 \u001b[0m | \u001b[0m0.8134   \u001b[0m | \u001b[0m0.249    \u001b[0m | \u001b[0m7.845    \u001b[0m | \u001b[0m2.486    \u001b[0m | \u001b[0m272.1    \u001b[0m | \u001b[0m9.683    \u001b[0m | \u001b[0m0.8547   \u001b[0m |\n",
      "| \u001b[0m14       \u001b[0m | \u001b[0m-0.04037 \u001b[0m | \u001b[0m0.8425   \u001b[0m | \u001b[0m0.4941   \u001b[0m | \u001b[0m8.997    \u001b[0m | \u001b[0m7.974    \u001b[0m | \u001b[0m124.0    \u001b[0m | \u001b[0m8.968    \u001b[0m | \u001b[0m0.9139   \u001b[0m |\n",
      "| \u001b[0m15       \u001b[0m | \u001b[0m-0.03723 \u001b[0m | \u001b[0m0.883    \u001b[0m | \u001b[0m0.4136   \u001b[0m | \u001b[0m8.47     \u001b[0m | \u001b[0m6.783    \u001b[0m | \u001b[0m254.4    \u001b[0m | \u001b[0m8.772    \u001b[0m | \u001b[0m0.9577   \u001b[0m |\n",
      "| \u001b[0m16       \u001b[0m | \u001b[0m-0.04634 \u001b[0m | \u001b[0m0.7776   \u001b[0m | \u001b[0m0.0685   \u001b[0m | \u001b[0m7.126    \u001b[0m | \u001b[0m7.285    \u001b[0m | \u001b[0m369.2    \u001b[0m | \u001b[0m5.945    \u001b[0m | \u001b[0m0.8513   \u001b[0m |\n",
      "| \u001b[0m17       \u001b[0m | \u001b[0m-0.04627 \u001b[0m | \u001b[0m0.7913   \u001b[0m | \u001b[0m0.3937   \u001b[0m | \u001b[0m9.688    \u001b[0m | \u001b[0m2.82     \u001b[0m | \u001b[0m298.3    \u001b[0m | \u001b[0m3.31     \u001b[0m | \u001b[0m0.7927   \u001b[0m |\n",
      "| \u001b[0m18       \u001b[0m | \u001b[0m-0.06575 \u001b[0m | \u001b[0m0.9417   \u001b[0m | \u001b[0m0.2466   \u001b[0m | \u001b[0m7.244    \u001b[0m | \u001b[0m10.96    \u001b[0m | \u001b[0m306.2    \u001b[0m | \u001b[0m2.296    \u001b[0m | \u001b[0m0.9665   \u001b[0m |\n",
      "| \u001b[0m19       \u001b[0m | \u001b[0m-0.03971 \u001b[0m | \u001b[0m0.7471   \u001b[0m | \u001b[0m0.3932   \u001b[0m | \u001b[0m7.864    \u001b[0m | \u001b[0m7.796    \u001b[0m | \u001b[0m378.7    \u001b[0m | \u001b[0m4.159    \u001b[0m | \u001b[0m0.9443   \u001b[0m |\n",
      "| \u001b[0m20       \u001b[0m | \u001b[0m-0.05509 \u001b[0m | \u001b[0m0.8738   \u001b[0m | \u001b[0m0.1254   \u001b[0m | \u001b[0m9.72     \u001b[0m | \u001b[0m9.196    \u001b[0m | \u001b[0m274.9    \u001b[0m | \u001b[0m3.258    \u001b[0m | \u001b[0m0.8276   \u001b[0m |\n",
      "| \u001b[0m21       \u001b[0m | \u001b[0m-0.04555 \u001b[0m | \u001b[0m0.7588   \u001b[0m | \u001b[0m0.3042   \u001b[0m | \u001b[0m6.164    \u001b[0m | \u001b[0m3.364    \u001b[0m | \u001b[0m204.2    \u001b[0m | \u001b[0m3.716    \u001b[0m | \u001b[0m0.9384   \u001b[0m |\n",
      "| \u001b[0m22       \u001b[0m | \u001b[0m-0.04817 \u001b[0m | \u001b[0m0.8979   \u001b[0m | \u001b[0m0.09062  \u001b[0m | \u001b[0m8.502    \u001b[0m | \u001b[0m1.783    \u001b[0m | \u001b[0m169.7    \u001b[0m | \u001b[0m7.201    \u001b[0m | \u001b[0m0.9155   \u001b[0m |\n",
      "| \u001b[0m23       \u001b[0m | \u001b[0m-0.03904 \u001b[0m | \u001b[0m0.82     \u001b[0m | \u001b[0m0.1754   \u001b[0m | \u001b[0m6.338    \u001b[0m | \u001b[0m13.02    \u001b[0m | \u001b[0m253.4    \u001b[0m | \u001b[0m8.998    \u001b[0m | \u001b[0m0.9839   \u001b[0m |\n",
      "| \u001b[95m24       \u001b[0m | \u001b[95m-0.03536 \u001b[0m | \u001b[95m0.9339   \u001b[0m | \u001b[95m0.2516   \u001b[0m | \u001b[95m7.603    \u001b[0m | \u001b[95m3.9      \u001b[0m | \u001b[95m386.9    \u001b[0m | \u001b[95m9.894    \u001b[0m | \u001b[95m0.9488   \u001b[0m |\n",
      "| \u001b[0m25       \u001b[0m | \u001b[0m-0.06523 \u001b[0m | \u001b[0m0.8345   \u001b[0m | \u001b[0m0.05093  \u001b[0m | \u001b[0m5.883    \u001b[0m | \u001b[0m2.486    \u001b[0m | \u001b[0m161.5    \u001b[0m | \u001b[0m4.604    \u001b[0m | \u001b[0m0.8505   \u001b[0m |\n",
      "| \u001b[0m26       \u001b[0m | \u001b[0m-0.05095 \u001b[0m | \u001b[0m0.9196   \u001b[0m | \u001b[0m0.1379   \u001b[0m | \u001b[0m7.181    \u001b[0m | \u001b[0m12.81    \u001b[0m | \u001b[0m141.0    \u001b[0m | \u001b[0m5.202    \u001b[0m | \u001b[0m0.8705   \u001b[0m |\n",
      "| \u001b[0m27       \u001b[0m | \u001b[0m-0.08436 \u001b[0m | \u001b[0m0.7465   \u001b[0m | \u001b[0m0.01672  \u001b[0m | \u001b[0m7.557    \u001b[0m | \u001b[0m1.22     \u001b[0m | \u001b[0m275.8    \u001b[0m | \u001b[0m5.269    \u001b[0m | \u001b[0m0.7686   \u001b[0m |\n",
      "| \u001b[0m28       \u001b[0m | \u001b[0m-0.04028 \u001b[0m | \u001b[0m0.7475   \u001b[0m | \u001b[0m0.4575   \u001b[0m | \u001b[0m7.541    \u001b[0m | \u001b[0m3.397    \u001b[0m | \u001b[0m314.3    \u001b[0m | \u001b[0m3.908    \u001b[0m | \u001b[0m0.9765   \u001b[0m |\n",
      "| \u001b[0m29       \u001b[0m | \u001b[0m-0.03664 \u001b[0m | \u001b[0m0.8803   \u001b[0m | \u001b[0m0.3417   \u001b[0m | \u001b[0m9.921    \u001b[0m | \u001b[0m8.556    \u001b[0m | \u001b[0m249.2    \u001b[0m | \u001b[0m9.185    \u001b[0m | \u001b[0m0.9885   \u001b[0m |\n",
      "| \u001b[0m30       \u001b[0m | \u001b[0m-0.03682 \u001b[0m | \u001b[0m0.7006   \u001b[0m | \u001b[0m0.4172   \u001b[0m | \u001b[0m7.344    \u001b[0m | \u001b[0m14.09    \u001b[0m | \u001b[0m315.5    \u001b[0m | \u001b[0m9.665    \u001b[0m | \u001b[0m0.9277   \u001b[0m |\n",
      "| \u001b[0m31       \u001b[0m | \u001b[0m-0.09952 \u001b[0m | \u001b[0m0.766    \u001b[0m | \u001b[0m0.07652  \u001b[0m | \u001b[0m9.41     \u001b[0m | \u001b[0m8.225    \u001b[0m | \u001b[0m354.8    \u001b[0m | \u001b[0m2.442    \u001b[0m | \u001b[0m0.829    \u001b[0m |\n",
      "| \u001b[0m32       \u001b[0m | \u001b[0m-0.03727 \u001b[0m | \u001b[0m0.7514   \u001b[0m | \u001b[0m0.4366   \u001b[0m | \u001b[0m8.164    \u001b[0m | \u001b[0m1.874    \u001b[0m | \u001b[0m284.4    \u001b[0m | \u001b[0m8.714    \u001b[0m | \u001b[0m0.7101   \u001b[0m |\n",
      "| \u001b[0m33       \u001b[0m | \u001b[0m-0.03951 \u001b[0m | \u001b[0m0.8532   \u001b[0m | \u001b[0m0.4637   \u001b[0m | \u001b[0m4.909    \u001b[0m | \u001b[0m11.19    \u001b[0m | \u001b[0m145.2    \u001b[0m | \u001b[0m8.72     \u001b[0m | \u001b[0m0.7548   \u001b[0m |\n",
      "| \u001b[0m34       \u001b[0m | \u001b[0m-0.04698 \u001b[0m | \u001b[0m0.7978   \u001b[0m | \u001b[0m0.1865   \u001b[0m | \u001b[0m6.388    \u001b[0m | \u001b[0m14.86    \u001b[0m | \u001b[0m159.6    \u001b[0m | \u001b[0m4.954    \u001b[0m | \u001b[0m0.9308   \u001b[0m |\n",
      "| \u001b[0m35       \u001b[0m | \u001b[0m-0.03855 \u001b[0m | \u001b[0m0.8114   \u001b[0m | \u001b[0m0.2826   \u001b[0m | \u001b[0m8.583    \u001b[0m | \u001b[0m15.0     \u001b[0m | \u001b[0m345.4    \u001b[0m | \u001b[0m5.512    \u001b[0m | \u001b[0m0.8026   \u001b[0m |\n",
      "| \u001b[0m36       \u001b[0m | \u001b[0m-0.03802 \u001b[0m | \u001b[0m0.784    \u001b[0m | \u001b[0m0.4409   \u001b[0m | \u001b[0m8.509    \u001b[0m | \u001b[0m2.08     \u001b[0m | \u001b[0m257.9    \u001b[0m | \u001b[0m7.385    \u001b[0m | \u001b[0m0.8463   \u001b[0m |\n",
      "| \u001b[0m37       \u001b[0m | \u001b[0m-0.03724 \u001b[0m | \u001b[0m0.831    \u001b[0m | \u001b[0m0.4308   \u001b[0m | \u001b[0m6.014    \u001b[0m | \u001b[0m2.892    \u001b[0m | \u001b[0m282.9    \u001b[0m | \u001b[0m7.282    \u001b[0m | \u001b[0m0.9931   \u001b[0m |\n",
      "| \u001b[0m38       \u001b[0m | \u001b[0m-0.03875 \u001b[0m | \u001b[0m0.9056   \u001b[0m | \u001b[0m0.3915   \u001b[0m | \u001b[0m9.657    \u001b[0m | \u001b[0m6.582    \u001b[0m | \u001b[0m190.7    \u001b[0m | \u001b[0m7.547    \u001b[0m | \u001b[0m0.8678   \u001b[0m |\n",
      "| \u001b[0m39       \u001b[0m | \u001b[0m-0.05193 \u001b[0m | \u001b[0m0.829    \u001b[0m | \u001b[0m0.1191   \u001b[0m | \u001b[0m7.899    \u001b[0m | \u001b[0m10.48    \u001b[0m | \u001b[0m215.9    \u001b[0m | \u001b[0m4.091    \u001b[0m | \u001b[0m0.9996   \u001b[0m |\n",
      "| \u001b[0m40       \u001b[0m | \u001b[0m-0.04589 \u001b[0m | \u001b[0m0.7661   \u001b[0m | \u001b[0m0.09073  \u001b[0m | \u001b[0m8.699    \u001b[0m | \u001b[0m7.723    \u001b[0m | \u001b[0m386.0    \u001b[0m | \u001b[0m4.903    \u001b[0m | \u001b[0m0.8809   \u001b[0m |\n",
      "| \u001b[0m41       \u001b[0m | \u001b[0m-0.04559 \u001b[0m | \u001b[0m0.7024   \u001b[0m | \u001b[0m0.3864   \u001b[0m | \u001b[0m9.795    \u001b[0m | \u001b[0m10.6     \u001b[0m | \u001b[0m351.2    \u001b[0m | \u001b[0m2.824    \u001b[0m | \u001b[0m0.9365   \u001b[0m |\n",
      "| \u001b[0m42       \u001b[0m | \u001b[0m-0.05972 \u001b[0m | \u001b[0m0.8076   \u001b[0m | \u001b[0m0.09588  \u001b[0m | \u001b[0m9.402    \u001b[0m | \u001b[0m10.28    \u001b[0m | \u001b[0m164.7    \u001b[0m | \u001b[0m4.138    \u001b[0m | \u001b[0m0.7466   \u001b[0m |\n",
      "| \u001b[0m43       \u001b[0m | \u001b[0m-0.0398  \u001b[0m | \u001b[0m0.8633   \u001b[0m | \u001b[0m0.3576   \u001b[0m | \u001b[0m4.372    \u001b[0m | \u001b[0m14.66    \u001b[0m | \u001b[0m190.5    \u001b[0m | \u001b[0m7.255    \u001b[0m | \u001b[0m0.9386   \u001b[0m |\n",
      "| \u001b[0m44       \u001b[0m | \u001b[0m-0.03747 \u001b[0m | \u001b[0m0.9188   \u001b[0m | \u001b[0m0.3559   \u001b[0m | \u001b[0m7.98     \u001b[0m | \u001b[0m7.707    \u001b[0m | \u001b[0m207.7    \u001b[0m | \u001b[0m9.635    \u001b[0m | \u001b[0m0.8828   \u001b[0m |\n"
     ]
    },
    {
     "name": "stdout",
     "output_type": "stream",
     "text": [
      "| \u001b[0m45       \u001b[0m | \u001b[0m-0.05276 \u001b[0m | \u001b[0m0.9142   \u001b[0m | \u001b[0m0.4414   \u001b[0m | \u001b[0m5.075    \u001b[0m | \u001b[0m4.036    \u001b[0m | \u001b[0m110.6    \u001b[0m | \u001b[0m3.204    \u001b[0m | \u001b[0m0.7346   \u001b[0m |\n",
      "| \u001b[0m46       \u001b[0m | \u001b[0m-0.0452  \u001b[0m | \u001b[0m0.9259   \u001b[0m | \u001b[0m0.4903   \u001b[0m | \u001b[0m7.059    \u001b[0m | \u001b[0m7.25     \u001b[0m | \u001b[0m305.4    \u001b[0m | \u001b[0m2.992    \u001b[0m | \u001b[0m0.9097   \u001b[0m |\n",
      "| \u001b[0m47       \u001b[0m | \u001b[0m-0.04238 \u001b[0m | \u001b[0m0.8098   \u001b[0m | \u001b[0m0.3313   \u001b[0m | \u001b[0m8.782    \u001b[0m | \u001b[0m8.678    \u001b[0m | \u001b[0m191.6    \u001b[0m | \u001b[0m4.634    \u001b[0m | \u001b[0m0.7631   \u001b[0m |\n",
      "| \u001b[0m48       \u001b[0m | \u001b[0m-0.04491 \u001b[0m | \u001b[0m0.8969   \u001b[0m | \u001b[0m0.208    \u001b[0m | \u001b[0m8.259    \u001b[0m | \u001b[0m5.027    \u001b[0m | \u001b[0m185.8    \u001b[0m | \u001b[0m4.667    \u001b[0m | \u001b[0m0.8516   \u001b[0m |\n",
      "| \u001b[0m49       \u001b[0m | \u001b[0m-0.04272 \u001b[0m | \u001b[0m0.9305   \u001b[0m | \u001b[0m0.3636   \u001b[0m | \u001b[0m5.602    \u001b[0m | \u001b[0m1.524    \u001b[0m | \u001b[0m232.7    \u001b[0m | \u001b[0m4.318    \u001b[0m | \u001b[0m0.9316   \u001b[0m |\n",
      "| \u001b[0m50       \u001b[0m | \u001b[0m-0.05509 \u001b[0m | \u001b[0m0.8001   \u001b[0m | \u001b[0m0.1013   \u001b[0m | \u001b[0m9.33     \u001b[0m | \u001b[0m12.33    \u001b[0m | \u001b[0m202.6    \u001b[0m | \u001b[0m4.302    \u001b[0m | \u001b[0m0.886    \u001b[0m |\n",
      "| \u001b[0m51       \u001b[0m | \u001b[0m-0.03699 \u001b[0m | \u001b[0m0.8788   \u001b[0m | \u001b[0m0.3705   \u001b[0m | \u001b[0m9.153    \u001b[0m | \u001b[0m7.809    \u001b[0m | \u001b[0m251.7    \u001b[0m | \u001b[0m8.99     \u001b[0m | \u001b[0m0.9733   \u001b[0m |\n",
      "| \u001b[0m52       \u001b[0m | \u001b[0m-0.03919 \u001b[0m | \u001b[0m0.8494   \u001b[0m | \u001b[0m0.1576   \u001b[0m | \u001b[0m9.716    \u001b[0m | \u001b[0m10.87    \u001b[0m | \u001b[0m251.5    \u001b[0m | \u001b[0m9.162    \u001b[0m | \u001b[0m0.835    \u001b[0m |\n",
      "| \u001b[0m53       \u001b[0m | \u001b[0m-0.03793 \u001b[0m | \u001b[0m0.7014   \u001b[0m | \u001b[0m0.2315   \u001b[0m | \u001b[0m6.814    \u001b[0m | \u001b[0m9.797    \u001b[0m | \u001b[0m250.3    \u001b[0m | \u001b[0m9.317    \u001b[0m | \u001b[0m0.9957   \u001b[0m |\n",
      "| \u001b[0m54       \u001b[0m | \u001b[0m-0.04415 \u001b[0m | \u001b[0m0.9155   \u001b[0m | \u001b[0m0.1737   \u001b[0m | \u001b[0m7.836    \u001b[0m | \u001b[0m8.97     \u001b[0m | \u001b[0m250.9    \u001b[0m | \u001b[0m5.006    \u001b[0m | \u001b[0m0.8027   \u001b[0m |\n",
      "| \u001b[0m55       \u001b[0m | \u001b[0m-0.03648 \u001b[0m | \u001b[0m0.9419   \u001b[0m | \u001b[0m0.4028   \u001b[0m | \u001b[0m6.017    \u001b[0m | \u001b[0m5.657    \u001b[0m | \u001b[0m251.8    \u001b[0m | \u001b[0m10.0     \u001b[0m | \u001b[0m0.8451   \u001b[0m |\n",
      "| \u001b[0m56       \u001b[0m | \u001b[0m-0.03706 \u001b[0m | \u001b[0m0.7978   \u001b[0m | \u001b[0m0.5      \u001b[0m | \u001b[0m6.167    \u001b[0m | \u001b[0m5.884    \u001b[0m | \u001b[0m271.1    \u001b[0m | \u001b[0m10.0     \u001b[0m | \u001b[0m0.8521   \u001b[0m |\n",
      "| \u001b[0m57       \u001b[0m | \u001b[0m-0.08881 \u001b[0m | \u001b[0m0.95     \u001b[0m | \u001b[0m0.01     \u001b[0m | \u001b[0m4.69     \u001b[0m | \u001b[0m8.649    \u001b[0m | \u001b[0m254.6    \u001b[0m | \u001b[0m10.0     \u001b[0m | \u001b[0m0.7      \u001b[0m |\n",
      "| \u001b[0m58       \u001b[0m | \u001b[0m-0.03721 \u001b[0m | \u001b[0m0.9424   \u001b[0m | \u001b[0m0.2886   \u001b[0m | \u001b[0m8.07     \u001b[0m | \u001b[0m5.606    \u001b[0m | \u001b[0m251.3    \u001b[0m | \u001b[0m8.983    \u001b[0m | \u001b[0m0.9174   \u001b[0m |\n",
      "| \u001b[0m59       \u001b[0m | \u001b[0m-0.03757 \u001b[0m | \u001b[0m0.8241   \u001b[0m | \u001b[0m0.5      \u001b[0m | \u001b[0m8.417    \u001b[0m | \u001b[0m3.781    \u001b[0m | \u001b[0m254.3    \u001b[0m | \u001b[0m8.639    \u001b[0m | \u001b[0m0.9469   \u001b[0m |\n",
      "| \u001b[0m60       \u001b[0m | \u001b[0m-0.03819 \u001b[0m | \u001b[0m0.8549   \u001b[0m | \u001b[0m0.2063   \u001b[0m | \u001b[0m6.332    \u001b[0m | \u001b[0m7.154    \u001b[0m | \u001b[0m248.4    \u001b[0m | \u001b[0m8.589    \u001b[0m | \u001b[0m0.829    \u001b[0m |\n",
      "| \u001b[0m61       \u001b[0m | \u001b[0m-0.03766 \u001b[0m | \u001b[0m0.95     \u001b[0m | \u001b[0m0.5      \u001b[0m | \u001b[0m8.111    \u001b[0m | \u001b[0m10.85    \u001b[0m | \u001b[0m247.7    \u001b[0m | \u001b[0m8.206    \u001b[0m | \u001b[0m0.8441   \u001b[0m |\n",
      "| \u001b[0m62       \u001b[0m | \u001b[0m-0.03684 \u001b[0m | \u001b[0m0.8489   \u001b[0m | \u001b[0m0.4319   \u001b[0m | \u001b[0m7.772    \u001b[0m | \u001b[0m3.476    \u001b[0m | \u001b[0m269.0    \u001b[0m | \u001b[0m10.0     \u001b[0m | \u001b[0m0.9053   \u001b[0m |\n",
      "| \u001b[0m63       \u001b[0m | \u001b[0m-0.03932 \u001b[0m | \u001b[0m0.7052   \u001b[0m | \u001b[0m0.1374   \u001b[0m | \u001b[0m9.796    \u001b[0m | \u001b[0m5.281    \u001b[0m | \u001b[0m271.2    \u001b[0m | \u001b[0m10.0     \u001b[0m | \u001b[0m0.7222   \u001b[0m |\n",
      "| \u001b[0m64       \u001b[0m | \u001b[0m-0.03766 \u001b[0m | \u001b[0m0.7      \u001b[0m | \u001b[0m0.4722   \u001b[0m | \u001b[0m7.251    \u001b[0m | \u001b[0m14.23    \u001b[0m | \u001b[0m250.1    \u001b[0m | \u001b[0m8.529    \u001b[0m | \u001b[0m1.0      \u001b[0m |\n",
      "| \u001b[0m65       \u001b[0m | \u001b[0m-0.04436 \u001b[0m | \u001b[0m0.8291   \u001b[0m | \u001b[0m0.1666   \u001b[0m | \u001b[0m9.837    \u001b[0m | \u001b[0m4.006    \u001b[0m | \u001b[0m255.4    \u001b[0m | \u001b[0m5.14     \u001b[0m | \u001b[0m0.8632   \u001b[0m |\n",
      "| \u001b[0m66       \u001b[0m | \u001b[0m-0.0377  \u001b[0m | \u001b[0m0.813    \u001b[0m | \u001b[0m0.2356   \u001b[0m | \u001b[0m4.313    \u001b[0m | \u001b[0m3.255    \u001b[0m | \u001b[0m249.0    \u001b[0m | \u001b[0m9.657    \u001b[0m | \u001b[0m0.8014   \u001b[0m |\n",
      "| \u001b[0m67       \u001b[0m | \u001b[0m-0.0445  \u001b[0m | \u001b[0m0.708    \u001b[0m | \u001b[0m0.06135  \u001b[0m | \u001b[0m6.011    \u001b[0m | \u001b[0m2.021    \u001b[0m | \u001b[0m251.5    \u001b[0m | \u001b[0m9.88     \u001b[0m | \u001b[0m0.7663   \u001b[0m |\n",
      "| \u001b[0m68       \u001b[0m | \u001b[0m-0.04286 \u001b[0m | \u001b[0m0.7      \u001b[0m | \u001b[0m0.13     \u001b[0m | \u001b[0m8.897    \u001b[0m | \u001b[0m15.0     \u001b[0m | \u001b[0m253.5    \u001b[0m | \u001b[0m6.994    \u001b[0m | \u001b[0m1.0      \u001b[0m |\n",
      "| \u001b[0m69       \u001b[0m | \u001b[0m-0.03759 \u001b[0m | \u001b[0m0.7      \u001b[0m | \u001b[0m0.5      \u001b[0m | \u001b[0m10.0     \u001b[0m | \u001b[0m4.805    \u001b[0m | \u001b[0m257.3    \u001b[0m | \u001b[0m10.0     \u001b[0m | \u001b[0m1.0      \u001b[0m |\n",
      "| \u001b[95m70       \u001b[0m | \u001b[95m-0.03533 \u001b[0m | \u001b[95m0.729    \u001b[0m | \u001b[95m0.3295   \u001b[0m | \u001b[95m8.982    \u001b[0m | \u001b[95m1.292    \u001b[0m | \u001b[95m384.4    \u001b[0m | \u001b[95m9.749    \u001b[0m | \u001b[95m0.8959   \u001b[0m |\n",
      "| \u001b[0m71       \u001b[0m | \u001b[0m-0.036   \u001b[0m | \u001b[0m0.9419   \u001b[0m | \u001b[0m0.3152   \u001b[0m | \u001b[0m6.953    \u001b[0m | \u001b[0m3.675    \u001b[0m | \u001b[0m383.6    \u001b[0m | \u001b[0m8.115    \u001b[0m | \u001b[0m0.7747   \u001b[0m |\n",
      "| \u001b[0m72       \u001b[0m | \u001b[0m-0.06286 \u001b[0m | \u001b[0m0.7      \u001b[0m | \u001b[0m0.01     \u001b[0m | \u001b[0m10.0     \u001b[0m | \u001b[0m5.025    \u001b[0m | \u001b[0m383.8    \u001b[0m | \u001b[0m10.0     \u001b[0m | \u001b[0m1.0      \u001b[0m |\n",
      "| \u001b[0m73       \u001b[0m | \u001b[0m-0.03652 \u001b[0m | \u001b[0m0.862    \u001b[0m | \u001b[0m0.3089   \u001b[0m | \u001b[0m7.481    \u001b[0m | \u001b[0m1.64     \u001b[0m | \u001b[0m386.4    \u001b[0m | \u001b[0m7.197    \u001b[0m | \u001b[0m0.7926   \u001b[0m |\n",
      "| \u001b[0m74       \u001b[0m | \u001b[0m-0.03605 \u001b[0m | \u001b[0m0.7392   \u001b[0m | \u001b[0m0.208    \u001b[0m | \u001b[0m5.759    \u001b[0m | \u001b[0m1.855    \u001b[0m | \u001b[0m385.3    \u001b[0m | \u001b[0m9.516    \u001b[0m | \u001b[0m0.7218   \u001b[0m |\n",
      "| \u001b[0m75       \u001b[0m | \u001b[0m-0.03672 \u001b[0m | \u001b[0m0.95     \u001b[0m | \u001b[0m0.5      \u001b[0m | \u001b[0m8.44     \u001b[0m | \u001b[0m1.0      \u001b[0m | \u001b[0m388.5    \u001b[0m | \u001b[0m10.0     \u001b[0m | \u001b[0m0.8438   \u001b[0m |\n",
      "| \u001b[0m76       \u001b[0m | \u001b[0m-0.03647 \u001b[0m | \u001b[0m0.95     \u001b[0m | \u001b[0m0.5      \u001b[0m | \u001b[0m6.455    \u001b[0m | \u001b[0m1.0      \u001b[0m | \u001b[0m382.0    \u001b[0m | \u001b[0m6.72     \u001b[0m | \u001b[0m1.0      \u001b[0m |\n",
      "| \u001b[0m77       \u001b[0m | \u001b[0m-0.03575 \u001b[0m | \u001b[0m0.7954   \u001b[0m | \u001b[0m0.3772   \u001b[0m | \u001b[0m5.603    \u001b[0m | \u001b[0m4.374    \u001b[0m | \u001b[0m390.6    \u001b[0m | \u001b[0m8.677    \u001b[0m | \u001b[0m0.8106   \u001b[0m |\n",
      "| \u001b[0m78       \u001b[0m | \u001b[0m-0.03701 \u001b[0m | \u001b[0m0.8624   \u001b[0m | \u001b[0m0.2633   \u001b[0m | \u001b[0m4.094    \u001b[0m | \u001b[0m6.591    \u001b[0m | \u001b[0m386.8    \u001b[0m | \u001b[0m7.42     \u001b[0m | \u001b[0m0.7065   \u001b[0m |\n",
      "| \u001b[0m79       \u001b[0m | \u001b[0m-0.03775 \u001b[0m | \u001b[0m0.95     \u001b[0m | \u001b[0m0.5      \u001b[0m | \u001b[0m4.0      \u001b[0m | \u001b[0m3.584    \u001b[0m | \u001b[0m384.1    \u001b[0m | \u001b[0m5.439    \u001b[0m | \u001b[0m0.7      \u001b[0m |\n",
      "| \u001b[0m80       \u001b[0m | \u001b[0m-0.03742 \u001b[0m | \u001b[0m0.8855   \u001b[0m | \u001b[0m0.5      \u001b[0m | \u001b[0m5.08     \u001b[0m | \u001b[0m4.165    \u001b[0m | \u001b[0m286.8    \u001b[0m | \u001b[0m8.405    \u001b[0m | \u001b[0m1.0      \u001b[0m |\n",
      "| \u001b[0m81       \u001b[0m | \u001b[0m-0.03705 \u001b[0m | \u001b[0m0.95     \u001b[0m | \u001b[0m0.5      \u001b[0m | \u001b[0m4.0      \u001b[0m | \u001b[0m4.334    \u001b[0m | \u001b[0m380.2    \u001b[0m | \u001b[0m7.866    \u001b[0m | \u001b[0m0.7      \u001b[0m |\n",
      "| \u001b[0m82       \u001b[0m | \u001b[0m-0.04918 \u001b[0m | \u001b[0m0.8906   \u001b[0m | \u001b[0m0.0813   \u001b[0m | \u001b[0m8.347    \u001b[0m | \u001b[0m2.662    \u001b[0m | \u001b[0m286.7    \u001b[0m | \u001b[0m5.142    \u001b[0m | \u001b[0m0.9268   \u001b[0m |\n",
      "| \u001b[0m83       \u001b[0m | \u001b[0m-0.03663 \u001b[0m | \u001b[0m0.95     \u001b[0m | \u001b[0m0.5      \u001b[0m | \u001b[0m5.296    \u001b[0m | \u001b[0m8.281    \u001b[0m | \u001b[0m389.9    \u001b[0m | \u001b[0m10.0     \u001b[0m | \u001b[0m0.7      \u001b[0m |\n",
      "| \u001b[0m84       \u001b[0m | \u001b[0m-0.05781 \u001b[0m | \u001b[0m0.7      \u001b[0m | \u001b[0m0.5      \u001b[0m | \u001b[0m10.0     \u001b[0m | \u001b[0m12.78    \u001b[0m | \u001b[0m347.3    \u001b[0m | \u001b[0m2.04     \u001b[0m | \u001b[0m1.0      \u001b[0m |\n",
      "| \u001b[0m85       \u001b[0m | \u001b[0m-0.03717 \u001b[0m | \u001b[0m0.9016   \u001b[0m | \u001b[0m0.5      \u001b[0m | \u001b[0m4.136    \u001b[0m | \u001b[0m1.087    \u001b[0m | \u001b[0m284.5    \u001b[0m | \u001b[0m10.0     \u001b[0m | \u001b[0m0.7      \u001b[0m |\n",
      "| \u001b[0m86       \u001b[0m | \u001b[0m-0.03683 \u001b[0m | \u001b[0m0.95     \u001b[0m | \u001b[0m0.5      \u001b[0m | \u001b[0m4.0      \u001b[0m | \u001b[0m4.298    \u001b[0m | \u001b[0m387.9    \u001b[0m | \u001b[0m10.0     \u001b[0m | \u001b[0m1.0      \u001b[0m |\n",
      "| \u001b[0m87       \u001b[0m | \u001b[0m-0.03676 \u001b[0m | \u001b[0m0.95     \u001b[0m | \u001b[0m0.5      \u001b[0m | \u001b[0m9.115    \u001b[0m | \u001b[0m5.552    \u001b[0m | \u001b[0m391.3    \u001b[0m | \u001b[0m10.0     \u001b[0m | \u001b[0m1.0      \u001b[0m |\n",
      "| \u001b[0m88       \u001b[0m | \u001b[0m-0.03638 \u001b[0m | \u001b[0m0.95     \u001b[0m | \u001b[0m0.5      \u001b[0m | \u001b[0m6.854    \u001b[0m | \u001b[0m7.7      \u001b[0m | \u001b[0m392.4    \u001b[0m | \u001b[0m6.528    \u001b[0m | \u001b[0m1.0      \u001b[0m |\n",
      "| \u001b[0m89       \u001b[0m | \u001b[0m-0.03748 \u001b[0m | \u001b[0m0.8563   \u001b[0m | \u001b[0m0.1314   \u001b[0m | \u001b[0m5.321    \u001b[0m | \u001b[0m6.18     \u001b[0m | \u001b[0m394.6    \u001b[0m | \u001b[0m9.794    \u001b[0m | \u001b[0m0.8813   \u001b[0m |\n"
     ]
    },
    {
     "name": "stdout",
     "output_type": "stream",
     "text": [
      "| \u001b[0m90       \u001b[0m | \u001b[0m-0.0376  \u001b[0m | \u001b[0m0.7      \u001b[0m | \u001b[0m0.5      \u001b[0m | \u001b[0m5.869    \u001b[0m | \u001b[0m5.859    \u001b[0m | \u001b[0m283.3    \u001b[0m | \u001b[0m10.0     \u001b[0m | \u001b[0m0.7      \u001b[0m |\n",
      "| \u001b[0m91       \u001b[0m | \u001b[0m-0.03783 \u001b[0m | \u001b[0m0.736    \u001b[0m | \u001b[0m0.196    \u001b[0m | \u001b[0m9.186    \u001b[0m | \u001b[0m2.365    \u001b[0m | \u001b[0m393.2    \u001b[0m | \u001b[0m6.832    \u001b[0m | \u001b[0m0.7223   \u001b[0m |\n",
      "| \u001b[0m92       \u001b[0m | \u001b[0m-0.0377  \u001b[0m | \u001b[0m0.95     \u001b[0m | \u001b[0m0.5      \u001b[0m | \u001b[0m4.62     \u001b[0m | \u001b[0m4.101    \u001b[0m | \u001b[0m394.0    \u001b[0m | \u001b[0m5.116    \u001b[0m | \u001b[0m1.0      \u001b[0m |\n",
      "| \u001b[0m93       \u001b[0m | \u001b[0m-0.04087 \u001b[0m | \u001b[0m0.8924   \u001b[0m | \u001b[0m0.287    \u001b[0m | \u001b[0m4.135    \u001b[0m | \u001b[0m4.539    \u001b[0m | \u001b[0m389.2    \u001b[0m | \u001b[0m3.669    \u001b[0m | \u001b[0m0.8251   \u001b[0m |\n",
      "| \u001b[0m94       \u001b[0m | \u001b[0m-0.03663 \u001b[0m | \u001b[0m0.8962   \u001b[0m | \u001b[0m0.3026   \u001b[0m | \u001b[0m8.941    \u001b[0m | \u001b[0m6.326    \u001b[0m | \u001b[0m396.0    \u001b[0m | \u001b[0m7.372    \u001b[0m | \u001b[0m0.8043   \u001b[0m |\n",
      "| \u001b[0m95       \u001b[0m | \u001b[0m-0.06232 \u001b[0m | \u001b[0m0.95     \u001b[0m | \u001b[0m0.01     \u001b[0m | \u001b[0m8.611    \u001b[0m | \u001b[0m10.01    \u001b[0m | \u001b[0m393.9    \u001b[0m | \u001b[0m10.0     \u001b[0m | \u001b[0m0.7      \u001b[0m |\n",
      "| \u001b[0m96       \u001b[0m | \u001b[0m-0.0365  \u001b[0m | \u001b[0m0.95     \u001b[0m | \u001b[0m0.5      \u001b[0m | \u001b[0m6.694    \u001b[0m | \u001b[0m2.855    \u001b[0m | \u001b[0m396.9    \u001b[0m | \u001b[0m8.322    \u001b[0m | \u001b[0m1.0      \u001b[0m |\n",
      "| \u001b[0m97       \u001b[0m | \u001b[0m-0.0448  \u001b[0m | \u001b[0m0.8805   \u001b[0m | \u001b[0m0.3644   \u001b[0m | \u001b[0m7.761    \u001b[0m | \u001b[0m6.694    \u001b[0m | \u001b[0m395.8    \u001b[0m | \u001b[0m3.248    \u001b[0m | \u001b[0m0.9795   \u001b[0m |\n",
      "| \u001b[0m98       \u001b[0m | \u001b[0m-0.04153 \u001b[0m | \u001b[0m0.7294   \u001b[0m | \u001b[0m0.0701   \u001b[0m | \u001b[0m5.928    \u001b[0m | \u001b[0m1.159    \u001b[0m | \u001b[0m393.7    \u001b[0m | \u001b[0m9.21     \u001b[0m | \u001b[0m0.9152   \u001b[0m |\n",
      "| \u001b[0m99       \u001b[0m | \u001b[0m-0.03688 \u001b[0m | \u001b[0m0.7454   \u001b[0m | \u001b[0m0.3681   \u001b[0m | \u001b[0m4.531    \u001b[0m | \u001b[0m7.632    \u001b[0m | \u001b[0m333.0    \u001b[0m | \u001b[0m8.18     \u001b[0m | \u001b[0m0.9374   \u001b[0m |\n",
      "| \u001b[0m100      \u001b[0m | \u001b[0m-0.03572 \u001b[0m | \u001b[0m0.8291   \u001b[0m | \u001b[0m0.3137   \u001b[0m | \u001b[0m7.485    \u001b[0m | \u001b[0m10.92    \u001b[0m | \u001b[0m333.4    \u001b[0m | \u001b[0m9.764    \u001b[0m | \u001b[0m0.9562   \u001b[0m |\n",
      "=============================================================================================================\n"
     ]
    }
   ],
   "source": [
    "# LGBM Maximize\n",
    "BO_lgbm_reg.maximize(init_points=50, n_iter=50)"
   ]
  },
  {
   "cell_type": "code",
   "execution_count": 16,
   "id": "94021d73",
   "metadata": {
    "collapsed": true
   },
   "outputs": [
    {
     "name": "stdout",
     "output_type": "stream",
     "text": [
      "|   iter    |  target   | max_depth | min_sa... | min_sa... | n_esti... |\n",
      "-------------------------------------------------------------------------\n",
      "| \u001b[0m1        \u001b[0m | \u001b[0m-0.1458  \u001b[0m | \u001b[0m5.768    \u001b[0m | \u001b[0m8.898    \u001b[0m | \u001b[0m4.49     \u001b[0m | \u001b[0m66.98    \u001b[0m |\n",
      "| \u001b[95m2        \u001b[0m | \u001b[95m-0.1179  \u001b[0m | \u001b[95m8.722    \u001b[0m | \u001b[95m10.53    \u001b[0m | \u001b[95m10.29    \u001b[0m | \u001b[95m193.9    \u001b[0m |\n",
      "| \u001b[0m3        \u001b[0m | \u001b[0m-0.1712  \u001b[0m | \u001b[0m4.234    \u001b[0m | \u001b[0m6.652    \u001b[0m | \u001b[0m14.29    \u001b[0m | \u001b[0m65.01    \u001b[0m |\n",
      "| \u001b[95m4        \u001b[0m | \u001b[95m-0.1175  \u001b[0m | \u001b[95m9.184    \u001b[0m | \u001b[95m13.4     \u001b[0m | \u001b[95m2.666    \u001b[0m | \u001b[95m213.1    \u001b[0m |\n",
      "| \u001b[0m5        \u001b[0m | \u001b[0m-0.1346  \u001b[0m | \u001b[0m7.311    \u001b[0m | \u001b[0m9.768    \u001b[0m | \u001b[0m8.286    \u001b[0m | \u001b[0m120.7    \u001b[0m |\n",
      "| \u001b[0m6        \u001b[0m | \u001b[0m-0.1448  \u001b[0m | \u001b[0m5.786    \u001b[0m | \u001b[0m9.3      \u001b[0m | \u001b[0m7.149    \u001b[0m | \u001b[0m247.2    \u001b[0m |\n",
      "| \u001b[0m7        \u001b[0m | \u001b[0m-0.1344  \u001b[0m | \u001b[0m6.511    \u001b[0m | \u001b[0m3.871    \u001b[0m | \u001b[0m3.962    \u001b[0m | \u001b[0m63.81    \u001b[0m |\n",
      "| \u001b[0m8        \u001b[0m | \u001b[0m-0.1252  \u001b[0m | \u001b[0m8.308    \u001b[0m | \u001b[0m5.8      \u001b[0m | \u001b[0m4.584    \u001b[0m | \u001b[0m257.8    \u001b[0m |\n",
      "| \u001b[0m9        \u001b[0m | \u001b[0m-0.1351  \u001b[0m | \u001b[0m7.408    \u001b[0m | \u001b[0m3.07     \u001b[0m | \u001b[0m9.085    \u001b[0m | \u001b[0m89.74    \u001b[0m |\n",
      "| \u001b[0m10       \u001b[0m | \u001b[0m-0.1252  \u001b[0m | \u001b[0m8.061    \u001b[0m | \u001b[0m3.54     \u001b[0m | \u001b[0m7.785    \u001b[0m | \u001b[0m272.0    \u001b[0m |\n",
      "| \u001b[95m11       \u001b[0m | \u001b[95m-0.1166  \u001b[0m | \u001b[95m8.784    \u001b[0m | \u001b[95m2.884    \u001b[0m | \u001b[95m14.49    \u001b[0m | \u001b[95m214.8    \u001b[0m |\n",
      "| \u001b[0m12       \u001b[0m | \u001b[0m-0.1256  \u001b[0m | \u001b[0m8.313    \u001b[0m | \u001b[0m11.67    \u001b[0m | \u001b[0m13.54    \u001b[0m | \u001b[0m83.49    \u001b[0m |\n",
      "| \u001b[0m13       \u001b[0m | \u001b[0m-0.118   \u001b[0m | \u001b[0m8.662    \u001b[0m | \u001b[0m12.89    \u001b[0m | \u001b[0m12.78    \u001b[0m | \u001b[0m57.29    \u001b[0m |\n",
      "| \u001b[0m14       \u001b[0m | \u001b[0m-0.1454  \u001b[0m | \u001b[0m6.342    \u001b[0m | \u001b[0m7.684    \u001b[0m | \u001b[0m8.768    \u001b[0m | \u001b[0m173.2    \u001b[0m |\n",
      "| \u001b[0m15       \u001b[0m | \u001b[0m-0.1577  \u001b[0m | \u001b[0m4.783    \u001b[0m | \u001b[0m14.8     \u001b[0m | \u001b[0m2.854    \u001b[0m | \u001b[0m194.8    \u001b[0m |\n",
      "| \u001b[0m16       \u001b[0m | \u001b[0m-0.1355  \u001b[0m | \u001b[0m7.485    \u001b[0m | \u001b[0m14.41    \u001b[0m | \u001b[0m4.567    \u001b[0m | \u001b[0m70.83    \u001b[0m |\n",
      "| \u001b[0m17       \u001b[0m | \u001b[0m-0.1169  \u001b[0m | \u001b[0m9.303    \u001b[0m | \u001b[0m2.204    \u001b[0m | \u001b[0m12.34    \u001b[0m | \u001b[0m242.0    \u001b[0m |\n",
      "| \u001b[0m18       \u001b[0m | \u001b[0m-0.1182  \u001b[0m | \u001b[0m9.232    \u001b[0m | \u001b[0m13.91    \u001b[0m | \u001b[0m5.56     \u001b[0m | \u001b[0m109.1    \u001b[0m |\n",
      "| \u001b[0m19       \u001b[0m | \u001b[0m-0.1452  \u001b[0m | \u001b[0m5.863    \u001b[0m | \u001b[0m11.3     \u001b[0m | \u001b[0m3.076    \u001b[0m | \u001b[0m218.9    \u001b[0m |\n",
      "| \u001b[0m20       \u001b[0m | \u001b[0m-0.1179  \u001b[0m | \u001b[0m9.151    \u001b[0m | \u001b[0m11.01    \u001b[0m | \u001b[0m12.21    \u001b[0m | \u001b[0m138.3    \u001b[0m |\n",
      "| \u001b[0m21       \u001b[0m | \u001b[0m-0.1585  \u001b[0m | \u001b[0m5.321    \u001b[0m | \u001b[0m5.19     \u001b[0m | \u001b[0m11.46    \u001b[0m | \u001b[0m66.03    \u001b[0m |\n",
      "| \u001b[0m22       \u001b[0m | \u001b[0m-0.1367  \u001b[0m | \u001b[0m6.722    \u001b[0m | \u001b[0m8.34     \u001b[0m | \u001b[0m10.33    \u001b[0m | \u001b[0m76.54    \u001b[0m |\n",
      "| \u001b[0m23       \u001b[0m | \u001b[0m-0.1345  \u001b[0m | \u001b[0m7.442    \u001b[0m | \u001b[0m14.48    \u001b[0m | \u001b[0m8.704    \u001b[0m | \u001b[0m192.5    \u001b[0m |\n",
      "| \u001b[95m24       \u001b[0m | \u001b[95m-0.1112  \u001b[0m | \u001b[95m9.928    \u001b[0m | \u001b[95m12.83    \u001b[0m | \u001b[95m8.476    \u001b[0m | \u001b[95m70.04    \u001b[0m |\n",
      "| \u001b[0m25       \u001b[0m | \u001b[0m-0.1172  \u001b[0m | \u001b[0m9.226    \u001b[0m | \u001b[0m11.27    \u001b[0m | \u001b[0m11.52    \u001b[0m | \u001b[0m255.9    \u001b[0m |\n",
      "| \u001b[0m26       \u001b[0m | \u001b[0m-0.125   \u001b[0m | \u001b[0m8.47     \u001b[0m | \u001b[0m7.37     \u001b[0m | \u001b[0m8.691    \u001b[0m | \u001b[0m261.6    \u001b[0m |\n",
      "| \u001b[0m27       \u001b[0m | \u001b[0m-0.1168  \u001b[0m | \u001b[0m9.153    \u001b[0m | \u001b[0m6.037    \u001b[0m | \u001b[0m3.552    \u001b[0m | \u001b[0m180.2    \u001b[0m |\n",
      "| \u001b[0m28       \u001b[0m | \u001b[0m-0.1345  \u001b[0m | \u001b[0m6.694    \u001b[0m | \u001b[0m13.66    \u001b[0m | \u001b[0m8.41     \u001b[0m | \u001b[0m176.1    \u001b[0m |\n",
      "| \u001b[0m29       \u001b[0m | \u001b[0m-0.1457  \u001b[0m | \u001b[0m6.191    \u001b[0m | \u001b[0m12.18    \u001b[0m | \u001b[0m14.32    \u001b[0m | \u001b[0m82.5     \u001b[0m |\n",
      "| \u001b[0m30       \u001b[0m | \u001b[0m-0.1253  \u001b[0m | \u001b[0m7.967    \u001b[0m | \u001b[0m4.129    \u001b[0m | \u001b[0m6.016    \u001b[0m | \u001b[0m291.7    \u001b[0m |\n",
      "| \u001b[0m31       \u001b[0m | \u001b[0m-0.1351  \u001b[0m | \u001b[0m6.897    \u001b[0m | \u001b[0m9.03     \u001b[0m | \u001b[0m11.25    \u001b[0m | \u001b[0m221.9    \u001b[0m |\n",
      "| \u001b[0m32       \u001b[0m | \u001b[0m-0.1708  \u001b[0m | \u001b[0m4.222    \u001b[0m | \u001b[0m13.55    \u001b[0m | \u001b[0m4.452    \u001b[0m | \u001b[0m245.5    \u001b[0m |\n",
      "| \u001b[0m33       \u001b[0m | \u001b[0m-0.1259  \u001b[0m | \u001b[0m7.864    \u001b[0m | \u001b[0m8.31     \u001b[0m | \u001b[0m14.08    \u001b[0m | \u001b[0m117.5    \u001b[0m |\n",
      "| \u001b[0m34       \u001b[0m | \u001b[0m-0.1175  \u001b[0m | \u001b[0m8.885    \u001b[0m | \u001b[0m11.04    \u001b[0m | \u001b[0m5.062    \u001b[0m | \u001b[0m288.3    \u001b[0m |\n",
      "| \u001b[0m35       \u001b[0m | \u001b[0m-0.1256  \u001b[0m | \u001b[0m7.513    \u001b[0m | \u001b[0m9.58     \u001b[0m | \u001b[0m4.044    \u001b[0m | \u001b[0m156.3    \u001b[0m |\n",
      "| \u001b[0m36       \u001b[0m | \u001b[0m-0.1562  \u001b[0m | \u001b[0m5.41     \u001b[0m | \u001b[0m9.807    \u001b[0m | \u001b[0m6.688    \u001b[0m | \u001b[0m92.22    \u001b[0m |\n",
      "| \u001b[0m37       \u001b[0m | \u001b[0m-0.1447  \u001b[0m | \u001b[0m6.083    \u001b[0m | \u001b[0m4.789    \u001b[0m | \u001b[0m12.33    \u001b[0m | \u001b[0m247.9    \u001b[0m |\n",
      "| \u001b[0m38       \u001b[0m | \u001b[0m-0.1582  \u001b[0m | \u001b[0m4.987    \u001b[0m | \u001b[0m11.75    \u001b[0m | \u001b[0m2.727    \u001b[0m | \u001b[0m108.1    \u001b[0m |\n",
      "| \u001b[0m39       \u001b[0m | \u001b[0m-0.1257  \u001b[0m | \u001b[0m7.901    \u001b[0m | \u001b[0m11.34    \u001b[0m | \u001b[0m8.241    \u001b[0m | \u001b[0m134.4    \u001b[0m |\n",
      "| \u001b[0m40       \u001b[0m | \u001b[0m-0.1452  \u001b[0m | \u001b[0m6.338    \u001b[0m | \u001b[0m13.16    \u001b[0m | \u001b[0m8.648    \u001b[0m | \u001b[0m268.7    \u001b[0m |\n",
      "| \u001b[95m41       \u001b[0m | \u001b[95m-0.1106  \u001b[0m | \u001b[95m9.679    \u001b[0m | \u001b[95m14.16    \u001b[0m | \u001b[95m8.409    \u001b[0m | \u001b[95m200.1    \u001b[0m |\n",
      "| \u001b[0m42       \u001b[0m | \u001b[0m-0.1573  \u001b[0m | \u001b[0m5.243    \u001b[0m | \u001b[0m14.43    \u001b[0m | \u001b[0m14.83    \u001b[0m | \u001b[0m257.3    \u001b[0m |\n",
      "| \u001b[0m43       \u001b[0m | \u001b[0m-0.1345  \u001b[0m | \u001b[0m7.227    \u001b[0m | \u001b[0m3.086    \u001b[0m | \u001b[0m6.081    \u001b[0m | \u001b[0m76.53    \u001b[0m |\n",
      "| \u001b[0m44       \u001b[0m | \u001b[0m-0.157   \u001b[0m | \u001b[0m5.229    \u001b[0m | \u001b[0m6.232    \u001b[0m | \u001b[0m8.521    \u001b[0m | \u001b[0m269.6    \u001b[0m |\n",
      "| \u001b[0m45       \u001b[0m | \u001b[0m-0.146   \u001b[0m | \u001b[0m5.566    \u001b[0m | \u001b[0m8.892    \u001b[0m | \u001b[0m12.97    \u001b[0m | \u001b[0m84.14    \u001b[0m |\n",
      "| \u001b[0m46       \u001b[0m | \u001b[0m-0.1462  \u001b[0m | \u001b[0m6.401    \u001b[0m | \u001b[0m9.39     \u001b[0m | \u001b[0m4.419    \u001b[0m | \u001b[0m53.43    \u001b[0m |\n",
      "| \u001b[0m47       \u001b[0m | \u001b[0m-0.1249  \u001b[0m | \u001b[0m7.557    \u001b[0m | \u001b[0m2.204    \u001b[0m | \u001b[0m9.618    \u001b[0m | \u001b[0m152.2    \u001b[0m |\n",
      "| \u001b[0m48       \u001b[0m | \u001b[0m-0.1568  \u001b[0m | \u001b[0m5.372    \u001b[0m | \u001b[0m4.468    \u001b[0m | \u001b[0m13.87    \u001b[0m | \u001b[0m197.6    \u001b[0m |\n",
      "| \u001b[0m49       \u001b[0m | \u001b[0m-0.1572  \u001b[0m | \u001b[0m5.027    \u001b[0m | \u001b[0m11.29    \u001b[0m | \u001b[0m5.1      \u001b[0m | \u001b[0m280.5    \u001b[0m |\n",
      "| \u001b[0m50       \u001b[0m | \u001b[0m-0.1258  \u001b[0m | \u001b[0m8.328    \u001b[0m | \u001b[0m10.8     \u001b[0m | \u001b[0m14.83    \u001b[0m | \u001b[0m184.9    \u001b[0m |\n",
      "| \u001b[0m51       \u001b[0m | \u001b[0m-0.1179  \u001b[0m | \u001b[0m8.917    \u001b[0m | \u001b[0m12.97    \u001b[0m | \u001b[0m8.754    \u001b[0m | \u001b[0m198.0    \u001b[0m |\n",
      "| \u001b[0m52       \u001b[0m | \u001b[0m-0.1173  \u001b[0m | \u001b[0m9.454    \u001b[0m | \u001b[0m11.5     \u001b[0m | \u001b[0m7.829    \u001b[0m | \u001b[0m200.7    \u001b[0m |\n",
      "| \u001b[0m53       \u001b[0m | \u001b[0m-0.1106  \u001b[0m | \u001b[0m9.794    \u001b[0m | \u001b[0m12.7     \u001b[0m | \u001b[0m10.98    \u001b[0m | \u001b[0m201.3    \u001b[0m |\n",
      "| \u001b[0m54       \u001b[0m | \u001b[0m-0.1349  \u001b[0m | \u001b[0m6.728    \u001b[0m | \u001b[0m14.32    \u001b[0m | \u001b[0m10.49    \u001b[0m | \u001b[0m201.4    \u001b[0m |\n",
      "| \u001b[95m55       \u001b[0m | \u001b[95m-0.1102  \u001b[0m | \u001b[95m9.711    \u001b[0m | \u001b[95m10.61    \u001b[0m | \u001b[95m11.77    \u001b[0m | \u001b[95m197.8    \u001b[0m |\n",
      "| \u001b[0m56       \u001b[0m | \u001b[0m-0.1115  \u001b[0m | \u001b[0m10.0     \u001b[0m | \u001b[0m14.9     \u001b[0m | \u001b[0m11.0     \u001b[0m | \u001b[0m70.31    \u001b[0m |\n",
      "| \u001b[95m57       \u001b[0m | \u001b[95m-0.1096  \u001b[0m | \u001b[95m9.509    \u001b[0m | \u001b[95m14.21    \u001b[0m | \u001b[95m10.04    \u001b[0m | \u001b[95m73.5     \u001b[0m |\n",
      "| \u001b[0m58       \u001b[0m | \u001b[0m-0.1104  \u001b[0m | \u001b[0m9.737    \u001b[0m | \u001b[0m10.59    \u001b[0m | \u001b[0m11.33    \u001b[0m | \u001b[0m71.89    \u001b[0m |\n",
      "| \u001b[0m59       \u001b[0m | \u001b[0m-0.1104  \u001b[0m | \u001b[0m10.0     \u001b[0m | \u001b[0m14.13    \u001b[0m | \u001b[0m13.44    \u001b[0m | \u001b[0m197.3    \u001b[0m |\n",
      "| \u001b[0m60       \u001b[0m | \u001b[0m-0.1106  \u001b[0m | \u001b[0m10.0     \u001b[0m | \u001b[0m13.93    \u001b[0m | \u001b[0m5.159    \u001b[0m | \u001b[0m207.7    \u001b[0m |\n",
      "| \u001b[0m61       \u001b[0m | \u001b[0m-0.1097  \u001b[0m | \u001b[0m10.0     \u001b[0m | \u001b[0m10.25    \u001b[0m | \u001b[0m7.715    \u001b[0m | \u001b[0m209.9    \u001b[0m |\n",
      "| \u001b[0m62       \u001b[0m | \u001b[0m-0.1179  \u001b[0m | \u001b[0m8.851    \u001b[0m | \u001b[0m8.822    \u001b[0m | \u001b[0m4.006    \u001b[0m | \u001b[0m208.2    \u001b[0m |\n",
      "| \u001b[0m63       \u001b[0m | \u001b[0m-0.1106  \u001b[0m | \u001b[0m10.0     \u001b[0m | \u001b[0m15.0     \u001b[0m | \u001b[0m9.278    \u001b[0m | \u001b[0m211.1    \u001b[0m |\n",
      "| \u001b[0m64       \u001b[0m | \u001b[0m-0.1101  \u001b[0m | \u001b[0m10.0     \u001b[0m | \u001b[0m10.07    \u001b[0m | \u001b[0m13.84    \u001b[0m | \u001b[0m210.5    \u001b[0m |\n",
      "| \u001b[95m65       \u001b[0m | \u001b[95m-0.1096  \u001b[0m | \u001b[95m9.843    \u001b[0m | \u001b[95m4.243    \u001b[0m | \u001b[95m11.3     \u001b[0m | \u001b[95m210.5    \u001b[0m |\n",
      "| \u001b[0m66       \u001b[0m | \u001b[0m-0.1565  \u001b[0m | \u001b[0m5.206    \u001b[0m | \u001b[0m7.544    \u001b[0m | \u001b[0m11.68    \u001b[0m | \u001b[0m211.6    \u001b[0m |\n"
     ]
    },
    {
     "name": "stdout",
     "output_type": "stream",
     "text": [
      "| \u001b[0m67       \u001b[0m | \u001b[0m-0.1101  \u001b[0m | \u001b[0m9.854    \u001b[0m | \u001b[0m10.11    \u001b[0m | \u001b[0m12.27    \u001b[0m | \u001b[0m205.5    \u001b[0m |\n",
      "| \u001b[95m68       \u001b[0m | \u001b[95m-0.1093  \u001b[0m | \u001b[95m9.522    \u001b[0m | \u001b[95m3.275    \u001b[0m | \u001b[95m14.91    \u001b[0m | \u001b[95m208.2    \u001b[0m |\n",
      "| \u001b[0m69       \u001b[0m | \u001b[0m-0.111   \u001b[0m | \u001b[0m10.0     \u001b[0m | \u001b[0m15.0     \u001b[0m | \u001b[0m11.6     \u001b[0m | \u001b[0m110.2    \u001b[0m |\n",
      "| \u001b[0m70       \u001b[0m | \u001b[0m-0.1094  \u001b[0m | \u001b[0m10.0     \u001b[0m | \u001b[0m2.0      \u001b[0m | \u001b[0m8.893    \u001b[0m | \u001b[0m206.3    \u001b[0m |\n",
      "| \u001b[0m71       \u001b[0m | \u001b[0m-0.1107  \u001b[0m | \u001b[0m10.0     \u001b[0m | \u001b[0m15.0     \u001b[0m | \u001b[0m15.0     \u001b[0m | \u001b[0m207.7    \u001b[0m |\n",
      "| \u001b[0m72       \u001b[0m | \u001b[0m-0.1096  \u001b[0m | \u001b[0m10.0     \u001b[0m | \u001b[0m2.0      \u001b[0m | \u001b[0m14.8     \u001b[0m | \u001b[0m235.0    \u001b[0m |\n",
      "| \u001b[0m73       \u001b[0m | \u001b[0m-0.1093  \u001b[0m | \u001b[0m10.0     \u001b[0m | \u001b[0m2.0      \u001b[0m | \u001b[0m8.193    \u001b[0m | \u001b[0m235.3    \u001b[0m |\n",
      "| \u001b[0m74       \u001b[0m | \u001b[0m-0.1702  \u001b[0m | \u001b[0m4.0      \u001b[0m | \u001b[0m2.0      \u001b[0m | \u001b[0m11.65    \u001b[0m | \u001b[0m234.6    \u001b[0m |\n",
      "| \u001b[95m75       \u001b[0m | \u001b[95m-0.1088  \u001b[0m | \u001b[95m10.0     \u001b[0m | \u001b[95m2.0      \u001b[0m | \u001b[95m4.108    \u001b[0m | \u001b[95m239.6    \u001b[0m |\n",
      "| \u001b[0m76       \u001b[0m | \u001b[0m-0.1093  \u001b[0m | \u001b[0m9.996    \u001b[0m | \u001b[0m2.362    \u001b[0m | \u001b[0m3.594    \u001b[0m | \u001b[0m231.8    \u001b[0m |\n",
      "| \u001b[0m77       \u001b[0m | \u001b[0m-0.1095  \u001b[0m | \u001b[0m10.0     \u001b[0m | \u001b[0m6.49     \u001b[0m | \u001b[0m2.0      \u001b[0m | \u001b[0m235.5    \u001b[0m |\n",
      "| \u001b[0m78       \u001b[0m | \u001b[0m-0.1178  \u001b[0m | \u001b[0m9.489    \u001b[0m | \u001b[0m13.97    \u001b[0m | \u001b[0m6.375    \u001b[0m | \u001b[0m295.9    \u001b[0m |\n",
      "| \u001b[0m79       \u001b[0m | \u001b[0m-0.11    \u001b[0m | \u001b[0m10.0     \u001b[0m | \u001b[0m9.458    \u001b[0m | \u001b[0m15.0     \u001b[0m | \u001b[0m106.7    \u001b[0m |\n",
      "| \u001b[0m80       \u001b[0m | \u001b[0m-0.1466  \u001b[0m | \u001b[0m5.942    \u001b[0m | \u001b[0m14.48    \u001b[0m | \u001b[0m14.74    \u001b[0m | \u001b[0m106.0    \u001b[0m |\n",
      "| \u001b[0m81       \u001b[0m | \u001b[0m-0.109   \u001b[0m | \u001b[0m10.0     \u001b[0m | \u001b[0m3.353    \u001b[0m | \u001b[0m15.0     \u001b[0m | \u001b[0m108.7    \u001b[0m |\n",
      "| \u001b[0m82       \u001b[0m | \u001b[0m-0.1101  \u001b[0m | \u001b[0m10.0     \u001b[0m | \u001b[0m7.963    \u001b[0m | \u001b[0m10.67    \u001b[0m | \u001b[0m110.3    \u001b[0m |\n",
      "| \u001b[0m83       \u001b[0m | \u001b[0m-0.1092  \u001b[0m | \u001b[0m10.0     \u001b[0m | \u001b[0m2.883    \u001b[0m | \u001b[0m15.0     \u001b[0m | \u001b[0m102.1    \u001b[0m |\n",
      "| \u001b[0m84       \u001b[0m | \u001b[0m-0.1095  \u001b[0m | \u001b[0m10.0     \u001b[0m | \u001b[0m2.0      \u001b[0m | \u001b[0m9.349    \u001b[0m | \u001b[0m105.2    \u001b[0m |\n",
      "| \u001b[0m85       \u001b[0m | \u001b[0m-0.11    \u001b[0m | \u001b[0m10.0     \u001b[0m | \u001b[0m12.49    \u001b[0m | \u001b[0m14.68    \u001b[0m | \u001b[0m291.9    \u001b[0m |\n",
      "| \u001b[0m86       \u001b[0m | \u001b[0m-0.1709  \u001b[0m | \u001b[0m4.0      \u001b[0m | \u001b[0m13.67    \u001b[0m | \u001b[0m15.0     \u001b[0m | \u001b[0m296.8    \u001b[0m |\n",
      "| \u001b[0m87       \u001b[0m | \u001b[0m-0.1097  \u001b[0m | \u001b[0m10.0     \u001b[0m | \u001b[0m8.4      \u001b[0m | \u001b[0m15.0     \u001b[0m | \u001b[0m287.1    \u001b[0m |\n",
      "| \u001b[0m88       \u001b[0m | \u001b[0m-0.171   \u001b[0m | \u001b[0m4.0      \u001b[0m | \u001b[0m2.0      \u001b[0m | \u001b[0m14.4     \u001b[0m | \u001b[0m105.6    \u001b[0m |\n",
      "| \u001b[0m89       \u001b[0m | \u001b[0m-0.111   \u001b[0m | \u001b[0m10.0     \u001b[0m | \u001b[0m15.0     \u001b[0m | \u001b[0m14.41    \u001b[0m | \u001b[0m286.4    \u001b[0m |\n",
      "| \u001b[0m90       \u001b[0m | \u001b[0m-0.11    \u001b[0m | \u001b[0m10.0     \u001b[0m | \u001b[0m8.499    \u001b[0m | \u001b[0m15.0     \u001b[0m | \u001b[0m236.9    \u001b[0m |\n",
      "| \u001b[0m91       \u001b[0m | \u001b[0m-0.1092  \u001b[0m | \u001b[0m10.0     \u001b[0m | \u001b[0m2.0      \u001b[0m | \u001b[0m15.0     \u001b[0m | \u001b[0m280.0    \u001b[0m |\n",
      "| \u001b[0m92       \u001b[0m | \u001b[0m-0.145   \u001b[0m | \u001b[0m5.595    \u001b[0m | \u001b[0m2.683    \u001b[0m | \u001b[0m14.52    \u001b[0m | \u001b[0m285.1    \u001b[0m |\n",
      "| \u001b[0m93       \u001b[0m | \u001b[0m-0.1102  \u001b[0m | \u001b[0m10.0     \u001b[0m | \u001b[0m9.119    \u001b[0m | \u001b[0m8.208    \u001b[0m | \u001b[0m233.2    \u001b[0m |\n",
      "| \u001b[0m94       \u001b[0m | \u001b[0m-0.1111  \u001b[0m | \u001b[0m10.0     \u001b[0m | \u001b[0m14.91    \u001b[0m | \u001b[0m15.0     \u001b[0m | \u001b[0m231.8    \u001b[0m |\n",
      "| \u001b[0m95       \u001b[0m | \u001b[0m-0.11    \u001b[0m | \u001b[0m10.0     \u001b[0m | \u001b[0m7.942    \u001b[0m | \u001b[0m15.0     \u001b[0m | \u001b[0m230.1    \u001b[0m |\n",
      "| \u001b[0m96       \u001b[0m | \u001b[0m-0.1577  \u001b[0m | \u001b[0m5.437    \u001b[0m | \u001b[0m14.99    \u001b[0m | \u001b[0m14.08    \u001b[0m | \u001b[0m147.6    \u001b[0m |\n",
      "| \u001b[0m97       \u001b[0m | \u001b[0m-0.1101  \u001b[0m | \u001b[0m9.93     \u001b[0m | \u001b[0m2.281    \u001b[0m | \u001b[0m14.69    \u001b[0m | \u001b[0m133.6    \u001b[0m |\n",
      "| \u001b[0m98       \u001b[0m | \u001b[0m-0.1089  \u001b[0m | \u001b[0m10.0     \u001b[0m | \u001b[0m2.0      \u001b[0m | \u001b[0m9.764    \u001b[0m | \u001b[0m139.5    \u001b[0m |\n",
      "| \u001b[0m99       \u001b[0m | \u001b[0m-0.171   \u001b[0m | \u001b[0m4.0      \u001b[0m | \u001b[0m2.0      \u001b[0m | \u001b[0m14.84    \u001b[0m | \u001b[0m138.5    \u001b[0m |\n",
      "| \u001b[0m100      \u001b[0m | \u001b[0m-0.1102  \u001b[0m | \u001b[0m9.862    \u001b[0m | \u001b[0m2.248    \u001b[0m | \u001b[0m6.614    \u001b[0m | \u001b[0m132.9    \u001b[0m |\n",
      "=========================================================================\n"
     ]
    }
   ],
   "source": [
    "# ExtraTrees Maximize\n",
    "BO_et_reg.maximize(init_points=50, n_iter=50)"
   ]
  },
  {
   "cell_type": "code",
   "execution_count": 18,
   "id": "6e51e57d",
   "metadata": {},
   "outputs": [],
   "source": [
    "# Catboost Max Parameters\n",
    "'''cb_reg_max_params = BO_cb_reg.max['params']\n",
    "cb_reg_max_params['n_estimators'] = int(round(cb_reg_max_params['n_estimators']))\n",
    "cb_reg_max_params['max_depth'] = int(round(cb_reg_max_params['max_depth']))'''\n",
    "\n",
    "# XGB Max Parameters\n",
    "xgb_reg_max_params = BO_xgb_reg.max['params']\n",
    "xgb_reg_max_params['n_estimators'] = int(round(xgb_reg_max_params['n_estimators']))\n",
    "xgb_reg_max_params['max_depth'] = int(round(xgb_reg_max_params['max_depth']))\n",
    "\n",
    "# LGBM Max Parameters\n",
    "lgbm_reg_max_params = BO_lgbm_reg.max['params']\n",
    "lgbm_reg_max_params['n_estimators'] = int(round(lgbm_reg_max_params['n_estimators']))\n",
    "lgbm_reg_max_params['max_depth'] = int(round(lgbm_reg_max_params['max_depth']))\n",
    "lgbm_reg_max_params['num_leaves'] = int(round(lgbm_reg_max_params['num_leaves']))\n",
    "\n",
    "# ExtraTrees Max Parameters\n",
    "et_reg_max_params = BO_et_reg.max['params']\n",
    "et_reg_max_params['n_estimators'] = int(round(et_reg_max_params['n_estimators']))\n",
    "et_reg_max_params['max_depth'] = int(round(et_reg_max_params['max_depth']))\n",
    "et_reg_max_params['min_samples_split'] = int(round(et_reg_max_params['min_samples_split']))\n",
    "et_reg_max_params['min_samples_leaf'] = int(round(et_reg_max_params['min_samples_leaf']))"
   ]
  },
  {
   "cell_type": "markdown",
   "id": "e0930b75",
   "metadata": {},
   "source": [
    "tune_cb_reg = CatBoostRegressor(**cb_reg_max_params)\n",
    "tune_cb_reg.fit(train_s,train_y)"
   ]
  },
  {
   "cell_type": "code",
   "execution_count": 19,
   "id": "b10ce999",
   "metadata": {},
   "outputs": [
    {
     "data": {
      "text/html": [
       "<style>#sk-container-id-1 {color: black;background-color: white;}#sk-container-id-1 pre{padding: 0;}#sk-container-id-1 div.sk-toggleable {background-color: white;}#sk-container-id-1 label.sk-toggleable__label {cursor: pointer;display: block;width: 100%;margin-bottom: 0;padding: 0.3em;box-sizing: border-box;text-align: center;}#sk-container-id-1 label.sk-toggleable__label-arrow:before {content: \"▸\";float: left;margin-right: 0.25em;color: #696969;}#sk-container-id-1 label.sk-toggleable__label-arrow:hover:before {color: black;}#sk-container-id-1 div.sk-estimator:hover label.sk-toggleable__label-arrow:before {color: black;}#sk-container-id-1 div.sk-toggleable__content {max-height: 0;max-width: 0;overflow: hidden;text-align: left;background-color: #f0f8ff;}#sk-container-id-1 div.sk-toggleable__content pre {margin: 0.2em;color: black;border-radius: 0.25em;background-color: #f0f8ff;}#sk-container-id-1 input.sk-toggleable__control:checked~div.sk-toggleable__content {max-height: 200px;max-width: 100%;overflow: auto;}#sk-container-id-1 input.sk-toggleable__control:checked~label.sk-toggleable__label-arrow:before {content: \"▾\";}#sk-container-id-1 div.sk-estimator input.sk-toggleable__control:checked~label.sk-toggleable__label {background-color: #d4ebff;}#sk-container-id-1 div.sk-label input.sk-toggleable__control:checked~label.sk-toggleable__label {background-color: #d4ebff;}#sk-container-id-1 input.sk-hidden--visually {border: 0;clip: rect(1px 1px 1px 1px);clip: rect(1px, 1px, 1px, 1px);height: 1px;margin: -1px;overflow: hidden;padding: 0;position: absolute;width: 1px;}#sk-container-id-1 div.sk-estimator {font-family: monospace;background-color: #f0f8ff;border: 1px dotted black;border-radius: 0.25em;box-sizing: border-box;margin-bottom: 0.5em;}#sk-container-id-1 div.sk-estimator:hover {background-color: #d4ebff;}#sk-container-id-1 div.sk-parallel-item::after {content: \"\";width: 100%;border-bottom: 1px solid gray;flex-grow: 1;}#sk-container-id-1 div.sk-label:hover label.sk-toggleable__label {background-color: #d4ebff;}#sk-container-id-1 div.sk-serial::before {content: \"\";position: absolute;border-left: 1px solid gray;box-sizing: border-box;top: 0;bottom: 0;left: 50%;z-index: 0;}#sk-container-id-1 div.sk-serial {display: flex;flex-direction: column;align-items: center;background-color: white;padding-right: 0.2em;padding-left: 0.2em;position: relative;}#sk-container-id-1 div.sk-item {position: relative;z-index: 1;}#sk-container-id-1 div.sk-parallel {display: flex;align-items: stretch;justify-content: center;background-color: white;position: relative;}#sk-container-id-1 div.sk-item::before, #sk-container-id-1 div.sk-parallel-item::before {content: \"\";position: absolute;border-left: 1px solid gray;box-sizing: border-box;top: 0;bottom: 0;left: 50%;z-index: -1;}#sk-container-id-1 div.sk-parallel-item {display: flex;flex-direction: column;z-index: 1;position: relative;background-color: white;}#sk-container-id-1 div.sk-parallel-item:first-child::after {align-self: flex-end;width: 50%;}#sk-container-id-1 div.sk-parallel-item:last-child::after {align-self: flex-start;width: 50%;}#sk-container-id-1 div.sk-parallel-item:only-child::after {width: 0;}#sk-container-id-1 div.sk-dashed-wrapped {border: 1px dashed gray;margin: 0 0.4em 0.5em 0.4em;box-sizing: border-box;padding-bottom: 0.4em;background-color: white;}#sk-container-id-1 div.sk-label label {font-family: monospace;font-weight: bold;display: inline-block;line-height: 1.2em;}#sk-container-id-1 div.sk-label-container {text-align: center;}#sk-container-id-1 div.sk-container {/* jupyter's `normalize.less` sets `[hidden] { display: none; }` but bootstrap.min.css set `[hidden] { display: none !important; }` so we also need the `!important` here to be able to override the default hidden behavior on the sphinx rendered scikit-learn.org. See: https://github.com/scikit-learn/scikit-learn/issues/21755 */display: inline-block !important;position: relative;}#sk-container-id-1 div.sk-text-repr-fallback {display: none;}</style><div id=\"sk-container-id-1\" class=\"sk-top-container\"><div class=\"sk-text-repr-fallback\"><pre>XGBRegressor(base_score=0.5, booster=&#x27;gbtree&#x27;, callbacks=None,\n",
       "             colsample_bylevel=1, colsample_bynode=1,\n",
       "             colsample_bytree=0.7791682677670975, early_stopping_rounds=None,\n",
       "             enable_categorical=False, eval_metric=None, feature_types=None,\n",
       "             gamma=0, gpu_id=-1, grow_policy=&#x27;depthwise&#x27;, importance_type=None,\n",
       "             interaction_constraints=&#x27;&#x27;, learning_rate=0.06874001460156993,\n",
       "             max_bin=256, max_cat_threshold=64, max_cat_to_onehot=4,\n",
       "             max_delta_step=0, max_depth=9, max_leaves=0,\n",
       "             min_child_weight=8.225025470833163, missing=nan,\n",
       "             monotone_constraints=&#x27;()&#x27;, n_estimators=347, n_jobs=0,\n",
       "             num_parallel_tree=1, predictor=&#x27;auto&#x27;, random_state=0, ...)</pre><b>In a Jupyter environment, please rerun this cell to show the HTML representation or trust the notebook. <br />On GitHub, the HTML representation is unable to render, please try loading this page with nbviewer.org.</b></div><div class=\"sk-container\" hidden><div class=\"sk-item\"><div class=\"sk-estimator sk-toggleable\"><input class=\"sk-toggleable__control sk-hidden--visually\" id=\"sk-estimator-id-1\" type=\"checkbox\" checked><label for=\"sk-estimator-id-1\" class=\"sk-toggleable__label sk-toggleable__label-arrow\">XGBRegressor</label><div class=\"sk-toggleable__content\"><pre>XGBRegressor(base_score=0.5, booster=&#x27;gbtree&#x27;, callbacks=None,\n",
       "             colsample_bylevel=1, colsample_bynode=1,\n",
       "             colsample_bytree=0.7791682677670975, early_stopping_rounds=None,\n",
       "             enable_categorical=False, eval_metric=None, feature_types=None,\n",
       "             gamma=0, gpu_id=-1, grow_policy=&#x27;depthwise&#x27;, importance_type=None,\n",
       "             interaction_constraints=&#x27;&#x27;, learning_rate=0.06874001460156993,\n",
       "             max_bin=256, max_cat_threshold=64, max_cat_to_onehot=4,\n",
       "             max_delta_step=0, max_depth=9, max_leaves=0,\n",
       "             min_child_weight=8.225025470833163, missing=nan,\n",
       "             monotone_constraints=&#x27;()&#x27;, n_estimators=347, n_jobs=0,\n",
       "             num_parallel_tree=1, predictor=&#x27;auto&#x27;, random_state=0, ...)</pre></div></div></div></div></div>"
      ],
      "text/plain": [
       "XGBRegressor(base_score=0.5, booster='gbtree', callbacks=None,\n",
       "             colsample_bylevel=1, colsample_bynode=1,\n",
       "             colsample_bytree=0.7791682677670975, early_stopping_rounds=None,\n",
       "             enable_categorical=False, eval_metric=None, feature_types=None,\n",
       "             gamma=0, gpu_id=-1, grow_policy='depthwise', importance_type=None,\n",
       "             interaction_constraints='', learning_rate=0.06874001460156993,\n",
       "             max_bin=256, max_cat_threshold=64, max_cat_to_onehot=4,\n",
       "             max_delta_step=0, max_depth=9, max_leaves=0,\n",
       "             min_child_weight=8.225025470833163, missing=nan,\n",
       "             monotone_constraints='()', n_estimators=347, n_jobs=0,\n",
       "             num_parallel_tree=1, predictor='auto', random_state=0, ...)"
      ]
     },
     "execution_count": 19,
     "metadata": {},
     "output_type": "execute_result"
    }
   ],
   "source": [
    "tune_xgb_reg = XGBRegressor(**xgb_reg_max_params)\n",
    "tune_xgb_reg.fit(train_s,train_y)"
   ]
  },
  {
   "cell_type": "code",
   "execution_count": 20,
   "id": "abf9a308",
   "metadata": {},
   "outputs": [
    {
     "name": "stderr",
     "output_type": "stream",
     "text": [
      "C:\\Users\\82107\\AppData\\Roaming\\Python\\Python39\\site-packages\\sklearn\\utils\\validation.py:1111: DataConversionWarning: A column-vector y was passed when a 1d array was expected. Please change the shape of y to (n_samples, ), for example using ravel().\n",
      "  y = column_or_1d(y, warn=True)\n"
     ]
    },
    {
     "data": {
      "text/html": [
       "<style>#sk-container-id-2 {color: black;background-color: white;}#sk-container-id-2 pre{padding: 0;}#sk-container-id-2 div.sk-toggleable {background-color: white;}#sk-container-id-2 label.sk-toggleable__label {cursor: pointer;display: block;width: 100%;margin-bottom: 0;padding: 0.3em;box-sizing: border-box;text-align: center;}#sk-container-id-2 label.sk-toggleable__label-arrow:before {content: \"▸\";float: left;margin-right: 0.25em;color: #696969;}#sk-container-id-2 label.sk-toggleable__label-arrow:hover:before {color: black;}#sk-container-id-2 div.sk-estimator:hover label.sk-toggleable__label-arrow:before {color: black;}#sk-container-id-2 div.sk-toggleable__content {max-height: 0;max-width: 0;overflow: hidden;text-align: left;background-color: #f0f8ff;}#sk-container-id-2 div.sk-toggleable__content pre {margin: 0.2em;color: black;border-radius: 0.25em;background-color: #f0f8ff;}#sk-container-id-2 input.sk-toggleable__control:checked~div.sk-toggleable__content {max-height: 200px;max-width: 100%;overflow: auto;}#sk-container-id-2 input.sk-toggleable__control:checked~label.sk-toggleable__label-arrow:before {content: \"▾\";}#sk-container-id-2 div.sk-estimator input.sk-toggleable__control:checked~label.sk-toggleable__label {background-color: #d4ebff;}#sk-container-id-2 div.sk-label input.sk-toggleable__control:checked~label.sk-toggleable__label {background-color: #d4ebff;}#sk-container-id-2 input.sk-hidden--visually {border: 0;clip: rect(1px 1px 1px 1px);clip: rect(1px, 1px, 1px, 1px);height: 1px;margin: -1px;overflow: hidden;padding: 0;position: absolute;width: 1px;}#sk-container-id-2 div.sk-estimator {font-family: monospace;background-color: #f0f8ff;border: 1px dotted black;border-radius: 0.25em;box-sizing: border-box;margin-bottom: 0.5em;}#sk-container-id-2 div.sk-estimator:hover {background-color: #d4ebff;}#sk-container-id-2 div.sk-parallel-item::after {content: \"\";width: 100%;border-bottom: 1px solid gray;flex-grow: 1;}#sk-container-id-2 div.sk-label:hover label.sk-toggleable__label {background-color: #d4ebff;}#sk-container-id-2 div.sk-serial::before {content: \"\";position: absolute;border-left: 1px solid gray;box-sizing: border-box;top: 0;bottom: 0;left: 50%;z-index: 0;}#sk-container-id-2 div.sk-serial {display: flex;flex-direction: column;align-items: center;background-color: white;padding-right: 0.2em;padding-left: 0.2em;position: relative;}#sk-container-id-2 div.sk-item {position: relative;z-index: 1;}#sk-container-id-2 div.sk-parallel {display: flex;align-items: stretch;justify-content: center;background-color: white;position: relative;}#sk-container-id-2 div.sk-item::before, #sk-container-id-2 div.sk-parallel-item::before {content: \"\";position: absolute;border-left: 1px solid gray;box-sizing: border-box;top: 0;bottom: 0;left: 50%;z-index: -1;}#sk-container-id-2 div.sk-parallel-item {display: flex;flex-direction: column;z-index: 1;position: relative;background-color: white;}#sk-container-id-2 div.sk-parallel-item:first-child::after {align-self: flex-end;width: 50%;}#sk-container-id-2 div.sk-parallel-item:last-child::after {align-self: flex-start;width: 50%;}#sk-container-id-2 div.sk-parallel-item:only-child::after {width: 0;}#sk-container-id-2 div.sk-dashed-wrapped {border: 1px dashed gray;margin: 0 0.4em 0.5em 0.4em;box-sizing: border-box;padding-bottom: 0.4em;background-color: white;}#sk-container-id-2 div.sk-label label {font-family: monospace;font-weight: bold;display: inline-block;line-height: 1.2em;}#sk-container-id-2 div.sk-label-container {text-align: center;}#sk-container-id-2 div.sk-container {/* jupyter's `normalize.less` sets `[hidden] { display: none; }` but bootstrap.min.css set `[hidden] { display: none !important; }` so we also need the `!important` here to be able to override the default hidden behavior on the sphinx rendered scikit-learn.org. See: https://github.com/scikit-learn/scikit-learn/issues/21755 */display: inline-block !important;position: relative;}#sk-container-id-2 div.sk-text-repr-fallback {display: none;}</style><div id=\"sk-container-id-2\" class=\"sk-top-container\"><div class=\"sk-text-repr-fallback\"><pre>LGBMRegressor(colsample_bytree=0.7289734319584121,\n",
       "              learning_rate=0.3295304773703304, max_depth=9,\n",
       "              min_child_weight=1.2915383623961725, n_estimators=384,\n",
       "              num_leaves=10, subsample=0.8958651621787195)</pre><b>In a Jupyter environment, please rerun this cell to show the HTML representation or trust the notebook. <br />On GitHub, the HTML representation is unable to render, please try loading this page with nbviewer.org.</b></div><div class=\"sk-container\" hidden><div class=\"sk-item\"><div class=\"sk-estimator sk-toggleable\"><input class=\"sk-toggleable__control sk-hidden--visually\" id=\"sk-estimator-id-2\" type=\"checkbox\" checked><label for=\"sk-estimator-id-2\" class=\"sk-toggleable__label sk-toggleable__label-arrow\">LGBMRegressor</label><div class=\"sk-toggleable__content\"><pre>LGBMRegressor(colsample_bytree=0.7289734319584121,\n",
       "              learning_rate=0.3295304773703304, max_depth=9,\n",
       "              min_child_weight=1.2915383623961725, n_estimators=384,\n",
       "              num_leaves=10, subsample=0.8958651621787195)</pre></div></div></div></div></div>"
      ],
      "text/plain": [
       "LGBMRegressor(colsample_bytree=0.7289734319584121,\n",
       "              learning_rate=0.3295304773703304, max_depth=9,\n",
       "              min_child_weight=1.2915383623961725, n_estimators=384,\n",
       "              num_leaves=10, subsample=0.8958651621787195)"
      ]
     },
     "execution_count": 20,
     "metadata": {},
     "output_type": "execute_result"
    }
   ],
   "source": [
    "tune_lgbm_reg = LGBMRegressor(**lgbm_reg_max_params)\n",
    "tune_lgbm_reg.fit(train_s,train_y)"
   ]
  },
  {
   "cell_type": "code",
   "execution_count": 21,
   "id": "85f0158b",
   "metadata": {},
   "outputs": [
    {
     "name": "stderr",
     "output_type": "stream",
     "text": [
      "C:\\Users\\82107\\AppData\\Local\\Temp\\ipykernel_16196\\1637458044.py:2: DataConversionWarning: A column-vector y was passed when a 1d array was expected. Please change the shape of y to (n_samples,), for example using ravel().\n",
      "  tune_et_reg.fit(train_s,train_y)\n"
     ]
    },
    {
     "data": {
      "text/html": [
       "<style>#sk-container-id-3 {color: black;background-color: white;}#sk-container-id-3 pre{padding: 0;}#sk-container-id-3 div.sk-toggleable {background-color: white;}#sk-container-id-3 label.sk-toggleable__label {cursor: pointer;display: block;width: 100%;margin-bottom: 0;padding: 0.3em;box-sizing: border-box;text-align: center;}#sk-container-id-3 label.sk-toggleable__label-arrow:before {content: \"▸\";float: left;margin-right: 0.25em;color: #696969;}#sk-container-id-3 label.sk-toggleable__label-arrow:hover:before {color: black;}#sk-container-id-3 div.sk-estimator:hover label.sk-toggleable__label-arrow:before {color: black;}#sk-container-id-3 div.sk-toggleable__content {max-height: 0;max-width: 0;overflow: hidden;text-align: left;background-color: #f0f8ff;}#sk-container-id-3 div.sk-toggleable__content pre {margin: 0.2em;color: black;border-radius: 0.25em;background-color: #f0f8ff;}#sk-container-id-3 input.sk-toggleable__control:checked~div.sk-toggleable__content {max-height: 200px;max-width: 100%;overflow: auto;}#sk-container-id-3 input.sk-toggleable__control:checked~label.sk-toggleable__label-arrow:before {content: \"▾\";}#sk-container-id-3 div.sk-estimator input.sk-toggleable__control:checked~label.sk-toggleable__label {background-color: #d4ebff;}#sk-container-id-3 div.sk-label input.sk-toggleable__control:checked~label.sk-toggleable__label {background-color: #d4ebff;}#sk-container-id-3 input.sk-hidden--visually {border: 0;clip: rect(1px 1px 1px 1px);clip: rect(1px, 1px, 1px, 1px);height: 1px;margin: -1px;overflow: hidden;padding: 0;position: absolute;width: 1px;}#sk-container-id-3 div.sk-estimator {font-family: monospace;background-color: #f0f8ff;border: 1px dotted black;border-radius: 0.25em;box-sizing: border-box;margin-bottom: 0.5em;}#sk-container-id-3 div.sk-estimator:hover {background-color: #d4ebff;}#sk-container-id-3 div.sk-parallel-item::after {content: \"\";width: 100%;border-bottom: 1px solid gray;flex-grow: 1;}#sk-container-id-3 div.sk-label:hover label.sk-toggleable__label {background-color: #d4ebff;}#sk-container-id-3 div.sk-serial::before {content: \"\";position: absolute;border-left: 1px solid gray;box-sizing: border-box;top: 0;bottom: 0;left: 50%;z-index: 0;}#sk-container-id-3 div.sk-serial {display: flex;flex-direction: column;align-items: center;background-color: white;padding-right: 0.2em;padding-left: 0.2em;position: relative;}#sk-container-id-3 div.sk-item {position: relative;z-index: 1;}#sk-container-id-3 div.sk-parallel {display: flex;align-items: stretch;justify-content: center;background-color: white;position: relative;}#sk-container-id-3 div.sk-item::before, #sk-container-id-3 div.sk-parallel-item::before {content: \"\";position: absolute;border-left: 1px solid gray;box-sizing: border-box;top: 0;bottom: 0;left: 50%;z-index: -1;}#sk-container-id-3 div.sk-parallel-item {display: flex;flex-direction: column;z-index: 1;position: relative;background-color: white;}#sk-container-id-3 div.sk-parallel-item:first-child::after {align-self: flex-end;width: 50%;}#sk-container-id-3 div.sk-parallel-item:last-child::after {align-self: flex-start;width: 50%;}#sk-container-id-3 div.sk-parallel-item:only-child::after {width: 0;}#sk-container-id-3 div.sk-dashed-wrapped {border: 1px dashed gray;margin: 0 0.4em 0.5em 0.4em;box-sizing: border-box;padding-bottom: 0.4em;background-color: white;}#sk-container-id-3 div.sk-label label {font-family: monospace;font-weight: bold;display: inline-block;line-height: 1.2em;}#sk-container-id-3 div.sk-label-container {text-align: center;}#sk-container-id-3 div.sk-container {/* jupyter's `normalize.less` sets `[hidden] { display: none; }` but bootstrap.min.css set `[hidden] { display: none !important; }` so we also need the `!important` here to be able to override the default hidden behavior on the sphinx rendered scikit-learn.org. See: https://github.com/scikit-learn/scikit-learn/issues/21755 */display: inline-block !important;position: relative;}#sk-container-id-3 div.sk-text-repr-fallback {display: none;}</style><div id=\"sk-container-id-3\" class=\"sk-top-container\"><div class=\"sk-text-repr-fallback\"><pre>ExtraTreesRegressor(max_depth=10, min_samples_leaf=2, min_samples_split=4,\n",
       "                    n_estimators=240)</pre><b>In a Jupyter environment, please rerun this cell to show the HTML representation or trust the notebook. <br />On GitHub, the HTML representation is unable to render, please try loading this page with nbviewer.org.</b></div><div class=\"sk-container\" hidden><div class=\"sk-item\"><div class=\"sk-estimator sk-toggleable\"><input class=\"sk-toggleable__control sk-hidden--visually\" id=\"sk-estimator-id-3\" type=\"checkbox\" checked><label for=\"sk-estimator-id-3\" class=\"sk-toggleable__label sk-toggleable__label-arrow\">ExtraTreesRegressor</label><div class=\"sk-toggleable__content\"><pre>ExtraTreesRegressor(max_depth=10, min_samples_leaf=2, min_samples_split=4,\n",
       "                    n_estimators=240)</pre></div></div></div></div></div>"
      ],
      "text/plain": [
       "ExtraTreesRegressor(max_depth=10, min_samples_leaf=2, min_samples_split=4,\n",
       "                    n_estimators=240)"
      ]
     },
     "execution_count": 21,
     "metadata": {},
     "output_type": "execute_result"
    }
   ],
   "source": [
    "tune_et_reg = ExtraTreesRegressor(**et_reg_max_params)\n",
    "tune_et_reg.fit(train_s,train_y)"
   ]
  },
  {
   "cell_type": "code",
   "execution_count": 22,
   "id": "b239df5f",
   "metadata": {},
   "outputs": [],
   "source": [
    "# Predict target by test_x\n",
    "#tune_cb_reg_pred = tune_cb_reg.predict(test_x)\n",
    "tune_xgb_reg_pred = tune_xgb_reg.predict(test_x)\n",
    "tune_lgbm_reg_pred = tune_lgbm_reg.predict(test_x)\n",
    "tune_et_reg_pred = tune_et_reg.predict(test_x)"
   ]
  },
  {
   "cell_type": "code",
   "execution_count": 23,
   "id": "ac819a57",
   "metadata": {
    "scrolled": false
   },
   "outputs": [
    {
     "data": {
      "image/png": "[encoded data removed]",
      "text/plain": [
       "<Figure size 1440x720 with 4 Axes>"
      ]
     },
     "metadata": {
      "needs_background": "light"
     },
     "output_type": "display_data"
    }
   ],
   "source": [
    "# Visualize target predict\n",
    "#cb_pred = pd.DataFrame({'predict':tune_cb_reg_pred})\n",
    "xgb_pred = pd.DataFrame({'predict':tune_xgb_reg_pred})\n",
    "lgbm_pred = pd.DataFrame({'predict':tune_lgbm_reg_pred})\n",
    "et_pred = pd.DataFrame({'predict':tune_et_reg_pred})\n",
    "\n",
    "plt.figure(figsize=(20,10))\n",
    "\n",
    "plt.subplot(2,2,1)\n",
    "sns.kdeplot(xgb_pred.predict)\n",
    "plt.title('Caboost Predict KDE')\n",
    "\n",
    "plt.subplot(2,2,2)\n",
    "sns.kdeplot(xgb_pred.predict)\n",
    "plt.title('XGB Predict KDE')\n",
    "\n",
    "plt.subplot(2,2,3)\n",
    "sns.kdeplot(lgbm_pred.predict)\n",
    "plt.title('LGBM Predict KDE')\n",
    "\n",
    "plt.subplot(2,2,4)\n",
    "sns.kdeplot(et_pred.predict)\n",
    "plt.title('ExtraTrees Predict KDE')\n",
    "plt.show()"
   ]
  },
  {
   "cell_type": "code",
   "execution_count": 28,
   "id": "d4cd1bd3",
   "metadata": {},
   "outputs": [
    {
     "name": "stdout",
     "output_type": "stream",
     "text": [
      "count    6041.000000\n",
      "mean        0.097015\n",
      "std         0.116023\n",
      "min        -0.245600\n",
      "25%         0.018698\n",
      "50%         0.073286\n",
      "75%         0.148087\n",
      "max         1.047576\n",
      "Name: predict, dtype: float64 count    6041.000000\n",
      "mean        0.102115\n",
      "std         0.117817\n",
      "min        -0.326275\n",
      "25%         0.026447\n",
      "50%         0.084793\n",
      "75%         0.158698\n",
      "max         1.201416\n",
      "Name: predict, dtype: float64 count    6041.000000\n",
      "mean        0.316059\n",
      "std         0.047280\n",
      "min         0.193502\n",
      "25%         0.278188\n",
      "50%         0.319557\n",
      "75%         0.350768\n",
      "max         0.484300\n",
      "Name: predict, dtype: float64\n"
     ]
    }
   ],
   "source": [
    "# target predict's describe\n",
    "print(xgb_pred.predict.describe(), lgbm_pred.predict.describe(),et_pred.predict.describe())"
   ]
  },
  {
   "cell_type": "code",
   "execution_count": 25,
   "id": "1a61a43a",
   "metadata": {},
   "outputs": [
    {
     "name": "stdout",
     "output_type": "stream",
     "text": [
      "4278    0.264259\n",
      "5836    0.264183\n",
      "324     0.264116\n",
      "5356    0.264091\n",
      "160     0.263632\n",
      "1504    0.263612\n",
      "4387    0.263555\n",
      "1654    0.263235\n",
      "2333    0.263100\n",
      "1349    0.263061\n",
      "6032    0.263054\n",
      "Name: predict, dtype: float32\n",
      "3892    0.268521\n",
      "4181    0.268387\n",
      "5233    0.268214\n",
      "1008    0.267946\n",
      "5481    0.267878\n",
      "4916    0.267830\n",
      "13      0.267575\n",
      "4787    0.267520\n",
      "2808    0.267116\n",
      "5948    0.266903\n",
      "4452    0.266842\n",
      "Name: predict, dtype: float64\n",
      "3529    0.381258\n",
      "3648    0.381151\n",
      "3640    0.381120\n",
      "4566    0.381079\n",
      "3564    0.381069\n",
      "550     0.381055\n",
      "1572    0.381049\n",
      "763     0.381039\n",
      "2867    0.380964\n",
      "2489    0.380942\n",
      "3827    0.380934\n",
      "Name: predict, dtype: float64\n"
     ]
    }
   ],
   "source": [
    "# target predict 8.5% raw print by Model\n",
    "#print(cb_pred.predict.sort_values(ascending = False).iloc[510:521])\n",
    "print(xgb_pred.predict.sort_values(ascending = False).iloc[510:521])\n",
    "print(lgbm_pred.predict.sort_values(ascending = False).iloc[510:521])\n",
    "print(et_pred.predict.sort_values(ascending = False).iloc[510:521])"
   ]
  },
  {
   "cell_type": "code",
   "execution_count": 26,
   "id": "4df12eee",
   "metadata": {},
   "outputs": [],
   "source": [
    "# Transform predict by Threshold\n",
    "#cb_trans_reg_pred = np.array([0 if i < * else 1 for i in tune_cb_reg_pred])\n",
    "xgb_trans_reg_pred = np.array([0 if i < 0.264 else 1 for i in tune_xgb_reg_pred])\n",
    "lgbm_trans_reg_pred = np.array([0 if i < 0.267 else 1 for i in tune_lgbm_reg_pred])\n",
    "et_trans_reg_pred = np.array([0 if i < 0.381 else 1 for i in tune_et_reg_pred])"
   ]
  },
  {
   "cell_type": "code",
   "execution_count": 24,
   "id": "a16a5c0e",
   "metadata": {},
   "outputs": [
    {
     "data": {
      "text/plain": [
       "['model_save/tuning/task1_xgb_clf_task2_rt_reg.pkl']"
      ]
     },
     "execution_count": 24,
     "metadata": {},
     "output_type": "execute_result"
    }
   ],
   "source": [
    "# Saving Model\n",
    "#joblib.dump(tune_cb_reg, 'model_save/tuning/task1_xxx_clf_task2_cb_reg.pkl')\n",
    "joblib.dump(tune_xgb_reg, 'model_save/tuning/task1_xgb_clf_task2_xgb_reg.pkl')\n",
    "joblib.dump(tune_lgbm_reg, 'model_save/tuning/task1_xgb_clf_task2_lgbm_reg.pkl')\n",
    "joblib.dump(tune_et_reg, 'model_save/tuning/task1_xgb_clf_task2_rt_reg.pkl')"
   ]
  },
  {
   "cell_type": "code",
   "execution_count": 27,
   "id": "59ee9e33",
   "metadata": {},
   "outputs": [],
   "source": [
    "#pd.DataFrame({'ID': test_id, 'Y_LABEL': cb_trans_reg_pred}).to_csv('predict/modeling/xx_clf_cb_reg_\\\\\\.csv', index=False)\n",
    "pd.DataFrame({'ID': test_id, 'Y_LABEL': xgb_trans_reg_pred}).to_csv('predict/modeling/xgb_clf_xgb_reg_264.csv', index=False)\n",
    "pd.DataFrame({'ID': test_id, 'Y_LABEL': lgbm_trans_reg_pred}).to_csv('predict/modeling/xgb_clf_lgbm_reg_267.csv', index=False)\n",
    "pd.DataFrame({'ID': test_id, 'Y_LABEL': et_trans_reg_pred}).to_csv('predict/modeling/xgb_clf_et_reg_381.csv', index=False)"
   ]
  }
 ],
 "metadata": {
  "kernelspec": {
   "display_name": "Python 3 (ipykernel)",
   "language": "python",
   "name": "python3"
  },
  "language_info": {
   "codemirror_mode": {
    "name": "ipython",
    "version": 3
   },
   "file_extension": ".py",
   "mimetype": "text/x-python",
   "name": "python",
   "nbconvert_exporter": "python",
   "pygments_lexer": "ipython3",
   "version": "3.9.12"
  }
 },
 "nbformat": 4,
 "nbformat_minor": 5
}

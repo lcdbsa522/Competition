{
 "cells": [
  {
   "cell_type": "code",
   "execution_count": 1,
   "id": "9cc8b14c",
   "metadata": {},
   "outputs": [],
   "source": [
    "### 기본\n",
    "import pandas as pd\n",
    "import numpy as np\n",
    "import datetime as dt\n",
    "import matplotlib.pyplot as plt\n",
    "\n",
    "### tuning\n",
    "from sklearn.metrics import *\n",
    "from sklearn.model_selection import KFold\n",
    "import warnings\n",
    "\n",
    "### model \n",
    "import lightgbm as lgb\n",
    "\n",
    "### os\n",
    "from tqdm import tqdm\n",
    "import gc\n",
    "import random\n",
    "import re\n",
    "\n",
    "warnings.filterwarnings(action='ignore')\n",
    "\n",
    "# Visualization\n",
    "import matplotlib.pylab as plt\n",
    "from matplotlib import font_manager, rc\n",
    "import seaborn as sns\n",
    "%matplotlib inline\n",
    "\n",
    "# EDA\n",
    "import klib\n",
    "\n",
    "# Preprocessing & Feature Engineering\n",
    "from sklearn.model_selection import train_test_split\n",
    "from sklearn.preprocessing import MinMaxScaler\n",
    "from sklearn.impute import SimpleImputer \n",
    "from sklearn.preprocessing import StandardScaler\n",
    "from sklearn.preprocessing import PowerTransformer\n",
    "from sklearn.feature_selection import SelectPercentile\n",
    "\n",
    "# Hyperparameter Optimization\n",
    "from sklearn.model_selection import GridSearchCV\n",
    "from sklearn.model_selection import RandomizedSearchCV\n",
    "\n",
    "# Modeling\n",
    "from sklearn.dummy import DummyClassifier\n",
    "from sklearn.linear_model import LogisticRegression\n",
    "from sklearn.neighbors import KNeighborsClassifier\n",
    "from sklearn.ensemble import RandomForestClassifier\n",
    "from sklearn.neural_network import MLPClassifier\n",
    "from sklearn.tree import DecisionTreeClassifier\n",
    "from sklearn.ensemble import GradientBoostingClassifier\n",
    "from sklearn.svm import SVC\n",
    "from sklearn.ensemble import VotingClassifier\n",
    "from sklearn.ensemble import StackingClassifier\n",
    "from sklearn.svm import SVC\n",
    "from sklearn.tree import DecisionTreeClassifier\n",
    "from xgboost import XGBClassifier\n",
    "from lightgbm import LGBMClassifier\n",
    "from catboost import CatBoostClassifier\n",
    "from sklearn.ensemble import ExtraTreesClassifier\n",
    "\n",
    "# Evaluation\n",
    "from sklearn.metrics import roc_auc_score\n",
    "from sklearn.model_selection import cross_val_score\n",
    "from sklearn.metrics import f1_score\n",
    "\n",
    "# Utility\n",
    "import os\n",
    "import time\n",
    "import random\n",
    "import warnings; warnings.filterwarnings(\"ignore\")\n",
    "from IPython.display import Image\n",
    "import pickle\n",
    "from tqdm import tqdm\n",
    "import platform\n",
    "from itertools import combinations\n",
    "from scipy.stats.mstats import gmean\n",
    "import time"
   ]
  },
  {
   "cell_type": "code",
   "execution_count": 2,
   "id": "7f2908bf",
   "metadata": {},
   "outputs": [],
   "source": [
    "# 데이터 불러오기\n",
    "train = pd.read_csv('train_knn_scale.csv')\n",
    "train_y = pd.read_csv('train_Y_LABEL.csv')\n",
    "test = pd.read_csv('test_knn_scale.csv')\n",
    "test_id = pd.read_csv('sample_submission.csv')['ID']"
   ]
  },
  {
   "cell_type": "code",
   "execution_count": 3,
   "id": "ef327cde",
   "metadata": {
    "scrolled": true
   },
   "outputs": [],
   "source": [
    "train_x = np.array(train)\n",
    "train_s = np.array(train.loc[:,test.columns])\n",
    "test_x = np.array(test)"
   ]
  },
  {
   "cell_type": "code",
   "execution_count": 6,
   "id": "f0790f96",
   "metadata": {},
   "outputs": [],
   "source": [
    "# 학습데이터 70%, 평가데이터 30%로 데이터 분할\n",
    "X_train, X_dev, y_train, y_dev = train_test_split(train_s, train_y, test_size=0.3, random_state=0,stratify=train_y)"
   ]
  },
  {
   "cell_type": "code",
   "execution_count": 7,
   "id": "f67f0254",
   "metadata": {
    "scrolled": false
   },
   "outputs": [
    {
     "name": "stderr",
     "output_type": "stream",
     "text": [
      " 33%|███████████████████████████▋                                                       | 1/3 [01:40<03:20, 100.32s/it]"
     ]
    },
    {
     "name": "stdout",
     "output_type": "stream",
     "text": [
      "CatBoostClassifier                                   0.504979 100.3\n",
      "final params {'random_strength': 0.3, 'n_estimators': 270, 'l2_leaf_reg': 2, 'depth': 6, 'boost_from_average': False}\n",
      "[LightGBM] [Warning] boosting is set=gbdt, boosting_type=gbdt will be ignored. Current value: boosting=gbdt\n",
      "[LightGBM] [Warning] feature_fraction is set=0.5, colsample_bytree=1.0 will be ignored. Current value: feature_fraction=0.5\n",
      "[LightGBM] [Warning] min_data_in_leaf is set=70, min_child_samples=25 will be ignored. Current value: min_data_in_leaf=70\n",
      "[LightGBM] [Warning] bagging_freq is set=6, subsample_freq=0 will be ignored. Current value: bagging_freq=6\n",
      "[LightGBM] [Warning] num_iterations is set=300, num_iteration=300 will be ignored. Current value: num_iterations=300\n"
     ]
    },
    {
     "name": "stderr",
     "output_type": "stream",
     "text": [
      "\r",
      " 67%|████████████████████████████████████████████████████████                            | 2/3 [01:48<00:46, 46.06s/it]"
     ]
    },
    {
     "name": "stdout",
     "output_type": "stream",
     "text": [
      "LGBMClassifier                                       0.541613 8.0\n",
      "final params {'reg_lambda': 0.05, 'num_leaves': 35, 'num_iteration': 300, 'n_estimators': 30, 'min_split_gain': 0, 'min_data_in_leaf': 70, 'min_child_samples': 25, 'max_depth': 6, 'learning_rate': 1, 'feature_fraction': 0.5, 'boosting': 'gbdt', 'boost_from_average': False, 'bagging_freq': 6}\n",
      "[02:19:20] WARNING: C:/buildkite-agent/builds/buildkite-windows-cpu-autoscaling-group-i-03de431ba26204c4d-1/xgboost/xgboost-ci-windows/src/learner.cc:767: \n",
      "Parameters: { \"subsamle\" } are not used.\n",
      "\n"
     ]
    },
    {
     "name": "stderr",
     "output_type": "stream",
     "text": [
      "100%|████████████████████████████████████████████████████████████████████████████████████| 3/3 [02:03<00:00, 41.17s/it]"
     ]
    },
    {
     "name": "stdout",
     "output_type": "stream",
     "text": [
      "XGBClassifier                                        0.548163 15.1\n",
      "final params {'subsamle': 1, 'scale_pos_weight': 8.6, 'reg_lambda': 1, 'reg_alpha': 0.001, 'objective': 'binary:logistic', 'n_estimators': 200, 'min_split_loss': 100, 'min_child_weight': 50, 'max_depth': 6, 'learning_rate': 0.01, 'eval_metric': 'error', 'colsample_bytree': 0.5}\n",
      "모델 수행 시간: 123.5 초\n"
     ]
    },
    {
     "name": "stderr",
     "output_type": "stream",
     "text": [
      "\n"
     ]
    }
   ],
   "source": [
    "clfs = [\n",
    "    (\n",
    "       CatBoostClassifier(random_state=0, verbose=False),\n",
    "       {'n_estimators': range(10, 310, 10),\n",
    "        'depth': [1, 2, 3, 4, 5, 6, 7, 8, 9, 10, 11],\n",
    "        'random_strength': [0.0,0.1,0.2,0.3,0.4,0.5,0.6,0.7,0.8],\n",
    "        'l2_leaf_reg': [1,2,3,4,5,6,7,8,9,10,20,30,50,100,200],\n",
    "        'boost_from_average' : [False]}\n",
    "    ),\n",
    "    (\n",
    "        LGBMClassifier(random_state=0),\n",
    "        {'num_iteration': [100, 200, 300],\n",
    "         'learning_rate': [1, 0.1, 0.01],\n",
    "         'max_depth':[3,4,6,8,10],\n",
    "         'min_data_in_leaf':[5,10,50,70,100],\n",
    "         'num_leaves':[15,31,35],\n",
    "         'boosting':['gbdt','rf'],\n",
    "         'n_estimators': range(10, 200, 10),\n",
    "         'min_split_gain': [0,0.1,0.2,0.3,0.4,0.5,0.6,0.7,0.8,0.9],\n",
    "         #'reg_alpha': [0.001,0.01,0.0005,0.005,0.05,0.1,0.15,0.2,0.3,0.4,0.5,0.7,1,2,3,4,5,10],\n",
    "         'reg_lambda': [0.001,0.01,0.0005,0.005,0.05,0.1,0.15,0.2,0.3,0.4,0.5,0.7,1,2,3,4,5,10],\n",
    "         'feature_fraction': [0.4, 0.5, 0.6, 0.7, 0.8, 0.9, 1.0],\n",
    "         #'bagging_fraction': [0.4, 0.5, 0.6, 0.7, 0.8, 0.9, 1.0],\n",
    "         'bagging_freq': [1, 2, 3, 4, 5, 6, 7],\n",
    "         'min_child_samples': range(5,50,5),\n",
    "         'boost_from_average' : [False]\n",
    "         }\n",
    "    ),\n",
    "    (\n",
    "        XGBClassifier(random_state=0),\n",
    "        {'learning_rate': [1, 0.1, 0.01],\n",
    "         'n_estimators': [100, 200, 300],\n",
    "         'max_depth':[3,4,6,8,10],\n",
    "         'subsamle':[0.3, 0.5, 0.7, 1],\n",
    "         'min_child_weight':[10,20,50,100],\n",
    "         'objective':['binary:logistic'],\n",
    "         'eval_metric':['error'],\n",
    "         'min_split_loss':[10,20,50,100],\n",
    "         'colsample_bytree': [0.5, 0.7, 0.9, 1],\n",
    "         'reg_alpha': [0.0001,0.001,0.01,0.0005,0.005,0.05,0.1,0.15,0.2,0.3,0.4,0.5,0.7,1,2,3,4,5,10],\n",
    "         'reg_lambda': [0.0001,0.001,0.01,0.0005,0.005,0.05,0.1,0.15,0.2,0.3,0.4,0.5,0.7,1,2,3,4,5,10],\n",
    "         'scale_pos_weight': np.arange(0.0, 50.1, 0.1)\n",
    "        }\n",
    "    )\n",
    "#    (\n",
    "#        KNeighborsClassifier(),              # 사용하려는 모델\n",
    "#        {'n_neighbors': [3,5,7,9,11],        # 최적화하려는 하이퍼파라미터\n",
    "#         'weights': ['uniform','distance'],\n",
    "#         'algorithm': ['auto','ball_tree', 'kd_tree', 'brute'],\n",
    "#         'leaf_size': [10, 20, 30, 40],\n",
    "#         'p': [1,2],\n",
    "#         'metric': ['minkowski', 'euclidean', 'manhattan']}\n",
    "#    ),\n",
    "#    (\n",
    "#        MLPClassifier(random_state=0),\n",
    "#        {'batch_size': ['auto', 32, 64, 128],\n",
    "#         'learning_rate' : ['constant', 'adaptive','invscaling'],\n",
    "#         'activation': ['tanh', 'relu'],\n",
    "#         'solver': ['sgd', 'adam'],\n",
    "#         'hidden_layer_sizes': [10,30,50,100],\n",
    "#         'alpha': [1e-07,1e-06,0.0001,0.001,0.01,0.0005,0.005,0.05,0.1,0.15,0.2,0.3,0.4,0.5,0.7,0.9]}\n",
    "#    ),\n",
    "#    (\n",
    "#        LogisticRegression(random_state=0),  \n",
    "#        {'C': np.arange(0.1, 1.1, 0.1),      \n",
    "#         'penalty': ['l1','l2'],\n",
    "#         'max_iter' : [100, 300, 500, 1000],\n",
    "#         'solver' : ['liblinear']}\n",
    "#    ),\n",
    "#    (\n",
    "#        RandomForestClassifier(random_state=0),\n",
    "#        {'n_estimators': [100,200,300],\n",
    "#         'max_depth': [None,3,4,5,6],\n",
    "#         'max_features': (np.arange(0.5, 1.0, 0.1)*X_train.shape[1]).astype(int),\n",
    "#         'criterion': ['gini','entropy'],\n",
    "#         'min_samples_split':[2,3,4],\n",
    "#         'min_samples_leaf':[1,2,4],\n",
    "#         'min_impurity_decrease': [0,0.0001,0.001,0.01,0.0002,0.002,0.02,0.0005,0.005,0.05,0.1,0.2,0.3,0.4,0.5],\n",
    "#         'bootstrap': [True, False],\n",
    "#         'class_weight': ['balanced', 'balanced_subsample', {}]}\n",
    "#    ),\n",
    "#    (\n",
    "#        GradientBoostingClassifier(random_state=0),\n",
    "#        {'n_estimators': [100, 200, 300],\n",
    "#         'learning_rate': [1, 0.1, 0.01],\n",
    "#         'criterion': ['friedman_mse', 'mse', 'mae'],\n",
    "#         'loss': ['deviance', 'exponential'],\n",
    "#         'min_samples_split': [2, 4, 5, 7, 9, 10],\n",
    "#         'min_samples_leaf': [1, 2, 3, 4, 5],\n",
    "#         'max_depth': [1, 2, 3, 4, 5, 6, 7, 8, 9, 10, 11],\n",
    "#         'min_impurity_decrease': [0,0.0001,0.001,0.01,0.0002,0.002,0.02,0.0005,0.005,0.05,0.1,0.2,0.3,0.4,0.5],\n",
    "#         'max_features': (np.arange(0.5, 1.0, 0.1)*X_train.shape[1]).astype(int)\n",
    "#        }\n",
    "#    ),\n",
    "#    (\n",
    "#        DecisionTreeClassifier(random_state=0),\n",
    "#        {'criterion' :['gini','entropy'],\n",
    "#         'max_depth':[3,4,6,8,10],\n",
    "#         'min_samples_leaf':[3,5,10,50,100],\n",
    "#         'splitter':[\"best\",\"random\"]\n",
    "#        }\n",
    "#   )\n",
    "]\n",
    "\n",
    "clfs_tuned = []  # 튜닝된 모델을 저장\n",
    "start_time = time.time()\n",
    "for clf, param_grid in tqdm(clfs):\n",
    "    start = time.time()\n",
    "    rand_search = RandomizedSearchCV(clf, param_grid, n_iter=8, scoring='f1_macro', \n",
    "                                     cv=3, random_state=0, n_jobs=-1)\n",
    "    rand_search.fit(X_train, y_train)\n",
    "    clf_name = type(clf).__name__\n",
    "    clf_score = rand_search.score(X_dev, y_dev)\n",
    "    print('{:30s} {:30f} {:.1f}'.format(clf_name, clf_score, time.time() - start))\n",
    "    print('final params', rand_search.best_params_)\n",
    "    clfs_tuned.append((clf_name, rand_search, clf_score))\n",
    "    #globals()['{}_pred'.format(clf_name)] = pd.DataFrame(rand_search.best_estimator_.predict(test_x))\n",
    "print('모델 수행 시간: {0:.1f} 초'.format(time.time()- start_time))"
   ]
  },
  {
   "cell_type": "code",
   "execution_count": 34,
   "id": "62f17fa7",
   "metadata": {},
   "outputs": [
    {
     "data": {
      "image/png": "[encoded data removed]",
      "text/plain": [
       "<Figure size 576x432 with 2 Axes>"
      ]
     },
     "metadata": {
      "needs_background": "light"
     },
     "output_type": "display_data"
    }
   ],
   "source": [
    "pred_results = []\n",
    "for name, clf, clf_score in clfs_tuned:\n",
    "    pred = clf.predict_proba(X_dev)[:,1]\n",
    "    name = f'{name} \\n({clf_score:.4f})'\n",
    "    pred_results.append(pd.Series(pred, name=name))\n",
    "ensemble_results = pd.concat(pred_results, axis=1)\n",
    "\n",
    "# 모형의 예측값 간의 상관관계를 보기 위해 hitmap을 도식한다.\n",
    "plt.figure(figsize = (8,6))\n",
    "g = sns.heatmap(ensemble_results.corr(), annot=True, cmap='Blues')\n",
    "g.set_title(\"Correlation between models\")\n",
    "plt.show()"
   ]
  },
  {
   "cell_type": "code",
   "execution_count": 59,
   "id": "1997ee07",
   "metadata": {},
   "outputs": [
    {
     "data": {
      "text/plain": [
       "CatBoostClassifier \\n(0.4997)            0.443330\n",
       "LGBMClassifier \\n(0.5357)                0.217130\n",
       "XGBClassifier \\n(0.5655)                 0.409204\n",
       "KNeighborsClassifier \\n(0.5226)          0.139736\n",
       "MLPClassifier \\n(0.5169)                 0.176744\n",
       "LogisticRegression \\n(0.4805)            0.186095\n",
       "RandomForestClassifier \\n(0.4939)        0.395576\n",
       "GradientBoostingClassifier \\n(0.5192)    0.223666\n",
       "DecisionTreeClassifier \\n(0.4914)        0.251553\n",
       "dtype: float64"
      ]
     },
     "execution_count": 59,
     "metadata": {},
     "output_type": "execute_result"
    }
   ],
   "source": [
    "# Mean agreement\n",
    "(ensemble_results.corr().sum()-1)/(ensemble_results.corr().shape[0]-1)"
   ]
  },
  {
   "cell_type": "code",
   "execution_count": 60,
   "id": "fefc9b03",
   "metadata": {
    "collapsed": true
   },
   "outputs": [
    {
     "data": {
      "text/html": [
       "<div>\n",
       "<style scoped>\n",
       "    .dataframe tbody tr th:only-of-type {\n",
       "        vertical-align: middle;\n",
       "    }\n",
       "\n",
       "    .dataframe tbody tr th {\n",
       "        vertical-align: top;\n",
       "    }\n",
       "\n",
       "    .dataframe thead th {\n",
       "        text-align: right;\n",
       "    }\n",
       "</style>\n",
       "<table border=\"1\" class=\"dataframe\">\n",
       "  <thead>\n",
       "    <tr style=\"text-align: right;\">\n",
       "      <th></th>\n",
       "      <th>CatBoostClassifier \\n(0.4997)</th>\n",
       "      <th>LGBMClassifier \\n(0.5357)</th>\n",
       "      <th>XGBClassifier \\n(0.5655)</th>\n",
       "      <th>KNeighborsClassifier \\n(0.5226)</th>\n",
       "      <th>MLPClassifier \\n(0.5169)</th>\n",
       "      <th>LogisticRegression \\n(0.4805)</th>\n",
       "      <th>RandomForestClassifier \\n(0.4939)</th>\n",
       "      <th>GradientBoostingClassifier \\n(0.5192)</th>\n",
       "      <th>DecisionTreeClassifier \\n(0.4914)</th>\n",
       "    </tr>\n",
       "  </thead>\n",
       "  <tbody>\n",
       "    <tr>\n",
       "      <th>0</th>\n",
       "      <td>0.033613</td>\n",
       "      <td>0.002856</td>\n",
       "      <td>0.284455</td>\n",
       "      <td>0.000000</td>\n",
       "      <td>9.512904e-05</td>\n",
       "      <td>0.082683</td>\n",
       "      <td>0.256271</td>\n",
       "      <td>0.000761</td>\n",
       "      <td>0.042437</td>\n",
       "    </tr>\n",
       "    <tr>\n",
       "      <th>1</th>\n",
       "      <td>0.072937</td>\n",
       "      <td>0.000173</td>\n",
       "      <td>0.451790</td>\n",
       "      <td>0.323203</td>\n",
       "      <td>1.418937e-05</td>\n",
       "      <td>0.076205</td>\n",
       "      <td>0.577760</td>\n",
       "      <td>0.000712</td>\n",
       "      <td>0.066473</td>\n",
       "    </tr>\n",
       "    <tr>\n",
       "      <th>2</th>\n",
       "      <td>0.042766</td>\n",
       "      <td>0.063828</td>\n",
       "      <td>0.349478</td>\n",
       "      <td>0.000000</td>\n",
       "      <td>5.613693e-08</td>\n",
       "      <td>0.071413</td>\n",
       "      <td>0.335809</td>\n",
       "      <td>0.000049</td>\n",
       "      <td>0.057143</td>\n",
       "    </tr>\n",
       "    <tr>\n",
       "      <th>3</th>\n",
       "      <td>0.121324</td>\n",
       "      <td>0.651361</td>\n",
       "      <td>0.497262</td>\n",
       "      <td>0.428370</td>\n",
       "      <td>4.545006e-05</td>\n",
       "      <td>0.079224</td>\n",
       "      <td>0.437322</td>\n",
       "      <td>0.008445</td>\n",
       "      <td>0.213235</td>\n",
       "    </tr>\n",
       "    <tr>\n",
       "      <th>4</th>\n",
       "      <td>0.083721</td>\n",
       "      <td>0.109532</td>\n",
       "      <td>0.460240</td>\n",
       "      <td>0.000000</td>\n",
       "      <td>3.220525e-04</td>\n",
       "      <td>0.081164</td>\n",
       "      <td>0.493927</td>\n",
       "      <td>0.014546</td>\n",
       "      <td>0.039623</td>\n",
       "    </tr>\n",
       "    <tr>\n",
       "      <th>...</th>\n",
       "      <td>...</td>\n",
       "      <td>...</td>\n",
       "      <td>...</td>\n",
       "      <td>...</td>\n",
       "      <td>...</td>\n",
       "      <td>...</td>\n",
       "      <td>...</td>\n",
       "      <td>...</td>\n",
       "      <td>...</td>\n",
       "    </tr>\n",
       "    <tr>\n",
       "      <th>4224</th>\n",
       "      <td>0.031136</td>\n",
       "      <td>0.000062</td>\n",
       "      <td>0.356228</td>\n",
       "      <td>0.000000</td>\n",
       "      <td>1.477722e-08</td>\n",
       "      <td>0.059636</td>\n",
       "      <td>0.293472</td>\n",
       "      <td>0.000001</td>\n",
       "      <td>0.042437</td>\n",
       "    </tr>\n",
       "    <tr>\n",
       "      <th>4225</th>\n",
       "      <td>0.066829</td>\n",
       "      <td>0.123654</td>\n",
       "      <td>0.465169</td>\n",
       "      <td>0.000000</td>\n",
       "      <td>6.730239e-05</td>\n",
       "      <td>0.083561</td>\n",
       "      <td>0.445028</td>\n",
       "      <td>0.495747</td>\n",
       "      <td>0.121771</td>\n",
       "    </tr>\n",
       "    <tr>\n",
       "      <th>4226</th>\n",
       "      <td>0.051296</td>\n",
       "      <td>0.005304</td>\n",
       "      <td>0.333230</td>\n",
       "      <td>0.294592</td>\n",
       "      <td>1.353230e-01</td>\n",
       "      <td>0.080149</td>\n",
       "      <td>0.283601</td>\n",
       "      <td>0.026891</td>\n",
       "      <td>0.066473</td>\n",
       "    </tr>\n",
       "    <tr>\n",
       "      <th>4227</th>\n",
       "      <td>0.049777</td>\n",
       "      <td>0.000218</td>\n",
       "      <td>0.353626</td>\n",
       "      <td>0.000000</td>\n",
       "      <td>6.648479e-09</td>\n",
       "      <td>0.093201</td>\n",
       "      <td>0.152462</td>\n",
       "      <td>0.001728</td>\n",
       "      <td>0.066473</td>\n",
       "    </tr>\n",
       "    <tr>\n",
       "      <th>4228</th>\n",
       "      <td>0.110418</td>\n",
       "      <td>0.000278</td>\n",
       "      <td>0.505073</td>\n",
       "      <td>0.336520</td>\n",
       "      <td>1.458839e-03</td>\n",
       "      <td>0.137466</td>\n",
       "      <td>0.599082</td>\n",
       "      <td>0.692469</td>\n",
       "      <td>0.000000</td>\n",
       "    </tr>\n",
       "  </tbody>\n",
       "</table>\n",
       "<p>4229 rows × 9 columns</p>\n",
       "</div>"
      ],
      "text/plain": [
       "      CatBoostClassifier \\n(0.4997)  LGBMClassifier \\n(0.5357)  \\\n",
       "0                          0.033613                   0.002856   \n",
       "1                          0.072937                   0.000173   \n",
       "2                          0.042766                   0.063828   \n",
       "3                          0.121324                   0.651361   \n",
       "4                          0.083721                   0.109532   \n",
       "...                             ...                        ...   \n",
       "4224                       0.031136                   0.000062   \n",
       "4225                       0.066829                   0.123654   \n",
       "4226                       0.051296                   0.005304   \n",
       "4227                       0.049777                   0.000218   \n",
       "4228                       0.110418                   0.000278   \n",
       "\n",
       "      XGBClassifier \\n(0.5655)  KNeighborsClassifier \\n(0.5226)  \\\n",
       "0                     0.284455                         0.000000   \n",
       "1                     0.451790                         0.323203   \n",
       "2                     0.349478                         0.000000   \n",
       "3                     0.497262                         0.428370   \n",
       "4                     0.460240                         0.000000   \n",
       "...                        ...                              ...   \n",
       "4224                  0.356228                         0.000000   \n",
       "4225                  0.465169                         0.000000   \n",
       "4226                  0.333230                         0.294592   \n",
       "4227                  0.353626                         0.000000   \n",
       "4228                  0.505073                         0.336520   \n",
       "\n",
       "      MLPClassifier \\n(0.5169)  LogisticRegression \\n(0.4805)  \\\n",
       "0                 9.512904e-05                       0.082683   \n",
       "1                 1.418937e-05                       0.076205   \n",
       "2                 5.613693e-08                       0.071413   \n",
       "3                 4.545006e-05                       0.079224   \n",
       "4                 3.220525e-04                       0.081164   \n",
       "...                        ...                            ...   \n",
       "4224              1.477722e-08                       0.059636   \n",
       "4225              6.730239e-05                       0.083561   \n",
       "4226              1.353230e-01                       0.080149   \n",
       "4227              6.648479e-09                       0.093201   \n",
       "4228              1.458839e-03                       0.137466   \n",
       "\n",
       "      RandomForestClassifier \\n(0.4939)  \\\n",
       "0                              0.256271   \n",
       "1                              0.577760   \n",
       "2                              0.335809   \n",
       "3                              0.437322   \n",
       "4                              0.493927   \n",
       "...                                 ...   \n",
       "4224                           0.293472   \n",
       "4225                           0.445028   \n",
       "4226                           0.283601   \n",
       "4227                           0.152462   \n",
       "4228                           0.599082   \n",
       "\n",
       "      GradientBoostingClassifier \\n(0.5192)  DecisionTreeClassifier \\n(0.4914)  \n",
       "0                                  0.000761                           0.042437  \n",
       "1                                  0.000712                           0.066473  \n",
       "2                                  0.000049                           0.057143  \n",
       "3                                  0.008445                           0.213235  \n",
       "4                                  0.014546                           0.039623  \n",
       "...                                     ...                                ...  \n",
       "4224                               0.000001                           0.042437  \n",
       "4225                               0.495747                           0.121771  \n",
       "4226                               0.026891                           0.066473  \n",
       "4227                               0.001728                           0.066473  \n",
       "4228                               0.692469                           0.000000  \n",
       "\n",
       "[4229 rows x 9 columns]"
      ]
     },
     "execution_count": 60,
     "metadata": {},
     "output_type": "execute_result"
    }
   ],
   "source": [
    "ensemble_results"
   ]
  },
  {
   "cell_type": "code",
   "execution_count": 35,
   "id": "3cf54c9a",
   "metadata": {},
   "outputs": [],
   "source": [
    "# Averaging 앙상블에 사용하지 않을 모델은 주석 처리하시오.\n",
    "selected = [\n",
    "    'KNeighborsClassifier', \n",
    "    'MLPClassifier',\n",
    "    'LogisticRegression', \n",
    "    'RandomForestClassifier', \n",
    "    'GradientBoostingClassifier',\n",
    "    'DecisionTreeClassifier',\n",
    "    'XGBClassifier',\n",
    "    'LGBMClassifier',\n",
    "    'CatBoostClassifier',\n",
    "]\n",
    "models_for_ensemble = [clf for clf in clfs_tuned if clf[0] in selected]"
   ]
  },
  {
   "cell_type": "code",
   "execution_count": 36,
   "id": "152fd377",
   "metadata": {},
   "outputs": [
    {
     "name": "stderr",
     "output_type": "stream",
     "text": [
      "100%|████████████████████████████████████████████████████████████████████████████████████| 3/3 [01:00<00:00, 20.30s/it]"
     ]
    },
    {
     "name": "stdout",
     "output_type": "stream",
     "text": [
      "p=0\n",
      "CatBoostClassifier●LogisticRegression●RandomForestClassifier\n",
      "0.6890299640834072\n"
     ]
    },
    {
     "name": "stderr",
     "output_type": "stream",
     "text": [
      "\n"
     ]
    }
   ],
   "source": [
    "# 아래 코드는 추후 estimator class(\"BlendingClassifier\")로 만들 예정\n",
    "\n",
    "max_score = 0\n",
    "for p in tqdm([0, 1, 2.56]):  # p==1:산술평균, p=0:기하평균, 그 외:멱평균(주의:멱평균은 과적합 가능성이 높음)    \n",
    "    for i in range(2, len(models_for_ensemble)+1):\n",
    "        for models in combinations(models_for_ensemble, i):\n",
    "            if p == 0:\n",
    "                pred_mean = gmean([clf.predict_proba(X_dev)[:,1] for name, clf, _ in models], axis=0)\n",
    "            else:\n",
    "                preds = [clf.predict_proba(X_dev)[:,1] for name, clf, _ in models]\n",
    "                pred_mean = (np.sum(np.array(preds)**p, axis=0) / len(models))**(1/p)\n",
    "            score = roc_auc_score(y_dev, pred_mean)\n",
    "            if max_score < score:\n",
    "                best_avg_ensemble = (p, models, score)\n",
    "                max_score = score\n",
    "\n",
    "p, models, score = best_avg_ensemble\n",
    "print('p={}\\n{}\\n{}'.format(p, '●'.join([clf_name for clf_name, _, _ in models]), score))"
   ]
  },
  {
   "cell_type": "code",
   "execution_count": 37,
   "id": "53a4b6ab",
   "metadata": {},
   "outputs": [
    {
     "name": "stdout",
     "output_type": "stream",
     "text": [
      "[LightGBM] [Warning] boosting is set=gbdt, boosting_type=gbdt will be ignored. Current value: boosting=gbdt\n",
      "[LightGBM] [Warning] feature_fraction is set=0.5, colsample_bytree=1.0 will be ignored. Current value: feature_fraction=0.5\n",
      "[LightGBM] [Warning] min_data_in_leaf is set=70, min_child_samples=25 will be ignored. Current value: min_data_in_leaf=70\n",
      "[LightGBM] [Warning] bagging_freq is set=6, subsample_freq=0 will be ignored. Current value: bagging_freq=6\n",
      "[LightGBM] [Warning] num_iterations is set=300, num_iteration=300 will be ignored. Current value: num_iterations=300\n",
      "[20:17:17] WARNING: C:/buildkite-agent/builds/buildkite-windows-cpu-autoscaling-group-i-03de431ba26204c4d-1/xgboost/xgboost-ci-windows/src/learner.cc:767: \n",
      "Parameters: { \"subsamle\" } are not used.\n",
      "\n",
      "[LightGBM] [Warning] boosting is set=gbdt, boosting_type=gbdt will be ignored. Current value: boosting=gbdt\n",
      "[LightGBM] [Warning] feature_fraction is set=0.5, colsample_bytree=1.0 will be ignored. Current value: feature_fraction=0.5\n",
      "[LightGBM] [Warning] min_data_in_leaf is set=70, min_child_samples=25 will be ignored. Current value: min_data_in_leaf=70\n",
      "[LightGBM] [Warning] bagging_freq is set=6, subsample_freq=0 will be ignored. Current value: bagging_freq=6\n",
      "[LightGBM] [Warning] num_iterations is set=300, num_iteration=300 will be ignored. Current value: num_iterations=300\n",
      "[LightGBM] [Warning] boosting is set=gbdt, boosting_type=gbdt will be ignored. Current value: boosting=gbdt\n",
      "[LightGBM] [Warning] feature_fraction is set=0.5, colsample_bytree=1.0 will be ignored. Current value: feature_fraction=0.5\n",
      "[LightGBM] [Warning] min_data_in_leaf is set=70, min_child_samples=25 will be ignored. Current value: min_data_in_leaf=70\n",
      "[LightGBM] [Warning] bagging_freq is set=6, subsample_freq=0 will be ignored. Current value: bagging_freq=6\n",
      "[LightGBM] [Warning] num_iterations is set=300, num_iteration=300 will be ignored. Current value: num_iterations=300\n",
      "[20:33:20] WARNING: C:/buildkite-agent/builds/buildkite-windows-cpu-autoscaling-group-i-03de431ba26204c4d-1/xgboost/xgboost-ci-windows/src/learner.cc:767: \n",
      "Parameters: { \"subsamle\" } are not used.\n",
      "\n",
      "[20:33:31] WARNING: C:/buildkite-agent/builds/buildkite-windows-cpu-autoscaling-group-i-03de431ba26204c4d-1/xgboost/xgboost-ci-windows/src/learner.cc:767: \n",
      "Parameters: { \"subsamle\" } are not used.\n",
      "\n",
      "[20:33:41] WARNING: C:/buildkite-agent/builds/buildkite-windows-cpu-autoscaling-group-i-03de431ba26204c4d-1/xgboost/xgboost-ci-windows/src/learner.cc:767: \n",
      "Parameters: { \"subsamle\" } are not used.\n",
      "\n",
      "0.6555217262997273\n"
     ]
    }
   ],
   "source": [
    "# 2-layer stacking\n",
    "\n",
    "# Initialize 1st level estimators\n",
    "# 사용하지 않을 모델은 주석 처리하세요.\n",
    "selected = [\n",
    "    #'KNeighborsClassifier', \n",
    "    #'MLPClassifier',\n",
    "    'LogisticRegression', \n",
    "    'RandomForestClassifier', \n",
    "    'GradientBoostingClassifier',\n",
    "    'DecisionTreeClassifier',\n",
    "    'XGBClassifier',\n",
    "    'LGBMClassifier',\n",
    "    'CatBoostClassifier',  \n",
    "]\n",
    "\n",
    "estimators = [(name, clf) for name, clf, _ in clfs_tuned if name in selected]\n",
    "stk_clf = StackingClassifier(\n",
    "    estimators = estimators, final_estimator = ExtraTreesClassifier(), cv=3)\n",
    "\n",
    "stk_clf.fit(X_train, y_train)\n",
    "print(roc_auc_score(y_dev, stk_clf.predict_proba(X_dev)[:,1]))"
   ]
  },
  {
   "cell_type": "code",
   "execution_count": 38,
   "id": "254cc992",
   "metadata": {
    "scrolled": true
   },
   "outputs": [
    {
     "data": {
      "text/plain": [
       "array([0.17954115, 0.33454137, 0.25051419, ..., 0.20746589, 0.20777531,\n",
       "       0.33367455])"
      ]
     },
     "execution_count": 38,
     "metadata": {},
     "output_type": "execute_result"
    }
   ],
   "source": [
    "pred_mean"
   ]
  },
  {
   "cell_type": "code",
   "execution_count": 83,
   "id": "b4288d39",
   "metadata": {},
   "outputs": [
    {
     "data": {
      "text/plain": [
       "array([0.05, 0.1 , 0.17, ..., 0.07, 0.07, 0.08])"
      ]
     },
     "execution_count": 83,
     "metadata": {},
     "output_type": "execute_result"
    }
   ],
   "source": [
    "stk_clf.predict_proba(test_x)[:,1]"
   ]
  },
  {
   "cell_type": "code",
   "execution_count": 88,
   "id": "28833657",
   "metadata": {},
   "outputs": [
    {
     "ename": "IndexError",
     "evalue": "too many indices for array: array is 1-dimensional, but 2 were indexed",
     "output_type": "error",
     "traceback": [
      "\u001b[1;31m---------------------------------------------------------------------------\u001b[0m",
      "\u001b[1;31mIndexError\u001b[0m                                Traceback (most recent call last)",
      "Input \u001b[1;32mIn [88]\u001b[0m, in \u001b[0;36m<cell line: 3>\u001b[1;34m()\u001b[0m\n\u001b[0;32m      2\u001b[0m t \u001b[38;5;241m=\u001b[39m pd\u001b[38;5;241m.\u001b[39mTimestamp\u001b[38;5;241m.\u001b[39mnow()\n\u001b[0;32m      3\u001b[0m \u001b[38;5;28;01mif\u001b[39;00m p \u001b[38;5;241m==\u001b[39m \u001b[38;5;241m0\u001b[39m:\n\u001b[1;32m----> 4\u001b[0m     pred_mean \u001b[38;5;241m=\u001b[39m gmean([clf\u001b[38;5;241m.\u001b[39mpredict(test_x)[:,\u001b[38;5;241m1\u001b[39m] \u001b[38;5;28;01mfor\u001b[39;00m name, clf, _ \u001b[38;5;129;01min\u001b[39;00m models], axis\u001b[38;5;241m=\u001b[39m\u001b[38;5;241m0\u001b[39m)\n\u001b[0;32m      5\u001b[0m \u001b[38;5;28;01melse\u001b[39;00m:\n\u001b[0;32m      6\u001b[0m     preds \u001b[38;5;241m=\u001b[39m [clf\u001b[38;5;241m.\u001b[39mpredict(test_x)[:,\u001b[38;5;241m1\u001b[39m] \u001b[38;5;28;01mfor\u001b[39;00m name, clf, _ \u001b[38;5;129;01min\u001b[39;00m models]\n",
      "Input \u001b[1;32mIn [88]\u001b[0m, in \u001b[0;36m<listcomp>\u001b[1;34m(.0)\u001b[0m\n\u001b[0;32m      2\u001b[0m t \u001b[38;5;241m=\u001b[39m pd\u001b[38;5;241m.\u001b[39mTimestamp\u001b[38;5;241m.\u001b[39mnow()\n\u001b[0;32m      3\u001b[0m \u001b[38;5;28;01mif\u001b[39;00m p \u001b[38;5;241m==\u001b[39m \u001b[38;5;241m0\u001b[39m:\n\u001b[1;32m----> 4\u001b[0m     pred_mean \u001b[38;5;241m=\u001b[39m gmean([\u001b[43mclf\u001b[49m\u001b[38;5;241;43m.\u001b[39;49m\u001b[43mpredict\u001b[49m\u001b[43m(\u001b[49m\u001b[43mtest_x\u001b[49m\u001b[43m)\u001b[49m\u001b[43m[\u001b[49m\u001b[43m:\u001b[49m\u001b[43m,\u001b[49m\u001b[38;5;241;43m1\u001b[39;49m\u001b[43m]\u001b[49m \u001b[38;5;28;01mfor\u001b[39;00m name, clf, _ \u001b[38;5;129;01min\u001b[39;00m models], axis\u001b[38;5;241m=\u001b[39m\u001b[38;5;241m0\u001b[39m)\n\u001b[0;32m      5\u001b[0m \u001b[38;5;28;01melse\u001b[39;00m:\n\u001b[0;32m      6\u001b[0m     preds \u001b[38;5;241m=\u001b[39m [clf\u001b[38;5;241m.\u001b[39mpredict(test_x)[:,\u001b[38;5;241m1\u001b[39m] \u001b[38;5;28;01mfor\u001b[39;00m name, clf, _ \u001b[38;5;129;01min\u001b[39;00m models]\n",
      "\u001b[1;31mIndexError\u001b[0m: too many indices for array: array is 1-dimensional, but 2 were indexed"
     ]
    }
   ],
   "source": [
    "# Apply the best averaging ensemble model to Unseen Data\n",
    "t = pd.Timestamp.now()\n",
    "if p == 0:\n",
    "    pred_mean = gmean([clf.predict(test_x)[:,1] for name, clf, _ in models], axis=0)\n",
    "else:\n",
    "    preds = [clf.predict(test_x)[:,1] for name, clf, _ in models]\n",
    "    pred_mean = (np.sum(np.array(preds)**p, axis=0) / len(models))**(1/p)\n",
    "pd.DataFrame({'ID': test_id, 'Y_LABEL': pred_mean}).to_csv(f'submission_avg_{t.month:02}{t.day:02}_{t.hour:02}{t.minute:02}.csv',index=False)\n",
    "\n",
    "# Apply the stacking model to Unseen Data\n",
    "pd.DataFrame({'ID': test_id, 'Y_LABEL': stk_clf.predict(test_x)[:,1]}).to_csv(f'submission_stk_{t.month:02}{t.day:02}_{t.hour:02}{t.minute:02}.csv', index=False)"
   ]
  },
  {
   "cell_type": "code",
   "execution_count": 91,
   "id": "340064ae",
   "metadata": {},
   "outputs": [],
   "source": [
    "pd.DataFrame({'ID': test_id, 'Y_LABEL': stk_clf.predict_proba(test_x)[:,1]})['Y_LABEL'].apply(lambda x : 1 if x > 0.5 else 0).to_csv(f'submission_stk_{t.month:02}{t.day:02}_{t.hour:02}{t.minute:02}.csv', index=False)"
   ]
  },
  {
   "cell_type": "code",
   "execution_count": null,
   "id": "d38346e2",
   "metadata": {},
   "outputs": [],
   "source": []
  },
  {
   "cell_type": "code",
   "execution_count": null,
   "id": "f5975c68",
   "metadata": {},
   "outputs": [],
   "source": []
  }
 ],
 "metadata": {
  "kernelspec": {
   "display_name": "Python 3 (ipykernel)",
   "language": "python",
   "name": "python3"
  },
  "language_info": {
   "codemirror_mode": {
    "name": "ipython",
    "version": 3
   },
   "file_extension": ".py",
   "mimetype": "text/x-python",
   "name": "python",
   "nbconvert_exporter": "python",
   "pygments_lexer": "ipython3",
   "version": "3.9.12"
  }
 },
 "nbformat": 4,
 "nbformat_minor": 5
}

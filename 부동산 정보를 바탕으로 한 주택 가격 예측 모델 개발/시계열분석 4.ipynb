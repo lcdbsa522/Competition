{
 "cells": [
  {
   "cell_type": "markdown",
   "metadata": {},
   "source": [
    "## 프로그램"
   ]
  },
  {
   "cell_type": "code",
   "execution_count": 235,
   "metadata": {},
   "outputs": [],
   "source": [
    "import pandas as pd\n",
    "import numpy as np\n",
    "import matplotlib.pyplot as plt\n",
    "from pmdarima.arima import auto_arima\n",
    "%matplotlib inline\n",
    "plt.rc('font', family = 'Malgun Gothic')\n",
    "plt.rcParams['axes.unicode_minus'] = False"
   ]
  },
  {
   "cell_type": "markdown",
   "metadata": {},
   "source": [
    "## 데이터 불러오기"
   ]
  },
  {
   "cell_type": "code",
   "execution_count": 236,
   "metadata": {
    "scrolled": true
   },
   "outputs": [],
   "source": [
    "apart_time = pd.read_csv('time_series.csv', encoding = 'cp949')\n",
    "apart_time['Date'] = pd.to_datetime(apart_time['Date'])\n",
    "weight = pd.read_csv('weight.csv',encoding = 'cp949')"
   ]
  },
  {
   "cell_type": "markdown",
   "metadata": {},
   "source": [
    "# Program"
   ]
  },
  {
   "cell_type": "code",
   "execution_count": null,
   "metadata": {
    "scrolled": false
   },
   "outputs": [
    {
     "name": "stdout",
     "output_type": "stream",
     "text": [
      "행정동 :상계제1동\n"
     ]
    }
   ],
   "source": [
    "dong = input('행정동 :')\n",
    "house = input('단지 :')\n",
    "\n",
    "time_price = apart_time.query('행정동 == @dong and 단지 == @house and Date < \"2020-04-01\" ')[['Date','price']].set_index('Date')\n",
    "time_price.plot(figsize = (15,6))\n",
    "plt.show()\n",
    "\n",
    "split_date = pd.Timestamp('12-31-2018')\n",
    "train_price = time_price.loc[:split_date, ['price']]\n",
    "test_price = time_price.loc[split_date:, ['price']]\n",
    "\n",
    "plt.figure(figsize=(15,6))\n",
    "plt.plot(train_price)\n",
    "plt.plot(test_price)\n",
    "plt.legend(['train', 'test'])\n",
    "plt.show()\n",
    "\n",
    "# ARIMA 모델 만들기\n",
    "arima_model = auto_arima(train_price, start_p = 0, d = 1, start_q = 0,\n",
    "                         max_p = 5, max_d = 5, max_q = 5, start_P = 0,\n",
    "                         D = 1, start_Q = 0, max_P = 5, max_D = 5,\n",
    "                         max_Q = 5, m = 12, seasonal = True,\n",
    "                         error_action = 'warn', trace = True,\n",
    "                         supress_warnings = True, stepwise = True,\n",
    "                         random_state = 20, n_fits = 50)\n",
    "\n",
    "arima_model.summary()\n",
    "\n",
    "# 시계열 분석을 활용한 예측값\n",
    "prediction = pd.DataFrame(arima_model.predict(n_periods = len(test_price)),index = test_price.index)\n",
    "prediction.columns = ['predicted_price']\n",
    "\n",
    "# 예측값 시각화\n",
    "plt.figure(figsize = (8,5))\n",
    "plt.plot(train_price,label = 'Training')\n",
    "plt.plot(test_price,label = 'Test')\n",
    "plt.plot(prediction,label = 'Predicted')\n",
    "plt.legend(loc = 'Left corner')\n",
    "plt.show()\n",
    "\n",
    "# 정확도\n",
    "from sklearn.metrics import r2_score\n",
    "test_price['predicted_price'] = prediction\n",
    "r2_score(test_price['price'],test_price['predicted_price'])"
   ]
  },
  {
   "cell_type": "code",
   "execution_count": 216,
   "metadata": {},
   "outputs": [],
   "source": [
    "w = weight.query('행정동 == @dong')"
   ]
  },
  {
   "cell_type": "code",
   "execution_count": 228,
   "metadata": {},
   "outputs": [],
   "source": [
    "prediction['weight'] = [0.022868,0.022868,0.022868,0.022868,0.022868,0.022868,\n",
    "                        0.021732,0.021732,0.021732,0.022868,0.022868,0.022868,\n",
    "                        0.022868,0.022868,0.022868]"
   ]
  },
  {
   "cell_type": "code",
   "execution_count": 230,
   "metadata": {},
   "outputs": [],
   "source": [
    "prediction['predicted_price_w'] = prediction['predicted_price'] + prediction['predicted_price']*prediction['weight']"
   ]
  },
  {
   "cell_type": "code",
   "execution_count": 231,
   "metadata": {},
   "outputs": [
    {
     "data": {
      "text/html": [
       "<div>\n",
       "<style scoped>\n",
       "    .dataframe tbody tr th:only-of-type {\n",
       "        vertical-align: middle;\n",
       "    }\n",
       "\n",
       "    .dataframe tbody tr th {\n",
       "        vertical-align: top;\n",
       "    }\n",
       "\n",
       "    .dataframe thead th {\n",
       "        text-align: right;\n",
       "    }\n",
       "</style>\n",
       "<table border=\"1\" class=\"dataframe\">\n",
       "  <thead>\n",
       "    <tr style=\"text-align: right;\">\n",
       "      <th></th>\n",
       "      <th>predicted_price</th>\n",
       "      <th>weight</th>\n",
       "      <th>predicted_price_w</th>\n",
       "    </tr>\n",
       "    <tr>\n",
       "      <th>Date</th>\n",
       "      <th></th>\n",
       "      <th></th>\n",
       "      <th></th>\n",
       "    </tr>\n",
       "  </thead>\n",
       "  <tbody>\n",
       "    <tr>\n",
       "      <th>2019-01-01</th>\n",
       "      <td>551.947590</td>\n",
       "      <td>0.022868</td>\n",
       "      <td>564.569528</td>\n",
       "    </tr>\n",
       "    <tr>\n",
       "      <th>2019-02-01</th>\n",
       "      <td>562.980363</td>\n",
       "      <td>0.022868</td>\n",
       "      <td>575.854598</td>\n",
       "    </tr>\n",
       "    <tr>\n",
       "      <th>2019-03-01</th>\n",
       "      <td>558.710040</td>\n",
       "      <td>0.022868</td>\n",
       "      <td>571.486621</td>\n",
       "    </tr>\n",
       "    <tr>\n",
       "      <th>2019-04-01</th>\n",
       "      <td>570.712031</td>\n",
       "      <td>0.022868</td>\n",
       "      <td>583.763073</td>\n",
       "    </tr>\n",
       "    <tr>\n",
       "      <th>2019-05-01</th>\n",
       "      <td>562.331928</td>\n",
       "      <td>0.022868</td>\n",
       "      <td>575.191335</td>\n",
       "    </tr>\n",
       "    <tr>\n",
       "      <th>2019-06-01</th>\n",
       "      <td>578.703722</td>\n",
       "      <td>0.022868</td>\n",
       "      <td>591.937518</td>\n",
       "    </tr>\n",
       "    <tr>\n",
       "      <th>2019-07-01</th>\n",
       "      <td>580.676755</td>\n",
       "      <td>0.021732</td>\n",
       "      <td>593.296022</td>\n",
       "    </tr>\n",
       "    <tr>\n",
       "      <th>2019-08-01</th>\n",
       "      <td>579.361314</td>\n",
       "      <td>0.021732</td>\n",
       "      <td>591.951994</td>\n",
       "    </tr>\n",
       "    <tr>\n",
       "      <th>2019-09-01</th>\n",
       "      <td>592.136278</td>\n",
       "      <td>0.021732</td>\n",
       "      <td>605.004584</td>\n",
       "    </tr>\n",
       "    <tr>\n",
       "      <th>2019-10-01</th>\n",
       "      <td>603.485787</td>\n",
       "      <td>0.022868</td>\n",
       "      <td>617.286300</td>\n",
       "    </tr>\n",
       "    <tr>\n",
       "      <th>2019-11-01</th>\n",
       "      <td>597.053583</td>\n",
       "      <td>0.022868</td>\n",
       "      <td>610.707005</td>\n",
       "    </tr>\n",
       "    <tr>\n",
       "      <th>2019-12-01</th>\n",
       "      <td>603.759152</td>\n",
       "      <td>0.022868</td>\n",
       "      <td>617.565916</td>\n",
       "    </tr>\n",
       "    <tr>\n",
       "      <th>2020-01-01</th>\n",
       "      <td>616.997321</td>\n",
       "      <td>0.022868</td>\n",
       "      <td>631.106816</td>\n",
       "    </tr>\n",
       "    <tr>\n",
       "      <th>2020-02-01</th>\n",
       "      <td>628.908193</td>\n",
       "      <td>0.022868</td>\n",
       "      <td>643.290066</td>\n",
       "    </tr>\n",
       "    <tr>\n",
       "      <th>2020-03-01</th>\n",
       "      <td>625.515969</td>\n",
       "      <td>0.022868</td>\n",
       "      <td>639.820269</td>\n",
       "    </tr>\n",
       "  </tbody>\n",
       "</table>\n",
       "</div>"
      ],
      "text/plain": [
       "            predicted_price    weight  predicted_price_w\n",
       "Date                                                    \n",
       "2019-01-01       551.947590  0.022868         564.569528\n",
       "2019-02-01       562.980363  0.022868         575.854598\n",
       "2019-03-01       558.710040  0.022868         571.486621\n",
       "2019-04-01       570.712031  0.022868         583.763073\n",
       "2019-05-01       562.331928  0.022868         575.191335\n",
       "2019-06-01       578.703722  0.022868         591.937518\n",
       "2019-07-01       580.676755  0.021732         593.296022\n",
       "2019-08-01       579.361314  0.021732         591.951994\n",
       "2019-09-01       592.136278  0.021732         605.004584\n",
       "2019-10-01       603.485787  0.022868         617.286300\n",
       "2019-11-01       597.053583  0.022868         610.707005\n",
       "2019-12-01       603.759152  0.022868         617.565916\n",
       "2020-01-01       616.997321  0.022868         631.106816\n",
       "2020-02-01       628.908193  0.022868         643.290066\n",
       "2020-03-01       625.515969  0.022868         639.820269"
      ]
     },
     "execution_count": 231,
     "metadata": {},
     "output_type": "execute_result"
    }
   ],
   "source": [
    "prediction"
   ]
  },
  {
   "cell_type": "code",
   "execution_count": 233,
   "metadata": {},
   "outputs": [],
   "source": [
    "prediction = prediction['predicted_price_w'].reset_index().set_index('Date')"
   ]
  },
  {
   "cell_type": "code",
   "execution_count": 234,
   "metadata": {},
   "outputs": [
    {
     "name": "stderr",
     "output_type": "stream",
     "text": [
      "C:\\Users\\Lee_HyeonJun\\Anaconda3\\lib\\site-packages\\ipykernel_launcher.py:6: MatplotlibDeprecationWarning: Unrecognized location 'Left corner'. Falling back on 'best'; valid locations are\n",
      "\tbest\n",
      "\tupper right\n",
      "\tupper left\n",
      "\tlower left\n",
      "\tlower right\n",
      "\tright\n",
      "\tcenter left\n",
      "\tcenter right\n",
      "\tlower center\n",
      "\tupper center\n",
      "\tcenter\n",
      "This will raise an exception in 3.3.\n",
      "  \n"
     ]
    },
    {
     "data": {
      "image/png": "[encoded data removed]",
      "text/plain": [
       "<Figure size 576x360 with 1 Axes>"
      ]
     },
     "metadata": {
      "needs_background": "light"
     },
     "output_type": "display_data"
    },
    {
     "data": {
      "text/plain": [
       "0.6104998831234606"
      ]
     },
     "execution_count": 234,
     "metadata": {},
     "output_type": "execute_result"
    }
   ],
   "source": [
    "# 예측값 시각화\n",
    "plt.figure(figsize = (8,5))\n",
    "plt.plot(train_price,label = 'Training')\n",
    "plt.plot(test_price,label = 'Test')\n",
    "plt.plot(prediction,label = 'Predicted')\n",
    "plt.legend(loc = 'Left corner')\n",
    "plt.show()\n",
    "\n",
    "# 정확도\n",
    "from sklearn.metrics import r2_score\n",
    "test_price['predicted_price'] = prediction\n",
    "r2_score(test_price['price'],test_price['predicted_price'])"
   ]
  }
 ],
 "metadata": {
  "kernelspec": {
   "display_name": "Python 3",
   "language": "python",
   "name": "python3"
  },
  "language_info": {
   "codemirror_mode": {
    "name": "ipython",
    "version": 3
   },
   "file_extension": ".py",
   "mimetype": "text/x-python",
   "name": "python",
   "nbconvert_exporter": "python",
   "pygments_lexer": "ipython3",
   "version": "3.7.3"
  }
 },
 "nbformat": 4,
 "nbformat_minor": 4
}

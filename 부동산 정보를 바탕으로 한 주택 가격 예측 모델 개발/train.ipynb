{
 "cells": [
  {
   "cell_type": "markdown",
   "metadata": {},
   "source": [
    "# 모듈"
   ]
  },
  {
   "cell_type": "code",
   "execution_count": 1,
   "metadata": {},
   "outputs": [
    {
     "name": "stderr",
     "output_type": "stream",
     "text": [
      "\n",
      "Bad key \"text.kerning_factor\" on line 4 in\n",
      "C:\\Users\\Shin\\Anaconda3\\lib\\site-packages\\matplotlib\\mpl-data\\stylelib\\_classic_test_patch.mplstyle.\n",
      "You probably need to get an updated matplotlibrc file from\n",
      "http://github.com/matplotlib/matplotlib/blob/master/matplotlibrc.template\n",
      "or from the matplotlib source distribution\n"
     ]
    }
   ],
   "source": [
    "import pandas as pd\n",
    "import numpy as np\n",
    "import matplotlib.pyplot as plt\n",
    "import random\n",
    "import tensorflow as tf\n",
    "from tqdm import tqdm\n",
    "%matplotlib inline"
   ]
  },
  {
   "cell_type": "code",
   "execution_count": 2,
   "metadata": {},
   "outputs": [],
   "source": [
    "# 시드고정\n",
    "np.random.seed(7)\n",
    "random.seed(7)\n",
    "tf.random.set_seed(7)"
   ]
  },
  {
   "cell_type": "markdown",
   "metadata": {},
   "source": [
    "# EDA"
   ]
  },
  {
   "cell_type": "code",
   "execution_count": 3,
   "metadata": {},
   "outputs": [],
   "source": [
    "# to be continued..."
   ]
  },
  {
   "cell_type": "code",
   "execution_count": 4,
   "metadata": {},
   "outputs": [],
   "source": [
    "# y끼리 상관계수 살펴보기"
   ]
  },
  {
   "cell_type": "markdown",
   "metadata": {},
   "source": [
    "# 데이터 전처리"
   ]
  },
  {
   "cell_type": "code",
   "execution_count": 5,
   "metadata": {},
   "outputs": [],
   "source": [
    "train = pd.read_csv('train.csv')\n",
    "test = pd.read_csv('test.csv')"
   ]
  },
  {
   "cell_type": "code",
   "execution_count": 6,
   "metadata": {},
   "outputs": [],
   "source": [
    "# 특성별로 column 구분하기\n",
    "\n",
    "temp = train[['X00', 'X07', 'X28', 'X31', 'X32']]\n",
    "press = train[['X01', 'X06', 'X22', 'X27', 'X29']]                  \n",
    "wind_speed = train[['X02', 'X03', 'X18', 'X24', 'X26']]       \n",
    "accum_precipitation = train[['X04', 'X10', 'X21', 'X36', 'X39']]     \n",
    "baro_press = train[['X05', 'X08', 'X09', 'X23', 'X33']]             \n",
    "accum_sun = train[['X11','X14','X16','X19','X34']]          \n",
    "humidity = train[['X12', 'X20', 'X30', 'X37', 'X38']]\n",
    "wind_direction = train[['X13', 'X15', 'X17', 'X25', 'X35']]\n",
    "y_temperature = train[['Y00','Y01','Y02','Y03','Y04','Y05','Y06',\n",
    "                            'Y07','Y08','Y09','Y10','Y11','Y12','Y13','Y14',\n",
    "                            'Y15','Y16','Y17','Y18']]"
   ]
  },
  {
   "cell_type": "code",
   "execution_count": 7,
   "metadata": {
    "scrolled": true
   },
   "outputs": [
    {
     "name": "stderr",
     "output_type": "stream",
     "text": [
      "C:\\Users\\Shin\\Anaconda3\\lib\\site-packages\\pandas\\core\\frame.py:3781: SettingWithCopyWarning: \n",
      "A value is trying to be set on a copy of a slice from a DataFrame\n",
      "\n",
      "See the caveats in the documentation: http://pandas.pydata.org/pandas-docs/stable/indexing.html#indexing-view-versus-copy\n",
      "  return super(DataFrame, self).rename(**kwargs)\n"
     ]
    }
   ],
   "source": [
    "# column renaming\n",
    "temp.rename({'X00':'temp1','X07':'temp2','X28':'temp3','X31':'temp4','X32':'temp5'}, axis=1, inplace=True)\n",
    "press.rename({'X01':'press1','X06':'press2','X22':'press3','X27':'press4','X29':'press5'}, axis=1, inplace=True)\n",
    "wind_speed.rename({'X02':'wind_speed1','X03':'wind_speed2','X18':'wind_speed3','X24':'wind_speed4','X26':'wind_speed5'}, axis=1, inplace=True)\n",
    "accum_precipitation.rename({'X04':'accum_precipitation1','X10':'accum_precipitation2','X21':'accum_precipitation3','X36':'accum_precipitation4','X39':'accum_precipitation5'}, axis=1, inplace=True)\n",
    "baro_press.rename({'X05':'baro_press1','X08':'baro_press2','X09':'baro_press3','X23':'baro_press4','X33':'baro_press5'}, axis=1, inplace=True)\n",
    "accum_sun.rename({'X11':'accum_sun1','X14':'accum_sun2','X16':'accum_sun3','X19':'accum_sun4','X34':'accum_sun5'}, axis=1, inplace=True)\n",
    "humidity.rename({'X12':'humidity1','X20':'humidity2','X30':'humidity3','X37':'humidity4','X38':'humidity5'}, axis=1, inplace=True)\n",
    "wind_direction.rename({'X13':'wind_direction1','X15':'wind_direction2','X17':'wind_direction3','X25':'wind_direction4','X35':'wind_direction5'}, axis=1, inplace=True)"
   ]
  },
  {
   "cell_type": "code",
   "execution_count": 8,
   "metadata": {},
   "outputs": [],
   "source": [
    "# train으로 합치기\n",
    "train=pd.DataFrame()\n",
    "train=pd.concat([temp, press, wind_speed, accum_precipitation, baro_press, accum_sun, humidity, wind_direction, y_temperature], axis=1)"
   ]
  },
  {
   "cell_type": "code",
   "execution_count": 9,
   "metadata": {},
   "outputs": [],
   "source": [
    "# test도 동일적용\n",
    "\n",
    "temp = test[['X00', 'X07', 'X28', 'X31', 'X32']]\n",
    "press = test[['X01', 'X06', 'X22', 'X27', 'X29']]                  #\n",
    "wind_speed = test[['X02', 'X03', 'X18', 'X24', 'X26']]       \n",
    "accum_precipitation = test[['X04', 'X10', 'X21', 'X36', 'X39']]     \n",
    "baro_press = test[['X05', 'X08', 'X09', 'X23', 'X33']]             #\n",
    "accum_sun = test[['X11','X14','X16','X19','X34']]          \n",
    "humidity = test[['X12', 'X20', 'X30', 'X37', 'X38']]\n",
    "wind_direction = test[['X13', 'X15', 'X17', 'X25', 'X35']]"
   ]
  },
  {
   "cell_type": "code",
   "execution_count": 10,
   "metadata": {},
   "outputs": [],
   "source": [
    "# column renaming\n",
    "\n",
    "temp.rename({'X00':'temp1','X07':'temp2','X28':'temp3','X31':'temp4','X32':'temp5'}, axis=1, inplace=True)\n",
    "press.rename({'X01':'press1','X06':'press2','X22':'press3','X27':'press4','X29':'press5'}, axis=1, inplace=True)\n",
    "wind_speed.rename({'X02':'wind_speed1','X03':'wind_speed2','X18':'wind_speed3','X24':'wind_speed4','X26':'wind_speed5'}, axis=1, inplace=True)\n",
    "accum_precipitation.rename({'X04':'accum_precipitation1','X10':'accum_precipitation2','X21':'accum_precipitation3','X36':'accum_precipitation4','X39':'accum_precipitation5'}, axis=1, inplace=True)\n",
    "baro_press.rename({'X05':'baro_press1','X08':'baro_press2','X09':'baro_press3','X23':'baro_press4','X33':'baro_press5'}, axis=1, inplace=True)\n",
    "accum_sun.rename({'X11':'accum_sun1','X14':'accum_sun2','X16':'accum_sun3','X19':'accum_sun4','X34':'accum_sun5'}, axis=1, inplace=True)\n",
    "humidity.rename({'X12':'humidity1','X20':'humidity2','X30':'humidity3','X37':'humidity4','X38':'humidity5'}, axis=1, inplace=True)\n",
    "wind_direction.rename({'X13':'wind_direction1','X15':'wind_direction2','X17':'wind_direction3','X25':'wind_direction4','X35':'wind_direction5'}, axis=1, inplace=True)"
   ]
  },
  {
   "cell_type": "code",
   "execution_count": 11,
   "metadata": {},
   "outputs": [],
   "source": [
    "# test로 합치기\n",
    "\n",
    "test=pd.DataFrame()\n",
    "test=pd.concat([temp, press, wind_speed, accum_precipitation, baro_press, accum_sun, humidity, wind_direction], axis=1)"
   ]
  },
  {
   "cell_type": "code",
   "execution_count": 12,
   "metadata": {},
   "outputs": [],
   "source": [
    "# 요소 값이 0인 column 제거하기\n",
    "\n",
    "train.drop(['accum_sun4', 'accum_sun3', 'accum_sun2'], axis=1, inplace=True)\n",
    "test.drop(['accum_sun4', 'accum_sun3', 'accum_sun2'], axis=1, inplace=True)"
   ]
  },
  {
   "cell_type": "code",
   "execution_count": 13,
   "metadata": {},
   "outputs": [],
   "source": [
    "# 관련없는 Y값 제거 후 renaming\n",
    "\n",
    "train.drop(['Y00','Y03','Y04'], axis=1, inplace=True)\n",
    "train=train.rename(columns={'Y01':'Y00', 'Y02':'Y01', 'Y05':'Y02', 'Y06':'Y03', 'Y07':'Y04', 'Y08':'Y05', 'Y09':'Y06', 'Y10':'Y07', 'Y11':'Y08', 'Y12':'Y09', 'Y13':'Y10', 'Y14':'Y11', 'Y15':'Y12', 'Y16':'Y13', 'Y17':'Y14', 'Y18':'Y15'})"
   ]
  },
  {
   "cell_type": "code",
   "execution_count": 14,
   "metadata": {},
   "outputs": [],
   "source": [
    "# feature engineering을 위해 train_x, test_x 합치기\n",
    "X_train=train.iloc[:, :-16]\n",
    "concat_data=pd.concat([X_train, test], axis=0).reset_index()"
   ]
  },
  {
   "cell_type": "markdown",
   "metadata": {},
   "source": [
    "# 피처 엔지니어링"
   ]
  },
  {
   "cell_type": "code",
   "execution_count": 15,
   "metadata": {},
   "outputs": [
    {
     "data": {
      "text/html": [
       "<div>\n",
       "<style scoped>\n",
       "    .dataframe tbody tr th:only-of-type {\n",
       "        vertical-align: middle;\n",
       "    }\n",
       "\n",
       "    .dataframe tbody tr th {\n",
       "        vertical-align: top;\n",
       "    }\n",
       "\n",
       "    .dataframe thead th {\n",
       "        text-align: right;\n",
       "    }\n",
       "</style>\n",
       "<table border=\"1\" class=\"dataframe\">\n",
       "  <thead>\n",
       "    <tr style=\"text-align: right;\">\n",
       "      <th></th>\n",
       "      <th>index</th>\n",
       "      <th>temp1</th>\n",
       "      <th>temp2</th>\n",
       "      <th>temp3</th>\n",
       "      <th>temp4</th>\n",
       "      <th>temp5</th>\n",
       "      <th>press1</th>\n",
       "      <th>press2</th>\n",
       "      <th>press3</th>\n",
       "      <th>press4</th>\n",
       "      <th>...</th>\n",
       "      <th>humidity1</th>\n",
       "      <th>humidity2</th>\n",
       "      <th>humidity3</th>\n",
       "      <th>humidity4</th>\n",
       "      <th>humidity5</th>\n",
       "      <th>wind_direction1</th>\n",
       "      <th>wind_direction2</th>\n",
       "      <th>wind_direction3</th>\n",
       "      <th>wind_direction4</th>\n",
       "      <th>wind_direction5</th>\n",
       "    </tr>\n",
       "  </thead>\n",
       "  <tbody>\n",
       "    <tr>\n",
       "      <th>0</th>\n",
       "      <td>0</td>\n",
       "      <td>9.7</td>\n",
       "      <td>12.2</td>\n",
       "      <td>12.3</td>\n",
       "      <td>8.2</td>\n",
       "      <td>10.7</td>\n",
       "      <td>988.8</td>\n",
       "      <td>989.6</td>\n",
       "      <td>1002.5</td>\n",
       "      <td>1008.7</td>\n",
       "      <td>...</td>\n",
       "      <td>82.4</td>\n",
       "      <td>91.0</td>\n",
       "      <td>69.1</td>\n",
       "      <td>77.2</td>\n",
       "      <td>62.6</td>\n",
       "      <td>71.3</td>\n",
       "      <td>101.1</td>\n",
       "      <td>56.1</td>\n",
       "      <td>2.3</td>\n",
       "      <td>256.4</td>\n",
       "    </tr>\n",
       "    <tr>\n",
       "      <th>1</th>\n",
       "      <td>1</td>\n",
       "      <td>9.3</td>\n",
       "      <td>12.1</td>\n",
       "      <td>12.1</td>\n",
       "      <td>8.3</td>\n",
       "      <td>10.3</td>\n",
       "      <td>988.9</td>\n",
       "      <td>989.6</td>\n",
       "      <td>1002.5</td>\n",
       "      <td>1008.7</td>\n",
       "      <td>...</td>\n",
       "      <td>81.2</td>\n",
       "      <td>91.9</td>\n",
       "      <td>70.3</td>\n",
       "      <td>77.3</td>\n",
       "      <td>63.5</td>\n",
       "      <td>121.8</td>\n",
       "      <td>165.3</td>\n",
       "      <td>0.0</td>\n",
       "      <td>0.0</td>\n",
       "      <td>215.4</td>\n",
       "    </tr>\n",
       "    <tr>\n",
       "      <th>2</th>\n",
       "      <td>2</td>\n",
       "      <td>9.4</td>\n",
       "      <td>12.1</td>\n",
       "      <td>12.1</td>\n",
       "      <td>8.0</td>\n",
       "      <td>9.7</td>\n",
       "      <td>989.0</td>\n",
       "      <td>989.7</td>\n",
       "      <td>1002.4</td>\n",
       "      <td>1008.6</td>\n",
       "      <td>...</td>\n",
       "      <td>86.1</td>\n",
       "      <td>93.3</td>\n",
       "      <td>71.5</td>\n",
       "      <td>77.3</td>\n",
       "      <td>63.9</td>\n",
       "      <td>232.0</td>\n",
       "      <td>144.0</td>\n",
       "      <td>0.0</td>\n",
       "      <td>0.0</td>\n",
       "      <td>235.2</td>\n",
       "    </tr>\n",
       "    <tr>\n",
       "      <th>3</th>\n",
       "      <td>3</td>\n",
       "      <td>9.4</td>\n",
       "      <td>12.0</td>\n",
       "      <td>12.1</td>\n",
       "      <td>7.7</td>\n",
       "      <td>9.4</td>\n",
       "      <td>988.9</td>\n",
       "      <td>989.6</td>\n",
       "      <td>1002.4</td>\n",
       "      <td>1008.7</td>\n",
       "      <td>...</td>\n",
       "      <td>87.7</td>\n",
       "      <td>93.4</td>\n",
       "      <td>73.2</td>\n",
       "      <td>77.5</td>\n",
       "      <td>64.5</td>\n",
       "      <td>0.0</td>\n",
       "      <td>115.9</td>\n",
       "      <td>294.1</td>\n",
       "      <td>0.0</td>\n",
       "      <td>214.0</td>\n",
       "    </tr>\n",
       "    <tr>\n",
       "      <th>4</th>\n",
       "      <td>4</td>\n",
       "      <td>9.2</td>\n",
       "      <td>12.0</td>\n",
       "      <td>12.0</td>\n",
       "      <td>7.4</td>\n",
       "      <td>9.4</td>\n",
       "      <td>988.9</td>\n",
       "      <td>989.7</td>\n",
       "      <td>1002.4</td>\n",
       "      <td>1008.7</td>\n",
       "      <td>...</td>\n",
       "      <td>88.9</td>\n",
       "      <td>94.1</td>\n",
       "      <td>74.3</td>\n",
       "      <td>78.0</td>\n",
       "      <td>65.0</td>\n",
       "      <td>0.0</td>\n",
       "      <td>124.7</td>\n",
       "      <td>0.0</td>\n",
       "      <td>0.0</td>\n",
       "      <td>174.9</td>\n",
       "    </tr>\n",
       "  </tbody>\n",
       "</table>\n",
       "<p>5 rows × 38 columns</p>\n",
       "</div>"
      ],
      "text/plain": [
       "   index  temp1  temp2  temp3  temp4  temp5  press1  press2  press3  press4  \\\n",
       "0      0    9.7   12.2   12.3    8.2   10.7   988.8   989.6  1002.5  1008.7   \n",
       "1      1    9.3   12.1   12.1    8.3   10.3   988.9   989.6  1002.5  1008.7   \n",
       "2      2    9.4   12.1   12.1    8.0    9.7   989.0   989.7  1002.4  1008.6   \n",
       "3      3    9.4   12.0   12.1    7.7    9.4   988.9   989.6  1002.4  1008.7   \n",
       "4      4    9.2   12.0   12.0    7.4    9.4   988.9   989.7  1002.4  1008.7   \n",
       "\n",
       "        ...         humidity1  humidity2  humidity3  humidity4  humidity5  \\\n",
       "0       ...              82.4       91.0       69.1       77.2       62.6   \n",
       "1       ...              81.2       91.9       70.3       77.3       63.5   \n",
       "2       ...              86.1       93.3       71.5       77.3       63.9   \n",
       "3       ...              87.7       93.4       73.2       77.5       64.5   \n",
       "4       ...              88.9       94.1       74.3       78.0       65.0   \n",
       "\n",
       "   wind_direction1  wind_direction2  wind_direction3  wind_direction4  \\\n",
       "0             71.3            101.1             56.1              2.3   \n",
       "1            121.8            165.3              0.0              0.0   \n",
       "2            232.0            144.0              0.0              0.0   \n",
       "3              0.0            115.9            294.1              0.0   \n",
       "4              0.0            124.7              0.0              0.0   \n",
       "\n",
       "   wind_direction5  \n",
       "0            256.4  \n",
       "1            215.4  \n",
       "2            235.2  \n",
       "3            214.0  \n",
       "4            174.9  \n",
       "\n",
       "[5 rows x 38 columns]"
      ]
     },
     "execution_count": 15,
     "metadata": {},
     "output_type": "execute_result"
    }
   ],
   "source": [
    "# 데이터 확인\n",
    "concat_data.head()"
   ]
  },
  {
   "cell_type": "code",
   "execution_count": 16,
   "metadata": {
    "scrolled": true
   },
   "outputs": [],
   "source": [
    "# 누적강수량 -> 일일강수량으로 바꾸기\n",
    "\n",
    "accum_precipitation1=concat_data.accum_precipitation1\n",
    "accum_precipitation2=concat_data.accum_precipitation2\n",
    "accum_precipitation3=concat_data.accum_precipitation3\n",
    "accum_precipitation4=concat_data.accum_precipitation4\n",
    "accum_precipitation5=concat_data.accum_precipitation5\n",
    "\n",
    "pre1=accum_precipitation1-accum_precipitation1.shift(1)\n",
    "pre2=accum_precipitation2-accum_precipitation2.shift(1)\n",
    "pre3=accum_precipitation3-accum_precipitation3.shift(1)\n",
    "pre4=accum_precipitation4-accum_precipitation4.shift(1)\n",
    "pre5=accum_precipitation5-accum_precipitation5.shift(1)\n",
    "pre1[0]=0\n",
    "pre2[0]=0\n",
    "pre3[0]=0\n",
    "pre4[0]=0\n",
    "pre5[0]=0\n",
    "lst=[pre1, pre2, pre3, pre4, pre5]\n",
    "for i in lst:\n",
    "    for j in range(len(i)):\n",
    "        if i[j]<0:\n",
    "            i[j]=0\n",
    "            \n",
    "concat_data['precipitation1']=pre1\n",
    "concat_data['precipitation2']=pre2\n",
    "concat_data['precipitation3']=pre3\n",
    "concat_data['precipitation4']=pre4\n",
    "concat_data['precipitation5']=pre5"
   ]
  },
  {
   "cell_type": "code",
   "execution_count": 17,
   "metadata": {},
   "outputs": [],
   "source": [
    "# 누적일사량 -> 일일일사량으로 바꾸기\n",
    "\n",
    "accum_sun1=concat_data.accum_sun1\n",
    "accum_sun5=concat_data.accum_sun5\n",
    "\n",
    "sun1=accum_sun1-accum_sun1.shift(1)\n",
    "sun2=accum_sun5-accum_sun5.shift(1)\n",
    "sun1[0]=0\n",
    "sun2[0]=0\n",
    "lst=[sun1, sun2]\n",
    "for i in lst:\n",
    "    for j in range(len(i)):\n",
    "        if i[j]<0:\n",
    "            i[j]=0\n",
    "            \n",
    "concat_data['sun1']=sun1\n",
    "concat_data['sun2']=sun2"
   ]
  },
  {
   "cell_type": "code",
   "execution_count": 18,
   "metadata": {},
   "outputs": [],
   "source": [
    "# 누적강수량, 누적일사량 제거\n",
    "concat_data=concat_data.drop(['accum_precipitation1','accum_precipitation2','accum_precipitation3','accum_precipitation4','accum_precipitation5'\n",
    "                  ,'accum_sun1', 'accum_sun5'], axis=1)"
   ]
  },
  {
   "cell_type": "code",
   "execution_count": 19,
   "metadata": {},
   "outputs": [],
   "source": [
    "# id를 활용한 time 변수 만들기\n",
    "\n",
    "'''\n",
    "삼각함수에 대해서 다시 한 번 공부할 필요성이 생겼음.\n",
    "'''\n",
    "\n",
    "minute = (concat_data['index']%144).astype(int)\n",
    "minute\n",
    "hour= pd.Series((concat_data['index']%144/6).astype(int))\n",
    "hour\n",
    "\n",
    "min_in_day = 24*6\n",
    "hour_in_day = 24\n",
    "\n",
    "minute_sin = np.sin(np.pi*minute/min_in_day) \n",
    "hour_sin  = np.sin(np.pi*hour/hour_in_day)\n",
    "\n",
    "minute_sin.name = 'minute'\n",
    "hour_sin.name = 'hour'"
   ]
  },
  {
   "cell_type": "code",
   "execution_count": 20,
   "metadata": {
    "scrolled": true
   },
   "outputs": [],
   "source": [
    "# 데이터 합치기\n",
    "concat_data = pd.concat([minute_sin, hour_sin, concat_data], axis = 1)"
   ]
  },
  {
   "cell_type": "code",
   "execution_count": 21,
   "metadata": {},
   "outputs": [],
   "source": [
    "# 기압 제거? 기압이 왜 필요하지?\n",
    "# 해면기압 -> 평균 , 현재기압 공식 차이를 구함 // 의미있나?"
   ]
  },
  {
   "cell_type": "code",
   "execution_count": 22,
   "metadata": {},
   "outputs": [
    {
     "data": {
      "text/html": [
       "<div>\n",
       "<style scoped>\n",
       "    .dataframe tbody tr th:only-of-type {\n",
       "        vertical-align: middle;\n",
       "    }\n",
       "\n",
       "    .dataframe tbody tr th {\n",
       "        vertical-align: top;\n",
       "    }\n",
       "\n",
       "    .dataframe thead th {\n",
       "        text-align: right;\n",
       "    }\n",
       "</style>\n",
       "<table border=\"1\" class=\"dataframe\">\n",
       "  <thead>\n",
       "    <tr style=\"text-align: right;\">\n",
       "      <th></th>\n",
       "      <th>minute</th>\n",
       "      <th>hour</th>\n",
       "      <th>index</th>\n",
       "      <th>temp1</th>\n",
       "      <th>temp2</th>\n",
       "      <th>temp3</th>\n",
       "      <th>temp4</th>\n",
       "      <th>temp5</th>\n",
       "      <th>press1</th>\n",
       "      <th>press2</th>\n",
       "      <th>...</th>\n",
       "      <th>wind_direction3</th>\n",
       "      <th>wind_direction4</th>\n",
       "      <th>wind_direction5</th>\n",
       "      <th>precipitation1</th>\n",
       "      <th>precipitation2</th>\n",
       "      <th>precipitation3</th>\n",
       "      <th>precipitation4</th>\n",
       "      <th>precipitation5</th>\n",
       "      <th>sun1</th>\n",
       "      <th>sun2</th>\n",
       "    </tr>\n",
       "  </thead>\n",
       "  <tbody>\n",
       "    <tr>\n",
       "      <th>0</th>\n",
       "      <td>0.000000</td>\n",
       "      <td>0.0</td>\n",
       "      <td>0</td>\n",
       "      <td>9.7</td>\n",
       "      <td>12.2</td>\n",
       "      <td>12.3</td>\n",
       "      <td>8.2</td>\n",
       "      <td>10.7</td>\n",
       "      <td>988.8</td>\n",
       "      <td>989.6</td>\n",
       "      <td>...</td>\n",
       "      <td>56.1</td>\n",
       "      <td>2.3</td>\n",
       "      <td>256.4</td>\n",
       "      <td>0.0</td>\n",
       "      <td>0.0</td>\n",
       "      <td>0.0</td>\n",
       "      <td>0.0</td>\n",
       "      <td>0.0</td>\n",
       "      <td>0.0</td>\n",
       "      <td>0.0</td>\n",
       "    </tr>\n",
       "    <tr>\n",
       "      <th>1</th>\n",
       "      <td>0.021815</td>\n",
       "      <td>0.0</td>\n",
       "      <td>1</td>\n",
       "      <td>9.3</td>\n",
       "      <td>12.1</td>\n",
       "      <td>12.1</td>\n",
       "      <td>8.3</td>\n",
       "      <td>10.3</td>\n",
       "      <td>988.9</td>\n",
       "      <td>989.6</td>\n",
       "      <td>...</td>\n",
       "      <td>0.0</td>\n",
       "      <td>0.0</td>\n",
       "      <td>215.4</td>\n",
       "      <td>0.0</td>\n",
       "      <td>0.0</td>\n",
       "      <td>0.0</td>\n",
       "      <td>0.0</td>\n",
       "      <td>0.0</td>\n",
       "      <td>0.0</td>\n",
       "      <td>0.0</td>\n",
       "    </tr>\n",
       "    <tr>\n",
       "      <th>2</th>\n",
       "      <td>0.043619</td>\n",
       "      <td>0.0</td>\n",
       "      <td>2</td>\n",
       "      <td>9.4</td>\n",
       "      <td>12.1</td>\n",
       "      <td>12.1</td>\n",
       "      <td>8.0</td>\n",
       "      <td>9.7</td>\n",
       "      <td>989.0</td>\n",
       "      <td>989.7</td>\n",
       "      <td>...</td>\n",
       "      <td>0.0</td>\n",
       "      <td>0.0</td>\n",
       "      <td>235.2</td>\n",
       "      <td>0.0</td>\n",
       "      <td>0.0</td>\n",
       "      <td>0.0</td>\n",
       "      <td>0.0</td>\n",
       "      <td>0.0</td>\n",
       "      <td>0.0</td>\n",
       "      <td>0.0</td>\n",
       "    </tr>\n",
       "    <tr>\n",
       "      <th>3</th>\n",
       "      <td>0.065403</td>\n",
       "      <td>0.0</td>\n",
       "      <td>3</td>\n",
       "      <td>9.4</td>\n",
       "      <td>12.0</td>\n",
       "      <td>12.1</td>\n",
       "      <td>7.7</td>\n",
       "      <td>9.4</td>\n",
       "      <td>988.9</td>\n",
       "      <td>989.6</td>\n",
       "      <td>...</td>\n",
       "      <td>294.1</td>\n",
       "      <td>0.0</td>\n",
       "      <td>214.0</td>\n",
       "      <td>0.0</td>\n",
       "      <td>0.0</td>\n",
       "      <td>0.0</td>\n",
       "      <td>0.0</td>\n",
       "      <td>0.0</td>\n",
       "      <td>0.0</td>\n",
       "      <td>0.0</td>\n",
       "    </tr>\n",
       "    <tr>\n",
       "      <th>4</th>\n",
       "      <td>0.087156</td>\n",
       "      <td>0.0</td>\n",
       "      <td>4</td>\n",
       "      <td>9.2</td>\n",
       "      <td>12.0</td>\n",
       "      <td>12.0</td>\n",
       "      <td>7.4</td>\n",
       "      <td>9.4</td>\n",
       "      <td>988.9</td>\n",
       "      <td>989.7</td>\n",
       "      <td>...</td>\n",
       "      <td>0.0</td>\n",
       "      <td>0.0</td>\n",
       "      <td>174.9</td>\n",
       "      <td>0.0</td>\n",
       "      <td>0.0</td>\n",
       "      <td>0.0</td>\n",
       "      <td>0.0</td>\n",
       "      <td>0.0</td>\n",
       "      <td>0.0</td>\n",
       "      <td>0.0</td>\n",
       "    </tr>\n",
       "  </tbody>\n",
       "</table>\n",
       "<p>5 rows × 40 columns</p>\n",
       "</div>"
      ],
      "text/plain": [
       "     minute  hour  index  temp1  temp2  temp3  temp4  temp5  press1  press2  \\\n",
       "0  0.000000   0.0      0    9.7   12.2   12.3    8.2   10.7   988.8   989.6   \n",
       "1  0.021815   0.0      1    9.3   12.1   12.1    8.3   10.3   988.9   989.6   \n",
       "2  0.043619   0.0      2    9.4   12.1   12.1    8.0    9.7   989.0   989.7   \n",
       "3  0.065403   0.0      3    9.4   12.0   12.1    7.7    9.4   988.9   989.6   \n",
       "4  0.087156   0.0      4    9.2   12.0   12.0    7.4    9.4   988.9   989.7   \n",
       "\n",
       "   ...   wind_direction3  wind_direction4  wind_direction5  precipitation1  \\\n",
       "0  ...              56.1              2.3            256.4             0.0   \n",
       "1  ...               0.0              0.0            215.4             0.0   \n",
       "2  ...               0.0              0.0            235.2             0.0   \n",
       "3  ...             294.1              0.0            214.0             0.0   \n",
       "4  ...               0.0              0.0            174.9             0.0   \n",
       "\n",
       "   precipitation2  precipitation3  precipitation4  precipitation5  sun1  sun2  \n",
       "0             0.0             0.0             0.0             0.0   0.0   0.0  \n",
       "1             0.0             0.0             0.0             0.0   0.0   0.0  \n",
       "2             0.0             0.0             0.0             0.0   0.0   0.0  \n",
       "3             0.0             0.0             0.0             0.0   0.0   0.0  \n",
       "4             0.0             0.0             0.0             0.0   0.0   0.0  \n",
       "\n",
       "[5 rows x 40 columns]"
      ]
     },
     "execution_count": 22,
     "metadata": {},
     "output_type": "execute_result"
    }
   ],
   "source": [
    "# 풍향 categorical하게 바꾸기 or 제거하기\n",
    "concat_data.head()"
   ]
  },
  {
   "cell_type": "code",
   "execution_count": null,
   "metadata": {},
   "outputs": [],
   "source": []
  },
  {
   "cell_type": "code",
   "execution_count": 23,
   "metadata": {},
   "outputs": [],
   "source": [
    "# 상관계수 파악하기?"
   ]
  },
  {
   "cell_type": "markdown",
   "metadata": {},
   "source": [
    "# PCA"
   ]
  },
  {
   "cell_type": "markdown",
   "metadata": {},
   "source": [
    "# 모델 생성"
   ]
  },
  {
   "cell_type": "code",
   "execution_count": 24,
   "metadata": {},
   "outputs": [],
   "source": [
    "import xgboost as xgb\n",
    "from bayes_opt import BayesianOptimization\n",
    "from sklearn.metrics import mean_squared_error\n",
    "from sklearn.model_selection import train_test_split"
   ]
  },
  {
   "cell_type": "code",
   "execution_count": 25,
   "metadata": {},
   "outputs": [],
   "source": [
    "xgbr = xgb.XGBRegressor()"
   ]
  },
  {
   "cell_type": "markdown",
   "metadata": {},
   "source": [
    "# 모델 훈련"
   ]
  },
  {
   "cell_type": "code",
   "execution_count": 26,
   "metadata": {},
   "outputs": [
    {
     "name": "stderr",
     "output_type": "stream",
     "text": [
      "C:\\Users\\Shin\\Anaconda3\\lib\\site-packages\\xgboost\\core.py:587: FutureWarning: Series.base is deprecated and will be removed in a future version\n",
      "  if getattr(data, 'base', None) is not None and \\\n"
     ]
    }
   ],
   "source": [
    "# xgboost\n",
    "train_x = concat_data.iloc[:4752,]\n",
    "train_y = pd.concat([train[['Y12','Y13']].iloc[:-432,].mean(axis = 1),train['Y15'].iloc[-432:,]], ignore_index = True)\n",
    "\n",
    "X_train, X_test, y_train, y_test = train_test_split(train_x, train_y, test_size=0.2)\n",
    "\n",
    "# xgboost에 맞게 df 변환\n",
    "del(train_x, train_y)\n",
    "dtrain = xgb.DMatrix(X_train, label=y_train)\n",
    "del(X_train)\n",
    "dtest = xgb.DMatrix(X_test)\n",
    "del(X_test)"
   ]
  },
  {
   "cell_type": "code",
   "execution_count": 27,
   "metadata": {},
   "outputs": [],
   "source": [
    "def xgb_evaluate(max_depth, gamma, colsample_bytree, eta, min_child_weight, subsample):\n",
    "    params = {'eval_metric': 'rmse',\n",
    "              'max_depth': int(max_depth),\n",
    "              'subsample': float(subsample),\n",
    "              'eta': float(eta),\n",
    "              'gamma': gamma,\n",
    "              'colsample_bytree': colsample_bytree,\n",
    "              'min_child_weight' : int(min_child_weight)}\n",
    "    # Used around 1000 boosting rounds in the full model\n",
    "    cv_result = xgb.cv(params, dtrain, num_boost_round=100, nfold=3)    \n",
    "    \n",
    "    # Bayesian optimization only knows how to maximize, not minimize, so return the negative RMSE\n",
    "    return -1. * cv_result['test-rmse-mean'].iloc[-1]"
   ]
  },
  {
   "cell_type": "code",
   "execution_count": 28,
   "metadata": {},
   "outputs": [
    {
     "name": "stdout",
     "output_type": "stream",
     "text": [
      "|   iter    |  target   | colsam... |    eta    |   gamma   | max_depth | min_ch... | subsample |\n",
      "-------------------------------------------------------------------------------------------------\n",
      "|  1        | -0.8841   |  0.4908   |  0.08159  |  0.2404   |  3.037    |  4.778    |  0.7759   |\n",
      "|  2        | -0.8016   |  0.3749   |  0.08509  |  0.1623   |  4.848    |  4.57     |  0.7538   |\n",
      "|  3        | -1.057    |  0.5679   |  0.06988  |  0.9667   |  2.238    |  5.684    |  0.7074   |\n",
      "|  4        | -0.7485   |  0.3      |  0.1      |  0.0      |  5.0      |  3.0      |  0.8      |\n",
      "|  5        | -0.7994   |  0.9      |  0.05     |  0.0      |  5.0      |  3.0      |  0.6      |\n",
      "|  6        | -1.066    |  0.3388   |  0.07327  |  0.03672  |  2.024    |  3.055    |  0.7906   |\n",
      "|  7        | -0.7548   |  0.3      |  0.1      |  1.0      |  5.0      |  3.0      |  0.8      |\n",
      "|  8        | -0.837    |  0.3      |  0.05     |  0.2897   |  5.0      |  3.0      |  0.6      |\n",
      "|  9        | -0.7456   |  0.9      |  0.1      |  0.0      |  5.0      |  6.0      |  0.8      |\n",
      "|  10       | -0.7388   |  0.9      |  0.1      |  0.0      |  5.0      |  3.0      |  0.8      |\n",
      "|  11       | -0.7451   |  0.9      |  0.1      |  1.0      |  5.0      |  6.0      |  0.8      |\n",
      "|  12       | -0.7512   |  0.3      |  0.1      |  0.0      |  5.0      |  6.0      |  0.8      |\n",
      "|  13       | -0.753    |  0.9      |  0.1      |  1.0      |  5.0      |  3.0      |  0.8      |\n",
      "|  14       | -0.7584   |  0.3      |  0.1      |  1.0      |  5.0      |  6.0      |  0.8      |\n",
      "|  15       | -0.8936   |  0.8494   |  0.09137  |  0.05051  |  3.931    |  5.997    |  0.7971   |\n",
      "|  16       | -0.7418   |  0.9      |  0.1      |  1.0      |  5.0      |  4.982    |  0.8      |\n",
      "|  17       | -0.8866   |  0.9      |  0.1      |  1.0      |  3.782    |  3.336    |  0.8      |\n",
      "|  18       | -0.7949   |  0.7948   |  0.09776  |  0.000749 |  4.973    |  3.532    |  0.7771   |\n",
      "=================================================================================================\n"
     ]
    }
   ],
   "source": [
    "xgb_bo = BayesianOptimization(xgb_evaluate, {'max_depth': (2, 5), \n",
    "                                             'gamma': (0, 1),\n",
    "                                             'colsample_bytree': (0.3, 0.9),\n",
    "                                              'eta' : (.05, .1),\n",
    "                                             'min_child_weight' : (3,6),\n",
    "                                             'subsample':(0.6, 0.8)})\n",
    "\n",
    "# Use the expected improvement acquisition function to handle negative numbers\n",
    "# Optimally needs quite a few more initiation points and number of iterations\n",
    "xgb_bo.maximize(init_points=3, n_iter=15, acq='ei')"
   ]
  },
  {
   "cell_type": "code",
   "execution_count": 29,
   "metadata": {},
   "outputs": [],
   "source": [
    "# best parameters\n",
    "params = xgb_bo.max['params']\n",
    "params['max_depth'] = int(params['max_depth'])"
   ]
  },
  {
   "cell_type": "code",
   "execution_count": 30,
   "metadata": {},
   "outputs": [],
   "source": [
    "model3 = xgb.train(params, dtrain, num_boost_round=100)"
   ]
  },
  {
   "cell_type": "code",
   "execution_count": 31,
   "metadata": {},
   "outputs": [],
   "source": [
    "result = model3.predict(xgb.DMatrix(concat_data.iloc[4752:,]))"
   ]
  },
  {
   "cell_type": "code",
   "execution_count": 32,
   "metadata": {},
   "outputs": [
    {
     "data": {
      "image/png": "[encoded data removed]",
      "text/plain": [
       "<Figure size 432x288 with 1 Axes>"
      ]
     },
     "metadata": {
      "needs_background": "light"
     },
     "output_type": "display_data"
    }
   ],
   "source": [
    "plt.plot(result)\n",
    "plt.show()"
   ]
  },
  {
   "cell_type": "markdown",
   "metadata": {},
   "source": [
    "### LSTM"
   ]
  },
  {
   "cell_type": "code",
   "execution_count": 33,
   "metadata": {},
   "outputs": [
    {
     "name": "stderr",
     "output_type": "stream",
     "text": [
      "100%|████████████████████████████████████████████████████████████████████████████| 4308/4308 [00:01<00:00, 4145.40it/s]\n",
      "100%|████████████████████████████████████████████████████████████████████████████| 4308/4308 [00:01<00:00, 4125.67it/s]\n",
      "100%|██████████████████████████████████████████████████████████████████████████| 16260/16260 [00:05<00:00, 2776.00it/s]\n"
     ]
    }
   ],
   "source": [
    "\n",
    "X_train = concat_data.iloc[:4752,]\n",
    "test = concat_data.iloc[4752:,]\n",
    "\n",
    "# standardization을 위해 평균과 표준편차 구하기\n",
    "MEAN = X_train.mean()\n",
    "STD = X_train.std()\n",
    "\n",
    "# 표준편차가 0일 경우 대비하여 1e-07 추가 \n",
    "X_train = (X_train - MEAN) / (STD + 1e-07)\n",
    "\n",
    "# RNN 모델에 입력 할 수 있는 시계열 형태로 데이터 변환 \n",
    "def convert_to_timeseries(df, interval):\n",
    "    sequence_list = [] \n",
    "    target_list = []\n",
    "    \n",
    "    for i in tqdm(range(df.shape[0] - interval)):\n",
    "        sequence_list.append(np.array(df.iloc[i:i+interval,:-1]))\n",
    "        target_list.append(df.iloc[i+interval,-1])\n",
    "    \n",
    "    sequence = np.array(sequence_list) \n",
    "    target = np.array(target_list)\n",
    "    \n",
    "    return sequence, target\n",
    "\n",
    "y_columns = ['Y12','Y13']\n",
    "\n",
    "# t시점 이전 120분의 데이터로 t시점의 온도를 추정할 수 있는 학습데이터 형성\n",
    "sequence = np.empty((0, 12, 40))\n",
    "target = np.empty((0,))\n",
    "for column in y_columns :\n",
    "    \n",
    "    concat = pd.concat([X_train, train[column]], axis = 1)\n",
    "\n",
    "    _sequence, _target = convert_to_timeseries(concat.head(144*30), interval = 12)\n",
    "\n",
    "    sequence = np.vstack((sequence, _sequence))\n",
    "    target = np.hstack((target, _target))\n",
    "    \n",
    "# convert_to_timeseries 함수를 쓰기 위한 dummy feature 생성\n",
    "X_train['dummy'] = 0\n",
    "\n",
    "# train set에서 도출된 평균과 표준편차로 standardization 실시 \n",
    "test = (test - MEAN) / (STD + 1e-07)\n",
    "\n",
    "# convert_to_timeseries 함수를 쓰기 위한 dummy feature 생성\n",
    "test['dummy'] = 0\n",
    "\n",
    "# train과 test 기간을 합쳐서 120분 간격으로 학습데이터 재구축\n",
    "X_test, _ = convert_to_timeseries(pd.concat([X_train, test], axis = 0), interval=12)\n",
    "\n",
    "# test set 기간인 후반부 80일에 맞게 자르기 \n",
    "X_test = X_test[-11520:, :, :]\n",
    "\n",
    "# 만들어 두었던 dummy feature 제거\n",
    "X_train.drop('dummy', axis = 1, inplace = True)\n",
    "test.drop('dummy', axis = 1, inplace = True)\n",
    "import tensorflow as tf\n",
    "\n",
    "simple_lstm_model_4 = tf.keras.models.Sequential([\n",
    "    tf.keras.layers.LSTM(64, input_shape=sequence.shape[-2:],\n",
    "                                             dropout=0.5,\n",
    "                     recurrent_dropout=0.5),\n",
    "    tf.keras.layers.Dense(128, activation='linear'),\n",
    "    tf.keras.layers.Dense(64, activation='linear'),\n",
    "    tf.keras.layers.Dense(1)\n",
    "])\n",
    "\n",
    "simple_lstm_model_4.compile(optimizer='adam', loss='mse')\n",
    "\n",
    "class myCallback(tf.keras.callbacks.Callback):\n",
    "    def on_epoch_end(self, epoch, logs = None):\n",
    "        if(logs.get('loss') <4):\n",
    "            print('\\n Loss is under 4, cancelling training')\n",
    "            self.model.stop_training = True\n",
    "            \n",
    "callbacks = myCallback()"
   ]
  },
  {
   "cell_type": "code",
   "execution_count": 34,
   "metadata": {
    "scrolled": true
   },
   "outputs": [
    {
     "name": "stdout",
     "output_type": "stream",
     "text": [
      "Train on 6892 samples, validate on 1724 samples\n",
      "Epoch 1/60\n",
      "6892/6892 - 3s - loss: 276.9280 - val_loss: 36.1180\n",
      "Epoch 2/60\n",
      "6892/6892 - 1s - loss: 29.7693 - val_loss: 9.7857\n",
      "Epoch 3/60\n",
      "6892/6892 - 1s - loss: 16.2337 - val_loss: 7.6838\n",
      "Epoch 4/60\n",
      "6892/6892 - 1s - loss: 13.2566 - val_loss: 5.9850\n",
      "Epoch 5/60\n",
      "6892/6892 - 1s - loss: 10.5072 - val_loss: 5.2146\n",
      "Epoch 6/60\n",
      "6892/6892 - 1s - loss: 9.4897 - val_loss: 4.5672\n",
      "Epoch 7/60\n",
      "6892/6892 - 1s - loss: 8.7976 - val_loss: 4.0774\n",
      "Epoch 8/60\n",
      "6892/6892 - 1s - loss: 8.0812 - val_loss: 3.9083\n",
      "Epoch 9/60\n",
      "6892/6892 - 1s - loss: 7.7979 - val_loss: 3.7926\n",
      "Epoch 10/60\n",
      "6892/6892 - 1s - loss: 7.5066 - val_loss: 3.5525\n",
      "Epoch 11/60\n",
      "6892/6892 - 1s - loss: 7.0591 - val_loss: 3.4236\n",
      "Epoch 12/60\n",
      "6892/6892 - 1s - loss: 6.6962 - val_loss: 3.6135\n",
      "Epoch 13/60\n",
      "6892/6892 - 1s - loss: 6.7226 - val_loss: 3.4479\n",
      "Epoch 14/60\n",
      "6892/6892 - 1s - loss: 6.3714 - val_loss: 3.3877\n",
      "Epoch 15/60\n",
      "6892/6892 - 1s - loss: 6.3236 - val_loss: 3.4044\n",
      "Epoch 16/60\n",
      "6892/6892 - 1s - loss: 6.1270 - val_loss: 3.2316\n",
      "Epoch 17/60\n",
      "6892/6892 - 1s - loss: 5.8952 - val_loss: 3.2753\n",
      "Epoch 18/60\n",
      "6892/6892 - 1s - loss: 6.0748 - val_loss: 3.5281\n",
      "Epoch 19/60\n",
      "6892/6892 - 1s - loss: 5.8087 - val_loss: 3.2981\n",
      "Epoch 20/60\n",
      "6892/6892 - 1s - loss: 5.9262 - val_loss: 3.1149\n",
      "Epoch 21/60\n",
      "6892/6892 - 1s - loss: 5.7206 - val_loss: 3.0987\n",
      "Epoch 22/60\n",
      "6892/6892 - 1s - loss: 5.3995 - val_loss: 3.2733\n",
      "Epoch 23/60\n",
      "6892/6892 - 1s - loss: 5.5250 - val_loss: 3.1958\n",
      "Epoch 24/60\n",
      "6892/6892 - 1s - loss: 5.5615 - val_loss: 3.2019\n",
      "Epoch 25/60\n",
      "6892/6892 - 1s - loss: 5.8018 - val_loss: 3.1550\n",
      "Epoch 26/60\n",
      "6892/6892 - 1s - loss: 5.2347 - val_loss: 2.9490\n",
      "Epoch 27/60\n",
      "6892/6892 - 1s - loss: 5.3596 - val_loss: 3.0390\n",
      "Epoch 28/60\n",
      "6892/6892 - 1s - loss: 5.4213 - val_loss: 3.2534\n",
      "Epoch 29/60\n",
      "6892/6892 - 1s - loss: 5.2245 - val_loss: 2.8710\n",
      "Epoch 30/60\n",
      "6892/6892 - 1s - loss: 5.3130 - val_loss: 2.8297\n",
      "Epoch 31/60\n",
      "6892/6892 - 1s - loss: 5.1991 - val_loss: 2.8061\n",
      "Epoch 32/60\n",
      "6892/6892 - 1s - loss: 5.2404 - val_loss: 2.7073\n",
      "Epoch 33/60\n",
      "6892/6892 - 1s - loss: 4.9483 - val_loss: 2.8044\n",
      "Epoch 34/60\n",
      "6892/6892 - 1s - loss: 5.0912 - val_loss: 2.9471\n",
      "Epoch 35/60\n",
      "6892/6892 - 1s - loss: 4.9503 - val_loss: 2.8659\n",
      "Epoch 36/60\n",
      "6892/6892 - 1s - loss: 4.8279 - val_loss: 2.8111\n",
      "Epoch 37/60\n",
      "6892/6892 - 1s - loss: 4.9372 - val_loss: 2.8346\n",
      "Epoch 38/60\n",
      "6892/6892 - 1s - loss: 4.8031 - val_loss: 2.9254\n",
      "Epoch 39/60\n",
      "6892/6892 - 1s - loss: 4.9137 - val_loss: 3.1256\n",
      "Epoch 40/60\n",
      "6892/6892 - 1s - loss: 5.2344 - val_loss: 2.6565\n",
      "Epoch 41/60\n",
      "6892/6892 - 1s - loss: 4.9097 - val_loss: 2.9477\n",
      "Epoch 42/60\n",
      "6892/6892 - 1s - loss: 5.1891 - val_loss: 2.7457\n",
      "Epoch 43/60\n",
      "6892/6892 - 1s - loss: 4.6947 - val_loss: 2.6281\n",
      "Epoch 44/60\n",
      "6892/6892 - 1s - loss: 4.8559 - val_loss: 2.6264\n",
      "Epoch 45/60\n",
      "6892/6892 - 1s - loss: 4.9030 - val_loss: 2.6679\n",
      "Epoch 46/60\n",
      "6892/6892 - 1s - loss: 4.5954 - val_loss: 2.3639\n",
      "Epoch 47/60\n",
      "6892/6892 - 1s - loss: 4.5069 - val_loss: 2.4855\n",
      "Epoch 48/60\n",
      "6892/6892 - 1s - loss: 4.5940 - val_loss: 2.3720\n",
      "Epoch 49/60\n",
      "6892/6892 - 1s - loss: 4.3879 - val_loss: 2.6228\n",
      "Epoch 50/60\n",
      "6892/6892 - 1s - loss: 4.7513 - val_loss: 2.9381\n",
      "Epoch 51/60\n",
      "6892/6892 - 1s - loss: 4.7363 - val_loss: 2.8480\n",
      "Epoch 52/60\n",
      "6892/6892 - 1s - loss: 4.6054 - val_loss: 2.5657\n",
      "Epoch 53/60\n",
      "6892/6892 - 1s - loss: 4.4099 - val_loss: 2.3664\n",
      "Epoch 54/60\n",
      "6892/6892 - 1s - loss: 4.3207 - val_loss: 2.4567\n",
      "Epoch 55/60\n",
      "6892/6892 - 1s - loss: 4.3960 - val_loss: 2.4545\n",
      "Epoch 56/60\n",
      "6892/6892 - 1s - loss: 4.5087 - val_loss: 2.4106\n",
      "Epoch 57/60\n",
      "6892/6892 - 1s - loss: 4.3364 - val_loss: 2.4091\n",
      "Epoch 58/60\n",
      "6892/6892 - 1s - loss: 4.4415 - val_loss: 2.3635\n",
      "Epoch 59/60\n",
      "6892/6892 - 1s - loss: 4.2329 - val_loss: 2.3030\n",
      "Epoch 60/60\n",
      "6892/6892 - 1s - loss: 4.0758 - val_loss: 2.3474\n"
     ]
    }
   ],
   "source": [
    "# 모델 학습\n",
    "hist = simple_lstm_model_4.fit(    \n",
    "    sequence, target,\n",
    "    epochs=120,\n",
    "    batch_size=128,\n",
    "    verbose=2,\n",
    "    shuffle=False,\n",
    "    callbacks = [callbacks],\n",
    "    validation_split = 0.2\n",
    ")"
   ]
  },
  {
   "cell_type": "code",
   "execution_count": 35,
   "metadata": {},
   "outputs": [
    {
     "data": {
      "image/png": "[encoded data removed]",
      "text/plain": [
       "<Figure size 432x288 with 1 Axes>"
      ]
     },
     "metadata": {
      "needs_background": "light"
     },
     "output_type": "display_data"
    }
   ],
   "source": [
    "# 시각화\n",
    "import matplotlib.pyplot as plt\n",
    "\n",
    "loss = hist.history['loss'][5:]\n",
    "val_loss = hist.history['val_loss'][5:]\n",
    "\n",
    "epochs = range(1, len(loss) + 1)\n",
    "\n",
    "plt.figure()\n",
    "\n",
    "plt.plot(epochs, loss, 'bo', label='Training loss')\n",
    "plt.plot(epochs, val_loss, 'b', label='Validation loss')\n",
    "plt.title('Training and validation loss')\n",
    "plt.legend()\n",
    "\n",
    "plt.show()"
   ]
  },
  {
   "cell_type": "code",
   "execution_count": 36,
   "metadata": {},
   "outputs": [
    {
     "data": {
      "image/png": "[encoded data removed]",
      "text/plain": [
       "<Figure size 432x288 with 1 Axes>"
      ]
     },
     "metadata": {
      "needs_background": "light"
     },
     "output_type": "display_data"
    }
   ],
   "source": [
    "plt.plot(simple_lstm_model_4.predict(X_test))\n",
    "plt.show()"
   ]
  },
  {
   "cell_type": "markdown",
   "metadata": {},
   "source": [
    "# lookback 144"
   ]
  },
  {
   "cell_type": "code",
   "execution_count": 37,
   "metadata": {},
   "outputs": [
    {
     "name": "stderr",
     "output_type": "stream",
     "text": [
      "100%|████████████████████████████████████████████████████████████████████████████| 4176/4176 [00:01<00:00, 3253.43it/s]\n",
      "100%|████████████████████████████████████████████████████████████████████████████| 4176/4176 [00:01<00:00, 3474.84it/s]\n",
      "100%|██████████████████████████████████████████████████████████████████████████| 16128/16128 [00:06<00:00, 2482.90it/s]\n"
     ]
    }
   ],
   "source": [
    "\n",
    "X_train = concat_data.iloc[:4752,]\n",
    "test = concat_data.iloc[4752:,]\n",
    "\n",
    "# standardization을 위해 평균과 표준편차 구하기\n",
    "MEAN = X_train.mean()\n",
    "STD = X_train.std()\n",
    "\n",
    "# 표준편차가 0일 경우 대비하여 1e-07 추가 \n",
    "X_train = (X_train - MEAN) / (STD + 1e-07)\n",
    "\n",
    "# RNN 모델에 입력 할 수 있는 시계열 형태로 데이터 변환 \n",
    "def convert_to_timeseries(df, interval):\n",
    "    sequence_list = [] \n",
    "    target_list = []\n",
    "    \n",
    "    for i in tqdm(range(df.shape[0] - interval)):\n",
    "        sequence_list.append(np.array(df.iloc[i:i+interval,:-1]))\n",
    "        target_list.append(df.iloc[i+interval,-1])\n",
    "    \n",
    "    sequence = np.array(sequence_list) \n",
    "    target = np.array(target_list)\n",
    "    \n",
    "    return sequence, target\n",
    "\n",
    "y_columns = ['Y12','Y13']\n",
    "\n",
    "# t시점 이전 120분의 데이터로 t시점의 온도를 추정할 수 있는 학습데이터 형성\n",
    "sequence = np.empty((0, 144, 40))\n",
    "target = np.empty((0,))\n",
    "for column in y_columns :\n",
    "    \n",
    "    concat = pd.concat([X_train, train[column]], axis = 1)\n",
    "\n",
    "    _sequence, _target = convert_to_timeseries(concat.head(144*30), interval = 144)\n",
    "\n",
    "    sequence = np.vstack((sequence, _sequence))\n",
    "    target = np.hstack((target, _target))\n",
    "    \n",
    "# convert_to_timeseries 함수를 쓰기 위한 dummy feature 생성\n",
    "X_train['dummy'] = 0\n",
    "\n",
    "# train set에서 도출된 평균과 표준편차로 standardization 실시 \n",
    "test = (test - MEAN) / (STD + 1e-07)\n",
    "\n",
    "# convert_to_timeseries 함수를 쓰기 위한 dummy feature 생성\n",
    "test['dummy'] = 0\n",
    "\n",
    "# train과 test 기간을 합쳐서 120분 간격으로 학습데이터 재구축\n",
    "X_test, _ = convert_to_timeseries(pd.concat([X_train, test], axis = 0), interval=144)\n",
    "\n",
    "# test set 기간인 후반부 80일에 맞게 자르기 \n",
    "X_test = X_test[-11520:, :, :]\n",
    "\n",
    "# 만들어 두었던 dummy feature 제거\n",
    "X_train.drop('dummy', axis = 1, inplace = True)\n",
    "test.drop('dummy', axis = 1, inplace = True)"
   ]
  },
  {
   "cell_type": "code",
   "execution_count": 38,
   "metadata": {
    "scrolled": true
   },
   "outputs": [
    {
     "name": "stdout",
     "output_type": "stream",
     "text": [
      "Train on 6681 samples, validate on 1671 samples\n",
      "Epoch 1/60\n",
      "6681/6681 - 12s - loss: 293.9832 - val_loss: 28.4718\n",
      "Epoch 2/60\n",
      "6681/6681 - 9s - loss: 24.9877 - val_loss: 8.1058\n",
      "Epoch 3/60\n",
      "6681/6681 - 9s - loss: 12.6744 - val_loss: 7.0632\n",
      "Epoch 4/60\n",
      "6681/6681 - 9s - loss: 10.4386 - val_loss: 5.9559\n",
      "Epoch 5/60\n",
      "6681/6681 - 9s - loss: 9.4163 - val_loss: 4.6908\n",
      "Epoch 6/60\n",
      "6681/6681 - 9s - loss: 8.8634 - val_loss: 4.5750\n",
      "Epoch 7/60\n",
      "6681/6681 - 9s - loss: 8.0839 - val_loss: 4.3179\n",
      "Epoch 8/60\n",
      "6681/6681 - 9s - loss: 7.4196 - val_loss: 4.1580\n",
      "Epoch 9/60\n",
      "6681/6681 - 10s - loss: 7.5971 - val_loss: 3.8310\n",
      "Epoch 10/60\n",
      "6681/6681 - 9s - loss: 6.6815 - val_loss: 3.7918\n",
      "Epoch 11/60\n",
      "6681/6681 - 10s - loss: 6.5288 - val_loss: 3.5171\n",
      "Epoch 12/60\n",
      "6681/6681 - 9s - loss: 6.3564 - val_loss: 3.4166\n",
      "Epoch 13/60\n",
      "6681/6681 - 10s - loss: 6.1669 - val_loss: 3.5158\n",
      "Epoch 14/60\n",
      "6681/6681 - 9s - loss: 6.2247 - val_loss: 3.2673\n",
      "Epoch 15/60\n",
      "6681/6681 - 10s - loss: 5.9697 - val_loss: 3.2702\n",
      "Epoch 16/60\n",
      "6681/6681 - 9s - loss: 5.6758 - val_loss: 3.2831\n",
      "Epoch 17/60\n",
      "6681/6681 - 9s - loss: 5.7932 - val_loss: 3.1567\n",
      "Epoch 18/60\n",
      "6681/6681 - 9s - loss: 5.6036 - val_loss: 2.9896\n",
      "Epoch 19/60\n",
      "6681/6681 - 9s - loss: 5.3722 - val_loss: 3.2262\n",
      "Epoch 20/60\n",
      "6681/6681 - 10s - loss: 5.3813 - val_loss: 2.9410\n",
      "Epoch 21/60\n",
      "6681/6681 - 10s - loss: 5.2461 - val_loss: 3.4160\n",
      "Epoch 22/60\n",
      "6681/6681 - 9s - loss: 5.2493 - val_loss: 3.4466\n",
      "Epoch 23/60\n",
      "6681/6681 - 9s - loss: 5.4135 - val_loss: 3.5863\n",
      "Epoch 24/60\n",
      "6681/6681 - 9s - loss: 5.4761 - val_loss: 2.9962\n",
      "Epoch 25/60\n",
      "6681/6681 - 10s - loss: 5.1897 - val_loss: 2.8291\n",
      "Epoch 26/60\n",
      "6681/6681 - 9s - loss: 4.9288 - val_loss: 2.8084\n",
      "Epoch 27/60\n",
      "6681/6681 - 9s - loss: 4.9216 - val_loss: 2.6487\n",
      "Epoch 28/60\n",
      "6681/6681 - 10s - loss: 4.9934 - val_loss: 3.0598\n",
      "Epoch 29/60\n",
      "6681/6681 - 10s - loss: 4.8168 - val_loss: 3.0772\n",
      "Epoch 30/60\n",
      "6681/6681 - 9s - loss: 4.8759 - val_loss: 3.1041\n",
      "Epoch 31/60\n",
      "6681/6681 - 9s - loss: 5.0045 - val_loss: 2.9566\n",
      "Epoch 32/60\n",
      "6681/6681 - 9s - loss: 4.8840 - val_loss: 2.7309\n",
      "Epoch 33/60\n",
      "6681/6681 - 9s - loss: 4.7693 - val_loss: 2.7481\n",
      "Epoch 34/60\n",
      "6681/6681 - 9s - loss: 4.6854 - val_loss: 2.5538\n",
      "Epoch 35/60\n",
      "6681/6681 - 9s - loss: 4.5680 - val_loss: 2.6309\n",
      "Epoch 36/60\n",
      "6681/6681 - 10s - loss: 4.6106 - val_loss: 2.6698\n",
      "Epoch 37/60\n",
      "6681/6681 - 9s - loss: 4.3563 - val_loss: 2.8108\n",
      "Epoch 38/60\n",
      "6681/6681 - 9s - loss: 4.3907 - val_loss: 2.9748\n",
      "Epoch 39/60\n",
      "6681/6681 - 9s - loss: 4.3280 - val_loss: 2.8358\n",
      "Epoch 40/60\n",
      "6681/6681 - 9s - loss: 4.5260 - val_loss: 2.6923\n",
      "Epoch 41/60\n",
      "6681/6681 - 9s - loss: 4.4256 - val_loss: 2.5480\n",
      "Epoch 42/60\n",
      "6681/6681 - 9s - loss: 4.3907 - val_loss: 2.5695\n",
      "Epoch 43/60\n",
      "6681/6681 - 9s - loss: 4.3276 - val_loss: 2.4959\n",
      "Epoch 44/60\n",
      "6681/6681 - 9s - loss: 4.2395 - val_loss: 2.7149\n",
      "Epoch 45/60\n",
      "6681/6681 - 9s - loss: 4.4132 - val_loss: 2.9094\n",
      "Epoch 46/60\n",
      "6681/6681 - 9s - loss: 4.2693 - val_loss: 2.5340\n",
      "Epoch 47/60\n",
      "6681/6681 - 9s - loss: 4.1862 - val_loss: 2.5266\n",
      "Epoch 48/60\n",
      "6681/6681 - 9s - loss: 4.2059 - val_loss: 2.9163\n",
      "Epoch 49/60\n",
      "6681/6681 - 9s - loss: 4.5719 - val_loss: 3.3356\n",
      "Epoch 50/60\n",
      "6681/6681 - 10s - loss: 4.3165 - val_loss: 3.0842\n",
      "Epoch 51/60\n",
      "6681/6681 - 10s - loss: 4.3380 - val_loss: 2.5905\n",
      "Epoch 52/60\n",
      "6681/6681 - 10s - loss: 4.2467 - val_loss: 2.5917\n",
      "Epoch 53/60\n",
      "6681/6681 - 10s - loss: 4.0950 - val_loss: 2.6694\n",
      "Epoch 54/60\n",
      "6681/6681 - 10s - loss: 4.0270 - val_loss: 2.6423\n",
      "Epoch 55/60\n",
      "6681/6681 - 9s - loss: 4.1366 - val_loss: 2.9359\n",
      "Epoch 56/60\n",
      "6681/6681 - 9s - loss: 4.2136 - val_loss: 3.3441\n",
      "Epoch 57/60\n",
      "6681/6681 - 9s - loss: 4.2717 - val_loss: 3.0286\n",
      "Epoch 58/60\n",
      "6681/6681 - 9s - loss: 4.1410 - val_loss: 2.5742\n",
      "Epoch 59/60\n",
      "6681/6681 - 9s - loss: 4.0808 - val_loss: 2.9858\n",
      "Epoch 60/60\n",
      "6681/6681 - 10s - loss: 4.1346 - val_loss: 3.0835\n"
     ]
    },
    {
     "data": {
      "image/png": "[encoded data removed]",
      "text/plain": [
       "<Figure size 432x288 with 1 Axes>"
      ]
     },
     "metadata": {
      "needs_background": "light"
     },
     "output_type": "display_data"
    }
   ],
   "source": [
    "simple_lstm_model_7 = tf.keras.models.Sequential([\n",
    "    tf.keras.layers.LSTM(64, input_shape=sequence.shape[-2:],\n",
    "                                             dropout=0.5,\n",
    "                     recurrent_dropout=0.5),\n",
    "    tf.keras.layers.Dense(128, activation='linear'),\n",
    "    tf.keras.layers.Dense(64, activation='linear'),\n",
    "    tf.keras.layers.Dense(1)\n",
    "])\n",
    "\n",
    "simple_lstm_model_7.compile(optimizer='adam', loss='mse')\n",
    "# 모델 학습\n",
    "hist = simple_lstm_model_7.fit(    \n",
    "    sequence, target,\n",
    "    epochs=60,\n",
    "    batch_size=128,\n",
    "    verbose=2,\n",
    "    shuffle=False,\n",
    "    callbacks = [callbacks],\n",
    "    validation_split = 0.2\n",
    ")\n",
    "\n",
    "# 시각화\n",
    "loss = hist.history['loss'][5:]\n",
    "val_loss = hist.history['val_loss'][5:]\n",
    "\n",
    "epochs = range(1, len(loss) + 1)\n",
    "\n",
    "plt.figure()\n",
    "\n",
    "plt.plot(epochs, loss, 'bo', label='Training loss')\n",
    "plt.plot(epochs, val_loss, 'b', label='Validation loss')\n",
    "plt.title('Training and validation loss')\n",
    "plt.legend()\n",
    "\n",
    "plt.show()"
   ]
  },
  {
   "cell_type": "code",
   "execution_count": 39,
   "metadata": {},
   "outputs": [
    {
     "data": {
      "image/png": "[encoded data removed]",
      "text/plain": [
       "<Figure size 432x288 with 1 Axes>"
      ]
     },
     "metadata": {
      "needs_background": "light"
     },
     "output_type": "display_data"
    }
   ],
   "source": [
    "plt.plot(simple_lstm_model_7.predict(X_test))\n",
    "plt.show()"
   ]
  },
  {
   "cell_type": "markdown",
   "metadata": {},
   "source": [
    "# 모델 검증 "
   ]
  },
  {
   "cell_type": "markdown",
   "metadata": {},
   "source": [
    "# 예측"
   ]
  },
  {
   "cell_type": "markdown",
   "metadata": {},
   "source": [
    "# submission 만들기"
   ]
  }
 ],
 "metadata": {
  "kernelspec": {
   "display_name": "Python 3",
   "language": "python",
   "name": "python3"
  },
  "language_info": {
   "codemirror_mode": {
    "name": "ipython",
    "version": 3
   },
   "file_extension": ".py",
   "mimetype": "text/x-python",
   "name": "python",
   "nbconvert_exporter": "python",
   "pygments_lexer": "ipython3",
   "version": "3.7.3"
  }
 },
 "nbformat": 4,
 "nbformat_minor": 4
}
